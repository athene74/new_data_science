{
 "cells": [
  {
   "cell_type": "code",
   "execution_count": 48,
   "id": "9a10e7f2-5322-46a0-9123-3d153e4cdd1b",
   "metadata": {},
   "outputs": [],
   "source": [
    "import numpy as np\n",
    "import pandas as pd\n",
    "import seaborn as sns\n",
    "import matplotlib.pyplot as plt\n",
    "from matplotlib import font_manager,rc\n",
    "from IPython.display import display, HTML\n",
    "# 한글 폰트\n",
    "font_location = \"C:\\Windows\\Fonts\\malgun.ttf\"\n",
    "font_name = font_manager.FontProperties(fname=font_location).get_name()\n",
    "rc('font',family=font_name)"
   ]
  },
  {
   "cell_type": "code",
   "execution_count": 49,
   "id": "6e295c48-ce4b-448b-9292-e58b67d7174b",
   "metadata": {},
   "outputs": [],
   "source": [
    "def display_wide(df1, df2):\n",
    "    display(HTML(\n",
    "    f\"\"\"\n",
    "    <div style=\"display: flex;\">\n",
    "        <div style=\"margin-right: 20px;\">\n",
    "            {df1.to_html()}\n",
    "        </div>\n",
    "        <div>\n",
    "            {df2.to_html()}\n",
    "        </div>\n",
    "    </div>\n",
    "    \"\"\"\n",
    "))"
   ]
  },
  {
   "cell_type": "markdown",
   "id": "35828759-549a-40e3-b410-0d9fc173c56f",
   "metadata": {},
   "source": [
    "# 이상치를 포함한 수치형 데이터 생성"
   ]
  },
  {
   "cell_type": "code",
   "execution_count": 50,
   "id": "acbfcff4-a6cc-42a5-8e44-5b2ab8ccccc7",
   "metadata": {},
   "outputs": [
    {
     "data": {
      "text/html": [
       "<div>\n",
       "<style scoped>\n",
       "    .dataframe tbody tr th:only-of-type {\n",
       "        vertical-align: middle;\n",
       "    }\n",
       "\n",
       "    .dataframe tbody tr th {\n",
       "        vertical-align: top;\n",
       "    }\n",
       "\n",
       "    .dataframe thead th {\n",
       "        text-align: right;\n",
       "    }\n",
       "</style>\n",
       "<table border=\"1\" class=\"dataframe\">\n",
       "  <thead>\n",
       "    <tr style=\"text-align: right;\">\n",
       "      <th></th>\n",
       "      <th>상품명</th>\n",
       "      <th>가격</th>\n",
       "      <th>판매량</th>\n",
       "    </tr>\n",
       "  </thead>\n",
       "  <tbody>\n",
       "    <tr>\n",
       "      <th>0</th>\n",
       "      <td>모자</td>\n",
       "      <td>44534</td>\n",
       "      <td>72</td>\n",
       "    </tr>\n",
       "    <tr>\n",
       "      <th>1</th>\n",
       "      <td>가방</td>\n",
       "      <td>39818</td>\n",
       "      <td>144</td>\n",
       "    </tr>\n",
       "    <tr>\n",
       "      <th>2</th>\n",
       "      <td>바지</td>\n",
       "      <td>44695</td>\n",
       "      <td>105</td>\n",
       "    </tr>\n",
       "    <tr>\n",
       "      <th>3</th>\n",
       "      <td>바지</td>\n",
       "      <td>38888</td>\n",
       "      <td>85</td>\n",
       "    </tr>\n",
       "    <tr>\n",
       "      <th>4</th>\n",
       "      <td>바지</td>\n",
       "      <td>39874</td>\n",
       "      <td>154</td>\n",
       "    </tr>\n",
       "  </tbody>\n",
       "</table>\n",
       "</div>"
      ],
      "text/plain": [
       "  상품명     가격  판매량\n",
       "0  모자  44534   72\n",
       "1  가방  39818  144\n",
       "2  바지  44695  105\n",
       "3  바지  38888   85\n",
       "4  바지  39874  154"
      ]
     },
     "execution_count": 50,
     "metadata": {},
     "output_type": "execute_result"
    }
   ],
   "source": [
    "# Setting the random seed for reproducibility\n",
    "np.random.seed(0)\n",
    "\n",
    "# Creating 100 rows of data with 3 columns\n",
    "data = {\n",
    "    '상품명': np.random.choice(['가방', '신발', '티셔츠', '바지', '모자'], size=100),  # Column '상품명': Categorical data\n",
    "    '가격': np.random.normal(loc=50000, scale=15000, size=100).astype(int),  # Column '가격': Normally distributed data as integers\n",
    "    '판매량': np.random.normal(loc=100, scale=30, size=100).astype(int)  # Column '판매량': Normally distributed data as integers\n",
    "}\n",
    "\n",
    "# Introducing some extreme outliers\n",
    "data['가격'][[5, 15, 50]] = [200000, 200001, 150000]\n",
    "data['판매량'][[20, 70]] = [-50, 400]\n",
    "\n",
    "# Creating a DataFrame\n",
    "df = pd.DataFrame(data)\n",
    "df.head()"
   ]
  },
  {
   "cell_type": "markdown",
   "id": "c2df9100-02e3-4e7c-bcfa-1d59ed407c8f",
   "metadata": {},
   "source": [
    "# 초기데이터 기초 통계 확인"
   ]
  },
  {
   "cell_type": "code",
   "execution_count": 51,
   "id": "098e8c85-226f-4610-b933-926deabbca3c",
   "metadata": {},
   "outputs": [
    {
     "data": {
      "text/html": [
       "<div>\n",
       "<style scoped>\n",
       "    .dataframe tbody tr th:only-of-type {\n",
       "        vertical-align: middle;\n",
       "    }\n",
       "\n",
       "    .dataframe tbody tr th {\n",
       "        vertical-align: top;\n",
       "    }\n",
       "\n",
       "    .dataframe thead th {\n",
       "        text-align: right;\n",
       "    }\n",
       "</style>\n",
       "<table border=\"1\" class=\"dataframe\">\n",
       "  <thead>\n",
       "    <tr style=\"text-align: right;\">\n",
       "      <th></th>\n",
       "      <th>가격</th>\n",
       "      <th>판매량</th>\n",
       "    </tr>\n",
       "  </thead>\n",
       "  <tbody>\n",
       "    <tr>\n",
       "      <th>count</th>\n",
       "      <td>100.000000</td>\n",
       "      <td>100.000000</td>\n",
       "    </tr>\n",
       "    <tr>\n",
       "      <th>mean</th>\n",
       "      <td>54819.700000</td>\n",
       "      <td>97.090000</td>\n",
       "    </tr>\n",
       "    <tr>\n",
       "      <th>std</th>\n",
       "      <td>27579.832585</td>\n",
       "      <td>44.782774</td>\n",
       "    </tr>\n",
       "    <tr>\n",
       "      <th>min</th>\n",
       "      <td>20138.000000</td>\n",
       "      <td>-50.000000</td>\n",
       "    </tr>\n",
       "    <tr>\n",
       "      <th>25%</th>\n",
       "      <td>39860.000000</td>\n",
       "      <td>76.750000</td>\n",
       "    </tr>\n",
       "    <tr>\n",
       "      <th>50%</th>\n",
       "      <td>52065.500000</td>\n",
       "      <td>94.000000</td>\n",
       "    </tr>\n",
       "    <tr>\n",
       "      <th>75%</th>\n",
       "      <td>63799.250000</td>\n",
       "      <td>115.750000</td>\n",
       "    </tr>\n",
       "    <tr>\n",
       "      <th>max</th>\n",
       "      <td>200001.000000</td>\n",
       "      <td>400.000000</td>\n",
       "    </tr>\n",
       "  </tbody>\n",
       "</table>\n",
       "</div>"
      ],
      "text/plain": [
       "                  가격         판매량\n",
       "count     100.000000  100.000000\n",
       "mean    54819.700000   97.090000\n",
       "std     27579.832585   44.782774\n",
       "min     20138.000000  -50.000000\n",
       "25%     39860.000000   76.750000\n",
       "50%     52065.500000   94.000000\n",
       "75%     63799.250000  115.750000\n",
       "max    200001.000000  400.000000"
      ]
     },
     "execution_count": 51,
     "metadata": {},
     "output_type": "execute_result"
    }
   ],
   "source": [
    "df.describe()"
   ]
  },
  {
   "cell_type": "markdown",
   "id": "6e8a6cf4-9fe3-4db5-8377-e68b3a24f108",
   "metadata": {},
   "source": [
    "# 초기데이터 시각화"
   ]
  },
  {
   "cell_type": "code",
   "execution_count": 52,
   "id": "8cdf412d-5903-447c-897d-4a6885b3c494",
   "metadata": {},
   "outputs": [
    {
     "name": "stderr",
     "output_type": "stream",
     "text": [
      "C:\\Users\\user\\anaconda3\\Lib\\site-packages\\seaborn\\_oldcore.py:1119: FutureWarning: use_inf_as_na option is deprecated and will be removed in a future version. Convert inf values to NaN before operating instead.\n",
      "  with pd.option_context('mode.use_inf_as_na', True):\n"
     ]
    },
    {
     "data": {
      "text/plain": [
       "Text(0.5, 1.0, '가격 히스토그램')"
      ]
     },
     "execution_count": 52,
     "metadata": {},
     "output_type": "execute_result"
    },
    {
     "data": {
      "image/png": "[encoded data removed]",
      "text/plain": [
       "<Figure size 1400x1000 with 1 Axes>"
      ]
     },
     "metadata": {},
     "output_type": "display_data"
    }
   ],
   "source": [
    "plt.figure(figsize=(14, 10))\n",
    "\n",
    "# Histogram for '가격'\n",
    "plt.subplot(2, 2, 1)\n",
    "sns.histplot(df['가격'], kde=True)\n",
    "plt.title('가격 히스토그램')"
   ]
  },
  {
   "cell_type": "code",
   "execution_count": 53,
   "id": "09fa25b5-ff49-455a-acbc-62e77da55874",
   "metadata": {},
   "outputs": [
    {
     "name": "stderr",
     "output_type": "stream",
     "text": [
      "C:\\Users\\user\\anaconda3\\Lib\\site-packages\\seaborn\\_oldcore.py:1119: FutureWarning: use_inf_as_na option is deprecated and will be removed in a future version. Convert inf values to NaN before operating instead.\n",
      "  with pd.option_context('mode.use_inf_as_na', True):\n"
     ]
    },
    {
     "data": {
      "text/plain": [
       "Text(0.5, 1.0, '판매량 히스토그램')"
      ]
     },
     "execution_count": 53,
     "metadata": {},
     "output_type": "execute_result"
    },
    {
     "data": {
      "image/png": "[encoded data removed]",
      "text/plain": [
       "<Figure size 1400x1000 with 1 Axes>"
      ]
     },
     "metadata": {},
     "output_type": "display_data"
    }
   ],
   "source": [
    "plt.figure(figsize=(14, 10))\n",
    "\n",
    "# Histogram for '판매량'\n",
    "plt.subplot(2, 2, 1)\n",
    "sns.histplot(df['판매량'], kde=True)\n",
    "plt.title('판매량 히스토그램')"
   ]
  },
  {
   "cell_type": "markdown",
   "id": "1540fc7d-e42f-4708-89eb-7120790fa981",
   "metadata": {},
   "source": [
    "# 이상치 식별"
   ]
  },
  {
   "cell_type": "code",
   "execution_count": 54,
   "id": "f2d174cd-16d5-4bc9-900f-96774654fc3c",
   "metadata": {},
   "outputs": [],
   "source": [
    "# Function to find outliers using Z-score\n",
    "def find_outliers(df, threshold=3):\n",
    "    numeric_df = df.select_dtypes(include=[np.number])\n",
    "    z_scores = np.abs((numeric_df - numeric_df.mean()) / numeric_df.std())\n",
    "    outliers = (z_scores > threshold).any(axis=1)\n",
    "    return df[outliers]"
   ]
  },
  {
   "cell_type": "code",
   "execution_count": 55,
   "id": "6abf5a7e-b1df-4cc4-a184-e37359b866ac",
   "metadata": {},
   "outputs": [
    {
     "data": {
      "text/html": [
       "<div>\n",
       "<style scoped>\n",
       "    .dataframe tbody tr th:only-of-type {\n",
       "        vertical-align: middle;\n",
       "    }\n",
       "\n",
       "    .dataframe tbody tr th {\n",
       "        vertical-align: top;\n",
       "    }\n",
       "\n",
       "    .dataframe thead th {\n",
       "        text-align: right;\n",
       "    }\n",
       "</style>\n",
       "<table border=\"1\" class=\"dataframe\">\n",
       "  <thead>\n",
       "    <tr style=\"text-align: right;\">\n",
       "      <th></th>\n",
       "      <th>상품명</th>\n",
       "      <th>가격</th>\n",
       "      <th>판매량</th>\n",
       "    </tr>\n",
       "  </thead>\n",
       "  <tbody>\n",
       "    <tr>\n",
       "      <th>5</th>\n",
       "      <td>신발</td>\n",
       "      <td>200000</td>\n",
       "      <td>31</td>\n",
       "    </tr>\n",
       "    <tr>\n",
       "      <th>15</th>\n",
       "      <td>신발</td>\n",
       "      <td>200001</td>\n",
       "      <td>118</td>\n",
       "    </tr>\n",
       "    <tr>\n",
       "      <th>20</th>\n",
       "      <td>바지</td>\n",
       "      <td>63878</td>\n",
       "      <td>-50</td>\n",
       "    </tr>\n",
       "    <tr>\n",
       "      <th>50</th>\n",
       "      <td>신발</td>\n",
       "      <td>150000</td>\n",
       "      <td>79</td>\n",
       "    </tr>\n",
       "    <tr>\n",
       "      <th>70</th>\n",
       "      <td>모자</td>\n",
       "      <td>55406</td>\n",
       "      <td>400</td>\n",
       "    </tr>\n",
       "  </tbody>\n",
       "</table>\n",
       "</div>"
      ],
      "text/plain": [
       "   상품명      가격  판매량\n",
       "5   신발  200000   31\n",
       "15  신발  200001  118\n",
       "20  바지   63878  -50\n",
       "50  신발  150000   79\n",
       "70  모자   55406  400"
      ]
     },
     "execution_count": 55,
     "metadata": {},
     "output_type": "execute_result"
    }
   ],
   "source": [
    "outliers_df = find_outliers(df)\n",
    "outliers_df"
   ]
  },
  {
   "cell_type": "code",
   "execution_count": 56,
   "id": "957bf444-a57a-4bd6-a73d-98be25165853",
   "metadata": {},
   "outputs": [
    {
     "data": {
      "text/html": [
       "<div>\n",
       "<style scoped>\n",
       "    .dataframe tbody tr th:only-of-type {\n",
       "        vertical-align: middle;\n",
       "    }\n",
       "\n",
       "    .dataframe tbody tr th {\n",
       "        vertical-align: top;\n",
       "    }\n",
       "\n",
       "    .dataframe thead th {\n",
       "        text-align: right;\n",
       "    }\n",
       "</style>\n",
       "<table border=\"1\" class=\"dataframe\">\n",
       "  <thead>\n",
       "    <tr style=\"text-align: right;\">\n",
       "      <th></th>\n",
       "      <th>상품명</th>\n",
       "      <th>가격</th>\n",
       "      <th>판매량</th>\n",
       "    </tr>\n",
       "  </thead>\n",
       "  <tbody>\n",
       "    <tr>\n",
       "      <th>65</th>\n",
       "      <td>신발</td>\n",
       "      <td>56527</td>\n",
       "      <td>-5</td>\n",
       "    </tr>\n",
       "  </tbody>\n",
       "</table>\n",
       "</div>"
      ],
      "text/plain": [
       "   상품명     가격  판매량\n",
       "65  신발  56527   -5"
      ]
     },
     "execution_count": 56,
     "metadata": {},
     "output_type": "execute_result"
    }
   ],
   "source": [
    "cleaned_df = df.drop(outliers_df.index)\n",
    "find_outliers(cleaned_df)"
   ]
  },
  {
   "cell_type": "code",
   "execution_count": 57,
   "id": "6d12dd7a-8d88-43f9-9841-42a0adc8efce",
   "metadata": {},
   "outputs": [
    {
     "data": {
      "text/html": [
       "<div>\n",
       "<style scoped>\n",
       "    .dataframe tbody tr th:only-of-type {\n",
       "        vertical-align: middle;\n",
       "    }\n",
       "\n",
       "    .dataframe tbody tr th {\n",
       "        vertical-align: top;\n",
       "    }\n",
       "\n",
       "    .dataframe thead th {\n",
       "        text-align: right;\n",
       "    }\n",
       "</style>\n",
       "<table border=\"1\" class=\"dataframe\">\n",
       "  <thead>\n",
       "    <tr style=\"text-align: right;\">\n",
       "      <th></th>\n",
       "      <th>상품명</th>\n",
       "      <th>가격</th>\n",
       "      <th>판매량</th>\n",
       "    </tr>\n",
       "  </thead>\n",
       "  <tbody>\n",
       "  </tbody>\n",
       "</table>\n",
       "</div>"
      ],
      "text/plain": [
       "Empty DataFrame\n",
       "Columns: [상품명, 가격, 판매량]\n",
       "Index: []"
      ]
     },
     "execution_count": 57,
     "metadata": {},
     "output_type": "execute_result"
    }
   ],
   "source": [
    "cleaned_df.drop(index=[65], inplace=True)\n",
    "find_outliers(cleaned_df)"
   ]
  },
  {
   "cell_type": "markdown",
   "id": "c7971d8d-7c86-4d53-b95f-bebfb7c05d6b",
   "metadata": {},
   "source": [
    "# 이상치 제거 후 기초통계 및 시각화 재확인"
   ]
  },
  {
   "cell_type": "code",
   "execution_count": 58,
   "id": "fc057d89-5906-4fc0-9665-d2ce51210a21",
   "metadata": {},
   "outputs": [
    {
     "data": {
      "text/plain": [
       "<function IPython.core.display_functions.display(*objs, include=None, exclude=None, metadata=None, transient=None, display_id=None, raw=False, clear=False, **kwargs)>"
      ]
     },
     "execution_count": 58,
     "metadata": {},
     "output_type": "execute_result"
    }
   ],
   "source": [
    "display"
   ]
  },
  {
   "cell_type": "code",
   "execution_count": 59,
   "id": "8124b49f-e5c6-4eff-90bf-2a47f9bd99a6",
   "metadata": {},
   "outputs": [
    {
     "name": "stderr",
     "output_type": "stream",
     "text": [
      "C:\\Users\\user\\anaconda3\\Lib\\site-packages\\seaborn\\_oldcore.py:1119: FutureWarning: use_inf_as_na option is deprecated and will be removed in a future version. Convert inf values to NaN before operating instead.\n",
      "  with pd.option_context('mode.use_inf_as_na', True):\n"
     ]
    },
    {
     "data": {
      "text/plain": [
       "Text(0.5, 1.0, '가격 히스토그램')"
      ]
     },
     "execution_count": 59,
     "metadata": {},
     "output_type": "execute_result"
    },
    {
     "data": {
      "image/png": "[encoded data removed]",
      "text/plain": [
       "<Figure size 1400x1000 with 1 Axes>"
      ]
     },
     "metadata": {},
     "output_type": "display_data"
    }
   ],
   "source": [
    "plt.figure(figsize=(14, 10))\n",
    "\n",
    "# Histogram for '가격'\n",
    "plt.subplot(2, 2, 1)\n",
    "sns.histplot(cleaned_df['가격'], kde=True)\n",
    "plt.title('가격 히스토그램')"
   ]
  },
  {
   "cell_type": "code",
   "execution_count": 60,
   "id": "836c5348-d9eb-484d-8263-85bbc0f6ea85",
   "metadata": {},
   "outputs": [
    {
     "name": "stderr",
     "output_type": "stream",
     "text": [
      "C:\\Users\\user\\anaconda3\\Lib\\site-packages\\seaborn\\_oldcore.py:1119: FutureWarning: use_inf_as_na option is deprecated and will be removed in a future version. Convert inf values to NaN before operating instead.\n",
      "  with pd.option_context('mode.use_inf_as_na', True):\n"
     ]
    },
    {
     "data": {
      "text/plain": [
       "Text(0.5, 1.0, '판매량 히스토그램')"
      ]
     },
     "execution_count": 60,
     "metadata": {},
     "output_type": "execute_result"
    },
    {
     "data": {
      "image/png": "[encoded data removed]",
      "text/plain": [
       "<Figure size 1400x1000 with 1 Axes>"
      ]
     },
     "metadata": {},
     "output_type": "display_data"
    }
   ],
   "source": [
    "plt.figure(figsize=(14, 10))\n",
    "\n",
    "# Histogram for '판매량'\n",
    "plt.subplot(2, 2, 1)\n",
    "sns.histplot(cleaned_df['판매량'], kde=True)\n",
    "plt.title('판매량 히스토그램')"
   ]
  },
  {
   "cell_type": "markdown",
   "id": "d0051ca3-bd6c-4c98-82cf-3638a66884b2",
   "metadata": {},
   "source": [
    "* 추후에도 이상치가 확인되면 삭제작업을 반복한다."
   ]
  }
 ],
 "metadata": {
  "kernelspec": {
   "display_name": "Python 3 (ipykernel)",
   "language": "python",
   "name": "python3"
  },
  "language_info": {
   "codemirror_mode": {
    "name": "ipython",
    "version": 3
   },
   "file_extension": ".py",
   "mimetype": "text/x-python",
   "name": "python",
   "nbconvert_exporter": "python",
   "pygments_lexer": "ipython3",
   "version": "3.11.7"
  }
 },
 "nbformat": 4,
 "nbformat_minor": 5
}
