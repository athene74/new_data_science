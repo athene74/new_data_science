{
 "cells": [
  {
   "cell_type": "markdown",
   "id": "9174cc3a-6e5f-4b32-af11-0e2de1632255",
   "metadata": {},
   "source": [
    "# Dot"
   ]
  },
  {
   "cell_type": "markdown",
   "id": "f241ec9d-acdf-4a2a-9792-8007b38c6be0",
   "metadata": {},
   "source": [
    "* 정규 표현식의 Dot(.) 메타 문자는 줄바꿈 문자인 \\n을 제외한 모든 문자와 매치"
   ]
  },
  {
   "cell_type": "markdown",
   "id": "5d2aa42e-3cf7-4593-8d11-e52cbc73ddf5",
   "metadata": {},
   "source": [
    "* 확인"
   ]
  },
  {
   "cell_type": "code",
   "execution_count": 2,
   "id": "a0f6d82e-9dee-4d0c-bce9-751ca56d4516",
   "metadata": {},
   "outputs": [],
   "source": [
    "import re"
   ]
  },
  {
   "cell_type": "code",
   "execution_count": 3,
   "id": "7c4bfb47-2f54-4e51-ba29-66fbc1b6fa0a",
   "metadata": {},
   "outputs": [
    {
     "data": {
      "text/plain": [
       "<re.Match object; span=(0, 1), match='a'>"
      ]
     },
     "execution_count": 3,
     "metadata": {},
     "output_type": "execute_result"
    }
   ],
   "source": [
    "p = re.compile('.')\n",
    "p.match('a')"
   ]
  },
  {
   "cell_type": "code",
   "execution_count": 4,
   "id": "fc1c3219-11bd-42f4-bb98-6647b01c4140",
   "metadata": {},
   "outputs": [
    {
     "data": {
      "text/plain": [
       "<re.Match object; span=(0, 1), match='K'>"
      ]
     },
     "execution_count": 4,
     "metadata": {},
     "output_type": "execute_result"
    }
   ],
   "source": [
    "p = re.compile('.')\n",
    "p.match('K')"
   ]
  },
  {
   "cell_type": "code",
   "execution_count": 5,
   "id": "d32697cc-ff03-40b9-8279-9421593b74a1",
   "metadata": {},
   "outputs": [
    {
     "data": {
      "text/plain": [
       "<re.Match object; span=(0, 1), match='0'>"
      ]
     },
     "execution_count": 5,
     "metadata": {},
     "output_type": "execute_result"
    }
   ],
   "source": [
    "p = re.compile('.')\n",
    "p.match('0')"
   ]
  },
  {
   "cell_type": "markdown",
   "id": "01472c34-a7bd-40a9-9466-0148e4c2cffc",
   "metadata": {},
   "source": [
    "* 일반 문자와 조합"
   ]
  },
  {
   "cell_type": "code",
   "execution_count": 6,
   "id": "941278fd-e55e-4c43-b29d-dfd2ba96fed2",
   "metadata": {},
   "outputs": [
    {
     "data": {
      "text/plain": [
       "<re.Match object; span=(0, 3), match='aab'>"
      ]
     },
     "execution_count": 6,
     "metadata": {},
     "output_type": "execute_result"
    }
   ],
   "source": [
    "p = re.compile('a.b')\n",
    "p.match('aab')"
   ]
  },
  {
   "cell_type": "code",
   "execution_count": 7,
   "id": "ffd32736-fe1f-41fd-928f-dc10499a3b98",
   "metadata": {},
   "outputs": [
    {
     "data": {
      "text/plain": [
       "<re.Match object; span=(0, 3), match='a0b'>"
      ]
     },
     "execution_count": 7,
     "metadata": {},
     "output_type": "execute_result"
    }
   ],
   "source": [
    "p = re.compile('a.b')\n",
    "p.match('a0b')"
   ]
  },
  {
   "cell_type": "code",
   "execution_count": 8,
   "id": "59162003-e838-49f1-82d5-3b1b7d08cba2",
   "metadata": {},
   "outputs": [
    {
     "data": {
      "text/plain": [
       "<re.Match object; span=(0, 3), match='aKb'>"
      ]
     },
     "execution_count": 8,
     "metadata": {},
     "output_type": "execute_result"
    }
   ],
   "source": [
    "p = re.compile('a.b')\n",
    "p.match('aKb')"
   ]
  },
  {
   "cell_type": "code",
   "execution_count": 9,
   "id": "87c662a5-a3e4-45b0-90cb-a471fb1eaf8c",
   "metadata": {},
   "outputs": [],
   "source": [
    "p = re.compile('a-c') # - 은 문자열 클래스 일 경우에 앞뒤가 from to의 의미이고 여기서는 일반 문자로 처리\n",
    "p.match('abc')"
   ]
  },
  {
   "cell_type": "code",
   "execution_count": 11,
   "id": "b10a859e-0cab-45b7-84ad-6915734bf8e6",
   "metadata": {},
   "outputs": [
    {
     "data": {
      "text/plain": [
       "<re.Match object; span=(0, 3), match='a-c'>"
      ]
     },
     "execution_count": 11,
     "metadata": {},
     "output_type": "execute_result"
    }
   ],
   "source": [
    "p = re.compile('a-c') # - 은 문자열 클래스 일 경우에 앞뒤가 from to의 의미이고 여기서는 일반 문자로 처리\n",
    "p.match('a-c')"
   ]
  },
  {
   "cell_type": "code",
   "execution_count": 10,
   "id": "42c9ba22-df3e-4c23-af90-174c8f824f65",
   "metadata": {},
   "outputs": [],
   "source": [
    "p = re.compile('a[.]c') # 원본 문자열에서 두번째의 문자가 모든 문자를 허용하는 것이 아니고\n",
    "# 문자열 클래스에서 .은 문자 . 이다.\n",
    "p.match('abc')"
   ]
  },
  {
   "cell_type": "code",
   "execution_count": 12,
   "id": "e38f3d94-74dc-4c8a-9aba-b8a53861d361",
   "metadata": {},
   "outputs": [
    {
     "data": {
      "text/plain": [
       "<re.Match object; span=(0, 3), match='a.c'>"
      ]
     },
     "execution_count": 12,
     "metadata": {},
     "output_type": "execute_result"
    }
   ],
   "source": [
    "p = re.compile('a[.]c') # 원본 문자열에서 두번째의 문자가 모든 문자를 허용하는 것이 아니고\n",
    "# 문자열 클래스에서 .은 문자 . 이다.\n",
    "p.match('a.c')"
   ]
  },
  {
   "cell_type": "code",
   "execution_count": 12,
   "id": "9578df00-530f-48d1-a17e-bcbbb094b6f4",
   "metadata": {},
   "outputs": [],
   "source": [
    "p = re.compile('a..[.]txt') # a로 시작하는 화일이름이 3글자, 그리고 확장자가 txt인 문자\n",
    "p.match('a.c')"
   ]
  },
  {
   "cell_type": "code",
   "execution_count": 14,
   "id": "1db25d71-9375-43ef-b3b9-6bfb90cee679",
   "metadata": {},
   "outputs": [],
   "source": [
    "p = re.compile('a..[.]txt') # a로 시작하는 화일이름이 3글자, 그리고 확장자가 txt인 문자\n",
    "p.match('abc.c')"
   ]
  },
  {
   "cell_type": "code",
   "execution_count": 15,
   "id": "3647f583-ba04-46f0-b64f-11cda56978a2",
   "metadata": {},
   "outputs": [
    {
     "data": {
      "text/plain": [
       "<re.Match object; span=(0, 7), match='abc.txt'>"
      ]
     },
     "execution_count": 15,
     "metadata": {},
     "output_type": "execute_result"
    }
   ],
   "source": [
    "p = re.compile('a..[.]txt') # a로 시작하는 화일이름이 3글자, 그리고 확장자가 txt인 문자\n",
    "p.match('abc.txt')"
   ]
  },
  {
   "cell_type": "code",
   "execution_count": 16,
   "id": "0a79f130-c632-43d6-8e7e-3422397a992a",
   "metadata": {},
   "outputs": [],
   "source": [
    "p = re.compile('a..[.]txt') # a로 시작하는 화일이름이 3글자, 그리고 확장자가 txt인 문자\n",
    "p.match('abc.tx')"
   ]
  },
  {
   "cell_type": "code",
   "execution_count": 17,
   "id": "8b91703c-8ca3-4363-9ce6-c36bdd9b9c1b",
   "metadata": {},
   "outputs": [],
   "source": [
    "p = re.compile('a..[.]txt') # a로 시작하는 화일이름이 3글자, 그리고 확장자가 txt인 문자\n",
    "p.match('abcd.txt')"
   ]
  },
  {
   "cell_type": "code",
   "execution_count": 18,
   "id": "3cfe8d71-6a29-47cd-b043-90c41a006544",
   "metadata": {},
   "outputs": [
    {
     "data": {
      "text/plain": [
       "<re.Match object; span=(0, 3), match='bye'>"
      ]
     },
     "execution_count": 18,
     "metadata": {},
     "output_type": "execute_result"
    }
   ],
   "source": [
    "p = re.compile('...')\n",
    "p.match('bye!')"
   ]
  },
  {
   "cell_type": "code",
   "execution_count": 19,
   "id": "c757b572-dd75-4c3b-acf3-1a66020ade66",
   "metadata": {},
   "outputs": [],
   "source": [
    "p = re.compile('.....')\n",
    "p.match('bye!')"
   ]
  },
  {
   "cell_type": "code",
   "execution_count": 20,
   "id": "21818062-8248-4888-b72e-9b15599b7bf7",
   "metadata": {},
   "outputs": [
    {
     "data": {
      "text/plain": [
       "<re.Match object; span=(0, 13), match='010-2323-8473'>"
      ]
     },
     "execution_count": 20,
     "metadata": {},
     "output_type": "execute_result"
    }
   ],
   "source": [
    "p = re.compile('...-....-....')\n",
    "p.match('010-2323-8473')"
   ]
  },
  {
   "cell_type": "code",
   "execution_count": null,
   "id": "da728dda-0a29-4f2d-833a-13f533ead615",
   "metadata": {},
   "outputs": [],
   "source": [
    "p = re.compile('...-....-....')\n",
    "p.match('010-232-8473')"
   ]
  },
  {
   "cell_type": "markdown",
   "id": "088eae9e-2cac-4f57-ae51-d98ca29f1352",
   "metadata": {},
   "source": [
    "---"
   ]
  },
  {
   "cell_type": "markdown",
   "id": "e3bcf1ce-203d-4c6d-bce0-d119917cc070",
   "metadata": {},
   "source": [
    "# 반복 (*)"
   ]
  },
  {
   "cell_type": "markdown",
   "id": "fd4debca-6c9b-476e-bdcb-209c1ad2dc57",
   "metadata": {},
   "source": [
    "* '*'는 바로 앞에 있는 문자가 0부터 무한대로 반복  \n",
    "  (무한대 이지만 메모리 제한으로 2억개 정도 가능)"
   ]
  },
  {
   "cell_type": "code",
   "execution_count": 21,
   "id": "88d4d00d-db00-4326-b1b5-618fb9aac7d9",
   "metadata": {},
   "outputs": [
    {
     "data": {
      "text/plain": [
       "<re.Match object; span=(0, 6), match='google'>"
      ]
     },
     "execution_count": 21,
     "metadata": {},
     "output_type": "execute_result"
    }
   ],
   "source": [
    "p = re.compile('google')\n",
    "p.match('google')"
   ]
  },
  {
   "cell_type": "code",
   "execution_count": 22,
   "id": "70c760d2-59f9-43a6-bf9f-b2099ef4ba33",
   "metadata": {},
   "outputs": [
    {
     "data": {
      "text/plain": [
       "<re.Match object; span=(0, 6), match='google'>"
      ]
     },
     "execution_count": 22,
     "metadata": {},
     "output_type": "execute_result"
    }
   ],
   "source": [
    "p = re.compile('go*gle') # 원본 문자열에서 두번째 문자가 o가 없거나 여러개와도 되는 것을 허용\n",
    "p.match('google')"
   ]
  },
  {
   "cell_type": "code",
   "execution_count": 23,
   "id": "963a0b0a-f41a-4bd1-b4fd-e7a0a735770f",
   "metadata": {},
   "outputs": [
    {
     "data": {
      "text/plain": [
       "<re.Match object; span=(0, 5), match='gogle'>"
      ]
     },
     "execution_count": 23,
     "metadata": {},
     "output_type": "execute_result"
    }
   ],
   "source": [
    "p = re.compile('go*gle') # 원본 문자열에서 두번째 문자가 o가 없거나 여러개(0,1,2,3,4 ....)와도 되는 것을 허용\n",
    "p.match('gogle')"
   ]
  },
  {
   "cell_type": "code",
   "execution_count": 24,
   "id": "f4bbd473-b700-4fd6-b38e-db91c64cd82e",
   "metadata": {},
   "outputs": [
    {
     "data": {
      "text/plain": [
       "<re.Match object; span=(0, 4), match='ggle'>"
      ]
     },
     "execution_count": 24,
     "metadata": {},
     "output_type": "execute_result"
    }
   ],
   "source": [
    "p = re.compile('go*gle') # 원본 문자열에서 두번째 문자가 o가 없거나 여러개(0,1,2,3,4 ....)와도 되는 것을 허용\n",
    "p.match('ggle')"
   ]
  },
  {
   "cell_type": "code",
   "execution_count": 25,
   "id": "aa93cfe4-5ecc-4061-8bf9-5c301d4f5f07",
   "metadata": {},
   "outputs": [
    {
     "data": {
      "text/plain": [
       "<re.Match object; span=(0, 7), match='gooogle'>"
      ]
     },
     "execution_count": 25,
     "metadata": {},
     "output_type": "execute_result"
    }
   ],
   "source": [
    "p = re.compile('go*gle') # 원본 문자열에서 두번째 문자가 o가 없거나 여러개(0,1,2,3,4 ....)와도 되는 것을 허용\n",
    "p.match('gooogle')"
   ]
  },
  {
   "cell_type": "code",
   "execution_count": 26,
   "id": "350f4151-380e-4190-98c5-ab83404cc31b",
   "metadata": {},
   "outputs": [
    {
     "data": {
      "text/plain": [
       "<re.Match object; span=(0, 39), match='gooooooooooooooooooooooooooooooooooogle'>"
      ]
     },
     "execution_count": 26,
     "metadata": {},
     "output_type": "execute_result"
    }
   ],
   "source": [
    "p = re.compile('go*gle') # 원본 문자열에서 두번째 문자가 o가 없거나 여러개(0,1,2,3,4 ....)와도 되는 것을 허용\n",
    "p.match('gooooooooooooooooooooooooooooooooooogle')"
   ]
  },
  {
   "cell_type": "markdown",
   "id": "cb83463c-f540-44fd-9e38-5afec881dc55",
   "metadata": {},
   "source": [
    "---"
   ]
  },
  {
   "cell_type": "markdown",
   "id": "19ba4cad-ba47-47c7-a2c9-41614baea88e",
   "metadata": {},
   "source": [
    "# 반복 (+)"
   ]
  },
  {
   "cell_type": "markdown",
   "id": "44508566-80f0-414a-84bf-91de3138f54b",
   "metadata": {},
   "source": [
    "* '+'는 바로 앞에 있는 문자가 1부터 무한대로 반복"
   ]
  },
  {
   "cell_type": "code",
   "execution_count": 21,
   "id": "596ad724-2a95-46e4-b660-5421ad176b47",
   "metadata": {},
   "outputs": [
    {
     "data": {
      "text/plain": [
       "<re.Match object; span=(0, 6), match='google'>"
      ]
     },
     "execution_count": 21,
     "metadata": {},
     "output_type": "execute_result"
    }
   ],
   "source": [
    "p = re.compile('google')\n",
    "p.match('google')"
   ]
  },
  {
   "cell_type": "code",
   "execution_count": 27,
   "id": "b8ea4c0d-7c82-406f-a4b1-a6f21092ac96",
   "metadata": {},
   "outputs": [
    {
     "data": {
      "text/plain": [
       "<re.Match object; span=(0, 6), match='google'>"
      ]
     },
     "execution_count": 27,
     "metadata": {},
     "output_type": "execute_result"
    }
   ],
   "source": [
    "p = re.compile('go+gle') # 원본 문자열에서 두번째 문자가 o가 없거나 여러개와도 되는 것을 허용\n",
    "p.match('google')"
   ]
  },
  {
   "cell_type": "code",
   "execution_count": 28,
   "id": "14a28840-7b09-42e9-8f8a-5a5ff57d5663",
   "metadata": {},
   "outputs": [
    {
     "data": {
      "text/plain": [
       "<re.Match object; span=(0, 5), match='gogle'>"
      ]
     },
     "execution_count": 28,
     "metadata": {},
     "output_type": "execute_result"
    }
   ],
   "source": [
    "p = re.compile('go+gle') # 원본 문자열에서 두번째 문자가 o가 없거나 여러개(0,1,2,3,4 ....)와도 되는 것을 허용\n",
    "p.match('gogle')"
   ]
  },
  {
   "cell_type": "code",
   "execution_count": 29,
   "id": "d2ccd1d4-2263-4bec-b087-46b4c5c91784",
   "metadata": {},
   "outputs": [],
   "source": [
    "p = re.compile('go+gle') # o문자가 없으므로 매치 X\n",
    "p.match('ggle')"
   ]
  },
  {
   "cell_type": "code",
   "execution_count": 30,
   "id": "ba608a8e-a002-42af-b8cc-5d32599e65ac",
   "metadata": {},
   "outputs": [
    {
     "data": {
      "text/plain": [
       "<re.Match object; span=(0, 7), match='gooogle'>"
      ]
     },
     "execution_count": 30,
     "metadata": {},
     "output_type": "execute_result"
    }
   ],
   "source": [
    "p = re.compile('go+gle') # 원본 문자열에서 두번째 문자가 o가 없거나 여러개(0,1,2,3,4 ....)와도 되는 것을 허용\n",
    "p.match('gooogle')"
   ]
  },
  {
   "cell_type": "code",
   "execution_count": 31,
   "id": "0d58559c-37d7-4a3c-a24d-71cd39a6e936",
   "metadata": {},
   "outputs": [
    {
     "data": {
      "text/plain": [
       "<re.Match object; span=(0, 39), match='gooooooooooooooooooooooooooooooooooogle'>"
      ]
     },
     "execution_count": 31,
     "metadata": {},
     "output_type": "execute_result"
    }
   ],
   "source": [
    "p = re.compile('go+gle') # 원본 문자열에서 두번째 문자가 o가 없거나 여러개(0,1,2,3,4 ....)와도 되는 것을 허용\n",
    "p.match('gooooooooooooooooooooooooooooooooooogle')"
   ]
  },
  {
   "cell_type": "markdown",
   "id": "a8b35ea0-d89d-4e93-b376-43b646a5c79f",
   "metadata": {},
   "source": [
    "---"
   ]
  },
  {
   "cell_type": "markdown",
   "id": "cdd2c975-247c-4b11-9cb4-68d4bab78deb",
   "metadata": {},
   "source": [
    "# 반복 {m,n}"
   ]
  },
  {
   "cell_type": "markdown",
   "id": "6cdf9416-e78a-4b39-a324-695786c7382b",
   "metadata": {},
   "source": [
    "* {m, n} 정규식을 사용하면 반복 횟수가 m부터 n까지 매치\n",
    "* m 또는 n을 생략할 수도 있다.\n",
    "* {3,}처럼 사용하면 반복 횟수가 3 이상인 경우이고 {,3}처럼 사용하면 반복 횟수가 3 이하를 의미\n",
    "* {3} 콤마 없이 단일 값을 입력하면 앞의 문자가 정확히 {}안의 숫자 만큼 반복되는 조건\n",
    "* {1,}은 +와 동일하고, {0,}은 *와 동일"
   ]
  },
  {
   "cell_type": "code",
   "execution_count": 33,
   "id": "c3923f12-e34b-4af9-b4a3-db7fc498bc1a",
   "metadata": {},
   "outputs": [
    {
     "data": {
      "text/plain": [
       "<re.Match object; span=(0, 6), match='google'>"
      ]
     },
     "execution_count": 33,
     "metadata": {},
     "output_type": "execute_result"
    }
   ],
   "source": [
    "p = re.compile('go{1,2}gle') # 'o'가 최소 1번, 최대 2번 반복이 되는 조건\n",
    "p.match('google') "
   ]
  },
  {
   "cell_type": "code",
   "execution_count": 34,
   "id": "7cff00e0-fde1-441e-b74b-578856a35fb4",
   "metadata": {},
   "outputs": [
    {
     "data": {
      "text/plain": [
       "<re.Match object; span=(0, 5), match='gogle'>"
      ]
     },
     "execution_count": 34,
     "metadata": {},
     "output_type": "execute_result"
    }
   ],
   "source": [
    "p = re.compile('go{1,2}gle') # 'o'가 최소 1번, 최대 2번 반복이 되는 조건\n",
    "p.match('gogle')"
   ]
  },
  {
   "cell_type": "code",
   "execution_count": 35,
   "id": "2369844b-c802-4131-88e9-629ebdf277a6",
   "metadata": {},
   "outputs": [],
   "source": [
    "p = re.compile('go{1,2}gle') # 'o'가 최소 1번, 최대 2번 반복이 되는 조건\n",
    "p.match('ggle')"
   ]
  },
  {
   "cell_type": "code",
   "execution_count": 36,
   "id": "0a79879f-add7-4c50-8333-b5941dfcabca",
   "metadata": {},
   "outputs": [],
   "source": [
    "p = re.compile('go{1,2}gle') # 'o'가 최소 1번, 최대 2번 반복이 되는 조건\n",
    "p.match('gooogle')"
   ]
  },
  {
   "cell_type": "code",
   "execution_count": 37,
   "id": "34756469-f540-45b6-97ad-1b985ac36243",
   "metadata": {},
   "outputs": [
    {
     "data": {
      "text/plain": [
       "<re.Match object; span=(0, 7), match='gooogle'>"
      ]
     },
     "execution_count": 37,
     "metadata": {},
     "output_type": "execute_result"
    }
   ],
   "source": [
    "p = re.compile('go{1,}gle') # 'o'가 최소 1번 이상 반복이 되는 조건\n",
    "p.match('gooogle')"
   ]
  },
  {
   "cell_type": "code",
   "execution_count": 38,
   "id": "9a359fd9-6f07-493b-8779-5604d55f2de8",
   "metadata": {},
   "outputs": [
    {
     "data": {
      "text/plain": [
       "<re.Match object; span=(0, 34), match='goooooooooooooooooooooooooooooogle'>"
      ]
     },
     "execution_count": 38,
     "metadata": {},
     "output_type": "execute_result"
    }
   ],
   "source": [
    "p = re.compile('go{1,}gle') # 'o'가 최소 1번 이상 반복이 되는 조건\n",
    "p.match('goooooooooooooooooooooooooooooogle')"
   ]
  },
  {
   "cell_type": "code",
   "execution_count": 39,
   "id": "0fc54a5b-b955-4b42-8062-bc48c5f5337c",
   "metadata": {},
   "outputs": [],
   "source": [
    "p = re.compile('go{,5}gle') # 'o'가 최대 5번 이상 반복이 되는 조건\n",
    "p.match('goooooooooooooooooooooooooooooogle')"
   ]
  },
  {
   "cell_type": "code",
   "execution_count": 40,
   "id": "6eaac6e1-6022-4512-9794-775f5e09d5e6",
   "metadata": {},
   "outputs": [
    {
     "data": {
      "text/plain": [
       "<re.Match object; span=(0, 7), match='gooogle'>"
      ]
     },
     "execution_count": 40,
     "metadata": {},
     "output_type": "execute_result"
    }
   ],
   "source": [
    "p = re.compile('go{,5}gle') \n",
    "p.match('gooogle')"
   ]
  },
  {
   "cell_type": "code",
   "execution_count": 41,
   "id": "b6906232-231c-4e2e-ab87-704561a9342d",
   "metadata": {},
   "outputs": [],
   "source": [
    "p = re.compile('go{5}gle') # o가 5번 반복되는 조건\n",
    "p.match('gooogle')"
   ]
  },
  {
   "cell_type": "code",
   "execution_count": 42,
   "id": "8068d6d7-8d06-465d-bcca-086655ff0f7a",
   "metadata": {},
   "outputs": [
    {
     "data": {
      "text/plain": [
       "<re.Match object; span=(0, 9), match='gooooogle'>"
      ]
     },
     "execution_count": 42,
     "metadata": {},
     "output_type": "execute_result"
    }
   ],
   "source": [
    "p = re.compile('go{5}gle') # o가 5번 반복되는 조건\n",
    "p.match('gooooogle')"
   ]
  },
  {
   "cell_type": "markdown",
   "id": "9acbb1a8-5f45-444e-a142-dddc4216190a",
   "metadata": {},
   "source": [
    "---"
   ]
  },
  {
   "cell_type": "markdown",
   "id": "29c49816-507d-4416-a1e9-38b8c444bc06",
   "metadata": {},
   "source": [
    "# 선택사항 ?"
   ]
  },
  {
   "cell_type": "markdown",
   "id": "d2cfe48c-00b3-4349-b9c0-10e0353913c4",
   "metadata": {},
   "source": [
    "* ? 메타문자가 의미하는 것은 {0, 1}"
   ]
  },
  {
   "cell_type": "code",
   "execution_count": 43,
   "id": "f0e70969-bde6-43a6-94c2-9bd3108dc6db",
   "metadata": {},
   "outputs": [
    {
     "name": "stdout",
     "output_type": "stream",
     "text": [
      "<re.Match object; span=(0, 2), match='ac'>\n",
      "<re.Match object; span=(0, 3), match='abc'>\n",
      "None\n",
      "None\n",
      "<re.Match object; span=(0, 3), match='abc'>\n"
     ]
    }
   ],
   "source": [
    "p=re.compile('ab?c')\n",
    "m = p.match('ac')\n",
    "print(m)\n",
    "m = p.match('abc')\n",
    "print(m)\n",
    "m = p.match('abbc') # b가 매치가 되었다면 다음 순서는 c가 와야 하므로 매치 않됨\n",
    "print(m)\n",
    "m = p.match('abbbc') # b가 매치가 되었다면 다음 순서는 c가 와야 하므로 매치 않됨\n",
    "print(m)\n",
    "m = p.match('abcd') # 문자열중 정규식에 일치하는 abc만 매치\n",
    "print(m)"
   ]
  },
  {
   "cell_type": "code",
   "execution_count": null,
   "id": "86b06f21-6961-4f5a-8fdb-0570c7dacb16",
   "metadata": {},
   "outputs": [],
   "source": []
  },
  {
   "cell_type": "code",
   "execution_count": null,
   "id": "a0d8a63c-c256-4bce-b84e-a291f1c8c604",
   "metadata": {},
   "outputs": [],
   "source": []
  }
 ],
 "metadata": {
  "kernelspec": {
   "display_name": "Python 3 (ipykernel)",
   "language": "python",
   "name": "python3"
  },
  "language_info": {
   "codemirror_mode": {
    "name": "ipython",
    "version": 3
   },
   "file_extension": ".py",
   "mimetype": "text/x-python",
   "name": "python",
   "nbconvert_exporter": "python",
   "pygments_lexer": "ipython3",
   "version": "3.11.7"
  }
 },
 "nbformat": 4,
 "nbformat_minor": 5
}
