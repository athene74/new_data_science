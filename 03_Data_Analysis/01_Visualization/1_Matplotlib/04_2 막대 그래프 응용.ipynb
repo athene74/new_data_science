{
 "cells": [
  {
   "cell_type": "code",
   "execution_count": 35,
   "id": "50fcd0f2",
   "metadata": {},
   "outputs": [],
   "source": [
    "import pandas as pd\n",
    "import numpy as np\n",
    "import matplotlib.pyplot as plt\n",
    "from matplotlib import font_manager,rc\n",
    "\n",
    "import random\n",
    "\n",
    "font_location = \"C:\\Windows\\Fonts\\malgun.ttf\"\n",
    "font_name = font_manager.FontProperties(fname=font_location).get_name()\n",
    "rc('font',family=font_name)\n",
    "plt.rcParams['axes.unicode_minus'] = False  # 유니코드 마이너스 기호 사용"
   ]
  },
  {
   "cell_type": "code",
   "execution_count": 36,
   "id": "eaa8f86b-6926-4b10-abe5-79ba1cb40ce5",
   "metadata": {},
   "outputs": [
    {
     "data": {
      "text/plain": [
       "[0]"
      ]
     },
     "execution_count": 36,
     "metadata": {},
     "output_type": "execute_result"
    }
   ],
   "source": [
    "sex_range=['남성', '여성']\n",
    "age_range=[20,21,22,23,24,25,26,27,28,29]\n",
    "marrage_range=['독신','기혼','재혼']\n",
    "income_range=['저소득자','3000만원대','4000만원대','5000만원대','6000만원대','고소득자']\n",
    "\n",
    "MAX_RECORD=1000000 # 100만건\n",
    "\n",
    "sex_list=[] # 성 유형 \n",
    "age_list=[] # 20대 나이 분포\n",
    "marrage_list=[] # 결혼 형태\n",
    "income_list=[] # 소득수준\n",
    "\n",
    "# weights : 랜덤 생성 후보값에 대해서 가중치 부여, choices 에서 랜덤하게 생성된 데이터의 분포가 균등분포이기 때문에.\n",
    "random.choices(range(0,len(sex_range)), weights=[0.55,0.45]) "
   ]
  },
  {
   "cell_type": "code",
   "execution_count": 37,
   "id": "7c57afb1-d2b3-44af-bbfc-22624d944575",
   "metadata": {},
   "outputs": [
    {
     "data": {
      "text/plain": [
       "1"
      ]
     },
     "execution_count": 37,
     "metadata": {},
     "output_type": "execute_result"
    }
   ],
   "source": [
    "random.choices(range(0,len(sex_range)), weights=[0.55,0.45])[0] # 반환값이 리스트의 첫번째 값으로 반환되기때문에 [0] 인덱스 0으로 가져온다."
   ]
  },
  {
   "cell_type": "markdown",
   "id": "84692f5f-9ad3-44f4-a58d-df03bd536568",
   "metadata": {},
   "source": [
    "* 빅데이터 생성 시뮬레이션"
   ]
  },
  {
   "cell_type": "code",
   "execution_count": 38,
   "id": "7b56cff8-a898-4690-a63f-825d99aa980a",
   "metadata": {},
   "outputs": [],
   "source": [
    "for i in range(MAX_RECORD):\n",
    "    sex_list.append(sex_range[random.choices(range(0,len(sex_range)), weights=[0.55,0.45])[0]]) # 남성의 가중치 55%, 여성 가중치는 45%\n",
    "    age_list.append(age_range[random.choices(range(0,len(age_range)), weights=[0.05,0.05,0.1,0.07,0.05,0.05,0.05,0.13,0.3,0.2])[0]])\n",
    "    marrage_list.append(marrage_range[random.choices(range(0,len(marrage_range)), weights=[0.7,0.25,0.05])[0]])\n",
    "    income_list.append(income_range[random.choices(range(0,len(income_range)), weights=[0.1,0.4,0.2,0.15,0.1,0.05])[0]])"
   ]
  },
  {
   "cell_type": "code",
   "execution_count": 39,
   "id": "c0d83949-8a8a-4469-a7d5-1c4f8f7d0f50",
   "metadata": {},
   "outputs": [
    {
     "data": {
      "text/html": [
       "<div>\n",
       "<style scoped>\n",
       "    .dataframe tbody tr th:only-of-type {\n",
       "        vertical-align: middle;\n",
       "    }\n",
       "\n",
       "    .dataframe tbody tr th {\n",
       "        vertical-align: top;\n",
       "    }\n",
       "\n",
       "    .dataframe thead th {\n",
       "        text-align: right;\n",
       "    }\n",
       "</style>\n",
       "<table border=\"1\" class=\"dataframe\">\n",
       "  <thead>\n",
       "    <tr style=\"text-align: right;\">\n",
       "      <th></th>\n",
       "      <th>성별</th>\n",
       "      <th>나이</th>\n",
       "      <th>결혼여부</th>\n",
       "      <th>소득수준</th>\n",
       "    </tr>\n",
       "  </thead>\n",
       "  <tbody>\n",
       "    <tr>\n",
       "      <th>0</th>\n",
       "      <td>여성</td>\n",
       "      <td>25</td>\n",
       "      <td>기혼</td>\n",
       "      <td>5000만원대</td>\n",
       "    </tr>\n",
       "    <tr>\n",
       "      <th>1</th>\n",
       "      <td>여성</td>\n",
       "      <td>29</td>\n",
       "      <td>기혼</td>\n",
       "      <td>3000만원대</td>\n",
       "    </tr>\n",
       "    <tr>\n",
       "      <th>2</th>\n",
       "      <td>여성</td>\n",
       "      <td>23</td>\n",
       "      <td>독신</td>\n",
       "      <td>3000만원대</td>\n",
       "    </tr>\n",
       "    <tr>\n",
       "      <th>3</th>\n",
       "      <td>남성</td>\n",
       "      <td>22</td>\n",
       "      <td>독신</td>\n",
       "      <td>고소득자</td>\n",
       "    </tr>\n",
       "    <tr>\n",
       "      <th>4</th>\n",
       "      <td>여성</td>\n",
       "      <td>28</td>\n",
       "      <td>기혼</td>\n",
       "      <td>3000만원대</td>\n",
       "    </tr>\n",
       "  </tbody>\n",
       "</table>\n",
       "</div>"
      ],
      "text/plain": [
       "   성별  나이 결혼여부     소득수준\n",
       "0  여성  25   기혼  5000만원대\n",
       "1  여성  29   기혼  3000만원대\n",
       "2  여성  23   독신  3000만원대\n",
       "3  남성  22   독신     고소득자\n",
       "4  여성  28   기혼  3000만원대"
      ]
     },
     "execution_count": 39,
     "metadata": {},
     "output_type": "execute_result"
    }
   ],
   "source": [
    "    \n",
    "\n",
    "df = pd.DataFrame(\n",
    "    {\n",
    "        \"성별\":sex_list,\n",
    "        \"나이\":age_list,\n",
    "        \"결혼여부\":marrage_list,\n",
    "        \"소득수준\":income_list\n",
    "    }\n",
    ")\n",
    "\n",
    "df.head()"
   ]
  },
  {
   "cell_type": "code",
   "execution_count": 40,
   "id": "e0df2a20",
   "metadata": {},
   "outputs": [
    {
     "data": {
      "text/plain": [
       "(1000000, 4)"
      ]
     },
     "execution_count": 40,
     "metadata": {},
     "output_type": "execute_result"
    }
   ],
   "source": [
    "df.shape"
   ]
  },
  {
   "cell_type": "code",
   "execution_count": 32,
   "id": "f20e55f2",
   "metadata": {},
   "outputs": [
    {
     "data": {
      "text/plain": [
       "Index          132\n",
       "성별       172000000\n",
       "나이        16000000\n",
       "결혼여부     172000000\n",
       "소득수준     190196094\n",
       "dtype: int64"
      ]
     },
     "execution_count": 32,
     "metadata": {},
     "output_type": "execute_result"
    }
   ],
   "source": [
    "df.memory_usage(deep=True)"
   ]
  },
  {
   "cell_type": "code",
   "execution_count": 20,
   "id": "53e71ea5",
   "metadata": {},
   "outputs": [
    {
     "data": {
      "text/plain": [
       "성별\n",
       "남성    549985\n",
       "여성    450015\n",
       "Name: count, dtype: int64"
      ]
     },
     "execution_count": 20,
     "metadata": {},
     "output_type": "execute_result"
    }
   ],
   "source": [
    "df['성별'].value_counts()"
   ]
  },
  {
   "cell_type": "code",
   "execution_count": 21,
   "id": "7923ee35",
   "metadata": {},
   "outputs": [
    {
     "data": {
      "text/plain": [
       "Index(['남성', '여성'], dtype='object', name='성별')"
      ]
     },
     "execution_count": 21,
     "metadata": {},
     "output_type": "execute_result"
    }
   ],
   "source": [
    "df['성별'].value_counts().index"
   ]
  },
  {
   "cell_type": "code",
   "execution_count": 22,
   "id": "298a6ff5",
   "metadata": {},
   "outputs": [
    {
     "data": {
      "text/plain": [
       "array([549985, 450015], dtype=int64)"
      ]
     },
     "execution_count": 22,
     "metadata": {},
     "output_type": "execute_result"
    }
   ],
   "source": [
    "df['성별'].value_counts().values"
   ]
  },
  {
   "cell_type": "code",
   "execution_count": 23,
   "id": "1b7893f6",
   "metadata": {},
   "outputs": [
    {
     "data": {
      "text/plain": [
       "2"
      ]
     },
     "execution_count": 23,
     "metadata": {},
     "output_type": "execute_result"
    }
   ],
   "source": [
    "len(df['성별'].value_counts().index)"
   ]
  },
  {
   "cell_type": "code",
   "execution_count": 24,
   "id": "7bd9a13a",
   "metadata": {},
   "outputs": [
    {
     "data": {
      "text/plain": [
       "[549985, 450015]"
      ]
     },
     "execution_count": 24,
     "metadata": {},
     "output_type": "execute_result"
    }
   ],
   "source": [
    "df['성별'].value_counts().values.tolist()"
   ]
  },
  {
   "cell_type": "code",
   "execution_count": 25,
   "id": "c62c4e30",
   "metadata": {},
   "outputs": [
    {
     "data": {
      "text/plain": [
       "([<matplotlib.axis.XTick at 0x20eab813b90>,\n",
       "  <matplotlib.axis.XTick at 0x20eab810c90>],\n",
       " [Text(0, 0, '남성'), Text(1, 0, '여성')])"
      ]
     },
     "execution_count": 25,
     "metadata": {},
     "output_type": "execute_result"
    },
    {
     "data": {
      "image/png": "[encoded data removed]",
      "text/plain": [
       "<Figure size 640x480 with 1 Axes>"
      ]
     },
     "metadata": {},
     "output_type": "display_data"
    }
   ],
   "source": [
    "idx = np.arange(len(df['성별'].value_counts().index))\n",
    "plt.bar(idx, df['성별'].value_counts().values)\n",
    "plt.xticks(idx,df['성별'].value_counts().index)"
   ]
  },
  {
   "cell_type": "code",
   "execution_count": 26,
   "id": "530a6262",
   "metadata": {
    "scrolled": true
   },
   "outputs": [
    {
     "data": {
      "text/plain": [
       "([<matplotlib.axis.XTick at 0x20eab8a3b90>,\n",
       "  <matplotlib.axis.XTick at 0x20eab8a1c50>,\n",
       "  <matplotlib.axis.XTick at 0x20eab7c4f10>,\n",
       "  <matplotlib.axis.XTick at 0x20eab8ea0d0>,\n",
       "  <matplotlib.axis.XTick at 0x20eab8ec410>,\n",
       "  <matplotlib.axis.XTick at 0x20eab8edd50>,\n",
       "  <matplotlib.axis.XTick at 0x20eab8efed0>,\n",
       "  <matplotlib.axis.XTick at 0x20eabfa2010>,\n",
       "  <matplotlib.axis.XTick at 0x20eabfa42d0>,\n",
       "  <matplotlib.axis.XTick at 0x20eabfa6510>],\n",
       " [Text(0, 0, '28'),\n",
       "  Text(1, 0, '29'),\n",
       "  Text(2, 0, '27'),\n",
       "  Text(3, 0, '22'),\n",
       "  Text(4, 0, '23'),\n",
       "  Text(5, 0, '24'),\n",
       "  Text(6, 0, '21'),\n",
       "  Text(7, 0, '20'),\n",
       "  Text(8, 0, '25'),\n",
       "  Text(9, 0, '26')])"
      ]
     },
     "execution_count": 26,
     "metadata": {},
     "output_type": "execute_result"
    },
    {
     "data": {
      "image/png": "[encoded data removed]",
      "text/plain": [
       "<Figure size 640x480 with 1 Axes>"
      ]
     },
     "metadata": {},
     "output_type": "display_data"
    }
   ],
   "source": [
    "idx = np.arange(len(df['나이'].value_counts().index))\n",
    "plt.bar(idx, df['나이'].value_counts().values)\n",
    "plt.xticks(idx,df['나이'].value_counts().index)"
   ]
  },
  {
   "cell_type": "code",
   "execution_count": 27,
   "id": "3fd2c359",
   "metadata": {},
   "outputs": [
    {
     "data": {
      "text/plain": [
       "([<matplotlib.axis.XTick at 0x20eabfdf090>,\n",
       "  <matplotlib.axis.XTick at 0x20eabfdc910>,\n",
       "  <matplotlib.axis.XTick at 0x20eab8dcf10>],\n",
       " [Text(0, 0, '독신'), Text(1, 0, '기혼'), Text(2, 0, '재혼')])"
      ]
     },
     "execution_count": 27,
     "metadata": {},
     "output_type": "execute_result"
    },
    {
     "data": {
      "image/png": "[encoded data removed]",
      "text/plain": [
       "<Figure size 640x480 with 1 Axes>"
      ]
     },
     "metadata": {},
     "output_type": "display_data"
    }
   ],
   "source": [
    "idx = np.arange(len(df['결혼여부'].value_counts().index))\n",
    "plt.bar(idx, df['결혼여부'].value_counts().values)\n",
    "plt.xticks(idx,df['결혼여부'].value_counts().index)"
   ]
  },
  {
   "cell_type": "code",
   "execution_count": 28,
   "id": "9f3c4e09",
   "metadata": {},
   "outputs": [
    {
     "data": {
      "text/plain": [
       "([<matplotlib.axis.XTick at 0x20eac02eb10>,\n",
       "  <matplotlib.axis.XTick at 0x20eac03d850>,\n",
       "  <matplotlib.axis.XTick at 0x20eabfbd150>,\n",
       "  <matplotlib.axis.XTick at 0x20eac0817d0>,\n",
       "  <matplotlib.axis.XTick at 0x20eac083910>,\n",
       "  <matplotlib.axis.XTick at 0x20eac089bd0>],\n",
       " [Text(0, 0, '3000만원대'),\n",
       "  Text(1, 0, '4000만원대'),\n",
       "  Text(2, 0, '5000만원대'),\n",
       "  Text(3, 0, '저소득자'),\n",
       "  Text(4, 0, '6000만원대'),\n",
       "  Text(5, 0, '고소득자')])"
      ]
     },
     "execution_count": 28,
     "metadata": {},
     "output_type": "execute_result"
    },
    {
     "data": {
      "image/png": "[encoded data removed]",
      "text/plain": [
       "<Figure size 640x480 with 1 Axes>"
      ]
     },
     "metadata": {},
     "output_type": "display_data"
    }
   ],
   "source": [
    "idx = np.arange(len(df['소득수준'].value_counts().index))\n",
    "plt.bar(idx, df['소득수준'].value_counts().values)\n",
    "plt.xticks(idx,df['소득수준'].value_counts().index)"
   ]
  },
  {
   "cell_type": "code",
   "execution_count": null,
   "id": "27b6eca2",
   "metadata": {},
   "outputs": [],
   "source": []
  },
  {
   "cell_type": "code",
   "execution_count": null,
   "id": "ce735344",
   "metadata": {},
   "outputs": [],
   "source": []
  },
  {
   "cell_type": "code",
   "execution_count": null,
   "id": "8dd174ff",
   "metadata": {},
   "outputs": [],
   "source": []
  },
  {
   "cell_type": "code",
   "execution_count": null,
   "id": "8050f514-c15f-45ef-b22b-9b9a57df20a9",
   "metadata": {},
   "outputs": [],
   "source": []
  }
 ],
 "metadata": {
  "kernelspec": {
   "display_name": "Python 3 (ipykernel)",
   "language": "python",
   "name": "python3"
  },
  "language_info": {
   "codemirror_mode": {
    "name": "ipython",
    "version": 3
   },
   "file_extension": ".py",
   "mimetype": "text/x-python",
   "name": "python",
   "nbconvert_exporter": "python",
   "pygments_lexer": "ipython3",
   "version": "3.11.7"
  }
 },
 "nbformat": 4,
 "nbformat_minor": 5
}
