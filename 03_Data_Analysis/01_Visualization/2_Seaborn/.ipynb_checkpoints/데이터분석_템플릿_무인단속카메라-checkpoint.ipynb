{
 "cells": [
  {
   "cell_type": "markdown",
   "id": "9a361676",
   "metadata": {
    "hidden": true
   },
   "source": [
    "## 주요절차"
   ]
  },
  {
   "cell_type": "markdown",
   "id": "27585602",
   "metadata": {
    "hidden": true
   },
   "source": [
    "### 1. 초기데이터 분석"
   ]
  },
  {
   "cell_type": "markdown",
   "id": "8aee3de8",
   "metadata": {
    "hidden": true
   },
   "source": [
    "#### 1-1. 데이터딕셔너리(각 열의 의미, 데이터의 의미해석관련 스펙 또는 메뉴얼) 확인\n",
    "#### 1-2 데이터 기초정보 확인 (사이즈, 열이름, 데이터형)"
   ]
  },
  {
   "cell_type": "markdown",
   "id": "2ebab032",
   "metadata": {
    "hidden": true
   },
   "source": [
    "### 2. 데이터 정제"
   ]
  },
  {
   "cell_type": "markdown",
   "id": "39e200d0",
   "metadata": {
    "hidden": true
   },
   "source": [
    "#### 2.1. 원본데이터에서 분석가능한 형태로 데이터 전처리 (형변환, 열이름 변경등)\n",
    "#### 2.2. 데이터 클리닝: 이상치, 결측치처리"
   ]
  },
  {
   "cell_type": "markdown",
   "id": "4e60e3f3",
   "metadata": {
    "hidden": true
   },
   "source": [
    "### 3. 추가데이터 분석"
   ]
  },
  {
   "cell_type": "markdown",
   "id": "82e0a525",
   "metadata": {
    "hidden": true
   },
   "source": [
    "#### 3.1 데이터 정제후 데이터딕셔너리 재확인\n",
    "#### 3.2 기초통계 정보 확인 (최대값, 최소값, 평균값, 표준편차, 최빈값, 유일값 등)\n",
    "#### 3.3 시각화를 통한 데이터이해 심화 "
   ]
  },
  {
   "cell_type": "markdown",
   "id": "87e87a59",
   "metadata": {
    "hidden": true
   },
   "source": [
    "* 3.3.1 단일 열: 데이터의 성격에 따른 다양한 차트 적용  \n",
    "* 3.3.2 복수 열: 두개의 열간 연관관계 분석(Pair Plot 또는 Seaborn의 관련 지원 차트등)"
   ]
  },
  {
   "cell_type": "markdown",
   "id": "1016da18-a38d-4677-942d-ff8e13f2dfad",
   "metadata": {},
   "source": [
    "#### 3.4 데이터 분석 결과도출"
   ]
  },
  {
   "cell_type": "markdown",
   "id": "d98ee251",
   "metadata": {},
   "source": [
    "# 데이터분석 적용 실습 템플릿"
   ]
  },
  {
   "cell_type": "code",
   "execution_count": 376,
   "id": "b37b64b5-d108-4be4-890e-5436ee8e168b",
   "metadata": {},
   "outputs": [],
   "source": [
    "import pandas as pd\n",
    "import numpy as np\n",
    "import matplotlib.pyplot as plt\n",
    "import seaborn as sns\n",
    "from matplotlib import font_manager,rc\n",
    "from IPython.display import display, HTML\n",
    "import random\n",
    "\n",
    "font_location = \"C:\\Windows\\Fonts\\malgun.ttf\"\n",
    "font_name = font_manager.FontProperties(fname=font_location).get_name()\n",
    "rc('font',family=font_name)\n",
    "plt.rcParams['axes.unicode_minus'] = False"
   ]
  },
  {
   "cell_type": "code",
   "execution_count": 377,
   "id": "5b1812c8-44e0-474e-be7d-44e28bc2e582",
   "metadata": {},
   "outputs": [],
   "source": [
    "def display_wide(df1, df2):\n",
    "    display(HTML(\n",
    "    f\"\"\"\n",
    "    <div style=\"display: flex;\">\n",
    "        <div style=\"margin-right: 20px;\">\n",
    "            {df1.to_html()}\n",
    "        </div>\n",
    "        <div>\n",
    "            {df2.to_html()}\n",
    "        </div>\n",
    "    </div>\n",
    "    \"\"\"\n",
    "))"
   ]
  },
  {
   "cell_type": "markdown",
   "id": "0521bf67",
   "metadata": {},
   "source": [
    "## 데이터 수집"
   ]
  },
  {
   "cell_type": "code",
   "execution_count": 378,
   "id": "46c5eafe",
   "metadata": {},
   "outputs": [],
   "source": [
    "# 데이터 소스를 확보하세요"
   ]
  },
  {
   "cell_type": "code",
   "execution_count": 379,
   "id": "48ff07fe-b19b-4e0a-aa58-dde81f962de7",
   "metadata": {},
   "outputs": [
    {
     "data": {
      "text/html": [
       "<div>\n",
       "<style scoped>\n",
       "    .dataframe tbody tr th:only-of-type {\n",
       "        vertical-align: middle;\n",
       "    }\n",
       "\n",
       "    .dataframe tbody tr th {\n",
       "        vertical-align: top;\n",
       "    }\n",
       "\n",
       "    .dataframe thead th {\n",
       "        text-align: right;\n",
       "    }\n",
       "</style>\n",
       "<table border=\"1\" class=\"dataframe\">\n",
       "  <thead>\n",
       "    <tr style=\"text-align: right;\">\n",
       "      <th></th>\n",
       "      <th>무인교통단속카메라관리번호</th>\n",
       "      <th>시도명</th>\n",
       "      <th>시군구명</th>\n",
       "      <th>도로종류</th>\n",
       "      <th>도로노선번호</th>\n",
       "      <th>도로노선명</th>\n",
       "      <th>도로노선방향</th>\n",
       "      <th>소재지도로명주소</th>\n",
       "      <th>소재지지번주소</th>\n",
       "      <th>위도</th>\n",
       "      <th>...</th>\n",
       "      <th>제한속도</th>\n",
       "      <th>단속구간위치구분</th>\n",
       "      <th>과속단속구간길이</th>\n",
       "      <th>보호구역구분</th>\n",
       "      <th>설치연도</th>\n",
       "      <th>관리기관명</th>\n",
       "      <th>관리기관전화번호</th>\n",
       "      <th>데이터기준일자</th>\n",
       "      <th>제공기관코드</th>\n",
       "      <th>제공기관명</th>\n",
       "    </tr>\n",
       "  </thead>\n",
       "  <tbody>\n",
       "    <tr>\n",
       "      <th>0</th>\n",
       "      <td>6</td>\n",
       "      <td>경상북도</td>\n",
       "      <td>상주시</td>\n",
       "      <td>일반국도</td>\n",
       "      <td>25번</td>\n",
       "      <td>영남제일로</td>\n",
       "      <td>1</td>\n",
       "      <td>NaN</td>\n",
       "      <td>경상북도 상주시 내서면 낙서리 352-2</td>\n",
       "      <td>36.398710</td>\n",
       "      <td>...</td>\n",
       "      <td>60</td>\n",
       "      <td>NaN</td>\n",
       "      <td>NaN</td>\n",
       "      <td>NaN</td>\n",
       "      <td>NaN</td>\n",
       "      <td>상주경찰서</td>\n",
       "      <td>054-537-0353</td>\n",
       "      <td>2022-06-15</td>\n",
       "      <td>5110000</td>\n",
       "      <td>경상북도 상주시</td>\n",
       "    </tr>\n",
       "    <tr>\n",
       "      <th>1</th>\n",
       "      <td>11</td>\n",
       "      <td>전라남도</td>\n",
       "      <td>곡성군</td>\n",
       "      <td>군도</td>\n",
       "      <td>840</td>\n",
       "      <td>창정리</td>\n",
       "      <td>3</td>\n",
       "      <td>NaN</td>\n",
       "      <td>전라남도 곡성군 입면 창정리 165-1</td>\n",
       "      <td>35.305534</td>\n",
       "      <td>...</td>\n",
       "      <td>30</td>\n",
       "      <td>1.0</td>\n",
       "      <td>0.3</td>\n",
       "      <td>2</td>\n",
       "      <td>2020.0</td>\n",
       "      <td>전남지방경찰청</td>\n",
       "      <td>061-362-7000</td>\n",
       "      <td>2022-06-13</td>\n",
       "      <td>4860000</td>\n",
       "      <td>전라남도 곡성군</td>\n",
       "    </tr>\n",
       "    <tr>\n",
       "      <th>2</th>\n",
       "      <td>12</td>\n",
       "      <td>전라남도</td>\n",
       "      <td>곡성군</td>\n",
       "      <td>군도</td>\n",
       "      <td>840</td>\n",
       "      <td>읍내리</td>\n",
       "      <td>3</td>\n",
       "      <td>NaN</td>\n",
       "      <td>전라남도 곡성군 곡성읍 읍내리 710-2</td>\n",
       "      <td>35.283373</td>\n",
       "      <td>...</td>\n",
       "      <td>30</td>\n",
       "      <td>1.0</td>\n",
       "      <td>0.3</td>\n",
       "      <td>2</td>\n",
       "      <td>2020.0</td>\n",
       "      <td>전남지방경찰청</td>\n",
       "      <td>061-362-7000</td>\n",
       "      <td>2022-06-13</td>\n",
       "      <td>4860000</td>\n",
       "      <td>전라남도 곡성군</td>\n",
       "    </tr>\n",
       "    <tr>\n",
       "      <th>3</th>\n",
       "      <td>13</td>\n",
       "      <td>전라남도</td>\n",
       "      <td>곡성군</td>\n",
       "      <td>군도</td>\n",
       "      <td>840</td>\n",
       "      <td>석곡리</td>\n",
       "      <td>3</td>\n",
       "      <td>NaN</td>\n",
       "      <td>전라남도 곡성군 석곡면 석곡리 8</td>\n",
       "      <td>35.135106</td>\n",
       "      <td>...</td>\n",
       "      <td>30</td>\n",
       "      <td>1.0</td>\n",
       "      <td>0.3</td>\n",
       "      <td>2</td>\n",
       "      <td>2020.0</td>\n",
       "      <td>전남지방경찰청</td>\n",
       "      <td>061-362-7000</td>\n",
       "      <td>2022-06-13</td>\n",
       "      <td>4860000</td>\n",
       "      <td>전라남도 곡성군</td>\n",
       "    </tr>\n",
       "    <tr>\n",
       "      <th>4</th>\n",
       "      <td>14</td>\n",
       "      <td>전라남도</td>\n",
       "      <td>곡성군</td>\n",
       "      <td>군도</td>\n",
       "      <td>840</td>\n",
       "      <td>죽림리</td>\n",
       "      <td>3</td>\n",
       "      <td>NaN</td>\n",
       "      <td>전라남도 곡성군 옥과면 죽림리 120-2</td>\n",
       "      <td>35.276399</td>\n",
       "      <td>...</td>\n",
       "      <td>30</td>\n",
       "      <td>1.0</td>\n",
       "      <td>0.3</td>\n",
       "      <td>2</td>\n",
       "      <td>2020.0</td>\n",
       "      <td>전남지방경찰청</td>\n",
       "      <td>061-362-7000</td>\n",
       "      <td>2022-06-13</td>\n",
       "      <td>4860000</td>\n",
       "      <td>전라남도 곡성군</td>\n",
       "    </tr>\n",
       "    <tr>\n",
       "      <th>...</th>\n",
       "      <td>...</td>\n",
       "      <td>...</td>\n",
       "      <td>...</td>\n",
       "      <td>...</td>\n",
       "      <td>...</td>\n",
       "      <td>...</td>\n",
       "      <td>...</td>\n",
       "      <td>...</td>\n",
       "      <td>...</td>\n",
       "      <td>...</td>\n",
       "      <td>...</td>\n",
       "      <td>...</td>\n",
       "      <td>...</td>\n",
       "      <td>...</td>\n",
       "      <td>...</td>\n",
       "      <td>...</td>\n",
       "      <td>...</td>\n",
       "      <td>...</td>\n",
       "      <td>...</td>\n",
       "      <td>...</td>\n",
       "      <td>...</td>\n",
       "    </tr>\n",
       "    <tr>\n",
       "      <th>30880</th>\n",
       "      <td>G1621</td>\n",
       "      <td>경기도</td>\n",
       "      <td>여주시</td>\n",
       "      <td>지방도</td>\n",
       "      <td>333번</td>\n",
       "      <td>여주남로</td>\n",
       "      <td>3</td>\n",
       "      <td>NaN</td>\n",
       "      <td>경기도 여주시 가남읍 본두리 188-7</td>\n",
       "      <td>37.244933</td>\n",
       "      <td>...</td>\n",
       "      <td>50</td>\n",
       "      <td>NaN</td>\n",
       "      <td>NaN</td>\n",
       "      <td>NaN</td>\n",
       "      <td>2018.0</td>\n",
       "      <td>경기남부경찰청</td>\n",
       "      <td>031-888-3952</td>\n",
       "      <td>2022-06-02</td>\n",
       "      <td>5700000</td>\n",
       "      <td>경기도 여주시</td>\n",
       "    </tr>\n",
       "    <tr>\n",
       "      <th>30881</th>\n",
       "      <td>G1622</td>\n",
       "      <td>경기도</td>\n",
       "      <td>여주시</td>\n",
       "      <td>지방도</td>\n",
       "      <td>333번</td>\n",
       "      <td>여주남로</td>\n",
       "      <td>3</td>\n",
       "      <td>NaN</td>\n",
       "      <td>경기도 여주시 가남읍 심석리 327-8</td>\n",
       "      <td>37.206880</td>\n",
       "      <td>...</td>\n",
       "      <td>70</td>\n",
       "      <td>NaN</td>\n",
       "      <td>NaN</td>\n",
       "      <td>NaN</td>\n",
       "      <td>2018.0</td>\n",
       "      <td>경기남부경찰청</td>\n",
       "      <td>031-888-3952</td>\n",
       "      <td>2022-06-02</td>\n",
       "      <td>5700000</td>\n",
       "      <td>경기도 여주시</td>\n",
       "    </tr>\n",
       "    <tr>\n",
       "      <th>30882</th>\n",
       "      <td>G1624</td>\n",
       "      <td>경기도</td>\n",
       "      <td>여주시</td>\n",
       "      <td>일반국도</td>\n",
       "      <td>3번</td>\n",
       "      <td>경충대로</td>\n",
       "      <td>3</td>\n",
       "      <td>NaN</td>\n",
       "      <td>경기도 여주시 가남읍 은봉리 153</td>\n",
       "      <td>37.180831</td>\n",
       "      <td>...</td>\n",
       "      <td>60</td>\n",
       "      <td>NaN</td>\n",
       "      <td>NaN</td>\n",
       "      <td>NaN</td>\n",
       "      <td>2018.0</td>\n",
       "      <td>경기남부경찰청</td>\n",
       "      <td>031-888-3952</td>\n",
       "      <td>2022-06-02</td>\n",
       "      <td>5700000</td>\n",
       "      <td>경기도 여주시</td>\n",
       "    </tr>\n",
       "    <tr>\n",
       "      <th>30883</th>\n",
       "      <td>G1625</td>\n",
       "      <td>경기도</td>\n",
       "      <td>여주시</td>\n",
       "      <td>지방도</td>\n",
       "      <td>333번</td>\n",
       "      <td>설가로</td>\n",
       "      <td>3</td>\n",
       "      <td>NaN</td>\n",
       "      <td>경기도 여주시 가남읍 태평리 504-11</td>\n",
       "      <td>37.199349</td>\n",
       "      <td>...</td>\n",
       "      <td>60</td>\n",
       "      <td>NaN</td>\n",
       "      <td>NaN</td>\n",
       "      <td>NaN</td>\n",
       "      <td>2018.0</td>\n",
       "      <td>경기남부경찰청</td>\n",
       "      <td>031-888-3952</td>\n",
       "      <td>2022-06-02</td>\n",
       "      <td>5700000</td>\n",
       "      <td>경기도 여주시</td>\n",
       "    </tr>\n",
       "    <tr>\n",
       "      <th>30884</th>\n",
       "      <td>G1626</td>\n",
       "      <td>경기도</td>\n",
       "      <td>여주시</td>\n",
       "      <td>지방도</td>\n",
       "      <td>333번</td>\n",
       "      <td>여주남로</td>\n",
       "      <td>3</td>\n",
       "      <td>NaN</td>\n",
       "      <td>경기도 여주시 연라동 154-12</td>\n",
       "      <td>37.272284</td>\n",
       "      <td>...</td>\n",
       "      <td>70</td>\n",
       "      <td>NaN</td>\n",
       "      <td>NaN</td>\n",
       "      <td>NaN</td>\n",
       "      <td>2018.0</td>\n",
       "      <td>경기남부경찰청</td>\n",
       "      <td>031-888-3952</td>\n",
       "      <td>2022-06-02</td>\n",
       "      <td>5700000</td>\n",
       "      <td>경기도 여주시</td>\n",
       "    </tr>\n",
       "  </tbody>\n",
       "</table>\n",
       "<p>30885 rows × 23 columns</p>\n",
       "</div>"
      ],
      "text/plain": [
       "      무인교통단속카메라관리번호   시도명 시군구명  도로종류 도로노선번호  도로노선명 도로노선방향 소재지도로명주소  \\\n",
       "0                 6  경상북도  상주시  일반국도    25번  영남제일로      1      NaN   \n",
       "1                11  전라남도  곡성군    군도    840    창정리      3      NaN   \n",
       "2                12  전라남도  곡성군    군도    840    읍내리      3      NaN   \n",
       "3                13  전라남도  곡성군    군도    840    석곡리      3      NaN   \n",
       "4                14  전라남도  곡성군    군도    840    죽림리      3      NaN   \n",
       "...             ...   ...  ...   ...    ...    ...    ...      ...   \n",
       "30880         G1621   경기도  여주시   지방도   333번   여주남로      3      NaN   \n",
       "30881         G1622   경기도  여주시   지방도   333번   여주남로      3      NaN   \n",
       "30882         G1624   경기도  여주시  일반국도     3번   경충대로      3      NaN   \n",
       "30883         G1625   경기도  여주시   지방도   333번    설가로      3      NaN   \n",
       "30884         G1626   경기도  여주시   지방도   333번   여주남로      3      NaN   \n",
       "\n",
       "                      소재지지번주소         위도  ...  제한속도 단속구간위치구분 과속단속구간길이  보호구역구분  \\\n",
       "0      경상북도 상주시 내서면 낙서리 352-2  36.398710  ...    60      NaN      NaN     NaN   \n",
       "1       전라남도 곡성군 입면 창정리 165-1  35.305534  ...    30      1.0      0.3       2   \n",
       "2      전라남도 곡성군 곡성읍 읍내리 710-2  35.283373  ...    30      1.0      0.3       2   \n",
       "3          전라남도 곡성군 석곡면 석곡리 8  35.135106  ...    30      1.0      0.3       2   \n",
       "4      전라남도 곡성군 옥과면 죽림리 120-2  35.276399  ...    30      1.0      0.3       2   \n",
       "...                       ...        ...  ...   ...      ...      ...     ...   \n",
       "30880   경기도 여주시 가남읍 본두리 188-7  37.244933  ...    50      NaN      NaN     NaN   \n",
       "30881   경기도 여주시 가남읍 심석리 327-8  37.206880  ...    70      NaN      NaN     NaN   \n",
       "30882     경기도 여주시 가남읍 은봉리 153  37.180831  ...    60      NaN      NaN     NaN   \n",
       "30883  경기도 여주시 가남읍 태평리 504-11  37.199349  ...    60      NaN      NaN     NaN   \n",
       "30884      경기도 여주시 연라동 154-12  37.272284  ...    70      NaN      NaN     NaN   \n",
       "\n",
       "         설치연도    관리기관명      관리기관전화번호     데이터기준일자   제공기관코드     제공기관명  \n",
       "0         NaN    상주경찰서  054-537-0353  2022-06-15  5110000  경상북도 상주시  \n",
       "1      2020.0  전남지방경찰청  061-362-7000  2022-06-13  4860000  전라남도 곡성군  \n",
       "2      2020.0  전남지방경찰청  061-362-7000  2022-06-13  4860000  전라남도 곡성군  \n",
       "3      2020.0  전남지방경찰청  061-362-7000  2022-06-13  4860000  전라남도 곡성군  \n",
       "4      2020.0  전남지방경찰청  061-362-7000  2022-06-13  4860000  전라남도 곡성군  \n",
       "...       ...      ...           ...         ...      ...       ...  \n",
       "30880  2018.0  경기남부경찰청  031-888-3952  2022-06-02  5700000   경기도 여주시  \n",
       "30881  2018.0  경기남부경찰청  031-888-3952  2022-06-02  5700000   경기도 여주시  \n",
       "30882  2018.0  경기남부경찰청  031-888-3952  2022-06-02  5700000   경기도 여주시  \n",
       "30883  2018.0  경기남부경찰청  031-888-3952  2022-06-02  5700000   경기도 여주시  \n",
       "30884  2018.0  경기남부경찰청  031-888-3952  2022-06-02  5700000   경기도 여주시  \n",
       "\n",
       "[30885 rows x 23 columns]"
      ]
     },
     "execution_count": 379,
     "metadata": {},
     "output_type": "execute_result"
    }
   ],
   "source": [
    "sle = pd.read_csv('data/전국무인교통단속카메라표준데이터.csv', encoding = 'cp949')\n",
    "sle"
   ]
  },
  {
   "cell_type": "markdown",
   "id": "c3b597f4",
   "metadata": {},
   "source": [
    "## 1. 초기데이터 분석"
   ]
  },
  {
   "cell_type": "markdown",
   "id": "0c3c91be",
   "metadata": {},
   "source": [
    "### 1-1. 데이터스키마 확인"
   ]
  },
  {
   "cell_type": "markdown",
   "id": "3bb504fc-f62f-4975-a1ba-d7c07978a37e",
   "metadata": {},
   "source": [
    "#### 각 열의 의미, 데이터의 의미해석관련 스펙 또는 메뉴얼을 확인 가능시 진행 하세요\n",
    "* A열: A열의 의미를 기술\n",
    "* B열: B열의 의미를 기술  \n",
    "..."
   ]
  },
  {
   "cell_type": "markdown",
   "id": "913979f3",
   "metadata": {},
   "source": [
    "### 1-2. 데이터 기초정보 확인"
   ]
  },
  {
   "cell_type": "markdown",
   "id": "1e03acff-a002-4e37-be88-5d36d4706630",
   "metadata": {},
   "source": [
    "* 사이즈, 데이터형, 기초통계항목등을 확인하세요  "
   ]
  },
  {
   "cell_type": "code",
   "execution_count": 380,
   "id": "4213881a-92fb-4064-af2a-25bc73e4299e",
   "metadata": {},
   "outputs": [],
   "source": [
    "#df.shape\n",
    "#df.info()"
   ]
  },
  {
   "cell_type": "code",
   "execution_count": 381,
   "id": "2effc14e-60c2-4dfd-99a7-9053b1bbce98",
   "metadata": {},
   "outputs": [
    {
     "data": {
      "text/plain": [
       "(30885, 23)"
      ]
     },
     "execution_count": 381,
     "metadata": {},
     "output_type": "execute_result"
    }
   ],
   "source": [
    "sle.shape"
   ]
  },
  {
   "cell_type": "code",
   "execution_count": 382,
   "id": "f6693b0f-f013-4b50-8c1f-78c114c8d612",
   "metadata": {},
   "outputs": [
    {
     "name": "stdout",
     "output_type": "stream",
     "text": [
      "<class 'pandas.core.frame.DataFrame'>\n",
      "RangeIndex: 30885 entries, 0 to 30884\n",
      "Data columns (total 23 columns):\n",
      " #   Column         Non-Null Count  Dtype  \n",
      "---  ------         --------------  -----  \n",
      " 0   무인교통단속카메라관리번호  30885 non-null  object \n",
      " 1   시도명            30885 non-null  object \n",
      " 2   시군구명           30885 non-null  object \n",
      " 3   도로종류           30885 non-null  object \n",
      " 4   도로노선번호         11905 non-null  object \n",
      " 5   도로노선명          30885 non-null  object \n",
      " 6   도로노선방향         30764 non-null  object \n",
      " 7   소재지도로명주소       21068 non-null  object \n",
      " 8   소재지지번주소        28237 non-null  object \n",
      " 9   위도             30693 non-null  float64\n",
      " 10  경도             30689 non-null  float64\n",
      " 11  설치장소           30885 non-null  object \n",
      " 12  단속구분           30874 non-null  object \n",
      " 13  제한속도           30885 non-null  int64  \n",
      " 14  단속구간위치구분       764 non-null    float64\n",
      " 15  과속단속구간길이       732 non-null    float64\n",
      " 16  보호구역구분         14135 non-null  object \n",
      " 17  설치연도           26245 non-null  float64\n",
      " 18  관리기관명          30885 non-null  object \n",
      " 19  관리기관전화번호       30885 non-null  object \n",
      " 20  데이터기준일자        30885 non-null  object \n",
      " 21  제공기관코드         30885 non-null  int64  \n",
      " 22  제공기관명          30885 non-null  object \n",
      "dtypes: float64(5), int64(2), object(16)\n",
      "memory usage: 5.4+ MB\n"
     ]
    }
   ],
   "source": [
    "sle.info()"
   ]
  },
  {
   "cell_type": "markdown",
   "id": "8d2984b9-6715-49a2-8583-d9583b38b857",
   "metadata": {},
   "source": [
    "* 기초통계항목"
   ]
  },
  {
   "cell_type": "code",
   "execution_count": 383,
   "id": "7f497c28-3191-4262-aae0-41402e8eaeef",
   "metadata": {},
   "outputs": [],
   "source": [
    "# df.desribe()"
   ]
  },
  {
   "cell_type": "code",
   "execution_count": 384,
   "id": "aad5573c-c499-4be2-9719-4acb0eb07efb",
   "metadata": {},
   "outputs": [
    {
     "data": {
      "text/html": [
       "<div>\n",
       "<style scoped>\n",
       "    .dataframe tbody tr th:only-of-type {\n",
       "        vertical-align: middle;\n",
       "    }\n",
       "\n",
       "    .dataframe tbody tr th {\n",
       "        vertical-align: top;\n",
       "    }\n",
       "\n",
       "    .dataframe thead th {\n",
       "        text-align: right;\n",
       "    }\n",
       "</style>\n",
       "<table border=\"1\" class=\"dataframe\">\n",
       "  <thead>\n",
       "    <tr style=\"text-align: right;\">\n",
       "      <th></th>\n",
       "      <th>위도</th>\n",
       "      <th>경도</th>\n",
       "      <th>제한속도</th>\n",
       "      <th>단속구간위치구분</th>\n",
       "      <th>과속단속구간길이</th>\n",
       "      <th>설치연도</th>\n",
       "      <th>제공기관코드</th>\n",
       "    </tr>\n",
       "  </thead>\n",
       "  <tbody>\n",
       "    <tr>\n",
       "      <th>count</th>\n",
       "      <td>30693.000000</td>\n",
       "      <td>30689.000000</td>\n",
       "      <td>30885.000000</td>\n",
       "      <td>764.000000</td>\n",
       "      <td>732.000000</td>\n",
       "      <td>26245.000000</td>\n",
       "      <td>3.088500e+04</td>\n",
       "    </tr>\n",
       "    <tr>\n",
       "      <th>mean</th>\n",
       "      <td>36.421970</td>\n",
       "      <td>127.600293</td>\n",
       "      <td>41.140003</td>\n",
       "      <td>1.459424</td>\n",
       "      <td>1262.194932</td>\n",
       "      <td>2018.095256</td>\n",
       "      <td>2.094275e+06</td>\n",
       "    </tr>\n",
       "    <tr>\n",
       "      <th>std</th>\n",
       "      <td>1.074031</td>\n",
       "      <td>1.085117</td>\n",
       "      <td>25.841931</td>\n",
       "      <td>0.498677</td>\n",
       "      <td>3420.960703</td>\n",
       "      <td>3.685779</td>\n",
       "      <td>1.330870e+06</td>\n",
       "    </tr>\n",
       "    <tr>\n",
       "      <th>min</th>\n",
       "      <td>33.224611</td>\n",
       "      <td>125.936448</td>\n",
       "      <td>0.000000</td>\n",
       "      <td>1.000000</td>\n",
       "      <td>0.000000</td>\n",
       "      <td>2002.000000</td>\n",
       "      <td>1.320000e+06</td>\n",
       "    </tr>\n",
       "    <tr>\n",
       "      <th>25%</th>\n",
       "      <td>35.404083</td>\n",
       "      <td>126.895462</td>\n",
       "      <td>30.000000</td>\n",
       "      <td>1.000000</td>\n",
       "      <td>7.100000</td>\n",
       "      <td>2016.000000</td>\n",
       "      <td>1.320000e+06</td>\n",
       "    </tr>\n",
       "    <tr>\n",
       "      <th>50%</th>\n",
       "      <td>36.478886</td>\n",
       "      <td>127.167350</td>\n",
       "      <td>50.000000</td>\n",
       "      <td>1.000000</td>\n",
       "      <td>20.000000</td>\n",
       "      <td>2019.000000</td>\n",
       "      <td>1.325472e+06</td>\n",
       "    </tr>\n",
       "    <tr>\n",
       "      <th>75%</th>\n",
       "      <td>37.472168</td>\n",
       "      <td>128.474614</td>\n",
       "      <td>60.000000</td>\n",
       "      <td>2.000000</td>\n",
       "      <td>199.000000</td>\n",
       "      <td>2021.000000</td>\n",
       "      <td>3.130000e+06</td>\n",
       "    </tr>\n",
       "    <tr>\n",
       "      <th>max</th>\n",
       "      <td>38.862839</td>\n",
       "      <td>238.877694</td>\n",
       "      <td>110.000000</td>\n",
       "      <td>2.000000</td>\n",
       "      <td>15787.000000</td>\n",
       "      <td>2022.000000</td>\n",
       "      <td>6.280000e+06</td>\n",
       "    </tr>\n",
       "  </tbody>\n",
       "</table>\n",
       "</div>"
      ],
      "text/plain": [
       "                 위도            경도          제한속도    단속구간위치구분      과속단속구간길이  \\\n",
       "count  30693.000000  30689.000000  30885.000000  764.000000    732.000000   \n",
       "mean      36.421970    127.600293     41.140003    1.459424   1262.194932   \n",
       "std        1.074031      1.085117     25.841931    0.498677   3420.960703   \n",
       "min       33.224611    125.936448      0.000000    1.000000      0.000000   \n",
       "25%       35.404083    126.895462     30.000000    1.000000      7.100000   \n",
       "50%       36.478886    127.167350     50.000000    1.000000     20.000000   \n",
       "75%       37.472168    128.474614     60.000000    2.000000    199.000000   \n",
       "max       38.862839    238.877694    110.000000    2.000000  15787.000000   \n",
       "\n",
       "               설치연도        제공기관코드  \n",
       "count  26245.000000  3.088500e+04  \n",
       "mean    2018.095256  2.094275e+06  \n",
       "std        3.685779  1.330870e+06  \n",
       "min     2002.000000  1.320000e+06  \n",
       "25%     2016.000000  1.320000e+06  \n",
       "50%     2019.000000  1.325472e+06  \n",
       "75%     2021.000000  3.130000e+06  \n",
       "max     2022.000000  6.280000e+06  "
      ]
     },
     "execution_count": 384,
     "metadata": {},
     "output_type": "execute_result"
    }
   ],
   "source": [
    "sle.describe()"
   ]
  },
  {
   "cell_type": "code",
   "execution_count": 385,
   "id": "8af9a372-871c-439e-a77a-1121dd05117d",
   "metadata": {},
   "outputs": [
    {
     "data": {
      "text/html": [
       "<div>\n",
       "<style scoped>\n",
       "    .dataframe tbody tr th:only-of-type {\n",
       "        vertical-align: middle;\n",
       "    }\n",
       "\n",
       "    .dataframe tbody tr th {\n",
       "        vertical-align: top;\n",
       "    }\n",
       "\n",
       "    .dataframe thead th {\n",
       "        text-align: right;\n",
       "    }\n",
       "</style>\n",
       "<table border=\"1\" class=\"dataframe\">\n",
       "  <thead>\n",
       "    <tr style=\"text-align: right;\">\n",
       "      <th></th>\n",
       "      <th>무인교통단속카메라관리번호</th>\n",
       "      <th>시도명</th>\n",
       "      <th>시군구명</th>\n",
       "      <th>도로종류</th>\n",
       "      <th>도로노선번호</th>\n",
       "      <th>도로노선명</th>\n",
       "      <th>도로노선방향</th>\n",
       "      <th>소재지도로명주소</th>\n",
       "      <th>소재지지번주소</th>\n",
       "      <th>설치장소</th>\n",
       "      <th>단속구분</th>\n",
       "      <th>보호구역구분</th>\n",
       "      <th>관리기관명</th>\n",
       "      <th>관리기관전화번호</th>\n",
       "      <th>데이터기준일자</th>\n",
       "      <th>제공기관명</th>\n",
       "    </tr>\n",
       "  </thead>\n",
       "  <tbody>\n",
       "    <tr>\n",
       "      <th>count</th>\n",
       "      <td>30885</td>\n",
       "      <td>30885</td>\n",
       "      <td>30885</td>\n",
       "      <td>30885</td>\n",
       "      <td>11905</td>\n",
       "      <td>30885</td>\n",
       "      <td>30764</td>\n",
       "      <td>21068</td>\n",
       "      <td>28237</td>\n",
       "      <td>30885</td>\n",
       "      <td>30874</td>\n",
       "      <td>14135</td>\n",
       "      <td>30885</td>\n",
       "      <td>30885</td>\n",
       "      <td>30885</td>\n",
       "      <td>30885</td>\n",
       "    </tr>\n",
       "    <tr>\n",
       "      <th>unique</th>\n",
       "      <td>22050</td>\n",
       "      <td>17</td>\n",
       "      <td>269</td>\n",
       "      <td>11</td>\n",
       "      <td>948</td>\n",
       "      <td>7185</td>\n",
       "      <td>7</td>\n",
       "      <td>15928</td>\n",
       "      <td>20032</td>\n",
       "      <td>24580</td>\n",
       "      <td>9</td>\n",
       "      <td>6</td>\n",
       "      <td>146</td>\n",
       "      <td>750</td>\n",
       "      <td>89</td>\n",
       "      <td>131</td>\n",
       "    </tr>\n",
       "    <tr>\n",
       "      <th>top</th>\n",
       "      <td>1</td>\n",
       "      <td>경기도</td>\n",
       "      <td>고양시</td>\n",
       "      <td>시도</td>\n",
       "      <td>1번</td>\n",
       "      <td>중앙로</td>\n",
       "      <td>3</td>\n",
       "      <td>-</td>\n",
       "      <td>전라남도 광양시 금호동 629-1</td>\n",
       "      <td>주소지 앞 도로변</td>\n",
       "      <td>2</td>\n",
       "      <td>2</td>\n",
       "      <td>경상남도경찰청</td>\n",
       "      <td>031-888-3952</td>\n",
       "      <td>2022-08-19</td>\n",
       "      <td>경찰청</td>\n",
       "    </tr>\n",
       "    <tr>\n",
       "      <th>freq</th>\n",
       "      <td>62</td>\n",
       "      <td>5866</td>\n",
       "      <td>750</td>\n",
       "      <td>11697</td>\n",
       "      <td>340</td>\n",
       "      <td>294</td>\n",
       "      <td>14239</td>\n",
       "      <td>105</td>\n",
       "      <td>23</td>\n",
       "      <td>100</td>\n",
       "      <td>13505</td>\n",
       "      <td>9106</td>\n",
       "      <td>2704</td>\n",
       "      <td>2710</td>\n",
       "      <td>11478</td>\n",
       "      <td>11478</td>\n",
       "    </tr>\n",
       "  </tbody>\n",
       "</table>\n",
       "</div>"
      ],
      "text/plain": [
       "       무인교통단속카메라관리번호    시도명   시군구명   도로종류 도로노선번호  도로노선명 도로노선방향 소재지도로명주소  \\\n",
       "count          30885  30885  30885  30885  11905  30885  30764    21068   \n",
       "unique         22050     17    269     11    948   7185      7    15928   \n",
       "top                1    경기도    고양시     시도     1번    중앙로      3        -   \n",
       "freq              62   5866    750  11697    340    294  14239      105   \n",
       "\n",
       "                   소재지지번주소       설치장소   단속구분 보호구역구분    관리기관명      관리기관전화번호  \\\n",
       "count                28237      30885  30874  14135    30885         30885   \n",
       "unique               20032      24580      9      6      146           750   \n",
       "top     전라남도 광양시 금호동 629-1  주소지 앞 도로변      2      2  경상남도경찰청  031-888-3952   \n",
       "freq                    23        100  13505   9106     2704          2710   \n",
       "\n",
       "           데이터기준일자  제공기관명  \n",
       "count        30885  30885  \n",
       "unique          89    131  \n",
       "top     2022-08-19    경찰청  \n",
       "freq         11478  11478  "
      ]
     },
     "execution_count": 385,
     "metadata": {},
     "output_type": "execute_result"
    }
   ],
   "source": [
    "sle.describe(include='object')"
   ]
  },
  {
   "cell_type": "code",
   "execution_count": 386,
   "id": "3b32d058-c673-4bb9-9bd5-901bae4f9363",
   "metadata": {},
   "outputs": [
    {
     "data": {
      "text/plain": [
       "['10',\n",
       " '강원도',\n",
       " '경기도',\n",
       " '경상남도',\n",
       " '경상북도',\n",
       " '광주광역시',\n",
       " '대구광역시',\n",
       " '대전광역시',\n",
       " '부산광역시',\n",
       " '서울특별시',\n",
       " '울산광역시',\n",
       " '인천광역시',\n",
       " '전라남도',\n",
       " '전라북도',\n",
       " '제주특별자치도',\n",
       " '충청남도',\n",
       " '충청북도']"
      ]
     },
     "execution_count": 386,
     "metadata": {},
     "output_type": "execute_result"
    }
   ],
   "source": [
    "value_counts = sle['시도명'].value_counts().sort_index()\n",
    "districts = value_counts.index.tolist()\n",
    "values = value_counts.values\n",
    "districts"
   ]
  },
  {
   "cell_type": "code",
   "execution_count": 387,
   "id": "6180dd31-7731-4e43-8af5-1fc817cd5897",
   "metadata": {},
   "outputs": [
    {
     "data": {
      "image/png": "[encoded data removed]",
      "text/plain": [
       "<Figure size 640x480 with 1 Axes>"
      ]
     },
     "metadata": {},
     "output_type": "display_data"
    }
   ],
   "source": [
    "plt.pie(values, labels = districts, autopct = '%.1f%%')\n",
    "plt.show()"
   ]
  },
  {
   "cell_type": "markdown",
   "id": "c2e13829",
   "metadata": {},
   "source": [
    "## 2. 데이터 정제"
   ]
  },
  {
   "cell_type": "markdown",
   "id": "7eedb11e",
   "metadata": {},
   "source": [
    "### 2-1. 간단한 데이터 전처리"
   ]
  },
  {
   "cell_type": "code",
   "execution_count": 388,
   "id": "5fd51a76",
   "metadata": {},
   "outputs": [],
   "source": [
    "# 원본데이터로에서 읽기 가능한 형태로 데이터처리를 하세요. (열이름 변경, 형변환, 피봇, 분석용 데이터 셋 생성 등)"
   ]
  },
  {
   "cell_type": "code",
   "execution_count": 389,
   "id": "42b87c91-a59e-49e2-8f45-06734d5f0655",
   "metadata": {},
   "outputs": [],
   "source": [
    "sle.loc[sle['시도명'] == '10', '시도명'] = '강원도'"
   ]
  },
  {
   "cell_type": "code",
   "execution_count": 390,
   "id": "6f8b037d-6470-4f3c-91c6-15daaf9ba24b",
   "metadata": {},
   "outputs": [
    {
     "data": {
      "text/plain": [
       "['강원도',\n",
       " '경기도',\n",
       " '경상남도',\n",
       " '경상북도',\n",
       " '광주광역시',\n",
       " '대구광역시',\n",
       " '대전광역시',\n",
       " '부산광역시',\n",
       " '서울특별시',\n",
       " '울산광역시',\n",
       " '인천광역시',\n",
       " '전라남도',\n",
       " '전라북도',\n",
       " '제주특별자치도',\n",
       " '충청남도',\n",
       " '충청북도']"
      ]
     },
     "execution_count": 390,
     "metadata": {},
     "output_type": "execute_result"
    }
   ],
   "source": [
    "value_counts = sle['시도명'].value_counts().sort_index()\n",
    "districts = value_counts.index.tolist()\n",
    "values = value_counts.values\n",
    "districts"
   ]
  },
  {
   "cell_type": "code",
   "execution_count": 391,
   "id": "6e90d950-4f0e-4655-8bd4-ff0da5a5d31e",
   "metadata": {},
   "outputs": [
    {
     "data": {
      "text/plain": [
       "설치연도\n",
       "2002.0       3\n",
       "2003.0       5\n",
       "2004.0      21\n",
       "2005.0      97\n",
       "2006.0     146\n",
       "2007.0     197\n",
       "2008.0     267\n",
       "2009.0     315\n",
       "2010.0     496\n",
       "2011.0     566\n",
       "2012.0     284\n",
       "2013.0     860\n",
       "2014.0     959\n",
       "2015.0     999\n",
       "2016.0    1511\n",
       "2017.0    1964\n",
       "2018.0    2157\n",
       "2019.0    2441\n",
       "2020.0    4192\n",
       "2021.0    6530\n",
       "2022.0    2235\n",
       "Name: count, dtype: int64"
      ]
     },
     "execution_count": 391,
     "metadata": {},
     "output_type": "execute_result"
    }
   ],
   "source": [
    "sle['설치연도'].value_counts().sort_index()"
   ]
  },
  {
   "cell_type": "code",
   "execution_count": 392,
   "id": "d66170be-4ffe-4248-9590-4a3f0b95fd8a",
   "metadata": {},
   "outputs": [
    {
     "data": {
      "text/html": [
       "<div>\n",
       "<style scoped>\n",
       "    .dataframe tbody tr th:only-of-type {\n",
       "        vertical-align: middle;\n",
       "    }\n",
       "\n",
       "    .dataframe tbody tr th {\n",
       "        vertical-align: top;\n",
       "    }\n",
       "\n",
       "    .dataframe thead th {\n",
       "        text-align: right;\n",
       "    }\n",
       "</style>\n",
       "<table border=\"1\" class=\"dataframe\">\n",
       "  <thead>\n",
       "    <tr style=\"text-align: right;\">\n",
       "      <th></th>\n",
       "      <th>시도명</th>\n",
       "      <th>시군구명</th>\n",
       "      <th>도로종류</th>\n",
       "      <th>도로노선명</th>\n",
       "      <th>제한속도</th>\n",
       "      <th>설치연도</th>\n",
       "    </tr>\n",
       "  </thead>\n",
       "  <tbody>\n",
       "    <tr>\n",
       "      <th>0</th>\n",
       "      <td>경상북도</td>\n",
       "      <td>상주시</td>\n",
       "      <td>일반국도</td>\n",
       "      <td>영남제일로</td>\n",
       "      <td>60</td>\n",
       "      <td>NaN</td>\n",
       "    </tr>\n",
       "    <tr>\n",
       "      <th>1</th>\n",
       "      <td>전라남도</td>\n",
       "      <td>곡성군</td>\n",
       "      <td>군도</td>\n",
       "      <td>창정리</td>\n",
       "      <td>30</td>\n",
       "      <td>2020.0</td>\n",
       "    </tr>\n",
       "    <tr>\n",
       "      <th>2</th>\n",
       "      <td>전라남도</td>\n",
       "      <td>곡성군</td>\n",
       "      <td>군도</td>\n",
       "      <td>읍내리</td>\n",
       "      <td>30</td>\n",
       "      <td>2020.0</td>\n",
       "    </tr>\n",
       "    <tr>\n",
       "      <th>3</th>\n",
       "      <td>전라남도</td>\n",
       "      <td>곡성군</td>\n",
       "      <td>군도</td>\n",
       "      <td>석곡리</td>\n",
       "      <td>30</td>\n",
       "      <td>2020.0</td>\n",
       "    </tr>\n",
       "    <tr>\n",
       "      <th>4</th>\n",
       "      <td>전라남도</td>\n",
       "      <td>곡성군</td>\n",
       "      <td>군도</td>\n",
       "      <td>죽림리</td>\n",
       "      <td>30</td>\n",
       "      <td>2020.0</td>\n",
       "    </tr>\n",
       "    <tr>\n",
       "      <th>...</th>\n",
       "      <td>...</td>\n",
       "      <td>...</td>\n",
       "      <td>...</td>\n",
       "      <td>...</td>\n",
       "      <td>...</td>\n",
       "      <td>...</td>\n",
       "    </tr>\n",
       "    <tr>\n",
       "      <th>30880</th>\n",
       "      <td>경기도</td>\n",
       "      <td>여주시</td>\n",
       "      <td>지방도</td>\n",
       "      <td>여주남로</td>\n",
       "      <td>50</td>\n",
       "      <td>2018.0</td>\n",
       "    </tr>\n",
       "    <tr>\n",
       "      <th>30881</th>\n",
       "      <td>경기도</td>\n",
       "      <td>여주시</td>\n",
       "      <td>지방도</td>\n",
       "      <td>여주남로</td>\n",
       "      <td>70</td>\n",
       "      <td>2018.0</td>\n",
       "    </tr>\n",
       "    <tr>\n",
       "      <th>30882</th>\n",
       "      <td>경기도</td>\n",
       "      <td>여주시</td>\n",
       "      <td>일반국도</td>\n",
       "      <td>경충대로</td>\n",
       "      <td>60</td>\n",
       "      <td>2018.0</td>\n",
       "    </tr>\n",
       "    <tr>\n",
       "      <th>30883</th>\n",
       "      <td>경기도</td>\n",
       "      <td>여주시</td>\n",
       "      <td>지방도</td>\n",
       "      <td>설가로</td>\n",
       "      <td>60</td>\n",
       "      <td>2018.0</td>\n",
       "    </tr>\n",
       "    <tr>\n",
       "      <th>30884</th>\n",
       "      <td>경기도</td>\n",
       "      <td>여주시</td>\n",
       "      <td>지방도</td>\n",
       "      <td>여주남로</td>\n",
       "      <td>70</td>\n",
       "      <td>2018.0</td>\n",
       "    </tr>\n",
       "  </tbody>\n",
       "</table>\n",
       "<p>30885 rows × 6 columns</p>\n",
       "</div>"
      ],
      "text/plain": [
       "        시도명 시군구명  도로종류  도로노선명  제한속도    설치연도\n",
       "0      경상북도  상주시  일반국도  영남제일로    60     NaN\n",
       "1      전라남도  곡성군    군도    창정리    30  2020.0\n",
       "2      전라남도  곡성군    군도    읍내리    30  2020.0\n",
       "3      전라남도  곡성군    군도    석곡리    30  2020.0\n",
       "4      전라남도  곡성군    군도    죽림리    30  2020.0\n",
       "...     ...  ...   ...    ...   ...     ...\n",
       "30880   경기도  여주시   지방도   여주남로    50  2018.0\n",
       "30881   경기도  여주시   지방도   여주남로    70  2018.0\n",
       "30882   경기도  여주시  일반국도   경충대로    60  2018.0\n",
       "30883   경기도  여주시   지방도    설가로    60  2018.0\n",
       "30884   경기도  여주시   지방도   여주남로    70  2018.0\n",
       "\n",
       "[30885 rows x 6 columns]"
      ]
     },
     "execution_count": 392,
     "metadata": {},
     "output_type": "execute_result"
    }
   ],
   "source": [
    "sle = sle[['시도명', '시군구명', '도로종류', '도로노선명', '제한속도', '설치연도']]\n",
    "sle"
   ]
  },
  {
   "cell_type": "markdown",
   "id": "cfa0f4f4",
   "metadata": {},
   "source": [
    "### 2-2. 데이터 클리닝"
   ]
  },
  {
   "cell_type": "code",
   "execution_count": 393,
   "id": "81050694",
   "metadata": {},
   "outputs": [],
   "source": [
    "# 결측치, 중복값, 이상치 처리등의 작업을 진행하세요"
   ]
  },
  {
   "cell_type": "markdown",
   "id": "94b01c03-879b-4b93-a375-5a88a7f3672a",
   "metadata": {},
   "source": [
    "* 결측치"
   ]
  },
  {
   "cell_type": "markdown",
   "id": "497a7431-81b3-42d2-84b5-0afde8e6c9c4",
   "metadata": {},
   "source": [
    "    - 결측치 열 확인"
   ]
  },
  {
   "cell_type": "code",
   "execution_count": 394,
   "id": "b25379b2-6ccb-4bdf-b39c-18560a41eee0",
   "metadata": {},
   "outputs": [
    {
     "data": {
      "text/plain": [
       "설치연도    True\n",
       "dtype: bool"
      ]
     },
     "execution_count": 394,
     "metadata": {},
     "output_type": "execute_result"
    }
   ],
   "source": [
    "missing_values = sle.isnull().any()  \n",
    "column_missing_values = missing_values[ missing_values == True ]\n",
    "column_missing_values"
   ]
  },
  {
   "cell_type": "raw",
   "id": "ab96e2e8-2ecc-462b-8055-915bff513d34",
   "metadata": {},
   "source": [
    "   - 결측값이 있는 모든 행 확인"
   ]
  },
  {
   "cell_type": "code",
   "execution_count": 395,
   "id": "53aa6924-3c4f-4aad-91cf-2d09b459d59b",
   "metadata": {},
   "outputs": [],
   "source": [
    "# df.isnull().any(axis=1)"
   ]
  },
  {
   "cell_type": "code",
   "execution_count": 396,
   "id": "bdd8b1c2-3356-49e5-96c3-efa8274400e6",
   "metadata": {},
   "outputs": [
    {
     "data": {
      "text/plain": [
       "설치연도    True\n",
       "dtype: bool"
      ]
     },
     "execution_count": 396,
     "metadata": {},
     "output_type": "execute_result"
    }
   ],
   "source": [
    "missing_values = sle.isnull().any()  \n",
    "column_missing_values = missing_values[ missing_values == True ]\n",
    "column_missing_values"
   ]
  },
  {
   "cell_type": "markdown",
   "id": "b9cbf7a2-7aa7-4d87-86d8-b31476a77a01",
   "metadata": {},
   "source": [
    "* 결측치 보정"
   ]
  },
  {
   "cell_type": "raw",
   "id": "adbf1968-8d29-4baa-949e-d6394e19b81b",
   "metadata": {},
   "source": [
    "   - 열에 대하여 단일 값 보정     "
   ]
  },
  {
   "cell_type": "code",
   "execution_count": 397,
   "id": "0e6c6935-a8a6-4df0-bed5-8da8fd160ec2",
   "metadata": {},
   "outputs": [],
   "source": [
    "# df['나이'] = df['나이'].fillna(0)"
   ]
  },
  {
   "cell_type": "code",
   "execution_count": 398,
   "id": "789fc2c0-349c-4097-8fa7-a5132f1df49b",
   "metadata": {},
   "outputs": [
    {
     "name": "stdout",
     "output_type": "stream",
     "text": [
      "<class 'pandas.core.frame.DataFrame'>\n",
      "RangeIndex: 30885 entries, 0 to 30884\n",
      "Data columns (total 6 columns):\n",
      " #   Column  Non-Null Count  Dtype  \n",
      "---  ------  --------------  -----  \n",
      " 0   시도명     30885 non-null  object \n",
      " 1   시군구명    30885 non-null  object \n",
      " 2   도로종류    30885 non-null  object \n",
      " 3   도로노선명   30885 non-null  object \n",
      " 4   제한속도    30885 non-null  int64  \n",
      " 5   설치연도    26245 non-null  float64\n",
      "dtypes: float64(1), int64(1), object(4)\n",
      "memory usage: 1.4+ MB\n"
     ]
    }
   ],
   "source": [
    "sle.info()"
   ]
  },
  {
   "cell_type": "code",
   "execution_count": 399,
   "id": "47842c0d-0058-495a-b246-c72f14596cc2",
   "metadata": {},
   "outputs": [
    {
     "name": "stdout",
     "output_type": "stream",
     "text": [
      "<class 'pandas.core.frame.DataFrame'>\n",
      "RangeIndex: 30885 entries, 0 to 30884\n",
      "Data columns (total 6 columns):\n",
      " #   Column  Non-Null Count  Dtype  \n",
      "---  ------  --------------  -----  \n",
      " 0   시도명     30885 non-null  object \n",
      " 1   시군구명    30885 non-null  object \n",
      " 2   도로종류    30885 non-null  object \n",
      " 3   도로노선명   30885 non-null  object \n",
      " 4   제한속도    30885 non-null  int64  \n",
      " 5   설치연도    30885 non-null  float64\n",
      "dtypes: float64(1), int64(1), object(4)\n",
      "memory usage: 1.4+ MB\n"
     ]
    },
    {
     "name": "stderr",
     "output_type": "stream",
     "text": [
      "C:\\Users\\user\\AppData\\Local\\Temp\\ipykernel_13224\\2608709228.py:1: SettingWithCopyWarning: \n",
      "A value is trying to be set on a copy of a slice from a DataFrame\n",
      "\n",
      "See the caveats in the documentation: https://pandas.pydata.org/pandas-docs/stable/user_guide/indexing.html#returning-a-view-versus-a-copy\n",
      "  sle['설치연도'].fillna(99, inplace = True)\n"
     ]
    }
   ],
   "source": [
    "sle['설치연도'].fillna(99, inplace = True)\n",
    "sle.info()"
   ]
  },
  {
   "cell_type": "code",
   "execution_count": 400,
   "id": "596e3aad-a659-4e3e-9910-60d27de4207a",
   "metadata": {},
   "outputs": [
    {
     "name": "stderr",
     "output_type": "stream",
     "text": [
      "C:\\Users\\user\\AppData\\Local\\Temp\\ipykernel_13224\\1119031857.py:1: SettingWithCopyWarning: \n",
      "A value is trying to be set on a copy of a slice from a DataFrame.\n",
      "Try using .loc[row_indexer,col_indexer] = value instead\n",
      "\n",
      "See the caveats in the documentation: https://pandas.pydata.org/pandas-docs/stable/user_guide/indexing.html#returning-a-view-versus-a-copy\n",
      "  sle['설치연도'] = sle['설치연도'].astype('object')\n"
     ]
    },
    {
     "data": {
      "text/plain": [
       "0        False\n",
       "1        False\n",
       "2        False\n",
       "3        False\n",
       "4        False\n",
       "         ...  \n",
       "30880    False\n",
       "30881    False\n",
       "30882    False\n",
       "30883    False\n",
       "30884    False\n",
       "Name: 설치연도, Length: 30885, dtype: bool"
      ]
     },
     "execution_count": 400,
     "metadata": {},
     "output_type": "execute_result"
    }
   ],
   "source": [
    "sle['설치연도'] = sle['설치연도'].astype('object')\n",
    "sle['설치연도'] == '미확인'"
   ]
  },
  {
   "cell_type": "code",
   "execution_count": 401,
   "id": "04589b38-2c2b-4fab-b6b1-5eb2265107d6",
   "metadata": {},
   "outputs": [
    {
     "name": "stdout",
     "output_type": "stream",
     "text": [
      "<class 'pandas.core.frame.DataFrame'>\n",
      "RangeIndex: 30885 entries, 0 to 30884\n",
      "Data columns (total 6 columns):\n",
      " #   Column  Non-Null Count  Dtype \n",
      "---  ------  --------------  ----- \n",
      " 0   시도명     30885 non-null  object\n",
      " 1   시군구명    30885 non-null  object\n",
      " 2   도로종류    30885 non-null  object\n",
      " 3   도로노선명   30885 non-null  object\n",
      " 4   제한속도    30885 non-null  int64 \n",
      " 5   설치연도    30885 non-null  object\n",
      "dtypes: int64(1), object(5)\n",
      "memory usage: 1.4+ MB\n"
     ]
    }
   ],
   "source": [
    "sle.info()"
   ]
  },
  {
   "cell_type": "code",
   "execution_count": 402,
   "id": "bd698b6e-0771-44fe-92bc-9d58ee59700f",
   "metadata": {},
   "outputs": [
    {
     "data": {
      "text/html": [
       "<div>\n",
       "<style scoped>\n",
       "    .dataframe tbody tr th:only-of-type {\n",
       "        vertical-align: middle;\n",
       "    }\n",
       "\n",
       "    .dataframe tbody tr th {\n",
       "        vertical-align: top;\n",
       "    }\n",
       "\n",
       "    .dataframe thead th {\n",
       "        text-align: right;\n",
       "    }\n",
       "</style>\n",
       "<table border=\"1\" class=\"dataframe\">\n",
       "  <thead>\n",
       "    <tr style=\"text-align: right;\">\n",
       "      <th></th>\n",
       "      <th>시도명</th>\n",
       "      <th>시군구명</th>\n",
       "      <th>도로종류</th>\n",
       "      <th>도로노선명</th>\n",
       "      <th>제한속도</th>\n",
       "      <th>설치연도</th>\n",
       "    </tr>\n",
       "  </thead>\n",
       "  <tbody>\n",
       "    <tr>\n",
       "      <th>76</th>\n",
       "      <td>부산광역시</td>\n",
       "      <td>서구</td>\n",
       "      <td>구도</td>\n",
       "      <td>보수대로</td>\n",
       "      <td>-1</td>\n",
       "      <td>2021.0</td>\n",
       "    </tr>\n",
       "    <tr>\n",
       "      <th>77</th>\n",
       "      <td>부산광역시</td>\n",
       "      <td>서구</td>\n",
       "      <td>구도</td>\n",
       "      <td>부용로</td>\n",
       "      <td>-1</td>\n",
       "      <td>2021.0</td>\n",
       "    </tr>\n",
       "    <tr>\n",
       "      <th>78</th>\n",
       "      <td>부산광역시</td>\n",
       "      <td>서구</td>\n",
       "      <td>구도</td>\n",
       "      <td>천해로</td>\n",
       "      <td>-1</td>\n",
       "      <td>2021.0</td>\n",
       "    </tr>\n",
       "    <tr>\n",
       "      <th>79</th>\n",
       "      <td>부산광역시</td>\n",
       "      <td>서구</td>\n",
       "      <td>구도</td>\n",
       "      <td>보수대로</td>\n",
       "      <td>-1</td>\n",
       "      <td>2021.0</td>\n",
       "    </tr>\n",
       "    <tr>\n",
       "      <th>80</th>\n",
       "      <td>서울특별시</td>\n",
       "      <td>광진구</td>\n",
       "      <td>구도</td>\n",
       "      <td>영화사로</td>\n",
       "      <td>-1</td>\n",
       "      <td>2020.0</td>\n",
       "    </tr>\n",
       "    <tr>\n",
       "      <th>...</th>\n",
       "      <td>...</td>\n",
       "      <td>...</td>\n",
       "      <td>...</td>\n",
       "      <td>...</td>\n",
       "      <td>...</td>\n",
       "      <td>...</td>\n",
       "    </tr>\n",
       "    <tr>\n",
       "      <th>30851</th>\n",
       "      <td>경기도</td>\n",
       "      <td>여주시</td>\n",
       "      <td>시도</td>\n",
       "      <td>청심로</td>\n",
       "      <td>-1</td>\n",
       "      <td>2015.0</td>\n",
       "    </tr>\n",
       "    <tr>\n",
       "      <th>30852</th>\n",
       "      <td>경기도</td>\n",
       "      <td>여주시</td>\n",
       "      <td>시도</td>\n",
       "      <td>교동로</td>\n",
       "      <td>-1</td>\n",
       "      <td>2016.0</td>\n",
       "    </tr>\n",
       "    <tr>\n",
       "      <th>30853</th>\n",
       "      <td>경기도</td>\n",
       "      <td>여주시</td>\n",
       "      <td>시도</td>\n",
       "      <td>교동로</td>\n",
       "      <td>-1</td>\n",
       "      <td>2016.0</td>\n",
       "    </tr>\n",
       "    <tr>\n",
       "      <th>30854</th>\n",
       "      <td>경기도</td>\n",
       "      <td>여주시</td>\n",
       "      <td>시도</td>\n",
       "      <td>도예로</td>\n",
       "      <td>-1</td>\n",
       "      <td>2017.0</td>\n",
       "    </tr>\n",
       "    <tr>\n",
       "      <th>30855</th>\n",
       "      <td>경기도</td>\n",
       "      <td>여주시</td>\n",
       "      <td>시도</td>\n",
       "      <td>도예로</td>\n",
       "      <td>-1</td>\n",
       "      <td>2017.0</td>\n",
       "    </tr>\n",
       "  </tbody>\n",
       "</table>\n",
       "<p>5608 rows × 6 columns</p>\n",
       "</div>"
      ],
      "text/plain": [
       "         시도명 시군구명 도로종류 도로노선명  제한속도    설치연도\n",
       "76     부산광역시   서구   구도  보수대로    -1  2021.0\n",
       "77     부산광역시   서구   구도   부용로    -1  2021.0\n",
       "78     부산광역시   서구   구도   천해로    -1  2021.0\n",
       "79     부산광역시   서구   구도  보수대로    -1  2021.0\n",
       "80     서울특별시  광진구   구도  영화사로    -1  2020.0\n",
       "...      ...  ...  ...   ...   ...     ...\n",
       "30851    경기도  여주시   시도   청심로    -1  2015.0\n",
       "30852    경기도  여주시   시도   교동로    -1  2016.0\n",
       "30853    경기도  여주시   시도   교동로    -1  2016.0\n",
       "30854    경기도  여주시   시도   도예로    -1  2017.0\n",
       "30855    경기도  여주시   시도   도예로    -1  2017.0\n",
       "\n",
       "[5608 rows x 6 columns]"
      ]
     },
     "execution_count": 402,
     "metadata": {},
     "output_type": "execute_result"
    }
   ],
   "source": [
    "sle.loc[sle['제한속도'] == 0, ['제한속도']] = -1\n",
    "sle[sle['제한속도'] == -1]"
   ]
  },
  {
   "cell_type": "raw",
   "id": "367abb36-a09d-4f12-be6d-cd0bc685f452",
   "metadata": {},
   "source": [
    "   - 데이터 프레임 전체에 단일 값 보정  "
   ]
  },
  {
   "cell_type": "code",
   "execution_count": 354,
   "id": "437088df-6ab9-474d-9b3f-503b9f8e2476",
   "metadata": {},
   "outputs": [],
   "source": [
    "# df = df.fillna(0)"
   ]
  },
  {
   "cell_type": "markdown",
   "id": "6cb87513-ac6b-49cd-98bd-6ff427c5d759",
   "metadata": {},
   "source": [
    "* 중복값 삭제 (필요시)"
   ]
  },
  {
   "cell_type": "raw",
   "id": "4e12f2c7-add7-47b8-a986-376fc1f2634e",
   "metadata": {},
   "source": [
    "  - 모든 중복 행데이터 확인"
   ]
  },
  {
   "cell_type": "code",
   "execution_count": null,
   "id": "eb5f565f-8fc8-434f-bb66-a9d1c75a7605",
   "metadata": {},
   "outputs": [],
   "source": [
    "# df[df.duplicated(keep=False)]"
   ]
  },
  {
   "cell_type": "raw",
   "id": "e847b33e-f13a-47bd-af55-111bf56442b2",
   "metadata": {},
   "source": [
    "  - 모든 중복 행데이터 삭제"
   ]
  },
  {
   "cell_type": "code",
   "execution_count": null,
   "id": "a352aa67-0634-483e-a41b-ba06c6cf51ab",
   "metadata": {},
   "outputs": [],
   "source": [
    "# df.drop_duplicates(inplace=True)"
   ]
  },
  {
   "cell_type": "markdown",
   "id": "9dac0879",
   "metadata": {},
   "source": [
    "## 3. 추가데이터 분석"
   ]
  },
  {
   "cell_type": "markdown",
   "id": "253f0cc0",
   "metadata": {},
   "source": [
    "### 3.1. 데이터 정제후 데이터스키마 재확인"
   ]
  },
  {
   "cell_type": "markdown",
   "id": "1812339b-9396-4195-833b-4be5a041d05d",
   "metadata": {},
   "source": [
    "* 1-2 작업을 다시 해보세요."
   ]
  },
  {
   "cell_type": "code",
   "execution_count": 404,
   "id": "de404d4d-453f-42eb-b369-05f4e442a5e8",
   "metadata": {},
   "outputs": [
    {
     "name": "stdout",
     "output_type": "stream",
     "text": [
      "<class 'pandas.core.frame.DataFrame'>\n",
      "Index: 1439 entries, 3507 to 20526\n",
      "Data columns (total 5 columns):\n",
      " #   Column  Non-Null Count  Dtype \n",
      "---  ------  --------------  ----- \n",
      " 0   시군구명    1439 non-null   object\n",
      " 1   도로노선명   1439 non-null   object\n",
      " 2   도로종류    1439 non-null   object\n",
      " 3   제한속도    1439 non-null   int64 \n",
      " 4   설치연도    1439 non-null   object\n",
      "dtypes: int64(1), object(4)\n",
      "memory usage: 67.5+ KB\n"
     ]
    }
   ],
   "source": [
    "daegu = sle[sle['시도명'] == '대구광역시']\n",
    "daegu_sle = daegu[['시군구명', '도로노선명', '도로종류', '제한속도', '설치연도']]\n",
    "daegu_sle.info()"
   ]
  },
  {
   "cell_type": "markdown",
   "id": "8a244e0a",
   "metadata": {},
   "source": [
    "### 3.2 데이터 기초정보 정보 확인"
   ]
  },
  {
   "cell_type": "markdown",
   "id": "3361d7b0-6b2c-493e-a6f8-20bcb153b912",
   "metadata": {},
   "source": [
    "* 최대값, 최소값, 평균값, 표준편차, 최빈값, 유일값, 결측치, 이상치 등의 정보를 재확인해 보세요"
   ]
  },
  {
   "cell_type": "code",
   "execution_count": 405,
   "id": "c96eec5b-f1eb-4fe1-a99a-b653bd85b663",
   "metadata": {},
   "outputs": [
    {
     "data": {
      "text/plain": [
       "array(['달서', '수성', '성서', '서부', '남부', '북부', '동부', '달성', '중부', '강북', '남구',\n",
       "       '달서구', '달성군', '북구', '중구', '동구', '서구', '수성구', '달성구'], dtype=object)"
      ]
     },
     "execution_count": 405,
     "metadata": {},
     "output_type": "execute_result"
    }
   ],
   "source": [
    "daegu_sle['시군구명'].unique()"
   ]
  },
  {
   "cell_type": "code",
   "execution_count": 406,
   "id": "1c6bdd28-8492-4559-afdf-a0e322cb1cfc",
   "metadata": {},
   "outputs": [
    {
     "data": {
      "text/plain": [
       "array(['시도', '일반국도', '지방도', '구도', '군도'], dtype=object)"
      ]
     },
     "execution_count": 406,
     "metadata": {},
     "output_type": "execute_result"
    }
   ],
   "source": [
    "daegu_sle['도로종류'].unique()"
   ]
  },
  {
   "cell_type": "code",
   "execution_count": 407,
   "id": "b19ed37b-f1ed-4ab6-858c-396df5314382",
   "metadata": {},
   "outputs": [
    {
     "data": {
      "text/plain": [
       "array([50, 30, 60, 40, 70, 80, -1], dtype=int64)"
      ]
     },
     "execution_count": 407,
     "metadata": {},
     "output_type": "execute_result"
    }
   ],
   "source": [
    "daegu_sle['제한속도'].unique()"
   ]
  },
  {
   "cell_type": "code",
   "execution_count": 408,
   "id": "73adf066-cdd2-40c0-a719-2530a81bb238",
   "metadata": {},
   "outputs": [
    {
     "data": {
      "text/plain": [
       "array([2020.0, 2021.0, 2019.0, 2018.0, 2017.0, 2016.0, 2014.0, 2015.0,\n",
       "       2013.0, 2011.0, 2010.0, 2005.0, 2006.0, 2007.0, 2008.0, 2009.0,\n",
       "       2012.0, 2022.0], dtype=object)"
      ]
     },
     "execution_count": 408,
     "metadata": {},
     "output_type": "execute_result"
    }
   ],
   "source": [
    "daegu_sle['설치연도'].unique()"
   ]
  },
  {
   "cell_type": "code",
   "execution_count": 409,
   "id": "5991c564-510f-40db-b7ba-a64f553f632d",
   "metadata": {},
   "outputs": [
    {
     "data": {
      "text/plain": [
       "count    1439.000000\n",
       "mean       41.865184\n",
       "std        21.309362\n",
       "min        -1.000000\n",
       "25%        30.000000\n",
       "50%        50.000000\n",
       "75%        60.000000\n",
       "max        80.000000\n",
       "Name: 제한속도, dtype: float64"
      ]
     },
     "execution_count": 409,
     "metadata": {},
     "output_type": "execute_result"
    }
   ],
   "source": [
    "daegu_sle['제한속도'].describe()"
   ]
  },
  {
   "cell_type": "markdown",
   "id": "e73d61a5",
   "metadata": {},
   "source": [
    "### 3.3 시각화를 통한 데이터이해 심화"
   ]
  },
  {
   "cell_type": "markdown",
   "id": "5de7dac1-31b5-4138-a9a6-33fbbde9caac",
   "metadata": {},
   "source": [
    "* 데이터의 성격에 따라 이해도를 올리기 위해 시각화가 필요한 데이터차트를 만들어 보세요.  \n",
    "  (Seaborn 추천: 페어플롯, 막대차트, 파이차트, 라인차트, 히스토그램등..)"
   ]
  },
  {
   "cell_type": "code",
   "execution_count": 412,
   "id": "f1d53aa1-b462-49a6-a745-b3a7c1368f8d",
   "metadata": {},
   "outputs": [
    {
     "name": "stdout",
     "output_type": "stream",
     "text": [
      "<class 'pandas.core.frame.DataFrame'>\n",
      "Index: 1439 entries, 3507 to 20526\n",
      "Data columns (total 5 columns):\n",
      " #   Column  Non-Null Count  Dtype \n",
      "---  ------  --------------  ----- \n",
      " 0   시군구명    1439 non-null   object\n",
      " 1   도로노선명   1439 non-null   object\n",
      " 2   도로종류    1439 non-null   object\n",
      " 3   제한속도    1439 non-null   int64 \n",
      " 4   설치연도    1439 non-null   object\n",
      "dtypes: int64(1), object(4)\n",
      "memory usage: 67.5+ KB\n"
     ]
    }
   ],
   "source": [
    "daegu_sle.loc[daegu_sle['시군구명'] == '달서', '시군구명'] = '달서구'\n",
    "daegu_sle.loc[daegu_sle['시군구명'] == '수성', '시군구명'] = '수성구'\n",
    "daegu_sle.loc[daegu_sle['시군구명'] == '성서', '시군구명'] = '서구'\n",
    "daegu_sle.loc[daegu_sle['시군구명'] == '서부', '시군구명'] = '서구'\n",
    "daegu_sle.loc[daegu_sle['시군구명'] == '남부', '시군구명'] = '남구'\n",
    "daegu_sle.loc[daegu_sle['시군구명'] == '북부', '시군구명'] = '북구'\n",
    "daegu_sle.loc[daegu_sle['시군구명'] == '동부', '시군구명'] = '동구'\n",
    "daegu_sle.loc[daegu_sle['시군구명'] == '달성', '시군구명'] = '달성군'\n",
    "daegu_sle.loc[daegu_sle['시군구명'] == '중부', '시군구명'] = '중구'\n",
    "daegu_sle.loc[daegu_sle['시군구명'] == '강북', '시군구명'] = '북구'\n",
    "daegu_sle.loc[daegu_sle['시군구명'] == '달성구', '시군구명'] = '달성군'\n",
    "daegu_sle.info()"
   ]
  },
  {
   "cell_type": "code",
   "execution_count": 413,
   "id": "20b16c1a-1da4-4061-8271-dc41439f062e",
   "metadata": {},
   "outputs": [
    {
     "name": "stdout",
     "output_type": "stream",
     "text": [
      "<class 'pandas.core.frame.DataFrame'>\n",
      "Index: 1233 entries, 3507 to 20526\n",
      "Data columns (total 5 columns):\n",
      " #   Column  Non-Null Count  Dtype \n",
      "---  ------  --------------  ----- \n",
      " 0   시군구명    1233 non-null   object\n",
      " 1   도로노선명   1233 non-null   object\n",
      " 2   도로종류    1233 non-null   object\n",
      " 3   제한속도    1233 non-null   int64 \n",
      " 4   설치연도    1233 non-null   object\n",
      "dtypes: int64(1), object(4)\n",
      "memory usage: 57.8+ KB\n"
     ]
    }
   ],
   "source": [
    "daegu_sle = daegu_sle.loc[daegu_sle['제한속도'] > 0]\n",
    "daegu_sle.info()"
   ]
  },
  {
   "cell_type": "code",
   "execution_count": 464,
   "id": "228d61e4-b127-4d58-92d6-4355f5900780",
   "metadata": {},
   "outputs": [
    {
     "data": {
      "text/plain": [
       "시군구명\n",
       "남구      54\n",
       "달서구    221\n",
       "달성군    271\n",
       "동구     144\n",
       "북구     228\n",
       "서구     129\n",
       "수성구    141\n",
       "중구      45\n",
       "Name: count, dtype: int64"
      ]
     },
     "execution_count": 464,
     "metadata": {},
     "output_type": "execute_result"
    }
   ],
   "source": [
    "daegu_value_counts = daegu_sle['시군구명'].value_counts().sort_index()\n",
    "daegu_districts = daegu_value_counts.index.tolist()\n",
    "daegu_values = daegu_value_counts.values\n",
    "daegu_value_counts"
   ]
  },
  {
   "cell_type": "code",
   "execution_count": 450,
   "id": "8832db89-1e87-48e3-8843-82c7a2fcf63f",
   "metadata": {},
   "outputs": [
    {
     "name": "stderr",
     "output_type": "stream",
     "text": [
      "C:\\Users\\user\\anaconda3\\Lib\\site-packages\\seaborn\\_oldcore.py:1765: FutureWarning: unique with argument that is not not a Series, Index, ExtensionArray, or np.ndarray is deprecated and will raise in a future version.\n",
      "  order = pd.unique(vector)\n"
     ]
    },
    {
     "data": {
      "image/png": "[encoded data removed]",
      "text/plain": [
       "<Figure size 640x480 with 1 Axes>"
      ]
     },
     "metadata": {},
     "output_type": "display_data"
    }
   ],
   "source": [
    "sns.barplot(data = daegu_sle, x = daegu_districts, y = daegu_values)\n",
    "plt.show()"
   ]
  },
  {
   "cell_type": "code",
   "execution_count": 445,
   "id": "1bbe473d-ca19-4fef-881b-2314bf5b8f78",
   "metadata": {},
   "outputs": [
    {
     "data": {
      "image/png": "[encoded data removed]",
      "text/plain": [
       "<Figure size 640x480 with 1 Axes>"
      ]
     },
     "metadata": {},
     "output_type": "display_data"
    }
   ],
   "source": [
    "plt.pie(daegu_values, labels = daegu_districts, autopct = '%.f%%')\n",
    "plt.show()"
   ]
  },
  {
   "cell_type": "code",
   "execution_count": 466,
   "id": "a54be358-418f-4921-bad5-420e6145000e",
   "metadata": {},
   "outputs": [
    {
     "data": {
      "text/plain": [
       "제한속도\n",
       "30    273\n",
       "40    115\n",
       "50    441\n",
       "60    318\n",
       "70     35\n",
       "80     51\n",
       "Name: count, dtype: int64"
      ]
     },
     "execution_count": 466,
     "metadata": {},
     "output_type": "execute_result"
    }
   ],
   "source": [
    "speed_value_counts = daegu_sle['제한속도'].value_counts().sort_index()\n",
    "daegu_speeds = speed_value_counts.index.tolist()\n",
    "speed_values = speed_value_counts.values\n",
    "speed_value_counts"
   ]
  },
  {
   "cell_type": "code",
   "execution_count": 495,
   "id": "50b347a3-3c6e-40b9-92ed-2248b9cc7ae7",
   "metadata": {},
   "outputs": [
    {
     "name": "stderr",
     "output_type": "stream",
     "text": [
      "C:\\Users\\user\\anaconda3\\Lib\\site-packages\\seaborn\\_oldcore.py:1119: FutureWarning: use_inf_as_na option is deprecated and will be removed in a future version. Convert inf values to NaN before operating instead.\n",
      "  with pd.option_context('mode.use_inf_as_na', True):\n"
     ]
    },
    {
     "data": {
      "text/plain": [
       "<Axes: xlabel='도로종류', ylabel='Count'>"
      ]
     },
     "execution_count": 495,
     "metadata": {},
     "output_type": "execute_result"
    },
    {
     "data": {
      "image/png": "[encoded data removed]",
      "text/plain": [
       "<Figure size 640x480 with 1 Axes>"
      ]
     },
     "metadata": {},
     "output_type": "display_data"
    }
   ],
   "source": [
    "sns.histplot(data = daegu_sle, x = '도로종류')"
   ]
  },
  {
   "cell_type": "code",
   "execution_count": 481,
   "id": "7c607105-8e80-463a-b746-6c160e412adc",
   "metadata": {},
   "outputs": [
    {
     "data": {
      "text/plain": [
       "<Axes: xlabel='시군구명', ylabel='제한속도'>"
      ]
     },
     "execution_count": 481,
     "metadata": {},
     "output_type": "execute_result"
    },
    {
     "data": {
      "image/png": "[encoded data removed]",
      "text/plain": [
       "<Figure size 640x480 with 1 Axes>"
      ]
     },
     "metadata": {},
     "output_type": "display_data"
    }
   ],
   "source": [
    "sns.boxplot(data = daegu_sle, x = '시군구명', y = '제한속도', hue = '도로종류')"
   ]
  },
  {
   "cell_type": "code",
   "execution_count": 478,
   "id": "44b84d6d-85da-4bfd-b5d6-241cb5d8045d",
   "metadata": {},
   "outputs": [
    {
     "data": {
      "text/plain": [
       "<Axes: xlabel='도로종류', ylabel='제한속도'>"
      ]
     },
     "execution_count": 478,
     "metadata": {},
     "output_type": "execute_result"
    },
    {
     "data": {
      "image/png": "[encoded data removed]",
      "text/plain": [
       "<Figure size 640x480 with 1 Axes>"
      ]
     },
     "metadata": {},
     "output_type": "display_data"
    }
   ],
   "source": [
    "sns.violinplot(data = daegu_sle, x = '도로종류', y = '제한속도')"
   ]
  },
  {
   "cell_type": "code",
   "execution_count": 463,
   "id": "efb23ce3-c500-4ef6-82c4-b578674709a9",
   "metadata": {},
   "outputs": [
    {
     "data": {
      "text/plain": [
       "도로종류\n",
       "군도        58\n",
       "시도      1002\n",
       "일반국도     158\n",
       "지방도       15\n",
       "Name: count, dtype: int64"
      ]
     },
     "execution_count": 463,
     "metadata": {},
     "output_type": "execute_result"
    }
   ],
   "source": [
    "road_value_counts = daegu_sle['도로종류'].value_counts().sort_index()\n",
    "daegu_roads = road_value_counts.index.tolist()\n",
    "daegu_road_values = road_value_counts.values\n",
    "road_value_counts"
   ]
  },
  {
   "cell_type": "code",
   "execution_count": 438,
   "id": "a66b2e42-98fd-4280-a62a-0cab94cab130",
   "metadata": {},
   "outputs": [
    {
     "data": {
      "image/png": "[encoded data removed]",
      "text/plain": [
       "<Figure size 640x480 with 1 Axes>"
      ]
     },
     "metadata": {},
     "output_type": "display_data"
    }
   ],
   "source": [
    "sns.boxplot(data = daegu_sle, x = '설치연도', y = '제한속도')\n",
    "plt.xticks(rotation = 45)\n",
    "plt.show()"
   ]
  },
  {
   "cell_type": "markdown",
   "id": "f4fa4f46-073f-4c62-b4ae-54ade39c5251",
   "metadata": {},
   "source": [
    "### 3.4 데이터 분석 결과도출"
   ]
  },
  {
   "cell_type": "markdown",
   "id": "477f095f-e884-4326-af1f-ebea049c3546",
   "metadata": {},
   "source": [
    "* 데이터 분석을 통해 얻은 새로운 지식, 인사이트를 정리하세요.\n",
    "* 새로운 지식 및 인사이트 별 비지니스 전략을 도출할 수 있으면 정리해 보세요"
   ]
  },
  {
   "cell_type": "markdown",
   "id": "62285fcb-e417-4765-98a6-07de1f330164",
   "metadata": {},
   "source": [
    "### 인사이트 도출"
   ]
  },
  {
   "cell_type": "markdown",
   "id": "e5384871-1a95-47f4-85e6-818e9f0fe82a",
   "metadata": {},
   "source": [
    "* 대구 외곽지역으로 나갈수록 단속 카메라가 더 많이 설치되어있다.\n",
    "* 대구 중심부로 들어올수록 제한속도가 낮은 구간이 더 많다.\n",
    "* 대구 지역 내 50 ~ 60km/h 제한인 도로가 가장 보편적이다.\n",
    "* 2020년부터 어린이 보호구역 제한속도인 30 ~ 40 km/h 구간 설치가 많아진 것을 확인할 수 있다.\n",
    "* 군도는 달성군에만 존재한다."
   ]
  }
 ],
 "metadata": {
  "kernelspec": {
   "display_name": "Python 3 (ipykernel)",
   "language": "python",
   "name": "python3"
  },
  "language_info": {
   "codemirror_mode": {
    "name": "ipython",
    "version": 3
   },
   "file_extension": ".py",
   "mimetype": "text/x-python",
   "name": "python",
   "nbconvert_exporter": "python",
   "pygments_lexer": "ipython3",
   "version": "3.11.7"
  }
 },
 "nbformat": 4,
 "nbformat_minor": 5
}
