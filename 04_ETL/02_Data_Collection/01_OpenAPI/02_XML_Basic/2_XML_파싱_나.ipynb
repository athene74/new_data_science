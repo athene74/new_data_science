{
 "cells": [
  {
   "cell_type": "markdown",
   "id": "dd265cf6-7014-48e3-9c7e-36f548365233",
   "metadata": {},
   "source": [
    "# XML 파싱"
   ]
  },
  {
   "cell_type": "code",
   "execution_count": 5,
   "id": "f9a97aae-3ac2-4f4b-8f7a-b290387f7412",
   "metadata": {},
   "outputs": [],
   "source": [
    "from xml.etree.ElementTree import parse,dump"
   ]
  },
  {
   "cell_type": "code",
   "execution_count": 6,
   "id": "f8bdef34-183f-43b8-9fee-217f60fe2742",
   "metadata": {},
   "outputs": [
    {
     "name": "stdout",
     "output_type": "stream",
     "text": [
      " D 드라이브의 볼륨에는 이름이 없습니다.\n",
      " 볼륨 일련 번호: 64E7-45B0\n",
      "\n",
      " D:\\hjnam\\project\\DataScience\\04_ETL\\02_Data_Collection\\01_OpenAPI\\02_XML_Basic 디렉터리\n",
      "\n",
      "2024-07-31  오전 10:27    <DIR>          .\n",
      "2024-07-31  오전 10:27    <DIR>          ..\n",
      "2024-07-31  오전 10:25    <DIR>          .ipynb_checkpoints\n",
      "2024-07-31  오전 10:24            12,541 1_basic.ipynb\n",
      "2024-07-31  오전 10:22            12,573 1_basic_수업.ipynb\n",
      "2024-07-31  오전 10:27             3,408 2_XML_파싱.ipynb\n",
      "2024-07-31  오전 10:22               334 message_작성실습.xml\n",
      "               4개 파일              28,856 바이트\n",
      "               3개 디렉터리  1,995,383,947,264 바이트 남음\n"
     ]
    }
   ],
   "source": [
    "!dir"
   ]
  },
  {
   "cell_type": "markdown",
   "id": "16f5d7d6-3b00-4178-967a-b563353f3724",
   "metadata": {},
   "source": [
    "* XML 파일에서 노드 읽기"
   ]
  },
  {
   "cell_type": "code",
   "execution_count": 27,
   "id": "9afb7092-bff8-435b-8e06-759df76739b4",
   "metadata": {},
   "outputs": [],
   "source": [
    "tree = parse('message_작성실습.xml')\n",
    "message = tree.getroot()"
   ]
  },
  {
   "cell_type": "code",
   "execution_count": 28,
   "id": "0c4f9b49-50b1-476b-9be8-913ec27a4058",
   "metadata": {},
   "outputs": [
    {
     "name": "stdout",
     "output_type": "stream",
     "text": [
      "<message date=\"20240731\"><to>김해민</to><dummy /><from>남효정</from></message>\n"
     ]
    }
   ],
   "source": [
    "dump(message)"
   ]
  },
  {
   "cell_type": "markdown",
   "id": "b1e481ff-ba9b-4805-ab51-a76e45ff8a45",
   "metadata": {},
   "source": [
    "* XML 속성 읽기"
   ]
  },
  {
   "cell_type": "markdown",
   "id": "52d86413-8887-4f3c-89c0-44bcf5224a47",
   "metadata": {},
   "source": [
    "노드.get('속성명')"
   ]
  },
  {
   "cell_type": "code",
   "execution_count": 29,
   "id": "99aa69b8-5261-48ca-a5cd-a47f8fdab635",
   "metadata": {},
   "outputs": [
    {
     "data": {
      "text/plain": [
       "'20240731'"
      ]
     },
     "execution_count": 29,
     "metadata": {},
     "output_type": "execute_result"
    }
   ],
   "source": [
    "message.get('date')"
   ]
  },
  {
   "cell_type": "code",
   "execution_count": 30,
   "id": "ce672e23-63cc-40c5-9bc0-c118656e0169",
   "metadata": {},
   "outputs": [],
   "source": [
    "message.get('wether')"
   ]
  },
  {
   "cell_type": "code",
   "execution_count": 31,
   "id": "a85a36d0-8ed3-4645-a3f0-fce330f96276",
   "metadata": {},
   "outputs": [
    {
     "name": "stdout",
     "output_type": "stream",
     "text": [
      "None\n"
     ]
    }
   ],
   "source": [
    "print(message.get('wether')) # 지정한 속성 값이 없으면 None을 반환"
   ]
  },
  {
   "cell_type": "markdown",
   "id": "0a29edad-f233-4383-8779-2512f838aaac",
   "metadata": {},
   "source": [
    "* 속성 리스트 구하기"
   ]
  },
  {
   "cell_type": "raw",
   "id": "e6b935d7-f6f3-4df8-9337-8e9df6384e12",
   "metadata": {},
   "source": [
    "노드.keys(): 해당 노드의 모든 속성 값을 리스트로 반환"
   ]
  },
  {
   "cell_type": "code",
   "execution_count": 33,
   "id": "3607bc1e-6fd5-4cbf-bc31-9cde76e7b113",
   "metadata": {},
   "outputs": [],
   "source": [
    "message.attrib['wehter'] = '맑음'"
   ]
  },
  {
   "cell_type": "code",
   "execution_count": 34,
   "id": "279c216a-0cf3-4742-9f02-4470c06ef066",
   "metadata": {},
   "outputs": [
    {
     "data": {
      "text/plain": [
       "'맑음'"
      ]
     },
     "execution_count": 34,
     "metadata": {},
     "output_type": "execute_result"
    }
   ],
   "source": [
    "message.get('wehter')"
   ]
  },
  {
   "cell_type": "code",
   "execution_count": 35,
   "id": "9334dceb-365e-4c45-9642-abe43f18ef6c",
   "metadata": {},
   "outputs": [
    {
     "data": {
      "text/plain": [
       "['date', 'wehter']"
      ]
     },
     "execution_count": 35,
     "metadata": {},
     "output_type": "execute_result"
    }
   ],
   "source": [
    "message.keys()"
   ]
  },
  {
   "cell_type": "code",
   "execution_count": 36,
   "id": "1aab25da-eff2-42be-9f44-f9f22264b78a",
   "metadata": {},
   "outputs": [
    {
     "name": "stdout",
     "output_type": "stream",
     "text": [
      "<message date=\"20240731\" wehter=\"맑음\"><to>김해민</to><dummy /><from>남효정</from></message>\n"
     ]
    }
   ],
   "source": [
    "dump(message)"
   ]
  },
  {
   "cell_type": "markdown",
   "id": "bd853f6b-7e0d-4312-aec0-adefada464dd",
   "metadata": {},
   "source": [
    "## 특정 노드의 전체 속상값 출력하기"
   ]
  },
  {
   "cell_type": "code",
   "execution_count": 37,
   "id": "80e89540-eae8-4523-acf4-d7032f9770f7",
   "metadata": {},
   "outputs": [
    {
     "name": "stdout",
     "output_type": "stream",
     "text": [
      "20240731\n",
      "맑음\n"
     ]
    }
   ],
   "source": [
    "for attribute in message.keys():\n",
    "    print(message.get(attribute))"
   ]
  },
  {
   "cell_type": "markdown",
   "id": "7e9d0c07-c9b1-48f0-b1a6-0847a4395263",
   "metadata": {},
   "source": [
    "## 모든 자식 노드의 값 접근"
   ]
  },
  {
   "cell_type": "code",
   "execution_count": 38,
   "id": "4370b127-2972-4187-922c-7ce6a36caa00",
   "metadata": {},
   "outputs": [
    {
     "name": "stdout",
     "output_type": "stream",
     "text": [
      "김해민\n",
      "None\n",
      "남효정\n"
     ]
    }
   ],
   "source": [
    "for chile in message:\n",
    "    print(chile.text)"
   ]
  },
  {
   "cell_type": "markdown",
   "id": "d9ea13aa-6e42-4ec0-8057-76e5b85b13d3",
   "metadata": {},
   "source": [
    "## 특정 노드 검색"
   ]
  },
  {
   "cell_type": "code",
   "execution_count": 43,
   "id": "c34597d9-bd50-4b6c-b4c0-a19a81bdc538",
   "metadata": {},
   "outputs": [],
   "source": [
    "message.find('body')"
   ]
  },
  {
   "cell_type": "code",
   "execution_count": 44,
   "id": "0a3ad24d-5434-4691-8500-84b42f038e95",
   "metadata": {},
   "outputs": [],
   "source": [
    "message.find('heading')"
   ]
  },
  {
   "cell_type": "code",
   "execution_count": null,
   "id": "c77a0db3-2c2b-4816-8038-3ee5521114e2",
   "metadata": {},
   "outputs": [],
   "source": []
  }
 ],
 "metadata": {
  "kernelspec": {
   "display_name": "Python 3 (ipykernel)",
   "language": "python",
   "name": "python3"
  },
  "language_info": {
   "codemirror_mode": {
    "name": "ipython",
    "version": 3
   },
   "file_extension": ".py",
   "mimetype": "text/x-python",
   "name": "python",
   "nbconvert_exporter": "python",
   "pygments_lexer": "ipython3",
   "version": "3.11.7"
  }
 },
 "nbformat": 4,
 "nbformat_minor": 5
}
