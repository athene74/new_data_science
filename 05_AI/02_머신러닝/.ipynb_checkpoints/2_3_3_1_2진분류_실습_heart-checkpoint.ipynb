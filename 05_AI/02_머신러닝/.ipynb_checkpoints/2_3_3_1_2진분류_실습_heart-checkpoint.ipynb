{
 "cells": [
  {
   "cell_type": "markdown",
   "id": "09a45cf7",
   "metadata": {},
   "source": [
    "# Step1] 심장질환 예측\n",
    "* 데이터셋: heart.csv\n",
    "* Mission\n",
    " - 앞에 배운 내용을 참고로 하여 Feature, label(Target)을 분류\n",
    " - 훈련데이터셋, 테스트 데이터셋 분류\n",
    " - 데이터 표준화\n",
    " - 모델 성능 평가"
   ]
  },
  {
   "cell_type": "code",
   "execution_count": 1,
   "id": "62043dc0",
   "metadata": {},
   "outputs": [],
   "source": [
    "import pandas as pd\n",
    "import statsmodels.api as sm\n",
    "import numpy as np\n",
    "import warnings\n",
    "warnings.filterwarnings('ignore')"
   ]
  },
  {
   "cell_type": "code",
   "execution_count": 2,
   "id": "fda768f2",
   "metadata": {},
   "outputs": [],
   "source": [
    "heart = pd.read_csv('heart.csv', sep=',', header=0)"
   ]
  },
  {
   "cell_type": "markdown",
   "id": "d9636c00",
   "metadata": {},
   "source": [
    "## 사이킷런"
   ]
  },
  {
   "cell_type": "code",
   "execution_count": 3,
   "id": "e51c115e",
   "metadata": {},
   "outputs": [],
   "source": [
    "from sklearn.model_selection import train_test_split\n",
    "from sklearn.neighbors import KNeighborsClassifier"
   ]
  },
  {
   "cell_type": "code",
   "execution_count": 4,
   "id": "2d2a625f",
   "metadata": {},
   "outputs": [
    {
     "data": {
      "text/html": [
       "<div>\n",
       "<style scoped>\n",
       "    .dataframe tbody tr th:only-of-type {\n",
       "        vertical-align: middle;\n",
       "    }\n",
       "\n",
       "    .dataframe tbody tr th {\n",
       "        vertical-align: top;\n",
       "    }\n",
       "\n",
       "    .dataframe thead th {\n",
       "        text-align: right;\n",
       "    }\n",
       "</style>\n",
       "<table border=\"1\" class=\"dataframe\">\n",
       "  <thead>\n",
       "    <tr style=\"text-align: right;\">\n",
       "      <th></th>\n",
       "      <th>age</th>\n",
       "      <th>sex</th>\n",
       "      <th>cp</th>\n",
       "      <th>trestbps</th>\n",
       "      <th>chol</th>\n",
       "      <th>fbs</th>\n",
       "      <th>restecg</th>\n",
       "      <th>thalach</th>\n",
       "      <th>exang</th>\n",
       "      <th>oldpeak</th>\n",
       "      <th>slope</th>\n",
       "      <th>ca</th>\n",
       "      <th>thal</th>\n",
       "      <th>target</th>\n",
       "    </tr>\n",
       "  </thead>\n",
       "  <tbody>\n",
       "    <tr>\n",
       "      <th>0</th>\n",
       "      <td>63</td>\n",
       "      <td>1</td>\n",
       "      <td>3</td>\n",
       "      <td>145</td>\n",
       "      <td>233</td>\n",
       "      <td>1</td>\n",
       "      <td>0</td>\n",
       "      <td>150</td>\n",
       "      <td>0</td>\n",
       "      <td>2.3</td>\n",
       "      <td>0</td>\n",
       "      <td>0</td>\n",
       "      <td>1</td>\n",
       "      <td>1</td>\n",
       "    </tr>\n",
       "  </tbody>\n",
       "</table>\n",
       "</div>"
      ],
      "text/plain": [
       "   age  sex  cp  trestbps  chol  fbs  restecg  thalach  exang  oldpeak  slope  \\\n",
       "0   63    1   3       145   233    1        0      150      0      2.3      0   \n",
       "\n",
       "   ca  thal  target  \n",
       "0   0     1       1  "
      ]
     },
     "execution_count": 4,
     "metadata": {},
     "output_type": "execute_result"
    }
   ],
   "source": [
    "heart.head(1)"
   ]
  },
  {
   "cell_type": "code",
   "execution_count": 9,
   "id": "bfc826a0",
   "metadata": {},
   "outputs": [],
   "source": [
    "feature = heart[heart.columns.difference(['target'])] # heart[['age','sex',.....]]\n",
    "label = heart['target']"
   ]
  },
  {
   "cell_type": "code",
   "execution_count": 10,
   "id": "307f8f05",
   "metadata": {},
   "outputs": [],
   "source": [
    "train_input, test_input, train_target, test_target = train_test_split(\n",
    "    feature, label,stratify=label, random_state=300)"
   ]
  },
  {
   "cell_type": "code",
   "execution_count": null,
   "id": "e607a4d9",
   "metadata": {},
   "outputs": [],
   "source": []
  },
  {
   "cell_type": "markdown",
   "id": "56d743f9",
   "metadata": {},
   "source": [
    "# 표준화"
   ]
  },
  {
   "cell_type": "code",
   "execution_count": 13,
   "id": "553df167",
   "metadata": {},
   "outputs": [],
   "source": [
    "mean = np.mean(train_input, axis=0)\n",
    "std = np.std(train_input, axis=0)"
   ]
  },
  {
   "cell_type": "code",
   "execution_count": 14,
   "id": "38594658",
   "metadata": {},
   "outputs": [
    {
     "name": "stdout",
     "output_type": "stream",
     "text": [
      "age          54.162996\n",
      "ca            0.735683\n",
      "chol        244.806167\n",
      "cp            0.960352\n",
      "exang         0.325991\n",
      "fbs           0.158590\n",
      "oldpeak       1.028634\n",
      "restecg       0.541850\n",
      "sex           0.709251\n",
      "slope         1.396476\n",
      "thal          2.308370\n",
      "thalach     148.889868\n",
      "trestbps    132.088106\n",
      "dtype: float64 age          8.969102\n",
      "ca           1.002510\n",
      "chol        50.072083\n",
      "cp           1.007993\n",
      "exang        0.468744\n",
      "fbs          0.365294\n",
      "oldpeak      1.167859\n",
      "restecg      0.524099\n",
      "sex          0.454108\n",
      "slope        0.637718\n",
      "thal         0.631110\n",
      "thalach     23.454919\n",
      "trestbps    17.605345\n",
      "dtype: float64\n"
     ]
    }
   ],
   "source": [
    "print(mean, std)"
   ]
  },
  {
   "cell_type": "code",
   "execution_count": 15,
   "id": "84e5d11f",
   "metadata": {},
   "outputs": [],
   "source": [
    "train_scaled=(train_input-mean)/std"
   ]
  },
  {
   "cell_type": "code",
   "execution_count": 16,
   "id": "50e5f0a7",
   "metadata": {},
   "outputs": [],
   "source": [
    "test_scaled = ((test_input) - mean) / std"
   ]
  },
  {
   "cell_type": "markdown",
   "id": "9925203b",
   "metadata": {},
   "source": [
    "# 학습"
   ]
  },
  {
   "cell_type": "code",
   "execution_count": 17,
   "id": "c51a6fb3",
   "metadata": {},
   "outputs": [],
   "source": [
    "kn = KNeighborsClassifier()"
   ]
  },
  {
   "cell_type": "code",
   "execution_count": 18,
   "id": "0439018f",
   "metadata": {},
   "outputs": [
    {
     "data": {
      "text/plain": [
       "KNeighborsClassifier()"
      ]
     },
     "execution_count": 18,
     "metadata": {},
     "output_type": "execute_result"
    }
   ],
   "source": [
    "kn.fit(train_input, train_target)"
   ]
  },
  {
   "cell_type": "code",
   "execution_count": 19,
   "id": "9c65c430",
   "metadata": {},
   "outputs": [
    {
     "data": {
      "text/plain": [
       "0.7180616740088106"
      ]
     },
     "execution_count": 19,
     "metadata": {},
     "output_type": "execute_result"
    }
   ],
   "source": [
    "kn.score(train_input, train_target)"
   ]
  },
  {
   "cell_type": "code",
   "execution_count": 20,
   "id": "0001b886",
   "metadata": {},
   "outputs": [
    {
     "data": {
      "text/plain": [
       "KNeighborsClassifier()"
      ]
     },
     "execution_count": 20,
     "metadata": {},
     "output_type": "execute_result"
    }
   ],
   "source": [
    "kn.fit(train_scaled, train_target)"
   ]
  },
  {
   "cell_type": "markdown",
   "id": "dfc80143",
   "metadata": {},
   "source": [
    "# test"
   ]
  },
  {
   "cell_type": "code",
   "execution_count": 21,
   "id": "8332d98e",
   "metadata": {},
   "outputs": [
    {
     "data": {
      "text/plain": [
       "0.8552631578947368"
      ]
     },
     "execution_count": 21,
     "metadata": {},
     "output_type": "execute_result"
    }
   ],
   "source": [
    "kn.score(test_scaled, test_target)"
   ]
  },
  {
   "cell_type": "code",
   "execution_count": null,
   "id": "a217a2e8",
   "metadata": {},
   "outputs": [],
   "source": []
  },
  {
   "cell_type": "code",
   "execution_count": null,
   "id": "9e804e4f",
   "metadata": {},
   "outputs": [],
   "source": []
  }
 ],
 "metadata": {
  "kernelspec": {
   "display_name": "Python 3 (ipykernel)",
   "language": "python",
   "name": "python3"
  },
  "language_info": {
   "codemirror_mode": {
    "name": "ipython",
    "version": 3
   },
   "file_extension": ".py",
   "mimetype": "text/x-python",
   "name": "python",
   "nbconvert_exporter": "python",
   "pygments_lexer": "ipython3",
   "version": "3.11.7"
  }
 },
 "nbformat": 4,
 "nbformat_minor": 5
}
