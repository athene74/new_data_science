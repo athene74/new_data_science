{
 "cells": [
  {
   "cell_type": "markdown",
   "id": "8348073d-cbb3-4077-9c5a-b765c5056a36",
   "metadata": {},
   "source": [
    "# 기준데이터 테스트 (A테스트)"
   ]
  },
  {
   "cell_type": "code",
   "execution_count": 24,
   "id": "29b4728b",
   "metadata": {},
   "outputs": [],
   "source": [
    "# 목적: 로지스틱 모델을 통해 이탈 고객 예측하기\n",
    "import numpy as np\n",
    "import pandas as pd\n",
    "import statsmodels.api as sm\n",
    "\n",
    "# Read the data set into a pandas DataFrame\n",
    "churn = pd.read_csv('churn.csv', sep=',', header=0)\n",
    "\n",
    "churn.columns = [heading.lower() for heading in \\\n",
    "churn.columns.str.replace(' ', '_').str.replace(\"\\'\", \"\").str.strip('?')]\n",
    "churn['churn'] = np.where(churn['churn'] == 'True.', 1, 0)\n",
    "churn['total_charges'] = churn['day_charge'] + churn['eve_charge'] + \\\n",
    "\t\t\t\t\t\t churn['night_charge'] + churn['intl_charge']\n",
    "churn['intl_plan'] = np.where(churn['intl_plan'] == 'yes', 1, 0)\n",
    "churn['vmail_plan'] = np.where(churn['vmail_plan'] == 'yes', 1, 0)\n",
    "\n",
    "# Fit a logistic regression model\n",
    "dependent_variable = churn['churn']\n",
    "\n",
    "# R추천 독립변수 열을 기준데이터 A로 설정\n",
    "independent_variables = churn[['intl_plan', 'vmail_plan', 'vmail_message', 'day_charge', 'eve_mins', 'night_charge', 'intl_calls', 'intl_charge', 'custserv_calls']]"
   ]
  },
  {
   "cell_type": "code",
   "execution_count": 25,
   "id": "6a68fcf8",
   "metadata": {},
   "outputs": [
    {
     "data": {
      "text/html": [
       "<div>\n",
       "<style scoped>\n",
       "    .dataframe tbody tr th:only-of-type {\n",
       "        vertical-align: middle;\n",
       "    }\n",
       "\n",
       "    .dataframe tbody tr th {\n",
       "        vertical-align: top;\n",
       "    }\n",
       "\n",
       "    .dataframe thead th {\n",
       "        text-align: right;\n",
       "    }\n",
       "</style>\n",
       "<table border=\"1\" class=\"dataframe\">\n",
       "  <thead>\n",
       "    <tr style=\"text-align: right;\">\n",
       "      <th></th>\n",
       "      <th>intl_plan</th>\n",
       "      <th>vmail_plan</th>\n",
       "      <th>vmail_message</th>\n",
       "      <th>day_charge</th>\n",
       "      <th>eve_mins</th>\n",
       "      <th>night_charge</th>\n",
       "      <th>intl_calls</th>\n",
       "      <th>intl_charge</th>\n",
       "      <th>custserv_calls</th>\n",
       "    </tr>\n",
       "  </thead>\n",
       "  <tbody>\n",
       "    <tr>\n",
       "      <th>0</th>\n",
       "      <td>0</td>\n",
       "      <td>1</td>\n",
       "      <td>25</td>\n",
       "      <td>45.07</td>\n",
       "      <td>197.4</td>\n",
       "      <td>11.01</td>\n",
       "      <td>3</td>\n",
       "      <td>2.70</td>\n",
       "      <td>1</td>\n",
       "    </tr>\n",
       "    <tr>\n",
       "      <th>1</th>\n",
       "      <td>0</td>\n",
       "      <td>1</td>\n",
       "      <td>26</td>\n",
       "      <td>27.47</td>\n",
       "      <td>195.5</td>\n",
       "      <td>11.45</td>\n",
       "      <td>3</td>\n",
       "      <td>3.70</td>\n",
       "      <td>1</td>\n",
       "    </tr>\n",
       "    <tr>\n",
       "      <th>2</th>\n",
       "      <td>0</td>\n",
       "      <td>0</td>\n",
       "      <td>0</td>\n",
       "      <td>41.38</td>\n",
       "      <td>121.2</td>\n",
       "      <td>7.32</td>\n",
       "      <td>5</td>\n",
       "      <td>3.29</td>\n",
       "      <td>0</td>\n",
       "    </tr>\n",
       "    <tr>\n",
       "      <th>3</th>\n",
       "      <td>1</td>\n",
       "      <td>0</td>\n",
       "      <td>0</td>\n",
       "      <td>50.90</td>\n",
       "      <td>61.9</td>\n",
       "      <td>8.86</td>\n",
       "      <td>7</td>\n",
       "      <td>1.78</td>\n",
       "      <td>2</td>\n",
       "    </tr>\n",
       "    <tr>\n",
       "      <th>4</th>\n",
       "      <td>1</td>\n",
       "      <td>0</td>\n",
       "      <td>0</td>\n",
       "      <td>28.34</td>\n",
       "      <td>148.3</td>\n",
       "      <td>8.41</td>\n",
       "      <td>3</td>\n",
       "      <td>2.73</td>\n",
       "      <td>3</td>\n",
       "    </tr>\n",
       "  </tbody>\n",
       "</table>\n",
       "</div>"
      ],
      "text/plain": [
       "   intl_plan  vmail_plan  vmail_message  day_charge  eve_mins  night_charge  \\\n",
       "0          0           1             25       45.07     197.4         11.01   \n",
       "1          0           1             26       27.47     195.5         11.45   \n",
       "2          0           0              0       41.38     121.2          7.32   \n",
       "3          1           0              0       50.90      61.9          8.86   \n",
       "4          1           0              0       28.34     148.3          8.41   \n",
       "\n",
       "   intl_calls  intl_charge  custserv_calls  \n",
       "0           3         2.70               1  \n",
       "1           3         3.70               1  \n",
       "2           5         3.29               0  \n",
       "3           7         1.78               2  \n",
       "4           3         2.73               3  "
      ]
     },
     "execution_count": 25,
     "metadata": {},
     "output_type": "execute_result"
    }
   ],
   "source": [
    "independent_variables.head()"
   ]
  },
  {
   "cell_type": "code",
   "execution_count": 26,
   "id": "3a2d1d88",
   "metadata": {},
   "outputs": [
    {
     "data": {
      "text/html": [
       "<div>\n",
       "<style scoped>\n",
       "    .dataframe tbody tr th:only-of-type {\n",
       "        vertical-align: middle;\n",
       "    }\n",
       "\n",
       "    .dataframe tbody tr th {\n",
       "        vertical-align: top;\n",
       "    }\n",
       "\n",
       "    .dataframe thead th {\n",
       "        text-align: right;\n",
       "    }\n",
       "</style>\n",
       "<table border=\"1\" class=\"dataframe\">\n",
       "  <thead>\n",
       "    <tr style=\"text-align: right;\">\n",
       "      <th></th>\n",
       "      <th>const</th>\n",
       "      <th>intl_plan</th>\n",
       "      <th>vmail_plan</th>\n",
       "      <th>vmail_message</th>\n",
       "      <th>day_charge</th>\n",
       "      <th>eve_mins</th>\n",
       "      <th>night_charge</th>\n",
       "      <th>intl_calls</th>\n",
       "      <th>intl_charge</th>\n",
       "      <th>custserv_calls</th>\n",
       "    </tr>\n",
       "  </thead>\n",
       "  <tbody>\n",
       "    <tr>\n",
       "      <th>0</th>\n",
       "      <td>1.0</td>\n",
       "      <td>0</td>\n",
       "      <td>1</td>\n",
       "      <td>25</td>\n",
       "      <td>45.07</td>\n",
       "      <td>197.4</td>\n",
       "      <td>11.01</td>\n",
       "      <td>3</td>\n",
       "      <td>2.70</td>\n",
       "      <td>1</td>\n",
       "    </tr>\n",
       "    <tr>\n",
       "      <th>1</th>\n",
       "      <td>1.0</td>\n",
       "      <td>0</td>\n",
       "      <td>1</td>\n",
       "      <td>26</td>\n",
       "      <td>27.47</td>\n",
       "      <td>195.5</td>\n",
       "      <td>11.45</td>\n",
       "      <td>3</td>\n",
       "      <td>3.70</td>\n",
       "      <td>1</td>\n",
       "    </tr>\n",
       "    <tr>\n",
       "      <th>2</th>\n",
       "      <td>1.0</td>\n",
       "      <td>0</td>\n",
       "      <td>0</td>\n",
       "      <td>0</td>\n",
       "      <td>41.38</td>\n",
       "      <td>121.2</td>\n",
       "      <td>7.32</td>\n",
       "      <td>5</td>\n",
       "      <td>3.29</td>\n",
       "      <td>0</td>\n",
       "    </tr>\n",
       "    <tr>\n",
       "      <th>3</th>\n",
       "      <td>1.0</td>\n",
       "      <td>1</td>\n",
       "      <td>0</td>\n",
       "      <td>0</td>\n",
       "      <td>50.90</td>\n",
       "      <td>61.9</td>\n",
       "      <td>8.86</td>\n",
       "      <td>7</td>\n",
       "      <td>1.78</td>\n",
       "      <td>2</td>\n",
       "    </tr>\n",
       "    <tr>\n",
       "      <th>4</th>\n",
       "      <td>1.0</td>\n",
       "      <td>1</td>\n",
       "      <td>0</td>\n",
       "      <td>0</td>\n",
       "      <td>28.34</td>\n",
       "      <td>148.3</td>\n",
       "      <td>8.41</td>\n",
       "      <td>3</td>\n",
       "      <td>2.73</td>\n",
       "      <td>3</td>\n",
       "    </tr>\n",
       "  </tbody>\n",
       "</table>\n",
       "</div>"
      ],
      "text/plain": [
       "   const  intl_plan  vmail_plan  vmail_message  day_charge  eve_mins  \\\n",
       "0    1.0          0           1             25       45.07     197.4   \n",
       "1    1.0          0           1             26       27.47     195.5   \n",
       "2    1.0          0           0              0       41.38     121.2   \n",
       "3    1.0          1           0              0       50.90      61.9   \n",
       "4    1.0          1           0              0       28.34     148.3   \n",
       "\n",
       "   night_charge  intl_calls  intl_charge  custserv_calls  \n",
       "0         11.01           3         2.70               1  \n",
       "1         11.45           3         3.70               1  \n",
       "2          7.32           5         3.29               0  \n",
       "3          8.86           7         1.78               2  \n",
       "4          8.41           3         2.73               3  "
      ]
     },
     "execution_count": 26,
     "metadata": {},
     "output_type": "execute_result"
    }
   ],
   "source": [
    "# 상수항 추가\n",
    "# independent_variables = churn[['intl_plan', 'vmail_plan', 'vmail_message', 'day', 'eve', 'night','intl','custserv_calls','churn']]\n",
    "independent_variables_with_constant = sm.add_constant(independent_variables, prepend=True)\n",
    "independent_variables_with_constant.head()"
   ]
  },
  {
   "cell_type": "code",
   "execution_count": 27,
   "id": "a5284983",
   "metadata": {},
   "outputs": [
    {
     "name": "stdout",
     "output_type": "stream",
     "text": [
      "Optimization terminated successfully.\n",
      "         Current function value: 0.324276\n",
      "         Iterations 7\n"
     ]
    }
   ],
   "source": [
    "logit_model = sm.Logit(dependent_variable, independent_variables_with_constant).fit()\n",
    "\n",
    "new_observatios = churn.loc[:, independent_variables.columns]"
   ]
  },
  {
   "cell_type": "code",
   "execution_count": 28,
   "id": "062eeefa",
   "metadata": {},
   "outputs": [
    {
     "data": {
      "text/plain": [
       "(3333, 9)"
      ]
     },
     "execution_count": 28,
     "metadata": {},
     "output_type": "execute_result"
    }
   ],
   "source": [
    "new_observatios.shape"
   ]
  },
  {
   "cell_type": "code",
   "execution_count": 29,
   "id": "c8d2cd21",
   "metadata": {},
   "outputs": [],
   "source": [
    "new_observatios_with_constant = sm.add_constant(new_observatios, prepend=True)"
   ]
  },
  {
   "cell_type": "code",
   "execution_count": 30,
   "id": "404a6ef4",
   "metadata": {},
   "outputs": [
    {
     "data": {
      "text/plain": [
       "pandas.core.frame.DataFrame"
      ]
     },
     "execution_count": 30,
     "metadata": {},
     "output_type": "execute_result"
    }
   ],
   "source": [
    "type(new_observatios_with_constant)"
   ]
  },
  {
   "cell_type": "code",
   "execution_count": 31,
   "id": "58f78f53",
   "metadata": {},
   "outputs": [
    {
     "data": {
      "text/plain": [
       "(3333, 10)"
      ]
     },
     "execution_count": 31,
     "metadata": {},
     "output_type": "execute_result"
    }
   ],
   "source": [
    "new_observatios_with_constant.shape"
   ]
  },
  {
   "cell_type": "code",
   "execution_count": 32,
   "id": "c572e832",
   "metadata": {
    "scrolled": true
   },
   "outputs": [
    {
     "name": "stdout",
     "output_type": "stream",
     "text": [
      "1\t|0.0\t|0\n",
      "2\t|0.0\t|0\n",
      "3\t|0.0\t|0\n",
      "4\t|1.0\t|0\n",
      "5\t|1.0\t|0\n",
      "6\t|0.0\t|0\n",
      "7\t|0.0\t|0\n",
      "8\t|0.0\t|0\n",
      "9\t|0.0\t|0\n",
      "10\t|0.0\t|0\n",
      "11\t|0.0\t|1\n",
      "12\t|0.0\t|0\n",
      "13\t|0.0\t|0\n",
      "14\t|0.0\t|0\n",
      "15\t|0.0\t|0\n",
      "16\t|1.0\t|1\n",
      "17\t|0.0\t|0\n",
      "18\t|0.0\t|0\n",
      "19\t|0.0\t|0\n",
      "20\t|0.0\t|0\n",
      "\n",
      "전체 관찰 계수: 3333\n",
      "정답수: 2877\n",
      "정답률: 86.31863186318633 %\n"
     ]
    }
   ],
   "source": [
    "y_predicted = logit_model.predict(new_observatios_with_constant)\n",
    "y_predicted_rounded=[round(score,0) for score in y_predicted]\n",
    "logistic_predicted_value_list=[]\n",
    "\n",
    "total_count = 0\n",
    "index = 0\n",
    "total_number = len(y_predicted_rounded)\n",
    "total_correct = 0\n",
    "\n",
    "while index < total_number:\n",
    "    if index<20:\n",
    "        print(f'{index+1}\\t|{y_predicted_rounded[index]}\\t|{dependent_variable[index]}')\n",
    "    if y_predicted_rounded[index] == dependent_variable [index]:\n",
    "        total_correct += 1\n",
    "    index+=1\n",
    "\n",
    "print(f'\\n전체 관찰 계수: {total_number}')\n",
    "print(f'정답수: {total_correct}')\n",
    "print(f'정답률: {(total_correct/total_number)*100} %')"
   ]
  },
  {
   "cell_type": "markdown",
   "id": "381a0a45-eb58-47d1-9d34-d5d74f3a08b0",
   "metadata": {},
   "source": [
    "* 기준데이터 테스트 결과: 86.31863186318633 %"
   ]
  },
  {
   "cell_type": "markdown",
   "id": "4e4723d0-a92a-4466-834c-652aa40036e2",
   "metadata": {},
   "source": [
    "# 비교 테스트1 (테스트 B)\n",
    "* 가설: 요금 관련된 열을 추가한 신규열을 생성하여 테스트시 일반적으로 성능이 향상되기 때문에 실제로 향상이 되는지 확인"
   ]
  },
  {
   "cell_type": "code",
   "execution_count": 33,
   "id": "45e27bd8",
   "metadata": {},
   "outputs": [
    {
     "name": "stdout",
     "output_type": "stream",
     "text": [
      "Optimization terminated successfully.\n",
      "         Current function value: 0.324244\n",
      "         Iterations 8\n",
      "1\t|0.0\t|0\n",
      "2\t|0.0\t|0\n",
      "3\t|0.0\t|0\n",
      "4\t|1.0\t|0\n",
      "5\t|1.0\t|0\n",
      "6\t|0.0\t|0\n",
      "7\t|0.0\t|0\n",
      "8\t|0.0\t|0\n",
      "9\t|0.0\t|0\n",
      "10\t|0.0\t|0\n",
      "11\t|0.0\t|1\n",
      "12\t|0.0\t|0\n",
      "13\t|0.0\t|0\n",
      "14\t|0.0\t|0\n",
      "15\t|0.0\t|0\n",
      "16\t|1.0\t|1\n",
      "17\t|0.0\t|0\n",
      "18\t|0.0\t|0\n",
      "19\t|0.0\t|0\n",
      "20\t|0.0\t|0\n",
      "\n",
      "전체 관찰 계수: 3333\n",
      "정답수: 2876\n",
      "정답률: 86.28862886288628 %\n"
     ]
    }
   ],
   "source": [
    "# 목적: 로지스틱 모델을 통해 이탈 고객 예측하기\n",
    "import numpy as np\n",
    "import pandas as pd\n",
    "import statsmodels.api as sm\n",
    "\n",
    "# Read the data set into a pandas DataFrame\n",
    "churn = pd.read_csv('churn.csv', sep=',', header=0)\n",
    "\n",
    "churn.columns = [heading.lower() for heading in \\\n",
    "churn.columns.str.replace(' ', '_').str.replace(\"\\'\", \"\").str.strip('?')]\n",
    "churn['churn'] = np.where(churn['churn'] == 'True.', 1, 0)\n",
    "churn['total_charges'] = churn['day_charge'] + churn['eve_charge'] + \\\n",
    "\t\t\t\t\t\t churn['night_charge'] + churn['intl_charge']\n",
    "churn['intl_plan'] = np.where(churn['intl_plan'] == 'yes', 1, 0)\n",
    "churn['vmail_plan'] = np.where(churn['vmail_plan'] == 'yes', 1, 0)\n",
    "\n",
    "# Fit a logistic regression model\n",
    "dependent_variable = churn['churn']\n",
    "\n",
    "# R추천 + total_charges 추가\n",
    "independent_variables = churn[['intl_plan', 'vmail_plan', 'vmail_message', 'day_charge', 'eve_mins', 'night_charge', 'intl_calls', 'intl_charge', 'custserv_calls','total_charges']]\n",
    "independent_variables_with_constant = sm.add_constant(independent_variables, prepend=True)\n",
    "logit_model = sm.Logit(dependent_variable, independent_variables_with_constant).fit()\n",
    "\n",
    "new_observatios = churn.loc[:, independent_variables.columns]\n",
    "new_observatios_with_constant = sm.add_constant(new_observatios, prepend=True)\n",
    "y_predicted = logit_model.predict(new_observatios_with_constant)\n",
    "y_predicted_rounded=[round(score,0) for score in y_predicted]\n",
    "logistic_predicted_value_list=[]\n",
    "\n",
    "total_count = 0\n",
    "index = 0\n",
    "total_number = len(y_predicted_rounded)\n",
    "total_correct = 0\n",
    "\n",
    "while index < total_number:\n",
    "    if index<20:\n",
    "        print(f'{index+1}\\t|{y_predicted_rounded[index]}\\t|{dependent_variable[index]}')\n",
    "    if y_predicted_rounded[index] == dependent_variable [index]:\n",
    "        total_correct += 1\n",
    "    index+=1\n",
    "\n",
    "print(f'\\n전체 관찰 계수: {total_number}')\n",
    "print(f'정답수: {total_correct}')\n",
    "print(f'정답률: {(total_correct/total_number)*100} %')\n"
   ]
  },
  {
   "cell_type": "markdown",
   "id": "cde1f39f",
   "metadata": {},
   "source": [
    "* AB테스트  \n",
    "total_charges는 성능향상에 기여를 하지 않은 것으로 판단된다."
   ]
  },
  {
   "cell_type": "markdown",
   "id": "be84704d",
   "metadata": {},
   "source": [
    "---"
   ]
  },
  {
   "cell_type": "markdown",
   "id": "a2f0de5c-3850-4786-b419-a29af004e886",
   "metadata": {},
   "source": [
    "# 비교 테스트2 (테스트 B)\n",
    "* 가설: 추천열중에 가장 회귀계수가 낮은 'vmail_message' 독립변수를 제거하면 성능이 향상될 것이다."
   ]
  },
  {
   "cell_type": "code",
   "execution_count": 34,
   "id": "261166f2",
   "metadata": {},
   "outputs": [
    {
     "name": "stdout",
     "output_type": "stream",
     "text": [
      "Optimization terminated successfully.\n",
      "         Current function value: 0.324860\n",
      "         Iterations 7\n",
      "1\t|0.0\t|0\n",
      "2\t|0.0\t|0\n",
      "3\t|0.0\t|0\n",
      "4\t|1.0\t|0\n",
      "5\t|1.0\t|0\n",
      "6\t|0.0\t|0\n",
      "7\t|0.0\t|0\n",
      "8\t|0.0\t|0\n",
      "9\t|0.0\t|0\n",
      "10\t|0.0\t|0\n",
      "11\t|0.0\t|1\n",
      "12\t|0.0\t|0\n",
      "13\t|0.0\t|0\n",
      "14\t|0.0\t|0\n",
      "15\t|0.0\t|0\n",
      "16\t|1.0\t|1\n",
      "17\t|0.0\t|0\n",
      "18\t|0.0\t|0\n",
      "19\t|0.0\t|0\n",
      "20\t|0.0\t|0\n",
      "\n",
      "전체 관찰 계수: 3333\n",
      "정답수: 2877\n",
      "정답률: 86.31863186318633 %\n"
     ]
    }
   ],
   "source": [
    "# 목적: 로지스틱 모델을 통해 이탈 고객 예측하기\n",
    "import numpy as np\n",
    "import pandas as pd\n",
    "import statsmodels.api as sm\n",
    "\n",
    "# Read the data set into a pandas DataFrame\n",
    "churn = pd.read_csv('churn.csv', sep=',', header=0)\n",
    "\n",
    "churn.columns = [heading.lower() for heading in \\\n",
    "churn.columns.str.replace(' ', '_').str.replace(\"\\'\", \"\").str.strip('?')]\n",
    "churn['churn'] = np.where(churn['churn'] == 'True.', 1, 0)\n",
    "churn['total_charges'] = churn['day_charge'] + churn['eve_charge'] + \\\n",
    "\t\t\t\t\t\t churn['night_charge'] + churn['intl_charge']\n",
    "churn['intl_plan'] = np.where(churn['intl_plan'] == 'yes', 1, 0)\n",
    "churn['vmail_plan'] = np.where(churn['vmail_plan'] == 'yes', 1, 0)\n",
    "\n",
    "# Fit a logistic regression model\n",
    "dependent_variable = churn['churn']\n",
    "\n",
    "# R추천 + total_charges 추가\n",
    "independent_variables = churn[['intl_plan', 'vmail_plan', 'day_charge', 'eve_mins', 'night_charge', 'intl_calls', 'intl_charge', 'custserv_calls']]\n",
    "independent_variables_with_constant = sm.add_constant(independent_variables, prepend=True)\n",
    "logit_model = sm.Logit(dependent_variable, independent_variables_with_constant).fit()\n",
    "\n",
    "new_observatios = churn.loc[:, independent_variables.columns]\n",
    "new_observatios_with_constant = sm.add_constant(new_observatios, prepend=True)\n",
    "y_predicted = logit_model.predict(new_observatios_with_constant)\n",
    "y_predicted_rounded=[round(score,0) for score in y_predicted]\n",
    "logistic_predicted_value_list=[]\n",
    "\n",
    "total_count = 0\n",
    "index = 0\n",
    "total_number = len(y_predicted_rounded)\n",
    "total_correct = 0\n",
    "\n",
    "while index < total_number:\n",
    "    if index<20:\n",
    "        print(f'{index+1}\\t|{y_predicted_rounded[index]}\\t|{dependent_variable[index]}')\n",
    "    if y_predicted_rounded[index] == dependent_variable [index]:\n",
    "        total_correct += 1\n",
    "    index+=1\n",
    "\n",
    "print(f'\\n전체 관찰 계수: {total_number}')\n",
    "print(f'정답수: {total_correct}')\n",
    "print(f'정답률: {(total_correct/total_number)*100} %')"
   ]
  },
  {
   "cell_type": "markdown",
   "id": "cabe1c17-22a2-4a38-8673-acefe3d0a0c6",
   "metadata": {},
   "source": [
    "# 미션"
   ]
  },
  {
   "cell_type": "markdown",
   "id": "4ed6ca01-b6b3-429a-a769-ca7a5f82c9a5",
   "metadata": {},
   "source": [
    "* 기준데이터 성능: 86.31863186318633 % 보다 더 높은 성능에 도달할 수 있는 독립변수 열을 AB테스트로 찾아보세요."
   ]
  },
  {
   "cell_type": "code",
   "execution_count": 4,
   "id": "15586276-b51f-4d94-a52a-1d6a21fd38c8",
   "metadata": {
    "scrolled": true
   },
   "outputs": [
    {
     "name": "stdout",
     "output_type": "stream",
     "text": [
      "Optimization terminated successfully.\n",
      "         Current function value: 0.379256\n",
      "         Iterations 7\n",
      "1\t|0.0\t|0\n",
      "2\t|0.0\t|0\n",
      "3\t|0.0\t|0\n",
      "4\t|0.0\t|0\n",
      "5\t|1.0\t|0\n",
      "6\t|0.0\t|0\n",
      "7\t|0.0\t|0\n",
      "8\t|0.0\t|0\n",
      "9\t|0.0\t|0\n",
      "10\t|0.0\t|0\n",
      "11\t|0.0\t|1\n",
      "12\t|0.0\t|0\n",
      "13\t|0.0\t|0\n",
      "14\t|0.0\t|0\n",
      "15\t|0.0\t|0\n",
      "16\t|0.0\t|1\n",
      "17\t|0.0\t|0\n",
      "18\t|0.0\t|0\n",
      "19\t|0.0\t|0\n",
      "20\t|0.0\t|0\n",
      "\n",
      "전체 관찰 계수: 3333\n",
      "정답수: 2891\n",
      "정답률: 86.73867386738674 %\n"
     ]
    }
   ],
   "source": [
    "# 목적: 로지스틱 모델을 통해 이탈 고객 예측하기\n",
    "import numpy as np\n",
    "import pandas as pd\n",
    "import statsmodels.api as sm\n",
    "\n",
    "# Read the data set into a pandas DataFrame\n",
    "churn = pd.read_csv('churn.csv', sep=',', header=0)\n",
    "\n",
    "churn.columns = [heading.lower() for heading in \\\n",
    "churn.columns.str.replace(' ', '_').str.replace(\"\\'\", \"\").str.strip('?')]\n",
    "churn['churn'] = np.where(churn['churn'] == 'True.', 1, 0)\n",
    "churn['total_charges'] = churn['day_charge'] + churn['eve_charge'] + \\\n",
    "\t\t\t\t\t\t churn['night_charge'] + churn['intl_charge']\n",
    "churn['intl_plan'] = np.where(churn['intl_plan'] == 'yes', 1, 0)\n",
    "churn['vmail_plan'] = np.where(churn['vmail_plan'] == 'yes', 1, 0)\n",
    "\n",
    "# Fit a logistic regression model\n",
    "dependent_variable = churn['churn']\n",
    "\n",
    "# R추천 + total_charges 추가\n",
    "independent_variables = churn[ [\n",
    "    \"account_length\",  # 계정 기간\n",
    "    \"intl_plan\",       # 국제 요금제 가입 여부\n",
    "    \"vmail_message\",   # 음성 메일 메시지 수\n",
    "    \"day_calls\",       # 낮 시간 동안의 전화 횟수\n",
    "    \"eve_calls\",       # 저녁 시간 동안의 전화 횟수\n",
    "    \"night_calls\",     # 야간 시간 동안의 전화 횟수\n",
    "    \"intl_mins\",       # 국제 전화 시간\n",
    "    \"intl_calls\",      # 국제 전화 횟수\n",
    "    \"intl_charge\"      # 국제 전화 요금\n",
    "]]\n",
    "independent_variables_with_constant = sm.add_constant(independent_variables, prepend=True)\n",
    "logit_model = sm.Logit(dependent_variable, independent_variables_with_constant).fit()\n",
    "\n",
    "new_observatios = churn.loc[:, independent_variables.columns]\n",
    "new_observatios_with_constant = sm.add_constant(new_observatios, prepend=True)\n",
    "y_predicted = logit_model.predict(new_observatios_with_constant)\n",
    "y_predicted_rounded=[round(score,0) for score in y_predicted]\n",
    "logistic_predicted_value_list=[]\n",
    "\n",
    "total_count = 0\n",
    "index = 0\n",
    "total_number = len(y_predicted_rounded)\n",
    "total_correct = 0\n",
    "\n",
    "while index < total_number:\n",
    "    if index<20:\n",
    "        print(f'{index+1}\\t|{y_predicted_rounded[index]}\\t|{dependent_variable[index]}')\n",
    "    if y_predicted_rounded[index] == dependent_variable [index]:\n",
    "        total_correct += 1\n",
    "    index+=1\n",
    "\n",
    "print(f'\\n전체 관찰 계수: {total_number}')\n",
    "print(f'정답수: {total_correct}')\n",
    "print(f'정답률: {(total_correct/total_number)*100} %')"
   ]
  },
  {
   "cell_type": "code",
   "execution_count": null,
   "id": "8cecb451-7da1-47cf-b8de-5cab4a06b0a5",
   "metadata": {},
   "outputs": [],
   "source": []
  }
 ],
 "metadata": {
  "kernelspec": {
   "display_name": "Python 3 (ipykernel)",
   "language": "python",
   "name": "python3"
  },
  "language_info": {
   "codemirror_mode": {
    "name": "ipython",
    "version": 3
   },
   "file_extension": ".py",
   "mimetype": "text/x-python",
   "name": "python",
   "nbconvert_exporter": "python",
   "pygments_lexer": "ipython3",
   "version": "3.11.7"
  }
 },
 "nbformat": 4,
 "nbformat_minor": 5
}
