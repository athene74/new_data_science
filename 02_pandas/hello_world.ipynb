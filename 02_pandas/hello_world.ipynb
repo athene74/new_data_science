{
 "cells": [
  {
   "cell_type": "code",
   "execution_count": 1,
   "id": "5dd0173e-66f8-4b42-a5e7-6784ca7ba19a",
   "metadata": {},
   "outputs": [
    {
     "name": "stdout",
     "output_type": "stream",
     "text": [
      "Hello world!\n"
     ]
    }
   ],
   "source": [
    "print('Hello world!!')"
   ]
  },
  {
   "cell_type": "code",
   "execution_count": null,
   "id": "9256696d-b6a8-4359-866f-e0548281c291",
   "metadata": {},
   "outputs": [],
   "source": []
  }
 ],
 "metadata": {
  "kernelspec": {
   "display_name": "Python 3 (ipykernel)",
   "language": "python",
   "name": "python3"
  },
  "language_info": {
   "codemirror_mode": {
    "name": "ipython",
    "version": 3
   },
   "file_extension": ".py",
   "mimetype": "text/x-python",
   "name": "python",
   "nbconvert_exporter": "python",
   "pygments_lexer": "ipython3",
   "version": "3.11.7"
  }
 },
 "nbformat": 4,
 "nbformat_minor": 5
}
