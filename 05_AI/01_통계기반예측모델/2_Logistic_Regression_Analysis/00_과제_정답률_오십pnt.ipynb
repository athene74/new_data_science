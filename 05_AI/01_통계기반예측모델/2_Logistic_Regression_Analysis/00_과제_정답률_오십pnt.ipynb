{
 "cells": [
  {
   "cell_type": "markdown",
   "id": "0349b8be-bec4-40e5-b9a8-16beea564246",
   "metadata": {},
   "source": [
    "# 미션\n",
    "### 공공데이터 포털에서 2진 분류 문제를 해결할 수 있는 데이터 셋 선정\n",
    "### 로지스틱 회귀 모델 작성\n",
    "### 정답률 50% 이상인 성능이 나올 때까지 AB테스트 및 자동화 테스트 진행"
   ]
  },
  {
   "cell_type": "markdown",
   "id": "283ea50d-f345-4ac2-abc5-9b844e5efbd4",
   "metadata": {},
   "source": [
    "* 국민건강보험공단_혈액검사 데이터.csv"
   ]
  },
  {
   "cell_type": "code",
   "execution_count": 27,
   "id": "fbf2392d-eade-4058-a26f-0f0393294d90",
   "metadata": {},
   "outputs": [],
   "source": [
    "import numpy as np\n",
    "import pandas as pd\n",
    "import statsmodels.api as sm"
   ]
  },
  {
   "cell_type": "code",
   "execution_count": 28,
   "id": "30139379-10c2-4fa6-b853-6c1839ba7932",
   "metadata": {},
   "outputs": [],
   "source": [
    "bloodtest = pd.read_csv('국가건강검진_혈액검사데이터.csv', sep=',', header=0)"
   ]
  },
  {
   "cell_type": "raw",
   "id": "b42c6c16-00d9-46a4-bf5d-6a7b2f32bdbf",
   "metadata": {},
   "source": [
    "[항목] 연령, 혈색소, 총콜레스테롤, 중성지방, HDL콜레스테롤, 빈혈 진료여부, 허혈심장질환 진료여부, 뇌혈관질환 진료여부\n",
    "[변수] - SEX : 성별(남성:1, 여성:2)\n",
    "- AGE_G : 연령(그룹)\n",
    "- HGB : 혈색소\n",
    "- TCHOL : 총콜레스테롤\n",
    "- TG : 중성지방\n",
    "- HDL : HDL 콜레스테롤\n",
    "- ANE : 빈혈 진료여부(있음:1, 없음:0)\n",
    "- IHD : 허혈심장질환 진료여부(있음:1, 없음:0)\n",
    "- STK : 뇌혈관질환 진료여부(있음:1, 없음:0)"
   ]
  },
  {
   "cell_type": "code",
   "execution_count": 29,
   "id": "568f03be-cebc-4474-accd-be984235411b",
   "metadata": {},
   "outputs": [
    {
     "data": {
      "text/html": [
       "<div>\n",
       "<style scoped>\n",
       "    .dataframe tbody tr th:only-of-type {\n",
       "        vertical-align: middle;\n",
       "    }\n",
       "\n",
       "    .dataframe tbody tr th {\n",
       "        vertical-align: top;\n",
       "    }\n",
       "\n",
       "    .dataframe thead th {\n",
       "        text-align: right;\n",
       "    }\n",
       "</style>\n",
       "<table border=\"1\" class=\"dataframe\">\n",
       "  <thead>\n",
       "    <tr style=\"text-align: right;\">\n",
       "      <th></th>\n",
       "      <th>SEX</th>\n",
       "      <th>AGE_G</th>\n",
       "      <th>HGB</th>\n",
       "      <th>TCHOL</th>\n",
       "      <th>TG</th>\n",
       "      <th>HDL</th>\n",
       "      <th>ANE</th>\n",
       "      <th>IHD</th>\n",
       "      <th>STK</th>\n",
       "    </tr>\n",
       "  </thead>\n",
       "  <tbody>\n",
       "    <tr>\n",
       "      <th>0</th>\n",
       "      <td>1</td>\n",
       "      <td>1</td>\n",
       "      <td>15.5</td>\n",
       "      <td>139</td>\n",
       "      <td>112</td>\n",
       "      <td>54</td>\n",
       "      <td>0</td>\n",
       "      <td>0</td>\n",
       "      <td>0</td>\n",
       "    </tr>\n",
       "    <tr>\n",
       "      <th>1</th>\n",
       "      <td>1</td>\n",
       "      <td>1</td>\n",
       "      <td>16.2</td>\n",
       "      <td>204</td>\n",
       "      <td>105</td>\n",
       "      <td>55</td>\n",
       "      <td>0</td>\n",
       "      <td>0</td>\n",
       "      <td>0</td>\n",
       "    </tr>\n",
       "    <tr>\n",
       "      <th>2</th>\n",
       "      <td>1</td>\n",
       "      <td>1</td>\n",
       "      <td>16.4</td>\n",
       "      <td>181</td>\n",
       "      <td>83</td>\n",
       "      <td>67</td>\n",
       "      <td>0</td>\n",
       "      <td>0</td>\n",
       "      <td>0</td>\n",
       "    </tr>\n",
       "    <tr>\n",
       "      <th>3</th>\n",
       "      <td>1</td>\n",
       "      <td>1</td>\n",
       "      <td>16.1</td>\n",
       "      <td>147</td>\n",
       "      <td>45</td>\n",
       "      <td>56</td>\n",
       "      <td>0</td>\n",
       "      <td>0</td>\n",
       "      <td>0</td>\n",
       "    </tr>\n",
       "    <tr>\n",
       "      <th>4</th>\n",
       "      <td>1</td>\n",
       "      <td>1</td>\n",
       "      <td>15.3</td>\n",
       "      <td>148</td>\n",
       "      <td>70</td>\n",
       "      <td>57</td>\n",
       "      <td>0</td>\n",
       "      <td>0</td>\n",
       "      <td>0</td>\n",
       "    </tr>\n",
       "  </tbody>\n",
       "</table>\n",
       "</div>"
      ],
      "text/plain": [
       "   SEX  AGE_G   HGB  TCHOL   TG  HDL  ANE  IHD  STK\n",
       "0    1      1  15.5    139  112   54    0    0    0\n",
       "1    1      1  16.2    204  105   55    0    0    0\n",
       "2    1      1  16.4    181   83   67    0    0    0\n",
       "3    1      1  16.1    147   45   56    0    0    0\n",
       "4    1      1  15.3    148   70   57    0    0    0"
      ]
     },
     "execution_count": 29,
     "metadata": {},
     "output_type": "execute_result"
    }
   ],
   "source": [
    "bloodtest.head()"
   ]
  },
  {
   "cell_type": "code",
   "execution_count": 30,
   "id": "c322fdef-26a7-4b9e-a79a-b5cf120f9153",
   "metadata": {},
   "outputs": [],
   "source": [
    "# Fit a logistic regression model\n",
    "dependent_variable = bloodtest['ANE']\n",
    "independent_variables = bloodtest[['SEX', 'AGE_G', 'HGB', 'TCHOL', 'TG', 'HDL', 'IHD', 'STK']]"
   ]
  },
  {
   "cell_type": "code",
   "execution_count": 31,
   "id": "06018d21-3e40-4a49-a2c0-bf3b71d0e843",
   "metadata": {},
   "outputs": [
    {
     "data": {
      "text/html": [
       "<div>\n",
       "<style scoped>\n",
       "    .dataframe tbody tr th:only-of-type {\n",
       "        vertical-align: middle;\n",
       "    }\n",
       "\n",
       "    .dataframe tbody tr th {\n",
       "        vertical-align: top;\n",
       "    }\n",
       "\n",
       "    .dataframe thead th {\n",
       "        text-align: right;\n",
       "    }\n",
       "</style>\n",
       "<table border=\"1\" class=\"dataframe\">\n",
       "  <thead>\n",
       "    <tr style=\"text-align: right;\">\n",
       "      <th></th>\n",
       "      <th>SEX</th>\n",
       "      <th>AGE_G</th>\n",
       "      <th>HGB</th>\n",
       "      <th>TCHOL</th>\n",
       "      <th>TG</th>\n",
       "      <th>HDL</th>\n",
       "      <th>IHD</th>\n",
       "      <th>STK</th>\n",
       "    </tr>\n",
       "  </thead>\n",
       "  <tbody>\n",
       "    <tr>\n",
       "      <th>0</th>\n",
       "      <td>1</td>\n",
       "      <td>1</td>\n",
       "      <td>15.5</td>\n",
       "      <td>139</td>\n",
       "      <td>112</td>\n",
       "      <td>54</td>\n",
       "      <td>0</td>\n",
       "      <td>0</td>\n",
       "    </tr>\n",
       "  </tbody>\n",
       "</table>\n",
       "</div>"
      ],
      "text/plain": [
       "   SEX  AGE_G   HGB  TCHOL   TG  HDL  IHD  STK\n",
       "0    1      1  15.5    139  112   54    0    0"
      ]
     },
     "execution_count": 31,
     "metadata": {},
     "output_type": "execute_result"
    }
   ],
   "source": [
    "independent_variables.head(1)"
   ]
  },
  {
   "cell_type": "code",
   "execution_count": 43,
   "id": "ef63fddf-6899-4b90-b986-24c4dcc43705",
   "metadata": {},
   "outputs": [
    {
     "name": "stdout",
     "output_type": "stream",
     "text": [
      "Optimization terminated successfully.\n",
      "         Current function value: 0.245487\n",
      "         Iterations 7\n"
     ]
    }
   ],
   "source": [
    "# Logistic 모델에서 내부적으로 사용하는 고정상수(1)를 추가\n",
    "# 데이터 셋과 상관없이 항상 1이 추가된다.\n",
    "# add_constant의 인자는 2차원 배열인 경우에 유효\n",
    "independent_variables_with_constant = sm.add_constant(independent_variables, prepend=True)\n",
    "logit_model = sm.Logit(dependent_variable, independent_variables_with_constant).fit()\n",
    "new_observatios = bloodtest.loc[:, independent_variables.columns]"
   ]
  },
  {
   "cell_type": "code",
   "execution_count": 44,
   "id": "62285489-d4e3-4824-be3e-662e8f4d6fd6",
   "metadata": {},
   "outputs": [
    {
     "data": {
      "text/plain": [
       "(1000000, 8)"
      ]
     },
     "execution_count": 44,
     "metadata": {},
     "output_type": "execute_result"
    }
   ],
   "source": [
    "new_observatios.shape"
   ]
  },
  {
   "cell_type": "code",
   "execution_count": 41,
   "id": "cceeae60-95e7-416c-9471-c5bb2f50f43c",
   "metadata": {},
   "outputs": [],
   "source": [
    "new_observatios_with_constant = sm.add_constant(new_observatios, prepend=True)\n",
    "y_predicted = logit_model.predict(new_observatios_with_constant)\n",
    "y_predicted_rounded=[round(score,0) for score in y_predicted]\n",
    "logistic_predicted_value_list=[]"
   ]
  },
  {
   "cell_type": "code",
   "execution_count": 45,
   "id": "987afd10-5184-4669-b208-ca7ac955cd2e",
   "metadata": {},
   "outputs": [
    {
     "name": "stdout",
     "output_type": "stream",
     "text": [
      "1\t|0.0\t|0\n",
      "2\t|0.0\t|0\n",
      "3\t|0.0\t|0\n",
      "4\t|0.0\t|0\n",
      "5\t|0.0\t|0\n",
      "6\t|0.0\t|0\n",
      "7\t|0.0\t|0\n",
      "8\t|0.0\t|0\n",
      "9\t|0.0\t|0\n",
      "10\t|0.0\t|0\n",
      "11\t|0.0\t|0\n",
      "12\t|0.0\t|0\n",
      "13\t|0.0\t|1\n",
      "14\t|0.0\t|0\n",
      "15\t|0.0\t|0\n",
      "16\t|0.0\t|0\n",
      "17\t|0.0\t|0\n",
      "18\t|0.0\t|0\n",
      "19\t|0.0\t|0\n",
      "20\t|0.0\t|0\n",
      "\n",
      "전체 관찰 계수: 1000000\n",
      "정답수: 923107\n",
      "정답률: 92.3107 %\n"
     ]
    }
   ],
   "source": [
    "total_count = 0\n",
    "index = 0\n",
    "total_number = len(y_predicted_rounded)\n",
    "total_correct = 0\n",
    "\n",
    "while index < total_number:\n",
    "    if index<20:\n",
    "        print(f'{index+1}\\t|{y_predicted_rounded[index]}\\t|{dependent_variable[index]}')\n",
    "    if y_predicted_rounded[index] == dependent_variable [index]:\n",
    "        total_correct += 1\n",
    "    index+=1\n",
    "\n",
    "print(f'\\n전체 관찰 계수: {total_number}')\n",
    "print(f'정답수: {total_correct}')\n",
    "print(f'정답률: {(total_correct/total_number)*100} %')"
   ]
  },
  {
   "cell_type": "code",
   "execution_count": null,
   "id": "a00ef54f-5213-4007-902f-b02746c68b2d",
   "metadata": {},
   "outputs": [],
   "source": []
  },
  {
   "cell_type": "code",
   "execution_count": null,
   "id": "c282b94b-354c-4f9f-bbf0-e51d6176545b",
   "metadata": {},
   "outputs": [],
   "source": []
  },
  {
   "cell_type": "code",
   "execution_count": null,
   "id": "236fb517-8c95-418b-b24d-88b5a99cf2a3",
   "metadata": {},
   "outputs": [],
   "source": []
  },
  {
   "cell_type": "code",
   "execution_count": null,
   "id": "94ff10c0-b6ac-4b73-968e-8a30a2d9d696",
   "metadata": {},
   "outputs": [],
   "source": []
  }
 ],
 "metadata": {
  "kernelspec": {
   "display_name": "Python 3 (ipykernel)",
   "language": "python",
   "name": "python3"
  },
  "language_info": {
   "codemirror_mode": {
    "name": "ipython",
    "version": 3
   },
   "file_extension": ".py",
   "mimetype": "text/x-python",
   "name": "python",
   "nbconvert_exporter": "python",
   "pygments_lexer": "ipython3",
   "version": "3.11.7"
  }
 },
 "nbformat": 4,
 "nbformat_minor": 5
}
