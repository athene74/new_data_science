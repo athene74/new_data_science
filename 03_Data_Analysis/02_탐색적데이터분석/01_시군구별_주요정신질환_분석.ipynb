{
 "cells": [
  {
   "cell_type": "markdown",
   "id": "9a361676",
   "metadata": {
    "hidden": true
   },
   "source": [
    "## 주요절차"
   ]
  },
  {
   "cell_type": "markdown",
   "id": "3d379671-7fb1-4d1e-a490-58904eb3bed1",
   "metadata": {},
   "source": [
    "### 데이터 수집"
   ]
  },
  {
   "cell_type": "markdown",
   "id": "ec287f24-16cc-4c82-83f6-b478e82b7916",
   "metadata": {},
   "source": [
    "* 데이터 소스 명시"
   ]
  },
  {
   "cell_type": "markdown",
   "id": "27585602",
   "metadata": {
    "hidden": true
   },
   "source": [
    "### 1. 초기데이터 확인"
   ]
  },
  {
   "cell_type": "markdown",
   "id": "f952717d-1c7e-4ec5-a2bf-85ec04cad815",
   "metadata": {
    "hidden": true
   },
   "source": [
    "#### 1-1. 데이터딕셔너리(각 열의 의미, 데이터의 의미해석관련 스펙 또는 메뉴얼) 확인\n",
    "#### 1-2 데이터 기초정보 확인 (사이즈, 열이름, 데이터형)"
   ]
  },
  {
   "cell_type": "markdown",
   "id": "fc3d0eb7-3b2e-4204-944a-9287732085c9",
   "metadata": {},
   "source": [
    "* 기초통계정보 확인"
   ]
  },
  {
   "cell_type": "raw",
   "id": "66a43f0e-61a2-491f-96c6-5a54f3e52b50",
   "metadata": {
    "hidden": true
   },
   "source": [
    "기초 통계값 확인 ( df.describe() )\n",
    "[수치형 데이터]\r",
    " \n",
    "=> 수치데이터로서 의미가 는지 판단? \r\n",
    "=> 의미가 있는(예: 키, 몸무게, 가격등) 열에 대해 아래 작업 진행  분석\r\n",
    " - 확인해야 할 사항    수치상\r\n",
    "mean, min, 1q, 2q(중위값), 3q,게, 가격\r\n",
    " - 시각화\r\n",
    "  히스토그램, 박스플롯 (바이올린플롯)\r\n",
    " - 이상치 유무 확인\r\n",
    " - 이상치가 있다면 보정방식을 선택\r\n",
    "  (예: 삭제, 포함)\r\n",
    "- 기초통계값과, 차트 재확인 (이상\n",
    "[보정  데이터]유무 확인)\r\n",
    "- 문자열\r\n",
    " => unique의 결과값에서 파이차트나 막대차트로 그릴수  - 있는 열이 있는지 확인\r\n",
    " 10개미만은 파이차트,  - 도우넛차트 그리기에 용이\r\n",
    " 10개상위 은 파이차트, 막대차트(Top3,5,10 등을 도출.. 그리고 형 데이터나하위 데이터3,5,10)\r\n",
    "\r\n",
    "* 수치 문자 중에 범위화 할 \n",
    " 예)수 있는 열이 있는지 확인해 보자\r\n",
    " 가격=> 초고가, 고가,위 작업은  일반, 저가\r\n",
    " 주소 추후 진행할 수 있다.pply 함수를 통해\r",
    "ly 함수를 통해"
   ]
  },
  {
   "cell_type": "markdown",
   "id": "2ebab032",
   "metadata": {
    "hidden": true
   },
   "source": [
    "### 2. 데이터 정제"
   ]
  },
  {
   "cell_type": "markdown",
   "id": "39e200d0",
   "metadata": {
    "hidden": true
   },
   "source": [
    "#### 2.1. 원본데이터에서 분석가능한 형태로 데이터 전처리 (형변환, 열이름 변경등)\n",
    "#### 2.2. 데이터 클리닝: 이상치, 결측치처리"
   ]
  },
  {
   "cell_type": "markdown",
   "id": "4e60e3f3",
   "metadata": {
    "hidden": true
   },
   "source": [
    "### 3. 초기데이터 분석"
   ]
  },
  {
   "cell_type": "markdown",
   "id": "82e0a525",
   "metadata": {
    "hidden": true
   },
   "source": [
    "#### 3.1 데이터 정제후 데이터딕셔너리 재확인\n",
    "#### 3.2 기초통계 정보 확인 (최대값, 최소값, 평균값, 표준편차, 최빈값, 유일값 등)\n",
    "#### 3.3 시각화를 통한 데이터이해 심화 "
   ]
  },
  {
   "cell_type": "markdown",
   "id": "87e87a59",
   "metadata": {
    "hidden": true
   },
   "source": [
    "* 3.3.1 단일 열: 데이터의 성격에 따른 다양한 차트 적용  \n",
    "* 3.3.2 복수 열: 두개의 열간 연관관계 분석(Pair Plot 또는 Seaborn의 관련 지원 차트등)"
   ]
  },
  {
   "cell_type": "markdown",
   "id": "1016da18-a38d-4677-942d-ff8e13f2dfad",
   "metadata": {},
   "source": [
    "#### 3.4 데이터 분석 결과도출"
   ]
  },
  {
   "cell_type": "markdown",
   "id": "da72a215-50d6-40eb-85ca-23a7bcb95f0d",
   "metadata": {},
   "source": [
    "# 4. 탐색적연구"
   ]
  },
  {
   "cell_type": "markdown",
   "id": "d89d6419-5a8e-4ac8-bcba-7766be1412cc",
   "metadata": {},
   "source": [
    "#### Step0] 데이터 분석을 위한 목적, 대상 또는 주요가설을 세워본다. 주요가설 도출 후 우선순위를 설정한다."
   ]
  },
  {
   "cell_type": "markdown",
   "id": "6e717d77-89a2-4fd0-9e0a-8ce5527d3df9",
   "metadata": {},
   "source": [
    "#### Step1] 우선순위가 높은 가설을 구체화 한다.\n",
    "* 예) 나이와 월급간에 상관관계가 있을 것이다. (40~60대 사이에서 급여가 가장 높을 것이다)"
   ]
  },
  {
   "cell_type": "markdown",
   "id": "9d6bac36-33db-4150-bd7b-f4fa89a4ca08",
   "metadata": {},
   "source": [
    "#### Step2] 가설증명: 데이터 재 구조화, 시각화를 통해 새로운 insight 및 정보를 습득 및 가설을 검증한다. \n",
    "* 예) 나이별 월급에 대한 평균값을 구하고 line차트로 시각화하여 추세를 파악하여 가설을 검증한다."
   ]
  },
  {
   "cell_type": "markdown",
   "id": "385db4a9-bf48-4479-ac65-5813098ad3ea",
   "metadata": {},
   "source": [
    "#### Step3] 가설결론: 해당 가설에 대한 결론을 내린다."
   ]
  },
  {
   "cell_type": "markdown",
   "id": "7e7cc94c-59b6-4627-8844-bd50cf3de83f",
   "metadata": {},
   "source": [
    "#### Step4] 탐색적연구 반복:  \n",
    "* 추가 가설을 설정하고 가설의 우선순위를 재조정 한다.\n",
    "* 시간 일정이 허락하는 범위내에서 Step1~Step3를 반복한다."
   ]
  },
  {
   "cell_type": "markdown",
   "id": "49634c1e-98c1-4371-a3ad-935514955cdf",
   "metadata": {},
   "source": [
    "#### Step5] 최종결론: 지금까지 진행했던 모든 탐색적연구의 결과를 반영하여 최종 결론을 내린다."
   ]
  },
  {
   "cell_type": "markdown",
   "id": "624a871d-49ea-4629-a260-dce13da1669e",
   "metadata": {},
   "source": [
    "---"
   ]
  },
  {
   "cell_type": "markdown",
   "id": "1ef49c0d-2e75-4bde-879a-4298d3d445bf",
   "metadata": {},
   "source": [
    "---"
   ]
  },
  {
   "cell_type": "markdown",
   "id": "d98ee251",
   "metadata": {},
   "source": [
    "# 데이터분석 적용 실습 템플릿"
   ]
  },
  {
   "cell_type": "raw",
   "id": "ff56b213-e508-4fb3-bf45-2790a36bd947",
   "metadata": {},
   "source": [
    "pip install pyreadstat"
   ]
  },
  {
   "cell_type": "code",
   "execution_count": 2,
   "id": "2cd37688-f2e8-48bc-bd49-f4a2568911e2",
   "metadata": {},
   "outputs": [],
   "source": [
    "import pandas as pd\n",
    "import numpy as np\n",
    "import seaborn as sns"
   ]
  },
  {
   "cell_type": "markdown",
   "id": "bf0ce18c-c55c-4c09-86f8-ce8822890c5e",
   "metadata": {},
   "source": [
    "## 필요한 모듈 import"
   ]
  },
  {
   "cell_type": "code",
   "execution_count": 3,
   "id": "9d0214b5-ef03-49c9-bb79-9a6fc62415e1",
   "metadata": {},
   "outputs": [],
   "source": [
    "import matplotlib.pyplot as plt\n",
    "%matplotlib inline\n",
    "from matplotlib import font_manager, rc\n",
    "# 한글 폰트\n",
    "font_location = \"C:\\Windows\\Fonts\\malgun.ttf\"\n",
    "font_name = font_manager.FontProperties(fname = font_location).get_name()\n",
    "rc('font', family=font_name)\n",
    "plt.rcParams['axes.unicode_minus'] = False  # 유니코드 마이너스 기호 사용"
   ]
  },
  {
   "cell_type": "markdown",
   "id": "0521bf67",
   "metadata": {},
   "source": [
    "## 데이터 수집"
   ]
  },
  {
   "cell_type": "code",
   "execution_count": 4,
   "id": "46c5eafe",
   "metadata": {},
   "outputs": [
    {
     "data": {
      "text/html": [
       "<div>\n",
       "<style scoped>\n",
       "    .dataframe tbody tr th:only-of-type {\n",
       "        vertical-align: middle;\n",
       "    }\n",
       "\n",
       "    .dataframe tbody tr th {\n",
       "        vertical-align: top;\n",
       "    }\n",
       "\n",
       "    .dataframe thead th {\n",
       "        text-align: right;\n",
       "    }\n",
       "</style>\n",
       "<table border=\"1\" class=\"dataframe\">\n",
       "  <thead>\n",
       "    <tr style=\"text-align: right;\">\n",
       "      <th></th>\n",
       "      <th>진료년도</th>\n",
       "      <th>상별구분</th>\n",
       "      <th>시도</th>\n",
       "      <th>시군구</th>\n",
       "      <th>성별</th>\n",
       "      <th>연령구분</th>\n",
       "      <th>환자수</th>\n",
       "      <th>입내원일수</th>\n",
       "      <th>요양급여비용</th>\n",
       "    </tr>\n",
       "  </thead>\n",
       "  <tbody>\n",
       "    <tr>\n",
       "      <th>0</th>\n",
       "      <td>2018</td>\n",
       "      <td>ADHD</td>\n",
       "      <td>서울</td>\n",
       "      <td>강남구</td>\n",
       "      <td>남</td>\n",
       "      <td>0~9세</td>\n",
       "      <td>437</td>\n",
       "      <td>3330</td>\n",
       "      <td>188836790</td>\n",
       "    </tr>\n",
       "    <tr>\n",
       "      <th>1</th>\n",
       "      <td>2018</td>\n",
       "      <td>ADHD</td>\n",
       "      <td>서울</td>\n",
       "      <td>강남구</td>\n",
       "      <td>남</td>\n",
       "      <td>10~19세</td>\n",
       "      <td>1111</td>\n",
       "      <td>8869</td>\n",
       "      <td>563498480</td>\n",
       "    </tr>\n",
       "    <tr>\n",
       "      <th>2</th>\n",
       "      <td>2018</td>\n",
       "      <td>ADHD</td>\n",
       "      <td>서울</td>\n",
       "      <td>강남구</td>\n",
       "      <td>남</td>\n",
       "      <td>20~29세</td>\n",
       "      <td>456</td>\n",
       "      <td>3485</td>\n",
       "      <td>213248290</td>\n",
       "    </tr>\n",
       "    <tr>\n",
       "      <th>3</th>\n",
       "      <td>2018</td>\n",
       "      <td>ADHD</td>\n",
       "      <td>서울</td>\n",
       "      <td>강남구</td>\n",
       "      <td>남</td>\n",
       "      <td>30~39세</td>\n",
       "      <td>174</td>\n",
       "      <td>1357</td>\n",
       "      <td>72761750</td>\n",
       "    </tr>\n",
       "    <tr>\n",
       "      <th>4</th>\n",
       "      <td>2018</td>\n",
       "      <td>ADHD</td>\n",
       "      <td>서울</td>\n",
       "      <td>강남구</td>\n",
       "      <td>남</td>\n",
       "      <td>40~49세</td>\n",
       "      <td>55</td>\n",
       "      <td>357</td>\n",
       "      <td>21611080</td>\n",
       "    </tr>\n",
       "  </tbody>\n",
       "</table>\n",
       "</div>"
      ],
      "text/plain": [
       "   진료년도  상별구분  시도  시군구 성별    연령구분   환자수  입내원일수     요양급여비용\n",
       "0  2018  ADHD  서울  강남구  남    0~9세   437   3330  188836790\n",
       "1  2018  ADHD  서울  강남구  남  10~19세  1111   8869  563498480\n",
       "2  2018  ADHD  서울  강남구  남  20~29세   456   3485  213248290\n",
       "3  2018  ADHD  서울  강남구  남  30~39세   174   1357   72761750\n",
       "4  2018  ADHD  서울  강남구  남  40~49세    55    357   21611080"
      ]
     },
     "execution_count": 4,
     "metadata": {},
     "output_type": "execute_result"
    }
   ],
   "source": [
    "df = pd.read_csv(\"시군구 성별 연령별 주요 정실질환 통계 2018~2022.csv\", encoding='cp949')\n",
    "df.head()"
   ]
  },
  {
   "cell_type": "markdown",
   "id": "c3b597f4",
   "metadata": {},
   "source": [
    "## 1. 초기데이터 확인"
   ]
  },
  {
   "cell_type": "markdown",
   "id": "0c3c91be",
   "metadata": {},
   "source": [
    "### 1-1. 데이터스키마 확인"
   ]
  },
  {
   "cell_type": "markdown",
   "id": "16b49047-50c3-4ff3-9417-edb92d59b2d4",
   "metadata": {},
   "source": [
    "#### 각 열의 의미, 데이터의 의미해석관련 스펙 또는 메뉴얼을 확인 가능시 진행 하세요\n",
    "* A열: A열의 의미를 기술\n",
    "* B열: B열의 의미를 기술  \n",
    "..."
   ]
  },
  {
   "cell_type": "markdown",
   "id": "913979f3",
   "metadata": {},
   "source": [
    "### 1-2. 데이터 기초정보 확인"
   ]
  },
  {
   "cell_type": "markdown",
   "id": "1e03acff-a002-4e37-be88-5d36d4706630",
   "metadata": {},
   "source": [
    "* 사이즈, 데이터형, 기초통계항목등을 확인하세요  "
   ]
  },
  {
   "cell_type": "code",
   "execution_count": 5,
   "id": "4213881a-92fb-4064-af2a-25bc73e4299e",
   "metadata": {},
   "outputs": [],
   "source": [
    "#df.shape\n",
    "#df.info()"
   ]
  },
  {
   "cell_type": "code",
   "execution_count": 6,
   "id": "27dd5fab-ff8c-4017-aab9-1e116b13b312",
   "metadata": {},
   "outputs": [
    {
     "data": {
      "text/plain": [
       "(165000, 9)"
      ]
     },
     "execution_count": 6,
     "metadata": {},
     "output_type": "execute_result"
    }
   ],
   "source": [
    "df.shape"
   ]
  },
  {
   "cell_type": "code",
   "execution_count": 7,
   "id": "d41cf1e7-8428-4cc1-8333-da4c0d7eedad",
   "metadata": {},
   "outputs": [
    {
     "name": "stdout",
     "output_type": "stream",
     "text": [
      "<class 'pandas.core.frame.DataFrame'>\n",
      "RangeIndex: 165000 entries, 0 to 164999\n",
      "Data columns (total 9 columns):\n",
      " #   Column  Non-Null Count   Dtype \n",
      "---  ------  --------------   ----- \n",
      " 0   진료년도    165000 non-null  int64 \n",
      " 1   상별구분    165000 non-null  object\n",
      " 2   시도      165000 non-null  object\n",
      " 3   시군구     165000 non-null  object\n",
      " 4   성별      165000 non-null  object\n",
      " 5   연령구분    165000 non-null  object\n",
      " 6   환자수     165000 non-null  int64 \n",
      " 7   입내원일수   165000 non-null  int64 \n",
      " 8   요양급여비용  165000 non-null  int64 \n",
      "dtypes: int64(4), object(5)\n",
      "memory usage: 11.3+ MB\n"
     ]
    }
   ],
   "source": [
    "df.info()"
   ]
  },
  {
   "cell_type": "markdown",
   "id": "8d2984b9-6715-49a2-8583-d9583b38b857",
   "metadata": {},
   "source": [
    "* 기초통계항목"
   ]
  },
  {
   "cell_type": "code",
   "execution_count": 8,
   "id": "7f497c28-3191-4262-aae0-41402e8eaeef",
   "metadata": {},
   "outputs": [],
   "source": [
    "# df.describe()"
   ]
  },
  {
   "cell_type": "code",
   "execution_count": 9,
   "id": "21618a2d-8272-4a1f-93ca-5783bf25906d",
   "metadata": {},
   "outputs": [
    {
     "data": {
      "text/html": [
       "<div>\n",
       "<style scoped>\n",
       "    .dataframe tbody tr th:only-of-type {\n",
       "        vertical-align: middle;\n",
       "    }\n",
       "\n",
       "    .dataframe tbody tr th {\n",
       "        vertical-align: top;\n",
       "    }\n",
       "\n",
       "    .dataframe thead th {\n",
       "        text-align: right;\n",
       "    }\n",
       "</style>\n",
       "<table border=\"1\" class=\"dataframe\">\n",
       "  <thead>\n",
       "    <tr style=\"text-align: right;\">\n",
       "      <th></th>\n",
       "      <th>진료년도</th>\n",
       "      <th>환자수</th>\n",
       "      <th>입내원일수</th>\n",
       "      <th>요양급여비용</th>\n",
       "    </tr>\n",
       "  </thead>\n",
       "  <tbody>\n",
       "    <tr>\n",
       "      <th>count</th>\n",
       "      <td>165000.000000</td>\n",
       "      <td>165000.000000</td>\n",
       "      <td>165000.000000</td>\n",
       "      <td>1.650000e+05</td>\n",
       "    </tr>\n",
       "    <tr>\n",
       "      <th>mean</th>\n",
       "      <td>2020.000000</td>\n",
       "      <td>86.157673</td>\n",
       "      <td>621.043145</td>\n",
       "      <td>3.860845e+07</td>\n",
       "    </tr>\n",
       "    <tr>\n",
       "      <th>std</th>\n",
       "      <td>1.414218</td>\n",
       "      <td>193.002516</td>\n",
       "      <td>1406.831330</td>\n",
       "      <td>1.029413e+08</td>\n",
       "    </tr>\n",
       "    <tr>\n",
       "      <th>min</th>\n",
       "      <td>2018.000000</td>\n",
       "      <td>0.000000</td>\n",
       "      <td>0.000000</td>\n",
       "      <td>0.000000e+00</td>\n",
       "    </tr>\n",
       "    <tr>\n",
       "      <th>25%</th>\n",
       "      <td>2019.000000</td>\n",
       "      <td>0.000000</td>\n",
       "      <td>0.000000</td>\n",
       "      <td>0.000000e+00</td>\n",
       "    </tr>\n",
       "    <tr>\n",
       "      <th>50%</th>\n",
       "      <td>2020.000000</td>\n",
       "      <td>10.000000</td>\n",
       "      <td>21.000000</td>\n",
       "      <td>3.747500e+05</td>\n",
       "    </tr>\n",
       "    <tr>\n",
       "      <th>75%</th>\n",
       "      <td>2021.000000</td>\n",
       "      <td>79.000000</td>\n",
       "      <td>618.000000</td>\n",
       "      <td>3.038176e+07</td>\n",
       "    </tr>\n",
       "    <tr>\n",
       "      <th>max</th>\n",
       "      <td>2022.000000</td>\n",
       "      <td>6311.000000</td>\n",
       "      <td>48418.000000</td>\n",
       "      <td>5.132790e+09</td>\n",
       "    </tr>\n",
       "  </tbody>\n",
       "</table>\n",
       "</div>"
      ],
      "text/plain": [
       "                진료년도            환자수          입내원일수        요양급여비용\n",
       "count  165000.000000  165000.000000  165000.000000  1.650000e+05\n",
       "mean     2020.000000      86.157673     621.043145  3.860845e+07\n",
       "std         1.414218     193.002516    1406.831330  1.029413e+08\n",
       "min      2018.000000       0.000000       0.000000  0.000000e+00\n",
       "25%      2019.000000       0.000000       0.000000  0.000000e+00\n",
       "50%      2020.000000      10.000000      21.000000  3.747500e+05\n",
       "75%      2021.000000      79.000000     618.000000  3.038176e+07\n",
       "max      2022.000000    6311.000000   48418.000000  5.132790e+09"
      ]
     },
     "execution_count": 9,
     "metadata": {},
     "output_type": "execute_result"
    }
   ],
   "source": [
    "df.describe()"
   ]
  },
  {
   "cell_type": "code",
   "execution_count": 10,
   "id": "189c9826-1545-405c-b5ab-92737eaabe2f",
   "metadata": {},
   "outputs": [
    {
     "data": {
      "text/html": [
       "<div>\n",
       "<style scoped>\n",
       "    .dataframe tbody tr th:only-of-type {\n",
       "        vertical-align: middle;\n",
       "    }\n",
       "\n",
       "    .dataframe tbody tr th {\n",
       "        vertical-align: top;\n",
       "    }\n",
       "\n",
       "    .dataframe thead th {\n",
       "        text-align: right;\n",
       "    }\n",
       "</style>\n",
       "<table border=\"1\" class=\"dataframe\">\n",
       "  <thead>\n",
       "    <tr style=\"text-align: right;\">\n",
       "      <th></th>\n",
       "      <th>상별구분</th>\n",
       "      <th>시도</th>\n",
       "      <th>시군구</th>\n",
       "      <th>성별</th>\n",
       "      <th>연령구분</th>\n",
       "    </tr>\n",
       "  </thead>\n",
       "  <tbody>\n",
       "    <tr>\n",
       "      <th>count</th>\n",
       "      <td>165000</td>\n",
       "      <td>165000</td>\n",
       "      <td>165000</td>\n",
       "      <td>165000</td>\n",
       "      <td>165000</td>\n",
       "    </tr>\n",
       "    <tr>\n",
       "      <th>unique</th>\n",
       "      <td>6</td>\n",
       "      <td>17</td>\n",
       "      <td>249</td>\n",
       "      <td>2</td>\n",
       "      <td>11</td>\n",
       "    </tr>\n",
       "    <tr>\n",
       "      <th>top</th>\n",
       "      <td>ADHD</td>\n",
       "      <td>경기</td>\n",
       "      <td>고성군</td>\n",
       "      <td>남</td>\n",
       "      <td>0~9세</td>\n",
       "    </tr>\n",
       "    <tr>\n",
       "      <th>freq</th>\n",
       "      <td>27500</td>\n",
       "      <td>27720</td>\n",
       "      <td>1320</td>\n",
       "      <td>82500</td>\n",
       "      <td>15000</td>\n",
       "    </tr>\n",
       "  </tbody>\n",
       "</table>\n",
       "</div>"
      ],
      "text/plain": [
       "          상별구분      시도     시군구      성별    연령구분\n",
       "count   165000  165000  165000  165000  165000\n",
       "unique       6      17     249       2      11\n",
       "top       ADHD      경기     고성군       남    0~9세\n",
       "freq     27500   27720    1320   82500   15000"
      ]
     },
     "execution_count": 10,
     "metadata": {},
     "output_type": "execute_result"
    }
   ],
   "source": [
    "df.describe(include='object')"
   ]
  },
  {
   "cell_type": "markdown",
   "id": "c2e13829",
   "metadata": {},
   "source": [
    "## 2. 데이터 정제"
   ]
  },
  {
   "cell_type": "markdown",
   "id": "7eedb11e",
   "metadata": {},
   "source": [
    "### 2-1. 간단한 데이터 전처리"
   ]
  },
  {
   "cell_type": "code",
   "execution_count": 11,
   "id": "5fd51a76",
   "metadata": {},
   "outputs": [],
   "source": [
    "# 원본데이터로에서 읽기 가능한 형태로 데이터처리를 하세요. (열이름 변경, 형변환 등)"
   ]
  },
  {
   "cell_type": "code",
   "execution_count": 12,
   "id": "4b7e675b-ac0c-4585-82be-1081a00bf106",
   "metadata": {},
   "outputs": [
    {
     "data": {
      "text/html": [
       "<div>\n",
       "<style scoped>\n",
       "    .dataframe tbody tr th:only-of-type {\n",
       "        vertical-align: middle;\n",
       "    }\n",
       "\n",
       "    .dataframe tbody tr th {\n",
       "        vertical-align: top;\n",
       "    }\n",
       "\n",
       "    .dataframe thead th {\n",
       "        text-align: right;\n",
       "    }\n",
       "</style>\n",
       "<table border=\"1\" class=\"dataframe\">\n",
       "  <thead>\n",
       "    <tr style=\"text-align: right;\">\n",
       "      <th></th>\n",
       "      <th>진료년도</th>\n",
       "      <th>상별구분</th>\n",
       "      <th>권역</th>\n",
       "      <th>시도</th>\n",
       "      <th>시군구</th>\n",
       "      <th>성별</th>\n",
       "      <th>연령구분</th>\n",
       "      <th>환자수</th>\n",
       "      <th>입내원일수</th>\n",
       "      <th>요양급여비용</th>\n",
       "    </tr>\n",
       "  </thead>\n",
       "  <tbody>\n",
       "    <tr>\n",
       "      <th>0</th>\n",
       "      <td>2018</td>\n",
       "      <td>ADHD</td>\n",
       "      <td>수도권</td>\n",
       "      <td>서울</td>\n",
       "      <td>강남구</td>\n",
       "      <td>남</td>\n",
       "      <td>0~9세</td>\n",
       "      <td>437</td>\n",
       "      <td>3330</td>\n",
       "      <td>188836790</td>\n",
       "    </tr>\n",
       "    <tr>\n",
       "      <th>1</th>\n",
       "      <td>2018</td>\n",
       "      <td>ADHD</td>\n",
       "      <td>수도권</td>\n",
       "      <td>서울</td>\n",
       "      <td>강남구</td>\n",
       "      <td>남</td>\n",
       "      <td>10~19세</td>\n",
       "      <td>1111</td>\n",
       "      <td>8869</td>\n",
       "      <td>563498480</td>\n",
       "    </tr>\n",
       "    <tr>\n",
       "      <th>2</th>\n",
       "      <td>2018</td>\n",
       "      <td>ADHD</td>\n",
       "      <td>수도권</td>\n",
       "      <td>서울</td>\n",
       "      <td>강남구</td>\n",
       "      <td>남</td>\n",
       "      <td>20~29세</td>\n",
       "      <td>456</td>\n",
       "      <td>3485</td>\n",
       "      <td>213248290</td>\n",
       "    </tr>\n",
       "    <tr>\n",
       "      <th>3</th>\n",
       "      <td>2018</td>\n",
       "      <td>ADHD</td>\n",
       "      <td>수도권</td>\n",
       "      <td>서울</td>\n",
       "      <td>강남구</td>\n",
       "      <td>남</td>\n",
       "      <td>30~39세</td>\n",
       "      <td>174</td>\n",
       "      <td>1357</td>\n",
       "      <td>72761750</td>\n",
       "    </tr>\n",
       "    <tr>\n",
       "      <th>4</th>\n",
       "      <td>2018</td>\n",
       "      <td>ADHD</td>\n",
       "      <td>수도권</td>\n",
       "      <td>서울</td>\n",
       "      <td>강남구</td>\n",
       "      <td>남</td>\n",
       "      <td>40~49세</td>\n",
       "      <td>55</td>\n",
       "      <td>357</td>\n",
       "      <td>21611080</td>\n",
       "    </tr>\n",
       "  </tbody>\n",
       "</table>\n",
       "</div>"
      ],
      "text/plain": [
       "   진료년도  상별구분   권역  시도  시군구 성별    연령구분   환자수  입내원일수     요양급여비용\n",
       "0  2018  ADHD  수도권  서울  강남구  남    0~9세   437   3330  188836790\n",
       "1  2018  ADHD  수도권  서울  강남구  남  10~19세  1111   8869  563498480\n",
       "2  2018  ADHD  수도권  서울  강남구  남  20~29세   456   3485  213248290\n",
       "3  2018  ADHD  수도권  서울  강남구  남  30~39세   174   1357   72761750\n",
       "4  2018  ADHD  수도권  서울  강남구  남  40~49세    55    357   21611080"
      ]
     },
     "execution_count": 12,
     "metadata": {},
     "output_type": "execute_result"
    }
   ],
   "source": [
    "df.insert(loc = 2, column = '권역', value = df.시도.replace(['경북','경남','울산','부산','대구'],'영남권').replace(['대전','광주','전북','전남'],'호남권').replace(['서울','인천','경기'],'수도권').replace(['충남','충북','세종'],'충청권') )\n",
    "df.head()"
   ]
  },
  {
   "cell_type": "markdown",
   "id": "0471bc3e-d8d6-45a2-ab0d-9541230097e6",
   "metadata": {},
   "source": [
    "* describe 결과 min, 1사분위의 값이 0이어서 엑셀에서 확인 결과 80세 이상의 환자는 없었다."
   ]
  },
  {
   "cell_type": "markdown",
   "id": "cfa0f4f4",
   "metadata": {
    "jp-MarkdownHeadingCollapsed": true
   },
   "source": [
    "### 2-2. 데이터 클리닝"
   ]
  },
  {
   "cell_type": "code",
   "execution_count": 13,
   "id": "81050694",
   "metadata": {},
   "outputs": [],
   "source": [
    "# 결측치, 중복값, 이상치 처리등의 작업을 진행하세요"
   ]
  },
  {
   "cell_type": "markdown",
   "id": "94b01c03-879b-4b93-a375-5a88a7f3672a",
   "metadata": {},
   "source": [
    "* 결측치"
   ]
  },
  {
   "cell_type": "markdown",
   "id": "497a7431-81b3-42d2-84b5-0afde8e6c9c4",
   "metadata": {},
   "source": [
    "    - 결측치 열 확인"
   ]
  },
  {
   "cell_type": "code",
   "execution_count": 14,
   "id": "b0a70dec-f81b-46d8-b58c-73f81ce17493",
   "metadata": {},
   "outputs": [],
   "source": [
    "# missing_values = df.isnull().any()  \n",
    "# column_missing_values = missing_values[ missing_values == True ]\n",
    "# column_missing_values"
   ]
  },
  {
   "cell_type": "code",
   "execution_count": 15,
   "id": "8f8f093b-4967-4968-a751-0d9d90e94738",
   "metadata": {},
   "outputs": [],
   "source": [
    "missing_values = df.isnull().any()  "
   ]
  },
  {
   "cell_type": "code",
   "execution_count": 16,
   "id": "2ab6dbd4-97ba-489d-b80c-5b7318819c42",
   "metadata": {},
   "outputs": [],
   "source": [
    "column_missing_values = missing_values[ missing_values == True ]"
   ]
  },
  {
   "cell_type": "code",
   "execution_count": 17,
   "id": "cec9c1e6-54e9-401a-a4cf-c77e3baf927e",
   "metadata": {},
   "outputs": [
    {
     "data": {
      "text/plain": [
       "Series([], dtype: bool)"
      ]
     },
     "execution_count": 17,
     "metadata": {},
     "output_type": "execute_result"
    }
   ],
   "source": [
    "column_missing_values"
   ]
  },
  {
   "cell_type": "raw",
   "id": "ab96e2e8-2ecc-462b-8055-915bff513d34",
   "metadata": {},
   "source": [
    "   - 결측값이 있는 모든 행 확인"
   ]
  },
  {
   "cell_type": "code",
   "execution_count": 18,
   "id": "53aa6924-3c4f-4aad-91cf-2d09b459d59b",
   "metadata": {},
   "outputs": [],
   "source": [
    "# df.isnull().any(axis=1)"
   ]
  },
  {
   "cell_type": "code",
   "execution_count": 19,
   "id": "70ec8302-0ae7-4ca4-aa47-f9841af4dd92",
   "metadata": {},
   "outputs": [
    {
     "data": {
      "text/plain": [
       "0         False\n",
       "1         False\n",
       "2         False\n",
       "3         False\n",
       "4         False\n",
       "          ...  \n",
       "164995    False\n",
       "164996    False\n",
       "164997    False\n",
       "164998    False\n",
       "164999    False\n",
       "Length: 165000, dtype: bool"
      ]
     },
     "execution_count": 19,
     "metadata": {},
     "output_type": "execute_result"
    }
   ],
   "source": [
    "df.isnull().any(axis=1)"
   ]
  },
  {
   "cell_type": "markdown",
   "id": "b9cbf7a2-7aa7-4d87-86d8-b31476a77a01",
   "metadata": {},
   "source": [
    "* 결측치 보정"
   ]
  },
  {
   "cell_type": "raw",
   "id": "adbf1968-8d29-4baa-949e-d6394e19b81b",
   "metadata": {},
   "source": [
    "   - 열에 대하여 단일 값 보정     "
   ]
  },
  {
   "cell_type": "code",
   "execution_count": 20,
   "id": "0e6c6935-a8a6-4df0-bed5-8da8fd160ec2",
   "metadata": {},
   "outputs": [],
   "source": [
    "# df['나이'] = df['나이'].fillna(0)"
   ]
  },
  {
   "cell_type": "raw",
   "id": "367abb36-a09d-4f12-be6d-cd0bc685f452",
   "metadata": {},
   "source": [
    "   - 데이터 프레임 전체에 단일 값 보정  "
   ]
  },
  {
   "cell_type": "code",
   "execution_count": 21,
   "id": "437088df-6ab9-474d-9b3f-503b9f8e2476",
   "metadata": {},
   "outputs": [],
   "source": [
    "# df = df.fillna(0)"
   ]
  },
  {
   "cell_type": "markdown",
   "id": "6cb87513-ac6b-49cd-98bd-6ff427c5d759",
   "metadata": {},
   "source": [
    "* 중복값 삭제 (필요시)"
   ]
  },
  {
   "cell_type": "raw",
   "id": "4e12f2c7-add7-47b8-a986-376fc1f2634e",
   "metadata": {},
   "source": [
    "  - 모든 중복 행데이터 확인"
   ]
  },
  {
   "cell_type": "code",
   "execution_count": 22,
   "id": "eb5f565f-8fc8-434f-bb66-a9d1c75a7605",
   "metadata": {},
   "outputs": [],
   "source": [
    "# df[df.duplicated(keep=False)]"
   ]
  },
  {
   "cell_type": "code",
   "execution_count": 23,
   "id": "61a350b6-915e-48f4-ad31-acf8a07dc7f3",
   "metadata": {},
   "outputs": [
    {
     "data": {
      "text/html": [
       "<div>\n",
       "<style scoped>\n",
       "    .dataframe tbody tr th:only-of-type {\n",
       "        vertical-align: middle;\n",
       "    }\n",
       "\n",
       "    .dataframe tbody tr th {\n",
       "        vertical-align: top;\n",
       "    }\n",
       "\n",
       "    .dataframe thead th {\n",
       "        text-align: right;\n",
       "    }\n",
       "</style>\n",
       "<table border=\"1\" class=\"dataframe\">\n",
       "  <thead>\n",
       "    <tr style=\"text-align: right;\">\n",
       "      <th></th>\n",
       "      <th>진료년도</th>\n",
       "      <th>상별구분</th>\n",
       "      <th>권역</th>\n",
       "      <th>시도</th>\n",
       "      <th>시군구</th>\n",
       "      <th>성별</th>\n",
       "      <th>연령구분</th>\n",
       "      <th>환자수</th>\n",
       "      <th>입내원일수</th>\n",
       "      <th>요양급여비용</th>\n",
       "    </tr>\n",
       "  </thead>\n",
       "  <tbody>\n",
       "  </tbody>\n",
       "</table>\n",
       "</div>"
      ],
      "text/plain": [
       "Empty DataFrame\n",
       "Columns: [진료년도, 상별구분, 권역, 시도, 시군구, 성별, 연령구분, 환자수, 입내원일수, 요양급여비용]\n",
       "Index: []"
      ]
     },
     "execution_count": 23,
     "metadata": {},
     "output_type": "execute_result"
    }
   ],
   "source": [
    "df[df.duplicated(keep=False)]"
   ]
  },
  {
   "cell_type": "raw",
   "id": "e847b33e-f13a-47bd-af55-111bf56442b2",
   "metadata": {},
   "source": [
    "  - 모든 중복 행데이터 삭제"
   ]
  },
  {
   "cell_type": "code",
   "execution_count": 24,
   "id": "a352aa67-0634-483e-a41b-ba06c6cf51ab",
   "metadata": {},
   "outputs": [],
   "source": [
    "# df.drop_duplicates(inplace=True)"
   ]
  },
  {
   "cell_type": "markdown",
   "id": "9dac0879",
   "metadata": {},
   "source": [
    "## 3. 초기데이터 분석"
   ]
  },
  {
   "cell_type": "markdown",
   "id": "253f0cc0",
   "metadata": {},
   "source": [
    "### 3.1. 데이터 정제후 데이터스키마 재확인"
   ]
  },
  {
   "cell_type": "markdown",
   "id": "1812339b-9396-4195-833b-4be5a041d05d",
   "metadata": {},
   "source": [
    "* 1-2 작업을 다시 해보세요."
   ]
  },
  {
   "cell_type": "code",
   "execution_count": 25,
   "id": "d16e4bca-1c4a-431e-a796-8cbdaf3d6c80",
   "metadata": {},
   "outputs": [
    {
     "data": {
      "text/html": [
       "<div>\n",
       "<style scoped>\n",
       "    .dataframe tbody tr th:only-of-type {\n",
       "        vertical-align: middle;\n",
       "    }\n",
       "\n",
       "    .dataframe tbody tr th {\n",
       "        vertical-align: top;\n",
       "    }\n",
       "\n",
       "    .dataframe thead th {\n",
       "        text-align: right;\n",
       "    }\n",
       "</style>\n",
       "<table border=\"1\" class=\"dataframe\">\n",
       "  <thead>\n",
       "    <tr style=\"text-align: right;\">\n",
       "      <th></th>\n",
       "      <th>진료년도</th>\n",
       "      <th>상별구분</th>\n",
       "      <th>권역</th>\n",
       "      <th>시도</th>\n",
       "      <th>시군구</th>\n",
       "      <th>성별</th>\n",
       "      <th>연령구분</th>\n",
       "      <th>환자수</th>\n",
       "      <th>입내원일수</th>\n",
       "      <th>요양급여비용</th>\n",
       "    </tr>\n",
       "  </thead>\n",
       "  <tbody>\n",
       "    <tr>\n",
       "      <th>0</th>\n",
       "      <td>2018</td>\n",
       "      <td>ADHD</td>\n",
       "      <td>수도권</td>\n",
       "      <td>서울</td>\n",
       "      <td>강남구</td>\n",
       "      <td>남</td>\n",
       "      <td>0~9세</td>\n",
       "      <td>437</td>\n",
       "      <td>3330</td>\n",
       "      <td>188836790</td>\n",
       "    </tr>\n",
       "    <tr>\n",
       "      <th>1</th>\n",
       "      <td>2018</td>\n",
       "      <td>ADHD</td>\n",
       "      <td>수도권</td>\n",
       "      <td>서울</td>\n",
       "      <td>강남구</td>\n",
       "      <td>남</td>\n",
       "      <td>10~19세</td>\n",
       "      <td>1111</td>\n",
       "      <td>8869</td>\n",
       "      <td>563498480</td>\n",
       "    </tr>\n",
       "    <tr>\n",
       "      <th>2</th>\n",
       "      <td>2018</td>\n",
       "      <td>ADHD</td>\n",
       "      <td>수도권</td>\n",
       "      <td>서울</td>\n",
       "      <td>강남구</td>\n",
       "      <td>남</td>\n",
       "      <td>20~29세</td>\n",
       "      <td>456</td>\n",
       "      <td>3485</td>\n",
       "      <td>213248290</td>\n",
       "    </tr>\n",
       "    <tr>\n",
       "      <th>3</th>\n",
       "      <td>2018</td>\n",
       "      <td>ADHD</td>\n",
       "      <td>수도권</td>\n",
       "      <td>서울</td>\n",
       "      <td>강남구</td>\n",
       "      <td>남</td>\n",
       "      <td>30~39세</td>\n",
       "      <td>174</td>\n",
       "      <td>1357</td>\n",
       "      <td>72761750</td>\n",
       "    </tr>\n",
       "    <tr>\n",
       "      <th>4</th>\n",
       "      <td>2018</td>\n",
       "      <td>ADHD</td>\n",
       "      <td>수도권</td>\n",
       "      <td>서울</td>\n",
       "      <td>강남구</td>\n",
       "      <td>남</td>\n",
       "      <td>40~49세</td>\n",
       "      <td>55</td>\n",
       "      <td>357</td>\n",
       "      <td>21611080</td>\n",
       "    </tr>\n",
       "  </tbody>\n",
       "</table>\n",
       "</div>"
      ],
      "text/plain": [
       "   진료년도  상별구분   권역  시도  시군구 성별    연령구분   환자수  입내원일수     요양급여비용\n",
       "0  2018  ADHD  수도권  서울  강남구  남    0~9세   437   3330  188836790\n",
       "1  2018  ADHD  수도권  서울  강남구  남  10~19세  1111   8869  563498480\n",
       "2  2018  ADHD  수도권  서울  강남구  남  20~29세   456   3485  213248290\n",
       "3  2018  ADHD  수도권  서울  강남구  남  30~39세   174   1357   72761750\n",
       "4  2018  ADHD  수도권  서울  강남구  남  40~49세    55    357   21611080"
      ]
     },
     "execution_count": 25,
     "metadata": {},
     "output_type": "execute_result"
    }
   ],
   "source": [
    "df.head()"
   ]
  },
  {
   "cell_type": "code",
   "execution_count": 26,
   "id": "92dd880c-c003-4722-a3e9-f609196b6a30",
   "metadata": {},
   "outputs": [
    {
     "data": {
      "text/plain": [
       "(165000, 10)"
      ]
     },
     "execution_count": 26,
     "metadata": {},
     "output_type": "execute_result"
    }
   ],
   "source": [
    "df.shape"
   ]
  },
  {
   "cell_type": "markdown",
   "id": "8a244e0a",
   "metadata": {},
   "source": [
    "### 3.2 데이터 기초정보 정보 확인"
   ]
  },
  {
   "cell_type": "markdown",
   "id": "3361d7b0-6b2c-493e-a6f8-20bcb153b912",
   "metadata": {},
   "source": [
    "* 최대값, 최소값, 평균값, 표준편차, 최빈값, 유일값, 결측치, 이상치 등의 정보를 재확인해 보세요"
   ]
  },
  {
   "cell_type": "markdown",
   "id": "e73d61a5",
   "metadata": {},
   "source": [
    "### 3.3 시각화를 통한 데이터이해 심화"
   ]
  },
  {
   "cell_type": "markdown",
   "id": "5de7dac1-31b5-4138-a9a6-33fbbde9caac",
   "metadata": {},
   "source": [
    "* 데이터의 성격에 따라 이해도를 올리기 위해 시각화가 필요한 데이터차트를 만들어 보세요.  \n",
    "  (Seaborn 추천: 페어플롯, 막대차트, 파이차트, 라인차트, 히스토그램등..)\n",
    "* 시각화한 차트에 대한 분석"
   ]
  },
  {
   "cell_type": "code",
   "execution_count": 27,
   "id": "59f61496-ca12-47b5-814b-f831985022cc",
   "metadata": {},
   "outputs": [
    {
     "data": {
      "image/png": "[encoded data removed]",
      "text/plain": [
       "<Figure size 640x480 with 1 Axes>"
      ]
     },
     "metadata": {},
     "output_type": "display_data"
    }
   ],
   "source": [
    "sns.barplot(x='성별', y='환자수', data = df, hue='권역')\n",
    "plt.title('성별별 환자수')\n",
    "plt.show()"
   ]
  },
  {
   "cell_type": "code",
   "execution_count": 28,
   "id": "1f80d86a-e267-40e1-baac-8f909995f382",
   "metadata": {},
   "outputs": [
    {
     "data": {
      "image/png": "[encoded data removed]",
      "text/plain": [
       "<Figure size 640x480 with 1 Axes>"
      ]
     },
     "metadata": {},
     "output_type": "display_data"
    }
   ],
   "source": [
    "sns.barplot(x='연령구분', y='환자수', data = df)\n",
    "plt.xticks(rotation=80)\n",
    "plt.title('연령대별 환자수')\n",
    "plt.show()"
   ]
  },
  {
   "cell_type": "code",
   "execution_count": 29,
   "id": "750bfb7b-c813-450a-8cd7-26d4b70b65f8",
   "metadata": {},
   "outputs": [
    {
     "data": {
      "image/png": "[encoded data removed]",
      "text/plain": [
       "<Figure size 640x480 with 1 Axes>"
      ]
     },
     "metadata": {},
     "output_type": "display_data"
    }
   ],
   "source": [
    "sns.barplot(x='연령구분', y='환자수', data = df,hue='성별')\n",
    "plt.xticks(rotation=80)\n",
    "plt.title('연령대별 환자수, 남여구분')\n",
    "plt.show()"
   ]
  },
  {
   "cell_type": "code",
   "execution_count": 30,
   "id": "d611b594-c2ac-45aa-89c6-5eae1ed06aff",
   "metadata": {},
   "outputs": [
    {
     "data": {
      "image/png": "[encoded data removed]",
      "text/plain": [
       "<Figure size 640x480 with 1 Axes>"
      ]
     },
     "metadata": {},
     "output_type": "display_data"
    }
   ],
   "source": [
    "sns.barplot(x='상별구분', y='환자수', data = df,hue='성별')\n",
    "plt.xticks(rotation=80)\n",
    "plt.title('상별구분별 환자수, 남여구분')\n",
    "plt.show()"
   ]
  },
  {
   "cell_type": "code",
   "execution_count": 31,
   "id": "3f9a1938-6a80-4054-9aad-3cb158616418",
   "metadata": {},
   "outputs": [
    {
     "data": {
      "image/png": "[encoded data removed]",
      "text/plain": [
       "<Figure size 640x480 with 1 Axes>"
      ]
     },
     "metadata": {},
     "output_type": "display_data"
    }
   ],
   "source": [
    "sns.barplot(x='진료년도', y='환자수', data = df, hue='상별구분')\n",
    "plt.xticks(rotation=80)\n",
    "plt.title('진료년도별 환자수, 상별구분')\n",
    "plt.show()"
   ]
  },
  {
   "cell_type": "code",
   "execution_count": 43,
   "id": "a0287574-39ae-4287-a219-c45080fbfd6b",
   "metadata": {},
   "outputs": [
    {
     "data": {
      "image/png": "[encoded data removed]",
      "text/plain": [
       "<Figure size 1000x600 with 1 Axes>"
      ]
     },
     "metadata": {},
     "output_type": "display_data"
    }
   ],
   "source": [
    "top_regions = df.groupby('진료년도')['환자수'].sum().sort_values(ascending=False)\n",
    "plt.figure(figsize=(10, 6))\n",
    "plt.bar(top_regions.index, top_regions.values, color='blue')\n",
    "plt.title('연도별 환자수')\n",
    "plt.xlabel('연도')\n",
    "plt.ylabel('환자수')\n",
    "plt.show()"
   ]
  },
  {
   "cell_type": "code",
   "execution_count": 33,
   "id": "1d6fb1ab-ccc1-4d9c-ac1c-1044e28414a1",
   "metadata": {},
   "outputs": [
    {
     "data": {
      "image/png": "[encoded data removed]",
      "text/plain": [
       "<Figure size 640x480 with 1 Axes>"
      ]
     },
     "metadata": {},
     "output_type": "display_data"
    }
   ],
   "source": [
    "sns.barplot(x='권역', y='환자수', data = df, hue='상별구분')\n",
    "plt.title('권역별 환자수, 상별구분')\n",
    "plt.xticks(rotation=80)\n",
    "plt.show()"
   ]
  },
  {
   "cell_type": "code",
   "execution_count": 44,
   "id": "7fc96d01-db4e-4550-8b5b-fd4ec672be03",
   "metadata": {},
   "outputs": [
    {
     "data": {
      "image/png": "[encoded data removed]",
      "text/plain": [
       "<Figure size 1000x600 with 1 Axes>"
      ]
     },
     "metadata": {},
     "output_type": "display_data"
    }
   ],
   "source": [
    "top_regions = df.groupby('권역')['환자수'].sum().sort_values(ascending=False)\n",
    "plt.figure(figsize=(10, 6))\n",
    "plt.bar(top_regions.index, top_regions.values, color='orange')\n",
    "plt.title('권역별 환자수')\n",
    "plt.xlabel('권역')\n",
    "plt.ylabel('환자수')\n",
    "plt.show()"
   ]
  },
  {
   "cell_type": "code",
   "execution_count": 45,
   "id": "6e0b1a0e-7b0b-40a1-9e3b-25407bf3cb2a",
   "metadata": {},
   "outputs": [
    {
     "data": {
      "image/png": "[encoded data removed]",
      "text/plain": [
       "<Figure size 640x480 with 1 Axes>"
      ]
     },
     "metadata": {},
     "output_type": "display_data"
    }
   ],
   "source": [
    "sns.barplot(x='권역', y='요양급여비용', data = df)\n",
    "plt.title('권역별 요양급여비용')\n",
    "plt.xticks(rotation=80)\n",
    "plt.show()"
   ]
  },
  {
   "cell_type": "code",
   "execution_count": 46,
   "id": "e4834685-ebc2-446b-95ed-875d37292f8a",
   "metadata": {},
   "outputs": [
    {
     "data": {
      "image/png": "[encoded data removed]",
      "text/plain": [
       "<Figure size 640x480 with 1 Axes>"
      ]
     },
     "metadata": {},
     "output_type": "display_data"
    }
   ],
   "source": [
    "sns.barplot(x='진료년도', y='입내원일수', data = df)\n",
    "plt.title('진료년도별 입내원일수')\n",
    "plt.xticks(rotation=80)\n",
    "plt.show()"
   ]
  },
  {
   "cell_type": "code",
   "execution_count": 47,
   "id": "e88ea993-712f-48b7-8b06-347bc7cd3416",
   "metadata": {},
   "outputs": [
    {
     "data": {
      "image/png": "[encoded data removed]",
      "text/plain": [
       "<Figure size 640x480 with 1 Axes>"
      ]
     },
     "metadata": {},
     "output_type": "display_data"
    }
   ],
   "source": [
    "sns.barplot(x='진료년도', y='요양급여비용', data = df)\n",
    "plt.title('진료년도별 요양급여비용')\n",
    "plt.xticks(rotation=80)\n",
    "plt.show()"
   ]
  },
  {
   "cell_type": "markdown",
   "id": "546173c1-39cd-49b7-8de8-0a39a5546589",
   "metadata": {},
   "source": [
    "# 4. 탐색적연구"
   ]
  },
  {
   "cell_type": "markdown",
   "id": "b29dc8c1-e08d-4692-8986-7c137d5c3886",
   "metadata": {},
   "source": [
    "#### Step0] 데이터 분석을 위한 목적, 대상 또는 주요가설을 세워본다. 주요가설 도출 후 우선순위를 설정한다."
   ]
  },
  {
   "cell_type": "raw",
   "id": "02aa5a85-d00d-4d28-817b-924c4ffd5281",
   "metadata": {},
   "source": [
    "\n",
    "우선순위: 낮음: 정보: 그래프를 확인한 결과, 정신질환자의 수는 년도에 따라 증가하고 있다. 입내원일수, 요양급여비용도 증가할 것이다. \n",
    "우선순위: 낮음: 정보: 입내원일수가 길수록 요양급여비용은 증가하고 있다.\n",
    "우선순위: 낮음: 정보: 성별로 볼 때 정신질환자의 수는 여성이 더 많다.\n",
    "우선순위: 낮음: 정보: 권역별 환자수를 분석한 결과, 수도권과 제주가 많았다. 수도권과 제주에서 요양급여비용이 높을 것이다.\n"
   ]
  },
  {
   "cell_type": "markdown",
   "id": "7a8a59e2-9eae-4bc6-ac9d-9c6f4e775eaf",
   "metadata": {},
   "source": [
    "#### Step1] 우선순위가 높은 가설을 구체화 한다.\n",
    "* 예) 나이와 월급간에 상관관계가 있을 것이다. (40~60대 사이에서 급여가 가장 높을 것이다)"
   ]
  },
  {
   "cell_type": "markdown",
   "id": "bf6313c7-d109-42f8-b202-ff34e9e50b3f",
   "metadata": {},
   "source": [
    "#### Step2] 가설증명: 데이터 재 구조화, 시각화를 통해 새로운 insight 및 정보를 습득 및 가설을 검증한다. \n",
    "* 예) 나이별 월급에 대한 평균값을 구하고 line차트로 시각화하여 추세를 파악하여 가설을 검증한다."
   ]
  },
  {
   "cell_type": "markdown",
   "id": "57b5c69e-1c0a-4115-a54c-31e19a799743",
   "metadata": {},
   "source": [
    "#### Step3] 가설결론: 해당 가설에 대한 결론을 내린다."
   ]
  },
  {
   "cell_type": "markdown",
   "id": "60cdba8d-bc7b-468a-9166-fe633320c7e7",
   "metadata": {},
   "source": [
    "#### Step4] 탐색적연구 반복:  \n",
    "* 추가 가설을 설정하고 가설의 우선순위를 재조정 한다.\n",
    "* 시간 일정이 허락하는 범위내에서 Step1~Step3를 반복한다."
   ]
  },
  {
   "cell_type": "markdown",
   "id": "054ee25a-f3e6-4503-bdab-bd7024fb6b81",
   "metadata": {},
   "source": [
    "#### Step5] 최종결론: 지금까지 진행했던 모든 탐색적연구의 결과를 반영하여 최종 결론을 내린다."
   ]
  },
  {
   "cell_type": "markdown",
   "id": "b7a74e53-38de-43dd-9fac-c0a3be1db356",
   "metadata": {},
   "source": []
  },
  {
   "cell_type": "code",
   "execution_count": null,
   "id": "1f22e439-ace4-492d-99ee-b951f5347c2f",
   "metadata": {},
   "outputs": [],
   "source": []
  },
  {
   "cell_type": "code",
   "execution_count": null,
   "id": "34ad6a14-3ff6-46a4-a974-df331b1dff61",
   "metadata": {},
   "outputs": [],
   "source": []
  },
  {
   "cell_type": "code",
   "execution_count": null,
   "id": "b2b6339c-715a-4f8e-b75b-5d62d3705b9e",
   "metadata": {},
   "outputs": [],
   "source": []
  },
  {
   "cell_type": "code",
   "execution_count": null,
   "id": "8cfc4166-6f87-484c-9507-ce1bd6ea54a9",
   "metadata": {},
   "outputs": [],
   "source": []
  },
  {
   "cell_type": "code",
   "execution_count": null,
   "id": "f889726d-19b3-4145-af80-6a717edca736",
   "metadata": {},
   "outputs": [],
   "source": []
  }
 ],
 "metadata": {
  "kernelspec": {
   "display_name": "Python 3 (ipykernel)",
   "language": "python",
   "name": "python3"
  },
  "language_info": {
   "codemirror_mode": {
    "name": "ipython",
    "version": 3
   },
   "file_extension": ".py",
   "mimetype": "text/x-python",
   "name": "python",
   "nbconvert_exporter": "python",
   "pygments_lexer": "ipython3",
   "version": "3.11.7"
  }
 },
 "nbformat": 4,
 "nbformat_minor": 5
}
