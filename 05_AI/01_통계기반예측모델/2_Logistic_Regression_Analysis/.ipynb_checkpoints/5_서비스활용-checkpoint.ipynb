{
 "cells": [
  {
   "cell_type": "markdown",
   "id": "45fcdc98",
   "metadata": {},
   "source": [
    "# 모델 로드"
   ]
  },
  {
   "cell_type": "code",
   "execution_count": 1,
   "id": "1e7ba8e6",
   "metadata": {},
   "outputs": [],
   "source": [
    "import numpy as np\n",
    "import pandas as pd\n",
    "import statsmodels.api as sm\n",
    "import pickle\n",
    "\n",
    "# 저장된 로지스틱 회귀 모델을 불러옵니다.\n",
    "with open('churn_model.pickle', 'rb') as file:\n",
    "    loaded_logit_model = pickle.load(file)"
   ]
  },
  {
   "cell_type": "markdown",
   "id": "7ca6d5ba",
   "metadata": {},
   "source": [
    "# 이탈 예측 서비스 제공"
   ]
  },
  {
   "cell_type": "code",
   "execution_count": 2,
   "id": "ae2850e8",
   "metadata": {
    "scrolled": true
   },
   "outputs": [
    {
     "name": "stdout",
     "output_type": "stream",
     "text": [
      "- 고객이탈 예측 모델 서비스 v1 -\n",
      "독립변수들의 의미:\n",
      "'intl_plan': 국제 요금제 사용 여부 (1: 사용, 0: 미사용)\n",
      "'vmail_plan': 음성 메일 서비스 사용 여부 (1: 사용, 0: 미사용)\n",
      "'vmail_message': 음성 메일 메시지 수\n",
      "'day_charge': 주간 통화 요금\n",
      "'eve_mins': 저녁 시간 통화 시간 (분)\n",
      "'night_charge': 야간 통화 요금\n",
      "'intl_calls': 국제 전화 횟수\n",
      "'intl_charge': 국제 통화 요금\n",
      "'custserv_calls': 고객 서비스 전화 횟수\n"
     ]
    },
    {
     "name": "stdin",
     "output_type": "stream",
     "text": [
      "\n",
      "계속하시려면 1을 입력하세요. 종료하려면 0을 입력하세요:  1\n"
     ]
    },
    {
     "name": "stdout",
     "output_type": "stream",
     "text": [
      "\n",
      "고객 정보를 입력하세요:\n"
     ]
    },
    {
     "name": "stdin",
     "output_type": "stream",
     "text": [
      "국제 요금제 사용 여부 (1: 사용, 0: 미사용):  0\n",
      "음성 메일 서비스 사용 여부 (1: 사용, 0: 미사용):  1\n",
      "음성 메일 메시지 수:  25\n",
      "주간 통화 요금:  45.69\n",
      "저녁 시간 통화 시간 (분):  197.4\n",
      "야간 통화 요금:  11.01\n",
      "국제 전화 횟수:  3\n",
      "국제 통화 요금:  2.7\n",
      "고객 서비스 전화 횟수:  1\n"
     ]
    },
    {
     "name": "stdout",
     "output_type": "stream",
     "text": [
      "이 회원은 이탈하지 않을 것으로 예측됩니다.\n",
      "\n",
      "- 고객이탈 예측 모델 서비스 v1 -\n",
      "독립변수들의 의미:\n",
      "'intl_plan': 국제 요금제 사용 여부 (1: 사용, 0: 미사용)\n",
      "'vmail_plan': 음성 메일 서비스 사용 여부 (1: 사용, 0: 미사용)\n",
      "'vmail_message': 음성 메일 메시지 수\n",
      "'day_charge': 주간 통화 요금\n",
      "'eve_mins': 저녁 시간 통화 시간 (분)\n",
      "'night_charge': 야간 통화 요금\n",
      "'intl_calls': 국제 전화 횟수\n",
      "'intl_charge': 국제 통화 요금\n",
      "'custserv_calls': 고객 서비스 전화 횟수\n"
     ]
    },
    {
     "name": "stdin",
     "output_type": "stream",
     "text": [
      "\n",
      "계속하시려면 1을 입력하세요. 종료하려면 0을 입력하세요:  0\n"
     ]
    },
    {
     "name": "stdout",
     "output_type": "stream",
     "text": [
      "프로그램을 종료합니다.\n"
     ]
    }
   ],
   "source": [
    "# 사용자로부터 입력을 받고 이탈 여부를 예측하는 함수를 정의합니다.\n",
    "def predict_churn(model, data):\n",
    "#     data_with_constant = sm.add_constant(data, prepend=True) # 2차원 배열에만 적용되는 함수라 필요없다.\n",
    "    churn_probabilities = model.predict(data)\n",
    "    churn_predictions = np.where(churn_probabilities >= 0.5, 1, 0)\n",
    "    return churn_predictions\n",
    "\n",
    "# 예측 가능한 독립변수에 대한 설명을 출력하는 함수를 정의합니다.\n",
    "def print_variable_descriptions():\n",
    "    print(\"- 고객이탈 예측 모델 서비스 v1 -\")\n",
    "    print(\"독립변수들의 의미:\")\n",
    "    print(\"'intl_plan': 국제 요금제 사용 여부 (1: 사용, 0: 미사용)\")\n",
    "    print(\"'vmail_plan': 음성 메일 서비스 사용 여부 (1: 사용, 0: 미사용)\")\n",
    "    print(\"'vmail_message': 음성 메일 메시지 수\")\n",
    "    print(\"'day_charge': 주간 통화 요금\")\n",
    "    print(\"'eve_mins': 저녁 시간 통화 시간 (분)\")\n",
    "    print(\"'night_charge': 야간 통화 요금\")\n",
    "    print(\"'intl_calls': 국제 전화 횟수\")\n",
    "    print(\"'intl_charge': 국제 통화 요금\")\n",
    "    print(\"'custserv_calls': 고객 서비스 전화 횟수\")\n",
    "\n",
    "while True:\n",
    "    # 예측 가능한 독립변수들의 설명을 출력합니다.\n",
    "    print_variable_descriptions()\n",
    "\n",
    "    # 사용자로부터 계속할지 종료할지 입력을 받습니다.\n",
    "    choice = input(\"\\n계속하시려면 1을 입력하세요. 종료하려면 0을 입력하세요: \")\n",
    "    if choice == '0':\n",
    "        print(\"프로그램을 종료합니다.\")\n",
    "        break\n",
    "    elif choice == '1':\n",
    "        print(\"\\n고객 정보를 입력하세요:\")\n",
    "\n",
    "        # 사용자로부터 독립변수들의 값을 입력받습니다.\n",
    "        intl_plan = int(input(\"국제 요금제 사용 여부 (1: 사용, 0: 미사용): \"))\n",
    "        vmail_plan = int(input(\"음성 메일 서비스 사용 여부 (1: 사용, 0: 미사용): \"))\n",
    "        vmail_message = int(input(\"음성 메일 메시지 수: \"))\n",
    "        day_charge = float(input(\"주간 통화 요금: \"))\n",
    "        eve_mins = float(input(\"저녁 시간 통화 시간 (분): \"))\n",
    "        night_charge = float(input(\"야간 통화 요금: \"))\n",
    "        intl_calls = int(input(\"국제 전화 횟수: \"))\n",
    "        intl_charge = float(input(\"국제 통화 요금: \"))\n",
    "        custserv_calls = int(input(\"고객 서비스 전화 횟수: \"))\n",
    "\n",
    "        # 입력받은 값을 데이터프레임으로 만듭니다.\n",
    "        data = pd.DataFrame({\n",
    "            'intl_plan': [intl_plan],\n",
    "            'vmail_plan': [vmail_plan],\n",
    "            'vmail_message': [vmail_message],\n",
    "            'day_charge': [day_charge],\n",
    "            'eve_mins': [eve_mins],\n",
    "            'night_charge': [night_charge],\n",
    "            'intl_calls': [intl_calls],\n",
    "            'intl_charge': [intl_charge],\n",
    "            'custserv_calls': [custserv_calls],\n",
    "            'const': [1]  # 상수항 추가, 단일데이터인경우 추가한다.\n",
    "        })\n",
    "\n",
    "        # 이탈 여부를 예측합니다.\n",
    "        predictions = predict_churn(loaded_logit_model, data)\n",
    "\n",
    "        if predictions[0] == 1:\n",
    "            print(\"이 회원은 이탈할 것으로 예측됩니다.\\n\")\n",
    "        else:\n",
    "            print(\"이 회원은 이탈하지 않을 것으로 예측됩니다.\\n\")\n",
    "    else:\n",
    "        print(\"올바른 선택지가 아닙니다. 다시 선택해주세요.\\n\")\n"
   ]
  },
  {
   "cell_type": "code",
   "execution_count": null,
   "id": "53435d10",
   "metadata": {},
   "outputs": [],
   "source": []
  }
 ],
 "metadata": {
  "kernelspec": {
   "display_name": "Python 3 (ipykernel)",
   "language": "python",
   "name": "python3"
  },
  "language_info": {
   "codemirror_mode": {
    "name": "ipython",
    "version": 3
   },
   "file_extension": ".py",
   "mimetype": "text/x-python",
   "name": "python",
   "nbconvert_exporter": "python",
   "pygments_lexer": "ipython3",
   "version": "3.11.7"
  }
 },
 "nbformat": 4,
 "nbformat_minor": 5
}
