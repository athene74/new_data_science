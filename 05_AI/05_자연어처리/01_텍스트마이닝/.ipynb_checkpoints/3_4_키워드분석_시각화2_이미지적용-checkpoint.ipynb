{
 "cells": [
  {
   "cell_type": "code",
   "execution_count": 1,
   "id": "210a1d72",
   "metadata": {},
   "outputs": [],
   "source": [
    "import pandas as pd"
   ]
  },
  {
   "cell_type": "code",
   "execution_count": 2,
   "id": "4f895416",
   "metadata": {},
   "outputs": [],
   "source": [
    "f = open(\"문재인대통령취임연설문.txt\", 'r')\n",
    "lines = f.readlines()\n",
    "f.close()"
   ]
  },
  {
   "cell_type": "markdown",
   "id": "f30815de",
   "metadata": {},
   "source": [
    "## Hannaum 한글 형태소 분석기 사용"
   ]
  },
  {
   "cell_type": "code",
   "execution_count": 3,
   "id": "41610865",
   "metadata": {},
   "outputs": [],
   "source": [
    "from konlpy.tag import Hannanum"
   ]
  },
  {
   "cell_type": "markdown",
   "id": "253b97dc-23ef-4202-884c-4856b4e889f6",
   "metadata": {},
   "source": [
    "## 한글 형태소 분석기 비교"
   ]
  },
  {
   "cell_type": "markdown",
   "id": "52be3c8e-6e12-4cdc-80d1-f40135ca92fb",
   "metadata": {},
   "source": [
    "* OKT (Open Korean Text)  \n",
    "OKT는 Twitter에서 개발되었으며, 후에 OpenKoreanText로 명칭이 변경되었습니다.\n",
    "이 형태소 분석기는 사용이 간편하고 속도도 빠른 편입니다.\n",
    "또한, 소셜 미디어 데이터와 같이 비정형적이고 신조어가 많은 텍스트에서 높은 성능을 보여 줍니다.\n",
    "  \n",
    "    * 장점\n",
    "        * 신조어 처리: 최신 신조어나 인터넷 용어에 강합니다.\n",
    "        * 다양한 기능: 형태소 분석 외에도 품사 태깅, 명사 추출, 어근 변환, 표준화 등 다양한 기능을 제공합니다.\n",
    "        * 사용자 친화적: API가 사용하기 쉽게 설계되어 있어 쉽게 사용할 수 있습니다.\n",
    "    * 단점:\n",
    "        * 공식적인 언어 사용에 비해 소셜 미디어 텍스트에 최적화되어 있어, 정식 문서 분석에는 한계가 있을 수 있습니다.   "
   ]
  },
  {
   "cell_type": "markdown",
   "id": "a80cfaf5-8027-4acb-b85a-767f1904c689",
   "metadata": {},
   "source": [
    "* Hannanum  \n",
    "한나눔은 KAIST에서 개발한 형태소 분석기로, 주로 학술적 또는 공식 문서에서의 사용을 목표로 개발되었습니다.\n",
    "이 분석기는 보다 정교한 문법적 분석을 제공하며, 전문적인 문서에서 높은 성능을 보여줍니다.\n",
    "\n",
    "    * 장점\n",
    "        * 학술적 연구 기반: 언어학적 연구를 바탕으로 개발되어, 전문 문서나 공식적인 텍스트 분석에 적합합니다.\n",
    "        * 정교한 문법 분석: 복잡한 문법 구조를 좀 더 잘 파악할 수 있습니다.\n",
    "    * 단점\n",
    "        * 처리 속도가 OKT에 비해 다소 느릴 수 있습니다.\n",
    "        * 사용자 인터페이스가 다소 불편하고, 신조어나 비정형 텍스트에 대한 처리 능력이 OKT에 비해 떨어집니다."
   ]
  },
  {
   "cell_type": "code",
   "execution_count": 4,
   "id": "89ef2db9",
   "metadata": {},
   "outputs": [
    {
     "data": {
      "text/plain": [
       "[['존경',\n",
       "  '사랑',\n",
       "  '국민',\n",
       "  '여러분',\n",
       "  '감사',\n",
       "  '국민',\n",
       "  '여러분',\n",
       "  '위대한',\n",
       "  '선택',\n",
       "  '머리',\n",
       "  '저',\n",
       "  '오늘',\n",
       "  '대한민국',\n",
       "  '저',\n",
       "  '19대',\n",
       "  '대통령',\n",
       "  '대한민국',\n",
       "  '첫걸음',\n",
       "  '저',\n",
       "  '두',\n",
       "  '어깨',\n",
       "  '국민',\n",
       "  '여러분',\n",
       "  '부',\n",
       "  '막중',\n",
       "  '소명감',\n",
       "  '저',\n",
       "  '가슴',\n",
       "  '한번',\n",
       "  '경험',\n",
       "  '나라',\n",
       "  '열정',\n",
       "  '저',\n",
       "  '머리',\n",
       "  '통합',\n",
       "  '공존',\n",
       "  '세상',\n",
       "  '청사진']]"
      ]
     },
     "execution_count": 4,
     "metadata": {},
     "output_type": "execute_result"
    }
   ],
   "source": [
    "hannanum = Hannanum()\n",
    "\n",
    "temp = []\n",
    "for i in range(len(lines)):\n",
    "    temp.append(hannanum.nouns(lines[i]))\n",
    "temp[:1]"
   ]
  },
  {
   "cell_type": "code",
   "execution_count": 5,
   "id": "ccb76b5f",
   "metadata": {},
   "outputs": [
    {
     "data": {
      "text/plain": [
       "['존경']"
      ]
     },
     "execution_count": 5,
     "metadata": {},
     "output_type": "execute_result"
    }
   ],
   "source": [
    "# 단어 리스트로 변환\n",
    "def flatten(l):\n",
    "    flatList = []\n",
    "    for elem in l:\n",
    "        if type(elem) == list:\n",
    "            for e in elem:\n",
    "                flatList.append(e)\n",
    "        else:\n",
    "            flatList.append(elem)\n",
    "    return flatList\n",
    "\n",
    "word_list=flatten(temp)\n",
    "word_list[:1]"
   ]
  },
  {
   "cell_type": "code",
   "execution_count": 6,
   "id": "fac8bdc2",
   "metadata": {},
   "outputs": [
    {
     "data": {
      "text/plain": [
       "대통령     29\n",
       "국민      19\n",
       "대한민국     9\n",
       "우리       8\n",
       "여러분      7\n",
       "나라       6\n",
       "국민들      6\n",
       "역사       6\n",
       "대통령의     5\n",
       "세상       5\n",
       "Name: count, dtype: int64"
      ]
     },
     "execution_count": 6,
     "metadata": {},
     "output_type": "execute_result"
    }
   ],
   "source": [
    "# 두글자 이상인 단어만 추출\n",
    "word_list=pd.Series([x for x in word_list if len(x)>1])\n",
    "word_list.value_counts().head(10)"
   ]
  },
  {
   "cell_type": "code",
   "execution_count": 7,
   "id": "36154700",
   "metadata": {},
   "outputs": [
    {
     "ename": "ModuleNotFoundError",
     "evalue": "No module named 'wordcloud'",
     "output_type": "error",
     "traceback": [
      "\u001b[1;31m---------------------------------------------------------------------------\u001b[0m",
      "\u001b[1;31mModuleNotFoundError\u001b[0m                       Traceback (most recent call last)",
      "Cell \u001b[1;32mIn[7], line 1\u001b[0m\n\u001b[1;32m----> 1\u001b[0m \u001b[38;5;28;01mfrom\u001b[39;00m \u001b[38;5;21;01mwordcloud\u001b[39;00m \u001b[38;5;28;01mimport\u001b[39;00m WordCloud\n\u001b[0;32m      2\u001b[0m \u001b[38;5;28;01mfrom\u001b[39;00m \u001b[38;5;21;01mcollections\u001b[39;00m \u001b[38;5;28;01mimport\u001b[39;00m Counter\n\u001b[0;32m      4\u001b[0m font_path \u001b[38;5;241m=\u001b[39m \u001b[38;5;124m'\u001b[39m\u001b[38;5;124mNanumBarunGothic.ttf\u001b[39m\u001b[38;5;124m'\u001b[39m\n",
      "\u001b[1;31mModuleNotFoundError\u001b[0m: No module named 'wordcloud'"
     ]
    }
   ],
   "source": [
    "from wordcloud import WordCloud\n",
    "from collections import Counter\n",
    "\n",
    "font_path = 'NanumBarunGothic.ttf'\n",
    "\n",
    "wordcloud = WordCloud(\n",
    "    font_path = font_path,\n",
    "    width = 800,\n",
    "    height = 800,\n",
    "    background_color=\"white\"\n",
    ")\n",
    "\n",
    "count = Counter(word_list)\n",
    "wordcloud = wordcloud.generate_from_frequencies(count)"
   ]
  },
  {
   "cell_type": "code",
   "execution_count": null,
   "id": "62220047",
   "metadata": {},
   "outputs": [],
   "source": [
    "def __array__(self):\n",
    "    \"\"\"Convert to numpy array.\n",
    "    Returns\n",
    "    -------\n",
    "    image : nd-array size (width, height, 3)\n",
    "        Word cloud image as numpy matrix.\n",
    "    \"\"\"\n",
    "    return self.to_array()\n",
    "\n",
    "def to_array(self):\n",
    "    \"\"\"Convert to numpy array.\n",
    "    Returns\n",
    "    -------\n",
    "    image : nd-array size (width, height, 3)\n",
    "        Word cloud image as numpy matrix.\n",
    "    \"\"\"\n",
    "    return np.array(self.to_image())\n",
    "array = wordcloud.to_array()\n",
    "\n",
    "\n",
    "import matplotlib.pyplot as plt\n",
    "\n",
    "fig = plt.figure(figsize=(10, 10))\n",
    "plt.imshow(array, interpolation=\"bilinear\")\n",
    "plt.show()\n",
    "fig.savefig('wordcloud.png')"
   ]
  },
  {
   "cell_type": "markdown",
   "id": "e84a7d09",
   "metadata": {},
   "source": [
    "# 이미지 누끼 반영"
   ]
  },
  {
   "cell_type": "markdown",
   "id": "72c45e2a",
   "metadata": {},
   "source": [
    "### 이미지 누끼 따는 방법"
   ]
  },
  {
   "cell_type": "markdown",
   "id": "77678cfa",
   "metadata": {},
   "source": [
    "* 포토샵 없이 적용\n",
    "https://toptrend.blog/%EB%88%84%EB%81%BC-%EB%94%B0%EA%B8%B0-%EC%82%AC%EC%9D%B4%ED%8A%B8/\n",
    "https://m.blog.naver.com/krc15601/221537268981\n",
    "\n",
    "* 포토샵 적용 \n",
    "https://blog.adobe.com/ko/publish/2022/02/16/adobe-photoshop-remove-a-background-with-help-from-ai\n",
    "https://www.youtube.com/watch?v=4Qb0SE9Qwyk\n",
    "https://www.youtube.com/watch?v=1UdGzNlO2Nw"
   ]
  },
  {
   "cell_type": "code",
   "execution_count": null,
   "id": "0f5307db",
   "metadata": {},
   "outputs": [],
   "source": [
    "from PIL import Image\n",
    "import numpy as np\n",
    "from wordcloud import ImageColorGenerator\n",
    "\n",
    "image_name = '문재인대통령.PNG'\n",
    "# image_name = 'Jaewoo.png'\n",
    "\n",
    "\n",
    "target_image = Image.open(image_name) \n",
    "\n",
    "try:\n",
    "    mask = Image.new(\"RGB\", target_image.size, (255,255,255))\n",
    "    mask.paste(target_image,target_image)\n",
    "    mask = np.array(mask)\n",
    "    print(\"mask 변환 방식1\")\n",
    "except:\n",
    "    print(image_name)\n",
    "    mask=np.array(Image.open(image_name))\n",
    "    print(\"mask 변환 방식2\")\n",
    "finally:\n",
    "    plt.imshow(target_image)\n"
   ]
  },
  {
   "cell_type": "code",
   "execution_count": null,
   "id": "9fefe792-c62a-4cb4-a529-0c1afa8cd87a",
   "metadata": {},
   "outputs": [],
   "source": [
    "count = Counter(word_list)\n",
    "\n",
    "wc_moon = WordCloud(\n",
    "    font_path = font_path,\n",
    "    # mask=moon_mask,\n",
    "    mask=mask,\n",
    "    background_color=\"white\"\n",
    ")"
   ]
  },
  {
   "cell_type": "code",
   "execution_count": null,
   "id": "e476b66a-10d2-439c-83e6-5f65a905236a",
   "metadata": {},
   "outputs": [],
   "source": [
    "wc_moon = wc_moon.generate_from_frequencies(count)\n",
    "\n",
    "plt.figure(figsize=(8,8))\n",
    "plt.imshow(wc_moon,interpolation=\"bilinear\")\n",
    "plt.axis(\"off\")\n",
    "plt.show()"
   ]
  },
  {
   "cell_type": "code",
   "execution_count": null,
   "id": "fdfccc72",
   "metadata": {},
   "outputs": [],
   "source": [
    "# image_colors=ImageColorGenerator(moon_mask)\n",
    "image_colors=ImageColorGenerator(mask)\n",
    "\n",
    "plt.figure(figsize=(8,8))\n",
    "# color_func=image_colors <= 원본 이지미의 컬러톤에 맞추어 컬러맵을 세팅한다.\n",
    "plt.imshow(wc_moon.recolor(color_func=image_colors),interpolation=\"bilinear\")\n",
    "plt.axis(\"off\")\n",
    "plt.show()"
   ]
  },
  {
   "cell_type": "code",
   "execution_count": null,
   "id": "c0efe336",
   "metadata": {},
   "outputs": [],
   "source": []
  },
  {
   "cell_type": "code",
   "execution_count": null,
   "id": "aa13ca46",
   "metadata": {},
   "outputs": [],
   "source": []
  }
 ],
 "metadata": {
  "kernelspec": {
   "display_name": "Python 3 (ipykernel)",
   "language": "python",
   "name": "python3"
  },
  "language_info": {
   "codemirror_mode": {
    "name": "ipython",
    "version": 3
   },
   "file_extension": ".py",
   "mimetype": "text/x-python",
   "name": "python",
   "nbconvert_exporter": "python",
   "pygments_lexer": "ipython3",
   "version": "3.11.7"
  }
 },
 "nbformat": 4,
 "nbformat_minor": 5
}
