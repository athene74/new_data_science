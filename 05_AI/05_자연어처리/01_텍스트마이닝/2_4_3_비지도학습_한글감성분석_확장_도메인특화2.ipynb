{
 "cells": [
  {
   "cell_type": "markdown",
   "id": "da6f8a66",
   "metadata": {},
   "source": [
    "# 음식점 맛짐 리뷰 사전 추가"
   ]
  },
  {
   "cell_type": "code",
   "execution_count": 27,
   "id": "a06b8b47",
   "metadata": {},
   "outputs": [],
   "source": [
    "from konlpy.tag import Okt\n",
    "import pandas as pd\n",
    "\n",
    "# 기본 감성 가중치 사전\n",
    "base_sentiment_weights = {\n",
    "    '좋아요': 1.0, '재미있어요': 1.0, '추천': 1.0,\n",
    "    '별로에요': -1.0, '지루해요': -1.0, '실망': -1.0,\n",
    "    '정말': 0.5, '매우': 0.5, '아주': 0.5,\n",
    "    '조금': -0.5, '별로': -0.5, '최고': 1.0,\n",
    "    '행복': 1.0, '기쁘다': 1.0, '뛰어나다': 1.0,\n",
    "    '감동': 1.0, '만족': 1.0, '사랑': 1.0,\n",
    "    '흥미진진': 1.0, '훌륭하다': 1.0, '귀엽다': 1.0,\n",
    "    '반갑다': 1.0, '신나다': 1.0, '아름답다': 1.0,\n",
    "    '최악': -1.0, '불편하다': -1.0, '싫다': -1.0,\n",
    "    '불만': -1.0, '아쉽다': -1.0, '문제': -1.0,\n",
    "    '피곤': -1.0, '지루하다': -1.0, '나쁘다': -1.0,\n",
    "    '심하다': -1.0, '위험': -1.0, '비싸다': -1.0,\n",
    "    '쓸데없다': -1.0, '화나다': -1.0, '졸리다': -1.0,\n",
    "    '형편없다': -1.0, '혼란스럽다': -1.0, '엉망': -1.0,\n",
    "    '실패': -1.0, '힘들다': -1.0, '안타깝다': -1.0,\n",
    "    '무서운': -1.0, '위험한': -1.0, '억울하다': -1.0,\n",
    "    '소름끼치다': -1.0, '불쾌하다': -1.0, '안되다': -1.0,\n",
    "    '분노하다': -1.0, '화내다': -1.0,\n",
    "}\n",
    "\n",
    "# 음식점 리뷰 감성 가중치 사전\n",
    "restaurant_sentiment_weights = {\n",
    "    '맛있다': 1.0, '최고': 1.0, '신선하다': 1.0, '친절하다': 1.0, '쾌적하다': 1.0,\n",
    "    '빠르다': 1.0, '저렴하다': 1.0, '추천': 1.0, '만족': 1.0, '분위기': 1.0,\n",
    "    '비싸다': -1.0, '지저분하다': -1.0, '불친절': -1.0, '실망': -1.0, '느리다': -1.0,\n",
    "    '맛없다': -1.0, '시끄럽다': -1.0, '혼잡하다': -1.0, '부족하다': -1.0, '불편하다': -1.0,\n",
    "    '망하다': -1.0, '비추천': -10.0, '추천': 10.0\n",
    "}\n",
    "\n",
    "# 두 사전을 합칩니다\n",
    "combined_sentiment_weights = base_sentiment_weights.copy()\n",
    "combined_sentiment_weights.update(restaurant_sentiment_weights) # update: 두개의 dictionary를 병합하기 위한 함수\n"
   ]
  },
  {
   "cell_type": "code",
   "execution_count": 28,
   "id": "b18a59f0-41ae-4308-ab7d-4001ca95d909",
   "metadata": {},
   "outputs": [],
   "source": [
    "# 감성 분석 함수\n",
    "def analyze_sentiment(text):\n",
    "    okt = Okt()\n",
    "    tokens = okt.pos(text, stem=True)\n",
    "    \n",
    "    sentiment_score = 0\n",
    "    for token, pos in tokens:\n",
    "        if pos in ['Noun', 'Adjective', 'Adverb'] and token in combined_sentiment_weights:\n",
    "            sentiment_score += combined_sentiment_weights[token]\n",
    "    \n",
    "    # 0> 긍정적, 0<: 부정적, 0: 중립적\n",
    "    return (\"긍정적\" if sentiment_score > 0 else \"부정적\" if sentiment_score < 0 else \"중립적\", sentiment_score)"
   ]
  },
  {
   "cell_type": "code",
   "execution_count": 29,
   "id": "cd54954d-684d-428a-a1bf-5e15f645ea49",
   "metadata": {},
   "outputs": [
    {
     "name": "stdout",
     "output_type": "stream",
     "text": [
      "텍스트: 자기들이 바빠서 생략한 걸 손님이 물어보니 이렇게 화내는 게 맞나?\n",
      "\n",
      "설사 다 아는 걸 손님이 묻는다하더라도 이렇게 대답을 불친절하게 하는게 맞나?\n",
      "\n",
      "친절은 기본 1도 없는 이런 식당은 망해봐야 안다.\n",
      "\n",
      "요즘 같은 불경기에 친절하고 깨끗하고 맛있는 가성비 식당이 넘쳐나는 데\n",
      "\n",
      "여긴 뭘 믿고 이러는 건지.\n",
      "\n",
      "손님이 많다는 이유로 불친절이 당연시 된단 말인가\n",
      "\n",
      "계산하고 나오면서 다시는 여기 올 일없다 분노하며 나왔다.\n",
      "[출처] [비추천하는 이유] 수성구 범어동 룸있는 중식당 '만솥'|작성자 라랄라\n",
      "감성점수: 0.0\n",
      "감성: 중립적\n"
     ]
    }
   ],
   "source": [
    "# 감성 분석 수행\n",
    "text = '''자기들이 바빠서 생략한 걸 손님이 물어보니 이렇게 화내는 게 맞나?\n",
    "\n",
    "설사 다 아는 걸 손님이 묻는다하더라도 이렇게 대답을 불친절하게 하는게 맞나?\n",
    "\n",
    "친절은 기본 1도 없는 이런 식당은 망해봐야 안다.\n",
    "\n",
    "요즘 같은 불경기에 친절하고 깨끗하고 맛있는 가성비 식당이 넘쳐나는 데\n",
    "\n",
    "여긴 뭘 믿고 이러는 건지.\n",
    "\n",
    "손님이 많다는 이유로 불친절이 당연시 된단 말인가\n",
    "\n",
    "계산하고 나오면서 다시는 여기 올 일없다 분노하며 나왔다.\n",
    "[출처] [비추천하는 이유] 수성구 범어동 룸있는 중식당 '만솥'|작성자 라랄라'''\n",
    "\n",
    "sentiment, sentiment_score = analyze_sentiment(text)\n",
    "print(f\"텍스트: {text}\")\n",
    "print(f\"감성점수: {sentiment_score}\")\n",
    "print(f\"감성: {sentiment}\")"
   ]
  },
  {
   "cell_type": "markdown",
   "id": "a94d8afe-8586-445c-8e85-b71a94112bf0",
   "metadata": {},
   "source": [
    "# 과제"
   ]
  },
  {
   "cell_type": "markdown",
   "id": "70e56367-52f4-4b59-a18b-fabc8d6d3539",
   "metadata": {},
   "source": [
    "* 프로젝트 관련 예상 감성 사전을 만들어 보고 특정 텍스트에 대한 감성 분석 테스트를 해보세요!"
   ]
  },
  {
   "cell_type": "code",
   "execution_count": null,
   "id": "8f078081-3900-475e-bf38-a591ee5ca548",
   "metadata": {},
   "outputs": [],
   "source": []
  },
  {
   "cell_type": "code",
   "execution_count": null,
   "id": "852543b6-dbb8-4de4-ad6e-8c603ba8a1e6",
   "metadata": {},
   "outputs": [],
   "source": []
  }
 ],
 "metadata": {
  "kernelspec": {
   "display_name": "Python 3 (ipykernel)",
   "language": "python",
   "name": "python3"
  },
  "language_info": {
   "codemirror_mode": {
    "name": "ipython",
    "version": 3
   },
   "file_extension": ".py",
   "mimetype": "text/x-python",
   "name": "python",
   "nbconvert_exporter": "python",
   "pygments_lexer": "ipython3",
   "version": "3.11.7"
  }
 },
 "nbformat": 4,
 "nbformat_minor": 5
}
