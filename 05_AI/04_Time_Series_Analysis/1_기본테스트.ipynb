{
 "cells": [
  {
   "cell_type": "markdown",
   "id": "66e41186-5180-442d-be2b-f0df3a77ac0f",
   "metadata": {},
   "source": [
    "# 시계열 분석의 기본 개념"
   ]
  },
  {
   "cell_type": "markdown",
   "id": "98598474-feb5-4339-aa8f-25c31f803107",
   "metadata": {},
   "source": [
    "* 시계열 분석은 단일 또는 다변 수치 값으로 자기회귀하여 데이터의 트랜드와 반복패턴을 찾아 예측하는 분석 기법\n",
    "* 자기회귀(Autoregression)는 이전 시간 단계의 관측값을 입력으로 사용하여 회귀 방정식을 구성하여 다음 시간 단계의 값을 예측하는   \n",
    "  시계열 모델입니다."
   ]
  },
  {
   "cell_type": "code",
   "execution_count": 1,
   "id": "70329f67-6f4a-4421-a34a-06e62427e9d9",
   "metadata": {},
   "outputs": [],
   "source": [
    "import pandas as pd\n",
    "import matplotlib.pyplot as plt\n",
    "import seaborn as sns\n",
    "from neuralprophet import NeuralProphet, set_log_level"
   ]
  },
  {
   "cell_type": "markdown",
   "id": "61520797-bef6-4650-93e5-b7e663924ef1",
   "metadata": {},
   "source": [
    "# 데이터 로드"
   ]
  },
  {
   "cell_type": "markdown",
   "id": "c3dbd2cc-0c39-4d28-b4aa-db5ffe05ed37",
   "metadata": {},
   "source": [
    "* 4년간 스페인 에너지 일일 전력 소비량(Energy Consumption)"
   ]
  },
  {
   "cell_type": "code",
   "execution_count": 2,
   "id": "b8abfffc-b2fc-4805-a00d-8c63df6422ee",
   "metadata": {},
   "outputs": [],
   "source": [
    "# Load the dataset from the CSV file using pandas\n",
    "# df = pd.read_csv(\"https://github.com/ourownstory/neuralprophet-data/raw/main/kaggle-energy/datasets/tutorial01.csv\")\n",
    "df = pd.read_csv(\"tutorial01.csv\")"
   ]
  },
  {
   "cell_type": "code",
   "execution_count": 3,
   "id": "c2e82ebb-eb8b-408b-9de9-6ef981e195a8",
   "metadata": {},
   "outputs": [],
   "source": [
    "# df.to_csv(\"tutorial01.csv\", index=False)"
   ]
  },
  {
   "cell_type": "code",
   "execution_count": 4,
   "id": "87a03697-f851-428a-8635-260aab5b2ecf",
   "metadata": {},
   "outputs": [
    {
     "data": {
      "text/html": [
       "<div>\n",
       "<style scoped>\n",
       "    .dataframe tbody tr th:only-of-type {\n",
       "        vertical-align: middle;\n",
       "    }\n",
       "\n",
       "    .dataframe tbody tr th {\n",
       "        vertical-align: top;\n",
       "    }\n",
       "\n",
       "    .dataframe thead th {\n",
       "        text-align: right;\n",
       "    }\n",
       "</style>\n",
       "<table border=\"1\" class=\"dataframe\">\n",
       "  <thead>\n",
       "    <tr style=\"text-align: right;\">\n",
       "      <th></th>\n",
       "      <th>ds</th>\n",
       "      <th>y</th>\n",
       "    </tr>\n",
       "  </thead>\n",
       "  <tbody>\n",
       "    <tr>\n",
       "      <th>0</th>\n",
       "      <td>2014-12-31</td>\n",
       "      <td>65.41</td>\n",
       "    </tr>\n",
       "    <tr>\n",
       "      <th>1</th>\n",
       "      <td>2015-01-01</td>\n",
       "      <td>62.09</td>\n",
       "    </tr>\n",
       "    <tr>\n",
       "      <th>2</th>\n",
       "      <td>2015-01-02</td>\n",
       "      <td>69.44</td>\n",
       "    </tr>\n",
       "    <tr>\n",
       "      <th>3</th>\n",
       "      <td>2015-01-03</td>\n",
       "      <td>65.22</td>\n",
       "    </tr>\n",
       "    <tr>\n",
       "      <th>4</th>\n",
       "      <td>2015-01-04</td>\n",
       "      <td>58.91</td>\n",
       "    </tr>\n",
       "  </tbody>\n",
       "</table>\n",
       "</div>"
      ],
      "text/plain": [
       "           ds      y\n",
       "0  2014-12-31  65.41\n",
       "1  2015-01-01  62.09\n",
       "2  2015-01-02  69.44\n",
       "3  2015-01-03  65.22\n",
       "4  2015-01-04  58.91"
      ]
     },
     "execution_count": 4,
     "metadata": {},
     "output_type": "execute_result"
    }
   ],
   "source": [
    "df.head()"
   ]
  },
  {
   "cell_type": "code",
   "execution_count": 5,
   "id": "35a5de2c-030b-4118-a965-70bd25dcf4f6",
   "metadata": {},
   "outputs": [
    {
     "name": "stdout",
     "output_type": "stream",
     "text": [
      "<class 'pandas.core.frame.DataFrame'>\n",
      "RangeIndex: 1462 entries, 0 to 1461\n",
      "Data columns (total 2 columns):\n",
      " #   Column  Non-Null Count  Dtype  \n",
      "---  ------  --------------  -----  \n",
      " 0   ds      1462 non-null   object \n",
      " 1   y       1462 non-null   float64\n",
      "dtypes: float64(1), object(1)\n",
      "memory usage: 23.0+ KB\n"
     ]
    }
   ],
   "source": [
    "df.info()"
   ]
  },
  {
   "cell_type": "markdown",
   "id": "c35cbc62-4894-4081-8b4a-821a0d66bb1a",
   "metadata": {},
   "source": [
    "# 설치"
   ]
  },
  {
   "cell_type": "raw",
   "id": "bd00fbe0-78fb-44ea-82f6-ed90593dc1c2",
   "metadata": {},
   "source": [
    "cuda_12.4.1_551.78_windows.exe 설치\n",
    "pip install neuralprophet plotly plotly-resampler\n",
    "pip install torch torchvision torchaudio -f https://download.pytorch.org/whl/torch_stable.html\n",
    "conda install cudatoolkit"
   ]
  },
  {
   "cell_type": "markdown",
   "id": "af1f9bee-1c0e-4a88-b1a9-25cad4cd9bbf",
   "metadata": {},
   "source": [
    "# 모델 생성"
   ]
  },
  {
   "cell_type": "code",
   "execution_count": 6,
   "id": "16e8bd4d-c527-4d64-b630-95c3e3eb80a6",
   "metadata": {},
   "outputs": [],
   "source": [
    "\n",
    "\n",
    "# 오류가 아닌 경우 로깅 메시지 비활성화\n",
    "set_log_level(\"ERROR\")\n",
    "\n",
    "# 기본 매개변수로 NeuralProphet 모델 생성\n",
    "m = NeuralProphet()"
   ]
  },
  {
   "cell_type": "markdown",
   "id": "89d5ff6a-2449-44a3-8116-641c07ba2d00",
   "metadata": {},
   "source": [
    "# 학습"
   ]
  },
  {
   "cell_type": "code",
   "execution_count": 7,
   "id": "7ffe134e-7169-4b3d-a1a2-4a55d8e9e228",
   "metadata": {},
   "outputs": [
    {
     "data": {
      "application/vnd.jupyter.widget-view+json": {
       "model_id": "eea19d7a4f6f4adfaa42f8b346691820",
       "version_major": 2,
       "version_minor": 0
      },
      "text/plain": [
       "Training: |                                                                                      | 0/? [00:00<…"
      ]
     },
     "metadata": {},
     "output_type": "display_data"
    },
    {
     "data": {
      "application/vnd.jupyter.widget-view+json": {
       "model_id": "c3a3179316b74d1ea98eda988bfd96df",
       "version_major": 2,
       "version_minor": 0
      },
      "text/plain": [
       "Finding best initial lr:   0%|          | 0/229 [00:00<?, ?it/s]"
      ]
     },
     "metadata": {},
     "output_type": "display_data"
    },
    {
     "name": "stderr",
     "output_type": "stream",
     "text": [
      "WARNING - (py.warnings._showwarnmsg) - C:\\Users\\user\\anaconda3\\Lib\\site-packages\\pytorch_lightning\\utilities\\data.py:78: Trying to infer the `batch_size` from an ambiguous collection. The batch size we found is 32. To avoid any miscalculations, use `self.log(..., batch_size=batch_size)`.\n",
      "\n",
      "WARNING - (py.warnings._showwarnmsg) - C:\\Users\\user\\anaconda3\\Lib\\site-packages\\pytorch_lightning\\utilities\\data.py:78: Trying to infer the `batch_size` from an ambiguous collection. The batch size we found is 22. To avoid any miscalculations, use `self.log(..., batch_size=batch_size)`.\n",
      "\n"
     ]
    },
    {
     "data": {
      "application/vnd.jupyter.widget-view+json": {
       "model_id": "06ed417376af44dabc61f13a33f1e982",
       "version_major": 2,
       "version_minor": 0
      },
      "text/plain": [
       "Training: |                                                                                      | 0/? [00:00<…"
      ]
     },
     "metadata": {},
     "output_type": "display_data"
    }
   ],
   "source": [
    "# 이 과정은 시간이 걸릴 수 있습니다\n",
    "metrics = m.fit(df)"
   ]
  },
  {
   "cell_type": "code",
   "execution_count": null,
   "id": "5bbfe7a4-ae2b-40f2-b597-62f019d83963",
   "metadata": {},
   "outputs": [],
   "source": []
  },
  {
   "cell_type": "code",
   "execution_count": null,
   "id": "d4cbaace-d7d7-47b3-8914-1e64dc2ca44e",
   "metadata": {},
   "outputs": [],
   "source": []
  },
  {
   "cell_type": "code",
   "execution_count": null,
   "id": "bea4f0d7-7df9-448f-8cdf-cd2ad93dc255",
   "metadata": {},
   "outputs": [],
   "source": []
  }
 ],
 "metadata": {
  "kernelspec": {
   "display_name": "Python 3 (ipykernel)",
   "language": "python",
   "name": "python3"
  },
  "language_info": {
   "codemirror_mode": {
    "name": "ipython",
    "version": 3
   },
   "file_extension": ".py",
   "mimetype": "text/x-python",
   "name": "python",
   "nbconvert_exporter": "python",
   "pygments_lexer": "ipython3",
   "version": "3.11.7"
  }
 },
 "nbformat": 4,
 "nbformat_minor": 5
}
