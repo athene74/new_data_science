{
 "cells": [
  {
   "cell_type": "code",
   "execution_count": 2,
   "id": "95f6a474",
   "metadata": {},
   "outputs": [
    {
     "data": {
      "text/html": [
       "<div>\n",
       "<style scoped>\n",
       "    .dataframe tbody tr th:only-of-type {\n",
       "        vertical-align: middle;\n",
       "    }\n",
       "\n",
       "    .dataframe tbody tr th {\n",
       "        vertical-align: top;\n",
       "    }\n",
       "\n",
       "    .dataframe thead th {\n",
       "        text-align: right;\n",
       "    }\n",
       "</style>\n",
       "<table border=\"1\" class=\"dataframe\">\n",
       "  <thead>\n",
       "    <tr style=\"text-align: right;\">\n",
       "      <th></th>\n",
       "      <th>검색어</th>\n",
       "      <th>기사내용</th>\n",
       "    </tr>\n",
       "  </thead>\n",
       "  <tbody>\n",
       "    <tr>\n",
       "      <th>10</th>\n",
       "      <td>복면가왕 왕밤빵</td>\n",
       "      <td>복면가왕’ 88대 가왕 자리는 2연승의 왕밤빵이 차지했다.\\r\\n\\r\\n4일 오후 ...</td>\n",
       "    </tr>\n",
       "    <tr>\n",
       "      <th>11</th>\n",
       "      <td>복면가왕 왕밤빵</td>\n",
       "      <td>복면가왕'에 출연해 왕밤빵에 패하면서 얼굴을 공개한 '축음기' 천단비에 관심이 쏠리...</td>\n",
       "    </tr>\n",
       "    <tr>\n",
       "      <th>12</th>\n",
       "      <td>복면가왕 왕밤빵</td>\n",
       "      <td>지난 4일 방송된 MBC ‘복면가왕’에서는 왕밤빵에 맞서 축음기, 조커, 북극곰 버...</td>\n",
       "    </tr>\n",
       "    <tr>\n",
       "      <th>13</th>\n",
       "      <td>복면가왕 왕밤빵</td>\n",
       "      <td>복면가왕' 왕밤빵의 정체가 더욱더 오리무중에 빠졌다. \\r\\n\\r\\n4일 방송된 M...</td>\n",
       "    </tr>\n",
       "    <tr>\n",
       "      <th>14</th>\n",
       "      <td>복면가왕 왕밤빵</td>\n",
       "      <td>복면가왕' 왕밤빵이 첫 방어전에 성공하며 2연승을 차지했다.\\r\\n지난 4일 방송된...</td>\n",
       "    </tr>\n",
       "  </tbody>\n",
       "</table>\n",
       "</div>"
      ],
      "text/plain": [
       "         검색어                                               기사내용\n",
       "10  복면가왕 왕밤빵  복면가왕’ 88대 가왕 자리는 2연승의 왕밤빵이 차지했다.\\r\\n\\r\\n4일 오후 ...\n",
       "11  복면가왕 왕밤빵  복면가왕'에 출연해 왕밤빵에 패하면서 얼굴을 공개한 '축음기' 천단비에 관심이 쏠리...\n",
       "12  복면가왕 왕밤빵  지난 4일 방송된 MBC ‘복면가왕’에서는 왕밤빵에 맞서 축음기, 조커, 북극곰 버...\n",
       "13  복면가왕 왕밤빵  복면가왕' 왕밤빵의 정체가 더욱더 오리무중에 빠졌다. \\r\\n\\r\\n4일 방송된 M...\n",
       "14  복면가왕 왕밤빵  복면가왕' 왕밤빵이 첫 방어전에 성공하며 2연승을 차지했다.\\r\\n지난 4일 방송된..."
      ]
     },
     "execution_count": 2,
     "metadata": {},
     "output_type": "execute_result"
    }
   ],
   "source": [
    "import pandas as pd\n",
    "from konlpy.tag import Hannanum\n",
    "from sklearn.feature_extraction.text import CountVectorizer\n",
    "from sklearn.cluster import KMeans\n",
    "from pyclustering.cluster import kmedoids\n",
    "import numpy as np\n",
    "import warnings\n",
    "warnings.filterwarnings('ignore')\n",
    "\n",
    "hannanum = Hannanum()\n",
    "\n",
    "Data = pd.read_csv('군집분석데이터.csv', encoding='cp949')\n",
    "\n",
    "Data.tail()"
   ]
  },
  {
   "cell_type": "code",
   "execution_count": 3,
   "id": "042e012d",
   "metadata": {},
   "outputs": [
    {
     "data": {
      "text/plain": [
       "['유한양행 얀센 바이오테크(Janssen 표적 항암 치료제 기술이전 계약 체결 5일 공시 기술수출금액 12억5500만달러(한화 약 1조3416억원 계약금 5000만달러 개발 허가 매출 단계별 마일스톤 12억500만달러 수령 예정 경상기술료 순매출액 책정 유한양행 관계자 기술이전 계약 수익 식 임상시험 허가 등 성공여부 수 미실현 가능성',\n",
       " '유한양행 1조4000억원 규모 기술이전 계약 체결 소식 가격제한폭 5일 오전 9시 3분 유한양행 전날 5만3000원(29. 78 23만1000원 거래 사흘 연속 강세 유한양행 글로벌 제약사 존슨앤존슨(J&J) 자회사 얀센 바이오테크(Janssen 저해제 ‘레이저티닙’(프로젝트명 YH25448) 기술수출 계약 체결 이날 계약규모 약 1조4000억원(12억5500만달러) 반환 의무 계약금 560억원(5000 이번 계약 얀센 전세계 레이저티닙 개발 제조 상업화 독점적 권리 국내 개발 상업화 권리 유한양행 유 유한양행 얀센 바이오텍 내년 레이저티닙 단일요법 병용요법 글로벌 임상시험 공동 진행 예정 유한양행 개발 허가 상업화 성공 단계별 마일스톤 기술료 12억500 달러(약 1조3500억원 수 임상시험 허가 상업화 실패 경우 기술이전 계약 종료 경우 유한양행 얀센 측 지급 위약금',\n",
       " '유한양행 다국적 제약사 얀센 기술수출 소식 주가 5일 장 초반 상한가 유한양행 이날 오전 9시 5분 현재 유가증권시장 전 거래일 5만3000원(29. 78 23만1000원 거래 유한양행 얀센 바이오테크 상피세포 성장 자 수용체 표적 항암 치료제 기술 이전 계약 체결 이날 장 개장 전 공시 이번 계약금 5000 개발 상업화 단계별 기술료(마일스톤) 12억500 달러 기술수출 규모 12억5500 달러(약 1조4000억원 서근희 삼성증권 연구원 유한양행 이번 기술수출 계약 소식 한미약품 이후 기술 이전 계약 투자자들 갈증 해소 전망 \"한미약품 사노피 기술 이전 계약 체결 이후 2번 계약 규모 말',\n",
       " '유한양행 얀센 바이오테크((Janssen 상피세포성장인자수용체 표적 항암 치료제 기술이전 계약 5일 공시 기술수출금액 미화 12억5천500 달러 계약금 5천 달러 개발 허가 매출 단계별 마일스톤 12억500 달러 수령 예정 계약 지역 한국 제외 전 세계',\n",
       " '유한양행 1조4000억원 규모 기술 수출 소식 가격제한폭 유한양행우 상한가 5일 오전 9시9분 유한양행 전일대비 5만3000원(29. 78 급등 23만1000원 기록 중 유한양행우 5만2500원(29. 91 22만8000원 거래 이날 유한양행 다국적 제약사 얀센(Janssen) 비소세포폐암치료제 레이저티닙(YH25448) 글로벌 판 한국제 기술이전 계약 체결 공시 계약규모 약 1조4000억원(12억5500만달러) 반환 의무 계약금 560억원(5000만 얀센 한국 제외 전 세계 레이저티닙 개발 제조 상업화 독점적 권리 국내 개발 상업화 권리 유한양행 유 유한양행 얀센 내년 레이저티닙 단일요법 병용요법 글로벌 임상시험 공동 진행 계획 레이저티닙 경구용 3세대 상피세포성장인자수용체 타이로신 인산화효소(EGFR 억제제 이 관련 선민정 하나금융투 연구원 \"레이저티닙 경우 올해 3개 포스터 국제 학회 발표 시장 글로벌 제약사들 관심 후보물질 이번 유한양행 기술이전 제약바이오 섹터 투자자들 오랫동안 초대박 기술이전 수 평가']"
      ]
     },
     "execution_count": 3,
     "metadata": {},
     "output_type": "execute_result"
    }
   ],
   "source": [
    "docs = []\n",
    "for i in Data['기사내용']:\n",
    "    docs.append(hannanum.nouns(i))\n",
    "\n",
    "for i in range(len(docs)):\n",
    "    docs[i] = ' '.join(docs[i])\n",
    "\n",
    "docs[:5]"
   ]
  },
  {
   "cell_type": "code",
   "execution_count": 4,
   "id": "08572986",
   "metadata": {
    "scrolled": true
   },
   "outputs": [
    {
     "data": {
      "text/html": [
       "<div>\n",
       "<style scoped>\n",
       "    .dataframe tbody tr th:only-of-type {\n",
       "        vertical-align: middle;\n",
       "    }\n",
       "\n",
       "    .dataframe tbody tr th {\n",
       "        vertical-align: top;\n",
       "    }\n",
       "\n",
       "    .dataframe thead th {\n",
       "        text-align: right;\n",
       "    }\n",
       "</style>\n",
       "<table border=\"1\" class=\"dataframe\">\n",
       "  <thead>\n",
       "    <tr style=\"text-align: right;\">\n",
       "      <th></th>\n",
       "      <th>10대</th>\n",
       "      <th>10배</th>\n",
       "      <th>10분</th>\n",
       "      <th>12억500</th>\n",
       "      <th>12억500만달러</th>\n",
       "      <th>12억5500</th>\n",
       "      <th>12억5500만달러</th>\n",
       "      <th>12억5천500</th>\n",
       "      <th>15명</th>\n",
       "      <th>16</th>\n",
       "      <th>...</th>\n",
       "      <th>협조</th>\n",
       "      <th>호소력</th>\n",
       "      <th>홈페이지</th>\n",
       "      <th>확대</th>\n",
       "      <th>확인</th>\n",
       "      <th>확충</th>\n",
       "      <th>환경부</th>\n",
       "      <th>활동</th>\n",
       "      <th>후보물질</th>\n",
       "      <th>흡연</th>\n",
       "    </tr>\n",
       "  </thead>\n",
       "  <tbody>\n",
       "    <tr>\n",
       "      <th>0</th>\n",
       "      <td>0</td>\n",
       "      <td>0</td>\n",
       "      <td>0</td>\n",
       "      <td>0</td>\n",
       "      <td>1</td>\n",
       "      <td>0</td>\n",
       "      <td>1</td>\n",
       "      <td>0</td>\n",
       "      <td>0</td>\n",
       "      <td>0</td>\n",
       "      <td>...</td>\n",
       "      <td>0</td>\n",
       "      <td>0</td>\n",
       "      <td>0</td>\n",
       "      <td>0</td>\n",
       "      <td>0</td>\n",
       "      <td>0</td>\n",
       "      <td>0</td>\n",
       "      <td>0</td>\n",
       "      <td>0</td>\n",
       "      <td>0</td>\n",
       "    </tr>\n",
       "    <tr>\n",
       "      <th>1</th>\n",
       "      <td>0</td>\n",
       "      <td>0</td>\n",
       "      <td>0</td>\n",
       "      <td>1</td>\n",
       "      <td>0</td>\n",
       "      <td>0</td>\n",
       "      <td>1</td>\n",
       "      <td>0</td>\n",
       "      <td>0</td>\n",
       "      <td>0</td>\n",
       "      <td>...</td>\n",
       "      <td>0</td>\n",
       "      <td>0</td>\n",
       "      <td>0</td>\n",
       "      <td>0</td>\n",
       "      <td>0</td>\n",
       "      <td>0</td>\n",
       "      <td>0</td>\n",
       "      <td>0</td>\n",
       "      <td>0</td>\n",
       "      <td>0</td>\n",
       "    </tr>\n",
       "    <tr>\n",
       "      <th>2</th>\n",
       "      <td>0</td>\n",
       "      <td>0</td>\n",
       "      <td>0</td>\n",
       "      <td>1</td>\n",
       "      <td>0</td>\n",
       "      <td>1</td>\n",
       "      <td>0</td>\n",
       "      <td>0</td>\n",
       "      <td>0</td>\n",
       "      <td>0</td>\n",
       "      <td>...</td>\n",
       "      <td>0</td>\n",
       "      <td>0</td>\n",
       "      <td>0</td>\n",
       "      <td>0</td>\n",
       "      <td>0</td>\n",
       "      <td>0</td>\n",
       "      <td>0</td>\n",
       "      <td>0</td>\n",
       "      <td>0</td>\n",
       "      <td>0</td>\n",
       "    </tr>\n",
       "    <tr>\n",
       "      <th>3</th>\n",
       "      <td>0</td>\n",
       "      <td>0</td>\n",
       "      <td>0</td>\n",
       "      <td>1</td>\n",
       "      <td>0</td>\n",
       "      <td>0</td>\n",
       "      <td>0</td>\n",
       "      <td>1</td>\n",
       "      <td>0</td>\n",
       "      <td>0</td>\n",
       "      <td>...</td>\n",
       "      <td>0</td>\n",
       "      <td>0</td>\n",
       "      <td>0</td>\n",
       "      <td>0</td>\n",
       "      <td>0</td>\n",
       "      <td>0</td>\n",
       "      <td>0</td>\n",
       "      <td>0</td>\n",
       "      <td>0</td>\n",
       "      <td>0</td>\n",
       "    </tr>\n",
       "    <tr>\n",
       "      <th>4</th>\n",
       "      <td>0</td>\n",
       "      <td>0</td>\n",
       "      <td>0</td>\n",
       "      <td>0</td>\n",
       "      <td>0</td>\n",
       "      <td>0</td>\n",
       "      <td>1</td>\n",
       "      <td>0</td>\n",
       "      <td>0</td>\n",
       "      <td>0</td>\n",
       "      <td>...</td>\n",
       "      <td>0</td>\n",
       "      <td>0</td>\n",
       "      <td>0</td>\n",
       "      <td>0</td>\n",
       "      <td>0</td>\n",
       "      <td>0</td>\n",
       "      <td>0</td>\n",
       "      <td>0</td>\n",
       "      <td>1</td>\n",
       "      <td>0</td>\n",
       "    </tr>\n",
       "  </tbody>\n",
       "</table>\n",
       "<p>5 rows × 581 columns</p>\n",
       "</div>"
      ],
      "text/plain": [
       "   10대  10배  10분  12억500  12억500만달러  12억5500  12억5500만달러  12억5천500  15명  16  \\\n",
       "0    0    0    0       0          1        0           1         0    0   0   \n",
       "1    0    0    0       1          0        0           1         0    0   0   \n",
       "2    0    0    0       1          0        1           0         0    0   0   \n",
       "3    0    0    0       1          0        0           0         1    0   0   \n",
       "4    0    0    0       0          0        0           1         0    0   0   \n",
       "\n",
       "   ...  협조  호소력  홈페이지  확대  확인  확충  환경부  활동  후보물질  흡연  \n",
       "0  ...   0    0     0   0   0   0    0   0     0   0  \n",
       "1  ...   0    0     0   0   0   0    0   0     0   0  \n",
       "2  ...   0    0     0   0   0   0    0   0     0   0  \n",
       "3  ...   0    0     0   0   0   0    0   0     0   0  \n",
       "4  ...   0    0     0   0   0   0    0   0     1   0  \n",
       "\n",
       "[5 rows x 581 columns]"
      ]
     },
     "execution_count": 4,
     "metadata": {},
     "output_type": "execute_result"
    }
   ],
   "source": [
    "vec = CountVectorizer() # 빈도기반\n",
    "X = vec.fit_transform(docs)\n",
    "\n",
    "df = pd.DataFrame(X.toarray(), columns=vec.get_feature_names_out())\n",
    "\n",
    "df.head()"
   ]
  },
  {
   "cell_type": "code",
   "execution_count": 9,
   "id": "54656db6",
   "metadata": {},
   "outputs": [
    {
     "name": "stdout",
     "output_type": "stream",
     "text": [
      "score for 2 clusters:0.184\n",
      "score for 3 clusters:0.207\n",
      "score for 4 clusters:0.190\n",
      "score for 5 clusters:0.161\n",
      "score for 6 clusters:0.136\n",
      "score for 7 clusters:0.151\n",
      "score for 8 clusters:0.127\n",
      "score for 9 clusters:0.126\n",
      "\n",
      " 최적의 클러스터개수: 3, silhouette 점수: 0.20708756559225502\n"
     ]
    }
   ],
   "source": [
    "from sklearn.metrics import silhouette_score\n",
    "max_score = 0\n",
    "optimized_n = 0\n",
    "for k in range(2,10):\n",
    "   \n",
    "    km = KMeans(n_clusters=k,random_state=2).fit(df)\n",
    "   \n",
    "    s_score = silhouette_score(df,km.labels_)\n",
    "    if s_score > max_score:\n",
    "        max_score = s_score\n",
    "        optimized_n = k\n",
    "    print(\"score for %d clusters:%.3f\" % (k, s_score))\n",
    "    \n",
    "print(f'\\n 최적의 클러스터개수: {optimized_n}, silhouette 점수: {max_score}')"
   ]
  },
  {
   "cell_type": "code",
   "execution_count": 6,
   "id": "70456af1",
   "metadata": {
    "scrolled": true
   },
   "outputs": [
    {
     "name": "stdout",
     "output_type": "stream",
     "text": [
      "[2 2 2 2 2 0 0 0 0 0 1 1 1 1 1]\n"
     ]
    }
   ],
   "source": [
    "kmeans = KMeans(n_clusters=3).fit(df)\n",
    "\n",
    "\n",
    "print(kmeans.labels_)"
   ]
  },
  {
   "cell_type": "code",
   "execution_count": 7,
   "id": "c2bc821e",
   "metadata": {},
   "outputs": [
    {
     "data": {
      "text/plain": [
       "0         유한양행\n",
       "1         유한양행\n",
       "2         유한양행\n",
       "3         유한양행\n",
       "4         유한양행\n",
       "5           라돈\n",
       "6           라돈\n",
       "7           라돈\n",
       "8           라돈\n",
       "9           라돈\n",
       "10    복면가왕 왕밤빵\n",
       "11    복면가왕 왕밤빵\n",
       "12    복면가왕 왕밤빵\n",
       "13    복면가왕 왕밤빵\n",
       "14    복면가왕 왕밤빵\n",
       "Name: 검색어, dtype: object"
      ]
     },
     "execution_count": 7,
     "metadata": {},
     "output_type": "execute_result"
    }
   ],
   "source": [
    "Data['검색어']"
   ]
  },
  {
   "cell_type": "code",
   "execution_count": 8,
   "id": "449c2305",
   "metadata": {},
   "outputs": [
    {
     "data": {
      "image/png": "[encoded data removed]",
      "text/plain": [
       "<Figure size 640x480 with 1 Axes>"
      ]
     },
     "metadata": {},
     "output_type": "display_data"
    }
   ],
   "source": [
    "from sklearn.decomposition import PCA\n",
    "import matplotlib.pyplot as plt\n",
    "\n",
    "pca = PCA(n_components=2) # 2차원으로 축소\n",
    "principalComponents = pca.fit_transform(df)\n",
    "principalDf = pd.DataFrame(data = principalComponents\n",
    "             , columns = ['principal component 1', 'principal component 2'])\n",
    "\n",
    "principalDf.index=Data['검색어']\n",
    "\n",
    "kmeans.labels_ == 0\n",
    "\n",
    "# x축 : first y출 : second 번호로 나타낸후 plot으로 시각화\n",
    "plt.scatter(principalDf.iloc[kmeans.labels_ == 0, 0], principalDf.iloc[kmeans.labels_ == 0, 1], s = 10, c = 'red', label = 'cluster1')\n",
    "plt.scatter(principalDf.iloc[kmeans.labels_ == 1, 0], principalDf.iloc[kmeans.labels_ == 1, 1], s = 10, c = 'blue', label = 'cluster2')\n",
    "plt.scatter(principalDf.iloc[kmeans.labels_ == 2, 0], principalDf.iloc[kmeans.labels_ == 2, 1], s = 10, c = 'green', label = 'cluster3')\n",
    "plt.legend()\n",
    "plt.show()"
   ]
  },
  {
   "cell_type": "code",
   "execution_count": null,
   "id": "138dbf79",
   "metadata": {},
   "outputs": [],
   "source": []
  },
  {
   "cell_type": "code",
   "execution_count": null,
   "id": "9f388d85",
   "metadata": {},
   "outputs": [],
   "source": []
  },
  {
   "cell_type": "code",
   "execution_count": null,
   "id": "b228223e",
   "metadata": {},
   "outputs": [],
   "source": []
  },
  {
   "cell_type": "code",
   "execution_count": null,
   "id": "f845d0d2-748c-435d-aab0-f99e3f1d6e92",
   "metadata": {},
   "outputs": [],
   "source": []
  },
  {
   "cell_type": "code",
   "execution_count": null,
   "id": "bcea343a-d426-4d09-8662-0375b24995e7",
   "metadata": {},
   "outputs": [],
   "source": []
  }
 ],
 "metadata": {
  "kernelspec": {
   "display_name": "Python 3 (ipykernel)",
   "language": "python",
   "name": "python3"
  },
  "language_info": {
   "codemirror_mode": {
    "name": "ipython",
    "version": 3
   },
   "file_extension": ".py",
   "mimetype": "text/x-python",
   "name": "python",
   "nbconvert_exporter": "python",
   "pygments_lexer": "ipython3",
   "version": "3.11.7"
  }
 },
 "nbformat": 4,
 "nbformat_minor": 5
}
