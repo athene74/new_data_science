{
 "cells": [
  {
   "cell_type": "markdown",
   "id": "1659552b-be6c-47d0-82be-329eb138cdcc",
   "metadata": {},
   "source": [
    "# 파이썬에서 정규식을 적용하는 방식"
   ]
  },
  {
   "cell_type": "code",
   "execution_count": 2,
   "id": "eec23046-235b-41a3-a81d-64876737f188",
   "metadata": {},
   "outputs": [],
   "source": [
    "import re"
   ]
  },
  {
   "cell_type": "code",
   "execution_count": 3,
   "id": "d348991f-e21b-4a9a-ba47-d2c3b1ff5827",
   "metadata": {},
   "outputs": [
    {
     "data": {
      "text/plain": [
       "<re.Match object; span=(0, 3), match='abc'>"
      ]
     },
     "execution_count": 3,
     "metadata": {},
     "output_type": "execute_result"
    }
   ],
   "source": [
    "pattern = re.compile('abc') # compile에는 정규식\n",
    "result = pattern.match('abc')        # match안에는 원본 문자열\n",
    "result"
   ]
  },
  {
   "cell_type": "code",
   "execution_count": null,
   "id": "820df58d-d4ea-439c-8062-3f4bdb166442",
   "metadata": {},
   "outputs": [],
   "source": [
    "# <re.Match object; span=(0, 3), match='abc'> <= Match object 반환\n",
    "# span안의 숫자는 매칭되는 구간\n",
    "# match는 매칭이 되는 문자열"
   ]
  },
  {
   "cell_type": "code",
   "execution_count": 6,
   "id": "b7b5ce17-9f55-4ed0-945f-abaca0c28d58",
   "metadata": {},
   "outputs": [],
   "source": [
    "pattern = re.compile('abc') # compile에는 정규식\n",
    "result = pattern.match('ab')        # match안에는 원본 문자열\n",
    "result # 주피터에서는 매치가 않되면 아무것도 출력하지 않는다."
   ]
  },
  {
   "cell_type": "code",
   "execution_count": 7,
   "id": "8554f4e8-4c6b-415b-8617-b97a77339e54",
   "metadata": {},
   "outputs": [
    {
     "name": "stdout",
     "output_type": "stream",
     "text": [
      "None\n"
     ]
    }
   ],
   "source": [
    "print(result)"
   ]
  },
  {
   "cell_type": "markdown",
   "id": "1dfdf6fa-bdf8-4570-b346-2e4381a974b5",
   "metadata": {},
   "source": [
    "# 문자클래스"
   ]
  },
  {
   "cell_type": "markdown",
   "id": "8a145c3e-7b22-4102-8487-2c5220bc52d9",
   "metadata": {},
   "source": [
    "* 문자 클래스로 만들어진 정규식은 \"[ ] 사이의 문자들과 매치\"라는 의미\n",
    "* 정규 표현식이 [abc]라면 이 표현식의 의미는 \"a, b, c 중 한 개의 문자와 매치\"\n",
    "* [] 문자 클래스는 하나의 문자와 매치가 된다."
   ]
  },
  {
   "cell_type": "code",
   "execution_count": 8,
   "id": "d677912c-df0c-460b-835e-34dc5a631c07",
   "metadata": {},
   "outputs": [
    {
     "data": {
      "text/plain": [
       "<re.Match object; span=(0, 1), match='a'>"
      ]
     },
     "execution_count": 8,
     "metadata": {},
     "output_type": "execute_result"
    }
   ],
   "source": [
    "p = re.compile('[abc]')\n",
    "p.match('a')"
   ]
  },
  {
   "cell_type": "code",
   "execution_count": 12,
   "id": "4c32eb40-0bc9-4207-b59a-8477f50cef31",
   "metadata": {},
   "outputs": [
    {
     "data": {
      "text/plain": [
       "<re.Match object; span=(0, 1), match='a'>"
      ]
     },
     "execution_count": 12,
     "metadata": {},
     "output_type": "execute_result"
    }
   ],
   "source": [
    "p = re.compile('a')\n",
    "p.match('a')"
   ]
  },
  {
   "cell_type": "code",
   "execution_count": 9,
   "id": "cd5060b3-7356-4814-897e-d30257e6950e",
   "metadata": {},
   "outputs": [
    {
     "data": {
      "text/plain": [
       "<re.Match object; span=(0, 1), match='b'>"
      ]
     },
     "execution_count": 9,
     "metadata": {},
     "output_type": "execute_result"
    }
   ],
   "source": [
    "p = re.compile('[abc]')\n",
    "p.match('ba')"
   ]
  },
  {
   "cell_type": "code",
   "execution_count": 13,
   "id": "ff767012-1297-4b32-a839-ec4cc21927fa",
   "metadata": {},
   "outputs": [
    {
     "data": {
      "text/plain": [
       "<re.Match object; span=(0, 1), match='b'>"
      ]
     },
     "execution_count": 13,
     "metadata": {},
     "output_type": "execute_result"
    }
   ],
   "source": [
    "p = re.compile('b')\n",
    "p.match('ba')"
   ]
  },
  {
   "cell_type": "code",
   "execution_count": 10,
   "id": "d98c7477-2200-42d6-887d-5a485852c949",
   "metadata": {},
   "outputs": [],
   "source": [
    "p = re.compile('[abc]')\n",
    "p.match('da!!')"
   ]
  },
  {
   "cell_type": "markdown",
   "id": "ee50f710-aa32-49e2-b655-d96e6a413326",
   "metadata": {},
   "source": [
    "* 두개의 문자열 클래스 조합"
   ]
  },
  {
   "cell_type": "code",
   "execution_count": 14,
   "id": "751519da-9e6c-41f3-984d-cee5903843e7",
   "metadata": {},
   "outputs": [],
   "source": [
    "p = re.compile('[abc][abc]')\n",
    "p.match('da!!')\n",
    "# 위 검색조건은 첫글자가 a또는 b 또는 c로 시작하고 두번째 글자가 a또는 b 또는 c인 케이스\n",
    "# p = re.compile('a[abc]')\n",
    "# p = re.compile('b[abc]')\n",
    "# p = re.compile('c[abc]')"
   ]
  },
  {
   "cell_type": "code",
   "execution_count": null,
   "id": "20f8d54a-6639-4b97-a45e-ef6ce02cc3fa",
   "metadata": {},
   "outputs": [],
   "source": [
    "p.match('da!!')"
   ]
  },
  {
   "cell_type": "code",
   "execution_count": 15,
   "id": "1f6805b1-fc95-4dd3-bdba-cf8d872605df",
   "metadata": {},
   "outputs": [
    {
     "data": {
      "text/plain": [
       "<re.Match object; span=(0, 2), match='ca'>"
      ]
     },
     "execution_count": 15,
     "metadata": {},
     "output_type": "execute_result"
    }
   ],
   "source": [
    "p = re.compile('[abc][abc]')\n",
    "p.match('car')"
   ]
  },
  {
   "cell_type": "code",
   "execution_count": 16,
   "id": "e3d91008-46fd-46fe-acf9-28fa123d78da",
   "metadata": {},
   "outputs": [],
   "source": [
    "p = re.compile('[abc][abc]')\n",
    "p.match('cece')\n",
    "# 첫번째 문자클래스에서는 c가 매치, 하지만 두번째 문자클래스에서는 매치가 되는 조건이 없어서 전체 매치가 되는 문자가 원본에 없다."
   ]
  },
  {
   "cell_type": "code",
   "execution_count": 19,
   "id": "cc17f187-2e9e-4fff-940c-fcaff4ff972d",
   "metadata": {},
   "outputs": [],
   "source": [
    "p = re.compile('cc')\n",
    "p.match('cece')"
   ]
  },
  {
   "cell_type": "code",
   "execution_count": 20,
   "id": "bc8b1e97-a150-400f-8fcb-37b50ceed79f",
   "metadata": {},
   "outputs": [
    {
     "data": {
      "text/plain": [
       "<re.Match object; span=(0, 2), match='ba'>"
      ]
     },
     "execution_count": 20,
     "metadata": {},
     "output_type": "execute_result"
    }
   ],
   "source": [
    "p = re.compile('[abc][abc]')\n",
    "p.match('ba')"
   ]
  },
  {
   "cell_type": "markdown",
   "id": "e0344173-fdbb-4530-81fe-dc7b6f3994c1",
   "metadata": {},
   "source": [
    "# 문자클래스와 일반 문자 조합"
   ]
  },
  {
   "cell_type": "code",
   "execution_count": 24,
   "id": "21fa60d6-0d97-476f-b6da-c920a0d1dc24",
   "metadata": {},
   "outputs": [],
   "source": [
    "p = re.compile('p')\n",
    "p.match('apple')"
   ]
  },
  {
   "cell_type": "code",
   "execution_count": 25,
   "id": "cc4d4e4c-0dca-472d-be3d-b002559ad081",
   "metadata": {},
   "outputs": [],
   "source": [
    "p = re.compile('p[abc]')\n",
    "p.match('apple')\n",
    "# 원본의 첫번째 글자가 p가 아니기 때문에"
   ]
  },
  {
   "cell_type": "code",
   "execution_count": 26,
   "id": "004cb98e-d300-40b0-8659-5ad1799523ab",
   "metadata": {},
   "outputs": [
    {
     "data": {
      "text/plain": [
       "<re.Match object; span=(0, 2), match='ap'>"
      ]
     },
     "execution_count": 26,
     "metadata": {},
     "output_type": "execute_result"
    }
   ],
   "source": [
    "p = re.compile('[abc]p')\n",
    "p.match('apple')"
   ]
  },
  {
   "cell_type": "markdown",
   "id": "c2faafd8-1b91-408e-a13e-c347dfaf7854",
   "metadata": {},
   "source": [
    "# 하이픈"
   ]
  },
  {
   "cell_type": "raw",
   "id": "b7a4b023-2d1a-48b7-bfb2-cc11c6473484",
   "metadata": {},
   "source": [
    "[ ] 안의 두 문자 사이에 하이픈(-)을 사용하면 두 문자 사이의 범위(From - To)를 의미\n",
    "예를 들어 [a-c]라는 정규 표현식은 [abc]와 동일하고 [0-5]는 [012345]와 동일"
   ]
  },
  {
   "cell_type": "code",
   "execution_count": 21,
   "id": "85019ec3-9a63-4db2-872f-f419a702b25e",
   "metadata": {},
   "outputs": [
    {
     "data": {
      "text/plain": [
       "<re.Match object; span=(0, 1), match='a'>"
      ]
     },
     "execution_count": 21,
     "metadata": {},
     "output_type": "execute_result"
    }
   ],
   "source": [
    "p = re.compile('[a-c]')\n",
    "p.match('apple')"
   ]
  },
  {
   "cell_type": "code",
   "execution_count": 22,
   "id": "d2c2c31b-d7ae-4fe7-8133-6712bb9f85d7",
   "metadata": {},
   "outputs": [],
   "source": [
    "p = re.compile('[a-c]')\n",
    "p.match('papa')\n",
    "# 위 결과는 매치가 되지 않는다.\n",
    "# 기본 옵션으로 정규식을 작성한다면 문자클래스는 원본 문자열에서 순서와 매칭이된다.\n",
    "#'[a-c]' 이것은 원본 문자의 첫번째 글자와 매칭을 한다."
   ]
  },
  {
   "cell_type": "code",
   "execution_count": 23,
   "id": "25f8dfdb-c5ff-4043-92dd-df84255fa61f",
   "metadata": {},
   "outputs": [
    {
     "data": {
      "text/plain": [
       "<re.Match object; span=(0, 1), match='c'>"
      ]
     },
     "execution_count": 23,
     "metadata": {},
     "output_type": "execute_result"
    }
   ],
   "source": [
    "p = re.compile('[a-c]')\n",
    "p.match('caca')"
   ]
  },
  {
   "cell_type": "code",
   "execution_count": 32,
   "id": "5d868dbf-5d46-46f4-b152-1827ad9b8433",
   "metadata": {},
   "outputs": [
    {
     "data": {
      "text/plain": [
       "<re.Match object; span=(0, 1), match='k'>"
      ]
     },
     "execution_count": 32,
     "metadata": {},
     "output_type": "execute_result"
    }
   ],
   "source": [
    "p = re.compile('[a-z]') # 모든 소문자와 매치가 되는 조건\n",
    "p.match('k')"
   ]
  },
  {
   "cell_type": "code",
   "execution_count": null,
   "id": "8fe2fca3-6412-4b9f-9770-9291a144a7a4",
   "metadata": {},
   "outputs": [],
   "source": [
    "p = re.compile('[a-z]') # 정규식에서는 대소문자 구분\n",
    "p.match('K')"
   ]
  },
  {
   "cell_type": "code",
   "execution_count": 36,
   "id": "92f0dc8e-a105-47e5-b3fc-c97a548f6a93",
   "metadata": {},
   "outputs": [
    {
     "data": {
      "text/plain": [
       "<re.Match object; span=(0, 1), match='R'>"
      ]
     },
     "execution_count": 36,
     "metadata": {},
     "output_type": "execute_result"
    }
   ],
   "source": [
    "p = re.compile('[A-Z]') # 모든 대문자와 매치가 되는 조건\n",
    "p.match('R')"
   ]
  },
  {
   "cell_type": "code",
   "execution_count": 38,
   "id": "acd0efef-9b80-4592-a28b-a07b5d430caf",
   "metadata": {},
   "outputs": [
    {
     "data": {
      "text/plain": [
       "<re.Match object; span=(0, 1), match='a'>"
      ]
     },
     "execution_count": 38,
     "metadata": {},
     "output_type": "execute_result"
    }
   ],
   "source": [
    "p = re.compile('[a-zA-Z]') # 모든 대소문자와 매치가 되는 조건\n",
    "p.match('a')"
   ]
  },
  {
   "cell_type": "code",
   "execution_count": 39,
   "id": "ab2afc67-b7a8-4b23-8c16-eced868477d9",
   "metadata": {},
   "outputs": [
    {
     "data": {
      "text/plain": [
       "<re.Match object; span=(0, 1), match='1'>"
      ]
     },
     "execution_count": 39,
     "metadata": {},
     "output_type": "execute_result"
    }
   ],
   "source": [
    "p = re.compile('[123]') \n",
    "p.match('1')"
   ]
  },
  {
   "cell_type": "code",
   "execution_count": 42,
   "id": "3b8c3e64-09cc-4538-880c-8b18fa35f394",
   "metadata": {},
   "outputs": [
    {
     "data": {
      "text/plain": [
       "<re.Match object; span=(0, 1), match='2'>"
      ]
     },
     "execution_count": 42,
     "metadata": {},
     "output_type": "execute_result"
    }
   ],
   "source": [
    "p = re.compile('[1-3]') \n",
    "p.match('2')"
   ]
  },
  {
   "cell_type": "code",
   "execution_count": 45,
   "id": "f26b888d-12e9-40f0-9665-a8ba726ed068",
   "metadata": {},
   "outputs": [
    {
     "data": {
      "text/plain": [
       "<re.Match object; span=(0, 1), match='9'>"
      ]
     },
     "execution_count": 45,
     "metadata": {},
     "output_type": "execute_result"
    }
   ],
   "source": [
    "p = re.compile('[0-9]')  # 모든 숫자와 매치가 되는 조건\n",
    "p.match('9')"
   ]
  },
  {
   "cell_type": "code",
   "execution_count": 46,
   "id": "9a0495b0-0ba6-4563-aba6-c4bde1b83918",
   "metadata": {},
   "outputs": [
    {
     "data": {
      "text/plain": [
       "<re.Match object; span=(0, 1), match='1'>"
      ]
     },
     "execution_count": 46,
     "metadata": {},
     "output_type": "execute_result"
    }
   ],
   "source": [
    "p = re.compile('[0-9]')  # 모든 숫자와 매치가 되는 조건\n",
    "p.match('1st')"
   ]
  },
  {
   "cell_type": "code",
   "execution_count": 47,
   "id": "56e34c91-bdfb-4e2a-928d-fd60ae8f11c7",
   "metadata": {},
   "outputs": [],
   "source": [
    "p = re.compile('[0-9]')  \n",
    "p.match('s1')"
   ]
  },
  {
   "cell_type": "code",
   "execution_count": 48,
   "id": "8395511b-000e-444f-a43e-9ef583a2216c",
   "metadata": {},
   "outputs": [
    {
     "data": {
      "text/plain": [
       "<re.Match object; span=(0, 1), match='2'>"
      ]
     },
     "execution_count": 48,
     "metadata": {},
     "output_type": "execute_result"
    }
   ],
   "source": [
    "p = re.compile('[0-9]')  \n",
    "p.match('2nd')"
   ]
  },
  {
   "cell_type": "code",
   "execution_count": 51,
   "id": "738a4411-5755-48ca-bc63-adb640055c94",
   "metadata": {},
   "outputs": [
    {
     "data": {
      "text/plain": [
       "<re.Match object; span=(0, 1), match='8'>"
      ]
     },
     "execution_count": 51,
     "metadata": {},
     "output_type": "execute_result"
    }
   ],
   "source": [
    "p = re.compile('[a-zA-Z0-9]')   # 모든 숫자, 모든 문자와 매치가 되는 조건\n",
    "p.match('8')"
   ]
  },
  {
   "cell_type": "markdown",
   "id": "2873cea1-aa87-460c-ba26-371dcab4986f",
   "metadata": {},
   "source": [
    "# ^ 연산"
   ]
  },
  {
   "cell_type": "markdown",
   "id": "8e01918a-a00d-457c-a1a8-5a1d5b181e14",
   "metadata": {},
   "source": [
    "* 문자 클래스 안에 ^ 메타 문자를 사용할 경우에는 반대(not)라는 의미"
   ]
  },
  {
   "cell_type": "code",
   "execution_count": 52,
   "id": "f3a1b6be-74d9-4c0a-967c-3b98df2edafe",
   "metadata": {},
   "outputs": [],
   "source": [
    "p = re.compile('[^a]') # a가 아닌 문자\n",
    "p.match('a') # 매치가 안된다."
   ]
  },
  {
   "cell_type": "code",
   "execution_count": 53,
   "id": "ec3a7826-5a76-436d-9e9e-3c95a2c87bf0",
   "metadata": {},
   "outputs": [
    {
     "data": {
      "text/plain": [
       "<re.Match object; span=(0, 1), match='b'>"
      ]
     },
     "execution_count": 53,
     "metadata": {},
     "output_type": "execute_result"
    }
   ],
   "source": [
    "p = re.compile('[^a]') # a가 아닌 문자\n",
    "p.match('b') # 매치가 안된다."
   ]
  },
  {
   "cell_type": "code",
   "execution_count": 54,
   "id": "e505800d-1560-459a-a245-4bda6a067301",
   "metadata": {},
   "outputs": [
    {
     "data": {
      "text/plain": [
       "<re.Match object; span=(0, 1), match='9'>"
      ]
     },
     "execution_count": 54,
     "metadata": {},
     "output_type": "execute_result"
    }
   ],
   "source": [
    "p = re.compile('[^a]') # a가 아닌 문자\n",
    "p.match('9') # 매치가 된다. a가 아닌 문자이기 때문에"
   ]
  },
  {
   "cell_type": "code",
   "execution_count": 55,
   "id": "0bb03180-69f1-4448-a5c6-96872d2c6164",
   "metadata": {},
   "outputs": [],
   "source": [
    "p = re.compile('[^0-9]') # 숫자가 아닌 문자\n",
    "p.match('7')"
   ]
  },
  {
   "cell_type": "code",
   "execution_count": 56,
   "id": "0888ba49-8fd8-4862-a763-96c3ee0c5a7e",
   "metadata": {},
   "outputs": [
    {
     "data": {
      "text/plain": [
       "<re.Match object; span=(0, 1), match='K'>"
      ]
     },
     "execution_count": 56,
     "metadata": {},
     "output_type": "execute_result"
    }
   ],
   "source": [
    "p = re.compile('[^0-9]') # 숫자가 아닌 문자\n",
    "p.match('K')"
   ]
  },
  {
   "cell_type": "code",
   "execution_count": 57,
   "id": "f647921f-63e5-4661-97f6-56fce72029a9",
   "metadata": {},
   "outputs": [
    {
     "data": {
      "text/plain": [
       "<re.Match object; span=(0, 1), match='하'>"
      ]
     },
     "execution_count": 57,
     "metadata": {},
     "output_type": "execute_result"
    }
   ],
   "source": [
    "p = re.compile('[^0-9]') # 숫자가 아닌 문자\n",
    "p.match('하')"
   ]
  },
  {
   "cell_type": "code",
   "execution_count": 58,
   "id": "934f2118-4313-42fe-a9ed-88031a792039",
   "metadata": {},
   "outputs": [
    {
     "data": {
      "text/plain": [
       "<re.Match object; span=(0, 1), match='K'>"
      ]
     },
     "execution_count": 58,
     "metadata": {},
     "output_type": "execute_result"
    }
   ],
   "source": [
    "p = re.compile('[^0-9]') # 숫자가 아닌 문자\n",
    "p.match('K1')"
   ]
  },
  {
   "cell_type": "code",
   "execution_count": 55,
   "id": "65d6b216-77c3-4db0-8008-72c14c5f27f0",
   "metadata": {},
   "outputs": [],
   "source": [
    "p = re.compile('[^0-9]') # 숫자가 아닌 문자\n",
    "p.match('7K')"
   ]
  },
  {
   "cell_type": "markdown",
   "id": "8f7d3439-d36d-4894-a8ab-41aee4d2685d",
   "metadata": {},
   "source": [
    "# 자주 사용하는 문자 클래스 표현식"
   ]
  },
  {
   "cell_type": "markdown",
   "id": "edc94679-870a-4b1c-8ed0-48a12602cef1",
   "metadata": {},
   "source": [
    "* \\d - 숫자와 매치, [0-9]와 동일한 표현식이다.\n",
    "* \\D - 숫자가 아닌 것과 매치, [^0-9]와 동일한 표현식이다.\n",
    "* \\s - whitespace 문자와 매치, [ \\t\\n\\r\\f\\v]와 동일한 표현식이다. 맨 앞의 빈 칸은 공백문자(space)를 의미한다.\n",
    "* \\S - whitespace 문자가 아닌 것과 매치, [^ \\t\\n\\r\\f\\v]와 동일한 표현식이다.\n",
    "* \\w - 문자+숫자(alphanumeric)와 매치, [a-zA-Z0-9_]와 동일한 표현식이다.\n",
    "* \\W - 문자+숫자(alphanumeric)가 아닌 문자와 매치, [^a-zA-Z0-9_]와 동일한 표현식이다."
   ]
  },
  {
   "cell_type": "markdown",
   "id": "7a8cb198-6034-457a-9ee6-21e14cb494d2",
   "metadata": {},
   "source": [
    "* \\d"
   ]
  },
  {
   "cell_type": "code",
   "execution_count": 60,
   "id": "88a49546-55c2-4ca2-a6af-cc5a614a28a7",
   "metadata": {},
   "outputs": [
    {
     "data": {
      "text/plain": [
       "<re.Match object; span=(0, 1), match='1'>"
      ]
     },
     "execution_count": 60,
     "metadata": {},
     "output_type": "execute_result"
    }
   ],
   "source": [
    "p = re.compile('[\\d]')  # [0-9]\n",
    "p.match('1')"
   ]
  },
  {
   "cell_type": "code",
   "execution_count": 62,
   "id": "0dd2f49c-77db-4d06-9ddf-1573befdef13",
   "metadata": {},
   "outputs": [],
   "source": [
    "p = re.compile('[\\d]')  # [0-9]\n",
    "p.match('a')"
   ]
  },
  {
   "cell_type": "markdown",
   "id": "5148e778-3b05-44ad-b2cb-fc36c7abee66",
   "metadata": {},
   "source": [
    "* \\D"
   ]
  },
  {
   "cell_type": "code",
   "execution_count": 64,
   "id": "93b60ce6-a27b-4843-be1d-0c7a25654507",
   "metadata": {},
   "outputs": [],
   "source": [
    "p = re.compile('[\\D]')  # [^0-9]\n",
    "p.match('1')"
   ]
  },
  {
   "cell_type": "code",
   "execution_count": 65,
   "id": "9d63fdc8-caeb-4ebb-ab4d-cdd8c6e864ff",
   "metadata": {},
   "outputs": [
    {
     "data": {
      "text/plain": [
       "<re.Match object; span=(0, 1), match='a'>"
      ]
     },
     "execution_count": 65,
     "metadata": {},
     "output_type": "execute_result"
    }
   ],
   "source": [
    "p = re.compile('[\\D]')  # [^0-9]\n",
    "p.match('a')"
   ]
  },
  {
   "cell_type": "markdown",
   "id": "c7a05247-7d7a-48e0-837b-f5b0bee9c73a",
   "metadata": {},
   "source": [
    "* \\s"
   ]
  },
  {
   "cell_type": "code",
   "execution_count": 67,
   "id": "4b2643a5-5f2b-4fb2-a4d3-4fee273f4c60",
   "metadata": {},
   "outputs": [
    {
     "data": {
      "text/plain": [
       "<re.Match object; span=(0, 1), match=' '>"
      ]
     },
     "execution_count": 67,
     "metadata": {},
     "output_type": "execute_result"
    }
   ],
   "source": [
    "p = re.compile('[\\s]')  \n",
    "p.match(' ')"
   ]
  },
  {
   "cell_type": "code",
   "execution_count": 68,
   "id": "14aca970-666d-4e00-a711-8444c4d473f5",
   "metadata": {},
   "outputs": [
    {
     "data": {
      "text/plain": [
       "<re.Match object; span=(0, 1), match='\\n'>"
      ]
     },
     "execution_count": 68,
     "metadata": {},
     "output_type": "execute_result"
    }
   ],
   "source": [
    "p = re.compile('[\\s]')  \n",
    "p.match('''\n",
    "''')"
   ]
  },
  {
   "cell_type": "code",
   "execution_count": 66,
   "id": "7614cd99-d974-4c20-b0ab-26a7440cfd62",
   "metadata": {},
   "outputs": [],
   "source": [
    "p = re.compile('[\\s]')  \n",
    "p.match('a')"
   ]
  },
  {
   "cell_type": "code",
   "execution_count": 69,
   "id": "3ae416be-98d4-4419-ba35-2844059aba45",
   "metadata": {},
   "outputs": [],
   "source": [
    "p = re.compile('[\\s]')  \n",
    "p.match('c ')"
   ]
  },
  {
   "cell_type": "markdown",
   "id": "a93651cc-91a9-4028-aeab-f4da47c85e55",
   "metadata": {},
   "source": [
    "* \\S"
   ]
  },
  {
   "cell_type": "code",
   "execution_count": 70,
   "id": "620dffce-1225-45f9-9f23-850d36a46be9",
   "metadata": {},
   "outputs": [],
   "source": [
    "p = re.compile('[\\S]')  \n",
    "p.match(' ')"
   ]
  },
  {
   "cell_type": "code",
   "execution_count": 71,
   "id": "7078325e-c307-465f-bd0c-d831b284acb6",
   "metadata": {},
   "outputs": [],
   "source": [
    "p = re.compile('[\\S]')  \n",
    "p.match('''\n",
    "''')"
   ]
  },
  {
   "cell_type": "code",
   "execution_count": 72,
   "id": "0cfc9e77-4374-4a1f-81cf-e5d42c619528",
   "metadata": {},
   "outputs": [
    {
     "data": {
      "text/plain": [
       "<re.Match object; span=(0, 1), match='a'>"
      ]
     },
     "execution_count": 72,
     "metadata": {},
     "output_type": "execute_result"
    }
   ],
   "source": [
    "p = re.compile('[\\S]')  \n",
    "p.match('a')"
   ]
  },
  {
   "cell_type": "code",
   "execution_count": 73,
   "id": "0b314493-bc97-4451-afb8-461f9b6d9811",
   "metadata": {},
   "outputs": [
    {
     "data": {
      "text/plain": [
       "<re.Match object; span=(0, 1), match='c'>"
      ]
     },
     "execution_count": 73,
     "metadata": {},
     "output_type": "execute_result"
    }
   ],
   "source": [
    "p = re.compile('[\\S]')  \n",
    "p.match('c ')"
   ]
  },
  {
   "cell_type": "markdown",
   "id": "9df36d34-af5c-433b-b11f-d6eaf57484c0",
   "metadata": {},
   "source": [
    "* \\w"
   ]
  },
  {
   "cell_type": "code",
   "execution_count": 74,
   "id": "7d7b9070-9af4-4c56-abeb-256fe8469e24",
   "metadata": {},
   "outputs": [
    {
     "name": "stdout",
     "output_type": "stream",
     "text": [
      "<re.Match object; span=(0, 1), match='1'>\n",
      "<re.Match object; span=(0, 1), match='a'>\n",
      "<re.Match object; span=(0, 1), match='K'>\n",
      "None\n",
      "None\n",
      "None\n"
     ]
    }
   ],
   "source": [
    "p=re.compile('[\\w]') # [ ] or re.compile(' ')\n",
    "m = p.match('1')\n",
    "print(m)\n",
    "m = p.match('a')\n",
    "print(m)\n",
    "m = p.match('K')\n",
    "print(m)\n",
    "m = p.match('-')\n",
    "print(m)\n",
    "m = p.match('$')\n",
    "print(m)\n",
    "m = p.match(' ')\n",
    "print(m)"
   ]
  },
  {
   "cell_type": "markdown",
   "id": "37c766b7-b5dd-435d-8f59-60e3e2ed97ad",
   "metadata": {},
   "source": [
    "* \\W"
   ]
  },
  {
   "cell_type": "code",
   "execution_count": 75,
   "id": "4a7f8393-d96d-425e-878a-70c499320184",
   "metadata": {},
   "outputs": [
    {
     "name": "stdout",
     "output_type": "stream",
     "text": [
      "None\n",
      "None\n",
      "None\n",
      "<re.Match object; span=(0, 1), match='-'>\n",
      "<re.Match object; span=(0, 1), match='$'>\n",
      "<re.Match object; span=(0, 1), match=' '>\n"
     ]
    }
   ],
   "source": [
    "p=re.compile('[\\W]') # [ ] or re.compile(' ')\n",
    "m = p.match('1')\n",
    "print(m)\n",
    "m = p.match('a')\n",
    "print(m)\n",
    "m = p.match('K')\n",
    "print(m)\n",
    "m = p.match('-')\n",
    "print(m)\n",
    "m = p.match('$')\n",
    "print(m)\n",
    "m = p.match(' ')\n",
    "print(m)"
   ]
  },
  {
   "cell_type": "code",
   "execution_count": null,
   "id": "054ad8f9-87cc-449f-9157-5825c70dd4a6",
   "metadata": {},
   "outputs": [],
   "source": []
  },
  {
   "cell_type": "code",
   "execution_count": null,
   "id": "776a4526-86d3-451c-a502-abbe4a78825b",
   "metadata": {},
   "outputs": [],
   "source": []
  },
  {
   "cell_type": "code",
   "execution_count": null,
   "id": "2c748cb9-6309-4258-8a7a-74cdbdedcd94",
   "metadata": {},
   "outputs": [],
   "source": []
  },
  {
   "cell_type": "code",
   "execution_count": null,
   "id": "0ed4d8b1-66ee-437c-8e51-62b9ea7f24f4",
   "metadata": {},
   "outputs": [],
   "source": []
  },
  {
   "cell_type": "code",
   "execution_count": null,
   "id": "c19e628e-7ceb-45e5-93ac-0694498ad1d2",
   "metadata": {},
   "outputs": [],
   "source": []
  },
  {
   "cell_type": "code",
   "execution_count": null,
   "id": "8f4cc790-5adf-4dbf-aa5e-cc6fce1cab30",
   "metadata": {},
   "outputs": [],
   "source": []
  },
  {
   "cell_type": "code",
   "execution_count": null,
   "id": "7f5fb788-1435-4076-9963-1f36d824e10b",
   "metadata": {},
   "outputs": [],
   "source": []
  },
  {
   "cell_type": "code",
   "execution_count": null,
   "id": "e1e9fcc6-19cd-44d0-8f75-54b3e9bfae44",
   "metadata": {},
   "outputs": [],
   "source": []
  },
  {
   "cell_type": "code",
   "execution_count": null,
   "id": "42dd5f6f-358c-47e9-bfb6-aff54149e03e",
   "metadata": {},
   "outputs": [],
   "source": []
  },
  {
   "cell_type": "code",
   "execution_count": null,
   "id": "ebe0eb2c-08ea-4c82-85f0-5cb754f5bd3a",
   "metadata": {},
   "outputs": [],
   "source": []
  },
  {
   "cell_type": "code",
   "execution_count": null,
   "id": "7e984f18-5198-4dbe-92b0-1192898c129a",
   "metadata": {},
   "outputs": [],
   "source": []
  },
  {
   "cell_type": "code",
   "execution_count": null,
   "id": "c4b8f7ff-5db7-49cd-a5dd-381beae26c20",
   "metadata": {},
   "outputs": [],
   "source": []
  },
  {
   "cell_type": "code",
   "execution_count": null,
   "id": "78443271-143a-4328-871c-209848a2198b",
   "metadata": {},
   "outputs": [],
   "source": []
  },
  {
   "cell_type": "code",
   "execution_count": null,
   "id": "4ebf9b40-a2ee-4e69-9616-de45e939e076",
   "metadata": {},
   "outputs": [],
   "source": []
  },
  {
   "cell_type": "code",
   "execution_count": null,
   "id": "f2eb7af1-bebb-4154-b3d2-083b0d1eb796",
   "metadata": {},
   "outputs": [],
   "source": []
  },
  {
   "cell_type": "code",
   "execution_count": null,
   "id": "fba5ed52-ebad-40d7-b8ea-5e2d742673dc",
   "metadata": {},
   "outputs": [],
   "source": []
  },
  {
   "cell_type": "code",
   "execution_count": null,
   "id": "27466bfa-0727-4b60-94f3-ac80d03690f8",
   "metadata": {},
   "outputs": [],
   "source": []
  },
  {
   "cell_type": "code",
   "execution_count": null,
   "id": "4b1a35e3-b78b-459c-848d-2563f78ac289",
   "metadata": {},
   "outputs": [],
   "source": []
  },
  {
   "cell_type": "code",
   "execution_count": null,
   "id": "e614f403-eb41-41e8-b591-4fcbfae74d2f",
   "metadata": {},
   "outputs": [],
   "source": []
  },
  {
   "cell_type": "code",
   "execution_count": null,
   "id": "63dc0ef9-2006-4894-a5ed-3db237c91983",
   "metadata": {},
   "outputs": [],
   "source": []
  }
 ],
 "metadata": {
  "kernelspec": {
   "display_name": "Python 3 (ipykernel)",
   "language": "python",
   "name": "python3"
  },
  "language_info": {
   "codemirror_mode": {
    "name": "ipython",
    "version": 3
   },
   "file_extension": ".py",
   "mimetype": "text/x-python",
   "name": "python",
   "nbconvert_exporter": "python",
   "pygments_lexer": "ipython3",
   "version": "3.11.7"
  }
 },
 "nbformat": 4,
 "nbformat_minor": 5
}
