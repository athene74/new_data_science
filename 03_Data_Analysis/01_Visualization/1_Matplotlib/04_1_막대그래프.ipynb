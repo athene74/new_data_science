{
 "cells": [
  {
   "cell_type": "markdown",
   "id": "a19a2e9a",
   "metadata": {},
   "source": [
    "## bar 차트 기본 사용"
   ]
  },
  {
   "cell_type": "code",
   "execution_count": 2,
   "id": "0b756380",
   "metadata": {},
   "outputs": [],
   "source": [
    "import pandas as pd\n",
    "import numpy as np\n",
    "import matplotlib.pyplot as plt\n",
    "%matplotlib inline\n",
    "from matplotlib import font_manager,rc\n",
    "# 한글 폰트\n",
    "font_location = \"C:\\Windows\\Fonts\\malgun.ttf\"\n",
    "font_name = font_manager.FontProperties(fname=font_location).get_name()\n",
    "rc('font',family=font_name)\n",
    "plt.rcParams['axes.unicode_minus'] = False  # 유니코드 마이너스 기호 사용"
   ]
  },
  {
   "cell_type": "code",
   "execution_count": 10,
   "id": "e6fbe788",
   "metadata": {},
   "outputs": [
    {
     "data": {
      "image/png": "[encoded data removed]",
      "text/plain": [
       "<Figure size 640x480 with 1 Axes>"
      ]
     },
     "metadata": {},
     "output_type": "display_data"
    }
   ],
   "source": [
    "# 보여줄 bar의 인덱스 생성\n",
    "x = np.arange(3)\n",
    "#  소스: Wide 포맷의 데이터\n",
    "years = ['2018', '2019', '2020']\n",
    "# bar에 매칭이 되는 값 리스트 생성\n",
    "# 2018년 누적된 레코드 결과가 100건이라는 의미 실제 데이터는 2018년 관련 레코드가 100건이 있다는 의미\n",
    "# 2019년도, 2020년도는 각각 400건, 900건이 있다는 의미\n",
    "values = [100, 400, 900]\n",
    "\n",
    "plt.bar(x, values)\n",
    "plt.xticks(x, years)\n",
    "\n",
    "plt.show()"
   ]
  },
  {
   "cell_type": "markdown",
   "id": "7c0cdf21-93f8-4822-a433-bba58726cb5b",
   "metadata": {},
   "source": [
    "* 예상되는 원본데이터(long형) 형태"
   ]
  },
  {
   "cell_type": "code",
   "execution_count": 4,
   "id": "1735bfad-5b05-4dce-941c-d5d03cf3c253",
   "metadata": {},
   "outputs": [
    {
     "data": {
      "text/html": [
       "<div>\n",
       "<style scoped>\n",
       "    .dataframe tbody tr th:only-of-type {\n",
       "        vertical-align: middle;\n",
       "    }\n",
       "\n",
       "    .dataframe tbody tr th {\n",
       "        vertical-align: top;\n",
       "    }\n",
       "\n",
       "    .dataframe thead th {\n",
       "        text-align: right;\n",
       "    }\n",
       "</style>\n",
       "<table border=\"1\" class=\"dataframe\">\n",
       "  <thead>\n",
       "    <tr style=\"text-align: right;\">\n",
       "      <th></th>\n",
       "      <th>연식</th>\n",
       "    </tr>\n",
       "  </thead>\n",
       "  <tbody>\n",
       "    <tr>\n",
       "      <th>0</th>\n",
       "      <td>2018</td>\n",
       "    </tr>\n",
       "    <tr>\n",
       "      <th>1</th>\n",
       "      <td>2018</td>\n",
       "    </tr>\n",
       "    <tr>\n",
       "      <th>2</th>\n",
       "      <td>2018</td>\n",
       "    </tr>\n",
       "    <tr>\n",
       "      <th>3</th>\n",
       "      <td>2019</td>\n",
       "    </tr>\n",
       "    <tr>\n",
       "      <th>4</th>\n",
       "      <td>2019</td>\n",
       "    </tr>\n",
       "    <tr>\n",
       "      <th>5</th>\n",
       "      <td>2019</td>\n",
       "    </tr>\n",
       "    <tr>\n",
       "      <th>6</th>\n",
       "      <td>2019</td>\n",
       "    </tr>\n",
       "    <tr>\n",
       "      <th>7</th>\n",
       "      <td>2020</td>\n",
       "    </tr>\n",
       "    <tr>\n",
       "      <th>8</th>\n",
       "      <td>2020</td>\n",
       "    </tr>\n",
       "    <tr>\n",
       "      <th>9</th>\n",
       "      <td>2020</td>\n",
       "    </tr>\n",
       "    <tr>\n",
       "      <th>10</th>\n",
       "      <td>2020</td>\n",
       "    </tr>\n",
       "  </tbody>\n",
       "</table>\n",
       "</div>"
      ],
      "text/plain": [
       "      연식\n",
       "0   2018\n",
       "1   2018\n",
       "2   2018\n",
       "3   2019\n",
       "4   2019\n",
       "5   2019\n",
       "6   2019\n",
       "7   2020\n",
       "8   2020\n",
       "9   2020\n",
       "10  2020"
      ]
     },
     "execution_count": 4,
     "metadata": {},
     "output_type": "execute_result"
    }
   ],
   "source": [
    "# 원본 데이터프레임 생성\n",
    "data = {\n",
    "    '연식': ['2018', '2018', '2018', '2019', '2019', '2019', '2019', '2020', '2020', '2020', '2020']\n",
    "}\n",
    "\n",
    "df = pd.DataFrame(data)\n",
    "df"
   ]
  },
  {
   "cell_type": "code",
   "execution_count": 5,
   "id": "be66cd3f-8da2-4784-8f79-f5e2b86672fb",
   "metadata": {},
   "outputs": [
    {
     "data": {
      "text/plain": [
       "연식\n",
       "2019    4\n",
       "2020    4\n",
       "2018    3\n",
       "Name: count, dtype: int64"
      ]
     },
     "execution_count": 5,
     "metadata": {},
     "output_type": "execute_result"
    }
   ],
   "source": [
    "df['연식'].value_counts()"
   ]
  },
  {
   "cell_type": "code",
   "execution_count": 6,
   "id": "1e419583-8b9d-4662-8d59-20ff1a50d945",
   "metadata": {},
   "outputs": [
    {
     "data": {
      "text/plain": [
       "연식\n",
       "2018    3\n",
       "2019    4\n",
       "2020    4\n",
       "Name: count, dtype: int64"
      ]
     },
     "execution_count": 6,
     "metadata": {},
     "output_type": "execute_result"
    }
   ],
   "source": [
    "# value_counts() 함수를 사용하여 각 연도에 해당하는 값의 개수 계산\n",
    "value_counts = df['연식'].value_counts().sort_index()\n",
    "value_counts"
   ]
  },
  {
   "cell_type": "code",
   "execution_count": 7,
   "id": "f43fec38-6f6e-45f3-9bda-83a17ec9673f",
   "metadata": {},
   "outputs": [
    {
     "data": {
      "text/plain": [
       "['2018', '2019', '2020']"
      ]
     },
     "execution_count": 7,
     "metadata": {},
     "output_type": "execute_result"
    }
   ],
   "source": [
    "# 막대 그래프 그리기\n",
    "years = value_counts.index.tolist()\n",
    "years"
   ]
  },
  {
   "cell_type": "code",
   "execution_count": 8,
   "id": "5291fb7f-44ec-435a-9514-243750250211",
   "metadata": {},
   "outputs": [
    {
     "data": {
      "text/plain": [
       "array([3, 4, 4], dtype=int64)"
      ]
     },
     "execution_count": 8,
     "metadata": {},
     "output_type": "execute_result"
    }
   ],
   "source": [
    "values = value_counts.values\n",
    "values"
   ]
  },
  {
   "cell_type": "code",
   "execution_count": 9,
   "id": "72cd426b-e9ce-4be7-874d-2c04e8527707",
   "metadata": {},
   "outputs": [
    {
     "data": {
      "image/png": "[encoded data removed]",
      "text/plain": [
       "<Figure size 640x480 with 1 Axes>"
      ]
     },
     "metadata": {},
     "output_type": "display_data"
    }
   ],
   "source": [
    "x = np.arange(len(years))\n",
    "\n",
    "plt.bar(x, values)\n",
    "plt.xticks(x, years)\n",
    "plt.xlabel('연식')\n",
    "plt.ylabel('건수')\n",
    "plt.title('연식별 건수')\n",
    "\n",
    "plt.show()"
   ]
  },
  {
   "cell_type": "markdown",
   "id": "c91559d6-dd5f-4cd8-8a9d-a76f34c6dfd2",
   "metadata": {},
   "source": [
    "## 실데이터 연습"
   ]
  },
  {
   "cell_type": "code",
   "execution_count": 13,
   "id": "14c0df37-21c1-4db5-a559-d651a238d463",
   "metadata": {},
   "outputs": [
    {
     "data": {
      "text/html": [
       "<div>\n",
       "<style scoped>\n",
       "    .dataframe tbody tr th:only-of-type {\n",
       "        vertical-align: middle;\n",
       "    }\n",
       "\n",
       "    .dataframe tbody tr th {\n",
       "        vertical-align: top;\n",
       "    }\n",
       "\n",
       "    .dataframe thead th {\n",
       "        text-align: right;\n",
       "    }\n",
       "</style>\n",
       "<table border=\"1\" class=\"dataframe\">\n",
       "  <thead>\n",
       "    <tr style=\"text-align: right;\">\n",
       "      <th></th>\n",
       "      <th>book_name</th>\n",
       "      <th>book_writer</th>\n",
       "      <th>book_date</th>\n",
       "      <th>book_price</th>\n",
       "      <th>book_cover</th>\n",
       "      <th>book_page</th>\n",
       "      <th>book_size</th>\n",
       "      <th>book_weight</th>\n",
       "      <th>book_category</th>\n",
       "      <th>book_publisher</th>\n",
       "      <th>sales_point</th>\n",
       "    </tr>\n",
       "  </thead>\n",
       "  <tbody>\n",
       "    <tr>\n",
       "      <th>0</th>\n",
       "      <td>올 더 빌딩스 인 런던</td>\n",
       "      <td>제임스 걸리버 핸콕</td>\n",
       "      <td>2018-08-25</td>\n",
       "      <td>14,400</td>\n",
       "      <td>양장본</td>\n",
       "      <td>140</td>\n",
       "      <td>225*280mm</td>\n",
       "      <td>476</td>\n",
       "      <td>예술/대중문화</td>\n",
       "      <td>책발전소</td>\n",
       "      <td>110</td>\n",
       "    </tr>\n",
       "    <tr>\n",
       "      <th>1</th>\n",
       "      <td>렛 잇 블리드</td>\n",
       "      <td>이언 랜킨</td>\n",
       "      <td>2018-08-19</td>\n",
       "      <td>13,320</td>\n",
       "      <td>반양장본</td>\n",
       "      <td>476</td>\n",
       "      <td>128*188mm</td>\n",
       "      <td>476</td>\n",
       "      <td>소설/시/희곡</td>\n",
       "      <td>오픈하우스</td>\n",
       "      <td>110</td>\n",
       "    </tr>\n",
       "    <tr>\n",
       "      <th>2</th>\n",
       "      <td>은유로 사회 읽기</td>\n",
       "      <td>대니얼 리그니</td>\n",
       "      <td>2018-08-20</td>\n",
       "      <td>39,500</td>\n",
       "      <td>양장본</td>\n",
       "      <td>416</td>\n",
       "      <td>152*223mm</td>\n",
       "      <td>749</td>\n",
       "      <td>사회과학</td>\n",
       "      <td>한울(한울아카데미)</td>\n",
       "      <td>10</td>\n",
       "    </tr>\n",
       "    <tr>\n",
       "      <th>3</th>\n",
       "      <td>유럽 맥주 여행</td>\n",
       "      <td>백경학</td>\n",
       "      <td>2018-08-24</td>\n",
       "      <td>14,400</td>\n",
       "      <td>반양장본</td>\n",
       "      <td>308</td>\n",
       "      <td>150*220mm</td>\n",
       "      <td>400</td>\n",
       "      <td>역사</td>\n",
       "      <td>글항아리</td>\n",
       "      <td>10</td>\n",
       "    </tr>\n",
       "    <tr>\n",
       "      <th>4</th>\n",
       "      <td>이게, 행복이 아니면 무엇이지</td>\n",
       "      <td>김혜령</td>\n",
       "      <td>2018-08-20</td>\n",
       "      <td>13,050</td>\n",
       "      <td>NaN</td>\n",
       "      <td>288</td>\n",
       "      <td>135*200mm</td>\n",
       "      <td>374</td>\n",
       "      <td>인문학</td>\n",
       "      <td>웨일북</td>\n",
       "      <td>10</td>\n",
       "    </tr>\n",
       "  </tbody>\n",
       "</table>\n",
       "</div>"
      ],
      "text/plain": [
       "          book_name book_writer   book_date book_price book_cover book_page  \\\n",
       "0      올 더 빌딩스 인 런던  제임스 걸리버 핸콕  2018-08-25     14,400        양장본       140   \n",
       "1           렛 잇 블리드       이언 랜킨  2018-08-19     13,320       반양장본       476   \n",
       "2         은유로 사회 읽기     대니얼 리그니  2018-08-20     39,500        양장본       416   \n",
       "3          유럽 맥주 여행         백경학  2018-08-24     14,400       반양장본       308   \n",
       "4  이게, 행복이 아니면 무엇이지         김혜령  2018-08-20     13,050        NaN       288   \n",
       "\n",
       "   book_size  book_weight book_category book_publisher sales_point  \n",
       "0  225*280mm          476       예술/대중문화           책발전소         110  \n",
       "1  128*188mm          476       소설/시/희곡          오픈하우스         110  \n",
       "2  152*223mm          749          사회과학     한울(한울아카데미)          10  \n",
       "3  150*220mm          400            역사           글항아리          10  \n",
       "4  135*200mm          374           인문학            웨일북          10  "
      ]
     },
     "execution_count": 13,
     "metadata": {},
     "output_type": "execute_result"
    }
   ],
   "source": [
    "book = pd.read_csv('book_data.csv', encoding='cp949')\n",
    "book.head()"
   ]
  },
  {
   "cell_type": "code",
   "execution_count": 14,
   "id": "4a7cfacc-2fd1-4472-adff-f4ece1619325",
   "metadata": {},
   "outputs": [
    {
     "data": {
      "text/plain": [
       "array(['양장본', '반양장본', nan], dtype=object)"
      ]
     },
     "execution_count": 14,
     "metadata": {},
     "output_type": "execute_result"
    }
   ],
   "source": [
    "book.book_cover.unique()"
   ]
  },
  {
   "cell_type": "code",
   "execution_count": 21,
   "id": "343235d1-8702-4e38-96f8-1887086c0222",
   "metadata": {},
   "outputs": [
    {
     "data": {
      "text/html": [
       "<div>\n",
       "<style scoped>\n",
       "    .dataframe tbody tr th:only-of-type {\n",
       "        vertical-align: middle;\n",
       "    }\n",
       "\n",
       "    .dataframe tbody tr th {\n",
       "        vertical-align: top;\n",
       "    }\n",
       "\n",
       "    .dataframe thead th {\n",
       "        text-align: right;\n",
       "    }\n",
       "</style>\n",
       "<table border=\"1\" class=\"dataframe\">\n",
       "  <thead>\n",
       "    <tr style=\"text-align: right;\">\n",
       "      <th></th>\n",
       "      <th>book_name</th>\n",
       "      <th>book_writer</th>\n",
       "      <th>book_date</th>\n",
       "      <th>book_price</th>\n",
       "      <th>book_cover</th>\n",
       "      <th>book_page</th>\n",
       "      <th>book_size</th>\n",
       "      <th>book_weight</th>\n",
       "      <th>book_category</th>\n",
       "      <th>book_publisher</th>\n",
       "      <th>sales_point</th>\n",
       "    </tr>\n",
       "  </thead>\n",
       "  <tbody>\n",
       "    <tr>\n",
       "      <th>0</th>\n",
       "      <td>올 더 빌딩스 인 런던</td>\n",
       "      <td>제임스 걸리버 핸콕</td>\n",
       "      <td>2018-08-25</td>\n",
       "      <td>14,400</td>\n",
       "      <td>양장본</td>\n",
       "      <td>140</td>\n",
       "      <td>225*280mm</td>\n",
       "      <td>476</td>\n",
       "      <td>예술/대중문화</td>\n",
       "      <td>책발전소</td>\n",
       "      <td>110</td>\n",
       "    </tr>\n",
       "    <tr>\n",
       "      <th>1</th>\n",
       "      <td>렛 잇 블리드</td>\n",
       "      <td>이언 랜킨</td>\n",
       "      <td>2018-08-19</td>\n",
       "      <td>13,320</td>\n",
       "      <td>반양장본</td>\n",
       "      <td>476</td>\n",
       "      <td>128*188mm</td>\n",
       "      <td>476</td>\n",
       "      <td>소설/시/희곡</td>\n",
       "      <td>오픈하우스</td>\n",
       "      <td>110</td>\n",
       "    </tr>\n",
       "    <tr>\n",
       "      <th>2</th>\n",
       "      <td>은유로 사회 읽기</td>\n",
       "      <td>대니얼 리그니</td>\n",
       "      <td>2018-08-20</td>\n",
       "      <td>39,500</td>\n",
       "      <td>양장본</td>\n",
       "      <td>416</td>\n",
       "      <td>152*223mm</td>\n",
       "      <td>749</td>\n",
       "      <td>사회과학</td>\n",
       "      <td>한울(한울아카데미)</td>\n",
       "      <td>10</td>\n",
       "    </tr>\n",
       "    <tr>\n",
       "      <th>3</th>\n",
       "      <td>유럽 맥주 여행</td>\n",
       "      <td>백경학</td>\n",
       "      <td>2018-08-24</td>\n",
       "      <td>14,400</td>\n",
       "      <td>반양장본</td>\n",
       "      <td>308</td>\n",
       "      <td>150*220mm</td>\n",
       "      <td>400</td>\n",
       "      <td>역사</td>\n",
       "      <td>글항아리</td>\n",
       "      <td>10</td>\n",
       "    </tr>\n",
       "    <tr>\n",
       "      <th>4</th>\n",
       "      <td>이게, 행복이 아니면 무엇이지</td>\n",
       "      <td>김혜령</td>\n",
       "      <td>2018-08-20</td>\n",
       "      <td>13,050</td>\n",
       "      <td>미정의</td>\n",
       "      <td>288</td>\n",
       "      <td>135*200mm</td>\n",
       "      <td>374</td>\n",
       "      <td>인문학</td>\n",
       "      <td>웨일북</td>\n",
       "      <td>10</td>\n",
       "    </tr>\n",
       "  </tbody>\n",
       "</table>\n",
       "</div>"
      ],
      "text/plain": [
       "          book_name book_writer   book_date book_price book_cover book_page  \\\n",
       "0      올 더 빌딩스 인 런던  제임스 걸리버 핸콕  2018-08-25     14,400        양장본       140   \n",
       "1           렛 잇 블리드       이언 랜킨  2018-08-19     13,320       반양장본       476   \n",
       "2         은유로 사회 읽기     대니얼 리그니  2018-08-20     39,500        양장본       416   \n",
       "3          유럽 맥주 여행         백경학  2018-08-24     14,400       반양장본       308   \n",
       "4  이게, 행복이 아니면 무엇이지         김혜령  2018-08-20     13,050        미정의       288   \n",
       "\n",
       "   book_size  book_weight book_category book_publisher sales_point  \n",
       "0  225*280mm          476       예술/대중문화           책발전소         110  \n",
       "1  128*188mm          476       소설/시/희곡          오픈하우스         110  \n",
       "2  152*223mm          749          사회과학     한울(한울아카데미)          10  \n",
       "3  150*220mm          400            역사           글항아리          10  \n",
       "4  135*200mm          374           인문학            웨일북          10  "
      ]
     },
     "execution_count": 21,
     "metadata": {},
     "output_type": "execute_result"
    }
   ],
   "source": [
    "book['book_cover'] = book['book_cover'].fillna('미정의')\n",
    "book.head()"
   ]
  },
  {
   "cell_type": "code",
   "execution_count": 22,
   "id": "038a2876-ea17-4866-8781-670b0d04d5e0",
   "metadata": {},
   "outputs": [
    {
     "name": "stdout",
     "output_type": "stream",
     "text": [
      "<class 'pandas.core.frame.DataFrame'>\n",
      "RangeIndex: 2000 entries, 0 to 1999\n",
      "Data columns (total 11 columns):\n",
      " #   Column          Non-Null Count  Dtype \n",
      "---  ------          --------------  ----- \n",
      " 0   book_name       2000 non-null   object\n",
      " 1   book_writer     2000 non-null   object\n",
      " 2   book_date       2000 non-null   object\n",
      " 3   book_price      2000 non-null   object\n",
      " 4   book_cover      2000 non-null   object\n",
      " 5   book_page       2000 non-null   object\n",
      " 6   book_size       1999 non-null   object\n",
      " 7   book_weight     2000 non-null   int64 \n",
      " 8   book_category   2000 non-null   object\n",
      " 9   book_publisher  2000 non-null   object\n",
      " 10  sales_point     2000 non-null   object\n",
      "dtypes: int64(1), object(10)\n",
      "memory usage: 172.0+ KB\n"
     ]
    }
   ],
   "source": [
    "book.info()"
   ]
  },
  {
   "cell_type": "code",
   "execution_count": 30,
   "id": "fea73a7c-2a39-449f-afdd-e3952d943439",
   "metadata": {},
   "outputs": [
    {
     "data": {
      "text/plain": [
       "book_cover\n",
       "반양장본    1236\n",
       "양장본      447\n",
       "미정의      317\n",
       "Name: count, dtype: int64"
      ]
     },
     "execution_count": 30,
     "metadata": {},
     "output_type": "execute_result"
    }
   ],
   "source": [
    "book['book_cover'].value_counts()"
   ]
  },
  {
   "cell_type": "code",
   "execution_count": 64,
   "id": "aebbe961-0bba-4b66-87ff-35f46e84a9bc",
   "metadata": {},
   "outputs": [
    {
     "data": {
      "image/png": "[encoded data removed]",
      "text/plain": [
       "<Figure size 640x480 with 1 Axes>"
      ]
     },
     "metadata": {},
     "output_type": "display_data"
    }
   ],
   "source": [
    "# value_counts() 함수를 사용하여 각 연도에 해당하는 값의 계수 계산\n",
    "value_counts = book['book_cover'].value_counts().sort_index()\n",
    "# 막대 그래프 그리기\n",
    "cover_categories =value_counts.index.tolist()\n",
    "values = value_counts.values\n",
    "x = np.arange(len(cover_categories))\n",
    "\n",
    "plt.bar(x, values)\n",
    "plt.xticks(x, cover_categories)\n",
    "plt.xlabel('책커버 종류')\n",
    "plt.ylabel('권수')\n",
    "plt.title('책커버 종류별 권수')\n",
    "\n",
    "plt.show()"
   ]
  },
  {
   "cell_type": "code",
   "execution_count": 72,
   "id": "acad4206-f1b2-43df-96ec-c00a91b6f9e9",
   "metadata": {},
   "outputs": [
    {
     "data": {
      "text/html": [
       "<div>\n",
       "<style scoped>\n",
       "    .dataframe tbody tr th:only-of-type {\n",
       "        vertical-align: middle;\n",
       "    }\n",
       "\n",
       "    .dataframe tbody tr th {\n",
       "        vertical-align: top;\n",
       "    }\n",
       "\n",
       "    .dataframe thead th {\n",
       "        text-align: right;\n",
       "    }\n",
       "</style>\n",
       "<table border=\"1\" class=\"dataframe\">\n",
       "  <thead>\n",
       "    <tr style=\"text-align: right;\">\n",
       "      <th></th>\n",
       "      <th>기체번호</th>\n",
       "      <th>항공사</th>\n",
       "      <th>기종</th>\n",
       "      <th>정원_F</th>\n",
       "      <th>정원_C</th>\n",
       "      <th>정원_W</th>\n",
       "      <th>정원_Y</th>\n",
       "      <th>총정원</th>\n",
       "    </tr>\n",
       "  </thead>\n",
       "  <tbody>\n",
       "    <tr>\n",
       "      <th>0</th>\n",
       "      <td>VP-BDK</td>\n",
       "      <td>Aeroflot</td>\n",
       "      <td>A320-214</td>\n",
       "      <td>0</td>\n",
       "      <td>20</td>\n",
       "      <td>0</td>\n",
       "      <td>120</td>\n",
       "      <td>140.0</td>\n",
       "    </tr>\n",
       "    <tr>\n",
       "      <th>1</th>\n",
       "      <td>VP-BWD</td>\n",
       "      <td>Aeroflot</td>\n",
       "      <td>A320-214</td>\n",
       "      <td>0</td>\n",
       "      <td>20</td>\n",
       "      <td>0</td>\n",
       "      <td>120</td>\n",
       "      <td>140.0</td>\n",
       "    </tr>\n",
       "    <tr>\n",
       "      <th>2</th>\n",
       "      <td>VP-BWE</td>\n",
       "      <td>Aeroflot</td>\n",
       "      <td>A320-214</td>\n",
       "      <td>0</td>\n",
       "      <td>20</td>\n",
       "      <td>0</td>\n",
       "      <td>120</td>\n",
       "      <td>140.0</td>\n",
       "    </tr>\n",
       "    <tr>\n",
       "      <th>3</th>\n",
       "      <td>VP-BWF</td>\n",
       "      <td>Aeroflot</td>\n",
       "      <td>A320-214</td>\n",
       "      <td>0</td>\n",
       "      <td>20</td>\n",
       "      <td>0</td>\n",
       "      <td>120</td>\n",
       "      <td>140.0</td>\n",
       "    </tr>\n",
       "    <tr>\n",
       "      <th>4</th>\n",
       "      <td>VP-BRZ</td>\n",
       "      <td>Aeroflot</td>\n",
       "      <td>A320-214</td>\n",
       "      <td>0</td>\n",
       "      <td>20</td>\n",
       "      <td>0</td>\n",
       "      <td>120</td>\n",
       "      <td>140.0</td>\n",
       "    </tr>\n",
       "  </tbody>\n",
       "</table>\n",
       "</div>"
      ],
      "text/plain": [
       "     기체번호       항공사        기종  정원_F  정원_C  정원_W  정원_Y    총정원\n",
       "0  VP-BDK  Aeroflot  A320-214     0    20     0   120  140.0\n",
       "1  VP-BWD  Aeroflot  A320-214     0    20     0   120  140.0\n",
       "2  VP-BWE  Aeroflot  A320-214     0    20     0   120  140.0\n",
       "3  VP-BWF  Aeroflot  A320-214     0    20     0   120  140.0\n",
       "4  VP-BRZ  Aeroflot  A320-214     0    20     0   120  140.0"
      ]
     },
     "execution_count": 72,
     "metadata": {},
     "output_type": "execute_result"
    }
   ],
   "source": [
    "capacity = pd.read_csv('airplane_info.csv', encoding='cp949')\n",
    "capacity.head()"
   ]
  },
  {
   "cell_type": "code",
   "execution_count": 73,
   "id": "60d38dbf-9f75-4cd5-9641-9f471e2e1387",
   "metadata": {},
   "outputs": [
    {
     "data": {
      "text/plain": [
       "array([ 0, 12,  4,  6,  8], dtype=int64)"
      ]
     },
     "execution_count": 73,
     "metadata": {},
     "output_type": "execute_result"
    }
   ],
   "source": [
    "capacity.정원_F.unique()"
   ]
  },
  {
   "cell_type": "code",
   "execution_count": 74,
   "id": "4a9cf90e-4a46-4852-b694-0418c001a304",
   "metadata": {},
   "outputs": [
    {
     "name": "stdout",
     "output_type": "stream",
     "text": [
      "<class 'pandas.core.frame.DataFrame'>\n",
      "RangeIndex: 2178 entries, 0 to 2177\n",
      "Data columns (total 8 columns):\n",
      " #   Column  Non-Null Count  Dtype  \n",
      "---  ------  --------------  -----  \n",
      " 0   기체번호    2178 non-null   object \n",
      " 1   항공사     2178 non-null   object \n",
      " 2   기종      2178 non-null   object \n",
      " 3   정원_F    2178 non-null   int64  \n",
      " 4   정원_C    2178 non-null   int64  \n",
      " 5   정원_W    2178 non-null   int64  \n",
      " 6   정원_Y    2178 non-null   int64  \n",
      " 7   총정원     2107 non-null   float64\n",
      "dtypes: float64(1), int64(4), object(3)\n",
      "memory usage: 136.3+ KB\n"
     ]
    }
   ],
   "source": [
    "capacity.info()"
   ]
  },
  {
   "cell_type": "code",
   "execution_count": 75,
   "id": "5d496e21-823a-4ae8-b64f-a43b9537bd92",
   "metadata": {},
   "outputs": [
    {
     "data": {
      "text/plain": [
       "정원_F\n",
       "0     2114\n",
       "6       25\n",
       "4       18\n",
       "8       15\n",
       "12       6\n",
       "Name: count, dtype: int64"
      ]
     },
     "execution_count": 75,
     "metadata": {},
     "output_type": "execute_result"
    }
   ],
   "source": [
    "capacity['정원_F'].value_counts()"
   ]
  },
  {
   "cell_type": "code",
   "execution_count": 76,
   "id": "d4df04ff-b635-4170-82da-3e2d5d8e0af6",
   "metadata": {},
   "outputs": [
    {
     "data": {
      "image/png": "[encoded data removed]",
      "text/plain": [
       "<Figure size 640x480 with 1 Axes>"
      ]
     },
     "metadata": {},
     "output_type": "display_data"
    }
   ],
   "source": [
    "# value_counts() 함수를 사용하여 각 연도에 해당하는 값의 계수 계산\n",
    "value_counts = capacity['정원_F'].value_counts().sort_index()\n",
    "# 막대 그래프 그리기\n",
    "capacity =value_counts.index.tolist()\n",
    "values = value_counts.values\n",
    "x = np.arange(len(capacity))\n",
    "\n",
    "plt.bar(x, values)\n",
    "plt.xticks(x, capacity)\n",
    "plt.xlabel('정원_F')\n",
    "plt.ylabel('비행기 수')\n",
    "plt.title('정원_F별 비행기 수')\n",
    "\n",
    "# plt.axis('scaled')\n",
    "\n",
    "plt.show()"
   ]
  },
  {
   "cell_type": "code",
   "execution_count": null,
   "id": "e0588251-eb3c-4994-8444-5aef5b8e3332",
   "metadata": {},
   "outputs": [],
   "source": []
  },
  {
   "cell_type": "code",
   "execution_count": null,
   "id": "5660840e-c181-4818-8dec-e6c672f1de27",
   "metadata": {},
   "outputs": [],
   "source": []
  },
  {
   "cell_type": "markdown",
   "id": "ae9cd15d",
   "metadata": {},
   "source": [
    "### 색상 지정하기"
   ]
  },
  {
   "cell_type": "code",
   "execution_count": 6,
   "id": "74e8ed82",
   "metadata": {},
   "outputs": [
    {
     "data": {
      "image/png": "[encoded data removed]",
      "text/plain": [
       "<Figure size 640x480 with 1 Axes>"
      ]
     },
     "metadata": {},
     "output_type": "display_data"
    }
   ],
   "source": [
    "x = np.arange(3)\n",
    "years = ['2018', '2019', '2020']\n",
    "values = [100, 400, 900]\n",
    "\n",
    "# plt.bar(x, values, color='y')\n",
    "#plt.bar(x, values, color='dodgerblue')\n",
    "plt.bar(x, values, color='#e35f62')\n",
    "plt.xticks(x, years)\n",
    "\n",
    "plt.show()"
   ]
  },
  {
   "cell_type": "markdown",
   "id": "2987bef7",
   "metadata": {},
   "source": [
    "### 바마다 개별 색 지정"
   ]
  },
  {
   "cell_type": "code",
   "execution_count": 4,
   "id": "3b3ac36f",
   "metadata": {},
   "outputs": [
    {
     "data": {
      "image/png": "[encoded data removed]",
      "text/plain": [
       "<Figure size 640x480 with 1 Axes>"
      ]
     },
     "metadata": {},
     "output_type": "display_data"
    }
   ],
   "source": [
    "x = np.arange(3)\n",
    "years = ['2018', '2019', '2020']\n",
    "values = [100, 400, 900]\n",
    "colors = ['y', 'dodgerblue', 'C2']\n",
    "\n",
    "# 색상이름을 리스트로 지정하면 순서대로 바에 할당\n",
    "plt.bar(x, values, color=colors)\n",
    "plt.xticks(x, years)\n",
    "\n",
    "plt.show()"
   ]
  },
  {
   "cell_type": "code",
   "execution_count": null,
   "id": "92c163f2",
   "metadata": {},
   "outputs": [],
   "source": [
    "# plot 차트에서 적용해 봤던 다양한 색상을 적용해 보세요"
   ]
  },
  {
   "cell_type": "markdown",
   "id": "984f8f86",
   "metadata": {},
   "source": [
    "### 막대 폭 지정하기"
   ]
  },
  {
   "cell_type": "code",
   "execution_count": 5,
   "id": "999c014a",
   "metadata": {},
   "outputs": [
    {
     "data": {
      "image/png": "[encoded data removed]",
      "text/plain": [
       "<Figure size 640x480 with 1 Axes>"
      ]
     },
     "metadata": {},
     "output_type": "display_data"
    }
   ],
   "source": [
    "x = np.arange(3)\n",
    "years = ['2018', '2019', '2020']\n",
    "values = [100, 400, 900]\n",
    "\n",
    "plt.bar(x, values, width=0.4)\n",
    "# plt.bar(x, values, width=0.6)\n",
    "# plt.bar(x, values, width=0.8)\n",
    "# plt.bar(x, values, width=1.0)\n",
    "plt.xticks(x, years)\n",
    "\n",
    "plt.show()"
   ]
  },
  {
   "cell_type": "markdown",
   "id": "447d119a",
   "metadata": {},
   "source": [
    "### 스타일 꾸미기"
   ]
  },
  {
   "cell_type": "raw",
   "id": "f629a3b7",
   "metadata": {},
   "source": [
    "align은 눈금과 막대의 위치를 조절. 디폴트 값은 ‘center’이며, ‘edge’로 설정하면 막대의 왼쪽 끝에 눈금이 표시.\n",
    "\n",
    "edgecolor는 막대 테두리 색, linewidth는 테두리의 두께를 지정.\n",
    "\n",
    "tick_label을 리스트 또는 어레이 형태로 지정하면, 틱에 문자열을 순서대로 나타냄."
   ]
  },
  {
   "cell_type": "code",
   "execution_count": 7,
   "id": "eea3ce7f",
   "metadata": {},
   "outputs": [
    {
     "data": {
      "image/png": "[encoded data removed]",
      "text/plain": [
       "<Figure size 640x480 with 1 Axes>"
      ]
     },
     "metadata": {},
     "output_type": "display_data"
    }
   ],
   "source": [
    "x = np.arange(3)\n",
    "years = ['2018', '2019', '2020']\n",
    "values = [100, 400, 900]\n",
    "\n",
    "plt.bar(x, values, align='edge', edgecolor='lightgray',\n",
    "        linewidth=5, tick_label=years)\n",
    "\n",
    "plt.show()"
   ]
  },
  {
   "cell_type": "markdown",
   "id": "38f1c03f",
   "metadata": {},
   "source": [
    "## 수평 막대 그래프 그리기"
   ]
  },
  {
   "cell_type": "markdown",
   "id": "10d91b89",
   "metadata": {},
   "source": [
    "### 기본 사용 (barh 함수 활용)"
   ]
  },
  {
   "cell_type": "code",
   "execution_count": 9,
   "id": "a745ad40",
   "metadata": {},
   "outputs": [
    {
     "data": {
      "image/png": "[encoded data removed]",
      "text/plain": [
       "<Figure size 640x480 with 1 Axes>"
      ]
     },
     "metadata": {},
     "output_type": "display_data"
    }
   ],
   "source": [
    "y = np.arange(3)\n",
    "years = ['2018', '2019', '2020']\n",
    "values = [100, 400, 900]\n",
    "\n",
    "plt.barh(y, values)\n",
    "plt.yticks(y, years)\n",
    "\n",
    "plt.show()"
   ]
  },
  {
   "cell_type": "markdown",
   "id": "1bccfaa0",
   "metadata": {},
   "source": [
    "### 색상지정하기"
   ]
  },
  {
   "cell_type": "code",
   "execution_count": 10,
   "id": "959796d1",
   "metadata": {},
   "outputs": [
    {
     "data": {
      "image/png": "[encoded data removed]",
      "text/plain": [
       "<Figure size 640x480 with 1 Axes>"
      ]
     },
     "metadata": {},
     "output_type": "display_data"
    }
   ],
   "source": [
    "y = np.arange(3)\n",
    "years = ['2018', '2019', '2020']\n",
    "values = [100, 400, 900]\n",
    "\n",
    "plt.barh(y, values, color='y')\n",
    "# plt.barh(y, values, color='dodgerblue')\n",
    "# plt.barh(y, values, color='C2')\n",
    "# plt.barh(y, values, color='#e35f62')\n",
    "plt.yticks(y, years)\n",
    "\n",
    "plt.show()"
   ]
  },
  {
   "cell_type": "markdown",
   "id": "3ae8f5f6",
   "metadata": {},
   "source": [
    "### 색상 개별 지정"
   ]
  },
  {
   "cell_type": "code",
   "execution_count": 11,
   "id": "ba2ca05e",
   "metadata": {},
   "outputs": [
    {
     "data": {
      "image/png": "[encoded data removed]",
      "text/plain": [
       "<Figure size 640x480 with 1 Axes>"
      ]
     },
     "metadata": {},
     "output_type": "display_data"
    }
   ],
   "source": [
    "y = np.arange(3)\n",
    "years = ['2018', '2019', '2020']\n",
    "values = [100, 400, 900]\n",
    "colors = ['y', 'dodgerblue', 'C2']\n",
    "\n",
    "plt.barh(y, values, color=colors)\n",
    "plt.yticks(y, years)\n",
    "\n",
    "plt.show()"
   ]
  },
  {
   "cell_type": "markdown",
   "id": "9e7c4140",
   "metadata": {},
   "source": [
    "### 막대 위치 지정"
   ]
  },
  {
   "cell_type": "code",
   "execution_count": 12,
   "id": "d559296b",
   "metadata": {},
   "outputs": [
    {
     "data": {
      "image/png": "[encoded data removed]",
      "text/plain": [
       "<Figure size 640x480 with 1 Axes>"
      ]
     },
     "metadata": {},
     "output_type": "display_data"
    }
   ],
   "source": [
    "y = np.arange(3)\n",
    "years = ['2018', '2019', '2020']\n",
    "values = [100, 400, 900]\n",
    "\n",
    "plt.barh(y, values, height=0.4)\n",
    "# plt.barh(y, values, height=0.6)\n",
    "# plt.barh(y, values, height=0.8)\n",
    "# plt.barh(y, values, height=1.0)\n",
    "plt.yticks(y, years)\n",
    "\n",
    "plt.show()"
   ]
  },
  {
   "cell_type": "markdown",
   "id": "f182aa25",
   "metadata": {},
   "source": [
    "### 스타일 꾸미기"
   ]
  },
  {
   "cell_type": "code",
   "execution_count": 13,
   "id": "37f1523d",
   "metadata": {},
   "outputs": [
    {
     "data": {
      "image/png": "[encoded data removed]",
      "text/plain": [
       "<Figure size 640x480 with 1 Axes>"
      ]
     },
     "metadata": {},
     "output_type": "display_data"
    }
   ],
   "source": [
    "y = np.arange(3)\n",
    "years = ['2018', '2019', '2020']\n",
    "values = [100, 400, 900]\n",
    "\n",
    "plt.barh(y, values, align='edge', edgecolor='#eee',\n",
    "         linewidth=5, tick_label=years)\n",
    "\n",
    "plt.show()"
   ]
  },
  {
   "cell_type": "markdown",
   "id": "aa0d7d25-eecc-4115-8228-f060dab2d729",
   "metadata": {},
   "source": [
    "### 막대차트에 값표시"
   ]
  },
  {
   "cell_type": "code",
   "execution_count": 1,
   "id": "447978bd",
   "metadata": {},
   "outputs": [
    {
     "data": {
      "image/png": "[encoded data removed]",
      "text/plain": [
       "<Figure size 640x480 with 1 Axes>"
      ]
     },
     "metadata": {},
     "output_type": "display_data"
    }
   ],
   "source": [
    "import matplotlib.pyplot as plt\n",
    "\n",
    "# 데이터\n",
    "categories = ['A', 'B', 'C', 'D', 'E']\n",
    "values = [23, 45, 56, 78, 89]\n",
    "\n",
    "# 막대 그래프 생성\n",
    "# fig: 그림, ax: 축 객체\n",
    "fig, ax = plt.subplots()\n",
    "bars = ax.bar(categories, values)\n",
    "\n",
    "# 각 막대 위에 값 표시\n",
    "ax.bar_label(bars, fmt='%d', label_type='edge')\n",
    "\n",
    "# 그래프 제목 및 레이블 설정\n",
    "ax.set_title('Sample Bar Chart with Values')\n",
    "ax.set_xlabel('Category')\n",
    "ax.set_ylabel('Value')\n",
    "\n",
    "# 그래프 표시\n",
    "plt.show()"
   ]
  },
  {
   "cell_type": "markdown",
   "id": "90547427-7a6c-4195-8bbf-acf0a80aab67",
   "metadata": {},
   "source": [
    "* bar 정중앙에 값 표시"
   ]
  },
  {
   "cell_type": "code",
   "execution_count": 3,
   "id": "58797fbc",
   "metadata": {},
   "outputs": [
    {
     "data": {
      "image/png": "[encoded data removed]",
      "text/plain": [
       "<Figure size 640x480 with 1 Axes>"
      ]
     },
     "metadata": {},
     "output_type": "display_data"
    }
   ],
   "source": [
    "import matplotlib.pyplot as plt\n",
    "\n",
    "# 데이터\n",
    "categories = ['A', 'B', 'C', 'D', 'E']\n",
    "values = [23, 45, 56, 78, 89]\n",
    "\n",
    "# 막대 그래프 생성\n",
    "fig, ax = plt.subplots()\n",
    "bars = ax.bar(categories, values)\n",
    "\n",
    "# 각 막대 내부의 정중앙에 값 표시\n",
    "ax.bar_label(bars, fmt='%d', label_type='center', padding=0)\n",
    "\n",
    "# 그래프 제목 및 레이블 설정\n",
    "ax.set_title('Sample Bar Chart with Centered Values')\n",
    "ax.set_xlabel('Category')\n",
    "ax.set_ylabel('Value')\n",
    "\n",
    "# 그래프 표시\n",
    "plt.show()"
   ]
  },
  {
   "cell_type": "code",
   "execution_count": null,
   "id": "78748cc7",
   "metadata": {},
   "outputs": [],
   "source": []
  },
  {
   "cell_type": "code",
   "execution_count": null,
   "id": "3fbdd41b",
   "metadata": {},
   "outputs": [],
   "source": []
  }
 ],
 "metadata": {
  "kernelspec": {
   "display_name": "Python 3 (ipykernel)",
   "language": "python",
   "name": "python3"
  },
  "language_info": {
   "codemirror_mode": {
    "name": "ipython",
    "version": 3
   },
   "file_extension": ".py",
   "mimetype": "text/x-python",
   "name": "python",
   "nbconvert_exporter": "python",
   "pygments_lexer": "ipython3",
   "version": "3.11.7"
  }
 },
 "nbformat": 4,
 "nbformat_minor": 5
}
