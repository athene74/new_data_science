{
 "cells": [
  {
   "cell_type": "markdown",
   "id": "876f2ab1-1021-42af-a42d-ce850067681c",
   "metadata": {},
   "source": [
    "# 제목크기 설정"
   ]
  },
  {
   "cell_type": "code",
   "execution_count": 2,
   "id": "8052f7dd-39e9-4ff3-b6ed-85ccbdbabb03",
   "metadata": {},
   "outputs": [],
   "source": [
    "# 첫 번째 큰 제목\n",
    "##  두 번째 큰 제목\n",
    "###  세 번째 큰 제목\n",
    "####  네 번째 큰 제목\n",
    "#####  다섯 번째 큰 제목\n",
    "######  여섯 번째 큰 제목"
   ]
  },
  {
   "cell_type": "markdown",
   "id": "820092e3-56a6-4ad9-8bdc-8f09ebb4be51",
   "metadata": {},
   "source": [
    "# 첫 번째 큰 제목\n",
    "##  두 번째 큰 제목\n",
    "###  세 번째 큰 제목\n",
    "####  네 번째 큰 제목\n",
    "#####  다섯 번째 큰 제목\n",
    "######  여섯 번째 큰 제목"
   ]
  },
  {
   "cell_type": "markdown",
   "id": "8391b8a0-89dc-46c1-963d-ddf4dc12b1f6",
   "metadata": {},
   "source": [
    "# 단축키 (1~6)으로 크기 변경"
   ]
  },
  {
   "cell_type": "markdown",
   "id": "5e19f1cd-48cf-470f-b9ed-cb2b72e1ef18",
   "metadata": {},
   "source": [
    "##### 이 문장의 크기를 단축키로 바꿔보세요"
   ]
  },
  {
   "cell_type": "markdown",
   "id": "7147d614-a8e5-4ad7-b124-936e4d41c21b",
   "metadata": {},
   "source": [
    "# 줄 바꾸기\n",
    "각 줄마다 공백문자 2개를 추가한다."
   ]
  },
  {
   "cell_type": "markdown",
   "id": "ba997d5c-a87b-4edc-b8bc-98efd1ef29d6",
   "metadata": {},
   "source": [
    "동해물과 백두산이  \n",
    "마르고 닳도록  \n",
    "하느님이 보우하사  \n",
    "우리나라만세  "
   ]
  },
  {
   "cell_type": "markdown",
   "id": "1a527c2e-3a55-4e28-b7d9-1d78b22a753a",
   "metadata": {},
   "source": [
    "# 셀의 종류"
   ]
  },
  {
   "cell_type": "markdown",
   "id": "8cb6d1cf-6a97-42da-bc80-3149f40bd5aa",
   "metadata": {},
   "source": [
    "### Code 타입 셀"
   ]
  },
  {
   "cell_type": "code",
   "execution_count": 3,
   "id": "97585917-49f8-41fa-a0f6-827feeff5711",
   "metadata": {},
   "outputs": [],
   "source": [
    "num1 = 1"
   ]
  },
  {
   "cell_type": "code",
   "execution_count": 4,
   "id": "4f30c827-69e3-4df4-94ae-a0702e88da68",
   "metadata": {},
   "outputs": [],
   "source": [
    "num2 = 2"
   ]
  },
  {
   "cell_type": "code",
   "execution_count": 5,
   "id": "fc692e61-b78a-45e4-85c1-7a08b3ecaff9",
   "metadata": {},
   "outputs": [
    {
     "data": {
      "text/plain": [
       "3"
      ]
     },
     "execution_count": 5,
     "metadata": {},
     "output_type": "execute_result"
    }
   ],
   "source": [
    "num1+num2"
   ]
  },
  {
   "cell_type": "markdown",
   "id": "491665ea-aa83-45d1-b688-f0d8268ca1db",
   "metadata": {},
   "source": [
    "### Raw 타입 셀"
   ]
  },
  {
   "cell_type": "raw",
   "id": "d118fd36-1029-450e-ac6b-e52fe34a8938",
   "metadata": {},
   "source": [
    "Raw 타입 셀은 텍스트를 그대로 인식한다."
   ]
  },
  {
   "cell_type": "markdown",
   "id": "682b1d55-672c-4051-b860-a8eb9951f23b",
   "metadata": {},
   "source": [
    "### 수평선 문법을 Raw 셀로 표현"
   ]
  },
  {
   "cell_type": "raw",
   "id": "f835c0a0-1dcf-4857-8a82-6c721f567050",
   "metadata": {},
   "source": [
    "수평선 그리는 양식\n",
    "***\n",
    "---"
   ]
  },
  {
   "cell_type": "markdown",
   "id": "5af66537-57ad-4a68-bcf6-5e69d819ca8e",
   "metadata": {},
   "source": [
    "***"
   ]
  },
  {
   "cell_type": "markdown",
   "id": "9d405314-da8b-4196-af90-8ffeea43c8ef",
   "metadata": {},
   "source": [
    "### 마크다운 타입 셀"
   ]
  },
  {
   "cell_type": "markdown",
   "id": "76cd7399-5fcd-4338-a835-e0b39d9c48b9",
   "metadata": {},
   "source": [
    "셀에 마크다운 문법을 적용해 다양한 문서 효과를 적용할 수 있다."
   ]
  },
  {
   "cell_type": "markdown",
   "id": "4915ea47-d98c-469c-a483-93361890c547",
   "metadata": {},
   "source": [
    "# 목록(블릿)"
   ]
  },
  {
   "cell_type": "markdown",
   "id": "da3c155b-7d72-483a-bd01-5da015da54c7",
   "metadata": {},
   "source": [
    "### 기본문법"
   ]
  },
  {
   "cell_type": "raw",
   "id": "825795df-d62b-4f90-9288-d30ae7860a45",
   "metadata": {},
   "source": [
    "+ 첫번째\n",
    "+ 두번째\n",
    "+ 세번째\n",
    "\n",
    "\n",
    "- 첫번째\n",
    "- 두번째\n",
    "- 세번째\n",
    "\n",
    "\n",
    "* 첫번째\n",
    "* 두번째\n",
    "* 세번째\n"
   ]
  },
  {
   "cell_type": "markdown",
   "id": "0879a41a-3508-4cde-8cff-a6378e87704d",
   "metadata": {},
   "source": [
    "+ 첫번째\n",
    "+ 두번째\n",
    "+ 세번째\n",
    "\n",
    "\n",
    "- 첫번째\n",
    "- 두번째\n",
    "- 세번째\n",
    "\n",
    "\n",
    "* 첫번째\n",
    "* 두번째\n",
    "* 세번째"
   ]
  },
  {
   "cell_type": "markdown",
   "id": "2e8f8c9b-d111-4dbb-8f2f-f920993ab5eb",
   "metadata": {},
   "source": [
    "### Depth별 블릿 기호"
   ]
  },
  {
   "cell_type": "raw",
   "id": "d15f6239-0788-4835-97e4-b90581e95176",
   "metadata": {},
   "source": [
    "+ 첫번째\n",
    "    + 두번째\n",
    "        + 세번째\n",
    "\n",
    "\n",
    "- 첫번째\n",
    "    - 두번째\n",
    "        - 세번째\n",
    "\n",
    "\n",
    "* 첫번째\n",
    "    * 두번째\n",
    "        * 세번째"
   ]
  },
  {
   "cell_type": "markdown",
   "id": "8fdba01d-e544-403b-b5be-a8ab7a59cd9f",
   "metadata": {},
   "source": [
    "+ 첫번째\n",
    "    + 두번째\n",
    "        + 세번째\n",
    "\n",
    "\n",
    "- 첫번째\n",
    "    - 두번째\n",
    "        - 세번째\n",
    "\n",
    "\n",
    "* 첫번째\n",
    "    * 두번째\n",
    "        * 세번째"
   ]
  },
  {
   "cell_type": "markdown",
   "id": "a5d1fdec-3509-47da-8f42-33ac5b669e4a",
   "metadata": {},
   "source": [
    "# 글씨 효과"
   ]
  },
  {
   "cell_type": "raw",
   "id": "5e56b7fb-3fa0-4b5d-80d0-bdea4e7d4cde",
   "metadata": {},
   "source": [
    "*기울어진 글씨*\n",
    "_기울어진 글씨_  \n",
    "**굵은 글씨**  \n",
    "__굵은 글씨__  \n",
    "~~줄그어진 글씨~~\n"
   ]
  },
  {
   "cell_type": "markdown",
   "id": "c4566583-e3f8-4851-b25a-cc5e73650b47",
   "metadata": {},
   "source": [
    "*기울어진 글씨*  *기울어진 글씨2*  \n",
    "_기울어진 글씨_  _기울어진 글씨2_  \n",
    "**굵은 글씨**  **굵은 글씨**  \n",
    "__굵은 글씨__  __굵은 글씨__  \n",
    "~~줄그어진 글씨~~  ~~줄그어진 글씨~~"
   ]
  },
  {
   "cell_type": "markdown",
   "id": "a5234725-5c1a-4756-a11b-c4ec8d3a9c11",
   "metadata": {},
   "source": [
    "# 하이퍼링크"
   ]
  },
  {
   "cell_type": "raw",
   "id": "0445ed35-4409-4f1a-85aa-426b20df5a37",
   "metadata": {},
   "source": [
    "[홈페이지 이동](URL)\n",
    "예)\n",
    "[네이버](http://www.naver.com)"
   ]
  },
  {
   "cell_type": "markdown",
   "id": "94bbc9bd-f825-4a77-93ca-a752519c2d6e",
   "metadata": {},
   "source": [
    "[네이버](http://www.naver.com)"
   ]
  },
  {
   "cell_type": "markdown",
   "id": "75be7747-bdfa-437d-8fb9-ae346acb8b29",
   "metadata": {},
   "source": [
    "# 테이블"
   ]
  },
  {
   "cell_type": "code",
   "execution_count": null,
   "id": "6423fad9-4f4a-4cca-86a7-2335388315fe",
   "metadata": {},
   "outputs": [],
   "source": [
    "아래와 같이 입력하면 테이블 형태로 표시"
   ]
  },
  {
   "cell_type": "raw",
   "id": "618c1925-6b00-4d5d-bd24-b88af71329c9",
   "metadata": {},
   "source": [
    "| 이름 | 국어성적 | 영어성적 | 수학성적 |  \n",
    "|------|---------|----------|----------|   \n",
    "|홍길동|    90    |    79   |    85   | \n",
    "|이순신|    90    |    79   |    85   |  \n",
    "|임꺽정|    90    |    79   |    85   |"
   ]
  },
  {
   "cell_type": "markdown",
   "id": "995f4a28-07d4-4933-a3aa-5c3629ae3ed9",
   "metadata": {},
   "source": [
    "| 이름 | 국어성적 | 영어성적 | 수학성적 |  \n",
    "|------|---------|----------|----------|   \n",
    "|홍길동|    90    |    79   |    85   | \n",
    "|이순신|    90    |    79   |    85   |  \n",
    "|임꺽정|    90    |    79   |    85   |"
   ]
  },
  {
   "cell_type": "markdown",
   "id": "9f6e8dde-0ada-4272-b34d-5eeeab2ec3eb",
   "metadata": {},
   "source": [
    "### HTML코드"
   ]
  },
  {
   "cell_type": "raw",
   "id": "f7fb881b-3f60-4103-abe8-363c7683be70",
   "metadata": {},
   "source": [
    "<span style=\"color:red\"> 빨간색 글씨 </span>  \n",
    "<span style=\"color:blue\"> 파란색 글씨 </span>  \n",
    "<span style=\"color:#F8766D\"> 색상코드의 글씨 </span>  "
   ]
  },
  {
   "cell_type": "markdown",
   "id": "1f4f6263-a33b-45aa-9735-3c21cac7e761",
   "metadata": {},
   "source": [
    "<span style=\"color:red\"> 빨간색 글씨 </span>  \n",
    "<span style=\"color:blue\"> 파란색 글씨 </span>  \n",
    "<span style=\"color:#F8766D\"> 색상코드의 글씨 </span>"
   ]
  },
  {
   "cell_type": "markdown",
   "id": "563e298c-c5fb-45a7-bab9-4806ce822982",
   "metadata": {},
   "source": [
    "### 테이블 예제"
   ]
  },
  {
   "cell_type": "raw",
   "id": "edd97b62-5368-4192-b168-9ee35892723c",
   "metadata": {},
   "source": [
    "<table border=\"\">\n",
    "    <th>이름</th> <th>나이</th>\n",
    "    <tr>\n",
    "        <td>서동준</td>\n",
    "        <td>27</td>\n",
    "    </tr>\n",
    "    <tr>\n",
    "        <td>남효정</td>\n",
    "        <td>28</td>\n",
    "    </tr>\n",
    "    <tr>\n",
    "        <td>강명훈</td>\n",
    "        <td>28</td>\n",
    "    </tr>\n",
    "    <tr>\n",
    "        <td>곽한솔</td>\n",
    "        <td>28</td>\n",
    "    </tr>\n",
    "    <tr>\n",
    "        <td>권혁준</td>\n",
    "        <td>28</td>\n",
    "    </tr>\n",
    "    <tr>\n",
    "        <td>김해민</td>\n",
    "        <td>28</td>\n",
    "    </tr>\n",
    "    <tr>\n",
    "        <td>성원석</td>\n",
    "        <td>28</td>\n",
    "    </tr>\n",
    "    <tr>\n",
    "        <td>윤준영</td>\n",
    "        <td>28</td>\n",
    "    </tr>\n",
    "    <tr>\n",
    "        <td>이재우</td>\n",
    "        <td>28</td>\n",
    "    </tr>\n",
    "    <tr>\n",
    "        <td>이종달</td>\n",
    "        <td>28</td>\n",
    "    </tr>\n",
    "    <tr>\n",
    "        <td>이지원</td>\n",
    "        <td>28</td>\n",
    "    </tr>\n",
    "    <tr>\n",
    "        <td>이창하</td>\n",
    "        <td>28</td>\n",
    "    </tr>\n",
    "    <tr>\n",
    "        <td>최태원</td>\n",
    "        <td>28</td>\n",
    "    </tr>\n",
    "    \n",
    "</table>"
   ]
  },
  {
   "cell_type": "markdown",
   "id": "b97b782a-0552-4cd1-be0a-4745b4e6befe",
   "metadata": {},
   "source": [
    "<table border=\"\">\n",
    "    <th>이름</th> <th>나이</th>\n",
    "    <tr>\n",
    "        <td>서동준</td>\n",
    "        <td>27</td>\n",
    "    </tr>\n",
    "    <tr>\n",
    "        <td>남효정</td>\n",
    "        <td>28</td>\n",
    "    </tr>\n",
    "    <tr>\n",
    "        <td>강명훈</td>\n",
    "        <td>28</td>\n",
    "    </tr>\n",
    "    <tr>\n",
    "        <td>곽한솔</td>\n",
    "        <td>28</td>\n",
    "    </tr>\n",
    "    <tr>\n",
    "        <td>권혁준</td>\n",
    "        <td>28</td>\n",
    "    </tr>\n",
    "    <tr>\n",
    "        <td>김해민</td>\n",
    "        <td>28</td>\n",
    "    </tr>\n",
    "    <tr>\n",
    "        <td>성원석</td>\n",
    "        <td>28</td>\n",
    "    </tr>\n",
    "    <tr>\n",
    "        <td>윤준영</td>\n",
    "        <td>28</td>\n",
    "    </tr>\n",
    "    <tr>\n",
    "        <td>이재우</td>\n",
    "        <td>28</td>\n",
    "    </tr>\n",
    "    <tr>\n",
    "        <td>이종달</td>\n",
    "        <td>28</td>\n",
    "    </tr>\n",
    "    <tr>\n",
    "        <td>이지원</td>\n",
    "        <td>28</td>\n",
    "    </tr>\n",
    "    <tr>\n",
    "        <td>이창하</td>\n",
    "        <td>28</td>\n",
    "    </tr>\n",
    "    <tr>\n",
    "        <td>최태원</td>\n",
    "        <td>28</td>\n",
    "    </tr>\n",
    "    \n",
    "</table>"
   ]
  },
  {
   "cell_type": "code",
   "execution_count": null,
   "id": "fea40122-f569-486b-8930-2c815e331d10",
   "metadata": {},
   "outputs": [],
   "source": []
  }
 ],
 "metadata": {
  "kernelspec": {
   "display_name": "Python 3 (ipykernel)",
   "language": "python",
   "name": "python3"
  },
  "language_info": {
   "codemirror_mode": {
    "name": "ipython",
    "version": 3
   },
   "file_extension": ".py",
   "mimetype": "text/x-python",
   "name": "python",
   "nbconvert_exporter": "python",
   "pygments_lexer": "ipython3",
   "version": "3.11.7"
  }
 },
 "nbformat": 4,
 "nbformat_minor": 5
}
