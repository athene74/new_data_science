{
 "cells": [
  {
   "cell_type": "markdown",
   "id": "4ebc9eea-8650-48b0-88f0-01f76177a878",
   "metadata": {},
   "source": [
    "# JSON 구조를 보며 계층 구조 별 KEY 값으로 VALUE 값을 구해본다."
   ]
  },
  {
   "cell_type": "code",
   "execution_count": 4,
   "id": "1d0c7c8f-3200-46a3-a458-563d3a0c3b02",
   "metadata": {},
   "outputs": [
    {
     "data": {
      "text/plain": [
       "{'note': {'date': '20240320',\n",
       "  'method': 'gmail',\n",
       "  'to': '강연배',\n",
       "  'from': 'all',\n",
       "  'heading': '3차 프로젝트 Kick Off 모임 일정',\n",
       "  'Body': '4월 4일 저녁 8시, 장소: 마포갈매기'}}"
      ]
     },
     "execution_count": 4,
     "metadata": {},
     "output_type": "execute_result"
    }
   ],
   "source": [
    "k_note= {\n",
    "    'note':{\n",
    "        'date':'20240320',\n",
    "        'method':'gmail',\n",
    "        'to':'강연배',\n",
    "        'from':'all',\n",
    "        'heading':'3차 프로젝트 Kick Off 모임 일정',\n",
    "        'Body':'4월 4일 저녁 8시, 장소: 마포갈매기'\n",
    "    }\n",
    "}\n",
    "k_note"
   ]
  },
  {
   "cell_type": "code",
   "execution_count": 5,
   "id": "9364c987-e3c4-4757-acc1-a4f26ccf4e7d",
   "metadata": {},
   "outputs": [
    {
     "data": {
      "text/plain": [
       "{'date': '20240320',\n",
       " 'method': 'gmail',\n",
       " 'to': '강연배',\n",
       " 'from': 'all',\n",
       " 'heading': '3차 프로젝트 Kick Off 모임 일정',\n",
       " 'Body': '4월 4일 저녁 8시, 장소: 마포갈매기'}"
      ]
     },
     "execution_count": 5,
     "metadata": {},
     "output_type": "execute_result"
    }
   ],
   "source": [
    "k_note['note'] "
   ]
  },
  {
   "cell_type": "code",
   "execution_count": 7,
   "id": "f84a3c19-8c2f-482b-bf37-81174695e0ce",
   "metadata": {},
   "outputs": [
    {
     "data": {
      "text/plain": [
       "'강연배'"
      ]
     },
     "execution_count": 7,
     "metadata": {},
     "output_type": "execute_result"
    }
   ],
   "source": [
    "k_note['note']['to']"
   ]
  },
  {
   "cell_type": "code",
   "execution_count": 8,
   "id": "e381b38f-f26a-493d-8927-ba4988834c41",
   "metadata": {},
   "outputs": [
    {
     "name": "stdout",
     "output_type": "stream",
     "text": [
      "강연배\n"
     ]
    }
   ],
   "source": [
    "print(k_note['note']['to'])"
   ]
  },
  {
   "cell_type": "code",
   "execution_count": 10,
   "id": "86e577fd-1fd2-4a38-892d-0e8b5a36f627",
   "metadata": {},
   "outputs": [
    {
     "name": "stdout",
     "output_type": "stream",
     "text": [
      "20240320\n",
      "gmail\n",
      "강연배\n",
      "all\n",
      "3차 프로젝트 Kick Off 모임 일정\n",
      "4월 4일 저녁 8시, 장소: 마포갈매기\n"
     ]
    }
   ],
   "source": [
    "print(k_note['note']['date'])\n",
    "print(k_note['note']['method'])\n",
    "print(k_note['note']['to'])\n",
    "print(k_note['note']['from'])\n",
    "print(k_note['note']['heading'])\n",
    "print(k_note['note']['Body'])\n"
   ]
  },
  {
   "cell_type": "markdown",
   "id": "5a0dfcd9-4bce-4855-bee1-aceff62ac296",
   "metadata": {},
   "source": [
    "# 중첩된 딕셔너리 값을 파싱하기"
   ]
  },
  {
   "cell_type": "code",
   "execution_count": 11,
   "id": "079308ec-5d86-4910-913c-a580ba14a512",
   "metadata": {},
   "outputs": [
    {
     "data": {
      "text/plain": [
       "{'note': {'date': '20240320',\n",
       "  'method': 'gmail',\n",
       "  'to': '강연배',\n",
       "  'from': 'all',\n",
       "  'heading': '3차 프로젝트 Kick Off 모임 일정',\n",
       "  'Body': '4월 4일 저녁 8시, 장소: 마포갈매기'}}"
      ]
     },
     "execution_count": 11,
     "metadata": {},
     "output_type": "execute_result"
    }
   ],
   "source": [
    "k_note"
   ]
  },
  {
   "cell_type": "markdown",
   "id": "145bc597-b672-4c11-bfa9-6867c26b0a2b",
   "metadata": {},
   "source": [
    "## Key 값 자동으로 파싱하기"
   ]
  },
  {
   "cell_type": "code",
   "execution_count": 12,
   "id": "e62729d0-e5b6-4359-8322-ebefde318cea",
   "metadata": {},
   "outputs": [
    {
     "name": "stdout",
     "output_type": "stream",
     "text": [
      "date\n",
      "method\n",
      "to\n",
      "from\n",
      "heading\n",
      "Body\n"
     ]
    }
   ],
   "source": [
    "for child_key in k_note['note']:\n",
    "    print(child_key)"
   ]
  },
  {
   "cell_type": "markdown",
   "id": "8d4f22ad-55e2-478c-a9d6-f6a62f631f79",
   "metadata": {},
   "source": [
    "## Value 값 자동 파싱"
   ]
  },
  {
   "cell_type": "code",
   "execution_count": 16,
   "id": "22e1d112-b0c6-4b38-9361-f6d6e761feea",
   "metadata": {},
   "outputs": [
    {
     "name": "stdout",
     "output_type": "stream",
     "text": [
      "20240320\n",
      "gmail\n",
      "강연배\n",
      "all\n",
      "3차 프로젝트 Kick Off 모임 일정\n",
      "4월 4일 저녁 8시, 장소: 마포갈매기\n"
     ]
    }
   ],
   "source": [
    "# k_note['note']['method']\n",
    "for child_key in k_note['note']:\n",
    "    print(k_note['note'][child_key])"
   ]
  },
  {
   "cell_type": "code",
   "execution_count": null,
   "id": "7850181d-4342-4d06-9dff-77e2353e2087",
   "metadata": {},
   "outputs": [],
   "source": []
  },
  {
   "cell_type": "code",
   "execution_count": null,
   "id": "1eb0e72a-cb64-4a96-8357-57844d125dda",
   "metadata": {},
   "outputs": [],
   "source": []
  }
 ],
 "metadata": {
  "kernelspec": {
   "display_name": "Python 3 (ipykernel)",
   "language": "python",
   "name": "python3"
  },
  "language_info": {
   "codemirror_mode": {
    "name": "ipython",
    "version": 3
   },
   "file_extension": ".py",
   "mimetype": "text/x-python",
   "name": "python",
   "nbconvert_exporter": "python",
   "pygments_lexer": "ipython3",
   "version": "3.11.7"
  }
 },
 "nbformat": 4,
 "nbformat_minor": 5
}
