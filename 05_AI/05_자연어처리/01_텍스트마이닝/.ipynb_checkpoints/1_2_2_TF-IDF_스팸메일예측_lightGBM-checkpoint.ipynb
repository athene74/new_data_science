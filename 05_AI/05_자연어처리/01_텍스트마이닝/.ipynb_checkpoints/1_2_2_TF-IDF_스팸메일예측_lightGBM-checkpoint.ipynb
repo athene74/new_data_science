{
 "cells": [
  {
   "cell_type": "code",
   "execution_count": 30,
   "id": "848d731f-d67e-4bb4-ad79-1f7d58f61d18",
   "metadata": {},
   "outputs": [],
   "source": [
    "import pickle\n",
    "import lightgbm as lgb\n",
    "import numpy as np\n",
    "from sklearn.metrics import accuracy_score\n",
    "\n",
    "# 바이너리 데이터를 읽어들이는 옵션\n",
    "with open('processed.pickle', 'rb') as file_handle:\n",
    "    vocabulary, features, labels = pickle.load(file_handle)\n",
    "\n",
    "# 학습-테스트 데이터 나누기\n",
    "total_number = len(labels)\n",
    "middle_index = total_number // 2\n",
    "train_features = features[:middle_index, :]\n",
    "train_labels = labels[:middle_index]\n",
    "test_features = features[middle_index:, :]\n",
    "test_labels = labels[middle_index:]\n",
    "\n",
    "# LightGBM 모델 학습\n",
    "d_train = lgb.Dataset(train_features, label=train_labels)\n",
    "params = {\n",
    "    'objective': 'binary',\n",
    "    'metric': 'binary_logloss',\n",
    "    'boosting_type': 'gbdt',\n",
    "    'learning_rate': 0.1,\n",
    "    'num_leaves': 31,\n",
    "    'max_depth': -1,\n",
    "    'verbose': -1\n",
    "}\n",
    "\n",
    "# 모델 학습\n",
    "model = lgb.train(params, d_train, 100)  # 100 반복 학습"
   ]
  },
  {
   "cell_type": "code",
   "execution_count": null,
   "id": "b3a15d25-c3fd-46b3-9a7f-d2c9ad7ea09f",
   "metadata": {},
   "outputs": [],
   "source": []
  },
  {
   "cell_type": "code",
   "execution_count": 31,
   "id": "73b776cd-7eb0-4af0-9286-18dc5a3fec67",
   "metadata": {},
   "outputs": [
    {
     "name": "stdout",
     "output_type": "stream",
     "text": [
      "train accuracy: 1.0000\n"
     ]
    }
   ],
   "source": [
    "# 학습 정확도\n",
    "train_pred = model.predict(train_features)\n",
    "train_pred_int = (train_pred >= 0.5).astype(int)\n",
    "train_accuracy = accuracy_score(train_pred_int, train_labels)\n",
    "print('train accuracy: %4.4f' % train_accuracy)\n",
    "\n",
    "# 테스트 정확도\n",
    "test_pred = model.predict(test_features)"
   ]
  },
  {
   "cell_type": "code",
   "execution_count": 15,
   "id": "08a32cf7-0222-432a-8e1e-4fb74d88f0f7",
   "metadata": {},
   "outputs": [
    {
     "data": {
      "text/plain": [
       "[0, 0, 0, 0, 1]"
      ]
     },
     "execution_count": 15,
     "metadata": {},
     "output_type": "execute_result"
    }
   ],
   "source": [
    "test_labels[:5]"
   ]
  },
  {
   "cell_type": "code",
   "execution_count": 16,
   "id": "baff6e6b-96c9-410c-90c1-1d6e3582ea0b",
   "metadata": {},
   "outputs": [
    {
     "data": {
      "text/plain": [
       "array([2.30384754e-05, 4.06763161e-05, 3.15156401e-05, ...,\n",
       "       2.32577518e-05, 3.24311430e-02, 8.38624126e-05])"
      ]
     },
     "execution_count": 16,
     "metadata": {},
     "output_type": "execute_result"
    }
   ],
   "source": [
    "test_pred"
   ]
  },
  {
   "cell_type": "code",
   "execution_count": 17,
   "id": "67cdc54b-935d-4f0c-942e-a00e32ebc640",
   "metadata": {},
   "outputs": [
    {
     "data": {
      "text/plain": [
       "array([0, 0, 0, 0, 1, 0, 0, 0, 0, 0])"
      ]
     },
     "execution_count": 17,
     "metadata": {},
     "output_type": "execute_result"
    }
   ],
   "source": [
    "(test_pred >= 0.5).astype(int)[:10]"
   ]
  },
  {
   "cell_type": "code",
   "execution_count": 32,
   "id": "44ed0e61-8a02-4412-a137-c1e4e43f8ce3",
   "metadata": {},
   "outputs": [
    {
     "name": "stdout",
     "output_type": "stream",
     "text": [
      "test accuracy: 0.9756\n",
      "score 177 word: call\n",
      "score 106 word: for\n",
      "score 98 word: to\n",
      "score 93 word: your\n",
      "score 84 word: txt\n",
      "score 80 word: you\n",
      "score 79 word: now\n",
      "score 68 word: and\n",
      "score 61 word: me\n",
      "score 59 word: cost\n",
      "score 54 word: free\n",
      "score 54 word: service\n",
      "score 53 word: chat\n",
      "score 53 word: help\n",
      "score 51 word: sms\n",
      "score 51 word: uk\n",
      "score 50 word: claim\n",
      "score 48 word: reply\n",
      "score 48 word: text\n",
      "score 46 word: will\n"
     ]
    }
   ],
   "source": [
    "test_pred_int = (test_pred >= 0.5).astype(int)\n",
    "test_accuracy = accuracy_score(test_pred_int, test_labels)\n",
    "print('test accuracy: %4.4f' % test_accuracy)\n",
    "\n",
    "# 학습에 중요한 특성 찾기\n",
    "importance = model.feature_importance(importance_type='split')\n",
    "feature_importance = [(importance[i], vocabulary[i]) for i in range(len(vocabulary))]\n",
    "feature_importance.sort(key=lambda x: x[0], reverse=True)\n",
    "\n",
    "# 가장 중요한 특성 20개 출력\n",
    "for score, word in feature_importance[:20]:\n",
    "    print('score %d word: %s' % (score, word))"
   ]
  },
  {
   "cell_type": "code",
   "execution_count": null,
   "id": "e0236003-47db-441a-b896-71585217a37a",
   "metadata": {},
   "outputs": [],
   "source": []
  }
 ],
 "metadata": {
  "kernelspec": {
   "display_name": "Python 3 (ipykernel)",
   "language": "python",
   "name": "python3"
  },
  "language_info": {
   "codemirror_mode": {
    "name": "ipython",
    "version": 3
   },
   "file_extension": ".py",
   "mimetype": "text/x-python",
   "name": "python",
   "nbconvert_exporter": "python",
   "pygments_lexer": "ipython3",
   "version": "3.11.7"
  }
 },
 "nbformat": 4,
 "nbformat_minor": 5
}
