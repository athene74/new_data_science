{
 "cells": [
  {
   "cell_type": "code",
   "execution_count": 53,
   "id": "e53a7739-38c8-4084-a8e3-aaf2941c84dc",
   "metadata": {},
   "outputs": [],
   "source": [
    "import cx_Oracle"
   ]
  },
  {
   "cell_type": "code",
   "execution_count": 54,
   "id": "a78fdc8a-b0d0-43da-91fc-09384ac5b096",
   "metadata": {},
   "outputs": [],
   "source": [
    "import pandas as pd"
   ]
  },
  {
   "cell_type": "code",
   "execution_count": 55,
   "id": "7f76aa21-1fc4-4039-bd3b-760dc7d62d74",
   "metadata": {},
   "outputs": [
    {
     "data": {
      "text/plain": [
       "<cx_Oracle.Connection to hr@192.168.0.4:1521/xe>"
      ]
     },
     "execution_count": 55,
     "metadata": {},
     "output_type": "execute_result"
    }
   ],
   "source": [
    "# conn = cx_Oracle.connect('hr/hr@localhost:1521/xe')\n",
    "# 내 컴퓨터\n",
    "conn = cx_Oracle.connect('hr/hr@192.168.0.4:1521/xe')\n",
    "\n",
    "# 팀원 컴퓨터\n",
    "# conn = cx_Oracle.connect('hr/hr@192.168.0.18:1521/xe')\n",
    "conn"
   ]
  },
  {
   "cell_type": "code",
   "execution_count": 56,
   "id": "7ffec6c2-6cb3-4a7a-bbd4-756f2469bfe1",
   "metadata": {},
   "outputs": [],
   "source": [
    "cur = conn.cursor()"
   ]
  },
  {
   "cell_type": "code",
   "execution_count": 57,
   "id": "809a5b03-24af-48f4-8ab7-a80967f26ede",
   "metadata": {},
   "outputs": [],
   "source": [
    "my_sql=\"select * from employees\""
   ]
  },
  {
   "cell_type": "code",
   "execution_count": 58,
   "id": "33eeb477-5b8e-469a-b277-85c63c3d678f",
   "metadata": {},
   "outputs": [
    {
     "data": {
      "text/plain": [
       "<cx_Oracle.Cursor on <cx_Oracle.Connection to hr@192.168.0.4:1521/xe>>"
      ]
     },
     "execution_count": 58,
     "metadata": {},
     "output_type": "execute_result"
    }
   ],
   "source": [
    "cur.execute(my_sql)\n",
    "cur"
   ]
  },
  {
   "cell_type": "code",
   "execution_count": 59,
   "id": "332ff068-a230-4318-baab-2b9f740416dc",
   "metadata": {
    "scrolled": true
   },
   "outputs": [
    {
     "data": {
      "text/html": [
       "<div>\n",
       "<style scoped>\n",
       "    .dataframe tbody tr th:only-of-type {\n",
       "        vertical-align: middle;\n",
       "    }\n",
       "\n",
       "    .dataframe tbody tr th {\n",
       "        vertical-align: top;\n",
       "    }\n",
       "\n",
       "    .dataframe thead th {\n",
       "        text-align: right;\n",
       "    }\n",
       "</style>\n",
       "<table border=\"1\" class=\"dataframe\">\n",
       "  <thead>\n",
       "    <tr style=\"text-align: right;\">\n",
       "      <th></th>\n",
       "      <th>0</th>\n",
       "      <th>1</th>\n",
       "      <th>2</th>\n",
       "      <th>3</th>\n",
       "      <th>4</th>\n",
       "      <th>5</th>\n",
       "      <th>6</th>\n",
       "      <th>7</th>\n",
       "      <th>8</th>\n",
       "      <th>9</th>\n",
       "      <th>10</th>\n",
       "    </tr>\n",
       "  </thead>\n",
       "  <tbody>\n",
       "    <tr>\n",
       "      <th>0</th>\n",
       "      <td>100</td>\n",
       "      <td>Steven</td>\n",
       "      <td>King</td>\n",
       "      <td>SKING</td>\n",
       "      <td>515.123.4567</td>\n",
       "      <td>2003-06-17</td>\n",
       "      <td>AD_PRES</td>\n",
       "      <td>24000.0</td>\n",
       "      <td>NaN</td>\n",
       "      <td>NaN</td>\n",
       "      <td>90.0</td>\n",
       "    </tr>\n",
       "    <tr>\n",
       "      <th>1</th>\n",
       "      <td>101</td>\n",
       "      <td>Neena</td>\n",
       "      <td>Kochhar</td>\n",
       "      <td>NKOCHHAR</td>\n",
       "      <td>515.123.4568</td>\n",
       "      <td>2005-09-21</td>\n",
       "      <td>AD_VP</td>\n",
       "      <td>17000.0</td>\n",
       "      <td>NaN</td>\n",
       "      <td>100.0</td>\n",
       "      <td>90.0</td>\n",
       "    </tr>\n",
       "    <tr>\n",
       "      <th>2</th>\n",
       "      <td>102</td>\n",
       "      <td>Lex</td>\n",
       "      <td>De Haan</td>\n",
       "      <td>LDEHAAN</td>\n",
       "      <td>515.123.4569</td>\n",
       "      <td>2001-01-13</td>\n",
       "      <td>AD_VP</td>\n",
       "      <td>17000.0</td>\n",
       "      <td>NaN</td>\n",
       "      <td>100.0</td>\n",
       "      <td>90.0</td>\n",
       "    </tr>\n",
       "    <tr>\n",
       "      <th>3</th>\n",
       "      <td>103</td>\n",
       "      <td>Alexander</td>\n",
       "      <td>Hunold</td>\n",
       "      <td>AHUNOLD</td>\n",
       "      <td>590.423.4567</td>\n",
       "      <td>2006-01-03</td>\n",
       "      <td>IT_PROG</td>\n",
       "      <td>9000.0</td>\n",
       "      <td>NaN</td>\n",
       "      <td>102.0</td>\n",
       "      <td>60.0</td>\n",
       "    </tr>\n",
       "    <tr>\n",
       "      <th>4</th>\n",
       "      <td>104</td>\n",
       "      <td>Bruce</td>\n",
       "      <td>Ernst</td>\n",
       "      <td>BERNST</td>\n",
       "      <td>590.423.4568</td>\n",
       "      <td>2007-05-21</td>\n",
       "      <td>IT_PROG</td>\n",
       "      <td>6000.0</td>\n",
       "      <td>NaN</td>\n",
       "      <td>103.0</td>\n",
       "      <td>60.0</td>\n",
       "    </tr>\n",
       "    <tr>\n",
       "      <th>...</th>\n",
       "      <td>...</td>\n",
       "      <td>...</td>\n",
       "      <td>...</td>\n",
       "      <td>...</td>\n",
       "      <td>...</td>\n",
       "      <td>...</td>\n",
       "      <td>...</td>\n",
       "      <td>...</td>\n",
       "      <td>...</td>\n",
       "      <td>...</td>\n",
       "      <td>...</td>\n",
       "    </tr>\n",
       "    <tr>\n",
       "      <th>102</th>\n",
       "      <td>202</td>\n",
       "      <td>Pat</td>\n",
       "      <td>Fay</td>\n",
       "      <td>PFAY</td>\n",
       "      <td>603.123.6666</td>\n",
       "      <td>2005-08-17</td>\n",
       "      <td>MK_REP</td>\n",
       "      <td>6000.0</td>\n",
       "      <td>NaN</td>\n",
       "      <td>201.0</td>\n",
       "      <td>20.0</td>\n",
       "    </tr>\n",
       "    <tr>\n",
       "      <th>103</th>\n",
       "      <td>203</td>\n",
       "      <td>Susan</td>\n",
       "      <td>Mavris</td>\n",
       "      <td>SMAVRIS</td>\n",
       "      <td>515.123.7777</td>\n",
       "      <td>2002-06-07</td>\n",
       "      <td>HR_REP</td>\n",
       "      <td>6500.0</td>\n",
       "      <td>NaN</td>\n",
       "      <td>101.0</td>\n",
       "      <td>40.0</td>\n",
       "    </tr>\n",
       "    <tr>\n",
       "      <th>104</th>\n",
       "      <td>204</td>\n",
       "      <td>Hermann</td>\n",
       "      <td>Baer</td>\n",
       "      <td>HBAER</td>\n",
       "      <td>515.123.8888</td>\n",
       "      <td>2002-06-07</td>\n",
       "      <td>PR_REP</td>\n",
       "      <td>10000.0</td>\n",
       "      <td>NaN</td>\n",
       "      <td>101.0</td>\n",
       "      <td>70.0</td>\n",
       "    </tr>\n",
       "    <tr>\n",
       "      <th>105</th>\n",
       "      <td>205</td>\n",
       "      <td>Shelley</td>\n",
       "      <td>Higgins</td>\n",
       "      <td>SHIGGINS</td>\n",
       "      <td>515.123.8080</td>\n",
       "      <td>2002-06-07</td>\n",
       "      <td>AC_MGR</td>\n",
       "      <td>12008.0</td>\n",
       "      <td>NaN</td>\n",
       "      <td>101.0</td>\n",
       "      <td>110.0</td>\n",
       "    </tr>\n",
       "    <tr>\n",
       "      <th>106</th>\n",
       "      <td>206</td>\n",
       "      <td>William</td>\n",
       "      <td>Gietz</td>\n",
       "      <td>WGIETZ</td>\n",
       "      <td>515.123.8181</td>\n",
       "      <td>2002-06-07</td>\n",
       "      <td>AC_ACCOUNT</td>\n",
       "      <td>8300.0</td>\n",
       "      <td>NaN</td>\n",
       "      <td>205.0</td>\n",
       "      <td>110.0</td>\n",
       "    </tr>\n",
       "  </tbody>\n",
       "</table>\n",
       "<p>107 rows × 11 columns</p>\n",
       "</div>"
      ],
      "text/plain": [
       "      0          1        2         3             4          5           6   \\\n",
       "0    100     Steven     King     SKING  515.123.4567 2003-06-17     AD_PRES   \n",
       "1    101      Neena  Kochhar  NKOCHHAR  515.123.4568 2005-09-21       AD_VP   \n",
       "2    102        Lex  De Haan   LDEHAAN  515.123.4569 2001-01-13       AD_VP   \n",
       "3    103  Alexander   Hunold   AHUNOLD  590.423.4567 2006-01-03     IT_PROG   \n",
       "4    104      Bruce    Ernst    BERNST  590.423.4568 2007-05-21     IT_PROG   \n",
       "..   ...        ...      ...       ...           ...        ...         ...   \n",
       "102  202        Pat      Fay      PFAY  603.123.6666 2005-08-17      MK_REP   \n",
       "103  203      Susan   Mavris   SMAVRIS  515.123.7777 2002-06-07      HR_REP   \n",
       "104  204    Hermann     Baer     HBAER  515.123.8888 2002-06-07      PR_REP   \n",
       "105  205    Shelley  Higgins  SHIGGINS  515.123.8080 2002-06-07      AC_MGR   \n",
       "106  206    William    Gietz    WGIETZ  515.123.8181 2002-06-07  AC_ACCOUNT   \n",
       "\n",
       "          7   8      9      10  \n",
       "0    24000.0 NaN    NaN   90.0  \n",
       "1    17000.0 NaN  100.0   90.0  \n",
       "2    17000.0 NaN  100.0   90.0  \n",
       "3     9000.0 NaN  102.0   60.0  \n",
       "4     6000.0 NaN  103.0   60.0  \n",
       "..       ...  ..    ...    ...  \n",
       "102   6000.0 NaN  201.0   20.0  \n",
       "103   6500.0 NaN  101.0   40.0  \n",
       "104  10000.0 NaN  101.0   70.0  \n",
       "105  12008.0 NaN  101.0  110.0  \n",
       "106   8300.0 NaN  205.0  110.0  \n",
       "\n",
       "[107 rows x 11 columns]"
      ]
     },
     "execution_count": 59,
     "metadata": {},
     "output_type": "execute_result"
    }
   ],
   "source": [
    "df = pd.DataFrame(cur)\n",
    "df"
   ]
  },
  {
   "cell_type": "code",
   "execution_count": 60,
   "id": "fe50eece-495a-424f-aeac-424bc910da1c",
   "metadata": {},
   "outputs": [
    {
     "data": {
      "text/plain": [
       "<cx_Oracle.Connection to open_source@192.168.0.4:1521/xe>"
      ]
     },
     "execution_count": 60,
     "metadata": {},
     "output_type": "execute_result"
    }
   ],
   "source": [
    "conn = cx_Oracle.connect('open_source/1111@192.168.0.4:1521/xe')\n",
    "conn"
   ]
  },
  {
   "cell_type": "code",
   "execution_count": 61,
   "id": "7d4756a5-afd0-4c8e-97f8-f0459c5ab1f6",
   "metadata": {},
   "outputs": [],
   "source": [
    "cur = conn.cursor()"
   ]
  },
  {
   "cell_type": "code",
   "execution_count": 63,
   "id": "b28419df-fcf9-4ce7-a48b-4bdc8c672204",
   "metadata": {},
   "outputs": [
    {
     "data": {
      "text/html": [
       "<div>\n",
       "<style scoped>\n",
       "    .dataframe tbody tr th:only-of-type {\n",
       "        vertical-align: middle;\n",
       "    }\n",
       "\n",
       "    .dataframe tbody tr th {\n",
       "        vertical-align: top;\n",
       "    }\n",
       "\n",
       "    .dataframe thead th {\n",
       "        text-align: right;\n",
       "    }\n",
       "</style>\n",
       "<table border=\"1\" class=\"dataframe\">\n",
       "  <thead>\n",
       "    <tr style=\"text-align: right;\">\n",
       "      <th></th>\n",
       "    </tr>\n",
       "  </thead>\n",
       "  <tbody>\n",
       "  </tbody>\n",
       "</table>\n",
       "</div>"
      ],
      "text/plain": [
       "Empty DataFrame\n",
       "Columns: []\n",
       "Index: []"
      ]
     },
     "execution_count": 63,
     "metadata": {},
     "output_type": "execute_result"
    }
   ],
   "source": [
    "# my_sql=\"select * from musicdata\"\n",
    "my_sql=\"select * from weather\"\n",
    "# my_sql=\"describe weather\"\n",
    "cur.execute(my_sql)\n",
    "df = pd.DataFrame(cur)\n",
    "df"
   ]
  },
  {
   "cell_type": "code",
   "execution_count": 48,
   "id": "40932b03-38c0-4dd1-9265-5186f5168c33",
   "metadata": {},
   "outputs": [],
   "source": [
    "# conn.commit() : db 변경 쿼리 (insert, update) 쿼리 수행이후\n",
    "cur.close(); \n",
    "conn.close();\n",
    "\n",
    "# conn.close();"
   ]
  },
  {
   "cell_type": "code",
   "execution_count": 37,
   "id": "fe1eb019-2a19-445f-ae7b-e965c8151120",
   "metadata": {},
   "outputs": [
    {
     "ename": "KeyError",
     "evalue": "'body'",
     "output_type": "error",
     "traceback": [
      "\u001b[1;31m---------------------------------------------------------------------------\u001b[0m",
      "\u001b[1;31mKeyError\u001b[0m                                  Traceback (most recent call last)",
      "Cell \u001b[1;32mIn[37], line 60\u001b[0m\n\u001b[0;32m     56\u001b[0m     raw_json \u001b[38;5;241m=\u001b[39m json\u001b[38;5;241m.\u001b[39mloads(raw_str_json)\n\u001b[0;32m     58\u001b[0m \u001b[38;5;66;03m# print(raw_json)\u001b[39;00m\n\u001b[1;32m---> 60\u001b[0m parsed_json \u001b[38;5;241m=\u001b[39m raw_json[\u001b[38;5;124m'\u001b[39m\u001b[38;5;124mresponse\u001b[39m\u001b[38;5;124m'\u001b[39m][\u001b[38;5;124m'\u001b[39m\u001b[38;5;124mbody\u001b[39m\u001b[38;5;124m'\u001b[39m][\u001b[38;5;124m'\u001b[39m\u001b[38;5;124mitems\u001b[39m\u001b[38;5;124m'\u001b[39m][\u001b[38;5;124m'\u001b[39m\u001b[38;5;124mitem\u001b[39m\u001b[38;5;124m'\u001b[39m]\n\u001b[0;32m     62\u001b[0m \u001b[38;5;66;03m# print(parsed_json)\u001b[39;00m\n\u001b[0;32m     63\u001b[0m df \u001b[38;5;241m=\u001b[39m pd\u001b[38;5;241m.\u001b[39mDataFrame(parsed_json)\n",
      "\u001b[1;31mKeyError\u001b[0m: 'body'"
     ]
    }
   ],
   "source": [
    "# 목적: 파이썬 코드를 활용하여 OpenAPI 호출 자동화\n",
    "# Step1: OpenAPI를 제공하는 사이트에서 제공하는 샘플 프로그램을 확보한다.\n",
    "\n",
    "import requests\n",
    "import time\n",
    "import json\n",
    "import pandas as pd\n",
    "# access_key =\n",
    "access_key='bgOnt78reFNsTUJuAwlI30JDObTxX6hbJCxyApJCtuf3xjJZJ/mOs8Vhg3GZAsLc1fXTkQ9sjq0mTEupWDdyyA=='\n",
    "# 가산동 격자 x, 격자 y 정보\n",
    "nx = 58\n",
    "ny = 125\n",
    "def get_request_url():\n",
    "    url = 'http://apis.data.go.kr/1360000/VilageFcstInfoService_2.0/getUltraSrtNcst'\n",
    "    params = {'serviceKey': access_key , 'numOfRows' : 10, 'pageNo' : 1,\n",
    "        'dataType': 'JSON','base_date':base_date,'base_time':day_time,'nx':nx,'ny':ny\n",
    "    }\n",
    "    response = requests.get(url, params=params)\n",
    "    # response.content # => response.content는 한글이 인코딩된 형식이므로\n",
    "    #                       response.text 를 응답받기로함\n",
    "    return response.text\n",
    "\n",
    "def preprocess_df(df):\n",
    "\n",
    "    df.insert(0,'date_time', df['baseDate']+df['baseTime'])\n",
    "\n",
    "    p_df = pd.pivot(df, index='date_time', columns=['category'],values='obsrValue') # 하나의 행으로 데이터를 피봇\n",
    "    nx = df.loc[0,'nx']\n",
    "    ny = df.loc[0,'ny']\n",
    "    date_time = df.loc[0,'baseDate'] + ' ' + df.loc[0,'baseTime']\n",
    "    p_df.insert(0,'date_time',[date_time])\n",
    "    p_df.insert(1,'nx',[nx])\n",
    "    p_df.insert(2,'ny',[ny])\n",
    "\n",
    "    p_df.rename(columns={\n",
    "        'date_time':'DATE_TIME', 'nx':'NX', 'ny': 'NY', 'PTY':'강수형태',\n",
    "        'REH':'습도','RN1':'시간1_강수량','T1H':'기온',\n",
    "        'UUU':'동서바람성분','VEC':'풍향','VVV':'남북바람성분','WSD':'풍속'\n",
    "       }, inplace=True) # 열의 이름을 해석\n",
    "\n",
    "    redefined_columns = ['DATE_TIME','NX', 'NY', '기온', '시간1_강수량', '강수형태',\n",
    "                         '습도', '풍속', '풍향', '동서바람성분', '남북바람성분'] # 열의 순서를 재조정 (펜시검색문법 활용)\n",
    "    p_df = p_df[redefined_columns]\n",
    "    return p_df\n",
    "\n",
    "# 현재 시간 설정\n",
    "base_date = time.strftime(\"%Y%m%d\")\n",
    "# print(base_date)\n",
    "day_time = time.strftime(\"%H%M\")\n",
    "# print(day_time)\n",
    "\n",
    "raw_str_json = get_request_url()\n",
    "# print(raw_str_json)\n",
    "\n",
    "if raw_str_json:\n",
    "    raw_json = json.loads(raw_str_json)\n",
    "\n",
    "# print(raw_json)\n",
    "\n",
    "parsed_json = raw_json['response']['body']['items']['item']\n",
    "\n",
    "# print(parsed_json)\n",
    "df = pd.DataFrame(parsed_json)\n",
    "\n",
    "df_preprocessed =  preprocess_df(df)\n",
    "df_preprocessed"
   ]
  },
  {
   "cell_type": "code",
   "execution_count": 38,
   "id": "1f48b126-3103-4790-92e5-8ff3541ef37b",
   "metadata": {},
   "outputs": [
    {
     "ename": "NameError",
     "evalue": "name 'df_preprocessed' is not defined",
     "output_type": "error",
     "traceback": [
      "\u001b[1;31m---------------------------------------------------------------------------\u001b[0m",
      "\u001b[1;31mNameError\u001b[0m                                 Traceback (most recent call last)",
      "Cell \u001b[1;32mIn[38], line 1\u001b[0m\n\u001b[1;32m----> 1\u001b[0m df_preprocessed\u001b[38;5;241m.\u001b[39mloc[:,\u001b[38;5;124m'\u001b[39m\u001b[38;5;124mDATE_TIME\u001b[39m\u001b[38;5;124m'\u001b[39m]\u001b[38;5;241m.\u001b[39miloc[\u001b[38;5;241m0\u001b[39m]\n",
      "\u001b[1;31mNameError\u001b[0m: name 'df_preprocessed' is not defined"
     ]
    }
   ],
   "source": [
    "df_preprocessed.loc[:,'DATE_TIME'].iloc[0]"
   ]
  },
  {
   "cell_type": "code",
   "execution_count": 39,
   "id": "a90d7872-9117-4b2b-98b7-7333cf5c10e3",
   "metadata": {},
   "outputs": [
    {
     "ename": "NameError",
     "evalue": "name 'df_preprocessed' is not defined",
     "output_type": "error",
     "traceback": [
      "\u001b[1;31m---------------------------------------------------------------------------\u001b[0m",
      "\u001b[1;31mNameError\u001b[0m                                 Traceback (most recent call last)",
      "Cell \u001b[1;32mIn[39], line 1\u001b[0m\n\u001b[1;32m----> 1\u001b[0m df_preprocessed\u001b[38;5;241m.\u001b[39mcolumns\n",
      "\u001b[1;31mNameError\u001b[0m: name 'df_preprocessed' is not defined"
     ]
    }
   ],
   "source": [
    "df_preprocessed.columns"
   ]
  },
  {
   "cell_type": "code",
   "execution_count": 40,
   "id": "3891de76-aaa3-4f0b-92b9-9779256f5a25",
   "metadata": {},
   "outputs": [
    {
     "data": {
      "text/plain": [
       "'DATE_TIME,NX,NY,기온,시간1_강수량,강수형태,습도,풍속,풍향,동서바람성분,남북바람성분'"
      ]
     },
     "execution_count": 40,
     "metadata": {},
     "output_type": "execute_result"
    }
   ],
   "source": [
    "insert_columns = ','.join(['DATE_TIME', 'NX', 'NY', '기온', '시간1_강수량', '강수형태', '습도', '풍속', '풍향',\n",
    "       '동서바람성분', '남북바람성분'])\n",
    "insert_columns"
   ]
  },
  {
   "cell_type": "code",
   "execution_count": 41,
   "id": "c75eae38-2c4b-4c46-8ae2-894b97bac7ed",
   "metadata": {},
   "outputs": [
    {
     "ename": "NameError",
     "evalue": "name 'df_preprocessed' is not defined",
     "output_type": "error",
     "traceback": [
      "\u001b[1;31m---------------------------------------------------------------------------\u001b[0m",
      "\u001b[1;31mNameError\u001b[0m                                 Traceback (most recent call last)",
      "Cell \u001b[1;32mIn[41], line 1\u001b[0m\n\u001b[1;32m----> 1\u001b[0m insert_columns \u001b[38;5;241m=\u001b[39m \u001b[38;5;124m'\u001b[39m\u001b[38;5;124m,\u001b[39m\u001b[38;5;124m'\u001b[39m\u001b[38;5;241m.\u001b[39mjoin(df_preprocessed\u001b[38;5;241m.\u001b[39mcolumns)\n\u001b[0;32m      2\u001b[0m insert_columns\n",
      "\u001b[1;31mNameError\u001b[0m: name 'df_preprocessed' is not defined"
     ]
    }
   ],
   "source": [
    "insert_columns = ','.join(df_preprocessed.columns)\n",
    "insert_columns"
   ]
  },
  {
   "cell_type": "code",
   "execution_count": 42,
   "id": "6b0f9caf-db7d-42e1-a06c-674292fdeef2",
   "metadata": {},
   "outputs": [
    {
     "ename": "NameError",
     "evalue": "name 'df_preprocessed' is not defined",
     "output_type": "error",
     "traceback": [
      "\u001b[1;31m---------------------------------------------------------------------------\u001b[0m",
      "\u001b[1;31mNameError\u001b[0m                                 Traceback (most recent call last)",
      "Cell \u001b[1;32mIn[42], line 1\u001b[0m\n\u001b[1;32m----> 1\u001b[0m df_preprocessed\u001b[38;5;241m.\u001b[39mvalues\n",
      "\u001b[1;31mNameError\u001b[0m: name 'df_preprocessed' is not defined"
     ]
    }
   ],
   "source": [
    "df_preprocessed.values"
   ]
  },
  {
   "cell_type": "code",
   "execution_count": 43,
   "id": "1758ac3d-bb03-4a09-8670-8f217e70ed4f",
   "metadata": {},
   "outputs": [
    {
     "ename": "NameError",
     "evalue": "name 'df_preprocessed' is not defined",
     "output_type": "error",
     "traceback": [
      "\u001b[1;31m---------------------------------------------------------------------------\u001b[0m",
      "\u001b[1;31mNameError\u001b[0m                                 Traceback (most recent call last)",
      "Cell \u001b[1;32mIn[43], line 1\u001b[0m\n\u001b[1;32m----> 1\u001b[0m df_preprocessed\u001b[38;5;241m.\u001b[39minfo()\n",
      "\u001b[1;31mNameError\u001b[0m: name 'df_preprocessed' is not defined"
     ]
    }
   ],
   "source": [
    "df_preprocessed.info()"
   ]
  },
  {
   "cell_type": "code",
   "execution_count": null,
   "id": "a2cda259-7806-47f7-9c4d-151105f590da",
   "metadata": {},
   "outputs": [],
   "source": []
  },
  {
   "cell_type": "code",
   "execution_count": null,
   "id": "3c2b8d45-0e84-4cca-ba7f-34999339ace8",
   "metadata": {},
   "outputs": [],
   "source": []
  },
  {
   "cell_type": "code",
   "execution_count": null,
   "id": "bd616990-ce6a-419f-afde-bca86f4498ad",
   "metadata": {},
   "outputs": [],
   "source": []
  }
 ],
 "metadata": {
  "kernelspec": {
   "display_name": "Python 3 (ipykernel)",
   "language": "python",
   "name": "python3"
  },
  "language_info": {
   "codemirror_mode": {
    "name": "ipython",
    "version": 3
   },
   "file_extension": ".py",
   "mimetype": "text/x-python",
   "name": "python",
   "nbconvert_exporter": "python",
   "pygments_lexer": "ipython3",
   "version": "3.11.7"
  }
 },
 "nbformat": 4,
 "nbformat_minor": 5
}
