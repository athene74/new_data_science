{
 "cells": [
  {
   "cell_type": "markdown",
   "id": "1838ba50-1c45-41c4-a35c-2ec0d3975457",
   "metadata": {},
   "source": [
    "# JSON 복습"
   ]
  },
  {
   "cell_type": "markdown",
   "id": "0367e92e-de93-4986-b94c-c2cf97aa0c92",
   "metadata": {},
   "source": [
    "* JSON 타입은 OPEN API의 기본 포맷이고 Python의 dict 타입과 일치한다."
   ]
  },
  {
   "cell_type": "markdown",
   "id": "35803770-b7f2-4385-bb87-19449e390145",
   "metadata": {},
   "source": [
    "## 간단한 메세지 정보를 JSON 타입으로 작성"
   ]
  },
  {
   "cell_type": "code",
   "execution_count": 8,
   "id": "c46afcf9-7fc6-4df8-807a-5dd4212a226c",
   "metadata": {},
   "outputs": [
    {
     "data": {
      "text/plain": [
       "{'date': '20240729',\n",
       " 'to': '김해민',\n",
       " 'from': '남효정',\n",
       " 'heading': '주말에 뭐해요?',\n",
       " 'body': '주말에 영화시청 후 치맥?'}"
      ]
     },
     "execution_count": 8,
     "metadata": {},
     "output_type": "execute_result"
    }
   ],
   "source": [
    "basic_message = {\n",
    "    'date':'20240729',\n",
    "    'to':'김해민',\n",
    "    'from':'남효정',\n",
    "    'heading':'주말에 뭐해요?',\n",
    "    'body':'주말에 영화시청 후 치맥?'\n",
    "    }\n",
    "basic_message"
   ]
  },
  {
   "cell_type": "markdown",
   "id": "d08ab47b-a108-4898-a609-a97dda6eb3cf",
   "metadata": {},
   "source": [
    "* value에 접근하기"
   ]
  },
  {
   "cell_type": "code",
   "execution_count": 12,
   "id": "a56cd8c8-9cc2-4c65-baf2-c4643b3e5579",
   "metadata": {},
   "outputs": [
    {
     "data": {
      "text/plain": [
       "'김해민'"
      ]
     },
     "execution_count": 12,
     "metadata": {},
     "output_type": "execute_result"
    }
   ],
   "source": [
    "basic_message['to']"
   ]
  },
  {
   "cell_type": "code",
   "execution_count": 21,
   "id": "29516fb9-e667-4884-92e4-5f50a0b44ae2",
   "metadata": {},
   "outputs": [
    {
     "data": {
      "text/plain": [
       "'주말에 뭐해요?'"
      ]
     },
     "execution_count": 21,
     "metadata": {},
     "output_type": "execute_result"
    }
   ],
   "source": [
    "basic_message['heading']"
   ]
  },
  {
   "cell_type": "raw",
   "id": "599fa35a-6e10-424b-b737-3f428c7e9d50",
   "metadata": {},
   "source": [
    "* 중첩된 dict 정의  \n",
    "nested_dic={  \n",
    "    '상위키':{  \n",
    "        // 하위 딕셔너리  \n",
    "    }  \n",
    "}  \n",
    "하위 딕셔너리 접근: 하위 딕셔너리는 '상위키'의 value  \n",
    "\n",
    "nested_dic['상위키']"
   ]
  },
  {
   "cell_type": "code",
   "execution_count": 20,
   "id": "c715824d-4b95-49dd-8478-cc690d5b94e9",
   "metadata": {},
   "outputs": [
    {
     "data": {
      "text/plain": [
       "{'message': {'date': 20240320,\n",
       "  'method': 'gmail',\n",
       "  'to': '배은지',\n",
       "  'from': '엄현빈',\n",
       "  'heading': '주말에 뭐해요?',\n",
       "  'body': '주말에 영화한편?'}}"
      ]
     },
     "execution_count": 20,
     "metadata": {},
     "output_type": "execute_result"
    }
   ],
   "source": [
    "bae_message = {\n",
    "    \"message\":{\n",
    "        \"date\":20240320,\n",
    "        \"method\":\"gmail\",\n",
    "        \"to\":\"배은지\",\n",
    "        \"from\":\"엄현빈\",\n",
    "        \"heading\":\"주말에 뭐해요?\",\n",
    "        \"body\":\"주말에 영화한편?\"\n",
    "    }\n",
    "}\n",
    "bae_message"
   ]
  },
  {
   "cell_type": "code",
   "execution_count": 22,
   "id": "30b04dae-cdad-40c9-a982-bfc04edc2c47",
   "metadata": {},
   "outputs": [
    {
     "data": {
      "text/plain": [
       "{'date': 20240320,\n",
       " 'method': 'gmail',\n",
       " 'to': '배은지',\n",
       " 'from': '엄현빈',\n",
       " 'heading': '주말에 뭐해요?',\n",
       " 'body': '주말에 영화한편?'}"
      ]
     },
     "execution_count": 22,
     "metadata": {},
     "output_type": "execute_result"
    }
   ],
   "source": [
    "bae_message = {\n",
    "    \"message\":{\n",
    "        \"date\":20240320,\n",
    "        \"method\":\"gmail\",\n",
    "        \"to\":\"배은지\",\n",
    "        \"from\":\"엄현빈\",\n",
    "        \"heading\":\"주말에 뭐해요?\",\n",
    "        \"body\":\"주말에 영화한편?\"\n",
    "    }\n",
    "}\n",
    "bae_message['message']"
   ]
  },
  {
   "cell_type": "markdown",
   "id": "2ec46d14-8796-42e3-9a10-b761863a3519",
   "metadata": {},
   "source": [
    "* 하위 딕셔너리의 값에 대한 접근"
   ]
  },
  {
   "cell_type": "code",
   "execution_count": 23,
   "id": "a3866f2a-b784-4c7d-9671-d8705cd85fc7",
   "metadata": {},
   "outputs": [
    {
     "data": {
      "text/plain": [
       "'gmail'"
      ]
     },
     "execution_count": 23,
     "metadata": {},
     "output_type": "execute_result"
    }
   ],
   "source": [
    "bae_message['message']['method']"
   ]
  },
  {
   "cell_type": "markdown",
   "id": "d688d028-442a-4fcf-9e35-9f1282bf4ab6",
   "metadata": {},
   "source": [
    "# 딕셔너리 재구성"
   ]
  },
  {
   "cell_type": "markdown",
   "id": "7df5e791-d67d-4c47-889b-19649406b350",
   "metadata": {},
   "source": [
    "* 아래 딕셔너리 값을 처음부터 구성하기"
   ]
  },
  {
   "cell_type": "code",
   "execution_count": 25,
   "id": "a7544c30-501b-4291-a9aa-32a2cfd93310",
   "metadata": {},
   "outputs": [
    {
     "data": {
      "text/plain": [
       "{'message': {'date': 20240320,\n",
       "  'method': 'gmail',\n",
       "  'to': '배은지',\n",
       "  'from': '엄현빈',\n",
       "  'heading': '주말에 뭐해요?',\n",
       "  'body': '주말에 영화한편?'}}"
      ]
     },
     "execution_count": 25,
     "metadata": {},
     "output_type": "execute_result"
    }
   ],
   "source": [
    "{\"message\":{\n",
    "        \"date\":20240320,\n",
    "        \"method\":\"gmail\",\n",
    "        \"to\":\"배은지\",\n",
    "        \"from\":\"엄현빈\",\n",
    "        \"heading\":\"주말에 뭐해요?\",\n",
    "        \"body\":\"주말에 영화한편?\"\n",
    "    }\n",
    "}"
   ]
  },
  {
   "cell_type": "markdown",
   "id": "06a96ba7-f728-4119-91ed-98b8cc6885b5",
   "metadata": {},
   "source": [
    "* Empty 딕셔너리 생성"
   ]
  },
  {
   "cell_type": "code",
   "execution_count": 26,
   "id": "89aaf52e-074d-44d9-89d9-5bcd2abc8a7e",
   "metadata": {},
   "outputs": [
    {
     "data": {
      "text/plain": [
       "{}"
      ]
     },
     "execution_count": 26,
     "metadata": {},
     "output_type": "execute_result"
    }
   ],
   "source": [
    "my_message={}\n",
    "my_message"
   ]
  },
  {
   "cell_type": "code",
   "execution_count": 47,
   "id": "d68812f5-5ed0-4483-bbd3-b5139732e3fc",
   "metadata": {},
   "outputs": [
    {
     "data": {
      "text/plain": [
       "{'message': {}}"
      ]
     },
     "execution_count": 47,
     "metadata": {},
     "output_type": "execute_result"
    }
   ],
   "source": [
    "my_message['message']={}\n",
    "my_message"
   ]
  },
  {
   "cell_type": "code",
   "execution_count": 48,
   "id": "ef0d6409-e112-4af3-87eb-dcf0a6d324cf",
   "metadata": {},
   "outputs": [
    {
     "data": {
      "text/plain": [
       "{'message': {'date': 20240320}}"
      ]
     },
     "execution_count": 48,
     "metadata": {},
     "output_type": "execute_result"
    }
   ],
   "source": [
    "my_message['message']['date'] =20240320\n",
    "my_message"
   ]
  },
  {
   "cell_type": "code",
   "execution_count": 50,
   "id": "b1efb836-1173-4a91-ae17-ef01ad84c141",
   "metadata": {},
   "outputs": [
    {
     "data": {
      "text/plain": [
       "{'message': {'date': 20240320, 'methon': 'gmail', 'method': 'gmail'}}"
      ]
     },
     "execution_count": 50,
     "metadata": {},
     "output_type": "execute_result"
    }
   ],
   "source": [
    "my_message['message']['method'] = 'gmail'\n",
    "my_message"
   ]
  },
  {
   "cell_type": "code",
   "execution_count": 55,
   "id": "3a69e38a-cd08-4222-9308-789f10c25563",
   "metadata": {},
   "outputs": [
    {
     "data": {
      "text/plain": [
       "{'message': {'date': 20240320,\n",
       "  'methon': 'gmail',\n",
       "  'method': 'gmail',\n",
       "  'to': '배은지',\n",
       "  'from': '엄현빈',\n",
       "  'heading': '주말에 뭐해요?',\n",
       "  'body': '주말에 영화한편?'}}"
      ]
     },
     "execution_count": 55,
     "metadata": {},
     "output_type": "execute_result"
    }
   ],
   "source": [
    "my_message['message']['to'] = '배은지'\n",
    "my_message['message']['from'] = '엄현빈'\n",
    "my_message['message']['heading'] = '주말에 뭐해요?'\n",
    "my_message['message']['body'] = '주말에 영화한편?'\n",
    "my_message"
   ]
  },
  {
   "cell_type": "markdown",
   "id": "1c59574c-6b58-4f85-969c-24f9d246b759",
   "metadata": {},
   "source": [
    "# JSON 파일 생성"
   ]
  },
  {
   "cell_type": "code",
   "execution_count": 60,
   "id": "568c4b78-51aa-4244-b1a2-e09315f0651c",
   "metadata": {},
   "outputs": [],
   "source": [
    "import json"
   ]
  },
  {
   "cell_type": "code",
   "execution_count": 61,
   "id": "8247dc46-128e-473d-99fe-9f0028dc5e86",
   "metadata": {},
   "outputs": [
    {
     "name": "stdout",
     "output_type": "stream",
     "text": [
      "JSON 파일 생성 완료.\n"
     ]
    }
   ],
   "source": [
    "with open('k_message.json','w', encoding='utf8') as outfile:\n",
    "    result = json.dumps(my_message, indent=4, ensure_ascii=False)\n",
    "    outfile.write(result)\n",
    "    print(\"JSON 파일 생성 완료.\")"
   ]
  },
  {
   "cell_type": "code",
   "execution_count": null,
   "id": "3cdf5172-6dcf-49f7-a10d-38fa2eff9f3b",
   "metadata": {},
   "outputs": [],
   "source": []
  }
 ],
 "metadata": {
  "kernelspec": {
   "display_name": "Python 3 (ipykernel)",
   "language": "python",
   "name": "python3"
  },
  "language_info": {
   "codemirror_mode": {
    "name": "ipython",
    "version": 3
   },
   "file_extension": ".py",
   "mimetype": "text/x-python",
   "name": "python",
   "nbconvert_exporter": "python",
   "pygments_lexer": "ipython3",
   "version": "3.11.7"
  }
 },
 "nbformat": 4,
 "nbformat_minor": 5
}
