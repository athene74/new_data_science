{
 "cells": [
  {
   "cell_type": "code",
   "execution_count": 5,
   "id": "99b658a7",
   "metadata": {},
   "outputs": [],
   "source": [
    "import pickle\n",
    "from sklearn.linear_model import LogisticRegression\n",
    "\n",
    "# rb: 바이러리 데이터를 읽어들이는 옵션\n",
    "with open('processed.pickle', 'rb') as file_handle:    \n",
    "    vocabulary, features, labels = pickle.load(file_handle)"
   ]
  },
  {
   "cell_type": "code",
   "execution_count": 6,
   "id": "c37052e9",
   "metadata": {},
   "outputs": [],
   "source": [
    "# 학습-테스트 데이터 나누기\n",
    "# 처음 50%를 학습으로 사용하고 나머지를 평가로 사용합니다.\n",
    "total_number = len(labels)\n",
    "middle_index = total_number//2\n",
    "train_features = features[:middle_index,:]\n",
    "train_labels = labels[:middle_index]\n",
    "test_features = features[middle_index:,:]\n",
    "test_labels = labels[middle_index:]"
   ]
  },
  {
   "cell_type": "code",
   "execution_count": 7,
   "id": "849b7da3",
   "metadata": {},
   "outputs": [
    {
     "data": {
      "text/plain": [
       "<5x8713 sparse matrix of type '<class 'numpy.float64'>'\n",
       "\twith 64 stored elements in Compressed Sparse Row format>"
      ]
     },
     "execution_count": 7,
     "metadata": {},
     "output_type": "execute_result"
    }
   ],
   "source": [
    "# TF-IDF 정보가 희소행렬(sparse matrix)로 압축되어 저장\n",
    "train_features[:5]"
   ]
  },
  {
   "cell_type": "markdown",
   "id": "71c876ca-e2ed-49b1-b7f3-c2abe26fac2c",
   "metadata": {},
   "source": [
    "* 내부적으로 저장되는 형태이며"
   ]
  },
  {
   "cell_type": "code",
   "execution_count": 8,
   "id": "d5074b5b",
   "metadata": {
    "scrolled": true
   },
   "outputs": [
    {
     "name": "stdout",
     "output_type": "stream",
     "text": [
      "train accuracy: 0.9659\n",
      "test accuracy: 0.9480\n",
      "score 4.0001 word: txt\n",
      "score 3.4521 word: call\n",
      "score 3.2910 word: free\n",
      "score 2.7635 word: to\n",
      "score 2.5109 word: claim\n",
      "score 2.4553 word: www\n",
      "score 2.4490 word: stop\n",
      "score 2.4278 word: uk\n",
      "score 2.2604 word: text\n",
      "score 2.2016 word: 150p\n",
      "score 2.1835 word: service\n",
      "score 2.1580 word: mobile\n",
      "score 1.9421 word: my\n",
      "score 1.9399 word: prize\n",
      "score 1.9165 word: chat\n",
      "score 1.8700 word: me\n",
      "score 1.8646 word: reply\n",
      "score 1.8335 word: from\n",
      "score 1.8333 word: 18\n",
      "score 1.8222 word: or\n"
     ]
    }
   ],
   "source": [
    "classifier = LogisticRegression() # 성능 향상을 위해 새로운 모델을 사용할 수 있다.\n",
    "classifier.fit(train_features, train_labels)\n",
    "print('train accuracy: %4.4f' % classifier.score(train_features, train_labels))\n",
    "print('test accuracy: %4.4f' % classifier.score(test_features, test_labels))\n",
    "\n",
    "# 어떤 항목이 판별에 영향을 많이 줬는지 찾아보기\n",
    "weights = classifier.coef_[0, :]\n",
    "pairs = []\n",
    "for index, value in enumerate(weights):\n",
    "    pairs.append( (abs(value), vocabulary[index]) )\n",
    "pairs.sort(key=lambda x: x[0], reverse=True)\n",
    "for pair in pairs[:20]:\n",
    "    print('score %4.4f word: %s' % pair)"
   ]
  },
  {
   "cell_type": "markdown",
   "id": "6ea33a3e",
   "metadata": {},
   "source": [
    "## 성능 향상을 위해 선택적으로 적용할 수 있는 실험\n",
    "* idf 점수를 빼고 모델 학습\n",
    "* 성능이 향상이 되었다면 어떤 이유로 향상이 되었을지 생각해 보자"
   ]
  },
  {
   "cell_type": "markdown",
   "id": "ff5a40d6-424f-43c6-97fc-85743cd36d8b",
   "metadata": {},
   "source": [
    "## 생각해 봤나요?"
   ]
  },
  {
   "cell_type": "markdown",
   "id": "653b91b1-8fec-479f-81a0-dd2df7975206",
   "metadata": {},
   "source": [
    "* 아래와 같은 메일제목은?"
   ]
  },
  {
   "cell_type": "raw",
   "id": "d697bc63-20c0-46c2-bf32-8ae8cef046d9",
   "metadata": {},
   "source": [
    "Free pizza offer. free free free!\n",
    "Meeting meeting meeting schedule update\n",
    "Special free offer for new members only. It's free free"
   ]
  },
  {
   "cell_type": "markdown",
   "id": "aaf3aa69-e115-45ae-92e1-13ea5a2750b9",
   "metadata": {},
   "source": [
    "스펨 분류에 영향을 미치는 키워드가 너무 반복적으로 사용되었을 경우 IDF가 반영하면 가중치가 떨어져서 순수 빈도로 측정했을 때보다  \n",
    "성능이 떨어질 수도 있다."
   ]
  },
  {
   "cell_type": "markdown",
   "id": "631fa367-1d9a-4f43-969c-553d463a0e4a",
   "metadata": {},
   "source": [
    "# 과제\n",
    "* 위 모델을 lightGBM을 적용하여 정답률을 향상시키세요"
   ]
  },
  {
   "cell_type": "code",
   "execution_count": null,
   "id": "60974def-fe25-4c7c-bd47-6562c39f6829",
   "metadata": {},
   "outputs": [],
   "source": [
    "# https://lightgbm.readthedocs.io/en/latest/Parameters-Tuning.html # 파라메터 튜닝"
   ]
  },
  {
   "cell_type": "code",
   "execution_count": null,
   "id": "4b5478de-94f4-4d2f-a14c-a1530cc04ef7",
   "metadata": {},
   "outputs": [],
   "source": [
    "!pip install lightgbm"
   ]
  },
  {
   "cell_type": "code",
   "execution_count": 16,
   "id": "f192c4e7",
   "metadata": {},
   "outputs": [],
   "source": [
    "import lightgbm as lgb\n",
    "import numpy as np\n",
    "from sklearn.metrics import accuracy_score"
   ]
  },
  {
   "cell_type": "code",
   "execution_count": 17,
   "id": "d4f27565",
   "metadata": {},
   "outputs": [],
   "source": [
    "# LightGBM 모델 학습\n",
    "d_train = lgb.Dataset(train_features, label=train_labels)\n",
    "params = {\n",
    "    'objective': 'binary',\n",
    "    'metric': 'binary_logloss',\n",
    "    'boosting_type': 'gbdt',\n",
    "    'learning_rate': 0.1,\n",
    "    'num_leaves': 31,\n",
    "    'max_depth': -1,\n",
    "    'verbose': -1\n",
    "}\n",
    "\n",
    "# 모델 학습\n",
    "model = lgb.train(params, d_train, 100)  # 100 반복 학습"
   ]
  },
  {
   "cell_type": "code",
   "execution_count": 18,
   "id": "5f86abc0-97e4-4085-b56d-a4e012bfafda",
   "metadata": {},
   "outputs": [
    {
     "name": "stdout",
     "output_type": "stream",
     "text": [
      "train accuracy: 1.0000\n"
     ]
    }
   ],
   "source": [
    "# 학습 정확도\n",
    "train_pred = model.predict(train_features)\n",
    "train_pred_int = (train_pred >= 0.5).astype(int)\n",
    "train_accuracy = accuracy_score(train_pred_int, train_labels)\n",
    "print('train accuracy: %4.4f' % train_accuracy)\n",
    "\n",
    "# 테스트 정확도\n",
    "test_pred = model.predict(test_features)"
   ]
  },
  {
   "cell_type": "code",
   "execution_count": 19,
   "id": "75e3f28f-d8ba-42eb-ac4a-bf08bb2024fe",
   "metadata": {},
   "outputs": [
    {
     "data": {
      "text/plain": [
       "[0, 0, 0, 0, 1]"
      ]
     },
     "execution_count": 19,
     "metadata": {},
     "output_type": "execute_result"
    }
   ],
   "source": [
    "test_labels[:5]"
   ]
  },
  {
   "cell_type": "code",
   "execution_count": 20,
   "id": "758a243f-3cb4-4b68-8da0-18380acc67d3",
   "metadata": {},
   "outputs": [
    {
     "data": {
      "text/plain": [
       "array([2.30384754e-05, 4.06763161e-05, 3.15156401e-05, ...,\n",
       "       2.32577518e-05, 3.24311430e-02, 8.38624126e-05])"
      ]
     },
     "execution_count": 20,
     "metadata": {},
     "output_type": "execute_result"
    }
   ],
   "source": [
    "test_pred"
   ]
  },
  {
   "cell_type": "code",
   "execution_count": 27,
   "id": "f4d620f9-e6dd-4d91-a27b-eb6b7dc68121",
   "metadata": {},
   "outputs": [
    {
     "data": {
      "text/plain": [
       "array([0, 0, 0, 0, 1, 0, 0, 0, 0, 0])"
      ]
     },
     "execution_count": 27,
     "metadata": {},
     "output_type": "execute_result"
    }
   ],
   "source": [
    "(test_pred >= 0.5).astype(int)[:10]"
   ]
  },
  {
   "cell_type": "code",
   "execution_count": 29,
   "id": "c88c3101-30f0-447f-8cc2-80038289ac7d",
   "metadata": {},
   "outputs": [
    {
     "name": "stdout",
     "output_type": "stream",
     "text": [
      "test accuracy: 0.9756\n"
     ]
    }
   ],
   "source": [
    "test_pred_int= (test_pred >= 0.5).astype(int)\n",
    "test_accuracy = accuracy_score(test_pred_int, test_labels)\n",
    "print('test accuracy: %4.4f' % test_accuracy)"
   ]
  },
  {
   "cell_type": "code",
   "execution_count": 30,
   "id": "013a91df-a9d0-4455-bb0c-a22836e529ab",
   "metadata": {},
   "outputs": [
    {
     "name": "stdout",
     "output_type": "stream",
     "text": [
      "score 177 word: call\n",
      "score 106 word: for\n",
      "score 98 word: to\n",
      "score 93 word: your\n",
      "score 84 word: txt\n",
      "score 80 word: you\n",
      "score 79 word: now\n",
      "score 68 word: and\n",
      "score 61 word: me\n",
      "score 59 word: cost\n",
      "score 54 word: free\n",
      "score 54 word: service\n",
      "score 53 word: chat\n",
      "score 53 word: help\n",
      "score 51 word: sms\n",
      "score 51 word: uk\n",
      "score 50 word: claim\n",
      "score 48 word: reply\n",
      "score 48 word: text\n",
      "score 46 word: will\n"
     ]
    }
   ],
   "source": [
    "#  학습에 중요한 특성 찾기\n",
    "importance = model.feature_importance(importance_type='split')\n",
    "feature_importance = [(importance[i], vocabulary[i]) for i in range(len(vocabulary))]\n",
    "feature_importance.sort(key=lambda x: x[0], reverse=True)\n",
    "\n",
    "# 가장 중요한 특성 20개 출력\n",
    "for score, word in feature_importance[:20]:\n",
    "    print('score %d word: %s' % (score, word))"
   ]
  },
  {
   "cell_type": "code",
   "execution_count": null,
   "id": "76cf6bd8-4a05-48c4-9011-4734d328b842",
   "metadata": {},
   "outputs": [],
   "source": []
  }
 ],
 "metadata": {
  "kernelspec": {
   "display_name": "Python 3 (ipykernel)",
   "language": "python",
   "name": "python3"
  },
  "language_info": {
   "codemirror_mode": {
    "name": "ipython",
    "version": 3
   },
   "file_extension": ".py",
   "mimetype": "text/x-python",
   "name": "python",
   "nbconvert_exporter": "python",
   "pygments_lexer": "ipython3",
   "version": "3.11.7"
  }
 },
 "nbformat": 4,
 "nbformat_minor": 5
}
