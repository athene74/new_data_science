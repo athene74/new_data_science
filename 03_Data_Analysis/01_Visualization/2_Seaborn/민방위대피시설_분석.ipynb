{
 "cells": [
  {
   "cell_type": "markdown",
   "id": "9a361676",
   "metadata": {
    "hidden": true
   },
   "source": [
    "## 주요절차"
   ]
  },
  {
   "cell_type": "markdown",
   "id": "27585602",
   "metadata": {
    "hidden": true
   },
   "source": [
    "### 1. 초기데이터 분석"
   ]
  },
  {
   "cell_type": "markdown",
   "id": "8aee3de8",
   "metadata": {
    "hidden": true
   },
   "source": [
    "#### 1-1. 데이터딕셔너리(각 열의 의미, 데이터의 의미해석관련 스펙 또는 메뉴얼) 확인\n",
    "#### 1-2 데이터 기초정보 확인 (사이즈, 열이름, 데이터형, 결측치, 이상치확인)"
   ]
  },
  {
   "cell_type": "markdown",
   "id": "2ebab032",
   "metadata": {
    "hidden": true
   },
   "source": [
    "### 2. 데이터 정제"
   ]
  },
  {
   "cell_type": "markdown",
   "id": "39e200d0",
   "metadata": {
    "hidden": true
   },
   "source": [
    "#### 2.1. 원본데이터로에서 분석가능한 형태의 데이터 전처리 (형변환, 열이름 변경등)\n",
    "#### 2.2. 데이터 클리닝: 이상치, 결측치처리"
   ]
  },
  {
   "cell_type": "markdown",
   "id": "4e60e3f3",
   "metadata": {
    "hidden": true
   },
   "source": [
    "### 3. 추가데이터 분석"
   ]
  },
  {
   "cell_type": "markdown",
   "id": "82e0a525",
   "metadata": {
    "hidden": true
   },
   "source": [
    "#### 3.1 데이터 정제후 데이터딕셔너리 재확인\n",
    "#### 3.2 기초통계 정보 확인 (최대값, 최소값, 평균값, 표준편차, 최빈값, 유일값 등)\n",
    "#### 3.3 시각화를 통한 데이터이해 심화 "
   ]
  },
  {
   "cell_type": "markdown",
   "id": "87e87a59",
   "metadata": {
    "hidden": true
   },
   "source": [
    "* 3.3.1 단일 열: 데이터의 성격에 따른 다양한 차트 적용  \n",
    "* 3.3.2 복수 열: 두개의 열간 연관관계 분석(Pair Plot 또는 Seaborn의 관련 지원 차트등)"
   ]
  },
  {
   "cell_type": "markdown",
   "id": "d98ee251",
   "metadata": {},
   "source": [
    "# 탐색적분석 적용 실습 템플릿"
   ]
  },
  {
   "cell_type": "markdown",
   "id": "0521bf67",
   "metadata": {},
   "source": [
    "## 데이터 수집"
   ]
  },
  {
   "cell_type": "code",
   "execution_count": 45,
   "id": "2ca834cf-db58-4080-95fa-a27a1c23d5b7",
   "metadata": {},
   "outputs": [],
   "source": [
    "import pandas as pd\n",
    "import numpy as np\n",
    "import matplotlib.pyplot as plt\n",
    "%matplotlib inline\n",
    "from matplotlib import font_manager, rc\n",
    "# 한글 폰트\n",
    "font_location = \"C:\\Windows\\Fonts\\malgun.ttf\"\n",
    "font_name = font_manager.FontProperties(fname = font_location).get_name()\n",
    "rc('font', family=font_name)"
   ]
  },
  {
   "cell_type": "code",
   "execution_count": 46,
   "id": "46c5eafe",
   "metadata": {},
   "outputs": [
    {
     "data": {
      "text/html": [
       "<div>\n",
       "<style scoped>\n",
       "    .dataframe tbody tr th:only-of-type {\n",
       "        vertical-align: middle;\n",
       "    }\n",
       "\n",
       "    .dataframe tbody tr th {\n",
       "        vertical-align: top;\n",
       "    }\n",
       "\n",
       "    .dataframe thead th {\n",
       "        text-align: right;\n",
       "    }\n",
       "</style>\n",
       "<table border=\"1\" class=\"dataframe\">\n",
       "  <thead>\n",
       "    <tr style=\"text-align: right;\">\n",
       "      <th></th>\n",
       "      <th>번호</th>\n",
       "      <th>개방서비스명</th>\n",
       "      <th>개방서비스아이디</th>\n",
       "      <th>개방자치단체코드</th>\n",
       "      <th>관리번호</th>\n",
       "      <th>인허가일자</th>\n",
       "      <th>인허가취소일자</th>\n",
       "      <th>영업상태구분코드</th>\n",
       "      <th>영업상태명</th>\n",
       "      <th>상세영업상태코드</th>\n",
       "      <th>...</th>\n",
       "      <th>데이터갱신구분</th>\n",
       "      <th>데이터갱신일자</th>\n",
       "      <th>업태구분명</th>\n",
       "      <th>좌표정보(x)</th>\n",
       "      <th>좌표정보(y)</th>\n",
       "      <th>비상시설위치</th>\n",
       "      <th>시설구분명</th>\n",
       "      <th>시설명건물명</th>\n",
       "      <th>해제일자</th>\n",
       "      <th>Unnamed: 32</th>\n",
       "    </tr>\n",
       "  </thead>\n",
       "  <tbody>\n",
       "    <tr>\n",
       "      <th>0</th>\n",
       "      <td>1</td>\n",
       "      <td>민방위대피시설</td>\n",
       "      <td>11_46_02_P</td>\n",
       "      <td>5090000</td>\n",
       "      <td>5090000-S198900003</td>\n",
       "      <td>19891207</td>\n",
       "      <td>NaN</td>\n",
       "      <td>1</td>\n",
       "      <td>영업/정상</td>\n",
       "      <td>18</td>\n",
       "      <td>...</td>\n",
       "      <td>U</td>\n",
       "      <td>2022-06-16 02:40:00.0</td>\n",
       "      <td>NaN</td>\n",
       "      <td>344927.833391</td>\n",
       "      <td>370456.199467</td>\n",
       "      <td>경상북도 영주시 하망동 344번지 34호</td>\n",
       "      <td>공공시설</td>\n",
       "      <td>대구은행</td>\n",
       "      <td>NaN</td>\n",
       "      <td>NaN</td>\n",
       "    </tr>\n",
       "    <tr>\n",
       "      <th>1</th>\n",
       "      <td>2</td>\n",
       "      <td>민방위대피시설</td>\n",
       "      <td>11_46_02_P</td>\n",
       "      <td>5090000</td>\n",
       "      <td>5090000-S197400001</td>\n",
       "      <td>19950329</td>\n",
       "      <td>NaN</td>\n",
       "      <td>1</td>\n",
       "      <td>영업/정상</td>\n",
       "      <td>18</td>\n",
       "      <td>...</td>\n",
       "      <td>U</td>\n",
       "      <td>2022-06-16 02:40:00.0</td>\n",
       "      <td>NaN</td>\n",
       "      <td>345125.748147</td>\n",
       "      <td>369669.863961</td>\n",
       "      <td>경상북도 영주시 휴천동 677번지</td>\n",
       "      <td>공공시설</td>\n",
       "      <td>KT영주지사</td>\n",
       "      <td>NaN</td>\n",
       "      <td>NaN</td>\n",
       "    </tr>\n",
       "    <tr>\n",
       "      <th>2</th>\n",
       "      <td>3</td>\n",
       "      <td>민방위대피시설</td>\n",
       "      <td>11_46_02_P</td>\n",
       "      <td>5090000</td>\n",
       "      <td>5090000-S199200002</td>\n",
       "      <td>19920526</td>\n",
       "      <td>NaN</td>\n",
       "      <td>1</td>\n",
       "      <td>영업/정상</td>\n",
       "      <td>18</td>\n",
       "      <td>...</td>\n",
       "      <td>U</td>\n",
       "      <td>2022-06-16 02:40:00.0</td>\n",
       "      <td>NaN</td>\n",
       "      <td>345657.013197</td>\n",
       "      <td>370577.911933</td>\n",
       "      <td>경상북도 영주시 하망동 276번지 23호</td>\n",
       "      <td>공공시설</td>\n",
       "      <td>코오롱2차아파트 보일러실</td>\n",
       "      <td>NaN</td>\n",
       "      <td>NaN</td>\n",
       "    </tr>\n",
       "    <tr>\n",
       "      <th>3</th>\n",
       "      <td>4</td>\n",
       "      <td>민방위대피시설</td>\n",
       "      <td>11_46_02_P</td>\n",
       "      <td>5090000</td>\n",
       "      <td>5090000-S199200004</td>\n",
       "      <td>19921109</td>\n",
       "      <td>NaN</td>\n",
       "      <td>1</td>\n",
       "      <td>영업/정상</td>\n",
       "      <td>18</td>\n",
       "      <td>...</td>\n",
       "      <td>U</td>\n",
       "      <td>2022-06-16 02:40:00.0</td>\n",
       "      <td>NaN</td>\n",
       "      <td>344866.737364</td>\n",
       "      <td>368384.000556</td>\n",
       "      <td>경상북도 영주시 휴천동 470번지</td>\n",
       "      <td>공공시설</td>\n",
       "      <td>영주시청 대피소</td>\n",
       "      <td>NaN</td>\n",
       "      <td>NaN</td>\n",
       "    </tr>\n",
       "    <tr>\n",
       "      <th>4</th>\n",
       "      <td>5</td>\n",
       "      <td>민방위대피시설</td>\n",
       "      <td>11_46_02_P</td>\n",
       "      <td>5090000</td>\n",
       "      <td>5090000-S199800002</td>\n",
       "      <td>19980301</td>\n",
       "      <td>NaN</td>\n",
       "      <td>1</td>\n",
       "      <td>영업/정상</td>\n",
       "      <td>18</td>\n",
       "      <td>...</td>\n",
       "      <td>U</td>\n",
       "      <td>2022-06-16 02:40:00.0</td>\n",
       "      <td>NaN</td>\n",
       "      <td>345499.772595</td>\n",
       "      <td>369763.112406</td>\n",
       "      <td>경상북도 영주시 휴천동 168번지</td>\n",
       "      <td>공공시설</td>\n",
       "      <td>현대동산아파트</td>\n",
       "      <td>NaN</td>\n",
       "      <td>NaN</td>\n",
       "    </tr>\n",
       "  </tbody>\n",
       "</table>\n",
       "<p>5 rows × 33 columns</p>\n",
       "</div>"
      ],
      "text/plain": [
       "   번호   개방서비스명    개방서비스아이디  개방자치단체코드                관리번호     인허가일자  인허가취소일자  \\\n",
       "0   1  민방위대피시설  11_46_02_P   5090000  5090000-S198900003  19891207      NaN   \n",
       "1   2  민방위대피시설  11_46_02_P   5090000  5090000-S197400001  19950329      NaN   \n",
       "2   3  민방위대피시설  11_46_02_P   5090000  5090000-S199200002  19920526      NaN   \n",
       "3   4  민방위대피시설  11_46_02_P   5090000  5090000-S199200004  19921109      NaN   \n",
       "4   5  민방위대피시설  11_46_02_P   5090000  5090000-S199800002  19980301      NaN   \n",
       "\n",
       "   영업상태구분코드  영업상태명  상세영업상태코드  ... 데이터갱신구분                데이터갱신일자  업태구분명  \\\n",
       "0         1  영업/정상        18  ...       U  2022-06-16 02:40:00.0    NaN   \n",
       "1         1  영업/정상        18  ...       U  2022-06-16 02:40:00.0    NaN   \n",
       "2         1  영업/정상        18  ...       U  2022-06-16 02:40:00.0    NaN   \n",
       "3         1  영업/정상        18  ...       U  2022-06-16 02:40:00.0    NaN   \n",
       "4         1  영업/정상        18  ...       U  2022-06-16 02:40:00.0    NaN   \n",
       "\n",
       "         좌표정보(x)        좌표정보(y)                  비상시설위치  시설구분명         시설명건물명  \\\n",
       "0  344927.833391  370456.199467  경상북도 영주시 하망동 344번지 34호   공공시설           대구은행   \n",
       "1  345125.748147  369669.863961      경상북도 영주시 휴천동 677번지   공공시설         KT영주지사   \n",
       "2  345657.013197  370577.911933  경상북도 영주시 하망동 276번지 23호   공공시설  코오롱2차아파트 보일러실   \n",
       "3  344866.737364  368384.000556      경상북도 영주시 휴천동 470번지   공공시설       영주시청 대피소   \n",
       "4  345499.772595  369763.112406      경상북도 영주시 휴천동 168번지   공공시설        현대동산아파트   \n",
       "\n",
       "  해제일자 Unnamed: 32  \n",
       "0  NaN         NaN  \n",
       "1  NaN         NaN  \n",
       "2  NaN         NaN  \n",
       "3  NaN         NaN  \n",
       "4  NaN         NaN  \n",
       "\n",
       "[5 rows x 33 columns]"
      ]
     },
     "execution_count": 46,
     "metadata": {},
     "output_type": "execute_result"
    }
   ],
   "source": [
    "# 데이터 소스를 확보하세요\n",
    "df = pd.read_csv(\"fulldata_11_46_02_P_민방위대피시설.csv\", encoding='cp949')\n",
    "df.head()"
   ]
  },
  {
   "cell_type": "code",
   "execution_count": null,
   "id": "6156fc93-f919-4471-a88a-ba857cd61b2c",
   "metadata": {},
   "outputs": [],
   "source": []
  },
  {
   "cell_type": "code",
   "execution_count": null,
   "id": "a51c4e4a-b238-458e-b5f5-3cd395e56d79",
   "metadata": {},
   "outputs": [],
   "source": []
  },
  {
   "cell_type": "markdown",
   "id": "c3b597f4",
   "metadata": {},
   "source": [
    "## 1. 초기데이터 분석"
   ]
  },
  {
   "cell_type": "markdown",
   "id": "0c3c91be",
   "metadata": {},
   "source": [
    "### 1-1. 데이터스키마 확인"
   ]
  },
  {
   "cell_type": "markdown",
   "id": "531b65a6-0159-43a2-bb51-7090d7a390f6",
   "metadata": {},
   "source": [
    "# 각 열의 의미, 데이터의 의미해석관련 스펙 또는 메뉴얼을 확인 가능시 진행 하세요\n",
    "* A열: A열의 의미를 기술\n",
    "* B열: B열의 의미를 기술  \n",
    "..."
   ]
  },
  {
   "cell_type": "code",
   "execution_count": 47,
   "id": "19fb0c9d-f21e-485a-a2d8-c1ff4cbff4c0",
   "metadata": {},
   "outputs": [
    {
     "name": "stdout",
     "output_type": "stream",
     "text": [
      "<class 'pandas.core.frame.DataFrame'>\n",
      "RangeIndex: 40429 entries, 0 to 40428\n",
      "Data columns (total 33 columns):\n",
      " #   Column       Non-Null Count  Dtype  \n",
      "---  ------       --------------  -----  \n",
      " 0   번호           40429 non-null  int64  \n",
      " 1   개방서비스명       40429 non-null  object \n",
      " 2   개방서비스아이디     40429 non-null  object \n",
      " 3   개방자치단체코드     40429 non-null  int64  \n",
      " 4   관리번호         40429 non-null  object \n",
      " 5   인허가일자        40429 non-null  int64  \n",
      " 6   인허가취소일자      22972 non-null  float64\n",
      " 7   영업상태구분코드     40429 non-null  int64  \n",
      " 8   영업상태명        40429 non-null  object \n",
      " 9   상세영업상태코드     40429 non-null  int64  \n",
      " 10  상세영업상태명      40429 non-null  object \n",
      " 11  폐업일자         22972 non-null  float64\n",
      " 12  휴업시작일자       0 non-null      float64\n",
      " 13  휴업종료일자       0 non-null      float64\n",
      " 14  재개업일자        0 non-null      float64\n",
      " 15  소재지전화        0 non-null      float64\n",
      " 16  소재지면적        40429 non-null  float64\n",
      " 17  소재지우편번호      0 non-null      float64\n",
      " 18  소재지전체주소      40251 non-null  object \n",
      " 19  도로명전체주소      27969 non-null  object \n",
      " 20  도로명우편번호      22893 non-null  float64\n",
      " 21  사업장명         40429 non-null  object \n",
      " 22  최종수정시점       40429 non-null  int64  \n",
      " 23  데이터갱신구분      40429 non-null  object \n",
      " 24  데이터갱신일자      40429 non-null  object \n",
      " 25  업태구분명        0 non-null      float64\n",
      " 26  좌표정보(x)      23497 non-null  float64\n",
      " 27  좌표정보(y)      23497 non-null  float64\n",
      " 28  비상시설위치       40251 non-null  object \n",
      " 29  시설구분명        40429 non-null  object \n",
      " 30  시설명건물명       40429 non-null  object \n",
      " 31  해제일자         22972 non-null  float64\n",
      " 32  Unnamed: 32  0 non-null      float64\n",
      "dtypes: float64(14), int64(6), object(13)\n",
      "memory usage: 10.2+ MB\n"
     ]
    }
   ],
   "source": [
    "df.info()"
   ]
  },
  {
   "cell_type": "markdown",
   "id": "913979f3",
   "metadata": {},
   "source": [
    "### 1-2. 데이터 기초정보 확인"
   ]
  },
  {
   "cell_type": "markdown",
   "id": "1e03acff-a002-4e37-be88-5d36d4706630",
   "metadata": {},
   "source": [
    "* 사이즈, 데이터형, 기초통계항목등을 확인하세요  "
   ]
  },
  {
   "cell_type": "code",
   "execution_count": 48,
   "id": "4213881a-92fb-4064-af2a-25bc73e4299e",
   "metadata": {},
   "outputs": [
    {
     "data": {
      "text/plain": [
       "(40429, 33)"
      ]
     },
     "execution_count": 48,
     "metadata": {},
     "output_type": "execute_result"
    }
   ],
   "source": [
    "df.shape\n",
    "#df.info()"
   ]
  },
  {
   "cell_type": "markdown",
   "id": "8d2984b9-6715-49a2-8583-d9583b38b857",
   "metadata": {},
   "source": [
    "* 기초통계항목"
   ]
  },
  {
   "cell_type": "code",
   "execution_count": 49,
   "id": "7f497c28-3191-4262-aae0-41402e8eaeef",
   "metadata": {},
   "outputs": [
    {
     "data": {
      "text/html": [
       "<div>\n",
       "<style scoped>\n",
       "    .dataframe tbody tr th:only-of-type {\n",
       "        vertical-align: middle;\n",
       "    }\n",
       "\n",
       "    .dataframe tbody tr th {\n",
       "        vertical-align: top;\n",
       "    }\n",
       "\n",
       "    .dataframe thead th {\n",
       "        text-align: right;\n",
       "    }\n",
       "</style>\n",
       "<table border=\"1\" class=\"dataframe\">\n",
       "  <thead>\n",
       "    <tr style=\"text-align: right;\">\n",
       "      <th></th>\n",
       "      <th>번호</th>\n",
       "      <th>개방자치단체코드</th>\n",
       "      <th>인허가일자</th>\n",
       "      <th>인허가취소일자</th>\n",
       "      <th>영업상태구분코드</th>\n",
       "      <th>상세영업상태코드</th>\n",
       "      <th>폐업일자</th>\n",
       "      <th>휴업시작일자</th>\n",
       "      <th>휴업종료일자</th>\n",
       "      <th>재개업일자</th>\n",
       "      <th>소재지전화</th>\n",
       "      <th>소재지면적</th>\n",
       "      <th>소재지우편번호</th>\n",
       "      <th>도로명우편번호</th>\n",
       "      <th>최종수정시점</th>\n",
       "      <th>업태구분명</th>\n",
       "      <th>좌표정보(x)</th>\n",
       "      <th>좌표정보(y)</th>\n",
       "      <th>해제일자</th>\n",
       "      <th>Unnamed: 32</th>\n",
       "    </tr>\n",
       "  </thead>\n",
       "  <tbody>\n",
       "    <tr>\n",
       "      <th>count</th>\n",
       "      <td>40429.000000</td>\n",
       "      <td>4.042900e+04</td>\n",
       "      <td>4.042900e+04</td>\n",
       "      <td>2.297200e+04</td>\n",
       "      <td>40429.000000</td>\n",
       "      <td>40429.000000</td>\n",
       "      <td>2.297200e+04</td>\n",
       "      <td>0.0</td>\n",
       "      <td>0.0</td>\n",
       "      <td>0.0</td>\n",
       "      <td>0.0</td>\n",
       "      <td>40429.000000</td>\n",
       "      <td>0.0</td>\n",
       "      <td>22893.000000</td>\n",
       "      <td>4.042900e+04</td>\n",
       "      <td>0.0</td>\n",
       "      <td>23497.000000</td>\n",
       "      <td>23497.000000</td>\n",
       "      <td>2.297200e+04</td>\n",
       "      <td>0.0</td>\n",
       "    </tr>\n",
       "    <tr>\n",
       "      <th>mean</th>\n",
       "      <td>20215.000000</td>\n",
       "      <td>4.009412e+06</td>\n",
       "      <td>2.000386e+07</td>\n",
       "      <td>2.012259e+07</td>\n",
       "      <td>2.704618</td>\n",
       "      <td>18.568206</td>\n",
       "      <td>2.012259e+07</td>\n",
       "      <td>NaN</td>\n",
       "      <td>NaN</td>\n",
       "      <td>NaN</td>\n",
       "      <td>NaN</td>\n",
       "      <td>3667.773906</td>\n",
       "      <td>NaN</td>\n",
       "      <td>102683.573931</td>\n",
       "      <td>2.017430e+13</td>\n",
       "      <td>NaN</td>\n",
       "      <td>247209.670139</td>\n",
       "      <td>334058.775393</td>\n",
       "      <td>2.012259e+07</td>\n",
       "      <td>NaN</td>\n",
       "    </tr>\n",
       "    <tr>\n",
       "      <th>std</th>\n",
       "      <td>11670.991353</td>\n",
       "      <td>8.185579e+05</td>\n",
       "      <td>1.039766e+05</td>\n",
       "      <td>4.390088e+04</td>\n",
       "      <td>1.485997</td>\n",
       "      <td>0.495332</td>\n",
       "      <td>4.390088e+04</td>\n",
       "      <td>NaN</td>\n",
       "      <td>NaN</td>\n",
       "      <td>NaN</td>\n",
       "      <td>NaN</td>\n",
       "      <td>9916.439189</td>\n",
       "      <td>NaN</td>\n",
       "      <td>169685.004214</td>\n",
       "      <td>3.935929e+10</td>\n",
       "      <td>NaN</td>\n",
       "      <td>80854.125988</td>\n",
       "      <td>125873.529397</td>\n",
       "      <td>4.390088e+04</td>\n",
       "      <td>NaN</td>\n",
       "    </tr>\n",
       "    <tr>\n",
       "      <th>min</th>\n",
       "      <td>1.000000</td>\n",
       "      <td>3.000000e+06</td>\n",
       "      <td>1.900010e+07</td>\n",
       "      <td>1.992093e+07</td>\n",
       "      <td>1.000000</td>\n",
       "      <td>18.000000</td>\n",
       "      <td>1.992093e+07</td>\n",
       "      <td>NaN</td>\n",
       "      <td>NaN</td>\n",
       "      <td>NaN</td>\n",
       "      <td>NaN</td>\n",
       "      <td>0.000000</td>\n",
       "      <td>NaN</td>\n",
       "      <td>1001.000000</td>\n",
       "      <td>2.003021e+13</td>\n",
       "      <td>NaN</td>\n",
       "      <td>-7535.470507</td>\n",
       "      <td>-30194.492494</td>\n",
       "      <td>1.992093e+07</td>\n",
       "      <td>NaN</td>\n",
       "    </tr>\n",
       "    <tr>\n",
       "      <th>25%</th>\n",
       "      <td>10108.000000</td>\n",
       "      <td>3.420000e+06</td>\n",
       "      <td>1.994010e+07</td>\n",
       "      <td>2.009082e+07</td>\n",
       "      <td>1.000000</td>\n",
       "      <td>18.000000</td>\n",
       "      <td>2.009082e+07</td>\n",
       "      <td>NaN</td>\n",
       "      <td>NaN</td>\n",
       "      <td>NaN</td>\n",
       "      <td>NaN</td>\n",
       "      <td>214.880000</td>\n",
       "      <td>NaN</td>\n",
       "      <td>15569.000000</td>\n",
       "      <td>2.013121e+13</td>\n",
       "      <td>NaN</td>\n",
       "      <td>191004.699476</td>\n",
       "      <td>214429.706920</td>\n",
       "      <td>2.009082e+07</td>\n",
       "      <td>NaN</td>\n",
       "    </tr>\n",
       "    <tr>\n",
       "      <th>50%</th>\n",
       "      <td>20215.000000</td>\n",
       "      <td>3.690000e+06</td>\n",
       "      <td>2.001010e+07</td>\n",
       "      <td>2.011121e+07</td>\n",
       "      <td>4.000000</td>\n",
       "      <td>19.000000</td>\n",
       "      <td>2.011121e+07</td>\n",
       "      <td>NaN</td>\n",
       "      <td>NaN</td>\n",
       "      <td>NaN</td>\n",
       "      <td>NaN</td>\n",
       "      <td>660.000000</td>\n",
       "      <td>NaN</td>\n",
       "      <td>39180.000000</td>\n",
       "      <td>2.017022e+13</td>\n",
       "      <td>NaN</td>\n",
       "      <td>210884.375897</td>\n",
       "      <td>365141.213470</td>\n",
       "      <td>2.011121e+07</td>\n",
       "      <td>NaN</td>\n",
       "    </tr>\n",
       "    <tr>\n",
       "      <th>75%</th>\n",
       "      <td>30322.000000</td>\n",
       "      <td>4.530000e+06</td>\n",
       "      <td>2.008090e+07</td>\n",
       "      <td>2.016102e+07</td>\n",
       "      <td>4.000000</td>\n",
       "      <td>19.000000</td>\n",
       "      <td>2.016102e+07</td>\n",
       "      <td>NaN</td>\n",
       "      <td>NaN</td>\n",
       "      <td>NaN</td>\n",
       "      <td>NaN</td>\n",
       "      <td>2963.000000</td>\n",
       "      <td>NaN</td>\n",
       "      <td>59024.000000</td>\n",
       "      <td>2.022010e+13</td>\n",
       "      <td>NaN</td>\n",
       "      <td>321659.221344</td>\n",
       "      <td>445369.290846</td>\n",
       "      <td>2.016102e+07</td>\n",
       "      <td>NaN</td>\n",
       "    </tr>\n",
       "    <tr>\n",
       "      <th>max</th>\n",
       "      <td>40429.000000</td>\n",
       "      <td>6.520000e+06</td>\n",
       "      <td>2.022120e+07</td>\n",
       "      <td>2.022113e+07</td>\n",
       "      <td>4.000000</td>\n",
       "      <td>19.000000</td>\n",
       "      <td>2.022113e+07</td>\n",
       "      <td>NaN</td>\n",
       "      <td>NaN</td>\n",
       "      <td>NaN</td>\n",
       "      <td>NaN</td>\n",
       "      <td>507732.000000</td>\n",
       "      <td>NaN</td>\n",
       "      <td>791010.000000</td>\n",
       "      <td>2.022113e+13</td>\n",
       "      <td>NaN</td>\n",
       "      <td>545455.167805</td>\n",
       "      <td>560361.266438</td>\n",
       "      <td>2.022113e+07</td>\n",
       "      <td>NaN</td>\n",
       "    </tr>\n",
       "  </tbody>\n",
       "</table>\n",
       "</div>"
      ],
      "text/plain": [
       "                 번호      개방자치단체코드         인허가일자       인허가취소일자      영업상태구분코드  \\\n",
       "count  40429.000000  4.042900e+04  4.042900e+04  2.297200e+04  40429.000000   \n",
       "mean   20215.000000  4.009412e+06  2.000386e+07  2.012259e+07      2.704618   \n",
       "std    11670.991353  8.185579e+05  1.039766e+05  4.390088e+04      1.485997   \n",
       "min        1.000000  3.000000e+06  1.900010e+07  1.992093e+07      1.000000   \n",
       "25%    10108.000000  3.420000e+06  1.994010e+07  2.009082e+07      1.000000   \n",
       "50%    20215.000000  3.690000e+06  2.001010e+07  2.011121e+07      4.000000   \n",
       "75%    30322.000000  4.530000e+06  2.008090e+07  2.016102e+07      4.000000   \n",
       "max    40429.000000  6.520000e+06  2.022120e+07  2.022113e+07      4.000000   \n",
       "\n",
       "           상세영업상태코드          폐업일자  휴업시작일자  휴업종료일자  재개업일자  소재지전화  \\\n",
       "count  40429.000000  2.297200e+04     0.0     0.0    0.0    0.0   \n",
       "mean      18.568206  2.012259e+07     NaN     NaN    NaN    NaN   \n",
       "std        0.495332  4.390088e+04     NaN     NaN    NaN    NaN   \n",
       "min       18.000000  1.992093e+07     NaN     NaN    NaN    NaN   \n",
       "25%       18.000000  2.009082e+07     NaN     NaN    NaN    NaN   \n",
       "50%       19.000000  2.011121e+07     NaN     NaN    NaN    NaN   \n",
       "75%       19.000000  2.016102e+07     NaN     NaN    NaN    NaN   \n",
       "max       19.000000  2.022113e+07     NaN     NaN    NaN    NaN   \n",
       "\n",
       "               소재지면적  소재지우편번호        도로명우편번호        최종수정시점  업태구분명  \\\n",
       "count   40429.000000      0.0   22893.000000  4.042900e+04    0.0   \n",
       "mean     3667.773906      NaN  102683.573931  2.017430e+13    NaN   \n",
       "std      9916.439189      NaN  169685.004214  3.935929e+10    NaN   \n",
       "min         0.000000      NaN    1001.000000  2.003021e+13    NaN   \n",
       "25%       214.880000      NaN   15569.000000  2.013121e+13    NaN   \n",
       "50%       660.000000      NaN   39180.000000  2.017022e+13    NaN   \n",
       "75%      2963.000000      NaN   59024.000000  2.022010e+13    NaN   \n",
       "max    507732.000000      NaN  791010.000000  2.022113e+13    NaN   \n",
       "\n",
       "             좌표정보(x)        좌표정보(y)          해제일자  Unnamed: 32  \n",
       "count   23497.000000   23497.000000  2.297200e+04          0.0  \n",
       "mean   247209.670139  334058.775393  2.012259e+07          NaN  \n",
       "std     80854.125988  125873.529397  4.390088e+04          NaN  \n",
       "min     -7535.470507  -30194.492494  1.992093e+07          NaN  \n",
       "25%    191004.699476  214429.706920  2.009082e+07          NaN  \n",
       "50%    210884.375897  365141.213470  2.011121e+07          NaN  \n",
       "75%    321659.221344  445369.290846  2.016102e+07          NaN  \n",
       "max    545455.167805  560361.266438  2.022113e+07          NaN  "
      ]
     },
     "execution_count": 49,
     "metadata": {},
     "output_type": "execute_result"
    }
   ],
   "source": [
    "df.describe()"
   ]
  },
  {
   "cell_type": "markdown",
   "id": "c2e13829",
   "metadata": {},
   "source": [
    "## 2. 데이터 정제"
   ]
  },
  {
   "cell_type": "markdown",
   "id": "7eedb11e",
   "metadata": {},
   "source": [
    "### 2-1. 간단한 데이터 전처리"
   ]
  },
  {
   "cell_type": "code",
   "execution_count": 50,
   "id": "cb78da0e-3ae6-4f4b-a9ca-341d27ccc4fb",
   "metadata": {},
   "outputs": [
    {
     "data": {
      "text/plain": [
       "Index(['번호', '개방서비스명', '개방서비스아이디', '개방자치단체코드', '관리번호', '인허가일자', '인허가취소일자',\n",
       "       '영업상태구분코드', '영업상태명', '상세영업상태코드', '상세영업상태명', '폐업일자', '휴업시작일자', '휴업종료일자',\n",
       "       '재개업일자', '소재지전화', '소재지면적', '소재지우편번호', '소재지전체주소', '도로명전체주소', '도로명우편번호',\n",
       "       '사업장명', '최종수정시점', '데이터갱신구분', '데이터갱신일자', '업태구분명', '좌표정보(x)', '좌표정보(y)',\n",
       "       '비상시설위치', '시설구분명', '시설명건물명', '해제일자', 'Unnamed: 32'],\n",
       "      dtype='object')"
      ]
     },
     "execution_count": 50,
     "metadata": {},
     "output_type": "execute_result"
    }
   ],
   "source": [
    "df.columns"
   ]
  },
  {
   "cell_type": "code",
   "execution_count": 51,
   "id": "5fd51a76",
   "metadata": {},
   "outputs": [
    {
     "data": {
      "text/html": [
       "<div>\n",
       "<style scoped>\n",
       "    .dataframe tbody tr th:only-of-type {\n",
       "        vertical-align: middle;\n",
       "    }\n",
       "\n",
       "    .dataframe tbody tr th {\n",
       "        vertical-align: top;\n",
       "    }\n",
       "\n",
       "    .dataframe thead th {\n",
       "        text-align: right;\n",
       "    }\n",
       "</style>\n",
       "<table border=\"1\" class=\"dataframe\">\n",
       "  <thead>\n",
       "    <tr style=\"text-align: right;\">\n",
       "      <th></th>\n",
       "      <th>번호</th>\n",
       "      <th>개방서비스명</th>\n",
       "      <th>개방서비스아이디</th>\n",
       "      <th>개방자치단체코드</th>\n",
       "      <th>관리번호</th>\n",
       "      <th>인허가일자</th>\n",
       "      <th>인허가취소일자</th>\n",
       "      <th>영업상태구분코드</th>\n",
       "      <th>영업상태명</th>\n",
       "      <th>상세영업상태코드</th>\n",
       "      <th>상세영업상태명</th>\n",
       "      <th>폐업일자</th>\n",
       "      <th>휴업시작일자</th>\n",
       "      <th>휴업종료일자</th>\n",
       "      <th>재개업일자</th>\n",
       "      <th>소재지전화</th>\n",
       "      <th>소재지면적</th>\n",
       "      <th>소재지우편번호</th>\n",
       "      <th>소재지전체주소</th>\n",
       "      <th>도로명전체주소</th>\n",
       "    </tr>\n",
       "  </thead>\n",
       "  <tbody>\n",
       "    <tr>\n",
       "      <th>0</th>\n",
       "      <td>1</td>\n",
       "      <td>민방위대피시설</td>\n",
       "      <td>11_46_02_P</td>\n",
       "      <td>5090000</td>\n",
       "      <td>5090000-S198900003</td>\n",
       "      <td>19891207</td>\n",
       "      <td>NaN</td>\n",
       "      <td>1</td>\n",
       "      <td>영업/정상</td>\n",
       "      <td>18</td>\n",
       "      <td>사용중</td>\n",
       "      <td>NaN</td>\n",
       "      <td>NaN</td>\n",
       "      <td>NaN</td>\n",
       "      <td>NaN</td>\n",
       "      <td>NaN</td>\n",
       "      <td>298.0</td>\n",
       "      <td>NaN</td>\n",
       "      <td>경상북도 영주시 하망동 344번지 34호</td>\n",
       "      <td>경상북도 영주시 번영로 149 (하망동)</td>\n",
       "    </tr>\n",
       "    <tr>\n",
       "      <th>1</th>\n",
       "      <td>2</td>\n",
       "      <td>민방위대피시설</td>\n",
       "      <td>11_46_02_P</td>\n",
       "      <td>5090000</td>\n",
       "      <td>5090000-S197400001</td>\n",
       "      <td>19950329</td>\n",
       "      <td>NaN</td>\n",
       "      <td>1</td>\n",
       "      <td>영업/정상</td>\n",
       "      <td>18</td>\n",
       "      <td>사용중</td>\n",
       "      <td>NaN</td>\n",
       "      <td>NaN</td>\n",
       "      <td>NaN</td>\n",
       "      <td>NaN</td>\n",
       "      <td>NaN</td>\n",
       "      <td>119.0</td>\n",
       "      <td>NaN</td>\n",
       "      <td>경상북도 영주시 휴천동 677번지</td>\n",
       "      <td>경상북도 영주시 구성로 269 (휴천동, 한국통신)</td>\n",
       "    </tr>\n",
       "  </tbody>\n",
       "</table>\n",
       "</div>"
      ],
      "text/plain": [
       "   번호   개방서비스명    개방서비스아이디  개방자치단체코드                관리번호     인허가일자  인허가취소일자  \\\n",
       "0   1  민방위대피시설  11_46_02_P   5090000  5090000-S198900003  19891207      NaN   \n",
       "1   2  민방위대피시설  11_46_02_P   5090000  5090000-S197400001  19950329      NaN   \n",
       "\n",
       "   영업상태구분코드  영업상태명  상세영업상태코드 상세영업상태명  폐업일자  휴업시작일자  휴업종료일자  재개업일자  소재지전화  \\\n",
       "0         1  영업/정상        18     사용중   NaN     NaN     NaN    NaN    NaN   \n",
       "1         1  영업/정상        18     사용중   NaN     NaN     NaN    NaN    NaN   \n",
       "\n",
       "   소재지면적  소재지우편번호                 소재지전체주소                       도로명전체주소  \n",
       "0  298.0      NaN  경상북도 영주시 하망동 344번지 34호        경상북도 영주시 번영로 149 (하망동)  \n",
       "1  119.0      NaN      경상북도 영주시 휴천동 677번지  경상북도 영주시 구성로 269 (휴천동, 한국통신)  "
      ]
     },
     "execution_count": 51,
     "metadata": {},
     "output_type": "execute_result"
    }
   ],
   "source": [
    "# 원본데이터로에서 읽기 가능한 형태로 데이터처리를 하세요. (열이름 변경, 형변환, 피봇, 분석용 데이터 셋 생성 등)\n",
    "df.iloc[:2,:20]"
   ]
  },
  {
   "cell_type": "code",
   "execution_count": 52,
   "id": "4fb6b37e-218c-4240-9fe6-b617fb510b7a",
   "metadata": {},
   "outputs": [
    {
     "data": {
      "text/html": [
       "<div>\n",
       "<style scoped>\n",
       "    .dataframe tbody tr th:only-of-type {\n",
       "        vertical-align: middle;\n",
       "    }\n",
       "\n",
       "    .dataframe tbody tr th {\n",
       "        vertical-align: top;\n",
       "    }\n",
       "\n",
       "    .dataframe thead th {\n",
       "        text-align: right;\n",
       "    }\n",
       "</style>\n",
       "<table border=\"1\" class=\"dataframe\">\n",
       "  <thead>\n",
       "    <tr style=\"text-align: right;\">\n",
       "      <th></th>\n",
       "      <th>도로명우편번호</th>\n",
       "      <th>사업장명</th>\n",
       "      <th>최종수정시점</th>\n",
       "      <th>데이터갱신구분</th>\n",
       "      <th>데이터갱신일자</th>\n",
       "      <th>업태구분명</th>\n",
       "      <th>좌표정보(x)</th>\n",
       "      <th>좌표정보(y)</th>\n",
       "      <th>비상시설위치</th>\n",
       "      <th>시설구분명</th>\n",
       "      <th>시설명건물명</th>\n",
       "      <th>해제일자</th>\n",
       "      <th>Unnamed: 32</th>\n",
       "    </tr>\n",
       "  </thead>\n",
       "  <tbody>\n",
       "    <tr>\n",
       "      <th>0</th>\n",
       "      <td>NaN</td>\n",
       "      <td>대구은행</td>\n",
       "      <td>20220614162021</td>\n",
       "      <td>U</td>\n",
       "      <td>2022-06-16 02:40:00.0</td>\n",
       "      <td>NaN</td>\n",
       "      <td>344927.833391</td>\n",
       "      <td>370456.199467</td>\n",
       "      <td>경상북도 영주시 하망동 344번지 34호</td>\n",
       "      <td>공공시설</td>\n",
       "      <td>대구은행</td>\n",
       "      <td>NaN</td>\n",
       "      <td>NaN</td>\n",
       "    </tr>\n",
       "    <tr>\n",
       "      <th>1</th>\n",
       "      <td>36151.0</td>\n",
       "      <td>KT영주지사</td>\n",
       "      <td>20220614161605</td>\n",
       "      <td>U</td>\n",
       "      <td>2022-06-16 02:40:00.0</td>\n",
       "      <td>NaN</td>\n",
       "      <td>345125.748147</td>\n",
       "      <td>369669.863961</td>\n",
       "      <td>경상북도 영주시 휴천동 677번지</td>\n",
       "      <td>공공시설</td>\n",
       "      <td>KT영주지사</td>\n",
       "      <td>NaN</td>\n",
       "      <td>NaN</td>\n",
       "    </tr>\n",
       "  </tbody>\n",
       "</table>\n",
       "</div>"
      ],
      "text/plain": [
       "   도로명우편번호    사업장명          최종수정시점 데이터갱신구분                데이터갱신일자  업태구분명  \\\n",
       "0      NaN    대구은행  20220614162021       U  2022-06-16 02:40:00.0    NaN   \n",
       "1  36151.0  KT영주지사  20220614161605       U  2022-06-16 02:40:00.0    NaN   \n",
       "\n",
       "         좌표정보(x)        좌표정보(y)                  비상시설위치 시설구분명  시설명건물명  해제일자  \\\n",
       "0  344927.833391  370456.199467  경상북도 영주시 하망동 344번지 34호  공공시설    대구은행   NaN   \n",
       "1  345125.748147  369669.863961      경상북도 영주시 휴천동 677번지  공공시설  KT영주지사   NaN   \n",
       "\n",
       "   Unnamed: 32  \n",
       "0          NaN  \n",
       "1          NaN  "
      ]
     },
     "execution_count": 52,
     "metadata": {},
     "output_type": "execute_result"
    }
   ],
   "source": [
    "df.iloc[:2,20:]"
   ]
  },
  {
   "cell_type": "code",
   "execution_count": 53,
   "id": "1c062f97-b674-4b6e-aade-1955cbf5cc54",
   "metadata": {},
   "outputs": [
    {
     "data": {
      "text/html": [
       "<div>\n",
       "<style scoped>\n",
       "    .dataframe tbody tr th:only-of-type {\n",
       "        vertical-align: middle;\n",
       "    }\n",
       "\n",
       "    .dataframe tbody tr th {\n",
       "        vertical-align: top;\n",
       "    }\n",
       "\n",
       "    .dataframe thead th {\n",
       "        text-align: right;\n",
       "    }\n",
       "</style>\n",
       "<table border=\"1\" class=\"dataframe\">\n",
       "  <thead>\n",
       "    <tr style=\"text-align: right;\">\n",
       "      <th></th>\n",
       "      <th>개방서비스명</th>\n",
       "      <th>개방서비스아이디</th>\n",
       "      <th>개방자치단체코드</th>\n",
       "      <th>관리번호</th>\n",
       "      <th>인허가일자</th>\n",
       "      <th>인허가취소일자</th>\n",
       "      <th>영업상태구분코드</th>\n",
       "      <th>영업상태명</th>\n",
       "      <th>상세영업상태코드</th>\n",
       "      <th>상세영업상태명</th>\n",
       "      <th>폐업일자</th>\n",
       "      <th>소재지면적</th>\n",
       "      <th>소재지전체주소</th>\n",
       "      <th>사업장명</th>\n",
       "      <th>최종수정시점</th>\n",
       "      <th>데이터갱신구분</th>\n",
       "      <th>데이터갱신일자</th>\n",
       "      <th>비상시설위치</th>\n",
       "      <th>시설구분명</th>\n",
       "      <th>시설명건물명</th>\n",
       "    </tr>\n",
       "  </thead>\n",
       "  <tbody>\n",
       "    <tr>\n",
       "      <th>0</th>\n",
       "      <td>민방위대피시설</td>\n",
       "      <td>11_46_02_P</td>\n",
       "      <td>5090000</td>\n",
       "      <td>5090000-S198900003</td>\n",
       "      <td>19891207</td>\n",
       "      <td>NaN</td>\n",
       "      <td>1</td>\n",
       "      <td>영업/정상</td>\n",
       "      <td>18</td>\n",
       "      <td>사용중</td>\n",
       "      <td>NaN</td>\n",
       "      <td>298.0</td>\n",
       "      <td>경상북도 영주시 하망동 344번지 34호</td>\n",
       "      <td>대구은행</td>\n",
       "      <td>20220614162021</td>\n",
       "      <td>U</td>\n",
       "      <td>2022-06-16 02:40:00.0</td>\n",
       "      <td>경상북도 영주시 하망동 344번지 34호</td>\n",
       "      <td>공공시설</td>\n",
       "      <td>대구은행</td>\n",
       "    </tr>\n",
       "    <tr>\n",
       "      <th>1</th>\n",
       "      <td>민방위대피시설</td>\n",
       "      <td>11_46_02_P</td>\n",
       "      <td>5090000</td>\n",
       "      <td>5090000-S197400001</td>\n",
       "      <td>19950329</td>\n",
       "      <td>NaN</td>\n",
       "      <td>1</td>\n",
       "      <td>영업/정상</td>\n",
       "      <td>18</td>\n",
       "      <td>사용중</td>\n",
       "      <td>NaN</td>\n",
       "      <td>119.0</td>\n",
       "      <td>경상북도 영주시 휴천동 677번지</td>\n",
       "      <td>KT영주지사</td>\n",
       "      <td>20220614161605</td>\n",
       "      <td>U</td>\n",
       "      <td>2022-06-16 02:40:00.0</td>\n",
       "      <td>경상북도 영주시 휴천동 677번지</td>\n",
       "      <td>공공시설</td>\n",
       "      <td>KT영주지사</td>\n",
       "    </tr>\n",
       "    <tr>\n",
       "      <th>2</th>\n",
       "      <td>민방위대피시설</td>\n",
       "      <td>11_46_02_P</td>\n",
       "      <td>5090000</td>\n",
       "      <td>5090000-S199200002</td>\n",
       "      <td>19920526</td>\n",
       "      <td>NaN</td>\n",
       "      <td>1</td>\n",
       "      <td>영업/정상</td>\n",
       "      <td>18</td>\n",
       "      <td>사용중</td>\n",
       "      <td>NaN</td>\n",
       "      <td>965.0</td>\n",
       "      <td>경상북도 영주시 하망동 276번지 23호</td>\n",
       "      <td>코오롱2차아파트 보일러실</td>\n",
       "      <td>20220614162050</td>\n",
       "      <td>U</td>\n",
       "      <td>2022-06-16 02:40:00.0</td>\n",
       "      <td>경상북도 영주시 하망동 276번지 23호</td>\n",
       "      <td>공공시설</td>\n",
       "      <td>코오롱2차아파트 보일러실</td>\n",
       "    </tr>\n",
       "    <tr>\n",
       "      <th>3</th>\n",
       "      <td>민방위대피시설</td>\n",
       "      <td>11_46_02_P</td>\n",
       "      <td>5090000</td>\n",
       "      <td>5090000-S199200004</td>\n",
       "      <td>19921109</td>\n",
       "      <td>NaN</td>\n",
       "      <td>1</td>\n",
       "      <td>영업/정상</td>\n",
       "      <td>18</td>\n",
       "      <td>사용중</td>\n",
       "      <td>NaN</td>\n",
       "      <td>661.0</td>\n",
       "      <td>경상북도 영주시 휴천동 470번지</td>\n",
       "      <td>영주시청 대피소</td>\n",
       "      <td>20220614162157</td>\n",
       "      <td>U</td>\n",
       "      <td>2022-06-16 02:40:00.0</td>\n",
       "      <td>경상북도 영주시 휴천동 470번지</td>\n",
       "      <td>공공시설</td>\n",
       "      <td>영주시청 대피소</td>\n",
       "    </tr>\n",
       "    <tr>\n",
       "      <th>4</th>\n",
       "      <td>민방위대피시설</td>\n",
       "      <td>11_46_02_P</td>\n",
       "      <td>5090000</td>\n",
       "      <td>5090000-S199800002</td>\n",
       "      <td>19980301</td>\n",
       "      <td>NaN</td>\n",
       "      <td>1</td>\n",
       "      <td>영업/정상</td>\n",
       "      <td>18</td>\n",
       "      <td>사용중</td>\n",
       "      <td>NaN</td>\n",
       "      <td>3461.0</td>\n",
       "      <td>경상북도 영주시 휴천동 168번지</td>\n",
       "      <td>현대동산아파트</td>\n",
       "      <td>20220614163107</td>\n",
       "      <td>U</td>\n",
       "      <td>2022-06-16 02:40:00.0</td>\n",
       "      <td>경상북도 영주시 휴천동 168번지</td>\n",
       "      <td>공공시설</td>\n",
       "      <td>현대동산아파트</td>\n",
       "    </tr>\n",
       "  </tbody>\n",
       "</table>\n",
       "</div>"
      ],
      "text/plain": [
       "    개방서비스명    개방서비스아이디  개방자치단체코드                관리번호     인허가일자  인허가취소일자  \\\n",
       "0  민방위대피시설  11_46_02_P   5090000  5090000-S198900003  19891207      NaN   \n",
       "1  민방위대피시설  11_46_02_P   5090000  5090000-S197400001  19950329      NaN   \n",
       "2  민방위대피시설  11_46_02_P   5090000  5090000-S199200002  19920526      NaN   \n",
       "3  민방위대피시설  11_46_02_P   5090000  5090000-S199200004  19921109      NaN   \n",
       "4  민방위대피시설  11_46_02_P   5090000  5090000-S199800002  19980301      NaN   \n",
       "\n",
       "   영업상태구분코드  영업상태명  상세영업상태코드 상세영업상태명  폐업일자   소재지면적                 소재지전체주소  \\\n",
       "0         1  영업/정상        18     사용중   NaN   298.0  경상북도 영주시 하망동 344번지 34호   \n",
       "1         1  영업/정상        18     사용중   NaN   119.0      경상북도 영주시 휴천동 677번지   \n",
       "2         1  영업/정상        18     사용중   NaN   965.0  경상북도 영주시 하망동 276번지 23호   \n",
       "3         1  영업/정상        18     사용중   NaN   661.0      경상북도 영주시 휴천동 470번지   \n",
       "4         1  영업/정상        18     사용중   NaN  3461.0      경상북도 영주시 휴천동 168번지   \n",
       "\n",
       "            사업장명          최종수정시점 데이터갱신구분                데이터갱신일자  \\\n",
       "0           대구은행  20220614162021       U  2022-06-16 02:40:00.0   \n",
       "1         KT영주지사  20220614161605       U  2022-06-16 02:40:00.0   \n",
       "2  코오롱2차아파트 보일러실  20220614162050       U  2022-06-16 02:40:00.0   \n",
       "3       영주시청 대피소  20220614162157       U  2022-06-16 02:40:00.0   \n",
       "4        현대동산아파트  20220614163107       U  2022-06-16 02:40:00.0   \n",
       "\n",
       "                   비상시설위치 시설구분명         시설명건물명  \n",
       "0  경상북도 영주시 하망동 344번지 34호  공공시설           대구은행  \n",
       "1      경상북도 영주시 휴천동 677번지  공공시설         KT영주지사  \n",
       "2  경상북도 영주시 하망동 276번지 23호  공공시설  코오롱2차아파트 보일러실  \n",
       "3      경상북도 영주시 휴천동 470번지  공공시설       영주시청 대피소  \n",
       "4      경상북도 영주시 휴천동 168번지  공공시설        현대동산아파트  "
      ]
     },
     "execution_count": 53,
     "metadata": {},
     "output_type": "execute_result"
    }
   ],
   "source": [
    "df= df[['개방서비스명', '개방서비스아이디', '개방자치단체코드', '관리번호', '인허가일자', '인허가취소일자',\n",
    "       '영업상태구분코드', '영업상태명', '상세영업상태코드', '상세영업상태명', '폐업일자', '소재지면적', '소재지전체주소', '사업장명', '최종수정시점', '데이터갱신구분', '데이터갱신일자', \n",
    "       '비상시설위치', '시설구분명', '시설명건물명']]\n",
    "df.head()"
   ]
  },
  {
   "cell_type": "markdown",
   "id": "cfa0f4f4",
   "metadata": {},
   "source": [
    "### 2-2. 데이터 클리닝"
   ]
  },
  {
   "cell_type": "code",
   "execution_count": 54,
   "id": "81050694",
   "metadata": {},
   "outputs": [],
   "source": [
    "# 결측치, 중복값, 이상치 처리등의 작업을 진행하세요"
   ]
  },
  {
   "cell_type": "markdown",
   "id": "94b01c03-879b-4b93-a375-5a88a7f3672a",
   "metadata": {},
   "source": [
    "* 결측치"
   ]
  },
  {
   "cell_type": "markdown",
   "id": "497a7431-81b3-42d2-84b5-0afde8e6c9c4",
   "metadata": {},
   "source": [
    "    - 결측치 열 확인"
   ]
  },
  {
   "cell_type": "code",
   "execution_count": 55,
   "id": "b0a70dec-f81b-46d8-b58c-73f81ce17493",
   "metadata": {},
   "outputs": [
    {
     "data": {
      "text/plain": [
       "인허가취소일자    True\n",
       "폐업일자       True\n",
       "소재지전체주소    True\n",
       "비상시설위치     True\n",
       "dtype: bool"
      ]
     },
     "execution_count": 55,
     "metadata": {},
     "output_type": "execute_result"
    }
   ],
   "source": [
    "missing_values = df.isnull().any()  \n",
    "column_missing_values = missing_values[ missing_values == True ]\n",
    "column_missing_values"
   ]
  },
  {
   "cell_type": "raw",
   "id": "ab96e2e8-2ecc-462b-8055-915bff513d34",
   "metadata": {},
   "source": [
    "   - 결측값이 있는 모든 행 확인"
   ]
  },
  {
   "cell_type": "code",
   "execution_count": 82,
   "id": "b659e92c-1bb4-45e7-9cb2-a44643475c89",
   "metadata": {},
   "outputs": [
    {
     "name": "stdout",
     "output_type": "stream",
     "text": [
      "<class 'pandas.core.frame.DataFrame'>\n",
      "RangeIndex: 40429 entries, 0 to 40428\n",
      "Data columns (total 18 columns):\n",
      " #   Column    Non-Null Count  Dtype  \n",
      "---  ------    --------------  -----  \n",
      " 0   개방서비스명    40429 non-null  object \n",
      " 1   개방서비스아이디  40429 non-null  object \n",
      " 2   개방자치단체코드  40429 non-null  int64  \n",
      " 3   관리번호      40429 non-null  object \n",
      " 4   인허가일자     40429 non-null  int64  \n",
      " 5   영업상태구분코드  40429 non-null  int64  \n",
      " 6   영업상태명     40429 non-null  object \n",
      " 7   상세영업상태코드  40429 non-null  int64  \n",
      " 8   상세영업상태명   40429 non-null  object \n",
      " 9   소재지면적     40429 non-null  float64\n",
      " 10  소재지전체주소   40429 non-null  object \n",
      " 11  사업장명      40429 non-null  object \n",
      " 12  최종수정시점    40429 non-null  int64  \n",
      " 13  데이터갱신구분   40429 non-null  object \n",
      " 14  데이터갱신일자   40429 non-null  object \n",
      " 15  비상시설위치    40429 non-null  object \n",
      " 16  시설구분명     40429 non-null  object \n",
      " 17  시설명건물명    40429 non-null  object \n",
      "dtypes: float64(1), int64(5), object(12)\n",
      "memory usage: 5.6+ MB\n"
     ]
    }
   ],
   "source": [
    "df.info()"
   ]
  },
  {
   "cell_type": "code",
   "execution_count": 83,
   "id": "53aa6924-3c4f-4aad-91cf-2d09b459d59b",
   "metadata": {},
   "outputs": [
    {
     "data": {
      "text/html": [
       "<div>\n",
       "<style scoped>\n",
       "    .dataframe tbody tr th:only-of-type {\n",
       "        vertical-align: middle;\n",
       "    }\n",
       "\n",
       "    .dataframe tbody tr th {\n",
       "        vertical-align: top;\n",
       "    }\n",
       "\n",
       "    .dataframe thead th {\n",
       "        text-align: right;\n",
       "    }\n",
       "</style>\n",
       "<table border=\"1\" class=\"dataframe\">\n",
       "  <thead>\n",
       "    <tr style=\"text-align: right;\">\n",
       "      <th></th>\n",
       "      <th>개방서비스명</th>\n",
       "      <th>개방서비스아이디</th>\n",
       "      <th>개방자치단체코드</th>\n",
       "      <th>관리번호</th>\n",
       "      <th>인허가일자</th>\n",
       "      <th>영업상태구분코드</th>\n",
       "      <th>영업상태명</th>\n",
       "      <th>상세영업상태코드</th>\n",
       "      <th>상세영업상태명</th>\n",
       "      <th>소재지면적</th>\n",
       "      <th>소재지전체주소</th>\n",
       "      <th>사업장명</th>\n",
       "      <th>최종수정시점</th>\n",
       "      <th>데이터갱신구분</th>\n",
       "      <th>데이터갱신일자</th>\n",
       "      <th>비상시설위치</th>\n",
       "      <th>시설구분명</th>\n",
       "      <th>시설명건물명</th>\n",
       "    </tr>\n",
       "  </thead>\n",
       "  <tbody>\n",
       "  </tbody>\n",
       "</table>\n",
       "</div>"
      ],
      "text/plain": [
       "Empty DataFrame\n",
       "Columns: [개방서비스명, 개방서비스아이디, 개방자치단체코드, 관리번호, 인허가일자, 영업상태구분코드, 영업상태명, 상세영업상태코드, 상세영업상태명, 소재지면적, 소재지전체주소, 사업장명, 최종수정시점, 데이터갱신구분, 데이터갱신일자, 비상시설위치, 시설구분명, 시설명건물명]\n",
       "Index: []"
      ]
     },
     "execution_count": 83,
     "metadata": {},
     "output_type": "execute_result"
    }
   ],
   "source": [
    "df[df.isnull().any(axis=1)]"
   ]
  },
  {
   "cell_type": "code",
   "execution_count": 58,
   "id": "4fef4445-deaf-4a41-bf58-d743c573fa75",
   "metadata": {},
   "outputs": [
    {
     "data": {
      "text/html": [
       "<div>\n",
       "<style scoped>\n",
       "    .dataframe tbody tr th:only-of-type {\n",
       "        vertical-align: middle;\n",
       "    }\n",
       "\n",
       "    .dataframe tbody tr th {\n",
       "        vertical-align: top;\n",
       "    }\n",
       "\n",
       "    .dataframe thead th {\n",
       "        text-align: right;\n",
       "    }\n",
       "</style>\n",
       "<table border=\"1\" class=\"dataframe\">\n",
       "  <thead>\n",
       "    <tr style=\"text-align: right;\">\n",
       "      <th></th>\n",
       "      <th>개방서비스명</th>\n",
       "      <th>개방서비스아이디</th>\n",
       "      <th>개방자치단체코드</th>\n",
       "      <th>관리번호</th>\n",
       "      <th>인허가일자</th>\n",
       "      <th>영업상태구분코드</th>\n",
       "      <th>영업상태명</th>\n",
       "      <th>상세영업상태코드</th>\n",
       "      <th>상세영업상태명</th>\n",
       "      <th>소재지면적</th>\n",
       "      <th>소재지전체주소</th>\n",
       "      <th>사업장명</th>\n",
       "      <th>최종수정시점</th>\n",
       "      <th>데이터갱신구분</th>\n",
       "      <th>데이터갱신일자</th>\n",
       "      <th>비상시설위치</th>\n",
       "      <th>시설구분명</th>\n",
       "      <th>시설명건물명</th>\n",
       "    </tr>\n",
       "  </thead>\n",
       "  <tbody>\n",
       "    <tr>\n",
       "      <th>0</th>\n",
       "      <td>민방위대피시설</td>\n",
       "      <td>11_46_02_P</td>\n",
       "      <td>5090000</td>\n",
       "      <td>5090000-S198900003</td>\n",
       "      <td>19891207</td>\n",
       "      <td>1</td>\n",
       "      <td>영업/정상</td>\n",
       "      <td>18</td>\n",
       "      <td>사용중</td>\n",
       "      <td>298.0</td>\n",
       "      <td>경상북도 영주시 하망동 344번지 34호</td>\n",
       "      <td>대구은행</td>\n",
       "      <td>20220614162021</td>\n",
       "      <td>U</td>\n",
       "      <td>2022-06-16 02:40:00.0</td>\n",
       "      <td>경상북도 영주시 하망동 344번지 34호</td>\n",
       "      <td>공공시설</td>\n",
       "      <td>대구은행</td>\n",
       "    </tr>\n",
       "    <tr>\n",
       "      <th>1</th>\n",
       "      <td>민방위대피시설</td>\n",
       "      <td>11_46_02_P</td>\n",
       "      <td>5090000</td>\n",
       "      <td>5090000-S197400001</td>\n",
       "      <td>19950329</td>\n",
       "      <td>1</td>\n",
       "      <td>영업/정상</td>\n",
       "      <td>18</td>\n",
       "      <td>사용중</td>\n",
       "      <td>119.0</td>\n",
       "      <td>경상북도 영주시 휴천동 677번지</td>\n",
       "      <td>KT영주지사</td>\n",
       "      <td>20220614161605</td>\n",
       "      <td>U</td>\n",
       "      <td>2022-06-16 02:40:00.0</td>\n",
       "      <td>경상북도 영주시 휴천동 677번지</td>\n",
       "      <td>공공시설</td>\n",
       "      <td>KT영주지사</td>\n",
       "    </tr>\n",
       "    <tr>\n",
       "      <th>2</th>\n",
       "      <td>민방위대피시설</td>\n",
       "      <td>11_46_02_P</td>\n",
       "      <td>5090000</td>\n",
       "      <td>5090000-S199200002</td>\n",
       "      <td>19920526</td>\n",
       "      <td>1</td>\n",
       "      <td>영업/정상</td>\n",
       "      <td>18</td>\n",
       "      <td>사용중</td>\n",
       "      <td>965.0</td>\n",
       "      <td>경상북도 영주시 하망동 276번지 23호</td>\n",
       "      <td>코오롱2차아파트 보일러실</td>\n",
       "      <td>20220614162050</td>\n",
       "      <td>U</td>\n",
       "      <td>2022-06-16 02:40:00.0</td>\n",
       "      <td>경상북도 영주시 하망동 276번지 23호</td>\n",
       "      <td>공공시설</td>\n",
       "      <td>코오롱2차아파트 보일러실</td>\n",
       "    </tr>\n",
       "    <tr>\n",
       "      <th>3</th>\n",
       "      <td>민방위대피시설</td>\n",
       "      <td>11_46_02_P</td>\n",
       "      <td>5090000</td>\n",
       "      <td>5090000-S199200004</td>\n",
       "      <td>19921109</td>\n",
       "      <td>1</td>\n",
       "      <td>영업/정상</td>\n",
       "      <td>18</td>\n",
       "      <td>사용중</td>\n",
       "      <td>661.0</td>\n",
       "      <td>경상북도 영주시 휴천동 470번지</td>\n",
       "      <td>영주시청 대피소</td>\n",
       "      <td>20220614162157</td>\n",
       "      <td>U</td>\n",
       "      <td>2022-06-16 02:40:00.0</td>\n",
       "      <td>경상북도 영주시 휴천동 470번지</td>\n",
       "      <td>공공시설</td>\n",
       "      <td>영주시청 대피소</td>\n",
       "    </tr>\n",
       "    <tr>\n",
       "      <th>4</th>\n",
       "      <td>민방위대피시설</td>\n",
       "      <td>11_46_02_P</td>\n",
       "      <td>5090000</td>\n",
       "      <td>5090000-S199800002</td>\n",
       "      <td>19980301</td>\n",
       "      <td>1</td>\n",
       "      <td>영업/정상</td>\n",
       "      <td>18</td>\n",
       "      <td>사용중</td>\n",
       "      <td>3461.0</td>\n",
       "      <td>경상북도 영주시 휴천동 168번지</td>\n",
       "      <td>현대동산아파트</td>\n",
       "      <td>20220614163107</td>\n",
       "      <td>U</td>\n",
       "      <td>2022-06-16 02:40:00.0</td>\n",
       "      <td>경상북도 영주시 휴천동 168번지</td>\n",
       "      <td>공공시설</td>\n",
       "      <td>현대동산아파트</td>\n",
       "    </tr>\n",
       "  </tbody>\n",
       "</table>\n",
       "</div>"
      ],
      "text/plain": [
       "    개방서비스명    개방서비스아이디  개방자치단체코드                관리번호     인허가일자  영업상태구분코드  \\\n",
       "0  민방위대피시설  11_46_02_P   5090000  5090000-S198900003  19891207         1   \n",
       "1  민방위대피시설  11_46_02_P   5090000  5090000-S197400001  19950329         1   \n",
       "2  민방위대피시설  11_46_02_P   5090000  5090000-S199200002  19920526         1   \n",
       "3  민방위대피시설  11_46_02_P   5090000  5090000-S199200004  19921109         1   \n",
       "4  민방위대피시설  11_46_02_P   5090000  5090000-S199800002  19980301         1   \n",
       "\n",
       "   영업상태명  상세영업상태코드 상세영업상태명   소재지면적                 소재지전체주소           사업장명  \\\n",
       "0  영업/정상        18     사용중   298.0  경상북도 영주시 하망동 344번지 34호           대구은행   \n",
       "1  영업/정상        18     사용중   119.0      경상북도 영주시 휴천동 677번지         KT영주지사   \n",
       "2  영업/정상        18     사용중   965.0  경상북도 영주시 하망동 276번지 23호  코오롱2차아파트 보일러실   \n",
       "3  영업/정상        18     사용중   661.0      경상북도 영주시 휴천동 470번지       영주시청 대피소   \n",
       "4  영업/정상        18     사용중  3461.0      경상북도 영주시 휴천동 168번지        현대동산아파트   \n",
       "\n",
       "           최종수정시점 데이터갱신구분                데이터갱신일자                  비상시설위치  \\\n",
       "0  20220614162021       U  2022-06-16 02:40:00.0  경상북도 영주시 하망동 344번지 34호   \n",
       "1  20220614161605       U  2022-06-16 02:40:00.0      경상북도 영주시 휴천동 677번지   \n",
       "2  20220614162050       U  2022-06-16 02:40:00.0  경상북도 영주시 하망동 276번지 23호   \n",
       "3  20220614162157       U  2022-06-16 02:40:00.0      경상북도 영주시 휴천동 470번지   \n",
       "4  20220614163107       U  2022-06-16 02:40:00.0      경상북도 영주시 휴천동 168번지   \n",
       "\n",
       "  시설구분명         시설명건물명  \n",
       "0  공공시설           대구은행  \n",
       "1  공공시설         KT영주지사  \n",
       "2  공공시설  코오롱2차아파트 보일러실  \n",
       "3  공공시설       영주시청 대피소  \n",
       "4  공공시설        현대동산아파트  "
      ]
     },
     "execution_count": 58,
     "metadata": {},
     "output_type": "execute_result"
    }
   ],
   "source": [
    "df= df[['개방서비스명', '개방서비스아이디', '개방자치단체코드', '관리번호', '인허가일자', \n",
    "        '영업상태구분코드', '영업상태명', '상세영업상태코드', '상세영업상태명', \n",
    "        '소재지면적', '소재지전체주소', '사업장명', '최종수정시점', '데이터갱신구분', '데이터갱신일자', \n",
    "       '비상시설위치', '시설구분명', '시설명건물명']]\n",
    "df.head()"
   ]
  },
  {
   "cell_type": "markdown",
   "id": "b9cbf7a2-7aa7-4d87-86d8-b31476a77a01",
   "metadata": {},
   "source": [
    "* 결측치 보정"
   ]
  },
  {
   "cell_type": "raw",
   "id": "adbf1968-8d29-4baa-949e-d6394e19b81b",
   "metadata": {},
   "source": [
    "   - 열에 대하여 단일 값 보정     "
   ]
  },
  {
   "cell_type": "code",
   "execution_count": 59,
   "id": "0e6c6935-a8a6-4df0-bed5-8da8fd160ec2",
   "metadata": {},
   "outputs": [],
   "source": [
    "df['소재지전체주소'] = df['소재지전체주소'].fillna('미정의')\n",
    "df['비상시설위치'] = df['비상시설위치'].fillna('미정의')"
   ]
  },
  {
   "cell_type": "code",
   "execution_count": 60,
   "id": "2e2cb9f7-d0c7-459e-8d49-e87118e2b071",
   "metadata": {},
   "outputs": [
    {
     "name": "stdout",
     "output_type": "stream",
     "text": [
      "<class 'pandas.core.frame.DataFrame'>\n",
      "RangeIndex: 40429 entries, 0 to 40428\n",
      "Data columns (total 18 columns):\n",
      " #   Column    Non-Null Count  Dtype  \n",
      "---  ------    --------------  -----  \n",
      " 0   개방서비스명    40429 non-null  object \n",
      " 1   개방서비스아이디  40429 non-null  object \n",
      " 2   개방자치단체코드  40429 non-null  int64  \n",
      " 3   관리번호      40429 non-null  object \n",
      " 4   인허가일자     40429 non-null  int64  \n",
      " 5   영업상태구분코드  40429 non-null  int64  \n",
      " 6   영업상태명     40429 non-null  object \n",
      " 7   상세영업상태코드  40429 non-null  int64  \n",
      " 8   상세영업상태명   40429 non-null  object \n",
      " 9   소재지면적     40429 non-null  float64\n",
      " 10  소재지전체주소   40429 non-null  object \n",
      " 11  사업장명      40429 non-null  object \n",
      " 12  최종수정시점    40429 non-null  int64  \n",
      " 13  데이터갱신구분   40429 non-null  object \n",
      " 14  데이터갱신일자   40429 non-null  object \n",
      " 15  비상시설위치    40429 non-null  object \n",
      " 16  시설구분명     40429 non-null  object \n",
      " 17  시설명건물명    40429 non-null  object \n",
      "dtypes: float64(1), int64(5), object(12)\n",
      "memory usage: 5.6+ MB\n"
     ]
    }
   ],
   "source": [
    "df.info()"
   ]
  },
  {
   "cell_type": "raw",
   "id": "367abb36-a09d-4f12-be6d-cd0bc685f452",
   "metadata": {},
   "source": [
    "   - 데이터 프레임 전체에 단일 값 보정  "
   ]
  },
  {
   "cell_type": "code",
   "execution_count": 61,
   "id": "437088df-6ab9-474d-9b3f-503b9f8e2476",
   "metadata": {},
   "outputs": [],
   "source": [
    "# df = df.fillna(0)"
   ]
  },
  {
   "cell_type": "markdown",
   "id": "6cb87513-ac6b-49cd-98bd-6ff427c5d759",
   "metadata": {},
   "source": [
    "* 중복값 삭제 (필요시)"
   ]
  },
  {
   "cell_type": "raw",
   "id": "4e12f2c7-add7-47b8-a986-376fc1f2634e",
   "metadata": {},
   "source": [
    "  - 모든 중복 행데이터 확인"
   ]
  },
  {
   "cell_type": "code",
   "execution_count": 62,
   "id": "eb5f565f-8fc8-434f-bb66-a9d1c75a7605",
   "metadata": {},
   "outputs": [
    {
     "data": {
      "text/html": [
       "<div>\n",
       "<style scoped>\n",
       "    .dataframe tbody tr th:only-of-type {\n",
       "        vertical-align: middle;\n",
       "    }\n",
       "\n",
       "    .dataframe tbody tr th {\n",
       "        vertical-align: top;\n",
       "    }\n",
       "\n",
       "    .dataframe thead th {\n",
       "        text-align: right;\n",
       "    }\n",
       "</style>\n",
       "<table border=\"1\" class=\"dataframe\">\n",
       "  <thead>\n",
       "    <tr style=\"text-align: right;\">\n",
       "      <th></th>\n",
       "      <th>개방서비스명</th>\n",
       "      <th>개방서비스아이디</th>\n",
       "      <th>개방자치단체코드</th>\n",
       "      <th>관리번호</th>\n",
       "      <th>인허가일자</th>\n",
       "      <th>영업상태구분코드</th>\n",
       "      <th>영업상태명</th>\n",
       "      <th>상세영업상태코드</th>\n",
       "      <th>상세영업상태명</th>\n",
       "      <th>소재지면적</th>\n",
       "      <th>소재지전체주소</th>\n",
       "      <th>사업장명</th>\n",
       "      <th>최종수정시점</th>\n",
       "      <th>데이터갱신구분</th>\n",
       "      <th>데이터갱신일자</th>\n",
       "      <th>비상시설위치</th>\n",
       "      <th>시설구분명</th>\n",
       "      <th>시설명건물명</th>\n",
       "    </tr>\n",
       "  </thead>\n",
       "  <tbody>\n",
       "  </tbody>\n",
       "</table>\n",
       "</div>"
      ],
      "text/plain": [
       "Empty DataFrame\n",
       "Columns: [개방서비스명, 개방서비스아이디, 개방자치단체코드, 관리번호, 인허가일자, 영업상태구분코드, 영업상태명, 상세영업상태코드, 상세영업상태명, 소재지면적, 소재지전체주소, 사업장명, 최종수정시점, 데이터갱신구분, 데이터갱신일자, 비상시설위치, 시설구분명, 시설명건물명]\n",
       "Index: []"
      ]
     },
     "execution_count": 62,
     "metadata": {},
     "output_type": "execute_result"
    }
   ],
   "source": [
    "df[df.duplicated(keep=False)]"
   ]
  },
  {
   "cell_type": "raw",
   "id": "e847b33e-f13a-47bd-af55-111bf56442b2",
   "metadata": {},
   "source": [
    "  - 모든 중복 행데이터 삭제"
   ]
  },
  {
   "cell_type": "code",
   "execution_count": 63,
   "id": "a352aa67-0634-483e-a41b-ba06c6cf51ab",
   "metadata": {},
   "outputs": [],
   "source": [
    "# df.drop_duplicates(inplace=True)"
   ]
  },
  {
   "cell_type": "markdown",
   "id": "9dac0879",
   "metadata": {},
   "source": [
    "## 3. 추가데이터 분석"
   ]
  },
  {
   "cell_type": "markdown",
   "id": "253f0cc0",
   "metadata": {},
   "source": [
    "### 3.1. 데이터 정제후 데이터스키마 재확인"
   ]
  },
  {
   "cell_type": "markdown",
   "id": "1812339b-9396-4195-833b-4be5a041d05d",
   "metadata": {},
   "source": [
    "* 1-2 작업을 다시 해보세요."
   ]
  },
  {
   "cell_type": "code",
   "execution_count": 64,
   "id": "385254b5-2251-4ee6-95f8-05ede761b653",
   "metadata": {},
   "outputs": [
    {
     "data": {
      "text/plain": [
       "(40429, 18)"
      ]
     },
     "execution_count": 64,
     "metadata": {},
     "output_type": "execute_result"
    }
   ],
   "source": [
    "df.shape"
   ]
  },
  {
   "cell_type": "code",
   "execution_count": 65,
   "id": "6007eebc-3f1e-48fc-a731-4f259676844c",
   "metadata": {},
   "outputs": [
    {
     "name": "stdout",
     "output_type": "stream",
     "text": [
      "<class 'pandas.core.frame.DataFrame'>\n",
      "RangeIndex: 40429 entries, 0 to 40428\n",
      "Data columns (total 18 columns):\n",
      " #   Column    Non-Null Count  Dtype  \n",
      "---  ------    --------------  -----  \n",
      " 0   개방서비스명    40429 non-null  object \n",
      " 1   개방서비스아이디  40429 non-null  object \n",
      " 2   개방자치단체코드  40429 non-null  int64  \n",
      " 3   관리번호      40429 non-null  object \n",
      " 4   인허가일자     40429 non-null  int64  \n",
      " 5   영업상태구분코드  40429 non-null  int64  \n",
      " 6   영업상태명     40429 non-null  object \n",
      " 7   상세영업상태코드  40429 non-null  int64  \n",
      " 8   상세영업상태명   40429 non-null  object \n",
      " 9   소재지면적     40429 non-null  float64\n",
      " 10  소재지전체주소   40429 non-null  object \n",
      " 11  사업장명      40429 non-null  object \n",
      " 12  최종수정시점    40429 non-null  int64  \n",
      " 13  데이터갱신구분   40429 non-null  object \n",
      " 14  데이터갱신일자   40429 non-null  object \n",
      " 15  비상시설위치    40429 non-null  object \n",
      " 16  시설구분명     40429 non-null  object \n",
      " 17  시설명건물명    40429 non-null  object \n",
      "dtypes: float64(1), int64(5), object(12)\n",
      "memory usage: 5.6+ MB\n"
     ]
    }
   ],
   "source": [
    "df.info()"
   ]
  },
  {
   "cell_type": "markdown",
   "id": "8a244e0a",
   "metadata": {},
   "source": [
    "### 3.2 데이터 기초정보 정보 확인"
   ]
  },
  {
   "cell_type": "markdown",
   "id": "3361d7b0-6b2c-493e-a6f8-20bcb153b912",
   "metadata": {},
   "source": [
    "* 최대값, 최소값, 평균값, 표준편차, 최빈값, 유일값, 결측치, 이상치 등의 정보를 재확인해 보세요"
   ]
  },
  {
   "cell_type": "code",
   "execution_count": 66,
   "id": "af2616bc-649b-4cb1-a924-2d444104bb47",
   "metadata": {},
   "outputs": [
    {
     "data": {
      "text/html": [
       "<div>\n",
       "<style scoped>\n",
       "    .dataframe tbody tr th:only-of-type {\n",
       "        vertical-align: middle;\n",
       "    }\n",
       "\n",
       "    .dataframe tbody tr th {\n",
       "        vertical-align: top;\n",
       "    }\n",
       "\n",
       "    .dataframe thead th {\n",
       "        text-align: right;\n",
       "    }\n",
       "</style>\n",
       "<table border=\"1\" class=\"dataframe\">\n",
       "  <thead>\n",
       "    <tr style=\"text-align: right;\">\n",
       "      <th></th>\n",
       "      <th>개방자치단체코드</th>\n",
       "      <th>인허가일자</th>\n",
       "      <th>영업상태구분코드</th>\n",
       "      <th>상세영업상태코드</th>\n",
       "      <th>소재지면적</th>\n",
       "      <th>최종수정시점</th>\n",
       "    </tr>\n",
       "  </thead>\n",
       "  <tbody>\n",
       "    <tr>\n",
       "      <th>count</th>\n",
       "      <td>4.042900e+04</td>\n",
       "      <td>4.042900e+04</td>\n",
       "      <td>40429.000000</td>\n",
       "      <td>40429.000000</td>\n",
       "      <td>40429.000000</td>\n",
       "      <td>4.042900e+04</td>\n",
       "    </tr>\n",
       "    <tr>\n",
       "      <th>mean</th>\n",
       "      <td>4.009412e+06</td>\n",
       "      <td>2.000386e+07</td>\n",
       "      <td>2.704618</td>\n",
       "      <td>18.568206</td>\n",
       "      <td>3667.773906</td>\n",
       "      <td>2.017430e+13</td>\n",
       "    </tr>\n",
       "    <tr>\n",
       "      <th>std</th>\n",
       "      <td>8.185579e+05</td>\n",
       "      <td>1.039766e+05</td>\n",
       "      <td>1.485997</td>\n",
       "      <td>0.495332</td>\n",
       "      <td>9916.439189</td>\n",
       "      <td>3.935929e+10</td>\n",
       "    </tr>\n",
       "    <tr>\n",
       "      <th>min</th>\n",
       "      <td>3.000000e+06</td>\n",
       "      <td>1.900010e+07</td>\n",
       "      <td>1.000000</td>\n",
       "      <td>18.000000</td>\n",
       "      <td>0.000000</td>\n",
       "      <td>2.003021e+13</td>\n",
       "    </tr>\n",
       "    <tr>\n",
       "      <th>25%</th>\n",
       "      <td>3.420000e+06</td>\n",
       "      <td>1.994010e+07</td>\n",
       "      <td>1.000000</td>\n",
       "      <td>18.000000</td>\n",
       "      <td>214.880000</td>\n",
       "      <td>2.013121e+13</td>\n",
       "    </tr>\n",
       "    <tr>\n",
       "      <th>50%</th>\n",
       "      <td>3.690000e+06</td>\n",
       "      <td>2.001010e+07</td>\n",
       "      <td>4.000000</td>\n",
       "      <td>19.000000</td>\n",
       "      <td>660.000000</td>\n",
       "      <td>2.017022e+13</td>\n",
       "    </tr>\n",
       "    <tr>\n",
       "      <th>75%</th>\n",
       "      <td>4.530000e+06</td>\n",
       "      <td>2.008090e+07</td>\n",
       "      <td>4.000000</td>\n",
       "      <td>19.000000</td>\n",
       "      <td>2963.000000</td>\n",
       "      <td>2.022010e+13</td>\n",
       "    </tr>\n",
       "    <tr>\n",
       "      <th>max</th>\n",
       "      <td>6.520000e+06</td>\n",
       "      <td>2.022120e+07</td>\n",
       "      <td>4.000000</td>\n",
       "      <td>19.000000</td>\n",
       "      <td>507732.000000</td>\n",
       "      <td>2.022113e+13</td>\n",
       "    </tr>\n",
       "  </tbody>\n",
       "</table>\n",
       "</div>"
      ],
      "text/plain": [
       "           개방자치단체코드         인허가일자      영업상태구분코드      상세영업상태코드          소재지면적  \\\n",
       "count  4.042900e+04  4.042900e+04  40429.000000  40429.000000   40429.000000   \n",
       "mean   4.009412e+06  2.000386e+07      2.704618     18.568206    3667.773906   \n",
       "std    8.185579e+05  1.039766e+05      1.485997      0.495332    9916.439189   \n",
       "min    3.000000e+06  1.900010e+07      1.000000     18.000000       0.000000   \n",
       "25%    3.420000e+06  1.994010e+07      1.000000     18.000000     214.880000   \n",
       "50%    3.690000e+06  2.001010e+07      4.000000     19.000000     660.000000   \n",
       "75%    4.530000e+06  2.008090e+07      4.000000     19.000000    2963.000000   \n",
       "max    6.520000e+06  2.022120e+07      4.000000     19.000000  507732.000000   \n",
       "\n",
       "             최종수정시점  \n",
       "count  4.042900e+04  \n",
       "mean   2.017430e+13  \n",
       "std    3.935929e+10  \n",
       "min    2.003021e+13  \n",
       "25%    2.013121e+13  \n",
       "50%    2.017022e+13  \n",
       "75%    2.022010e+13  \n",
       "max    2.022113e+13  "
      ]
     },
     "execution_count": 66,
     "metadata": {},
     "output_type": "execute_result"
    }
   ],
   "source": [
    "df.describe()"
   ]
  },
  {
   "cell_type": "code",
   "execution_count": 67,
   "id": "a17f47b2-3720-4333-96d9-351dbcdd8d0f",
   "metadata": {},
   "outputs": [
    {
     "data": {
      "text/plain": [
       "count     40429.000000\n",
       "mean       3667.773906\n",
       "std        9916.439189\n",
       "min           0.000000\n",
       "25%         214.880000\n",
       "50%         660.000000\n",
       "75%        2963.000000\n",
       "max      507732.000000\n",
       "Name: 소재지면적, dtype: float64"
      ]
     },
     "execution_count": 67,
     "metadata": {},
     "output_type": "execute_result"
    }
   ],
   "source": [
    "df['소재지면적'].describe()"
   ]
  },
  {
   "cell_type": "code",
   "execution_count": 68,
   "id": "f2d441e5-d14e-4dcb-8a22-9c2842bc71ff",
   "metadata": {
    "scrolled": true
   },
   "outputs": [
    {
     "data": {
      "text/html": [
       "<div>\n",
       "<style scoped>\n",
       "    .dataframe tbody tr th:only-of-type {\n",
       "        vertical-align: middle;\n",
       "    }\n",
       "\n",
       "    .dataframe tbody tr th {\n",
       "        vertical-align: top;\n",
       "    }\n",
       "\n",
       "    .dataframe thead th {\n",
       "        text-align: right;\n",
       "    }\n",
       "</style>\n",
       "<table border=\"1\" class=\"dataframe\">\n",
       "  <thead>\n",
       "    <tr style=\"text-align: right;\">\n",
       "      <th></th>\n",
       "      <th>개방서비스명</th>\n",
       "      <th>개방서비스아이디</th>\n",
       "      <th>관리번호</th>\n",
       "      <th>영업상태명</th>\n",
       "      <th>상세영업상태명</th>\n",
       "      <th>소재지전체주소</th>\n",
       "      <th>사업장명</th>\n",
       "      <th>데이터갱신구분</th>\n",
       "      <th>데이터갱신일자</th>\n",
       "      <th>비상시설위치</th>\n",
       "      <th>시설구분명</th>\n",
       "      <th>시설명건물명</th>\n",
       "    </tr>\n",
       "  </thead>\n",
       "  <tbody>\n",
       "    <tr>\n",
       "      <th>count</th>\n",
       "      <td>40429</td>\n",
       "      <td>40429</td>\n",
       "      <td>40429</td>\n",
       "      <td>40429</td>\n",
       "      <td>40429</td>\n",
       "      <td>40429</td>\n",
       "      <td>40429</td>\n",
       "      <td>40429</td>\n",
       "      <td>40429</td>\n",
       "      <td>40429</td>\n",
       "      <td>40429</td>\n",
       "      <td>40429</td>\n",
       "    </tr>\n",
       "    <tr>\n",
       "      <th>unique</th>\n",
       "      <td>1</td>\n",
       "      <td>1</td>\n",
       "      <td>40429</td>\n",
       "      <td>2</td>\n",
       "      <td>2</td>\n",
       "      <td>35949</td>\n",
       "      <td>35613</td>\n",
       "      <td>2</td>\n",
       "      <td>816</td>\n",
       "      <td>35949</td>\n",
       "      <td>6</td>\n",
       "      <td>35613</td>\n",
       "    </tr>\n",
       "    <tr>\n",
       "      <th>top</th>\n",
       "      <td>민방위대피시설</td>\n",
       "      <td>11_46_02_P</td>\n",
       "      <td>5090000-S198900003</td>\n",
       "      <td>취소/말소/만료/정지/중지</td>\n",
       "      <td>사용중지</td>\n",
       "      <td>미정의</td>\n",
       "      <td>민방위대피시설</td>\n",
       "      <td>I</td>\n",
       "      <td>2018-08-31 23:59:59.0</td>\n",
       "      <td>미정의</td>\n",
       "      <td>공공시설</td>\n",
       "      <td>민방위대피시설</td>\n",
       "    </tr>\n",
       "    <tr>\n",
       "      <th>freq</th>\n",
       "      <td>40429</td>\n",
       "      <td>40429</td>\n",
       "      <td>1</td>\n",
       "      <td>22972</td>\n",
       "      <td>22972</td>\n",
       "      <td>178</td>\n",
       "      <td>188</td>\n",
       "      <td>22836</td>\n",
       "      <td>21151</td>\n",
       "      <td>178</td>\n",
       "      <td>33079</td>\n",
       "      <td>188</td>\n",
       "    </tr>\n",
       "  </tbody>\n",
       "</table>\n",
       "</div>"
      ],
      "text/plain": [
       "         개방서비스명    개방서비스아이디                관리번호           영업상태명 상세영업상태명  \\\n",
       "count     40429       40429               40429           40429   40429   \n",
       "unique        1           1               40429               2       2   \n",
       "top     민방위대피시설  11_46_02_P  5090000-S198900003  취소/말소/만료/정지/중지    사용중지   \n",
       "freq      40429       40429                   1           22972   22972   \n",
       "\n",
       "       소재지전체주소     사업장명 데이터갱신구분                데이터갱신일자 비상시설위치  시설구분명   시설명건물명  \n",
       "count    40429    40429   40429                  40429  40429  40429    40429  \n",
       "unique   35949    35613       2                    816  35949      6    35613  \n",
       "top        미정의  민방위대피시설       I  2018-08-31 23:59:59.0    미정의   공공시설  민방위대피시설  \n",
       "freq       178      188   22836                  21151    178  33079      188  "
      ]
     },
     "execution_count": 68,
     "metadata": {},
     "output_type": "execute_result"
    }
   ],
   "source": [
    "df.describe(include=['object'])"
   ]
  },
  {
   "cell_type": "code",
   "execution_count": 69,
   "id": "11c87b85-6349-41c4-b217-655cff9706e5",
   "metadata": {},
   "outputs": [
    {
     "data": {
      "text/plain": [
       "영업상태명\n",
       "취소/말소/만료/정지/중지    22972\n",
       "영업/정상             17457\n",
       "Name: count, dtype: int64"
      ]
     },
     "execution_count": 69,
     "metadata": {},
     "output_type": "execute_result"
    }
   ],
   "source": [
    "df['영업상태명'].value_counts()"
   ]
  },
  {
   "cell_type": "code",
   "execution_count": 70,
   "id": "98e1876e-fb4d-4406-8577-e63f48957f7b",
   "metadata": {},
   "outputs": [
    {
     "data": {
      "text/plain": [
       "상세영업상태명\n",
       "사용중지    22972\n",
       "사용중     17457\n",
       "Name: count, dtype: int64"
      ]
     },
     "execution_count": 70,
     "metadata": {},
     "output_type": "execute_result"
    }
   ],
   "source": [
    "df['상세영업상태명'].value_counts()"
   ]
  },
  {
   "cell_type": "code",
   "execution_count": 71,
   "id": "c5533a79-ebe6-4995-af43-dbe913d05867",
   "metadata": {},
   "outputs": [
    {
     "data": {
      "text/plain": [
       "데이터갱신구분\n",
       "I    22836\n",
       "U    17593\n",
       "Name: count, dtype: int64"
      ]
     },
     "execution_count": 71,
     "metadata": {},
     "output_type": "execute_result"
    }
   ],
   "source": [
    "df['데이터갱신구분'].value_counts()"
   ]
  },
  {
   "cell_type": "code",
   "execution_count": 72,
   "id": "9e3a0938-d0a7-4d9e-b531-f97f49fa1b5b",
   "metadata": {},
   "outputs": [
    {
     "data": {
      "text/plain": [
       "시설구분명\n",
       "공공시설        33079\n",
       "공공용시설        6123\n",
       "민간시설          719\n",
       "정부지원시설        491\n",
       "자치단체자체시설       16\n",
       "지자체시설           1\n",
       "Name: count, dtype: int64"
      ]
     },
     "execution_count": 72,
     "metadata": {},
     "output_type": "execute_result"
    }
   ],
   "source": [
    "df['시설구분명'].value_counts()"
   ]
  },
  {
   "cell_type": "markdown",
   "id": "e73d61a5",
   "metadata": {},
   "source": [
    "### 3.3 시각화를 통한 데이터이해 심화"
   ]
  },
  {
   "cell_type": "markdown",
   "id": "5de7dac1-31b5-4138-a9a6-33fbbde9caac",
   "metadata": {},
   "source": [
    "* 데이터의 성격에 따라 이해도를 올리기 위해 시각화가 필요한 데이터차트를 만들어 보세요.  \n",
    "  (Seaborn 추천: 페어플롯, 막대차트, 파이차트, 라인차트, 히스토그램등..)"
   ]
  },
  {
   "cell_type": "code",
   "execution_count": 73,
   "id": "a64375d0-0df3-4289-8d72-c5b92d3d308d",
   "metadata": {},
   "outputs": [
    {
     "data": {
      "image/png": "[encoded data removed]",
      "text/plain": [
       "<Figure size 640x480 with 1 Axes>"
      ]
     },
     "metadata": {},
     "output_type": "display_data"
    }
   ],
   "source": [
    "value_counts = df['영업상태명'].value_counts().sort_index()\n",
    "# 막대 그래프 그리기\n",
    "business_status =value_counts.index.tolist()\n",
    "values = value_counts.values\n",
    "x = np.arange(len(business_status))\n",
    "\n",
    "plt.bar(x, values)\n",
    "plt.xticks(x, business_status)\n",
    "plt.xlabel('영업상태명')\n",
    "plt.ylabel('대피시설수')\n",
    "plt.title('영업상태명별 대피시설수')\n",
    "\n",
    "plt.show()"
   ]
  },
  {
   "cell_type": "code",
   "execution_count": 81,
   "id": "dce13aa3-671b-489b-b7b3-83988d30f412",
   "metadata": {},
   "outputs": [
    {
     "data": {
      "image/png": "[encoded data removed]",
      "text/plain": [
       "<Figure size 640x480 with 1 Axes>"
      ]
     },
     "metadata": {},
     "output_type": "display_data"
    }
   ],
   "source": [
    "plt.pie(values, labels=business_status, autopct= lambda pct: f\"{pct:.1f}%\\n ({int(pct/100.*np.sum(values))}개)\")\n",
    "plt.title('영업상태명별 대피시설수')\n",
    "plt.show()"
   ]
  },
  {
   "cell_type": "markdown",
   "id": "f4fa4f46-073f-4c62-b4ae-54ade39c5251",
   "metadata": {},
   "source": [
    "### 3.4 데이터 분석 결과도출"
   ]
  },
  {
   "cell_type": "markdown",
   "id": "477f095f-e884-4326-af1f-ebea049c3546",
   "metadata": {},
   "source": [
    "* 데이터 분석을 통해 얻은 새로운 지식, 인사이트를 정리하세요.\n",
    "* 새로운 지식 및 인사이트 별 비지니스 전략을 도출할 수 있으면 정리해 보세요"
   ]
  },
  {
   "cell_type": "markdown",
   "id": "f69526e8-67a3-42a2-967b-3dea22183966",
   "metadata": {},
   "source": [
    "* 인사이트\n",
    "    * 민방위대피시설 중 '영업/정상'인 시설은 43.2%(17,457개)이고 '취소/말소/만료/정지/중지'인 시설은 56.8%(22,972개)이다.  \n",
    "    => 민방위대피시설 반 이상이 사용상에 문제가 있으므로, 시설의 재정비가 필요하다는 의견입니다."
   ]
  },
  {
   "cell_type": "code",
   "execution_count": null,
   "id": "8655e124-23b7-41ed-9837-8185c3a74c8a",
   "metadata": {},
   "outputs": [],
   "source": []
  }
 ],
 "metadata": {
  "kernelspec": {
   "display_name": "Python 3 (ipykernel)",
   "language": "python",
   "name": "python3"
  },
  "language_info": {
   "codemirror_mode": {
    "name": "ipython",
    "version": 3
   },
   "file_extension": ".py",
   "mimetype": "text/x-python",
   "name": "python",
   "nbconvert_exporter": "python",
   "pygments_lexer": "ipython3",
   "version": "3.11.7"
  }
 },
 "nbformat": 4,
 "nbformat_minor": 5
}
