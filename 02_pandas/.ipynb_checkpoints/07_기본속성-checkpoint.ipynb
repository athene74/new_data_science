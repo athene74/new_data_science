{
 "cells": [
  {
   "cell_type": "code",
   "execution_count": 71,
   "id": "c884a9f8-01fb-42a5-971f-805ef68a68d9",
   "metadata": {},
   "outputs": [],
   "source": [
    "import pandas as pd"
   ]
  },
  {
   "cell_type": "markdown",
   "id": "0b51e47b-c124-4004-bc6c-b38fac72335a",
   "metadata": {},
   "source": [
    "# 시리즈 멤버 속성 알아보기"
   ]
  },
  {
   "cell_type": "code",
   "execution_count": 72,
   "id": "bd771f55-e2f1-4e25-bd4a-14a4156808c3",
   "metadata": {},
   "outputs": [],
   "source": [
    "sr = pd.Series([1,2,3,4], name =\"SR1\", index = list('abcd'))"
   ]
  },
  {
   "cell_type": "code",
   "execution_count": 73,
   "id": "282214aa-862c-4b37-b855-27e3969345f6",
   "metadata": {},
   "outputs": [
    {
     "data": {
      "text/plain": [
       "a    1\n",
       "b    2\n",
       "c    3\n",
       "d    4\n",
       "Name: SR1, dtype: int64"
      ]
     },
     "execution_count": 73,
     "metadata": {},
     "output_type": "execute_result"
    }
   ],
   "source": [
    "sr"
   ]
  },
  {
   "cell_type": "code",
   "execution_count": 74,
   "id": "eecdfcbf-715f-4ed3-b823-68d5eef654fc",
   "metadata": {},
   "outputs": [
    {
     "data": {
      "text/plain": [
       "1차성적    80\n",
       "2차성적    90\n",
       "3차성적    85\n",
       "Name: 홍길동_모의고사정보, dtype: int64"
      ]
     },
     "execution_count": 74,
     "metadata": {},
     "output_type": "execute_result"
    }
   ],
   "source": [
    "sr = pd.Series([80,90,85], name = \"홍길동_모의고사정보\", index = ['1차성적', '2차성적','3차성적'])\n",
    "sr"
   ]
  },
  {
   "cell_type": "markdown",
   "id": "d0f92217-5ce2-4327-a494-58ae003bf93c",
   "metadata": {},
   "source": [
    "# 판다스의 기본 데이터 타입"
   ]
  },
  {
   "cell_type": "markdown",
   "id": "bf53e10e-7585-4041-98df-74345f23123a",
   "metadata": {},
   "source": [
    "* 숫자:int64\n",
    "* 실수: float64\n",
    "* 문자열:object"
   ]
  },
  {
   "cell_type": "code",
   "execution_count": 75,
   "id": "8607d145-427d-4eb5-b0d6-f4b804da248f",
   "metadata": {},
   "outputs": [
    {
     "data": {
      "text/plain": [
       "1차성적    80.5\n",
       "2차성적    90.7\n",
       "3차성적    85.0\n",
       "Name: A반 평균성적 , dtype: float64"
      ]
     },
     "execution_count": 75,
     "metadata": {},
     "output_type": "execute_result"
    }
   ],
   "source": [
    "sr = pd.Series([80.5,90.7,85.0], name = \"A반 평균성적 \", index = ['1차성적', '2차성적','3차성적'])\n",
    "sr"
   ]
  },
  {
   "cell_type": "code",
   "execution_count": 76,
   "id": "209ef551-a9c0-4eb8-8843-8d464b2e1b9a",
   "metadata": {},
   "outputs": [
    {
     "data": {
      "text/plain": [
       "1차성적     최우수등급\n",
       "2차성적      우수등급\n",
       "3차성적     최우수등급\n",
       "Name: A반_레벨 , dtype: object"
      ]
     },
     "execution_count": 76,
     "metadata": {},
     "output_type": "execute_result"
    }
   ],
   "source": [
    "sr = pd.Series(['최우수등급','우수등급',' 최우수등급'], name = \"A반_레벨 \", index = ['1차성적', '2차성적','3차성적'])\n",
    "sr"
   ]
  },
  {
   "cell_type": "markdown",
   "id": "1fbba453-ba5c-481a-88f4-c398f6e6fe54",
   "metadata": {},
   "source": [
    "# 기타 속성"
   ]
  },
  {
   "cell_type": "code",
   "execution_count": 77,
   "id": "533a14a5-12c9-4402-a229-069ffb08122a",
   "metadata": {},
   "outputs": [
    {
     "data": {
      "text/plain": [
       "(3,)"
      ]
     },
     "execution_count": 77,
     "metadata": {},
     "output_type": "execute_result"
    }
   ],
   "source": [
    "sr.shape # (3,) => 3행 1열의 의미"
   ]
  },
  {
   "cell_type": "code",
   "execution_count": 79,
   "id": "714911ee-ed42-4909-8bc8-35c515884f28",
   "metadata": {},
   "outputs": [
    {
     "data": {
      "text/plain": [
       "1"
      ]
     },
     "execution_count": 79,
     "metadata": {},
     "output_type": "execute_result"
    }
   ],
   "source": [
    "sr.ndim # 차원수를 나타냄"
   ]
  },
  {
   "cell_type": "code",
   "execution_count": 61,
   "id": "a47e8471-2964-4dbb-91d0-4d57c32e32af",
   "metadata": {},
   "outputs": [
    {
     "data": {
      "text/plain": [
       "3"
      ]
     },
     "execution_count": 61,
     "metadata": {},
     "output_type": "execute_result"
    }
   ],
   "source": [
    "sr.size # 원소의 개수"
   ]
  },
  {
   "cell_type": "code",
   "execution_count": 62,
   "id": "e2291cac-c4ba-42ea-9c12-988564a74045",
   "metadata": {},
   "outputs": [
    {
     "data": {
      "text/plain": [
       "Index(['1차성적', '2차성적', '3차성적'], dtype='object')"
      ]
     },
     "execution_count": 62,
     "metadata": {},
     "output_type": "execute_result"
    }
   ],
   "source": [
    "sr.index"
   ]
  },
  {
   "cell_type": "markdown",
   "id": "b5a3d553-c1b7-41c3-bbfa-9c92e59c081e",
   "metadata": {},
   "source": [
    "# 데이터프레임 주요 멤버속성 알아보기"
   ]
  },
  {
   "cell_type": "code",
   "execution_count": 63,
   "id": "64b31677-7a0f-45d7-aa16-3e3e497d29aa",
   "metadata": {},
   "outputs": [
    {
     "data": {
      "text/html": [
       "<div>\n",
       "<style scoped>\n",
       "    .dataframe tbody tr th:only-of-type {\n",
       "        vertical-align: middle;\n",
       "    }\n",
       "\n",
       "    .dataframe tbody tr th {\n",
       "        vertical-align: top;\n",
       "    }\n",
       "\n",
       "    .dataframe thead th {\n",
       "        text-align: right;\n",
       "    }\n",
       "</style>\n",
       "<table border=\"1\" class=\"dataframe\">\n",
       "  <thead>\n",
       "    <tr style=\"text-align: right;\">\n",
       "      <th></th>\n",
       "      <th>d</th>\n",
       "      <th>e</th>\n",
       "      <th>f</th>\n",
       "      <th>g</th>\n",
       "    </tr>\n",
       "  </thead>\n",
       "  <tbody>\n",
       "    <tr>\n",
       "      <th>a</th>\n",
       "      <td>1</td>\n",
       "      <td>2</td>\n",
       "      <td>3</td>\n",
       "      <td>4</td>\n",
       "    </tr>\n",
       "    <tr>\n",
       "      <th>b</th>\n",
       "      <td>5</td>\n",
       "      <td>6</td>\n",
       "      <td>7</td>\n",
       "      <td>8</td>\n",
       "    </tr>\n",
       "  </tbody>\n",
       "</table>\n",
       "</div>"
      ],
      "text/plain": [
       "   d  e  f  g\n",
       "a  1  2  3  4\n",
       "b  5  6  7  8"
      ]
     },
     "execution_count": 63,
     "metadata": {},
     "output_type": "execute_result"
    }
   ],
   "source": [
    "df = pd.DataFrame(\n",
    "[\n",
    "     [1,2,3,4],\n",
    "     [5,6,7,8]\n",
    "], \n",
    "    index=list('ab'), columns=list('defg')\n",
    ")\n",
    "df"
   ]
  },
  {
   "cell_type": "code",
   "execution_count": 64,
   "id": "ca124994-c5ac-4249-9cc7-6eca92a4175c",
   "metadata": {},
   "outputs": [
    {
     "data": {
      "text/plain": [
       "(2, 4)"
      ]
     },
     "execution_count": 64,
     "metadata": {},
     "output_type": "execute_result"
    }
   ],
   "source": [
    "df.shape # (2,4) => 2행 4열"
   ]
  },
  {
   "cell_type": "code",
   "execution_count": 65,
   "id": "d04f73f8-e459-41b2-80e5-eb604bd5ea89",
   "metadata": {},
   "outputs": [
    {
     "data": {
      "text/plain": [
       "8"
      ]
     },
     "execution_count": 65,
     "metadata": {},
     "output_type": "execute_result"
    }
   ],
   "source": [
    "df.size"
   ]
  },
  {
   "cell_type": "code",
   "execution_count": 66,
   "id": "49d6c7a1-9703-4c37-8926-37c2502c6857",
   "metadata": {},
   "outputs": [
    {
     "data": {
      "text/plain": [
       "Index(['a', 'b'], dtype='object')"
      ]
     },
     "execution_count": 66,
     "metadata": {},
     "output_type": "execute_result"
    }
   ],
   "source": [
    "df.index"
   ]
  },
  {
   "cell_type": "code",
   "execution_count": 67,
   "id": "094b7f96-c406-4b0d-bbee-94933b64dcb9",
   "metadata": {},
   "outputs": [
    {
     "data": {
      "text/plain": [
       "Index(['d', 'e', 'f', 'g'], dtype='object')"
      ]
     },
     "execution_count": 67,
     "metadata": {},
     "output_type": "execute_result"
    }
   ],
   "source": [
    "df.columns"
   ]
  },
  {
   "cell_type": "markdown",
   "id": "0804a160-604e-4a0a-bdb0-53a9b6a36c82",
   "metadata": {},
   "source": [
    "* 요약 정보 보기"
   ]
  },
  {
   "cell_type": "code",
   "execution_count": 68,
   "id": "d6448195-a48b-4f12-b419-f0bcbc21d5c7",
   "metadata": {},
   "outputs": [
    {
     "data": {
      "text/html": [
       "<div>\n",
       "<style scoped>\n",
       "    .dataframe tbody tr th:only-of-type {\n",
       "        vertical-align: middle;\n",
       "    }\n",
       "\n",
       "    .dataframe tbody tr th {\n",
       "        vertical-align: top;\n",
       "    }\n",
       "\n",
       "    .dataframe thead th {\n",
       "        text-align: right;\n",
       "    }\n",
       "</style>\n",
       "<table border=\"1\" class=\"dataframe\">\n",
       "  <thead>\n",
       "    <tr style=\"text-align: right;\">\n",
       "      <th></th>\n",
       "      <th>d</th>\n",
       "      <th>e</th>\n",
       "      <th>f</th>\n",
       "      <th>g</th>\n",
       "    </tr>\n",
       "  </thead>\n",
       "  <tbody>\n",
       "    <tr>\n",
       "      <th>a</th>\n",
       "      <td>1</td>\n",
       "      <td>2</td>\n",
       "      <td>3</td>\n",
       "      <td>4</td>\n",
       "    </tr>\n",
       "    <tr>\n",
       "      <th>b</th>\n",
       "      <td>5</td>\n",
       "      <td>6</td>\n",
       "      <td>7</td>\n",
       "      <td>8</td>\n",
       "    </tr>\n",
       "  </tbody>\n",
       "</table>\n",
       "</div>"
      ],
      "text/plain": [
       "   d  e  f  g\n",
       "a  1  2  3  4\n",
       "b  5  6  7  8"
      ]
     },
     "execution_count": 68,
     "metadata": {},
     "output_type": "execute_result"
    }
   ],
   "source": [
    "df"
   ]
  },
  {
   "cell_type": "code",
   "execution_count": 69,
   "id": "19e5ab8c-72cb-4244-87dd-e59f9855b59e",
   "metadata": {},
   "outputs": [
    {
     "name": "stdout",
     "output_type": "stream",
     "text": [
      "<class 'pandas.core.frame.DataFrame'>\n",
      "Index: 2 entries, a to b\n",
      "Data columns (total 4 columns):\n",
      " #   Column  Non-Null Count  Dtype\n",
      "---  ------  --------------  -----\n",
      " 0   d       2 non-null      int64\n",
      " 1   e       2 non-null      int64\n",
      " 2   f       2 non-null      int64\n",
      " 3   g       2 non-null      int64\n",
      "dtypes: int64(4)\n",
      "memory usage: 80.0+ bytes\n"
     ]
    }
   ],
   "source": [
    "df.info()"
   ]
  },
  {
   "cell_type": "code",
   "execution_count": 70,
   "id": "d81f625f-89d6-4068-875a-e679dc775d1f",
   "metadata": {},
   "outputs": [
    {
     "data": {
      "text/plain": [
       "array([[1, 2, 3, 4],\n",
       "       [5, 6, 7, 8]], dtype=int64)"
      ]
     },
     "execution_count": 70,
     "metadata": {},
     "output_type": "execute_result"
    }
   ],
   "source": [
    "df.values # 데이터 소스 값"
   ]
  },
  {
   "cell_type": "code",
   "execution_count": null,
   "id": "72e6c2b6-31b0-4979-817b-2caee37f479f",
   "metadata": {},
   "outputs": [],
   "source": []
  },
  {
   "cell_type": "code",
   "execution_count": null,
   "id": "5b473071-a986-4993-94c0-4c5bccc41a8e",
   "metadata": {},
   "outputs": [],
   "source": []
  },
  {
   "cell_type": "code",
   "execution_count": null,
   "id": "955ff59b-8ff5-4f94-970c-24df5ac2788f",
   "metadata": {},
   "outputs": [],
   "source": []
  }
 ],
 "metadata": {
  "kernelspec": {
   "display_name": "Python 3 (ipykernel)",
   "language": "python",
   "name": "python3"
  },
  "language_info": {
   "codemirror_mode": {
    "name": "ipython",
    "version": 3
   },
   "file_extension": ".py",
   "mimetype": "text/x-python",
   "name": "python",
   "nbconvert_exporter": "python",
   "pygments_lexer": "ipython3",
   "version": "3.11.7"
  }
 },
 "nbformat": 4,
 "nbformat_minor": 5
}
