{
 "cells": [
  {
   "cell_type": "markdown",
   "id": "b9ad9197",
   "metadata": {},
   "source": [
    "# 한글 감성분석 사전 현황"
   ]
  },
  {
   "cell_type": "markdown",
   "id": "da6f8a66",
   "metadata": {},
   "source": [
    "### 음식점 맛짐 도메인 처리 시도"
   ]
  },
  {
   "cell_type": "code",
   "execution_count": 2,
   "id": "a06b8b47",
   "metadata": {},
   "outputs": [],
   "source": [
    "from konlpy.tag import Okt\n",
    "import pandas as pd\n",
    "\n",
    "# 기본 감성 가중치 사전\n",
    "base_sentiment_weights = {\n",
    "    '좋아요': 1.0, '재미있어요': 1.0, '추천': 1.0,\n",
    "    '별로에요': -1.0, '지루해요': -1.0, '실망': -1.0,\n",
    "    '정말': 0.5, '매우': 0.5, '아주': 0.5,\n",
    "    '조금': -0.5, '별로': -0.5, '최고': 1.0,\n",
    "    '행복': 1.0, '기쁘다': 1.0, '뛰어나다': 1.0,\n",
    "    '감동': 1.0, '만족': 1.0, '사랑': 1.0,\n",
    "    '흥미진진': 1.0, '훌륭하다': 1.0, '귀엽다': 1.0,\n",
    "    '반갑다': 1.0, '신나다': 1.0, '아름답다': 1.0,\n",
    "    '최악': -1.0, '불편하다': -1.0, '싫다': -1.0,\n",
    "    '불만': -1.0, '아쉽다': -1.0, '문제': -1.0,\n",
    "    '피곤': -1.0, '지루하다': -1.0, '나쁘다': -1.0,\n",
    "    '심하다': -1.0, '위험': -1.0, '비싸다': -1.0,\n",
    "    '쓸데없다': -1.0, '화나다': -1.0, '졸리다': -1.0,\n",
    "    '형편없다': -1.0, '혼란스럽다': -1.0, '엉망': -1.0,\n",
    "    '실패': -1.0, '힘들다': -1.0, '안타깝다': -1.0,\n",
    "    '무서운': -1.0, '위험한': -1.0, '억울하다': -1.0,\n",
    "    '소름끼치다': -1.0, '불쾌하다': -1.0, '안되다': -1.0\n",
    "}\n",
    "\n",
    "\n"
   ]
  },
  {
   "cell_type": "code",
   "execution_count": 3,
   "id": "b18a59f0-41ae-4308-ab7d-4001ca95d909",
   "metadata": {},
   "outputs": [],
   "source": [
    "# 감성 분석 함수\n",
    "def analyze_sentiment(text):\n",
    "    okt = Okt()\n",
    "    tokens = okt.pos(text, stem=True)\n",
    "    \n",
    "    sentiment_score = 0\n",
    "    for token, pos in tokens:\n",
    "        if pos in ['Noun', 'Adjective', 'Adverb'] and token in base_sentiment_weights:\n",
    "            sentiment_score += base_sentiment_weights[token]\n",
    "    \n",
    "    # 0> 긍정적, 0<: 부정적, 0: 중립적\n",
    "    return (\"긍정적\" if sentiment_score > 0 else \"부정적\" if sentiment_score < 0 else \"중립적\", sentiment_score)"
   ]
  },
  {
   "cell_type": "code",
   "execution_count": 5,
   "id": "cd54954d-684d-428a-a1bf-5e15f645ea49",
   "metadata": {},
   "outputs": [
    {
     "name": "stdout",
     "output_type": "stream",
     "text": [
      "텍스트: 이 음식점 메뉴는 대부분 맛있어요.\n",
      "감성점수: 0\n",
      "감성: 중립적\n"
     ]
    }
   ],
   "source": [
    "# 감성 분석 수행\n",
    "text = \"이 음식점 메뉴는 대부분 맛있어요.\"\n",
    "sentiment, sentiment_score = analyze_sentiment(text)\n",
    "print(f\"텍스트: {text}\")\n",
    "print(f\"감성점수: {sentiment_score}\")\n",
    "print(f\"감성: {sentiment}\")"
   ]
  },
  {
   "cell_type": "code",
   "execution_count": null,
   "id": "8f078081-3900-475e-bf38-a591ee5ca548",
   "metadata": {},
   "outputs": [],
   "source": []
  },
  {
   "cell_type": "code",
   "execution_count": null,
   "id": "852543b6-dbb8-4de4-ad6e-8c603ba8a1e6",
   "metadata": {},
   "outputs": [],
   "source": []
  },
  {
   "cell_type": "code",
   "execution_count": null,
   "id": "1204fc01-3d3a-47c9-b1e9-f1169ddd471c",
   "metadata": {},
   "outputs": [],
   "source": []
  }
 ],
 "metadata": {
  "kernelspec": {
   "display_name": "Python 3 (ipykernel)",
   "language": "python",
   "name": "python3"
  },
  "language_info": {
   "codemirror_mode": {
    "name": "ipython",
    "version": 3
   },
   "file_extension": ".py",
   "mimetype": "text/x-python",
   "name": "python",
   "nbconvert_exporter": "python",
   "pygments_lexer": "ipython3",
   "version": "3.11.7"
  }
 },
 "nbformat": 4,
 "nbformat_minor": 5
}
