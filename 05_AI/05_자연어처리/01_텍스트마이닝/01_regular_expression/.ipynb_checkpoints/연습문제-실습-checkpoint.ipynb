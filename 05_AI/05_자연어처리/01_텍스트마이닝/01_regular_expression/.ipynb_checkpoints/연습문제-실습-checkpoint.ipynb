{
 "cells": [
  {
   "cell_type": "markdown",
   "id": "60739d23-837d-41e9-8933-ae171440a0f2",
   "metadata": {},
   "source": [
    "* 이메일 주소 추출하기"
   ]
  },
  {
   "cell_type": "code",
   "execution_count": null,
   "id": "7c501c28-4904-4be4-a08b-00747449d63f",
   "metadata": {},
   "outputs": [],
   "source": [
    "text = \"이메일 주소는 example@email.com과 another@example.com입니다.\""
   ]
  },
  {
   "cell_type": "markdown",
   "id": "839c1802-097d-46ef-b62f-9aa42f209958",
   "metadata": {},
   "source": [
    "* 전화번호 추출하기"
   ]
  },
  {
   "cell_type": "code",
   "execution_count": null,
   "id": "2bbd90c5-be2a-43ec-8fb0-057181953008",
   "metadata": {},
   "outputs": [],
   "source": [
    "text = \"제 전화번호는 010-1234-5678입니다.\""
   ]
  },
  {
   "cell_type": "markdown",
   "id": "e745b004-694e-42d6-9e90-d5b24f736830",
   "metadata": {},
   "source": [
    "* HTML 태그 제거하기"
   ]
  },
  {
   "cell_type": "code",
   "execution_count": null,
   "id": "0ee2411e-f0c7-4bb5-a323-69dd1888bc96",
   "metadata": {},
   "outputs": [],
   "source": [
    "html_text = \"<p>이것은 <strong>HTML</strong> 문서입니다.</p>\""
   ]
  },
  {
   "cell_type": "markdown",
   "id": "3dda8f11-b221-4462-9d19-41b4b1aae4bb",
   "metadata": {},
   "source": [
    "* URL 추출하기"
   ]
  },
  {
   "cell_type": "code",
   "execution_count": null,
   "id": "4c29a904-d381-44b3-aa9e-2bff73f2e7a4",
   "metadata": {},
   "outputs": [],
   "source": [
    "text = \"웹페이지 주소는 http://www.example.com입니다.\""
   ]
  },
  {
   "cell_type": "markdown",
   "id": "af9e3c36-eb8b-454a-8543-7b2009ab7c49",
   "metadata": {},
   "source": [
    "* 숫자 추출하기"
   ]
  },
  {
   "cell_type": "code",
   "execution_count": null,
   "id": "5480b32f-0f10-4e3c-96c5-89eace40ee43",
   "metadata": {},
   "outputs": [],
   "source": [
    "text = \"문장 속에는 숫자 123과 456이 있습니다.\""
   ]
  }
 ],
 "metadata": {
  "kernelspec": {
   "display_name": "Python 3 (ipykernel)",
   "language": "python",
   "name": "python3"
  },
  "language_info": {
   "codemirror_mode": {
    "name": "ipython",
    "version": 3
   },
   "file_extension": ".py",
   "mimetype": "text/x-python",
   "name": "python",
   "nbconvert_exporter": "python",
   "pygments_lexer": "ipython3",
   "version": "3.11.7"
  }
 },
 "nbformat": 4,
 "nbformat_minor": 5
}
