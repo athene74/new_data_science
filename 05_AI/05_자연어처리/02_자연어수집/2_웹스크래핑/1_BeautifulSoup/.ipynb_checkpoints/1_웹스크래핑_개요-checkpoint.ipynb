{
 "cells": [
  {
   "cell_type": "markdown",
   "id": "61fd4ddd",
   "metadata": {
    "heading_collapsed": true
   },
   "source": [
    "# 개념정의"
   ]
  },
  {
   "cell_type": "markdown",
   "id": "b3a1d71a",
   "metadata": {
    "hidden": true
   },
   "source": [
    "## 협의의 개념"
   ]
  },
  {
   "cell_type": "markdown",
   "id": "27048bbc",
   "metadata": {
    "hidden": true
   },
   "source": [
    "### 웹스크래핑(Web Scraping)"
   ]
  },
  {
   "cell_type": "markdown",
   "id": "e51cb515",
   "metadata": {
    "hidden": true
   },
   "source": [
    "* 웹 페이지의 특정 부분에서 원하는 데이터를 추출하는 과정"
   ]
  },
  {
   "cell_type": "markdown",
   "id": "d1d7df54",
   "metadata": {
    "hidden": true
   },
   "source": [
    "### 웹 크롤링(Web crawling)"
   ]
  },
  {
   "cell_type": "markdown",
   "id": "de80909c",
   "metadata": {
    "hidden": true
   },
   "source": [
    "* 웹 상의 여러 페이지를 자동으로 탐색하는 과정 (도메인 단위로 더 대용량 데이터를 수집)"
   ]
  },
  {
   "cell_type": "markdown",
   "id": "9b1caf45",
   "metadata": {
    "hidden": true
   },
   "source": [
    "## 광의의 개념"
   ]
  },
  {
   "cell_type": "markdown",
   "id": "0be1b9af",
   "metadata": {
    "hidden": true
   },
   "source": [
    "*  웹상의 데이터를 수집하는 개념으로 웹스크래핑, 웹 크롤링을 혼용하여 사용"
   ]
  },
  {
   "cell_type": "markdown",
   "id": "470264a0",
   "metadata": {},
   "source": [
    "# 웹스크래핑을 위한 기초 기술 BeautifulSoup"
   ]
  },
  {
   "cell_type": "code",
   "execution_count": 29,
   "id": "58e2bca1",
   "metadata": {},
   "outputs": [],
   "source": [
    "from bs4 import BeautifulSoup"
   ]
  },
  {
   "cell_type": "code",
   "execution_count": 30,
   "id": "994234e7",
   "metadata": {},
   "outputs": [],
   "source": [
    "# 웹상에서 아래 html 코드 정보를 수집했다고 가정해 보자\n",
    "html='''\\\n",
    "<td class=\"title\">\n",
    "    <div class=\"tit3\">\n",
    "        <a href=\"/movie/bi/mi/basic.naver?code=74977\" title=\"아바타: 물의 길\">아바타: 물의 길</a>\n",
    "    </div>\n",
    "</td>\n",
    "'''"
   ]
  },
  {
   "cell_type": "code",
   "execution_count": 34,
   "id": "c1dde15e-a58a-416a-a2ff-e4d5a4fa4c43",
   "metadata": {},
   "outputs": [
    {
     "data": {
      "text/plain": [
       "str"
      ]
     },
     "execution_count": 34,
     "metadata": {},
     "output_type": "execute_result"
    }
   ],
   "source": [
    "type(html)"
   ]
  },
  {
   "cell_type": "markdown",
   "id": "f9776456",
   "metadata": {},
   "source": [
    "* 문자 데이터를 html의 요소에 대한 검색, 데이터 수집을 하기 용이한 형태(BeautifulSoup)의 타입으로 변환"
   ]
  },
  {
   "cell_type": "code",
   "execution_count": 31,
   "id": "aeda2a81",
   "metadata": {},
   "outputs": [
    {
     "data": {
      "text/plain": [
       "<td class=\"title\">\n",
       "<div class=\"tit3\">\n",
       "<a href=\"/movie/bi/mi/basic.naver?code=74977\" title=\"아바타: 물의 길\">아바타: 물의 길</a>\n",
       "</div>\n",
       "</td>"
      ]
     },
     "execution_count": 31,
     "metadata": {},
     "output_type": "execute_result"
    }
   ],
   "source": [
    "soup = BeautifulSoup(html, 'html.parser')\n",
    "soup"
   ]
  },
  {
   "cell_type": "markdown",
   "id": "42a4df4d-b211-45b5-a202-f74d5289e8ec",
   "metadata": {},
   "source": [
    "* soup을 출력하면 부모(상위)태그, 자식(하위)태그에 대한 띄어쓰기를 제공하지 않는다."
   ]
  },
  {
   "cell_type": "code",
   "execution_count": 33,
   "id": "b68cbab8",
   "metadata": {},
   "outputs": [
    {
     "data": {
      "text/plain": [
       "bs4.BeautifulSoup"
      ]
     },
     "execution_count": 33,
     "metadata": {},
     "output_type": "execute_result"
    }
   ],
   "source": [
    "type(soup)"
   ]
  },
  {
   "cell_type": "code",
   "execution_count": 5,
   "id": "82cf477f",
   "metadata": {},
   "outputs": [
    {
     "data": {
      "text/plain": [
       "'<td class=\"title\">\\n <div class=\"tit3\">\\n  <a href=\"/movie/bi/mi/basic.naver?code=74977\" title=\"아바타: 물의 길\">\\n   아바타: 물의 길\\n  </a>\\n </div>\\n</td>\\n'"
      ]
     },
     "execution_count": 5,
     "metadata": {},
     "output_type": "execute_result"
    }
   ],
   "source": [
    "# 원본 html의 indentation으로 복원하는 함수 (print함수로 조회해야함)\n",
    "soup.prettify()"
   ]
  },
  {
   "cell_type": "code",
   "execution_count": 6,
   "id": "aafe7912",
   "metadata": {},
   "outputs": [
    {
     "name": "stdout",
     "output_type": "stream",
     "text": [
      "<td class=\"title\">\n",
      " <div class=\"tit3\">\n",
      "  <a href=\"/movie/bi/mi/basic.naver?code=74977\" title=\"아바타: 물의 길\">\n",
      "   아바타: 물의 길\n",
      "  </a>\n",
      " </div>\n",
      "</td>\n",
      "\n"
     ]
    }
   ],
   "source": [
    "print(soup.prettify())"
   ]
  },
  {
   "cell_type": "markdown",
   "id": "e1a4cdd0",
   "metadata": {},
   "source": [
    "## html 요소 이름로 하위 요소 검색"
   ]
  },
  {
   "cell_type": "markdown",
   "id": "81cf8c61",
   "metadata": {},
   "source": [
    "* 요소.하위요소\n",
    "* 요소.find('하위요소')"
   ]
  },
  {
   "cell_type": "code",
   "execution_count": 35,
   "id": "be282c09",
   "metadata": {},
   "outputs": [
    {
     "data": {
      "text/plain": [
       "<td class=\"title\">\n",
       "<div class=\"tit3\">\n",
       "<a href=\"/movie/bi/mi/basic.naver?code=74977\" title=\"아바타: 물의 길\">아바타: 물의 길</a>\n",
       "</div>\n",
       "</td>"
      ]
     },
     "execution_count": 35,
     "metadata": {},
     "output_type": "execute_result"
    }
   ],
   "source": [
    "soup.td"
   ]
  },
  {
   "cell_type": "code",
   "execution_count": 8,
   "id": "9011bd37",
   "metadata": {},
   "outputs": [
    {
     "data": {
      "text/plain": [
       "<td class=\"title\">\n",
       "<div class=\"tit3\">\n",
       "<a href=\"/movie/bi/mi/basic.naver?code=74977\" title=\"아바타: 물의 길\">아바타: 물의 길</a>\n",
       "</div>\n",
       "</td>"
      ]
     },
     "execution_count": 8,
     "metadata": {},
     "output_type": "execute_result"
    }
   ],
   "source": [
    "soup.find('td')"
   ]
  },
  {
   "cell_type": "code",
   "execution_count": 9,
   "id": "dd41ceb4",
   "metadata": {},
   "outputs": [
    {
     "data": {
      "text/plain": [
       "<div class=\"tit3\">\n",
       "<a href=\"/movie/bi/mi/basic.naver?code=74977\" title=\"아바타: 물의 길\">아바타: 물의 길</a>\n",
       "</div>"
      ]
     },
     "execution_count": 9,
     "metadata": {},
     "output_type": "execute_result"
    }
   ],
   "source": [
    "soup.td.div"
   ]
  },
  {
   "cell_type": "code",
   "execution_count": 10,
   "id": "47877dc8",
   "metadata": {},
   "outputs": [
    {
     "data": {
      "text/plain": [
       "<a href=\"/movie/bi/mi/basic.naver?code=74977\" title=\"아바타: 물의 길\">아바타: 물의 길</a>"
      ]
     },
     "execution_count": 10,
     "metadata": {},
     "output_type": "execute_result"
    }
   ],
   "source": [
    "soup.td.div.a"
   ]
  },
  {
   "cell_type": "markdown",
   "id": "226556a9",
   "metadata": {},
   "source": [
    "## 요소의 속성값 구하기"
   ]
  },
  {
   "cell_type": "markdown",
   "id": "727e2762",
   "metadata": {},
   "source": [
    "* 요소.attrs['속성명']"
   ]
  },
  {
   "cell_type": "code",
   "execution_count": 11,
   "id": "4c153aba",
   "metadata": {},
   "outputs": [
    {
     "data": {
      "text/plain": [
       "<td class=\"title\">\n",
       "<div class=\"tit3\">\n",
       "<a href=\"/movie/bi/mi/basic.naver?code=74977\" title=\"아바타: 물의 길\">아바타: 물의 길</a>\n",
       "</div>\n",
       "</td>"
      ]
     },
     "execution_count": 11,
     "metadata": {},
     "output_type": "execute_result"
    }
   ],
   "source": [
    "soup.td"
   ]
  },
  {
   "cell_type": "code",
   "execution_count": 12,
   "id": "901aa253",
   "metadata": {},
   "outputs": [
    {
     "data": {
      "text/plain": [
       "['title']"
      ]
     },
     "execution_count": 12,
     "metadata": {},
     "output_type": "execute_result"
    }
   ],
   "source": [
    "soup.td.attrs['class']"
   ]
  },
  {
   "cell_type": "code",
   "execution_count": 13,
   "id": "2e7fa5a4",
   "metadata": {},
   "outputs": [
    {
     "data": {
      "text/plain": [
       "list"
      ]
     },
     "execution_count": 13,
     "metadata": {},
     "output_type": "execute_result"
    }
   ],
   "source": [
    "type(soup.td.attrs['class'])"
   ]
  },
  {
   "cell_type": "code",
   "execution_count": 14,
   "id": "50b9032e",
   "metadata": {},
   "outputs": [
    {
     "data": {
      "text/plain": [
       "'title'"
      ]
     },
     "execution_count": 14,
     "metadata": {},
     "output_type": "execute_result"
    }
   ],
   "source": [
    "# 속성값은 리스트로 반환하기 때문에 속성을 지정했다면 [0] 으로 값을 가져와야 한다.\n",
    "soup.td.attrs['class'][0]"
   ]
  },
  {
   "cell_type": "code",
   "execution_count": 15,
   "id": "f67711f3",
   "metadata": {},
   "outputs": [],
   "source": [
    "# 전체 속성 가져오기"
   ]
  },
  {
   "cell_type": "code",
   "execution_count": 16,
   "id": "44d0a846",
   "metadata": {},
   "outputs": [
    {
     "data": {
      "text/plain": [
       "{'href': '/movie/bi/mi/basic.naver?code=74977', 'title': '아바타: 물의 길'}"
      ]
     },
     "execution_count": 16,
     "metadata": {},
     "output_type": "execute_result"
    }
   ],
   "source": [
    "soup.td.div.a.attrs"
   ]
  },
  {
   "cell_type": "code",
   "execution_count": 17,
   "id": "03b568d2",
   "metadata": {},
   "outputs": [
    {
     "data": {
      "text/plain": [
       "'/movie/bi/mi/basic.naver?code=74977'"
      ]
     },
     "execution_count": 17,
     "metadata": {},
     "output_type": "execute_result"
    }
   ],
   "source": [
    "# dict 문법으로 개별 속성 가져오기\n",
    "soup.td.div.a.attrs['href']"
   ]
  },
  {
   "cell_type": "code",
   "execution_count": 18,
   "id": "1bae2c73",
   "metadata": {},
   "outputs": [
    {
     "data": {
      "text/plain": [
       "'아바타: 물의 길'"
      ]
     },
     "execution_count": 18,
     "metadata": {},
     "output_type": "execute_result"
    }
   ],
   "source": [
    "soup.td.div.a.attrs['title']"
   ]
  },
  {
   "cell_type": "markdown",
   "id": "8ed4b687",
   "metadata": {},
   "source": [
    "## 요소(태그)의 값 구하기"
   ]
  },
  {
   "cell_type": "markdown",
   "id": "a460982a",
   "metadata": {},
   "source": [
    "* 요소.string\n",
    "* 요소.text"
   ]
  },
  {
   "cell_type": "code",
   "execution_count": 36,
   "id": "b2b10b43-f8a3-4c77-bd89-bc37025ebb37",
   "metadata": {},
   "outputs": [
    {
     "data": {
      "text/plain": [
       "<td class=\"title\">\n",
       "<div class=\"tit3\">\n",
       "<a href=\"/movie/bi/mi/basic.naver?code=74977\" title=\"아바타: 물의 길\">아바타: 물의 길</a>\n",
       "</div>\n",
       "</td>"
      ]
     },
     "execution_count": 36,
     "metadata": {},
     "output_type": "execute_result"
    }
   ],
   "source": [
    "soup"
   ]
  },
  {
   "cell_type": "code",
   "execution_count": 37,
   "id": "71334214",
   "metadata": {},
   "outputs": [
    {
     "data": {
      "text/plain": [
       "'아바타: 물의 길'"
      ]
     },
     "execution_count": 37,
     "metadata": {},
     "output_type": "execute_result"
    }
   ],
   "source": [
    "soup.td.div.a.string"
   ]
  },
  {
   "cell_type": "code",
   "execution_count": 38,
   "id": "28543a10",
   "metadata": {},
   "outputs": [
    {
     "data": {
      "text/plain": [
       "'아바타: 물의 길'"
      ]
     },
     "execution_count": 38,
     "metadata": {},
     "output_type": "execute_result"
    }
   ],
   "source": [
    "soup.td.div.a.text"
   ]
  },
  {
   "cell_type": "markdown",
   "id": "3f117e92",
   "metadata": {},
   "source": [
    "## 동일한 요소(태그)가 복수개 존재할 경우 검색"
   ]
  },
  {
   "cell_type": "code",
   "execution_count": 43,
   "id": "f63204e9",
   "metadata": {},
   "outputs": [],
   "source": [
    "html2='''\n",
    "<td class=\"title\">\n",
    "    <div class=\"tit3\">\n",
    "        <a href=\"/movie/bi/mi/basic.naver?code=74977\" title=\"아바타: 물의 길\">아바타: 물의 길</a>\n",
    "    </div>\n",
    "</td>\n",
    "<td class=\"title\">\n",
    "    <div class=\"tit3\">\n",
    "        <a href=\"/movie/bi/mi/basic.naver?code=184509\" title=\"영웅\">영웅</a>\n",
    "    </div>\n",
    "</td>\n",
    "                \n",
    "'''"
   ]
  },
  {
   "cell_type": "code",
   "execution_count": 45,
   "id": "eace38e6",
   "metadata": {},
   "outputs": [
    {
     "data": {
      "text/plain": [
       "\n",
       "<td class=\"title\">\n",
       "<div class=\"tit3\">\n",
       "<a href=\"/movie/bi/mi/basic.naver?code=74977\" title=\"아바타: 물의 길\">아바타: 물의 길</a>\n",
       "</div>\n",
       "</td>\n",
       "<td class=\"title\">\n",
       "<div class=\"tit3\">\n",
       "<a href=\"/movie/bi/mi/basic.naver?code=184509\" title=\"영웅\">영웅</a>\n",
       "</div>\n",
       "</td>"
      ]
     },
     "execution_count": 45,
     "metadata": {},
     "output_type": "execute_result"
    }
   ],
   "source": [
    "soup=BeautifulSoup(html2,'html.parser')\n",
    "soup"
   ]
  },
  {
   "cell_type": "code",
   "execution_count": 46,
   "id": "1680e03b",
   "metadata": {},
   "outputs": [
    {
     "data": {
      "text/plain": [
       "<td class=\"title\">\n",
       "<div class=\"tit3\">\n",
       "<a href=\"/movie/bi/mi/basic.naver?code=74977\" title=\"아바타: 물의 길\">아바타: 물의 길</a>\n",
       "</div>\n",
       "</td>"
      ]
     },
     "execution_count": 46,
     "metadata": {},
     "output_type": "execute_result"
    }
   ],
   "source": [
    "# 하위요소를 .으로 검색시 가장 처음 나오는 요소를 반환\n",
    "soup.td"
   ]
  },
  {
   "cell_type": "code",
   "execution_count": 47,
   "id": "72244353",
   "metadata": {},
   "outputs": [
    {
     "data": {
      "text/plain": [
       "<td class=\"title\">\n",
       "<div class=\"tit3\">\n",
       "<a href=\"/movie/bi/mi/basic.naver?code=74977\" title=\"아바타: 물의 길\">아바타: 물의 길</a>\n",
       "</div>\n",
       "</td>"
      ]
     },
     "execution_count": 47,
     "metadata": {},
     "output_type": "execute_result"
    }
   ],
   "source": [
    "# find 검색시에도 가장 처음 나오는 요소를 반환\n",
    "soup.find('td')"
   ]
  },
  {
   "cell_type": "markdown",
   "id": "b5ccb01b",
   "metadata": {},
   "source": [
    "### 모든 하위요소 검색시"
   ]
  },
  {
   "cell_type": "markdown",
   "id": "c2a941bb",
   "metadata": {},
   "source": [
    "* findAll('하위요소')"
   ]
  },
  {
   "cell_type": "code",
   "execution_count": 48,
   "id": "9b877462-d7b8-4d2e-9fbd-97f65a6a32c8",
   "metadata": {},
   "outputs": [
    {
     "data": {
      "text/plain": [
       "\n",
       "<td class=\"title\">\n",
       "<div class=\"tit3\">\n",
       "<a href=\"/movie/bi/mi/basic.naver?code=74977\" title=\"아바타: 물의 길\">아바타: 물의 길</a>\n",
       "</div>\n",
       "</td>\n",
       "<td class=\"title\">\n",
       "<div class=\"tit3\">\n",
       "<a href=\"/movie/bi/mi/basic.naver?code=184509\" title=\"영웅\">영웅</a>\n",
       "</div>\n",
       "</td>"
      ]
     },
     "execution_count": 48,
     "metadata": {},
     "output_type": "execute_result"
    }
   ],
   "source": [
    "soup"
   ]
  },
  {
   "cell_type": "code",
   "execution_count": 49,
   "id": "b7b86337",
   "metadata": {},
   "outputs": [
    {
     "data": {
      "text/plain": [
       "[<td class=\"title\">\n",
       " <div class=\"tit3\">\n",
       " <a href=\"/movie/bi/mi/basic.naver?code=74977\" title=\"아바타: 물의 길\">아바타: 물의 길</a>\n",
       " </div>\n",
       " </td>,\n",
       " <td class=\"title\">\n",
       " <div class=\"tit3\">\n",
       " <a href=\"/movie/bi/mi/basic.naver?code=184509\" title=\"영웅\">영웅</a>\n",
       " </div>\n",
       " </td>]"
      ]
     },
     "execution_count": 49,
     "metadata": {},
     "output_type": "execute_result"
    }
   ],
   "source": [
    "soup.findAll('td')"
   ]
  },
  {
   "cell_type": "markdown",
   "id": "cf25a2f8-b784-4184-8f2b-16787ef7e3e5",
   "metadata": {},
   "source": [
    "* 첫번째 요소\n",
    "  "
   ]
  },
  {
   "cell_type": "code",
   "execution_count": 50,
   "id": "90724234-0456-4ae8-ba1b-5105dda46905",
   "metadata": {},
   "outputs": [
    {
     "data": {
      "text/plain": [
       "<td class=\"title\">\n",
       "<div class=\"tit3\">\n",
       "<a href=\"/movie/bi/mi/basic.naver?code=74977\" title=\"아바타: 물의 길\">아바타: 물의 길</a>\n",
       "</div>\n",
       "</td>"
      ]
     },
     "execution_count": 50,
     "metadata": {},
     "output_type": "execute_result"
    }
   ],
   "source": [
    "soup.findAll('td')[0]"
   ]
  },
  {
   "cell_type": "markdown",
   "id": "6edaa824-8d4a-4c82-8e10-f5bd2019171d",
   "metadata": {},
   "source": [
    "* 두번째 요소"
   ]
  },
  {
   "cell_type": "code",
   "execution_count": 51,
   "id": "e1de7f2e-56b1-4280-aec0-b4c5c1904b3c",
   "metadata": {},
   "outputs": [
    {
     "data": {
      "text/plain": [
       "<td class=\"title\">\n",
       "<div class=\"tit3\">\n",
       "<a href=\"/movie/bi/mi/basic.naver?code=184509\" title=\"영웅\">영웅</a>\n",
       "</div>\n",
       "</td>"
      ]
     },
     "execution_count": 51,
     "metadata": {},
     "output_type": "execute_result"
    }
   ],
   "source": [
    "soup.findAll('td')[1]"
   ]
  },
  {
   "cell_type": "code",
   "execution_count": 52,
   "id": "5668ef02",
   "metadata": {},
   "outputs": [
    {
     "data": {
      "text/plain": [
       "[<td class=\"title\">\n",
       " <div class=\"tit3\">\n",
       " <a href=\"/movie/bi/mi/basic.naver?code=74977\" title=\"아바타: 물의 길\">아바타: 물의 길</a>\n",
       " </div>\n",
       " </td>,\n",
       " <td class=\"title\">\n",
       " <div class=\"tit3\">\n",
       " <a href=\"/movie/bi/mi/basic.naver?code=184509\" title=\"영웅\">영웅</a>\n",
       " </div>\n",
       " </td>]"
      ]
     },
     "execution_count": 52,
     "metadata": {},
     "output_type": "execute_result"
    }
   ],
   "source": [
    "# 태그와 속성을 모두 지정하여 검색가능\n",
    "soup.findAll('td', {'class':\"title\"})"
   ]
  },
  {
   "cell_type": "code",
   "execution_count": 53,
   "id": "23ddbc7c",
   "metadata": {},
   "outputs": [
    {
     "data": {
      "text/plain": [
       "[<a href=\"/movie/bi/mi/basic.naver?code=74977\" title=\"아바타: 물의 길\">아바타: 물의 길</a>,\n",
       " <a href=\"/movie/bi/mi/basic.naver?code=184509\" title=\"영웅\">영웅</a>]"
      ]
     },
     "execution_count": 53,
     "metadata": {},
     "output_type": "execute_result"
    }
   ],
   "source": [
    "# 모든 하위요소에 대한 검색도 가능\n",
    "soup.findAll('a')"
   ]
  },
  {
   "cell_type": "code",
   "execution_count": 54,
   "id": "8903f548",
   "metadata": {},
   "outputs": [
    {
     "data": {
      "text/plain": [
       "[<a href=\"/movie/bi/mi/basic.naver?code=184509\" title=\"영웅\">영웅</a>]"
      ]
     },
     "execution_count": 54,
     "metadata": {},
     "output_type": "execute_result"
    }
   ],
   "source": [
    "soup.findAll('a',{'title':'영웅'})"
   ]
  },
  {
   "cell_type": "code",
   "execution_count": null,
   "id": "7a0e3c5a",
   "metadata": {},
   "outputs": [],
   "source": []
  },
  {
   "cell_type": "code",
   "execution_count": null,
   "id": "a437d407-e74e-4656-b67b-adc849bce338",
   "metadata": {},
   "outputs": [],
   "source": []
  },
  {
   "cell_type": "code",
   "execution_count": null,
   "id": "22372094-948f-4cc2-ba84-7770aff1cd2c",
   "metadata": {},
   "outputs": [],
   "source": []
  }
 ],
 "metadata": {
  "kernelspec": {
   "display_name": "Python 3 (ipykernel)",
   "language": "python",
   "name": "python3"
  },
  "language_info": {
   "codemirror_mode": {
    "name": "ipython",
    "version": 3
   },
   "file_extension": ".py",
   "mimetype": "text/x-python",
   "name": "python",
   "nbconvert_exporter": "python",
   "pygments_lexer": "ipython3",
   "version": "3.11.7"
  }
 },
 "nbformat": 4,
 "nbformat_minor": 5
}
