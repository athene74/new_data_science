{
 "cells": [
  {
   "cell_type": "markdown",
   "id": "39e10c4c",
   "metadata": {},
   "source": [
    "## Greedy vs Non-Greedy"
   ]
  },
  {
   "cell_type": "markdown",
   "id": "bd0e2ad0",
   "metadata": {},
   "source": [
    "### Greedy의 의미"
   ]
  },
  {
   "cell_type": "code",
   "execution_count": 28,
   "id": "341baab8",
   "metadata": {},
   "outputs": [],
   "source": [
    "s='<html><head><title>Title</title>'"
   ]
  },
  {
   "cell_type": "markdown",
   "id": "471e9c7f",
   "metadata": {},
   "source": [
    "### \\<html\\> 만 검색하려고 한다."
   ]
  },
  {
   "cell_type": "code",
   "execution_count": 29,
   "id": "3923ada6",
   "metadata": {},
   "outputs": [
    {
     "name": "stdout",
     "output_type": "stream",
     "text": [
      "<re.Match object; span=(0, 32), match='<html><head><title>Title</title>'>\n"
     ]
    }
   ],
   "source": [
    "print(re.match('<.*>',s))"
   ]
  },
  {
   "cell_type": "markdown",
   "id": "19dfadcf",
   "metadata": {},
   "source": [
    "### 안된다."
   ]
  },
  {
   "cell_type": "markdown",
   "id": "efa3bfcd",
   "metadata": {},
   "source": [
    "### non-greedy 문자인 ?를 사용하면 *의 탐욕을 제한할 수 있다."
   ]
  },
  {
   "cell_type": "code",
   "execution_count": 30,
   "id": "6f6ba043",
   "metadata": {},
   "outputs": [
    {
     "name": "stdout",
     "output_type": "stream",
     "text": [
      "<re.Match object; span=(0, 6), match='<html>'>\n"
     ]
    }
   ],
   "source": [
    "print(re.match('<.*?>',s))"
   ]
  },
  {
   "cell_type": "markdown",
   "id": "35a16381",
   "metadata": {},
   "source": [
    "---"
   ]
  },
  {
   "cell_type": "markdown",
   "id": "8b80e0ec",
   "metadata": {},
   "source": [
    "---"
   ]
  },
  {
   "cell_type": "markdown",
   "id": "9fce5031",
   "metadata": {},
   "source": [
    "# 수고했습니다! 이제 정규식을 연습합시다!"
   ]
  },
  {
   "cell_type": "markdown",
   "id": "fb12a24e",
   "metadata": {},
   "source": [
    "https://regexone.com/"
   ]
  },
  {
   "cell_type": "code",
   "execution_count": null,
   "id": "e390ea3c",
   "metadata": {},
   "outputs": [],
   "source": []
  }
 ],
 "metadata": {
  "kernelspec": {
   "display_name": "Python 3 (ipykernel)",
   "language": "python",
   "name": "python3"
  },
  "language_info": {
   "codemirror_mode": {
    "name": "ipython",
    "version": 3
   },
   "file_extension": ".py",
   "mimetype": "text/x-python",
   "name": "python",
   "nbconvert_exporter": "python",
   "pygments_lexer": "ipython3",
   "version": "3.11.7"
  }
 },
 "nbformat": 4,
 "nbformat_minor": 5
}
