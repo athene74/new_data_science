{
 "cells": [
  {
   "cell_type": "code",
   "execution_count": 22,
   "id": "24b83842",
   "metadata": {},
   "outputs": [],
   "source": [
    "from selenium import webdriver\n",
    "from selenium.webdriver.common.by import By\n",
    "from selenium.webdriver.chrome.options import Options\n",
    "from selenium.webdriver.chrome.service import Service\n",
    "from webdriver_manager.chrome import ChromeDriverManager\n",
    "import time\n",
    "from bs4 import BeautifulSoup"
   ]
  },
  {
   "cell_type": "code",
   "execution_count": 23,
   "id": "fd01613b-9143-44d3-8dad-0d5ffdaaeeb0",
   "metadata": {},
   "outputs": [
    {
     "name": "stdout",
     "output_type": "stream",
     "text": [
      "HTML 파일이 저장되었습니다.\n"
     ]
    }
   ],
   "source": [
    "options = Options()\n",
    "options.add_experimental_option(\"detach\", True)\n",
    "service = Service(ChromeDriverManager().install())\n",
    "driver = webdriver.Chrome(service=service, options=options)\n",
    "driver.maximize_window()\n",
    "url = \"https://naver.com\"\n",
    "\n",
    "driver.get(url)\n",
    "\n",
    "soup=BeautifulSoup(driver.page_source,'html.parser')\n",
    "\n",
    "file_path = '네이버메인.html'\n",
    "with open(file_path, 'w', encoding='utf-8') as file:\n",
    "        file.write(soup.prettify())\n",
    "        print(\"HTML 파일이 저장되었습니다.\")"
   ]
  },
  {
   "cell_type": "code",
   "execution_count": 24,
   "id": "f934e847-06ad-4931-a5c4-110a03ebc409",
   "metadata": {},
   "outputs": [],
   "source": [
    "# 웹 페이지 로딩하는 시간만큼 sleep을 한다.\n",
    "time.sleep(3)\n",
    "\n",
    "\n",
    "# 검색창에 '프로야구 순위'라는 키워드를 가상으로 검색하는 효과\n",
    "# html 태그 클래스 속성이 search_input 인 곳에 '프로야구 순위'라는 키워드를 send\n",
    "# driver.find_element(By.CLASS_NAME, \"search_input\").send_keys(\"프로야구 순위\")\n",
    "search_input = driver.find_element(By.CLASS_NAME, \"search_input\")\n",
    "search_input.send_keys(\"프로야구 순위\")\n",
    "search_input.submit()\n",
    "time.sleep(3)"
   ]
  },
  {
   "cell_type": "code",
   "execution_count": 25,
   "id": "4d097f0c",
   "metadata": {},
   "outputs": [],
   "source": [
    "soup=BeautifulSoup(driver.page_source,'html.parser')\n",
    "# soup"
   ]
  },
  {
   "cell_type": "code",
   "execution_count": 26,
   "id": "bcc91f13-e45b-4234-85b6-6676a7d25b10",
   "metadata": {},
   "outputs": [
    {
     "name": "stdout",
     "output_type": "stream",
     "text": [
      "HTML 파일이 저장되었습니다.\n"
     ]
    }
   ],
   "source": [
    "file_path = '네이버_프로야구검색후.html'\n",
    "with open(file_path, 'w', encoding='utf-8') as file:\n",
    "        file.write(soup.prettify())\n",
    "        print(\"HTML 파일이 저장되었습니다.\")"
   ]
  },
  {
   "cell_type": "code",
   "execution_count": 27,
   "id": "ef053d9e",
   "metadata": {},
   "outputs": [
    {
     "data": {
      "text/plain": [
       "['순위', '팀명', '경기', '승', '무', '패', '승률', '게임차', '연속', '최근10경기']"
      ]
     },
     "execution_count": 27,
     "metadata": {},
     "output_type": "execute_result"
    }
   ],
   "source": [
    "table = soup.find('div', id=\"teamRankTabPanel_0\").table\n",
    "# print(table)\n",
    "# 테이블의 각 행을 추출하여 리스트에 저장합니다.\n",
    "\n",
    "thead = table.thead\n",
    "\n",
    "head_list=[]\n",
    "for col in thead.find_all('th'):\n",
    "    head_list.append(col.text)\n",
    "head_list"
   ]
  },
  {
   "cell_type": "code",
   "execution_count": 28,
   "id": "4b93975f-b623-425a-85bd-8bed35423bbf",
   "metadata": {},
   "outputs": [
    {
     "data": {
      "text/plain": [
       "[[1, 'KIA', '117', '69', '2', '46', '0.600', '0.0', '5승', '7승-3패-0무'],\n",
       " [2, '삼성', '119', '64', '2', '53', '0.547', '6.0', '1패', '7승-3패-0무'],\n",
       " [3, 'LG', '116', '61', '2', '53', '0.535', '7.5', '1패', '5승-5패-0무'],\n",
       " [4, '두산', '121', '62', '2', '57', '0.521', '9.0', '1승', '6승-4패-0무'],\n",
       " [5, 'SSG', '117', '57', '1', '59', '0.491', '12.5', '1승', '4승-6패-0무'],\n",
       " [6, 'KT', '118', '56', '2', '60', '0.483', '13.5', '1승', '3승-7패-0무'],\n",
       " [7, '한화', '115', '53', '2', '60', '0.469', '15.0', '1패', '5승-5패-0무'],\n",
       " [8, '롯데', '111', '50', '3', '58', '0.463', '15.5', '1패', '6승-4패-0무'],\n",
       " [9, 'NC', '114', '50', '2', '62', '0.446', '17.5', '1승', '1승-9패-0무'],\n",
       " [10, '키움', '116', '51', '0', '65', '0.440', '18.5', '1패', '5승-5패-0무']]"
      ]
     },
     "execution_count": 28,
     "metadata": {},
     "output_type": "execute_result"
    }
   ],
   "source": [
    "tbody = table.tbody\n",
    "data = []\n",
    "rank = 1\n",
    "# 행데이터를 처리하는 for문\n",
    "for tr in tbody.find_all('tr'): # 행은 tr 태그의 반복으로 분석되어 사용\n",
    "    row = []\n",
    "    is_first = True\n",
    "    # find_all('td) 순위를 제외한 모든 열 정보가 선택(순위는 th 태그의 값으로 정의)\n",
    "    for col in tr.find_all('td'): # 열은 td 태그의 반복으로 분석되어 사용\n",
    "        # 팀명이 a.text가 아니라 동일하게 td.text 인점을 기억하자 (Debug를 통해 파악)\n",
    "        if is_first: # 첫번째 열 데이터를 처리하기 위한 플래그변수 활용\n",
    "            row.append(rank)\n",
    "            rank += 1\n",
    "            is_first = False\n",
    "            row.append(col.text.strip())\n",
    "            continue\n",
    "        row.append(col.text.strip())\n",
    "    data.append(row)\n",
    "\n",
    "data"
   ]
  },
  {
   "cell_type": "code",
   "execution_count": 29,
   "id": "f712a76b-7d52-406b-988e-0f32e2466432",
   "metadata": {},
   "outputs": [
    {
     "data": {
      "text/html": [
       "<div>\n",
       "<style scoped>\n",
       "    .dataframe tbody tr th:only-of-type {\n",
       "        vertical-align: middle;\n",
       "    }\n",
       "\n",
       "    .dataframe tbody tr th {\n",
       "        vertical-align: top;\n",
       "    }\n",
       "\n",
       "    .dataframe thead th {\n",
       "        text-align: right;\n",
       "    }\n",
       "</style>\n",
       "<table border=\"1\" class=\"dataframe\">\n",
       "  <thead>\n",
       "    <tr style=\"text-align: right;\">\n",
       "      <th></th>\n",
       "      <th>순위</th>\n",
       "      <th>팀명</th>\n",
       "      <th>경기</th>\n",
       "      <th>승</th>\n",
       "      <th>무</th>\n",
       "      <th>패</th>\n",
       "      <th>승률</th>\n",
       "      <th>게임차</th>\n",
       "      <th>연속</th>\n",
       "      <th>최근10경기</th>\n",
       "    </tr>\n",
       "  </thead>\n",
       "  <tbody>\n",
       "    <tr>\n",
       "      <th>0</th>\n",
       "      <td>1</td>\n",
       "      <td>KIA</td>\n",
       "      <td>117</td>\n",
       "      <td>69</td>\n",
       "      <td>2</td>\n",
       "      <td>46</td>\n",
       "      <td>0.600</td>\n",
       "      <td>0.0</td>\n",
       "      <td>5승</td>\n",
       "      <td>7승-3패-0무</td>\n",
       "    </tr>\n",
       "    <tr>\n",
       "      <th>1</th>\n",
       "      <td>2</td>\n",
       "      <td>삼성</td>\n",
       "      <td>119</td>\n",
       "      <td>64</td>\n",
       "      <td>2</td>\n",
       "      <td>53</td>\n",
       "      <td>0.547</td>\n",
       "      <td>6.0</td>\n",
       "      <td>1패</td>\n",
       "      <td>7승-3패-0무</td>\n",
       "    </tr>\n",
       "    <tr>\n",
       "      <th>2</th>\n",
       "      <td>3</td>\n",
       "      <td>LG</td>\n",
       "      <td>116</td>\n",
       "      <td>61</td>\n",
       "      <td>2</td>\n",
       "      <td>53</td>\n",
       "      <td>0.535</td>\n",
       "      <td>7.5</td>\n",
       "      <td>1패</td>\n",
       "      <td>5승-5패-0무</td>\n",
       "    </tr>\n",
       "    <tr>\n",
       "      <th>3</th>\n",
       "      <td>4</td>\n",
       "      <td>두산</td>\n",
       "      <td>121</td>\n",
       "      <td>62</td>\n",
       "      <td>2</td>\n",
       "      <td>57</td>\n",
       "      <td>0.521</td>\n",
       "      <td>9.0</td>\n",
       "      <td>1승</td>\n",
       "      <td>6승-4패-0무</td>\n",
       "    </tr>\n",
       "    <tr>\n",
       "      <th>4</th>\n",
       "      <td>5</td>\n",
       "      <td>SSG</td>\n",
       "      <td>117</td>\n",
       "      <td>57</td>\n",
       "      <td>1</td>\n",
       "      <td>59</td>\n",
       "      <td>0.491</td>\n",
       "      <td>12.5</td>\n",
       "      <td>1승</td>\n",
       "      <td>4승-6패-0무</td>\n",
       "    </tr>\n",
       "    <tr>\n",
       "      <th>5</th>\n",
       "      <td>6</td>\n",
       "      <td>KT</td>\n",
       "      <td>118</td>\n",
       "      <td>56</td>\n",
       "      <td>2</td>\n",
       "      <td>60</td>\n",
       "      <td>0.483</td>\n",
       "      <td>13.5</td>\n",
       "      <td>1승</td>\n",
       "      <td>3승-7패-0무</td>\n",
       "    </tr>\n",
       "    <tr>\n",
       "      <th>6</th>\n",
       "      <td>7</td>\n",
       "      <td>한화</td>\n",
       "      <td>115</td>\n",
       "      <td>53</td>\n",
       "      <td>2</td>\n",
       "      <td>60</td>\n",
       "      <td>0.469</td>\n",
       "      <td>15.0</td>\n",
       "      <td>1패</td>\n",
       "      <td>5승-5패-0무</td>\n",
       "    </tr>\n",
       "    <tr>\n",
       "      <th>7</th>\n",
       "      <td>8</td>\n",
       "      <td>롯데</td>\n",
       "      <td>111</td>\n",
       "      <td>50</td>\n",
       "      <td>3</td>\n",
       "      <td>58</td>\n",
       "      <td>0.463</td>\n",
       "      <td>15.5</td>\n",
       "      <td>1패</td>\n",
       "      <td>6승-4패-0무</td>\n",
       "    </tr>\n",
       "    <tr>\n",
       "      <th>8</th>\n",
       "      <td>9</td>\n",
       "      <td>NC</td>\n",
       "      <td>114</td>\n",
       "      <td>50</td>\n",
       "      <td>2</td>\n",
       "      <td>62</td>\n",
       "      <td>0.446</td>\n",
       "      <td>17.5</td>\n",
       "      <td>1승</td>\n",
       "      <td>1승-9패-0무</td>\n",
       "    </tr>\n",
       "    <tr>\n",
       "      <th>9</th>\n",
       "      <td>10</td>\n",
       "      <td>키움</td>\n",
       "      <td>116</td>\n",
       "      <td>51</td>\n",
       "      <td>0</td>\n",
       "      <td>65</td>\n",
       "      <td>0.440</td>\n",
       "      <td>18.5</td>\n",
       "      <td>1패</td>\n",
       "      <td>5승-5패-0무</td>\n",
       "    </tr>\n",
       "  </tbody>\n",
       "</table>\n",
       "</div>"
      ],
      "text/plain": [
       "   순위   팀명   경기   승  무   패     승률   게임차  연속    최근10경기\n",
       "0   1  KIA  117  69  2  46  0.600   0.0  5승  7승-3패-0무\n",
       "1   2   삼성  119  64  2  53  0.547   6.0  1패  7승-3패-0무\n",
       "2   3   LG  116  61  2  53  0.535   7.5  1패  5승-5패-0무\n",
       "3   4   두산  121  62  2  57  0.521   9.0  1승  6승-4패-0무\n",
       "4   5  SSG  117  57  1  59  0.491  12.5  1승  4승-6패-0무\n",
       "5   6   KT  118  56  2  60  0.483  13.5  1승  3승-7패-0무\n",
       "6   7   한화  115  53  2  60  0.469  15.0  1패  5승-5패-0무\n",
       "7   8   롯데  111  50  3  58  0.463  15.5  1패  6승-4패-0무\n",
       "8   9   NC  114  50  2  62  0.446  17.5  1승  1승-9패-0무\n",
       "9  10   키움  116  51  0  65  0.440  18.5  1패  5승-5패-0무"
      ]
     },
     "execution_count": 29,
     "metadata": {},
     "output_type": "execute_result"
    }
   ],
   "source": [
    "import pandas as pd\n",
    "df = pd.DataFrame(data=data, columns=head_list)\n",
    "df"
   ]
  },
  {
   "cell_type": "markdown",
   "id": "1ac4d096-a59c-4ec8-bb49-cebd6bb170ac",
   "metadata": {},
   "source": [
    "# 실습\n",
    "* 네이버 검색창에 '프로축구 순위' 검색시 구단순위를 스크래핑하여 데이터 프레임으로 전환해 보세요"
   ]
  },
  {
   "cell_type": "code",
   "execution_count": null,
   "id": "f33c9849-cfb9-49ef-8bce-aa0baee2a17e",
   "metadata": {},
   "outputs": [],
   "source": []
  }
 ],
 "metadata": {
  "kernelspec": {
   "display_name": "Python 3 (ipykernel)",
   "language": "python",
   "name": "python3"
  },
  "language_info": {
   "codemirror_mode": {
    "name": "ipython",
    "version": 3
   },
   "file_extension": ".py",
   "mimetype": "text/x-python",
   "name": "python",
   "nbconvert_exporter": "python",
   "pygments_lexer": "ipython3",
   "version": "3.11.7"
  }
 },
 "nbformat": 4,
 "nbformat_minor": 5
}
