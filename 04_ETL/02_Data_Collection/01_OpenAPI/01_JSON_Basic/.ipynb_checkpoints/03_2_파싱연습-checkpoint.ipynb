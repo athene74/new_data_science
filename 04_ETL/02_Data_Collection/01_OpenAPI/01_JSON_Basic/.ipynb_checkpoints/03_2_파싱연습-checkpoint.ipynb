{
 "cells": [
  {
   "cell_type": "markdown",
   "id": "e69739e0-8d32-47da-8f5c-15e8db05de55",
   "metadata": {},
   "source": [
    "# 문제"
   ]
  },
  {
   "cell_type": "markdown",
   "id": "9d62be62-8841-4926-9d73-f500bb666699",
   "metadata": {},
   "source": [
    "* 주어진 JSON 파일을 데이터 프레임으로 전화해 보세요"
   ]
  },
  {
   "cell_type": "code",
   "execution_count": 5,
   "id": "5553d92d-8705-4bf4-bf4d-45ddd06cf89a",
   "metadata": {},
   "outputs": [],
   "source": [
    "def open_json(file_name, encoding):\n",
    "    with open(file_name, encoding=encoding) as json_file: \n",
    "        json_object = json.load(json_file)\n",
    "        json_string = json.dumps(json_object)\n",
    "        json_data = json.loads(json_string)\n",
    "    return json_data"
   ]
  },
  {
   "cell_type": "code",
   "execution_count": 6,
   "id": "a3f725fd-f8de-4e2e-9f5b-a521220877e8",
   "metadata": {},
   "outputs": [
    {
     "data": {
      "text/plain": [
       "{'response': {'body': {'student_list': [{'age': 46,\n",
       "     'major': '경영학',\n",
       "     'name': '영호',\n",
       "     'sex': '남'},\n",
       "    {'age': 32, 'major': '정치외교', 'name': '세중', 'sex': '남'},\n",
       "    {'age': 30, 'major': '신문방송학', 'name': '치우', 'sex': '남'}]}}}"
      ]
     },
     "execution_count": 6,
     "metadata": {},
     "output_type": "execute_result"
    }
   ],
   "source": [
    "json_data = open_json('student_info2.json','cp949')\n",
    "json_data"
   ]
  },
  {
   "cell_type": "code",
   "execution_count": 8,
   "id": "05db06b8-5c93-49e8-8ade-1111099efa1e",
   "metadata": {},
   "outputs": [
    {
     "data": {
      "text/plain": [
       "dict"
      ]
     },
     "execution_count": 8,
     "metadata": {},
     "output_type": "execute_result"
    }
   ],
   "source": [
    "type(json_data)"
   ]
  },
  {
   "cell_type": "code",
   "execution_count": 9,
   "id": "5df98f3a-f874-4b3b-8d6e-cb10ee1bc189",
   "metadata": {},
   "outputs": [
    {
     "data": {
      "text/plain": [
       "{'body': {'student_list': [{'age': 46,\n",
       "    'major': '경영학',\n",
       "    'name': '영호',\n",
       "    'sex': '남'},\n",
       "   {'age': 32, 'major': '정치외교', 'name': '세중', 'sex': '남'},\n",
       "   {'age': 30, 'major': '신문방송학', 'name': '치우', 'sex': '남'}]}}"
      ]
     },
     "execution_count": 9,
     "metadata": {},
     "output_type": "execute_result"
    }
   ],
   "source": [
    "json_data['response']"
   ]
  },
  {
   "cell_type": "code",
   "execution_count": 11,
   "id": "6f193716-741f-42ae-b54f-1ab96353507d",
   "metadata": {},
   "outputs": [
    {
     "data": {
      "text/plain": [
       "{'student_list': [{'age': 46, 'major': '경영학', 'name': '영호', 'sex': '남'},\n",
       "  {'age': 32, 'major': '정치외교', 'name': '세중', 'sex': '남'},\n",
       "  {'age': 30, 'major': '신문방송학', 'name': '치우', 'sex': '남'}]}"
      ]
     },
     "execution_count": 11,
     "metadata": {},
     "output_type": "execute_result"
    }
   ],
   "source": [
    "json_data['response']['body']"
   ]
  },
  {
   "cell_type": "code",
   "execution_count": 12,
   "id": "f00dee79-6d51-4666-b0d2-be78a5de72c9",
   "metadata": {},
   "outputs": [
    {
     "data": {
      "text/plain": [
       "[{'age': 46, 'major': '경영학', 'name': '영호', 'sex': '남'},\n",
       " {'age': 32, 'major': '정치외교', 'name': '세중', 'sex': '남'},\n",
       " {'age': 30, 'major': '신문방송학', 'name': '치우', 'sex': '남'}]"
      ]
     },
     "execution_count": 12,
     "metadata": {},
     "output_type": "execute_result"
    }
   ],
   "source": [
    "json_data['response']['body']['student_list']"
   ]
  },
  {
   "cell_type": "code",
   "execution_count": 13,
   "id": "98d25a48-9b5a-487e-8541-7633b5a1c664",
   "metadata": {},
   "outputs": [],
   "source": [
    "import pandas as pd"
   ]
  },
  {
   "cell_type": "code",
   "execution_count": 14,
   "id": "93147714-12f7-4dc3-ac46-aaeb9a223ec5",
   "metadata": {},
   "outputs": [
    {
     "data": {
      "text/html": [
       "<div>\n",
       "<style scoped>\n",
       "    .dataframe tbody tr th:only-of-type {\n",
       "        vertical-align: middle;\n",
       "    }\n",
       "\n",
       "    .dataframe tbody tr th {\n",
       "        vertical-align: top;\n",
       "    }\n",
       "\n",
       "    .dataframe thead th {\n",
       "        text-align: right;\n",
       "    }\n",
       "</style>\n",
       "<table border=\"1\" class=\"dataframe\">\n",
       "  <thead>\n",
       "    <tr style=\"text-align: right;\">\n",
       "      <th></th>\n",
       "      <th>age</th>\n",
       "      <th>major</th>\n",
       "      <th>name</th>\n",
       "      <th>sex</th>\n",
       "    </tr>\n",
       "  </thead>\n",
       "  <tbody>\n",
       "    <tr>\n",
       "      <th>0</th>\n",
       "      <td>46</td>\n",
       "      <td>경영학</td>\n",
       "      <td>영호</td>\n",
       "      <td>남</td>\n",
       "    </tr>\n",
       "    <tr>\n",
       "      <th>1</th>\n",
       "      <td>32</td>\n",
       "      <td>정치외교</td>\n",
       "      <td>세중</td>\n",
       "      <td>남</td>\n",
       "    </tr>\n",
       "    <tr>\n",
       "      <th>2</th>\n",
       "      <td>30</td>\n",
       "      <td>신문방송학</td>\n",
       "      <td>치우</td>\n",
       "      <td>남</td>\n",
       "    </tr>\n",
       "  </tbody>\n",
       "</table>\n",
       "</div>"
      ],
      "text/plain": [
       "   age  major name sex\n",
       "0   46    경영학   영호   남\n",
       "1   32   정치외교   세중   남\n",
       "2   30  신문방송학   치우   남"
      ]
     },
     "execution_count": 14,
     "metadata": {},
     "output_type": "execute_result"
    }
   ],
   "source": [
    "df= pd.DataFrame(json_data['response']['body']['student_list'])\n",
    "df"
   ]
  },
  {
   "cell_type": "code",
   "execution_count": null,
   "id": "ee1b7ef6-01c2-474f-9276-d3673285dcb0",
   "metadata": {},
   "outputs": [],
   "source": []
  }
 ],
 "metadata": {
  "kernelspec": {
   "display_name": "Python 3 (ipykernel)",
   "language": "python",
   "name": "python3"
  },
  "language_info": {
   "codemirror_mode": {
    "name": "ipython",
    "version": 3
   },
   "file_extension": ".py",
   "mimetype": "text/x-python",
   "name": "python",
   "nbconvert_exporter": "python",
   "pygments_lexer": "ipython3",
   "version": "3.11.7"
  }
 },
 "nbformat": 4,
 "nbformat_minor": 5
}
