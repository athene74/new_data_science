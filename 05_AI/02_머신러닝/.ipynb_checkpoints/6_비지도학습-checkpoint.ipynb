{
 "cells": [
  {
   "cell_type": "markdown",
   "id": "3f53250b",
   "metadata": {},
   "source": [
    "# 인공지능의 분류"
   ]
  },
  {
   "cell_type": "markdown",
   "id": "bc99cdb9",
   "metadata": {},
   "source": [
    "* 지도학습(Supervised Learning)\n",
    "    * 예측을 위해서 Feature와 Label 정보를 예측모델에 학습을 시키는 모델\n",
    "* 비지도학습(Unsupervised Learning)\n",
    "    * 데이터 분석 또는 예측 모델을 만들기 위해서 Feature 정보로 데이터의 패턴을 찾아내는 모델"
   ]
  },
  {
   "cell_type": "code",
   "execution_count": 1,
   "id": "0fed19bc",
   "metadata": {},
   "outputs": [],
   "source": [
    "# 목적: clustering 관련 모듈 기본\n",
    "import matplotlib, matplotlib.pyplot as plt\n",
    "import pandas as pd\n",
    "import sklearn.cluster, sklearn.preprocessing\n",
    "import warnings\n",
    "warnings.filterwarnings('ignore')"
   ]
  },
  {
   "cell_type": "code",
   "execution_count": 2,
   "id": "d8ce680c",
   "metadata": {},
   "outputs": [
    {
     "data": {
      "text/html": [
       "<div>\n",
       "<style scoped>\n",
       "    .dataframe tbody tr th:only-of-type {\n",
       "        vertical-align: middle;\n",
       "    }\n",
       "\n",
       "    .dataframe tbody tr th {\n",
       "        vertical-align: top;\n",
       "    }\n",
       "\n",
       "    .dataframe thead th {\n",
       "        text-align: right;\n",
       "    }\n",
       "</style>\n",
       "<table border=\"1\" class=\"dataframe\">\n",
       "  <thead>\n",
       "    <tr style=\"text-align: right;\">\n",
       "      <th></th>\n",
       "      <th>Postal</th>\n",
       "      <th>Beer</th>\n",
       "      <th>Wine</th>\n",
       "    </tr>\n",
       "    <tr>\n",
       "      <th>State</th>\n",
       "      <th></th>\n",
       "      <th></th>\n",
       "      <th></th>\n",
       "    </tr>\n",
       "  </thead>\n",
       "  <tbody>\n",
       "    <tr>\n",
       "      <th>Alabama</th>\n",
       "      <td>AL</td>\n",
       "      <td>1.20</td>\n",
       "      <td>0.22</td>\n",
       "    </tr>\n",
       "    <tr>\n",
       "      <th>Alaska</th>\n",
       "      <td>AK</td>\n",
       "      <td>1.31</td>\n",
       "      <td>0.54</td>\n",
       "    </tr>\n",
       "    <tr>\n",
       "      <th>Arizona</th>\n",
       "      <td>AZ</td>\n",
       "      <td>1.19</td>\n",
       "      <td>0.38</td>\n",
       "    </tr>\n",
       "    <tr>\n",
       "      <th>Arkansas</th>\n",
       "      <td>AR</td>\n",
       "      <td>1.07</td>\n",
       "      <td>0.17</td>\n",
       "    </tr>\n",
       "    <tr>\n",
       "      <th>California</th>\n",
       "      <td>CA</td>\n",
       "      <td>1.05</td>\n",
       "      <td>0.55</td>\n",
       "    </tr>\n",
       "  </tbody>\n",
       "</table>\n",
       "</div>"
      ],
      "text/plain": [
       "           Postal  Beer  Wine\n",
       "State                        \n",
       "Alabama        AL  1.20  0.22\n",
       "Alaska         AK  1.31  0.54\n",
       "Arizona        AZ  1.19  0.38\n",
       "Arkansas       AR  1.07  0.17\n",
       "California     CA  1.05  0.55"
      ]
     },
     "execution_count": 2,
     "metadata": {},
     "output_type": "execute_result"
    }
   ],
   "source": [
    "alco2009 = pd.read_csv(\"niaaa-report2009.csv\",index_col=\"State\")\n",
    "alco2009.head()\n",
    "# Postal : 지역 코드\n",
    "# Beer: 맥주 소비량\n",
    "# Wine: 와인 소비량"
   ]
  },
  {
   "cell_type": "code",
   "execution_count": 3,
   "id": "69fe57d0",
   "metadata": {},
   "outputs": [
    {
     "data": {
      "text/plain": [
       "(51, 3)"
      ]
     },
     "execution_count": 3,
     "metadata": {},
     "output_type": "execute_result"
    }
   ],
   "source": [
    "alco2009.shape"
   ]
  },
  {
   "cell_type": "code",
   "execution_count": 4,
   "id": "f3c16378",
   "metadata": {},
   "outputs": [
    {
     "data": {
      "text/html": [
       "<div>\n",
       "<style scoped>\n",
       "    .dataframe tbody tr th:only-of-type {\n",
       "        vertical-align: middle;\n",
       "    }\n",
       "\n",
       "    .dataframe tbody tr th {\n",
       "        vertical-align: top;\n",
       "    }\n",
       "\n",
       "    .dataframe thead th {\n",
       "        text-align: right;\n",
       "    }\n",
       "</style>\n",
       "<table border=\"1\" class=\"dataframe\">\n",
       "  <thead>\n",
       "    <tr style=\"text-align: right;\">\n",
       "      <th></th>\n",
       "      <th>Postal</th>\n",
       "      <th>Beer</th>\n",
       "      <th>Wine</th>\n",
       "      <th>Clusters</th>\n",
       "    </tr>\n",
       "    <tr>\n",
       "      <th>State</th>\n",
       "      <th></th>\n",
       "      <th></th>\n",
       "      <th></th>\n",
       "      <th></th>\n",
       "    </tr>\n",
       "  </thead>\n",
       "  <tbody>\n",
       "    <tr>\n",
       "      <th>Alabama</th>\n",
       "      <td>AL</td>\n",
       "      <td>1.20</td>\n",
       "      <td>0.22</td>\n",
       "      <td>3</td>\n",
       "    </tr>\n",
       "    <tr>\n",
       "      <th>Alaska</th>\n",
       "      <td>AK</td>\n",
       "      <td>1.31</td>\n",
       "      <td>0.54</td>\n",
       "      <td>2</td>\n",
       "    </tr>\n",
       "    <tr>\n",
       "      <th>Arizona</th>\n",
       "      <td>AZ</td>\n",
       "      <td>1.19</td>\n",
       "      <td>0.38</td>\n",
       "      <td>7</td>\n",
       "    </tr>\n",
       "    <tr>\n",
       "      <th>Arkansas</th>\n",
       "      <td>AR</td>\n",
       "      <td>1.07</td>\n",
       "      <td>0.17</td>\n",
       "      <td>3</td>\n",
       "    </tr>\n",
       "    <tr>\n",
       "      <th>California</th>\n",
       "      <td>CA</td>\n",
       "      <td>1.05</td>\n",
       "      <td>0.55</td>\n",
       "      <td>0</td>\n",
       "    </tr>\n",
       "  </tbody>\n",
       "</table>\n",
       "</div>"
      ],
      "text/plain": [
       "           Postal  Beer  Wine  Clusters\n",
       "State                                  \n",
       "Alabama        AL  1.20  0.22         3\n",
       "Alaska         AK  1.31  0.54         2\n",
       "Arizona        AZ  1.19  0.38         7\n",
       "Arkansas       AR  1.07  0.17         3\n",
       "California     CA  1.05  0.55         0"
      ]
     },
     "execution_count": 4,
     "metadata": {},
     "output_type": "execute_result"
    }
   ],
   "source": [
    "columns = [\"Wine\", \"Beer\"]\n",
    "# 클러스터링 객체를 생성하고 모델을 학습시킨다.\n",
    "# n_clusters인자 수만큼 임의로 데이터를 군집화\n",
    "# 군집화의 기준은 인접한 데이터끼리 묶는다\n",
    "kmeans = sklearn.cluster.KMeans(n_clusters=9, random_state=77)\n",
    "kmeans.fit(alco2009[columns])\n",
    "alco2009[\"Clusters\"] = kmeans.labels_\n",
    "alco2009.head()"
   ]
  },
  {
   "cell_type": "code",
   "execution_count": 29,
   "id": "aefe2e0b",
   "metadata": {},
   "outputs": [
    {
     "data": {
      "text/plain": [
       "Text(0.5, 1.0, 'US States Clustered by Alcohol Consumption')"
      ]
     },
     "execution_count": 29,
     "metadata": {},
     "output_type": "execute_result"
    },
    {
     "data": {
      "image/png": "[encoded data removed]",
      "text/plain": [
       "<Figure size 640x480 with 2 Axes>"
      ]
     },
     "metadata": {},
     "output_type": "display_data"
    }
   ],
   "source": [
    "# 각 클러스터별 중앙점\n",
    "centers = pd.DataFrame(kmeans.cluster_centers_, columns=columns)\n",
    "\n",
    "# 플로팅 스타일을 선택한다.\n",
    "matplotlib.style.use(\"ggplot\")\n",
    "\n",
    "# s: 사이즈\n",
    "ax = alco2009.plot.scatter(columns[0], columns[1], c=\"Clusters\", \n",
    "                           cmap=plt.cm.Accent, s=100)\n",
    "centers.plot.scatter(columns[0], columns[1], color=\"red\", marker=\"+\", \n",
    "                     s=200, ax=ax)\n",
    "\n",
    "# 플롯에 제목을 붙이고 저장한다.\n",
    "plt.title(\"US States Clustered by Alcohol Consumption\")\n",
    "# plt.savefig(\"clusters.pdf\")"
   ]
  },
  {
   "cell_type": "markdown",
   "id": "384f0690",
   "metadata": {},
   "source": [
    "## 활용\n",
    "* 각 클러스터(그룹) 별 의미해석: 예) 아동, 성인\n",
    "* 각 클러스터(그룹) 별 활용전략 수립시 참고: 예) VVIP, VIP, 일반고객 별 매출전략\n",
    "* 클러스터를 라벨화하며 예측모델에 활용 예) 특정 고객데이터로 미루어보아 어떤 등급의 고객으로 예측되는가"
   ]
  },
  {
   "cell_type": "markdown",
   "id": "111f30de",
   "metadata": {},
   "source": [
    "# 군집화 자동화"
   ]
  },
  {
   "cell_type": "markdown",
   "id": "2e24e3e4",
   "metadata": {},
   "source": [
    "* 어떤 기준으로 클러스터를 나눌 지에 대한 정보를 자동으로 결정"
   ]
  },
  {
   "cell_type": "code",
   "execution_count": 30,
   "id": "4554ccbf",
   "metadata": {},
   "outputs": [],
   "source": [
    "from sklearn.metrics import silhouette_score\n",
    "from sklearn.cluster import KMeans"
   ]
  },
  {
   "cell_type": "code",
   "execution_count": 31,
   "id": "da9f118e",
   "metadata": {},
   "outputs": [
    {
     "name": "stdout",
     "output_type": "stream",
     "text": [
      "score for 2 clusters:0.348\n",
      "score for 3 clusters:0.373\n",
      "score for 4 clusters:0.394\n",
      "score for 5 clusters:0.413\n",
      "score for 6 clusters:0.455\n",
      "score for 7 clusters:0.457\n",
      "score for 8 clusters:0.408\n",
      "score for 9 clusters:0.422\n",
      "score for 10 clusters:0.378\n",
      "score for 11 clusters:0.367\n",
      "score for 12 clusters:0.383\n",
      "score for 13 clusters:0.406\n",
      "score for 14 clusters:0.399\n",
      "score for 15 clusters:0.403\n",
      "score for 16 clusters:0.392\n",
      "score for 17 clusters:0.375\n",
      "score for 18 clusters:0.375\n",
      "score for 19 clusters:0.354\n",
      "\n",
      " 최적의 클러스터개수: 7, silhouette 점수: 0.45684879569813197\n"
     ]
    }
   ],
   "source": [
    "max_score = 0\n",
    "optimized_n = 0\n",
    "for k in range(2,20):\n",
    "   \n",
    "    km = KMeans(n_clusters=k,random_state=77).fit(alco2009[columns])\n",
    "    # silhouette_score N개로 클러스터링했을 때 중심점을 기준으로 얼마나 잘 뭉쳐있는\n",
    "    # 정도를 나타내는 수치 (높을 수록 군집화가 잘 되어 있는 경우)\n",
    "    s_score = silhouette_score(alco2009[columns],km.labels_)\n",
    "    if s_score > max_score:\n",
    "        max_score = s_score\n",
    "        optimized_n = k\n",
    "    print(\"score for %d clusters:%.3f\" % (k, s_score))\n",
    "    \n",
    "print(f'\\n 최적의 클러스터개수: {optimized_n}, silhouette 점수: {max_score}')"
   ]
  },
  {
   "cell_type": "code",
   "execution_count": 32,
   "id": "21c79c95",
   "metadata": {},
   "outputs": [
    {
     "data": {
      "text/plain": [
       "Text(0.5, 1.0, 'US States Clustered by Alcohol Consumption')"
      ]
     },
     "execution_count": 32,
     "metadata": {},
     "output_type": "execute_result"
    },
    {
     "data": {
      "image/png": "[encoded data removed]",
      "text/plain": [
       "<Figure size 640x480 with 2 Axes>"
      ]
     },
     "metadata": {},
     "output_type": "display_data"
    }
   ],
   "source": [
    "columns = [\"Wine\", \"Beer\"]\n",
    "# 클러스터링 객체를 생성하고 모델을 학습시킨다.\n",
    "kmeans = sklearn.cluster.KMeans(n_clusters=optimized_n)\n",
    "kmeans.fit(alco2009[columns])\n",
    "alco2009[\"Clusters\"] = kmeans.labels_\n",
    "centers = pd.DataFrame(kmeans.cluster_centers_, columns=columns)\n",
    "\n",
    "# 플로팅 스타일을 선택한다.\n",
    "matplotlib.style.use(\"ggplot\")\n",
    "\n",
    "# 주와 centroid를 플롯에 그린다.\n",
    "ax = alco2009.plot.scatter(columns[0], columns[1], c=\"Clusters\", \n",
    "                           cmap=plt.cm.Accent, s=100)\n",
    "centers.plot.scatter(columns[0], columns[1], color=\"red\", marker=\"+\", \n",
    "                     s=200, ax=ax)\n",
    "\n",
    "# 플롯에 제목을 붙이고 저장한다.\n",
    "plt.title(\"US States Clustered by Alcohol Consumption\")"
   ]
  },
  {
   "cell_type": "markdown",
   "id": "14e1424b",
   "metadata": {},
   "source": [
    "# Label이 없는 데이터를 군집화를 통해 예측모델에서 활용"
   ]
  },
  {
   "cell_type": "code",
   "execution_count": 33,
   "id": "a7b3236d",
   "metadata": {},
   "outputs": [
    {
     "data": {
      "text/html": [
       "<div>\n",
       "<style scoped>\n",
       "    .dataframe tbody tr th:only-of-type {\n",
       "        vertical-align: middle;\n",
       "    }\n",
       "\n",
       "    .dataframe tbody tr th {\n",
       "        vertical-align: top;\n",
       "    }\n",
       "\n",
       "    .dataframe thead th {\n",
       "        text-align: right;\n",
       "    }\n",
       "</style>\n",
       "<table border=\"1\" class=\"dataframe\">\n",
       "  <thead>\n",
       "    <tr style=\"text-align: right;\">\n",
       "      <th></th>\n",
       "      <th>alcohol</th>\n",
       "      <th>chlorides</th>\n",
       "      <th>citric_acid</th>\n",
       "      <th>density</th>\n",
       "      <th>fixed_acidity</th>\n",
       "      <th>free_sulfur_dioxide</th>\n",
       "      <th>pH</th>\n",
       "      <th>residual_sugar</th>\n",
       "      <th>sulphates</th>\n",
       "      <th>total_sulfur_dioxide</th>\n",
       "      <th>volatile_acidity</th>\n",
       "    </tr>\n",
       "  </thead>\n",
       "  <tbody>\n",
       "    <tr>\n",
       "      <th>0</th>\n",
       "      <td>9.4</td>\n",
       "      <td>0.076</td>\n",
       "      <td>0.00</td>\n",
       "      <td>0.9978</td>\n",
       "      <td>7.4</td>\n",
       "      <td>11.0</td>\n",
       "      <td>3.51</td>\n",
       "      <td>1.9</td>\n",
       "      <td>0.56</td>\n",
       "      <td>34.0</td>\n",
       "      <td>0.70</td>\n",
       "    </tr>\n",
       "    <tr>\n",
       "      <th>1</th>\n",
       "      <td>9.8</td>\n",
       "      <td>0.098</td>\n",
       "      <td>0.00</td>\n",
       "      <td>0.9968</td>\n",
       "      <td>7.8</td>\n",
       "      <td>25.0</td>\n",
       "      <td>3.20</td>\n",
       "      <td>2.6</td>\n",
       "      <td>0.68</td>\n",
       "      <td>67.0</td>\n",
       "      <td>0.88</td>\n",
       "    </tr>\n",
       "    <tr>\n",
       "      <th>2</th>\n",
       "      <td>9.8</td>\n",
       "      <td>0.092</td>\n",
       "      <td>0.04</td>\n",
       "      <td>0.9970</td>\n",
       "      <td>7.8</td>\n",
       "      <td>15.0</td>\n",
       "      <td>3.26</td>\n",
       "      <td>2.3</td>\n",
       "      <td>0.65</td>\n",
       "      <td>54.0</td>\n",
       "      <td>0.76</td>\n",
       "    </tr>\n",
       "    <tr>\n",
       "      <th>3</th>\n",
       "      <td>9.8</td>\n",
       "      <td>0.075</td>\n",
       "      <td>0.56</td>\n",
       "      <td>0.9980</td>\n",
       "      <td>11.2</td>\n",
       "      <td>17.0</td>\n",
       "      <td>3.16</td>\n",
       "      <td>1.9</td>\n",
       "      <td>0.58</td>\n",
       "      <td>60.0</td>\n",
       "      <td>0.28</td>\n",
       "    </tr>\n",
       "    <tr>\n",
       "      <th>4</th>\n",
       "      <td>9.4</td>\n",
       "      <td>0.076</td>\n",
       "      <td>0.00</td>\n",
       "      <td>0.9978</td>\n",
       "      <td>7.4</td>\n",
       "      <td>11.0</td>\n",
       "      <td>3.51</td>\n",
       "      <td>1.9</td>\n",
       "      <td>0.56</td>\n",
       "      <td>34.0</td>\n",
       "      <td>0.70</td>\n",
       "    </tr>\n",
       "  </tbody>\n",
       "</table>\n",
       "</div>"
      ],
      "text/plain": [
       "   alcohol  chlorides  citric_acid  density  fixed_acidity  \\\n",
       "0      9.4      0.076         0.00   0.9978            7.4   \n",
       "1      9.8      0.098         0.00   0.9968            7.8   \n",
       "2      9.8      0.092         0.04   0.9970            7.8   \n",
       "3      9.8      0.075         0.56   0.9980           11.2   \n",
       "4      9.4      0.076         0.00   0.9978            7.4   \n",
       "\n",
       "   free_sulfur_dioxide    pH  residual_sugar  sulphates  total_sulfur_dioxide  \\\n",
       "0                 11.0  3.51             1.9       0.56                  34.0   \n",
       "1                 25.0  3.20             2.6       0.68                  67.0   \n",
       "2                 15.0  3.26             2.3       0.65                  54.0   \n",
       "3                 17.0  3.16             1.9       0.58                  60.0   \n",
       "4                 11.0  3.51             1.9       0.56                  34.0   \n",
       "\n",
       "   volatile_acidity  \n",
       "0              0.70  \n",
       "1              0.88  \n",
       "2              0.76  \n",
       "3              0.28  \n",
       "4              0.70  "
      ]
     },
     "execution_count": 33,
     "metadata": {},
     "output_type": "execute_result"
    }
   ],
   "source": [
    "wine = pd.read_csv('winequality-both.csv',sep=',',header=0)\n",
    "wine.columns = wine.columns.str.replace(' ','_')\n",
    "colums_list = ['alcohol','chlorides','citric_acid','density','fixed_acidity','free_sulfur_dioxide','pH',\n",
    "               'residual_sugar','sulphates','total_sulfur_dioxide','volatile_acidity']\n",
    "feature = wine[colums_list]\n",
    "feature.head()"
   ]
  },
  {
   "cell_type": "code",
   "execution_count": 34,
   "id": "f146aae6",
   "metadata": {
    "scrolled": true
   },
   "outputs": [
    {
     "name": "stdout",
     "output_type": "stream",
     "text": [
      "score for 2 clusters:0.509\n",
      "score for 3 clusters:0.504\n",
      "score for 4 clusters:0.450\n",
      "score for 5 clusters:0.418\n",
      "score for 6 clusters:0.392\n",
      "score for 7 clusters:0.366\n",
      "score for 8 clusters:0.365\n",
      "score for 9 clusters:0.343\n",
      "\n",
      " 최적의 클러스터개수: 2, silhouette 점수: 0.5094282376210143\n"
     ]
    }
   ],
   "source": [
    "max_score = 0\n",
    "optimized_n = 0\n",
    "for k in range(2,10):\n",
    "   \n",
    "    km = KMeans(n_clusters=k,random_state=21).fit(feature)\n",
    "   \n",
    "    s_score = silhouette_score(feature,km.labels_)\n",
    "    if s_score > max_score:\n",
    "        max_score = s_score\n",
    "        optimized_n = k\n",
    "    print(\"score for %d clusters:%.3f\" % (k, s_score))\n",
    "    \n",
    "print(f'\\n 최적의 클러스터개수: {optimized_n}, silhouette 점수: {max_score}')"
   ]
  },
  {
   "cell_type": "code",
   "execution_count": 35,
   "id": "05e0706e",
   "metadata": {},
   "outputs": [],
   "source": [
    "km = KMeans(n_clusters=2,random_state=21).fit(feature)"
   ]
  },
  {
   "cell_type": "code",
   "execution_count": 36,
   "id": "1dbecef0",
   "metadata": {},
   "outputs": [],
   "source": [
    "import numpy as np\n",
    "wine['type'] = np.where(wine['type'] == 'red', 0, 1)"
   ]
  },
  {
   "cell_type": "code",
   "execution_count": 37,
   "id": "ee76f7a4",
   "metadata": {
    "scrolled": true
   },
   "outputs": [
    {
     "data": {
      "text/plain": [
       "array([0, 0, 0, ..., 1, 0, 0])"
      ]
     },
     "execution_count": 37,
     "metadata": {},
     "output_type": "execute_result"
    }
   ],
   "source": [
    "km.labels_ "
   ]
  },
  {
   "cell_type": "code",
   "execution_count": 38,
   "id": "4ce07c23",
   "metadata": {},
   "outputs": [
    {
     "data": {
      "text/plain": [
       "0.7855933507772819"
      ]
     },
     "execution_count": 38,
     "metadata": {},
     "output_type": "execute_result"
    }
   ],
   "source": [
    "(list(km.labels_ == wine['type'].values).count(True)) / len(km.labels_)"
   ]
  },
  {
   "cell_type": "markdown",
   "id": "023d1f75",
   "metadata": {},
   "source": [
    "* 표준화 작업 진행"
   ]
  },
  {
   "cell_type": "code",
   "execution_count": 39,
   "id": "e8acbf2a",
   "metadata": {},
   "outputs": [],
   "source": [
    "from sklearn.preprocessing import StandardScaler\n",
    "\n",
    "ss = StandardScaler()\n",
    "ss.fit(feature)\n",
    "feature_s = ss.transform(feature)"
   ]
  },
  {
   "cell_type": "code",
   "execution_count": 40,
   "id": "d96bb3ee",
   "metadata": {},
   "outputs": [],
   "source": [
    "km = KMeans(n_clusters=2).fit(feature_s)"
   ]
  },
  {
   "cell_type": "code",
   "execution_count": 41,
   "id": "a1587661",
   "metadata": {},
   "outputs": [
    {
     "data": {
      "text/plain": [
       "0.9858396182853625"
      ]
     },
     "execution_count": 41,
     "metadata": {},
     "output_type": "execute_result"
    }
   ],
   "source": [
    "(list(km.labels_ == wine['type'].values).count(True)) / len(km.labels_)"
   ]
  },
  {
   "cell_type": "markdown",
   "id": "66724ee9",
   "metadata": {},
   "source": [
    "# 코드 정리"
   ]
  },
  {
   "cell_type": "code",
   "execution_count": 42,
   "id": "8cd7197c",
   "metadata": {},
   "outputs": [
    {
     "data": {
      "text/html": [
       "<div>\n",
       "<style scoped>\n",
       "    .dataframe tbody tr th:only-of-type {\n",
       "        vertical-align: middle;\n",
       "    }\n",
       "\n",
       "    .dataframe tbody tr th {\n",
       "        vertical-align: top;\n",
       "    }\n",
       "\n",
       "    .dataframe thead th {\n",
       "        text-align: right;\n",
       "    }\n",
       "</style>\n",
       "<table border=\"1\" class=\"dataframe\">\n",
       "  <thead>\n",
       "    <tr style=\"text-align: right;\">\n",
       "      <th></th>\n",
       "      <th>alcohol</th>\n",
       "      <th>chlorides</th>\n",
       "      <th>citric_acid</th>\n",
       "      <th>density</th>\n",
       "      <th>fixed_acidity</th>\n",
       "      <th>free_sulfur_dioxide</th>\n",
       "      <th>pH</th>\n",
       "      <th>residual_sugar</th>\n",
       "      <th>sulphates</th>\n",
       "      <th>total_sulfur_dioxide</th>\n",
       "      <th>volatile_acidity</th>\n",
       "    </tr>\n",
       "  </thead>\n",
       "  <tbody>\n",
       "    <tr>\n",
       "      <th>0</th>\n",
       "      <td>9.4</td>\n",
       "      <td>0.076</td>\n",
       "      <td>0.00</td>\n",
       "      <td>0.9978</td>\n",
       "      <td>7.4</td>\n",
       "      <td>11.0</td>\n",
       "      <td>3.51</td>\n",
       "      <td>1.9</td>\n",
       "      <td>0.56</td>\n",
       "      <td>34.0</td>\n",
       "      <td>0.70</td>\n",
       "    </tr>\n",
       "    <tr>\n",
       "      <th>1</th>\n",
       "      <td>9.8</td>\n",
       "      <td>0.098</td>\n",
       "      <td>0.00</td>\n",
       "      <td>0.9968</td>\n",
       "      <td>7.8</td>\n",
       "      <td>25.0</td>\n",
       "      <td>3.20</td>\n",
       "      <td>2.6</td>\n",
       "      <td>0.68</td>\n",
       "      <td>67.0</td>\n",
       "      <td>0.88</td>\n",
       "    </tr>\n",
       "    <tr>\n",
       "      <th>2</th>\n",
       "      <td>9.8</td>\n",
       "      <td>0.092</td>\n",
       "      <td>0.04</td>\n",
       "      <td>0.9970</td>\n",
       "      <td>7.8</td>\n",
       "      <td>15.0</td>\n",
       "      <td>3.26</td>\n",
       "      <td>2.3</td>\n",
       "      <td>0.65</td>\n",
       "      <td>54.0</td>\n",
       "      <td>0.76</td>\n",
       "    </tr>\n",
       "    <tr>\n",
       "      <th>3</th>\n",
       "      <td>9.8</td>\n",
       "      <td>0.075</td>\n",
       "      <td>0.56</td>\n",
       "      <td>0.9980</td>\n",
       "      <td>11.2</td>\n",
       "      <td>17.0</td>\n",
       "      <td>3.16</td>\n",
       "      <td>1.9</td>\n",
       "      <td>0.58</td>\n",
       "      <td>60.0</td>\n",
       "      <td>0.28</td>\n",
       "    </tr>\n",
       "    <tr>\n",
       "      <th>4</th>\n",
       "      <td>9.4</td>\n",
       "      <td>0.076</td>\n",
       "      <td>0.00</td>\n",
       "      <td>0.9978</td>\n",
       "      <td>7.4</td>\n",
       "      <td>11.0</td>\n",
       "      <td>3.51</td>\n",
       "      <td>1.9</td>\n",
       "      <td>0.56</td>\n",
       "      <td>34.0</td>\n",
       "      <td>0.70</td>\n",
       "    </tr>\n",
       "  </tbody>\n",
       "</table>\n",
       "</div>"
      ],
      "text/plain": [
       "   alcohol  chlorides  citric_acid  density  fixed_acidity  \\\n",
       "0      9.4      0.076         0.00   0.9978            7.4   \n",
       "1      9.8      0.098         0.00   0.9968            7.8   \n",
       "2      9.8      0.092         0.04   0.9970            7.8   \n",
       "3      9.8      0.075         0.56   0.9980           11.2   \n",
       "4      9.4      0.076         0.00   0.9978            7.4   \n",
       "\n",
       "   free_sulfur_dioxide    pH  residual_sugar  sulphates  total_sulfur_dioxide  \\\n",
       "0                 11.0  3.51             1.9       0.56                  34.0   \n",
       "1                 25.0  3.20             2.6       0.68                  67.0   \n",
       "2                 15.0  3.26             2.3       0.65                  54.0   \n",
       "3                 17.0  3.16             1.9       0.58                  60.0   \n",
       "4                 11.0  3.51             1.9       0.56                  34.0   \n",
       "\n",
       "   volatile_acidity  \n",
       "0              0.70  \n",
       "1              0.88  \n",
       "2              0.76  \n",
       "3              0.28  \n",
       "4              0.70  "
      ]
     },
     "execution_count": 42,
     "metadata": {},
     "output_type": "execute_result"
    }
   ],
   "source": [
    "wine = pd.read_csv('winequality-both.csv',sep=',',header=0)\n",
    "wine.columns = wine.columns.str.replace(' ','_')\n",
    "colums_list = ['alcohol','chlorides','citric_acid','density','fixed_acidity','free_sulfur_dioxide','pH',\n",
    "               'residual_sugar','sulphates','total_sulfur_dioxide','volatile_acidity']\n",
    "feature = wine[colums_list]\n",
    "feature.head()"
   ]
  },
  {
   "cell_type": "code",
   "execution_count": 43,
   "id": "abaea82f",
   "metadata": {},
   "outputs": [],
   "source": [
    "from sklearn.preprocessing import StandardScaler\n",
    "\n",
    "ss = StandardScaler()\n",
    "ss.fit(feature)\n",
    "feature_s = ss.transform(feature)"
   ]
  },
  {
   "cell_type": "code",
   "execution_count": 44,
   "id": "fe81883c",
   "metadata": {},
   "outputs": [
    {
     "data": {
      "text/plain": [
       "array([[-0.91546416,  0.56995782, -2.19283252,  1.03499282,  0.14247327,\n",
       "        -1.10013986,  1.81308951, -0.7447781 ,  0.19309677, -1.44635852,\n",
       "         2.18883292],\n",
       "       [-0.58006813,  1.1979747 , -2.19283252,  0.70148631,  0.45103572,\n",
       "        -0.31132009, -0.11507303, -0.59764007,  0.99957862, -0.86246863,\n",
       "         3.28223494],\n",
       "       [-0.58006813,  1.02669737, -1.91755268,  0.76818761,  0.45103572,\n",
       "        -0.87476278,  0.25811972, -0.66069923,  0.79795816, -1.09248586,\n",
       "         2.55330026]])"
      ]
     },
     "execution_count": 44,
     "metadata": {},
     "output_type": "execute_result"
    }
   ],
   "source": [
    "feature_s[:3]"
   ]
  },
  {
   "cell_type": "code",
   "execution_count": 45,
   "id": "ce0a5045",
   "metadata": {},
   "outputs": [
    {
     "name": "stdout",
     "output_type": "stream",
     "text": [
      "score for 2 clusters:0.411\n",
      "score for 3 clusters:0.238\n",
      "score for 4 clusters:0.108\n",
      "score for 5 clusters:-0.009\n",
      "score for 6 clusters:-0.009\n",
      "score for 7 clusters:-0.053\n",
      "score for 8 clusters:-0.076\n",
      "score for 9 clusters:-0.091\n",
      "\n",
      " 최적의 클러스터개수: 2, silhouette 점수: 0.4113313921237309\n"
     ]
    }
   ],
   "source": [
    "max_score = 0\n",
    "optimized_n = 0\n",
    "for k in range(2,10):\n",
    "   \n",
    "    km = KMeans(n_clusters=k,random_state=21).fit(feature_s)\n",
    "   \n",
    "    s_score = silhouette_score(feature,km.labels_)\n",
    "    if s_score > max_score:\n",
    "        max_score = s_score\n",
    "        optimized_n = k\n",
    "    print(\"score for %d clusters:%.3f\" % (k, s_score))\n",
    "    \n",
    "print(f'\\n 최적의 클러스터개수: {optimized_n}, silhouette 점수: {max_score}')"
   ]
  },
  {
   "cell_type": "code",
   "execution_count": 46,
   "id": "b5e181ca",
   "metadata": {},
   "outputs": [],
   "source": [
    "km = KMeans(n_clusters=2,random_state=21).fit(feature_s)\n",
    "import numpy as np\n",
    "wine['type'] = np.where(wine['type'] == 'red', 0, 1)"
   ]
  },
  {
   "cell_type": "code",
   "execution_count": 47,
   "id": "e8a738c5",
   "metadata": {},
   "outputs": [
    {
     "data": {
      "text/plain": [
       "0.9861474526704633"
      ]
     },
     "execution_count": 47,
     "metadata": {},
     "output_type": "execute_result"
    }
   ],
   "source": [
    "(list(km.labels_ == wine['type'].values).count(True)) / len(km.labels_)"
   ]
  },
  {
   "cell_type": "markdown",
   "id": "4e47ec36",
   "metadata": {},
   "source": [
    "# 활용방안"
   ]
  },
  {
   "cell_type": "markdown",
   "id": "50a0bef2",
   "metadata": {},
   "source": [
    "군집화 결과는 아래와 같이 사용가능하다.\n",
    "- 군집화 클러스터별 마케팅 전략 수립\n",
    "- 군집화된 클러스터 라벨을 지도학습의 라벨로 활용\n",
    " > 라벨 없이 지도학습 가능"
   ]
  },
  {
   "cell_type": "code",
   "execution_count": null,
   "id": "e7ba30d1",
   "metadata": {},
   "outputs": [],
   "source": []
  },
  {
   "cell_type": "code",
   "execution_count": null,
   "id": "aa8c003b",
   "metadata": {},
   "outputs": [],
   "source": []
  }
 ],
 "metadata": {
  "kernelspec": {
   "display_name": "Python 3 (ipykernel)",
   "language": "python",
   "name": "python3"
  },
  "language_info": {
   "codemirror_mode": {
    "name": "ipython",
    "version": 3
   },
   "file_extension": ".py",
   "mimetype": "text/x-python",
   "name": "python",
   "nbconvert_exporter": "python",
   "pygments_lexer": "ipython3",
   "version": "3.11.7"
  }
 },
 "nbformat": 4,
 "nbformat_minor": 5
}
