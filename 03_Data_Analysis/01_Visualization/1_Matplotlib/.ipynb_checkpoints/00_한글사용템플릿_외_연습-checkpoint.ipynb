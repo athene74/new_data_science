{
 "cells": [
  {
   "cell_type": "code",
   "execution_count": null,
   "id": "bc734aea-973d-4f58-9769-7e19c2741796",
   "metadata": {},
   "outputs": [],
   "source": [
    "# import pandas as pd\n",
    "# import numpy as np\n",
    "# import matplotlib.pyplot as plt\n",
    "# %matplotlib inline\n",
    "# from matplotlib import font_manager,rc\n",
    "# # 한글 폰트\n",
    "# font_location = \"C:\\Windows\\Fonts\\malgun.ttf\"\n",
    "# font_name = font_manager.FontProperties(fname=font_location).get_name()\n",
    "# rc('font',family=font_name)"
   ]
  },
  {
   "cell_type": "code",
   "execution_count": 6,
   "id": "59949402-f948-45bd-90b9-71d6acf6810e",
   "metadata": {},
   "outputs": [],
   "source": [
    "import pandas as pd\n",
    "import numpy as np\n",
    "import matplotlib.pyplot as plt\n",
    "%matplotlib inline\n",
    "from matplotlib import font_manager, rc\n",
    "# 한글 폰트\n",
    "font_location = \"C:\\Windows\\Fonts\\malgun.ttf\"\n",
    "font_name = font_manager.FontProperties(fname = font_location).get_name()\n",
    "rc('font', family=font_name)"
   ]
  },
  {
   "cell_type": "code",
   "execution_count": null,
   "id": "0236b68b-e222-4e34-80ec-26933208f3f8",
   "metadata": {},
   "outputs": [],
   "source": []
  },
  {
   "cell_type": "code",
   "execution_count": null,
   "id": "13d59055-8b9e-4537-92fd-0803229678e9",
   "metadata": {},
   "outputs": [],
   "source": []
  },
  {
   "cell_type": "code",
   "execution_count": null,
   "id": "a5bbb0de-1b28-4749-83f8-c30a3b7cddf8",
   "metadata": {},
   "outputs": [],
   "source": []
  },
  {
   "cell_type": "code",
   "execution_count": null,
   "id": "737ba599-c414-469e-b8a4-8158054ccc69",
   "metadata": {},
   "outputs": [],
   "source": []
  },
  {
   "cell_type": "code",
   "execution_count": null,
   "id": "5ce97b5d-65f6-4a63-a037-1ed282b0f50f",
   "metadata": {},
   "outputs": [],
   "source": []
  },
  {
   "cell_type": "code",
   "execution_count": null,
   "id": "11b324a9-2497-4a79-ae28-07b22b4385f9",
   "metadata": {},
   "outputs": [],
   "source": []
  },
  {
   "cell_type": "markdown",
   "id": "92ee3e66-1c49-4ccc-866a-fd3897bcd8b5",
   "metadata": {},
   "source": [
    "### * 여러 개의 그래프 그리기\n",
    "    * 제목과 범례 표시하기"
   ]
  },
  {
   "cell_type": "code",
   "execution_count": null,
   "id": "974a954b-7ebb-410b-8920-90c5119ba6ca",
   "metadata": {},
   "outputs": [],
   "source": [
    "x = np.arange(1, 5)     # [1, 2, 3, 4]\n",
    "\n",
    "fig, ax = plt.subplots(2, 2, sharex=True, sharey=True, squeeze=True)\n",
    "# 차트별 아래 항목 설정\n",
    "# 범례: label의 인자, legend() 호출을 통해\n",
    "# 제목: set_title() 설정을 통해\n",
    "ax[0][0].plot(x, np.sqrt(x), 'gray', linewidth=3, label='y=np.sqrt(x)')\n",
    "ax[0][0].set_title('Graph 1')\n",
    "ax[0][0].legend()\n",
    "ax[0][1].plot(x, x, 'g^-', markersize=10, label='y=x')\n",
    "ax[0][1].set_title('Graph 2')\n",
    "ax[0][1].legend(loc='upper left')\n",
    "ax[1][0].plot(x, -x+5, 'ro--', label='y=-x+5')\n",
    "ax[1][0].set_title('Graph 3')\n",
    "ax[1][0].legend(loc='lower left')\n",
    "ax[1][1].plot(x, np.sqrt(-x+5), 'b.-.', label='y=np.sqrt(-x+5)')\n",
    "ax[1][1].set_title('Graph 4')\n",
    "ax[1][1].legend(loc='upper center')\n",
    "\n",
    "plt.show()"
   ]
  }
 ],
 "metadata": {
  "kernelspec": {
   "display_name": "Python 3 (ipykernel)",
   "language": "python",
   "name": "python3"
  },
  "language_info": {
   "codemirror_mode": {
    "name": "ipython",
    "version": 3
   },
   "file_extension": ".py",
   "mimetype": "text/x-python",
   "name": "python",
   "nbconvert_exporter": "python",
   "pygments_lexer": "ipython3",
   "version": "3.11.7"
  }
 },
 "nbformat": 4,
 "nbformat_minor": 5
}
