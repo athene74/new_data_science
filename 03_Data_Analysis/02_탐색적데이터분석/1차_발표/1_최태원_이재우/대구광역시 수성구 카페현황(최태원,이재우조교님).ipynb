{
 "cells": [
  {
   "cell_type": "markdown",
   "id": "07796995",
   "metadata": {
    "heading_collapsed": true
   },
   "source": [
    "# 탐색적 데이터분석 (Exploratory Data Analysis, EDA)"
   ]
  },
  {
   "cell_type": "markdown",
   "id": "bb0a7e31",
   "metadata": {
    "heading_collapsed": true,
    "hidden": true
   },
   "source": [
    "## 개념정의\n",
    "* 데이터셋을 탐색하고 이해하기 위해 수행되는 분석 과정\n",
    "* 대략적인 간단한 분석절차를 기본으로 동적으로 데이터를 학습하며 데이터분석을 심화시키는 기법"
   ]
  },
  {
   "cell_type": "markdown",
   "id": "9a361676",
   "metadata": {
    "hidden": true
   },
   "source": [
    "## 주요절차"
   ]
  },
  {
   "cell_type": "markdown",
   "id": "27585602",
   "metadata": {
    "hidden": true
   },
   "source": [
    "### 1. 초기데이터 분석"
   ]
  },
  {
   "cell_type": "markdown",
   "id": "8aee3de8",
   "metadata": {
    "hidden": true
   },
   "source": [
    "#### 1-1. 데이터딕셔너리(각 열의 의미, 데이터의 의미해석관련 스펙 또는 메뉴얼) 확인\n",
    "#### 1-2 데이터 기초정보 확인 (사이즈, 열이름, 데이터형, 결측치, 이상치확인)"
   ]
  },
  {
   "cell_type": "markdown",
   "id": "2ebab032",
   "metadata": {
    "hidden": true
   },
   "source": [
    "### 2. 데이터 정제"
   ]
  },
  {
   "cell_type": "markdown",
   "id": "39e200d0",
   "metadata": {
    "hidden": true
   },
   "source": [
    "#### 2.1. 원본데이터로에서 분석가능한 형태의 데이터 전처리 (형변환, 열이름 변경등)\n",
    "#### 2.2. 데이터 클리닝: 이상치, 결측치처리"
   ]
  },
  {
   "cell_type": "markdown",
   "id": "4e60e3f3",
   "metadata": {
    "hidden": true
   },
   "source": [
    "### 3. 추가데이터 분석"
   ]
  },
  {
   "cell_type": "markdown",
   "id": "82e0a525",
   "metadata": {
    "hidden": true
   },
   "source": [
    "#### 3.1 데이터 정제후 데이터딕셔너리 재확인\n",
    "#### 3.2 기초통계 정보 확인 (최대값, 최소값, 평균값, 표준편차, 최빈값, 유일값 등)\n",
    "#### 3.3 시각화를 통한 데이터이해 심화 "
   ]
  },
  {
   "cell_type": "markdown",
   "id": "87e87a59",
   "metadata": {
    "hidden": true
   },
   "source": [
    "* 3.3.1 단일 열: 데이터의 성격에 따른 다양한 차트 적용  \n",
    "* 3.3.2 복수 열: 두개의 열간 연관관계 분석(Pair Plot 또는 Seaborn의 관련 지원 차트등)"
   ]
  },
  {
   "cell_type": "markdown",
   "id": "e3b8b737",
   "metadata": {
    "hidden": true
   },
   "source": [
    "### 4. 탐색적연구"
   ]
  },
  {
   "cell_type": "markdown",
   "id": "0d9f6819",
   "metadata": {
    "heading_collapsed": true,
    "hidden": true
   },
   "source": [
    "#### Step1] 가설: 데이터 분석을 위한 목적, 대상 또는 가설을 세워본다.\n",
    "* 예) 현재 와인데이터셋은 두 개의 서로 다른 품종의 데이터가 혼합되어 있을 것이다."
   ]
  },
  {
   "cell_type": "markdown",
   "id": "547beee7",
   "metadata": {
    "hidden": true
   },
   "source": [
    "#### Step2] 가설증명: 데이터 재 구조화, 시각화를 통해 새로운 insight 및 정보를 습득 및 가설을 검증한다. \n",
    "* 예) 품질관련 데이터 셋의 히스토그램 분석 후, 데이터 셋을 분리하여 서로 다른 정규분포가 나오는 그래프로 검증"
   ]
  },
  {
   "cell_type": "markdown",
   "id": "e55ec97a",
   "metadata": {
    "hidden": true
   },
   "source": [
    "#### Step3] 가설결론: 해당 가설에 대한 결론을 내린다."
   ]
  },
  {
   "cell_type": "markdown",
   "id": "6b5c62ff",
   "metadata": {
    "hidden": true
   },
   "source": [
    "#### Step4] 탐색적연구 반복: 시간 일정이 허락하는 범위내에서 Step1~Step3를 반복한다."
   ]
  },
  {
   "cell_type": "markdown",
   "id": "005f2c91",
   "metadata": {
    "hidden": true
   },
   "source": [
    "#### Step5] 최종결론: 지금까지 진행했던 모든 탐색적연구의 결과를 반영하여 최종 결론을 내린다."
   ]
  },
  {
   "cell_type": "markdown",
   "id": "d98ee251",
   "metadata": {},
   "source": [
    "# 탐색적분석 적용 실습 템플릿"
   ]
  },
  {
   "cell_type": "markdown",
   "id": "0521bf67",
   "metadata": {},
   "source": [
    "## 데이터 수집"
   ]
  },
  {
   "cell_type": "code",
   "execution_count": 127,
   "id": "46c5eafe",
   "metadata": {},
   "outputs": [],
   "source": [
    "# 데이터 소스를 확보하세요\n",
    "import pandas as pd\n",
    "import folium\n",
    "from folium.plugins import MarkerCluster "
   ]
  },
  {
   "cell_type": "code",
   "execution_count": 2,
   "id": "83b596d4-0baa-4156-b4c2-4bace633f2e2",
   "metadata": {},
   "outputs": [
    {
     "data": {
      "text/html": [
       "<div>\n",
       "<style scoped>\n",
       "    .dataframe tbody tr th:only-of-type {\n",
       "        vertical-align: middle;\n",
       "    }\n",
       "\n",
       "    .dataframe tbody tr th {\n",
       "        vertical-align: top;\n",
       "    }\n",
       "\n",
       "    .dataframe thead th {\n",
       "        text-align: right;\n",
       "    }\n",
       "</style>\n",
       "<table border=\"1\" class=\"dataframe\">\n",
       "  <thead>\n",
       "    <tr style=\"text-align: right;\">\n",
       "      <th></th>\n",
       "      <th>연번</th>\n",
       "      <th>업종명</th>\n",
       "      <th>업소명</th>\n",
       "      <th>소재지(도로명)</th>\n",
       "      <th>소재지(지번)</th>\n",
       "      <th>영업장면적</th>\n",
       "      <th>소재지전화</th>\n",
       "      <th>업태명</th>\n",
       "    </tr>\n",
       "  </thead>\n",
       "  <tbody>\n",
       "    <tr>\n",
       "      <th>0</th>\n",
       "      <td>1</td>\n",
       "      <td>일반음식점</td>\n",
       "      <td>아담브릿지</td>\n",
       "      <td>대구광역시 수성구 수성로15길 46 (상동)</td>\n",
       "      <td>대구광역시 수성구 상동 221</td>\n",
       "      <td>173.51</td>\n",
       "      <td>053-292-0000</td>\n",
       "      <td>까페</td>\n",
       "    </tr>\n",
       "    <tr>\n",
       "      <th>1</th>\n",
       "      <td>2</td>\n",
       "      <td>일반음식점</td>\n",
       "      <td>브랜치식당</td>\n",
       "      <td>대구광역시 수성구 상록로 37 (범어동,(지상2층))</td>\n",
       "      <td>대구광역시 수성구 범어동 479-41 (지상2층)</td>\n",
       "      <td>116.20</td>\n",
       "      <td>053-424-0022</td>\n",
       "      <td>까페</td>\n",
       "    </tr>\n",
       "    <tr>\n",
       "      <th>2</th>\n",
       "      <td>3</td>\n",
       "      <td>일반음식점</td>\n",
       "      <td>바비네카페(BOB'S CAFE)</td>\n",
       "      <td>대구광역시 수성구 동대구로 358-26 (범어동)</td>\n",
       "      <td>대구광역시 수성구 범어동 175-5</td>\n",
       "      <td>125.80</td>\n",
       "      <td>053-741-4820</td>\n",
       "      <td>까페</td>\n",
       "    </tr>\n",
       "    <tr>\n",
       "      <th>3</th>\n",
       "      <td>4</td>\n",
       "      <td>일반음식점</td>\n",
       "      <td>씨엘(Ciel)</td>\n",
       "      <td>대구광역시 수성구 범어천로 128 (범어동)</td>\n",
       "      <td>대구광역시 수성구 범어동 792-2</td>\n",
       "      <td>119.67</td>\n",
       "      <td>053-743-3313</td>\n",
       "      <td>까페</td>\n",
       "    </tr>\n",
       "    <tr>\n",
       "      <th>4</th>\n",
       "      <td>5</td>\n",
       "      <td>일반음식점</td>\n",
       "      <td>중국전통요리상해관</td>\n",
       "      <td>대구광역시 수성구 상록로 24 (범어동)</td>\n",
       "      <td>대구광역시 수성구 범어동 27-13</td>\n",
       "      <td>122.68</td>\n",
       "      <td>053-745-1890</td>\n",
       "      <td>까페</td>\n",
       "    </tr>\n",
       "  </tbody>\n",
       "</table>\n",
       "</div>"
      ],
      "text/plain": [
       "   연번    업종명                업소명                       소재지(도로명)  \\\n",
       "0   1  일반음식점              아담브릿지       대구광역시 수성구 수성로15길 46 (상동)   \n",
       "1   2  일반음식점              브랜치식당  대구광역시 수성구 상록로 37 (범어동,(지상2층))   \n",
       "2   3  일반음식점  바비네카페(BOB'S CAFE)    대구광역시 수성구 동대구로 358-26 (범어동)   \n",
       "3   4  일반음식점           씨엘(Ciel)       대구광역시 수성구 범어천로 128 (범어동)   \n",
       "4   5  일반음식점          중국전통요리상해관         대구광역시 수성구 상록로 24 (범어동)   \n",
       "\n",
       "                        소재지(지번)   영업장면적         소재지전화 업태명  \n",
       "0             대구광역시 수성구 상동 221   173.51  053-292-0000  까페  \n",
       "1  대구광역시 수성구 범어동 479-41 (지상2층)   116.20  053-424-0022  까페  \n",
       "2          대구광역시 수성구 범어동 175-5   125.80  053-741-4820  까페  \n",
       "3          대구광역시 수성구 범어동 792-2   119.67  053-743-3313  까페  \n",
       "4          대구광역시 수성구 범어동 27-13   122.68  053-745-1890  까페  "
      ]
     },
     "execution_count": 2,
     "metadata": {},
     "output_type": "execute_result"
    }
   ],
   "source": [
    "cafe = pd.read_csv('대구광역시 수성구_카페현황_20221116.csv', encoding= 'cp949')\n",
    "cafe.head()"
   ]
  },
  {
   "cell_type": "markdown",
   "id": "c3b597f4",
   "metadata": {},
   "source": [
    "## 1. 초기데이터 분석"
   ]
  },
  {
   "cell_type": "markdown",
   "id": "0c3c91be",
   "metadata": {},
   "source": [
    "### 1-1. 데이터스키마 확인"
   ]
  },
  {
   "cell_type": "code",
   "execution_count": 3,
   "id": "82ee018e",
   "metadata": {},
   "outputs": [],
   "source": [
    "# 각 열의 의미, 데이터의 의미해석관련 스펙 또는 메뉴얼을 확인 가능시 진행 하세요"
   ]
  },
  {
   "cell_type": "markdown",
   "id": "913979f3",
   "metadata": {},
   "source": [
    "### 1-2. 데이터 기초정보 확인"
   ]
  },
  {
   "cell_type": "code",
   "execution_count": 4,
   "id": "6f282805",
   "metadata": {},
   "outputs": [],
   "source": [
    "# 사이즈, 데이터형, 기초통계항목, 결측치, 중복값, 이상치등을 확인하세요"
   ]
  },
  {
   "cell_type": "code",
   "execution_count": 3,
   "id": "fae24334-2cfb-464e-88ca-a29a6e44f844",
   "metadata": {},
   "outputs": [
    {
     "data": {
      "text/plain": [
       "(918, 8)"
      ]
     },
     "execution_count": 3,
     "metadata": {},
     "output_type": "execute_result"
    }
   ],
   "source": [
    "cafe.shape\n",
    "# 점포갯수가 몇 군데 있는지 확인했습니다."
   ]
  },
  {
   "cell_type": "code",
   "execution_count": 6,
   "id": "9e52c523-8c7e-4033-8f13-ae7c7db50e69",
   "metadata": {},
   "outputs": [
    {
     "name": "stdout",
     "output_type": "stream",
     "text": [
      "<class 'pandas.core.frame.DataFrame'>\n",
      "RangeIndex: 918 entries, 0 to 917\n",
      "Data columns (total 8 columns):\n",
      " #   Column    Non-Null Count  Dtype  \n",
      "---  ------    --------------  -----  \n",
      " 0   연번        918 non-null    int64  \n",
      " 1   업종명       918 non-null    object \n",
      " 2   업소명       918 non-null    object \n",
      " 3   소재지(도로명)  916 non-null    object \n",
      " 4   소재지(지번)   918 non-null    object \n",
      " 5   영업장면적     918 non-null    float64\n",
      " 6   소재지전화     283 non-null    object \n",
      " 7   업태명       918 non-null    object \n",
      "dtypes: float64(1), int64(1), object(6)\n",
      "memory usage: 57.5+ KB\n"
     ]
    }
   ],
   "source": [
    "cafe.info()\n",
    "# 각 열을 확인 후 열의 자료형 확인\n",
    "# 결측값 확인 후 소재지랑 소재지전화에 결측값이 있는 걸 확인했습니다. "
   ]
  },
  {
   "cell_type": "code",
   "execution_count": 8,
   "id": "8fb4122b-3577-4081-9d2b-36a199edda1a",
   "metadata": {},
   "outputs": [
    {
     "data": {
      "text/plain": [
       "연번            0\n",
       "업종명           0\n",
       "업소명           0\n",
       "소재지(도로명)      2\n",
       "소재지(지번)       0\n",
       "영업장면적         0\n",
       "소재지전화       635\n",
       "업태명           0\n",
       "dtype: int64"
      ]
     },
     "execution_count": 8,
     "metadata": {},
     "output_type": "execute_result"
    }
   ],
   "source": [
    "cafe.isnull().sum()\n",
    "# 결측값의 갯수를 확인"
   ]
  },
  {
   "cell_type": "code",
   "execution_count": 5,
   "id": "21122134-bd87-4ea2-bf0d-2f0dcdac7c58",
   "metadata": {},
   "outputs": [
    {
     "data": {
      "text/html": [
       "<div>\n",
       "<style scoped>\n",
       "    .dataframe tbody tr th:only-of-type {\n",
       "        vertical-align: middle;\n",
       "    }\n",
       "\n",
       "    .dataframe tbody tr th {\n",
       "        vertical-align: top;\n",
       "    }\n",
       "\n",
       "    .dataframe thead th {\n",
       "        text-align: right;\n",
       "    }\n",
       "</style>\n",
       "<table border=\"1\" class=\"dataframe\">\n",
       "  <thead>\n",
       "    <tr style=\"text-align: right;\">\n",
       "      <th></th>\n",
       "      <th>연번</th>\n",
       "      <th>영업장면적</th>\n",
       "    </tr>\n",
       "  </thead>\n",
       "  <tbody>\n",
       "    <tr>\n",
       "      <th>count</th>\n",
       "      <td>918.000000</td>\n",
       "      <td>918.000000</td>\n",
       "    </tr>\n",
       "    <tr>\n",
       "      <th>mean</th>\n",
       "      <td>459.500000</td>\n",
       "      <td>87.321492</td>\n",
       "    </tr>\n",
       "    <tr>\n",
       "      <th>std</th>\n",
       "      <td>265.148072</td>\n",
       "      <td>107.635765</td>\n",
       "    </tr>\n",
       "    <tr>\n",
       "      <th>min</th>\n",
       "      <td>1.000000</td>\n",
       "      <td>0.000000</td>\n",
       "    </tr>\n",
       "    <tr>\n",
       "      <th>25%</th>\n",
       "      <td>230.250000</td>\n",
       "      <td>34.000000</td>\n",
       "    </tr>\n",
       "    <tr>\n",
       "      <th>50%</th>\n",
       "      <td>459.500000</td>\n",
       "      <td>54.550000</td>\n",
       "    </tr>\n",
       "    <tr>\n",
       "      <th>75%</th>\n",
       "      <td>688.750000</td>\n",
       "      <td>94.140000</td>\n",
       "    </tr>\n",
       "    <tr>\n",
       "      <th>max</th>\n",
       "      <td>918.000000</td>\n",
       "      <td>1227.180000</td>\n",
       "    </tr>\n",
       "  </tbody>\n",
       "</table>\n",
       "</div>"
      ],
      "text/plain": [
       "               연번        영업장면적\n",
       "count  918.000000   918.000000\n",
       "mean   459.500000    87.321492\n",
       "std    265.148072   107.635765\n",
       "min      1.000000     0.000000\n",
       "25%    230.250000    34.000000\n",
       "50%    459.500000    54.550000\n",
       "75%    688.750000    94.140000\n",
       "max    918.000000  1227.180000"
      ]
     },
     "execution_count": 5,
     "metadata": {},
     "output_type": "execute_result"
    }
   ],
   "source": [
    "cafe.describe()\n",
    "# 영업장 면적의 평균면적 확인하고  영업장 면적에서 최소값이 0을 확인해서 데이터 전 처리시 삭제를 고려 "
   ]
  },
  {
   "cell_type": "code",
   "execution_count": null,
   "id": "3cfddd6b-4a68-4fe5-8d9c-bc08abeefae8",
   "metadata": {},
   "outputs": [],
   "source": []
  },
  {
   "cell_type": "markdown",
   "id": "c2e13829",
   "metadata": {},
   "source": [
    "## 2. 데이터 정제"
   ]
  },
  {
   "cell_type": "markdown",
   "id": "7eedb11e",
   "metadata": {},
   "source": [
    "### 2-1. 간단한 데이터 전처리"
   ]
  },
  {
   "cell_type": "code",
   "execution_count": 5,
   "id": "5fd51a76",
   "metadata": {},
   "outputs": [],
   "source": [
    "# 원본데이터로에서 읽기 가능한 형태로 데이터처리를 하세요. (열이름 변경, 형변환, 피봇, 분석용 데이터 셋 생성 등)"
   ]
  },
  {
   "cell_type": "markdown",
   "id": "cfa0f4f4",
   "metadata": {},
   "source": [
    "### 2-2. 데이터 클리닝"
   ]
  },
  {
   "cell_type": "code",
   "execution_count": 6,
   "id": "81050694",
   "metadata": {},
   "outputs": [],
   "source": [
    "# 이상치, 결측치, 중복값 처리등의 작업을 진행하세요"
   ]
  },
  {
   "cell_type": "code",
   "execution_count": 14,
   "id": "b7de47ff-52ab-478a-9ed2-a339a6916b85",
   "metadata": {},
   "outputs": [
    {
     "data": {
      "text/html": [
       "<div>\n",
       "<style scoped>\n",
       "    .dataframe tbody tr th:only-of-type {\n",
       "        vertical-align: middle;\n",
       "    }\n",
       "\n",
       "    .dataframe tbody tr th {\n",
       "        vertical-align: top;\n",
       "    }\n",
       "\n",
       "    .dataframe thead th {\n",
       "        text-align: right;\n",
       "    }\n",
       "</style>\n",
       "<table border=\"1\" class=\"dataframe\">\n",
       "  <thead>\n",
       "    <tr style=\"text-align: right;\">\n",
       "      <th></th>\n",
       "      <th>연번</th>\n",
       "      <th>영업장면적</th>\n",
       "    </tr>\n",
       "  </thead>\n",
       "  <tbody>\n",
       "    <tr>\n",
       "      <th>count</th>\n",
       "      <td>918.000000</td>\n",
       "      <td>918.000000</td>\n",
       "    </tr>\n",
       "    <tr>\n",
       "      <th>mean</th>\n",
       "      <td>459.500000</td>\n",
       "      <td>87.321492</td>\n",
       "    </tr>\n",
       "    <tr>\n",
       "      <th>std</th>\n",
       "      <td>265.148072</td>\n",
       "      <td>107.635765</td>\n",
       "    </tr>\n",
       "    <tr>\n",
       "      <th>min</th>\n",
       "      <td>1.000000</td>\n",
       "      <td>0.000000</td>\n",
       "    </tr>\n",
       "    <tr>\n",
       "      <th>25%</th>\n",
       "      <td>230.250000</td>\n",
       "      <td>34.000000</td>\n",
       "    </tr>\n",
       "    <tr>\n",
       "      <th>50%</th>\n",
       "      <td>459.500000</td>\n",
       "      <td>54.550000</td>\n",
       "    </tr>\n",
       "    <tr>\n",
       "      <th>75%</th>\n",
       "      <td>688.750000</td>\n",
       "      <td>94.140000</td>\n",
       "    </tr>\n",
       "    <tr>\n",
       "      <th>max</th>\n",
       "      <td>918.000000</td>\n",
       "      <td>1227.180000</td>\n",
       "    </tr>\n",
       "  </tbody>\n",
       "</table>\n",
       "</div>"
      ],
      "text/plain": [
       "               연번        영업장면적\n",
       "count  918.000000   918.000000\n",
       "mean   459.500000    87.321492\n",
       "std    265.148072   107.635765\n",
       "min      1.000000     0.000000\n",
       "25%    230.250000    34.000000\n",
       "50%    459.500000    54.550000\n",
       "75%    688.750000    94.140000\n",
       "max    918.000000  1227.180000"
      ]
     },
     "execution_count": 14,
     "metadata": {},
     "output_type": "execute_result"
    }
   ],
   "source": [
    "cafe.describe()\n",
    "# 영업장 면적의 평균면적 확인하고  영업장 면적에서 최소값이 0을 확인해서 데이터 전 처리시 삭제를 고려 "
   ]
  },
  {
   "cell_type": "code",
   "execution_count": 15,
   "id": "deca4624-c9b4-4bee-bc51-483d4a77af15",
   "metadata": {},
   "outputs": [
    {
     "data": {
      "text/plain": [
       "영업장면적\n",
       "0.00      17\n",
       "33.00     12\n",
       "66.00     10\n",
       "50.00      8\n",
       "49.50      8\n",
       "          ..\n",
       "85.94      1\n",
       "59.51      1\n",
       "425.54     1\n",
       "92.50      1\n",
       "88.19      1\n",
       "Name: count, Length: 736, dtype: int64"
      ]
     },
     "execution_count": 15,
     "metadata": {},
     "output_type": "execute_result"
    }
   ],
   "source": [
    "cafe['영업장면적'].value_counts()\n",
    "# 영업장 면적에서 0이 17개임을 확인했습니다. "
   ]
  },
  {
   "cell_type": "code",
   "execution_count": 16,
   "id": "b17363fc-2599-41a2-944b-cd01da7e3f61",
   "metadata": {},
   "outputs": [
    {
     "data": {
      "text/plain": [
       "영업장면적\n",
       "33.00     12\n",
       "66.00     10\n",
       "49.50      8\n",
       "50.00      8\n",
       "40.00      7\n",
       "          ..\n",
       "85.94      1\n",
       "59.51      1\n",
       "425.54     1\n",
       "92.50      1\n",
       "88.19      1\n",
       "Name: count, Length: 735, dtype: int64"
      ]
     },
     "execution_count": 16,
     "metadata": {},
     "output_type": "execute_result"
    }
   ],
   "source": [
    "cafe_filtered = cafe[cafe['영업장면적'] != 0]\n",
    "cafe_filtered['영업장면적'].value_counts()"
   ]
  },
  {
   "cell_type": "code",
   "execution_count": null,
   "id": "87495ede-d65c-438e-a97b-8ab9a52e007d",
   "metadata": {},
   "outputs": [],
   "source": []
  },
  {
   "cell_type": "markdown",
   "id": "9dac0879",
   "metadata": {},
   "source": [
    "## 3. 추가데이터 분석"
   ]
  },
  {
   "cell_type": "markdown",
   "id": "253f0cc0",
   "metadata": {},
   "source": [
    "### 3.1. 데이터 정제후 데이터스키마 재확인"
   ]
  },
  {
   "cell_type": "code",
   "execution_count": 7,
   "id": "a4b2151b",
   "metadata": {},
   "outputs": [],
   "source": [
    "# 1-2 작업을 다시 해보세요."
   ]
  },
  {
   "cell_type": "markdown",
   "id": "8a244e0a",
   "metadata": {},
   "source": [
    "### 3.2 데이터 기초정보 정보 확인"
   ]
  },
  {
   "cell_type": "code",
   "execution_count": 1,
   "id": "e0911ad8",
   "metadata": {},
   "outputs": [],
   "source": [
    "# 최대값, 최소값, 평균값, 표준편차, 최빈값, 유일값, 결측치, 이상치 등의 정보를 재확인해 보세요"
   ]
  },
  {
   "cell_type": "markdown",
   "id": "e73d61a5",
   "metadata": {},
   "source": [
    "### 3.3 시각화를 통한 데이터이해 심화"
   ]
  },
  {
   "cell_type": "code",
   "execution_count": 4,
   "id": "859ff74f",
   "metadata": {},
   "outputs": [],
   "source": [
    "# 데이터의 성격에 따라 이해도를 올리기 위해 시각화가 필요한 데이터차트를 만들어 보세요. (Seaborn 추천: 페어플롯, 막대차트, 파이차트, 라인차트, 히스토그램등..)"
   ]
  },
  {
   "cell_type": "code",
   "execution_count": 108,
   "id": "d5863432-e0b3-4f35-b869-76d5a387ff75",
   "metadata": {},
   "outputs": [],
   "source": [
    "import pandas as pd\n",
    "import numpy as np\n",
    "import matplotlib.pyplot as plt\n",
    "from matplotlib import font_manager,rc\n",
    "import seaborn as sns\n",
    "import random\n",
    "\n",
    "font_location = \"C:\\Windows\\Fonts\\malgun.ttf\"\n",
    "font_name = font_manager.FontProperties(fname=font_location).get_name()\n",
    "rc('font',family=font_name)\n",
    "plt.rcParams['axes.unicode_minus'] = False  # 유니코드 마이너스 기호 사용"
   ]
  },
  {
   "cell_type": "code",
   "execution_count": 109,
   "id": "a14eec01-8ad7-4866-80a2-b60901666cd6",
   "metadata": {},
   "outputs": [
    {
     "data": {
      "text/html": [
       "<div>\n",
       "<style scoped>\n",
       "    .dataframe tbody tr th:only-of-type {\n",
       "        vertical-align: middle;\n",
       "    }\n",
       "\n",
       "    .dataframe tbody tr th {\n",
       "        vertical-align: top;\n",
       "    }\n",
       "\n",
       "    .dataframe thead th {\n",
       "        text-align: right;\n",
       "    }\n",
       "</style>\n",
       "<table border=\"1\" class=\"dataframe\">\n",
       "  <thead>\n",
       "    <tr style=\"text-align: right;\">\n",
       "      <th></th>\n",
       "      <th>연번</th>\n",
       "      <th>업종명</th>\n",
       "      <th>업소명</th>\n",
       "      <th>소재지(도로명)</th>\n",
       "      <th>소재지(지번)</th>\n",
       "      <th>영업장면적</th>\n",
       "      <th>소재지전화</th>\n",
       "      <th>업태명</th>\n",
       "    </tr>\n",
       "  </thead>\n",
       "  <tbody>\n",
       "    <tr>\n",
       "      <th>0</th>\n",
       "      <td>1</td>\n",
       "      <td>일반음식점</td>\n",
       "      <td>아담브릿지</td>\n",
       "      <td>대구광역시 수성구 수성로15길 46 (상동)</td>\n",
       "      <td>대구광역시 수성구 상동 221</td>\n",
       "      <td>173.51</td>\n",
       "      <td>053-292-0000</td>\n",
       "      <td>까페</td>\n",
       "    </tr>\n",
       "    <tr>\n",
       "      <th>1</th>\n",
       "      <td>2</td>\n",
       "      <td>일반음식점</td>\n",
       "      <td>브랜치식당</td>\n",
       "      <td>대구광역시 수성구 상록로 37 (범어동,(지상2층))</td>\n",
       "      <td>대구광역시 수성구 범어동 479-41 (지상2층)</td>\n",
       "      <td>116.20</td>\n",
       "      <td>053-424-0022</td>\n",
       "      <td>까페</td>\n",
       "    </tr>\n",
       "    <tr>\n",
       "      <th>2</th>\n",
       "      <td>3</td>\n",
       "      <td>일반음식점</td>\n",
       "      <td>바비네카페(BOB'S CAFE)</td>\n",
       "      <td>대구광역시 수성구 동대구로 358-26 (범어동)</td>\n",
       "      <td>대구광역시 수성구 범어동 175-5</td>\n",
       "      <td>125.80</td>\n",
       "      <td>053-741-4820</td>\n",
       "      <td>까페</td>\n",
       "    </tr>\n",
       "    <tr>\n",
       "      <th>3</th>\n",
       "      <td>4</td>\n",
       "      <td>일반음식점</td>\n",
       "      <td>씨엘(Ciel)</td>\n",
       "      <td>대구광역시 수성구 범어천로 128 (범어동)</td>\n",
       "      <td>대구광역시 수성구 범어동 792-2</td>\n",
       "      <td>119.67</td>\n",
       "      <td>053-743-3313</td>\n",
       "      <td>까페</td>\n",
       "    </tr>\n",
       "    <tr>\n",
       "      <th>4</th>\n",
       "      <td>5</td>\n",
       "      <td>일반음식점</td>\n",
       "      <td>중국전통요리상해관</td>\n",
       "      <td>대구광역시 수성구 상록로 24 (범어동)</td>\n",
       "      <td>대구광역시 수성구 범어동 27-13</td>\n",
       "      <td>122.68</td>\n",
       "      <td>053-745-1890</td>\n",
       "      <td>까페</td>\n",
       "    </tr>\n",
       "  </tbody>\n",
       "</table>\n",
       "</div>"
      ],
      "text/plain": [
       "   연번    업종명                업소명                       소재지(도로명)  \\\n",
       "0   1  일반음식점              아담브릿지       대구광역시 수성구 수성로15길 46 (상동)   \n",
       "1   2  일반음식점              브랜치식당  대구광역시 수성구 상록로 37 (범어동,(지상2층))   \n",
       "2   3  일반음식점  바비네카페(BOB'S CAFE)    대구광역시 수성구 동대구로 358-26 (범어동)   \n",
       "3   4  일반음식점           씨엘(Ciel)       대구광역시 수성구 범어천로 128 (범어동)   \n",
       "4   5  일반음식점          중국전통요리상해관         대구광역시 수성구 상록로 24 (범어동)   \n",
       "\n",
       "                        소재지(지번)   영업장면적         소재지전화 업태명  \n",
       "0             대구광역시 수성구 상동 221   173.51  053-292-0000  까페  \n",
       "1  대구광역시 수성구 범어동 479-41 (지상2층)   116.20  053-424-0022  까페  \n",
       "2          대구광역시 수성구 범어동 175-5   125.80  053-741-4820  까페  \n",
       "3          대구광역시 수성구 범어동 792-2   119.67  053-743-3313  까페  \n",
       "4          대구광역시 수성구 범어동 27-13   122.68  053-745-1890  까페  "
      ]
     },
     "execution_count": 109,
     "metadata": {},
     "output_type": "execute_result"
    }
   ],
   "source": [
    "cafe.head()"
   ]
  },
  {
   "cell_type": "code",
   "execution_count": 110,
   "id": "b2beaf9a-5076-444e-b354-8980a28d2894",
   "metadata": {},
   "outputs": [
    {
     "name": "stderr",
     "output_type": "stream",
     "text": [
      "C:\\Users\\user\\anaconda3\\Lib\\site-packages\\seaborn\\_oldcore.py:1119: FutureWarning: use_inf_as_na option is deprecated and will be removed in a future version. Convert inf values to NaN before operating instead.\n",
      "  with pd.option_context('mode.use_inf_as_na', True):\n"
     ]
    },
    {
     "data": {
      "image/png": "[encoded data removed]",
      "text/plain": [
       "<Figure size 640x480 with 1 Axes>"
      ]
     },
     "metadata": {},
     "output_type": "display_data"
    }
   ],
   "source": [
    "sns.histplot(data=cafe, x=\"영업장면적\")\n",
    "plt.show()"
   ]
  },
  {
   "cell_type": "code",
   "execution_count": 92,
   "id": "0f2303c0-af49-41dd-b395-0c5bd821635a",
   "metadata": {},
   "outputs": [
    {
     "name": "stderr",
     "output_type": "stream",
     "text": [
      "C:\\Users\\user\\anaconda3\\Lib\\site-packages\\seaborn\\_oldcore.py:1119: FutureWarning: use_inf_as_na option is deprecated and will be removed in a future version. Convert inf values to NaN before operating instead.\n",
      "  with pd.option_context('mode.use_inf_as_na', True):\n"
     ]
    },
    {
     "data": {
      "text/plain": [
       "<Axes: xlabel='영업장면적', ylabel='Count'>"
      ]
     },
     "execution_count": 92,
     "metadata": {},
     "output_type": "execute_result"
    },
    {
     "data": {
      "image/png": "[encoded data removed]",
      "text/plain": [
       "<Figure size 640x480 with 1 Axes>"
      ]
     },
     "metadata": {},
     "output_type": "display_data"
    }
   ],
   "source": [
    "sns.histplot(data=cafe, x=\"영업장면적\", kde=True, bins=20)"
   ]
  },
  {
   "cell_type": "code",
   "execution_count": 80,
   "id": "d0f89d1c-00aa-4847-96e9-fc2e0e3bc2cb",
   "metadata": {},
   "outputs": [
    {
     "data": {
      "text/html": [
       "<div>\n",
       "<style scoped>\n",
       "    .dataframe tbody tr th:only-of-type {\n",
       "        vertical-align: middle;\n",
       "    }\n",
       "\n",
       "    .dataframe tbody tr th {\n",
       "        vertical-align: top;\n",
       "    }\n",
       "\n",
       "    .dataframe thead th {\n",
       "        text-align: right;\n",
       "    }\n",
       "</style>\n",
       "<table border=\"1\" class=\"dataframe\">\n",
       "  <thead>\n",
       "    <tr style=\"text-align: right;\">\n",
       "      <th></th>\n",
       "      <th>연번</th>\n",
       "      <th>업종명</th>\n",
       "      <th>업소명</th>\n",
       "      <th>소재지(도로명)</th>\n",
       "      <th>소재지(지번)</th>\n",
       "      <th>영업장면적</th>\n",
       "      <th>소재지전화</th>\n",
       "      <th>업태명</th>\n",
       "      <th>스타벅스_유무</th>\n",
       "    </tr>\n",
       "  </thead>\n",
       "  <tbody>\n",
       "    <tr>\n",
       "      <th>0</th>\n",
       "      <td>1</td>\n",
       "      <td>일반음식점</td>\n",
       "      <td>아담브릿지</td>\n",
       "      <td>대구광역시 수성구 수성로15길 46 (상동)</td>\n",
       "      <td>대구광역시 수성구 상동 221</td>\n",
       "      <td>173.51</td>\n",
       "      <td>053-292-0000</td>\n",
       "      <td>까페</td>\n",
       "      <td>일반_카페</td>\n",
       "    </tr>\n",
       "    <tr>\n",
       "      <th>1</th>\n",
       "      <td>2</td>\n",
       "      <td>일반음식점</td>\n",
       "      <td>브랜치식당</td>\n",
       "      <td>대구광역시 수성구 상록로 37 (범어동,(지상2층))</td>\n",
       "      <td>대구광역시 수성구 범어동 479-41 (지상2층)</td>\n",
       "      <td>116.20</td>\n",
       "      <td>053-424-0022</td>\n",
       "      <td>까페</td>\n",
       "      <td>일반_카페</td>\n",
       "    </tr>\n",
       "    <tr>\n",
       "      <th>2</th>\n",
       "      <td>3</td>\n",
       "      <td>일반음식점</td>\n",
       "      <td>바비네카페(BOB'S CAFE)</td>\n",
       "      <td>대구광역시 수성구 동대구로 358-26 (범어동)</td>\n",
       "      <td>대구광역시 수성구 범어동 175-5</td>\n",
       "      <td>125.80</td>\n",
       "      <td>053-741-4820</td>\n",
       "      <td>까페</td>\n",
       "      <td>일반_카페</td>\n",
       "    </tr>\n",
       "    <tr>\n",
       "      <th>3</th>\n",
       "      <td>4</td>\n",
       "      <td>일반음식점</td>\n",
       "      <td>씨엘(Ciel)</td>\n",
       "      <td>대구광역시 수성구 범어천로 128 (범어동)</td>\n",
       "      <td>대구광역시 수성구 범어동 792-2</td>\n",
       "      <td>119.67</td>\n",
       "      <td>053-743-3313</td>\n",
       "      <td>까페</td>\n",
       "      <td>일반_카페</td>\n",
       "    </tr>\n",
       "    <tr>\n",
       "      <th>4</th>\n",
       "      <td>5</td>\n",
       "      <td>일반음식점</td>\n",
       "      <td>중국전통요리상해관</td>\n",
       "      <td>대구광역시 수성구 상록로 24 (범어동)</td>\n",
       "      <td>대구광역시 수성구 범어동 27-13</td>\n",
       "      <td>122.68</td>\n",
       "      <td>053-745-1890</td>\n",
       "      <td>까페</td>\n",
       "      <td>일반_카페</td>\n",
       "    </tr>\n",
       "    <tr>\n",
       "      <th>...</th>\n",
       "      <td>...</td>\n",
       "      <td>...</td>\n",
       "      <td>...</td>\n",
       "      <td>...</td>\n",
       "      <td>...</td>\n",
       "      <td>...</td>\n",
       "      <td>...</td>\n",
       "      <td>...</td>\n",
       "      <td>...</td>\n",
       "    </tr>\n",
       "    <tr>\n",
       "      <th>913</th>\n",
       "      <td>914</td>\n",
       "      <td>휴게음식점</td>\n",
       "      <td>켑트커피</td>\n",
       "      <td>대구광역시 수성구 청솔로14길 28, 1층 (범어동)</td>\n",
       "      <td>대구광역시 수성구 범어동 805-164 1층</td>\n",
       "      <td>88.19</td>\n",
       "      <td>NaN</td>\n",
       "      <td>커피숍</td>\n",
       "      <td>일반_카페</td>\n",
       "    </tr>\n",
       "    <tr>\n",
       "      <th>914</th>\n",
       "      <td>915</td>\n",
       "      <td>휴게음식점</td>\n",
       "      <td>아틀리에빈사월점</td>\n",
       "      <td>대구광역시 수성구 달구벌대로 3300-5, 공서빌딩 A동 1층 (신매동)</td>\n",
       "      <td>대구광역시 수성구 신매동 10-11 공서빌딩, 1층 A동</td>\n",
       "      <td>0.00</td>\n",
       "      <td>NaN</td>\n",
       "      <td>커피숍</td>\n",
       "      <td>일반_카페</td>\n",
       "    </tr>\n",
       "    <tr>\n",
       "      <th>915</th>\n",
       "      <td>916</td>\n",
       "      <td>휴게음식점</td>\n",
       "      <td>더리터지산목련점</td>\n",
       "      <td>대구광역시 수성구 용학로 210, 1층 (지산동)</td>\n",
       "      <td>대구광역시 수성구 지산동 1194-4 1층</td>\n",
       "      <td>0.00</td>\n",
       "      <td>NaN</td>\n",
       "      <td>커피숍</td>\n",
       "      <td>일반_카페</td>\n",
       "    </tr>\n",
       "    <tr>\n",
       "      <th>916</th>\n",
       "      <td>917</td>\n",
       "      <td>휴게음식점</td>\n",
       "      <td>태백(TAEBAEK)1975</td>\n",
       "      <td>대구광역시 수성구 동대구로12길 24, 1층 (지산동)</td>\n",
       "      <td>대구광역시 수성구 지산동 1003-3 1층</td>\n",
       "      <td>0.00</td>\n",
       "      <td>NaN</td>\n",
       "      <td>커피숍</td>\n",
       "      <td>일반_카페</td>\n",
       "    </tr>\n",
       "    <tr>\n",
       "      <th>917</th>\n",
       "      <td>918</td>\n",
       "      <td>휴게음식점</td>\n",
       "      <td>하삼동커피대구범어점</td>\n",
       "      <td>대구광역시 수성구 동대구로 346, 지하1층 3-4호 (범어동, 범어서한포레스트)</td>\n",
       "      <td>대구광역시 수성구 범어동 177-1 범어서한포레스트 지하1층 3-4호</td>\n",
       "      <td>0.00</td>\n",
       "      <td>NaN</td>\n",
       "      <td>커피숍</td>\n",
       "      <td>일반_카페</td>\n",
       "    </tr>\n",
       "  </tbody>\n",
       "</table>\n",
       "<p>918 rows × 9 columns</p>\n",
       "</div>"
      ],
      "text/plain": [
       "      연번    업종명                업소명  \\\n",
       "0      1  일반음식점              아담브릿지   \n",
       "1      2  일반음식점              브랜치식당   \n",
       "2      3  일반음식점  바비네카페(BOB'S CAFE)   \n",
       "3      4  일반음식점           씨엘(Ciel)   \n",
       "4      5  일반음식점          중국전통요리상해관   \n",
       "..   ...    ...                ...   \n",
       "913  914  휴게음식점               켑트커피   \n",
       "914  915  휴게음식점           아틀리에빈사월점   \n",
       "915  916  휴게음식점           더리터지산목련점   \n",
       "916  917  휴게음식점    태백(TAEBAEK)1975   \n",
       "917  918  휴게음식점         하삼동커피대구범어점   \n",
       "\n",
       "                                          소재지(도로명)  \\\n",
       "0                         대구광역시 수성구 수성로15길 46 (상동)   \n",
       "1                    대구광역시 수성구 상록로 37 (범어동,(지상2층))   \n",
       "2                      대구광역시 수성구 동대구로 358-26 (범어동)   \n",
       "3                         대구광역시 수성구 범어천로 128 (범어동)   \n",
       "4                           대구광역시 수성구 상록로 24 (범어동)   \n",
       "..                                             ...   \n",
       "913                  대구광역시 수성구 청솔로14길 28, 1층 (범어동)   \n",
       "914       대구광역시 수성구 달구벌대로 3300-5, 공서빌딩 A동 1층 (신매동)   \n",
       "915                    대구광역시 수성구 용학로 210, 1층 (지산동)   \n",
       "916                 대구광역시 수성구 동대구로12길 24, 1층 (지산동)   \n",
       "917  대구광역시 수성구 동대구로 346, 지하1층 3-4호 (범어동, 범어서한포레스트)   \n",
       "\n",
       "                                    소재지(지번)   영업장면적         소재지전화  업태명 스타벅스_유무  \n",
       "0                         대구광역시 수성구 상동 221   173.51  053-292-0000   까페   일반_카페  \n",
       "1              대구광역시 수성구 범어동 479-41 (지상2층)   116.20  053-424-0022   까페   일반_카페  \n",
       "2                      대구광역시 수성구 범어동 175-5   125.80  053-741-4820   까페   일반_카페  \n",
       "3                      대구광역시 수성구 범어동 792-2   119.67  053-743-3313   까페   일반_카페  \n",
       "4                      대구광역시 수성구 범어동 27-13   122.68  053-745-1890   까페   일반_카페  \n",
       "..                                      ...     ...           ...  ...     ...  \n",
       "913               대구광역시 수성구 범어동 805-164 1층    88.19           NaN  커피숍   일반_카페  \n",
       "914        대구광역시 수성구 신매동 10-11 공서빌딩, 1층 A동     0.00           NaN  커피숍   일반_카페  \n",
       "915                대구광역시 수성구 지산동 1194-4 1층     0.00           NaN  커피숍   일반_카페  \n",
       "916                대구광역시 수성구 지산동 1003-3 1층     0.00           NaN  커피숍   일반_카페  \n",
       "917  대구광역시 수성구 범어동 177-1 범어서한포레스트 지하1층 3-4호    0.00           NaN  커피숍   일반_카페  \n",
       "\n",
       "[918 rows x 9 columns]"
      ]
     },
     "execution_count": 80,
     "metadata": {},
     "output_type": "execute_result"
    }
   ],
   "source": [
    "cafe['스타벅스_유무'] = cafe['업소명'].apply(lambda x: '스타벅스' if '스타벅스' in x else '일반_카페')\n",
    "cafe"
   ]
  },
  {
   "cell_type": "code",
   "execution_count": 81,
   "id": "a319f429-ef6d-41de-aa08-0bbaeafd64ae",
   "metadata": {},
   "outputs": [
    {
     "name": "stderr",
     "output_type": "stream",
     "text": [
      "C:\\Users\\user\\anaconda3\\Lib\\site-packages\\seaborn\\_oldcore.py:1119: FutureWarning: use_inf_as_na option is deprecated and will be removed in a future version. Convert inf values to NaN before operating instead.\n",
      "  with pd.option_context('mode.use_inf_as_na', True):\n",
      "C:\\Users\\user\\anaconda3\\Lib\\site-packages\\seaborn\\_oldcore.py:1119: FutureWarning: use_inf_as_na option is deprecated and will be removed in a future version. Convert inf values to NaN before operating instead.\n",
      "  with pd.option_context('mode.use_inf_as_na', True):\n"
     ]
    },
    {
     "data": {
      "image/png": "[encoded data removed]",
      "text/plain": [
       "<Figure size 1000x600 with 1 Axes>"
      ]
     },
     "metadata": {},
     "output_type": "display_data"
    }
   ],
   "source": [
    "colors = {'스타벅스': 'red', '일반_카페': 'blue'}\n",
    "alpha_values = {'스타벅스': 1.0, '일반_카페': 0.1}\n",
    "\n",
    "\n",
    "plt.figure(figsize=(10, 6))\n",
    "\n",
    "\n",
    "sns.histplot(cafe[cafe['스타벅스_유무'] == '스타벅스']['영업장면적'],\n",
    "             color=colors['스타벅스'],\n",
    "             label='스타벅스',\n",
    "             alpha=alpha_values['스타벅스'],\n",
    "             )\n",
    "\n",
    "\n",
    "sns.histplot(cafe[cafe['스타벅스_유무'] == '일반_카페']['영업장면적'],\n",
    "             color=colors['일반_카페'],\n",
    "             label='일반_카페',\n",
    "             alpha=alpha_values['일반_카페'],\n",
    "             )\n",
    "\n",
    "\n",
    "plt.xlabel('영업장면적')\n",
    "plt.ylabel('점포수')\n",
    "plt.title(' (스타벅스 vs 일반_카페)')\n",
    "plt.legend(title='업소 유형')\n",
    "\n",
    "plt.show()"
   ]
  },
  {
   "cell_type": "markdown",
   "id": "b9700f6b-4003-4b83-b4b2-bcbee3fa166e",
   "metadata": {},
   "source": [
    "# 4. 탐색적연구"
   ]
  },
  {
   "cell_type": "markdown",
   "id": "27ecfb95-c0b4-489a-88d1-6a8c415df419",
   "metadata": {},
   "source": [
    "#### Step0] 데이터 분석을 위한 목적, 대상 또는 주요 가설을 세워본다. 주요가설 도출후 우선순위를 설정한다"
   ]
  },
  {
   "cell_type": "code",
   "execution_count": null,
   "id": "07ba5a3a-913d-414b-8a92-15e48b816778",
   "metadata": {},
   "outputs": [],
   "source": [
    "# 스타벅스가 인기가 많아서 평균 면적이 다른 카페보다 클 것이다. \n",
    "# 박리다매를 하는 체인점은 평균면적이 작을 것이다."
   ]
  },
  {
   "cell_type": "markdown",
   "id": "158b7d22",
   "metadata": {},
   "source": [
    "### Step1] 가설: 데이터 분석을 위한 목적, 대상 또는 가설을 세워본다."
   ]
  },
  {
   "cell_type": "markdown",
   "id": "52bee29b",
   "metadata": {},
   "source": [
    "### Step2] 가설증명: 데이터 재 구조화, 시각화를 통해 새로운 insight 및 정보를 습득 및 가설을 검증한다. "
   ]
  },
  {
   "cell_type": "code",
   "execution_count": 11,
   "id": "76371bad",
   "metadata": {},
   "outputs": [],
   "source": [
    "# 가설 증명하는 코드를 간단한 통계지표나 시각화를 통해서 작성해 보세요.\n",
    "# 필요하다면 기존 데이터를 재구조화(Groupby, Pivot)을 해보세요."
   ]
  },
  {
   "cell_type": "markdown",
   "id": "b6d13cb7",
   "metadata": {},
   "source": [
    "### Step3] 가설결론: 해당 가설에 대한 결론을 내린다."
   ]
  },
  {
   "cell_type": "code",
   "execution_count": 12,
   "id": "f0cc523f",
   "metadata": {},
   "outputs": [],
   "source": [
    "# 가설 검증한 내용을 여기에 마크다운형식으로 정리하세요"
   ]
  },
  {
   "cell_type": "markdown",
   "id": "1083f86e",
   "metadata": {},
   "source": [
    "### Step4] 탐색적연구 반복: 시간 일정이 허락하는 범위내에서 Step1~Step3를 반복한다."
   ]
  },
  {
   "cell_type": "markdown",
   "id": "dd2f2343",
   "metadata": {},
   "source": [
    "### Step5] 최종결론: 지금까지 진행했던 모든 탐색적연구의 결과를 반영하여 최종 결론을 내린다."
   ]
  },
  {
   "cell_type": "code",
   "execution_count": 13,
   "id": "446d6f25",
   "metadata": {},
   "outputs": [],
   "source": [
    "# 아래 최종 결론에 각 가설 별 학습내용과 개별 가설의 내용에서 도출된 최종 Insight를 정리하세요"
   ]
  },
  {
   "cell_type": "markdown",
   "id": "9fef0f9c",
   "metadata": {},
   "source": [
    "## 5. 최종 결론"
   ]
  },
  {
   "cell_type": "markdown",
   "id": "f7fe71e9-3b36-420d-8260-ab82e6032931",
   "metadata": {},
   "source": [
    "* 지금까지 얻는 분석 결과를 아래에 정리합시다. "
   ]
  },
  {
   "cell_type": "markdown",
   "id": "b800c037-62af-4c8e-8de2-81b9521fb58d",
   "metadata": {},
   "source": [
    "### 기초 데이터 분석 결과"
   ]
  },
  {
   "cell_type": "code",
   "execution_count": 5,
   "id": "074161b8-e6d9-45c9-9fa3-399e2e17ef6f",
   "metadata": {},
   "outputs": [],
   "source": [
    "# 여기에 정리하세요"
   ]
  },
  {
   "cell_type": "markdown",
   "id": "6adcbd3c-b3cf-43ef-a5bb-ed4540a0c579",
   "metadata": {},
   "source": [
    "### 데이터 정제후 얻은 분석 결과"
   ]
  },
  {
   "cell_type": "code",
   "execution_count": 10,
   "id": "6f586a11-296e-4bb1-8c36-c681ad220583",
   "metadata": {},
   "outputs": [],
   "source": [
    "# 여기에 정리하세요"
   ]
  },
  {
   "cell_type": "markdown",
   "id": "2cece6de",
   "metadata": {},
   "source": [
    "### 가설 1 결론: "
   ]
  },
  {
   "cell_type": "code",
   "execution_count": 8,
   "id": "bbb971e3-7e43-428b-9a15-52046af3d69c",
   "metadata": {},
   "outputs": [],
   "source": [
    "# 추가로 얻은 insight를 여기에 정리하세요"
   ]
  },
  {
   "cell_type": "code",
   "execution_count": null,
   "id": "9c816ba8-b732-4aa7-b997-eda9f6d33010",
   "metadata": {},
   "outputs": [],
   "source": [
    "스타벅스는 대구 뿐만 아니라 전국 각지에서 넓은 매장이 많이 분포되어 있음을 알 수 있다.\n",
    "대구 뿐만 아니라 전국 각지에서 넓은 매장이 많이 분포되어 있음을 알 수 있다."
   ]
  },
  {
   "cell_type": "markdown",
   "id": "67e03ba5-47d3-42d8-87d2-9d1f3b708ddb",
   "metadata": {},
   "source": [
    "### 가설 2 결론: "
   ]
  },
  {
   "cell_type": "code",
   "execution_count": null,
   "id": "9f517cbe-9974-4111-a16a-badfe992e2dd",
   "metadata": {},
   "outputs": [],
   "source": [
    "# 추가로 얻은 insight를 여기에 정리하세요"
   ]
  },
  {
   "cell_type": "code",
   "execution_count": null,
   "id": "eef9ab13-f55c-4503-854c-f58dcf46dd3e",
   "metadata": {},
   "outputs": [],
   "source": [
    "일반카페의 영업장면적이 협소하다.\n",
    "박리다매를 하는 체인점은 평균면적이 작을 것이다."
   ]
  },
  {
   "cell_type": "markdown",
   "id": "3001d6bd-632e-4734-8b91-d7cc2b55903c",
   "metadata": {},
   "source": [
    "### 가설 N 결론: "
   ]
  },
  {
   "cell_type": "code",
   "execution_count": 7,
   "id": "746b1f06-e2f6-4bc9-91ae-415fff3ff09a",
   "metadata": {},
   "outputs": [],
   "source": [
    "# 시간이 허락하는 범위내에서 추가로 얻은 인사이트를 여기에 정리하세요"
   ]
  },
  {
   "cell_type": "code",
   "execution_count": null,
   "id": "3cd97672-06d9-4fd0-93c9-4c9a78a3d2f9",
   "metadata": {},
   "outputs": [],
   "source": [
    "일반카페 및 각종 프렌차이즈의 카페가 즐비되어 있지만 스타벅스의 매장수가 수성구로 봤을 때 많이 분포되어 있지 않다."
   ]
  },
  {
   "cell_type": "markdown",
   "id": "1b59ef2b",
   "metadata": {},
   "source": [
    "### 최종 결론 (새로운 insight)"
   ]
  },
  {
   "cell_type": "code",
   "execution_count": 5,
   "id": "bf6d54d4-27d9-41f2-94d0-da9a675b022c",
   "metadata": {},
   "outputs": [],
   "source": [
    "# 여기에 정리하세요"
   ]
  },
  {
   "cell_type": "code",
   "execution_count": null,
   "id": "6cb7a2db",
   "metadata": {},
   "outputs": [],
   "source": [
    "스타벅스는 주로 많이 입점되어 있지 않지만 넓은 매장이 많이 분포되어 있다."
   ]
  }
 ],
 "metadata": {
  "kernelspec": {
   "display_name": "Python 3 (ipykernel)",
   "language": "python",
   "name": "python3"
  },
  "language_info": {
   "codemirror_mode": {
    "name": "ipython",
    "version": 3
   },
   "file_extension": ".py",
   "mimetype": "text/x-python",
   "name": "python",
   "nbconvert_exporter": "python",
   "pygments_lexer": "ipython3",
   "version": "3.11.7"
  }
 },
 "nbformat": 4,
 "nbformat_minor": 5
}
