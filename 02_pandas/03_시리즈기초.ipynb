{
 "cells": [
  {
   "cell_type": "markdown",
   "id": "edd9f07d-513d-4903-a566-1a7724afff01",
   "metadata": {},
   "source": [
    "# 시리즈 기초 동작"
   ]
  },
  {
   "cell_type": "markdown",
   "id": "75b77648-ed85-4eec-b658-6d524a97d5f9",
   "metadata": {},
   "source": [
    "### 시리즈 생성"
   ]
  },
  {
   "cell_type": "code",
   "execution_count": 46,
   "id": "31d05090-f640-422b-ae05-262809c72960",
   "metadata": {},
   "outputs": [],
   "source": [
    "import pandas as pd # 관용적으로 pandas 모듈을 pd로 별칭하여 사용함\n",
    "import time"
   ]
  },
  {
   "cell_type": "code",
   "execution_count": 47,
   "id": "70deffa5-ea4c-401a-8371-9876bf654f35",
   "metadata": {},
   "outputs": [
    {
     "data": {
      "text/plain": [
       "'2.1.4'"
      ]
     },
     "execution_count": 47,
     "metadata": {},
     "output_type": "execute_result"
    }
   ],
   "source": [
    "# 버전 확인\n",
    "# time.sleep(1)\n",
    "pd.__version__"
   ]
  },
  {
   "cell_type": "code",
   "execution_count": 48,
   "id": "4932745b-3587-4b63-8ba1-d80caa162642",
   "metadata": {},
   "outputs": [
    {
     "data": {
      "text/plain": [
       "0    1\n",
       "1    2\n",
       "2    3\n",
       "dtype: int64"
      ]
     },
     "execution_count": 48,
     "metadata": {},
     "output_type": "execute_result"
    }
   ],
   "source": [
    "# 시리즈(Series): 데이터 프레임(2차원 데이터)에서 열을 표현할 수 있는 벡터(벡터: 1차원 배열)\n",
    "# 시리즈 생성하는 문법\n",
    "# pd.Series([시리즈데이터]) : 보통 리스트로 생성\n",
    "# 판다스에서 내부적으로 처리하는 데이터가 존재: 숫자 타입 => int64\n",
    "\n",
    "# time.sleep(1)\n",
    "ser1 = pd.Series([1,2,3])\n",
    "ser1"
   ]
  },
  {
   "cell_type": "markdown",
   "id": "35685ad3-cb7a-4790-a137-ade8270ecf59",
   "metadata": {},
   "source": [
    "# 기본 브로드 캐스팅 연산"
   ]
  },
  {
   "cell_type": "markdown",
   "id": "4dddf2f0-3fb3-4580-8ec4-b4b2bfc65575",
   "metadata": {},
   "source": [
    "### 동일 요소간 리스트 연산"
   ]
  },
  {
   "cell_type": "code",
   "execution_count": 49,
   "id": "0cf9328d-7540-4527-87a9-f47f486a8ca3",
   "metadata": {},
   "outputs": [],
   "source": [
    "list1 = [1,2,3]\n",
    "list2 = [1,2,3]"
   ]
  },
  {
   "cell_type": "code",
   "execution_count": 50,
   "id": "1acc802c-6a87-48ea-b161-a45de7232376",
   "metadata": {},
   "outputs": [
    {
     "data": {
      "text/plain": [
       "[1, 2, 3, 1, 2, 3]"
      ]
     },
     "execution_count": 50,
     "metadata": {},
     "output_type": "execute_result"
    }
   ],
   "source": [
    "list1 + list2 # 파이썬 기본 리스트 타입에서 + 연산은 리스트의 확장"
   ]
  },
  {
   "cell_type": "code",
   "execution_count": 51,
   "id": "d6c05643-3406-4394-903b-df12bfb3df6c",
   "metadata": {},
   "outputs": [
    {
     "data": {
      "text/plain": [
       "[1, 2, 3]"
      ]
     },
     "execution_count": 51,
     "metadata": {},
     "output_type": "execute_result"
    }
   ],
   "source": [
    "list1"
   ]
  },
  {
   "cell_type": "code",
   "execution_count": 52,
   "id": "38cc740a-e841-4517-824d-47dd142bb612",
   "metadata": {},
   "outputs": [
    {
     "data": {
      "text/plain": [
       "[1, 2, 3]"
      ]
     },
     "execution_count": 52,
     "metadata": {},
     "output_type": "execute_result"
    }
   ],
   "source": [
    "list2"
   ]
  },
  {
   "cell_type": "code",
   "execution_count": 53,
   "id": "229c1675-b005-4322-b98d-4e3dadf2a408",
   "metadata": {},
   "outputs": [
    {
     "data": {
      "text/plain": [
       "[2, 4, 6]"
      ]
     },
     "execution_count": 53,
     "metadata": {},
     "output_type": "execute_result"
    }
   ],
   "source": [
    "result = []\n",
    "for index in range(len(list1)):\n",
    "    # print(index)\n",
    "    result.append(list1[index] + list2[index])\n",
    "result"
   ]
  },
  {
   "cell_type": "markdown",
   "id": "e204e56f-4332-4c98-be6f-5ef75f7a10d7",
   "metadata": {},
   "source": [
    "### 동일 요소간 시리즈 연산"
   ]
  },
  {
   "cell_type": "code",
   "execution_count": 54,
   "id": "bcbeb73f-4ecc-44a3-9349-a8c65ac5769c",
   "metadata": {},
   "outputs": [
    {
     "data": {
      "text/plain": [
       "0    1\n",
       "1    2\n",
       "2    3\n",
       "dtype: int64"
      ]
     },
     "execution_count": 54,
     "metadata": {},
     "output_type": "execute_result"
    }
   ],
   "source": [
    "# time.sleep(1)\n",
    "ser2 = pd.Series([1,2,3])\n",
    "ser2"
   ]
  },
  {
   "cell_type": "markdown",
   "id": "4cee77fc-b9db-49ee-b449-cd4314df03e3",
   "metadata": {},
   "source": [
    "* 시리즈의 요소가 같을 경우에는 같은 요소끼리 연산자를 적용한다.\n",
    "* 연산 결과를 반환하고 개별 시리즈는 변경되지 않는다."
   ]
  },
  {
   "cell_type": "code",
   "execution_count": 55,
   "id": "c4de4cac-c78d-42be-9220-3c56890be9eb",
   "metadata": {},
   "outputs": [
    {
     "data": {
      "text/plain": [
       "0    2\n",
       "1    4\n",
       "2    6\n",
       "dtype: int64"
      ]
     },
     "execution_count": 55,
     "metadata": {},
     "output_type": "execute_result"
    }
   ],
   "source": [
    "ser1 + ser2"
   ]
  },
  {
   "cell_type": "code",
   "execution_count": 56,
   "id": "e7c8e56f-5ca5-4f27-9d6e-187592998773",
   "metadata": {},
   "outputs": [
    {
     "data": {
      "text/plain": [
       "0    1\n",
       "1    2\n",
       "2    3\n",
       "dtype: int64"
      ]
     },
     "execution_count": 56,
     "metadata": {},
     "output_type": "execute_result"
    }
   ],
   "source": [
    "ser1"
   ]
  },
  {
   "cell_type": "code",
   "execution_count": 57,
   "id": "8fd38016-c769-4058-92ca-2bfc87495209",
   "metadata": {},
   "outputs": [
    {
     "data": {
      "text/plain": [
       "0    1\n",
       "1    2\n",
       "2    3\n",
       "dtype: int64"
      ]
     },
     "execution_count": 57,
     "metadata": {},
     "output_type": "execute_result"
    }
   ],
   "source": [
    "ser2"
   ]
  },
  {
   "cell_type": "code",
   "execution_count": 58,
   "id": "62dbb816-0086-486b-82a8-cf7ebe687697",
   "metadata": {},
   "outputs": [
    {
     "data": {
      "text/plain": [
       "0    1\n",
       "1    4\n",
       "2    9\n",
       "dtype: int64"
      ]
     },
     "execution_count": 58,
     "metadata": {},
     "output_type": "execute_result"
    }
   ],
   "source": [
    "ser1 * ser2"
   ]
  },
  {
   "cell_type": "markdown",
   "id": "e614142d-69e5-46f0-9bbc-6f5b2aeb8ec2",
   "metadata": {},
   "source": [
    "### 동일 요소가 아닌 경우의 연산"
   ]
  },
  {
   "cell_type": "markdown",
   "id": "53c4d15e-33e5-4bb2-bed5-8d3d9740a222",
   "metadata": {},
   "source": [
    "* 파이썬 리스트 버전"
   ]
  },
  {
   "cell_type": "code",
   "execution_count": 59,
   "id": "1724bca1-7250-43ad-8b46-c4a523bd3738",
   "metadata": {},
   "outputs": [
    {
     "data": {
      "text/plain": [
       "[60, 70, 80]"
      ]
     },
     "execution_count": 59,
     "metadata": {},
     "output_type": "execute_result"
    }
   ],
   "source": [
    "# 수학 성적이라고 가정하고 너무 점수가 낮아 전체적으로 가산점을 주려고 한다.\n",
    "scores = [10,20,30]\n",
    "for index in range(len(scores)):\n",
    "    # scores[index] = scores[index] + 50\n",
    "    scores[index] += 50\n",
    "scores"
   ]
  },
  {
   "cell_type": "markdown",
   "id": "9f5a6bf4-e60a-476f-8b96-92a473203bfd",
   "metadata": {},
   "source": [
    "* 시리즈 버전  \n",
    "단일 리터럴(값)을 더할 경우 기존 시리즈의 요소(차원)에 맞추어 연산을 한다."
   ]
  },
  {
   "cell_type": "code",
   "execution_count": 62,
   "id": "dc8147ce-fb6a-4ecc-a8a0-d7a670ed399f",
   "metadata": {},
   "outputs": [],
   "source": [
    "# 수학 성적이라고 가정하고 너무 점수가 낮아 전체적으로 가산점을 주려고 한다.\n",
    "ser1 = pd.Series([10,20,30])"
   ]
  },
  {
   "cell_type": "code",
   "execution_count": 45,
   "id": "052446fe-2f74-43b4-8977-cebeabb85b44",
   "metadata": {},
   "outputs": [
    {
     "data": {
      "text/plain": [
       "0    60\n",
       "1    70\n",
       "2    80\n",
       "dtype: int64"
      ]
     },
     "execution_count": 45,
     "metadata": {},
     "output_type": "execute_result"
    }
   ],
   "source": [
    "ser1 + 50"
   ]
  },
  {
   "cell_type": "markdown",
   "id": "7aca83d6-7623-4b98-a816-1d08895ce324",
   "metadata": {},
   "source": [
    "* 시리즈간 요소의 개수가 맞지 않은 경우"
   ]
  },
  {
   "cell_type": "code",
   "execution_count": 60,
   "id": "ed8a2328-fa10-4d94-a398-5652763bf8f6",
   "metadata": {},
   "outputs": [
    {
     "data": {
      "text/plain": [
       "0    2.0\n",
       "1    4.0\n",
       "2    6.0\n",
       "3    NaN\n",
       "dtype: float64"
      ]
     },
     "execution_count": 60,
     "metadata": {},
     "output_type": "execute_result"
    }
   ],
   "source": [
    "ser1 = pd.Series([1,2,3])\n",
    "ser3 = pd.Series([1,2,3,4])\n",
    "ser1 + ser3"
   ]
  },
  {
   "cell_type": "code",
   "execution_count": null,
   "id": "ba8f581e-a709-480d-9abb-b7f17a8b0507",
   "metadata": {},
   "outputs": [],
   "source": [
    "판다스에서 정의되지 않은 값은 NaN으로 표기한다.\n",
    "NaN과의 모든 연산은 NaN이다.\n",
    "요소가 있을 경우에는 정상 브로드캐스팅 연산을 하고 요소가 없는 경우에는 NaN으로 처리한다."
   ]
  },
  {
   "cell_type": "markdown",
   "id": "c028fc4c-370a-40ee-aa85-b1e56f6b1500",
   "metadata": {},
   "source": [
    "* 연습문제] 아래 직원연봉 정보에서 연봉을 4.5% 인상하는 프로그램 작성하세요  \n",
    "[3720, 5460, 4200, 6500, 7125, 5700, 7540, 3900, 6780, 4820]"
   ]
  },
  {
   "cell_type": "markdown",
   "id": "659a0be7-25c8-40a0-9941-cfdf53972b22",
   "metadata": {},
   "source": [
    "* 파이썬 버전(참고)"
   ]
  },
  {
   "cell_type": "code",
   "execution_count": null,
   "id": "a84e447c-9f88-4d93-9df3-950017a63cfe",
   "metadata": {},
   "outputs": [],
   "source": [
    "salaries = [3720, 5460, 4200, 6500, 7125, 5700, 7540, 3900, 6780, 4820]\n",
    "salaries_increase = []\n",
    "\n",
    "for salary in salaries:\n",
    "    increased_salary = salary * 1.045\n",
    "    salaries_increase.append(increased_salary)\n",
    "\n",
    "print(salaries_increase)"
   ]
  },
  {
   "cell_type": "markdown",
   "id": "84306575-e8b9-4ab5-98fd-3fc6d2c5ff45",
   "metadata": {},
   "source": [
    "* 판다스 버전"
   ]
  },
  {
   "cell_type": "code",
   "execution_count": 71,
   "id": "71ca2bab-9ccf-4628-9d9f-e12ca6658e95",
   "metadata": {},
   "outputs": [
    {
     "data": {
      "text/plain": [
       "0    3887.400\n",
       "1    5705.700\n",
       "2    4389.000\n",
       "3    6792.500\n",
       "4    7445.625\n",
       "5    5956.500\n",
       "6    7879.300\n",
       "7    4075.500\n",
       "8    7085.100\n",
       "9    5036.900\n",
       "dtype: float64"
      ]
     },
     "execution_count": 71,
     "metadata": {},
     "output_type": "execute_result"
    }
   ],
   "source": [
    "pd.Series([3720, 5460, 4200, 6500, 7125, 5700, 7540, 3900, 6780, 4820]) * 1.045"
   ]
  },
  {
   "cell_type": "markdown",
   "id": "e15f8eaf-febf-4117-b79e-8e187d32a296",
   "metadata": {},
   "source": [
    "* [3720, 5460, 4200, 6500, 7125, 5700, 7540, 3900, 6780, 4820]의 연봉 정보에서 10% 인상분은?"
   ]
  },
  {
   "cell_type": "code",
   "execution_count": 65,
   "id": "ac847948-402a-47d6-9159-e1f5b1cac38a",
   "metadata": {},
   "outputs": [
    {
     "data": {
      "text/plain": [
       "0    372.0\n",
       "1    546.0\n",
       "2    420.0\n",
       "3    650.0\n",
       "4    712.5\n",
       "5    570.0\n",
       "6    754.0\n",
       "7    390.0\n",
       "8    678.0\n",
       "9    482.0\n",
       "dtype: float64"
      ]
     },
     "execution_count": 65,
     "metadata": {},
     "output_type": "execute_result"
    }
   ],
   "source": [
    " pd.Series([3720, 5460, 4200, 6500, 7125, 5700, 7540, 3900, 6780, 4820]) * 0.1"
   ]
  },
  {
   "cell_type": "code",
   "execution_count": null,
   "id": "207103bf-0be5-49c3-808d-a846c976a503",
   "metadata": {},
   "outputs": [],
   "source": []
  }
 ],
 "metadata": {
  "kernelspec": {
   "display_name": "Python 3 (ipykernel)",
   "language": "python",
   "name": "python3"
  },
  "language_info": {
   "codemirror_mode": {
    "name": "ipython",
    "version": 3
   },
   "file_extension": ".py",
   "mimetype": "text/x-python",
   "name": "python",
   "nbconvert_exporter": "python",
   "pygments_lexer": "ipython3",
   "version": "3.11.7"
  }
 },
 "nbformat": 4,
 "nbformat_minor": 5
}
