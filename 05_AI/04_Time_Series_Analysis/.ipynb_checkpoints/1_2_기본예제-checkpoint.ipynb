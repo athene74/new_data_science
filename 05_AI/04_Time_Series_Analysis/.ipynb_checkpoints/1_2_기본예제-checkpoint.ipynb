{
 "cells": [
  {
   "cell_type": "markdown",
   "id": "e4ec1e3e",
   "metadata": {},
   "source": [
    "# 시계열 분석의 기본 개념"
   ]
  },
  {
   "cell_type": "markdown",
   "id": "1a3adcf0",
   "metadata": {},
   "source": [
    "* 시계열 분석은 단일 또는 다변 수치 값으로 자기회귀하여 데이터의 트랜드와 반복패턴을 찾아 예측하는 분석 기법\n",
    "* 자기회귀(Autoregression)는 이전 시간 단계의 관측값을 입력으로 사용하여 회귀 방정식을 구성하여 다음 시간 단계의 값을 예측하는   \n",
    "  시계열 모델입니다."
   ]
  },
  {
   "cell_type": "markdown",
   "id": "c9ca6a29",
   "metadata": {},
   "source": [
    "# 데이터 로드"
   ]
  },
  {
   "cell_type": "markdown",
   "id": "f4bf676e",
   "metadata": {},
   "source": [
    "* 4년간 스페인 에너지 일일 전력 소비량(Energy Consumption)"
   ]
  },
  {
   "cell_type": "code",
   "execution_count": 1,
   "id": "940a84e2",
   "metadata": {},
   "outputs": [],
   "source": [
    "import pandas as pd\n",
    "\n",
    "# Load the dataset from the CSV file using pandas\n",
    "# df = pd.read_csv(\"https://github.com/ourownstory/neuralprophet-data/raw/main/kaggle-energy/datasets/tutorial01.csv\")\n",
    "df = pd.read_csv(\"tutorial01.csv\")"
   ]
  },
  {
   "cell_type": "code",
   "execution_count": 2,
   "id": "f86957c8",
   "metadata": {},
   "outputs": [
    {
     "data": {
      "text/html": [
       "<div>\n",
       "<style scoped>\n",
       "    .dataframe tbody tr th:only-of-type {\n",
       "        vertical-align: middle;\n",
       "    }\n",
       "\n",
       "    .dataframe tbody tr th {\n",
       "        vertical-align: top;\n",
       "    }\n",
       "\n",
       "    .dataframe thead th {\n",
       "        text-align: right;\n",
       "    }\n",
       "</style>\n",
       "<table border=\"1\" class=\"dataframe\">\n",
       "  <thead>\n",
       "    <tr style=\"text-align: right;\">\n",
       "      <th></th>\n",
       "      <th>ds</th>\n",
       "      <th>y</th>\n",
       "    </tr>\n",
       "  </thead>\n",
       "  <tbody>\n",
       "    <tr>\n",
       "      <th>0</th>\n",
       "      <td>2014-12-31</td>\n",
       "      <td>65.41</td>\n",
       "    </tr>\n",
       "    <tr>\n",
       "      <th>1</th>\n",
       "      <td>2015-01-01</td>\n",
       "      <td>62.09</td>\n",
       "    </tr>\n",
       "    <tr>\n",
       "      <th>2</th>\n",
       "      <td>2015-01-02</td>\n",
       "      <td>69.44</td>\n",
       "    </tr>\n",
       "    <tr>\n",
       "      <th>3</th>\n",
       "      <td>2015-01-03</td>\n",
       "      <td>65.22</td>\n",
       "    </tr>\n",
       "    <tr>\n",
       "      <th>4</th>\n",
       "      <td>2015-01-04</td>\n",
       "      <td>58.91</td>\n",
       "    </tr>\n",
       "  </tbody>\n",
       "</table>\n",
       "</div>"
      ],
      "text/plain": [
       "           ds      y\n",
       "0  2014-12-31  65.41\n",
       "1  2015-01-01  62.09\n",
       "2  2015-01-02  69.44\n",
       "3  2015-01-03  65.22\n",
       "4  2015-01-04  58.91"
      ]
     },
     "execution_count": 2,
     "metadata": {},
     "output_type": "execute_result"
    }
   ],
   "source": [
    "df.head()"
   ]
  },
  {
   "cell_type": "markdown",
   "id": "00c25ba9",
   "metadata": {},
   "source": [
    "# 모델 생성"
   ]
  },
  {
   "cell_type": "markdown",
   "id": "63874347",
   "metadata": {},
   "source": [
    "* 최적화를 위한 학습과 조기 종료는 모델 내부에서 자동으로 결정한다."
   ]
  },
  {
   "cell_type": "code",
   "execution_count": 3,
   "id": "d43fb0ad",
   "metadata": {},
   "outputs": [
    {
     "data": {
      "application/vnd.jupyter.widget-view+json": {
       "model_id": "4caf61c6914040658b857d03ec049f46",
       "version_major": 2,
       "version_minor": 0
      },
      "text/plain": [
       "Training: |                                                                                      | 0/? [00:00<…"
      ]
     },
     "metadata": {},
     "output_type": "display_data"
    },
    {
     "data": {
      "application/vnd.jupyter.widget-view+json": {
       "model_id": "14819786888e494b861fadf678a4c38d",
       "version_major": 2,
       "version_minor": 0
      },
      "text/plain": [
       "Finding best initial lr:   0%|          | 0/229 [00:00<?, ?it/s]"
      ]
     },
     "metadata": {},
     "output_type": "display_data"
    },
    {
     "name": "stderr",
     "output_type": "stream",
     "text": [
      "WARNING - (py.warnings._showwarnmsg) - C:\\Users\\dd\\anaconda3\\Lib\\site-packages\\pytorch_lightning\\utilities\\data.py:78: Trying to infer the `batch_size` from an ambiguous collection. The batch size we found is 32. To avoid any miscalculations, use `self.log(..., batch_size=batch_size)`.\n",
      "\n",
      "WARNING - (py.warnings._showwarnmsg) - C:\\Users\\dd\\anaconda3\\Lib\\site-packages\\pytorch_lightning\\utilities\\data.py:78: Trying to infer the `batch_size` from an ambiguous collection. The batch size we found is 22. To avoid any miscalculations, use `self.log(..., batch_size=batch_size)`.\n",
      "\n"
     ]
    },
    {
     "data": {
      "application/vnd.jupyter.widget-view+json": {
       "model_id": "2e9c2f367a8045ed8bb3479fa19bec05",
       "version_major": 2,
       "version_minor": 0
      },
      "text/plain": [
       "Training: |                                                                                      | 0/? [00:00<…"
      ]
     },
     "metadata": {},
     "output_type": "display_data"
    }
   ],
   "source": [
    "# NeuralProphet 클래스 불러오기\n",
    "from neuralprophet import NeuralProphet, set_log_level\n",
    "\n",
    "# 오류가 아닌 경우 로깅 메시지 비활성화\n",
    "set_log_level(\"ERROR\")\n",
    "\n",
    "# 기본 매개변수로 NeuralProphet 모델 생성\n",
    "m = NeuralProphet()\n",
    "\n",
    "# 데이터셋에 모델 피팅하기 (이 과정은 시간이 걸릴 수 있습니다)\n",
    "metrics = m.fit(df)"
   ]
  },
  {
   "cell_type": "markdown",
   "id": "93c15354",
   "metadata": {},
   "source": [
    "# 시계열 예측"
   ]
  },
  {
   "cell_type": "code",
   "execution_count": 4,
   "id": "d1a7ee08-8ab1-4816-9b28-a2b92450eb93",
   "metadata": {},
   "outputs": [
    {
     "name": "stderr",
     "output_type": "stream",
     "text": [
      "WARNING - (py.warnings._showwarnmsg) - C:\\Users\\dd\\anaconda3\\Lib\\site-packages\\neuralprophet\\data\\split.py:273: FutureWarning: The behavior of DataFrame concatenation with empty or all-NA entries is deprecated. In a future version, this will no longer exclude empty or all-NA columns when determining the result dtypes. To retain the old behavior, exclude the relevant entries before the concat operation.\n",
      "  df = pd.concat([df, future_df])\n",
      "\n"
     ]
    },
    {
     "data": {
      "application/vnd.jupyter.widget-view+json": {
       "model_id": "f91dc5accab1479baf67a12ce4486d42",
       "version_major": 2,
       "version_minor": 0
      },
      "text/plain": [
       "Predicting: |                                                                                    | 0/? [00:00<…"
      ]
     },
     "metadata": {},
     "output_type": "display_data"
    }
   ],
   "source": [
    "# 예측용으로 미래로부터 365일까지의 새로운 데이터프레임 생성, \n",
    "# n_historic_predictions는 과거 데이터도 포함됨\n",
    "df_future = m.make_future_dataframe(df, n_historic_predictions=True, periods=365)\n",
    "\n",
    "# 미래 예측\n",
    "forecast = m.predict(df_future)"
   ]
  },
  {
   "cell_type": "code",
   "execution_count": 5,
   "id": "2cbd734d-617e-461e-9d25-876422982ae5",
   "metadata": {},
   "outputs": [
    {
     "name": "stderr",
     "output_type": "stream",
     "text": [
      "WARNING - (py.warnings._showwarnmsg) - C:\\Users\\dd\\anaconda3\\Lib\\site-packages\\neuralprophet\\plot_forecast_plotly.py:100: FutureWarning: The behavior of DatetimeProperties.to_pydatetime is deprecated, in a future version this will return a Series containing python datetime objects instead of an ndarray. To retain the old behavior, call `np.array` on the result\n",
      "  ds = fcst[\"ds\"].dt.to_pydatetime()\n",
      "\n"
     ]
    },
    {
     "data": {
      "application/vnd.jupyter.widget-view+json": {
       "model_id": "f9ee06c9611549078c2d389f59b6b0e0",
       "version_major": 2,
       "version_minor": 0
      },
      "text/plain": [
       "FigureWidgetResampler({\n",
       "    'data': [{'fill': 'none',\n",
       "              'line': {'color': 'rgba(45, 146, 255, 1.0)', 'width': 2},\n",
       "              'mode': 'lines',\n",
       "              'name': '<b style=\"color:sandybrown\">[R]</b> yhat1 <i style=\"color:#fc9944\">~2D</i>',\n",
       "              'type': 'scatter',\n",
       "              'uid': 'be193070-44b5-4f2a-9480-080d104fbbd3',\n",
       "              'x': array([datetime.datetime(2014, 12, 31, 0, 0),\n",
       "                          datetime.datetime(2015, 1, 1, 0, 0),\n",
       "                          datetime.datetime(2015, 1, 3, 0, 0), ...,\n",
       "                          datetime.datetime(2019, 12, 28, 0, 0),\n",
       "                          datetime.datetime(2019, 12, 29, 0, 0),\n",
       "                          datetime.datetime(2019, 12, 31, 0, 0)], dtype=object),\n",
       "              'y': array([64.62713 , 64.48378 , 59.227417, ..., 67.95406 , 64.788666, 72.54775 ],\n",
       "                         dtype=float32)},\n",
       "             {'marker': {'color': 'black', 'size': 4},\n",
       "              'mode': 'markers',\n",
       "              'name': '<b style=\"color:sandybrown\">[R]</b> Actual <i style=\"color:#fc9944\">~2D</i>',\n",
       "              'type': 'scatter',\n",
       "              'uid': '3a4dd2c4-e36a-4c56-820f-bace000bbf00',\n",
       "              'x': array([datetime.datetime(2014, 12, 31, 0, 0),\n",
       "                          datetime.datetime(2015, 1, 1, 0, 0),\n",
       "                          datetime.datetime(2015, 1, 2, 0, 0), ...,\n",
       "                          datetime.datetime(2019, 12, 27, 0, 0),\n",
       "                          datetime.datetime(2019, 12, 29, 0, 0),\n",
       "                          datetime.datetime(2019, 12, 31, 0, 0)], dtype=object),\n",
       "              'y': array([65.41, 62.09, 69.44, ...,   nan,   nan,   nan])}],\n",
       "    'layout': {'autosize': True,\n",
       "               'font': {'size': 10},\n",
       "               'height': 420,\n",
       "               'hovermode': 'x unified',\n",
       "               'margin': {'b': 0, 'l': 0, 'pad': 0, 'r': 10, 't': 10},\n",
       "               'showlegend': True,\n",
       "               'template': '...',\n",
       "               'title': {'font': {'size': 12}},\n",
       "               'width': 700,\n",
       "               'xaxis': {'linewidth': 1.5,\n",
       "                         'mirror': True,\n",
       "                         'rangeselector': {'buttons': [{'count': 7, 'label': '1w', 'step': 'day', 'stepmode': 'backward'},\n",
       "                                                       {'count': 1,\n",
       "                                                        'label': '1m',\n",
       "                                                        'step': 'month',\n",
       "                                                        'stepmode': 'backward'},\n",
       "                                                       {'count': 6,\n",
       "                                                        'label': '6m',\n",
       "                                                        'step': 'month',\n",
       "                                                        'stepmode': 'backward'},\n",
       "                                                       {'count': 1, 'label': '1y', 'step': 'year', 'stepmode': 'backward'},\n",
       "                                                       {'step': 'all'}]},\n",
       "                         'rangeslider': {'visible': True},\n",
       "                         'showline': True,\n",
       "                         'title': {'text': 'ds'},\n",
       "                         'type': 'date'},\n",
       "               'yaxis': {'linewidth': 1.5, 'mirror': True, 'showline': True, 'title': {'text': 'y'}}}\n",
       "})"
      ]
     },
     "execution_count": 5,
     "metadata": {},
     "output_type": "execute_result"
    }
   ],
   "source": [
    "# 예측 시각화\n",
    "m.plot(forecast)"
   ]
  },
  {
   "cell_type": "markdown",
   "id": "d2cd4cd1",
   "metadata": {},
   "source": [
    "* 예측의 구성 요소로 이루어져 있습니다: \n",
    "    * 추세, 연간 및 주간 계절성. => 이들은 합쳐져 예측을 생"
   ]
  },
  {
   "cell_type": "code",
   "execution_count": 6,
   "id": "8829a99c",
   "metadata": {},
   "outputs": [
    {
     "name": "stderr",
     "output_type": "stream",
     "text": [
      "WARNING - (py.warnings._showwarnmsg) - C:\\Users\\dd\\anaconda3\\Lib\\site-packages\\neuralprophet\\plot_model_parameters_plotly.py:237: FutureWarning:\n",
      "\n",
      "The behavior of DatetimeProperties.to_pydatetime is deprecated, in a future version this will return a Series containing python datetime objects instead of an ndarray. To retain the old behavior, call `np.array` on the result\n",
      "\n",
      "\n",
      "WARNING - (py.warnings._showwarnmsg) - C:\\Users\\dd\\anaconda3\\Lib\\site-packages\\neuralprophet\\plot_model_parameters_plotly.py:271: FutureWarning:\n",
      "\n",
      "The behavior of DatetimeProperties.to_pydatetime is deprecated, in a future version this will return a Series containing python datetime objects instead of an ndarray. To retain the old behavior, call `np.array` on the result\n",
      "\n",
      "\n",
      "WARNING - (py.warnings._showwarnmsg) - C:\\Users\\dd\\anaconda3\\Lib\\site-packages\\neuralprophet\\plot_model_parameters_plotly.py:475: FutureWarning:\n",
      "\n",
      "The behavior of DatetimeProperties.to_pydatetime is deprecated, in a future version this will return a Series containing python datetime objects instead of an ndarray. To retain the old behavior, call `np.array` on the result\n",
      "\n",
      "\n",
      "WARNING - (py.warnings._showwarnmsg) - C:\\Users\\dd\\anaconda3\\Lib\\site-packages\\neuralprophet\\plot_model_parameters_plotly.py:508: FutureWarning:\n",
      "\n",
      "The behavior of DatetimeProperties.to_pydatetime is deprecated, in a future version this will return a Series containing python datetime objects instead of an ndarray. To retain the old behavior, call `np.array` on the result\n",
      "\n",
      "\n"
     ]
    },
    {
     "data": {
      "application/vnd.jupyter.widget-view+json": {
       "model_id": "2f668722336b4f9f8596d3ad2caeb484",
       "version_major": 2,
       "version_minor": 0
      },
      "text/plain": [
       "FigureWidgetResampler({\n",
       "    'data': [{'fill': 'none',\n",
       "              'line': {'color': '#2d92ff', 'width': 2},\n",
       "              'mode': 'lines',\n",
       "              'name': '<b style=\"color:sandybrown\">[R]</b> Trend <i style=\"color:#fc9944\">~1D</i>',\n",
       "              'type': 'scatter',\n",
       "              'uid': '003f505a-2687-4e21-99cc-4bef70527976',\n",
       "              'x': array([datetime.datetime(2014, 12, 31, 0, 0),\n",
       "                          datetime.datetime(2015, 1, 1, 0, 0),\n",
       "                          datetime.datetime(2015, 1, 2, 0, 0), ...,\n",
       "                          datetime.datetime(2018, 12, 28, 0, 0),\n",
       "                          datetime.datetime(2018, 12, 29, 0, 0),\n",
       "                          datetime.datetime(2018, 12, 31, 0, 0)], dtype=object),\n",
       "              'xaxis': 'x',\n",
       "              'y': array([62.09530747, 62.13971996, 62.18413244, ..., 65.87117388, 65.88273997,\n",
       "                          65.90587216]),\n",
       "              'yaxis': 'y'},\n",
       "             {'fill': 'none',\n",
       "              'line': {'color': '#2d92ff', 'width': 2},\n",
       "              'mode': 'lines',\n",
       "              'name': 'yearly',\n",
       "              'type': 'scatter',\n",
       "              'uid': '43c56611-baea-4395-b690-cc13e64793bc',\n",
       "              'x': array([datetime.datetime(2017, 1, 1, 0, 0),\n",
       "                          datetime.datetime(2017, 1, 2, 0, 0),\n",
       "                          datetime.datetime(2017, 1, 3, 0, 0), ...,\n",
       "                          datetime.datetime(2017, 12, 29, 0, 0),\n",
       "                          datetime.datetime(2017, 12, 30, 0, 0),\n",
       "                          datetime.datetime(2017, 12, 31, 0, 0)], dtype=object),\n",
       "              'xaxis': 'x2',\n",
       "              'y': array([0.24605495, 0.13820136, 0.04445028, ..., 0.6946325 , 0.541091  ,\n",
       "                          0.40134737], dtype=float32),\n",
       "              'yaxis': 'y2'},\n",
       "             {'fill': 'none',\n",
       "              'line': {'color': '#2d92ff', 'width': 2},\n",
       "              'mode': 'lines',\n",
       "              'name': 'weekly',\n",
       "              'type': 'scatter',\n",
       "              'uid': 'dde701f5-4a5c-451d-a93e-885a5be61763',\n",
       "              'x': array([  0,   1,   2,   3,   4,   5,   6,   7,   8,   9,  10,  11,  12,  13,\n",
       "                           14,  15,  16,  17,  18,  19,  20,  21,  22,  23,  24,  25,  26,  27,\n",
       "                           28,  29,  30,  31,  32,  33,  34,  35,  36,  37,  38,  39,  40,  41,\n",
       "                           42,  43,  44,  45,  46,  47,  48,  49,  50,  51,  52,  53,  54,  55,\n",
       "                           56,  57,  58,  59,  60,  61,  62,  63,  64,  65,  66,  67,  68,  69,\n",
       "                           70,  71,  72,  73,  74,  75,  76,  77,  78,  79,  80,  81,  82,  83,\n",
       "                           84,  85,  86,  87,  88,  89,  90,  91,  92,  93,  94,  95,  96,  97,\n",
       "                           98,  99, 100, 101, 102, 103, 104, 105, 106, 107, 108, 109, 110, 111,\n",
       "                          112, 113, 114, 115, 116, 117, 118, 119, 120, 121, 122, 123, 124, 125,\n",
       "                          126, 127, 128, 129, 130, 131, 132, 133, 134, 135, 136, 137, 138, 139,\n",
       "                          140, 141, 142, 143, 144, 145, 146, 147, 148, 149, 150, 151, 152, 153,\n",
       "                          154, 155, 156, 157, 158, 159, 160, 161, 162, 163, 164, 165, 166, 167]),\n",
       "              'xaxis': 'x3',\n",
       "              'y': array([-6.091425  , -5.888836  , -5.663644  , -5.4000497 , -5.1223035 ,\n",
       "                          -4.831418  , -4.5231433 , -4.199583  , -3.8427284 , -3.5009449 ,\n",
       "                          -3.144865  , -2.7828424 , -2.4025006 , -2.0146291 , -1.6564796 ,\n",
       "                          -1.2953075 , -0.94010055, -0.5803945 , -0.24854732,  0.07526911,\n",
       "                           0.40200844,  0.6942716 ,  0.979289  ,  1.2310765 ,  1.4694647 ,\n",
       "                           1.6878831 ,  1.8799701 ,  2.0649405 ,  2.217467  ,  2.3529649 ,\n",
       "                           2.4642475 ,  2.5505347 ,  2.6229057 ,  2.6698053 ,  2.7018352 ,\n",
       "                           2.7166243 ,  2.7112048 ,  2.691627  ,  2.6572523 ,  2.615313  ,\n",
       "                           2.5631225 ,  2.498325  ,  2.4267952 ,  2.3537045 ,  2.2735317 ,\n",
       "                           2.1916153 ,  2.1084595 ,  2.0278132 ,  1.9510233 ,  1.8762014 ,\n",
       "                           1.8092974 ,  1.7421364 ,  1.6823722 ,  1.6329017 ,  1.5921391 ,\n",
       "                           1.5591103 ,  1.5356933 ,  1.5219772 ,  1.5147843 ,  1.521256  ,\n",
       "                           1.5267199 ,  1.5494931 ,  1.5788007 ,  1.6111753 ,  1.6557387 ,\n",
       "                           1.6957933 ,  1.7485261 ,  1.8048866 ,  1.8623371 ,  1.9243792 ,\n",
       "                           1.9866953 ,  2.0404243 ,  2.100108  ,  2.154562  ,  2.2094405 ,\n",
       "                           2.2571409 ,  2.3030336 ,  2.344815  ,  2.3784304 ,  2.4063582 ,\n",
       "                           2.4285908 ,  2.4436736 ,  2.4527838 ,  2.4530349 ,  2.4478896 ,\n",
       "                           2.4367833 ,  2.4208238 ,  2.399645  ,  2.3685224 ,  2.334278  ,\n",
       "                           2.3035738 ,  2.262099  ,  2.220119  ,  2.1719315 ,  2.1245797 ,\n",
       "                           2.085556  ,  2.0385911 ,  1.9949573 ,  1.9510473 ,  1.9094193 ,\n",
       "                           1.8726851 ,  1.8408117 ,  1.8110994 ,  1.7840855 ,  1.7612845 ,\n",
       "                           1.7455639 ,  1.7308995 ,  1.7206883 ,  1.7137177 ,  1.7099652 ,\n",
       "                           1.7070763 ,  1.7076144 ,  1.708906  ,  1.7116195 ,  1.7103897 ,\n",
       "                           1.7067609 ,  1.7009932 ,  1.6923268 ,  1.6795428 ,  1.6555686 ,\n",
       "                           1.6235478 ,  1.5866847 ,  1.5398084 ,  1.4760402 ,  1.4007696 ,\n",
       "                           1.3108829 ,  1.2137934 ,  1.1002142 ,  0.9620831 ,  0.8132059 ,\n",
       "                           0.6549606 ,  0.47469264,  0.27545235,  0.05213514, -0.17621122,\n",
       "                          -0.41210613, -0.6682858 , -0.94507945, -1.2271956 , -1.512037  ,\n",
       "                          -1.8121816 , -2.1344998 , -2.4586973 , -2.7780206 , -3.089932  ,\n",
       "                          -3.4071143 , -3.7214062 , -4.0488796 , -4.3683677 , -4.6600027 ,\n",
       "                          -4.935742  , -5.2020345 , -5.4638705 , -5.6956472 , -5.9086905 ,\n",
       "                          -6.095695  , -6.2730227 , -6.421337  , -6.5355444 , -6.6242805 ,\n",
       "                          -6.6816835 , -6.7139244 , -6.7145386 , -6.685933  , -6.6247907 ,\n",
       "                          -6.535981  , -6.4107094 , -6.261738  ], dtype=float32),\n",
       "              'yaxis': 'y3'}],\n",
       "    'layout': {'autosize': True,\n",
       "               'font': {'size': 10},\n",
       "               'height': 630,\n",
       "               'hovermode': 'x unified',\n",
       "               'margin': {'b': 0, 'l': 0, 'pad': 0, 'r': 10, 't': 10},\n",
       "               'showlegend': False,\n",
       "               'template': '...',\n",
       "               'title': {'font': {'size': 12}},\n",
       "               'width': 700,\n",
       "               'xaxis': {'anchor': 'y',\n",
       "                         'domain': [0.0, 1.0],\n",
       "                         'linewidth': 1.5,\n",
       "                         'mirror': True,\n",
       "                         'range': [2014-10-19 00:00:00, 2019-03-14 00:00:00],\n",
       "                         'showline': True,\n",
       "                         'title': {'text': 'ds'},\n",
       "                         'type': 'date'},\n",
       "               'xaxis2': {'anchor': 'y2',\n",
       "                          'domain': [0.0, 1.0],\n",
       "                          'linewidth': 1.5,\n",
       "                          'mirror': True,\n",
       "                          'range': [2016-12-14 00:00:00, 2018-01-18 00:00:00],\n",
       "                          'showline': True,\n",
       "                          'tickformat': '%B %e',\n",
       "                          'title': {'text': 'Day of year'}},\n",
       "               'xaxis3': {'anchor': 'y3',\n",
       "                          'domain': [0.0, 1.0],\n",
       "                          'linewidth': 1.5,\n",
       "                          'mirror': True,\n",
       "                          'range': [-8, 175],\n",
       "                          'showline': True,\n",
       "                          'tickmode': 'array',\n",
       "                          'ticktext': [Sunday, Monday, Tuesday, Wednesday,\n",
       "                                       Thursday, Friday, Saturday, Sunday, Sunday],\n",
       "                          'tickvals': [0, 24, 48, 72, 96, 120, 144, 168, 192],\n",
       "                          'title': {'text': 'Day of week'}},\n",
       "               'yaxis': {'anchor': 'x',\n",
       "                         'domain': [0.7333333333333333, 1.0],\n",
       "                         'linewidth': 1.5,\n",
       "                         'mirror': True,\n",
       "                         'rangemode': 'normal',\n",
       "                         'showline': True,\n",
       "                         'title': {'text': 'Trend'}},\n",
       "               'yaxis2': {'anchor': 'x2',\n",
       "                          'domain': [0.36666666666666664, 0.6333333333333333],\n",
       "                          'linewidth': 1.5,\n",
       "                          'mirror': True,\n",
       "                          'rangemode': 'normal',\n",
       "                          'showline': True,\n",
       "                          'title': {'text': 'Seasonality: yearly'}},\n",
       "               'yaxis3': {'anchor': 'x3',\n",
       "                          'domain': [0.0, 0.26666666666666666],\n",
       "                          'linewidth': 1.5,\n",
       "                          'mirror': True,\n",
       "                          'rangemode': 'normal',\n",
       "                          'showline': True,\n",
       "                          'title': {'text': 'Seasonality: weekly'}}}\n",
       "})"
      ]
     },
     "execution_count": 6,
     "metadata": {},
     "output_type": "execute_result"
    }
   ],
   "source": [
    "m.plot_parameters(components=[\"trend\", \"seasonality\"])"
   ]
  },
  {
   "cell_type": "code",
   "execution_count": null,
   "id": "7295730b",
   "metadata": {},
   "outputs": [],
   "source": []
  },
  {
   "cell_type": "code",
   "execution_count": null,
   "id": "054fc1fc",
   "metadata": {},
   "outputs": [],
   "source": []
  },
  {
   "cell_type": "code",
   "execution_count": null,
   "id": "2bfdda0f",
   "metadata": {},
   "outputs": [],
   "source": []
  },
  {
   "cell_type": "code",
   "execution_count": null,
   "id": "05377d4e",
   "metadata": {},
   "outputs": [],
   "source": []
  },
  {
   "cell_type": "code",
   "execution_count": null,
   "id": "f576b1f8-16d6-498e-be0c-3d40e2e95b20",
   "metadata": {},
   "outputs": [],
   "source": []
  },
  {
   "cell_type": "code",
   "execution_count": null,
   "id": "19dd4736-ac51-4526-9369-fb3ad5cee536",
   "metadata": {},
   "outputs": [],
   "source": []
  }
 ],
 "metadata": {
  "kernelspec": {
   "display_name": "Python 3 (ipykernel)",
   "language": "python",
   "name": "python3"
  },
  "language_info": {
   "codemirror_mode": {
    "name": "ipython",
    "version": 3
   },
   "file_extension": ".py",
   "mimetype": "text/x-python",
   "name": "python",
   "nbconvert_exporter": "python",
   "pygments_lexer": "ipython3",
   "version": "3.11.7"
  }
 },
 "nbformat": 4,
 "nbformat_minor": 5
}
