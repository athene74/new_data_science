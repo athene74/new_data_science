{
 "cells": [
  {
   "cell_type": "markdown",
   "id": "9a361676",
   "metadata": {
    "hidden": true
   },
   "source": [
    "## 주요절차"
   ]
  },
  {
   "cell_type": "markdown",
   "id": "27585602",
   "metadata": {
    "hidden": true
   },
   "source": [
    "### 1. 초기데이터 확인"
   ]
  },
  {
   "cell_type": "markdown",
   "id": "f952717d-1c7e-4ec5-a2bf-85ec04cad815",
   "metadata": {
    "hidden": true
   },
   "source": [
    "#### 1-1. 데이터딕셔너리(각 열의 의미, 데이터의 의미해석관련 스펙 또는 메뉴얼) 확인\n",
    "#### 1-2 데이터 기초정보 확인 (사이즈, 열이름, 데이터형)\n",
    "\n",
    "유무 확인)차트 재확인 (이"
   ]
  },
  {
   "cell_type": "markdown",
   "id": "fc3d0eb7-3b2e-4204-944a-9287732085c9",
   "metadata": {},
   "source": [
    "* 기초통계정보 확인"
   ]
  },
  {
   "cell_type": "raw",
   "id": "66a43f0e-61a2-491f-96c6-5a54f3e52b50",
   "metadata": {
    "hidden": true
   },
   "source": [
    "기초 통계값 확인 ( df.describe() )\n",
    "[수치형 데이터]\r",
    " \n",
    "=> 수치데이터로서 의미가 는지 판단? \r\n",
    "=> 의미가 있는(예: 키, 몸무게, 가격등) 열에 대해 아래 작업 진행  분석\r\n",
    " - 확인해야 할 사항    수치상\r\n",
    "mean, min, 1q, 2q(중위값), 3q,게, 가격\r\n",
    " - 시각화\r\n",
    "  히스토그램, 박스플롯 (바이올린플롯)\r\n",
    " - 이상치 유무 확인\r\n",
    " - 이상치가 있다면 보정방식을 선택\r\n",
    "  (예: 삭제, 포함)\r\n",
    "- 기초통계값과, 차트 재확인 (이상\n",
    "[보정  데이터]유무 확인)\r\n",
    "- 문자열\r\n",
    " => unique의 결과값에서 파이차트나 막대차트로 그릴수  - 있는 열이 있는지 확인\r\n",
    " 10개미만은 파이차트,  - 도우넛차트 그리기에 용이\r\n",
    " 10개상위 은 파이차트, 막대차트(Top3,5,10 등을 도출.. 그리고 형 데이터나하위 데이터3,5,10)\r\n",
    "\r\n",
    "* 수치 문자 중에 범위화 할 \n",
    " 예)수 있는 열이 있는지 확인해 보자\r\n",
    " 가격=> 초고가, 고가,위 작업은  일반, 저가\r\n",
    " 주소 추후 진행할 수 있다.pply 함수를 통해\r",
    "ly 함수를 통해"
   ]
  },
  {
   "cell_type": "markdown",
   "id": "2ebab032",
   "metadata": {
    "hidden": true
   },
   "source": [
    "### 2. 데이터 정제"
   ]
  },
  {
   "cell_type": "markdown",
   "id": "39e200d0",
   "metadata": {
    "hidden": true
   },
   "source": [
    "#### 2.1. 원본데이터에서 분석가능한 형태로 데이터 전처리 (형변환, 열이름 변경등)\n",
    "#### 2.2. 데이터 클리닝: 이상치, 결측치처리"
   ]
  },
  {
   "cell_type": "markdown",
   "id": "4e60e3f3",
   "metadata": {
    "hidden": true
   },
   "source": [
    "### 3. 초기데이터 분석"
   ]
  },
  {
   "cell_type": "markdown",
   "id": "82e0a525",
   "metadata": {
    "hidden": true
   },
   "source": [
    "#### 3.1 데이터 정제후 데이터딕셔너리 재확인\n",
    "#### 3.2 기초통계 정보 확인 (최대값, 최소값, 평균값, 표준편차, 최빈값, 유일값 등)\n",
    "#### 3.3 시각화를 통한 데이터이해 심화 "
   ]
  },
  {
   "cell_type": "markdown",
   "id": "87e87a59",
   "metadata": {
    "hidden": true
   },
   "source": [
    "* 3.3.1 단일 열: 데이터의 성격에 따른 다양한 차트 적용  \n",
    "* 3.3.2 복수 열: 두개의 열간 연관관계 분석(Pair Plot 또는 Seaborn의 관련 지원 차트등)"
   ]
  },
  {
   "cell_type": "markdown",
   "id": "1016da18-a38d-4677-942d-ff8e13f2dfad",
   "metadata": {},
   "source": [
    "#### 3.4 데이터 분석 결과도출"
   ]
  },
  {
   "cell_type": "markdown",
   "id": "bc23d74d-a4cc-443f-984c-2ea493b3dd09",
   "metadata": {},
   "source": [
    "# 4. 탐색적연구"
   ]
  },
  {
   "cell_type": "markdown",
   "id": "6e717d77-89a2-4fd0-9e0a-8ce5527d3df9",
   "metadata": {},
   "source": [
    "#### Step1] 가설: 데이터 분석을 위한 목적, 대상 또는 가설을 세워본다.\n",
    "* 예) 나이와 월급간에 상관관계가 있을 것이다. (40~60대 사이에서 급여가 가장 높을 것이다)"
   ]
  },
  {
   "cell_type": "markdown",
   "id": "9d6bac36-33db-4150-bd7b-f4fa89a4ca08",
   "metadata": {},
   "source": [
    "#### Step2] 가설증명: 데이터 재 구조화, 시각화를 통해 새로운 insight 및 정보를 습득 및 가설을 검증한다. \n",
    "* 예) 나이별 월급에 대한 평균값을 구하고 line차트로 시각화하여 추세를 파악하여 가설을 검증한다."
   ]
  },
  {
   "cell_type": "markdown",
   "id": "385db4a9-bf48-4479-ac65-5813098ad3ea",
   "metadata": {},
   "source": [
    "#### Step3] 가설결론: 해당 가설에 대한 결론을 내린다."
   ]
  },
  {
   "cell_type": "markdown",
   "id": "7e7cc94c-59b6-4627-8844-bd50cf3de83f",
   "metadata": {},
   "source": [
    "#### Step4] 탐색적연구 반복: 시간 일정이 허락하는 범위내에서 Step1~Step3를 반복한다."
   ]
  },
  {
   "cell_type": "markdown",
   "id": "49634c1e-98c1-4371-a3ad-935514955cdf",
   "metadata": {},
   "source": [
    "#### Step5] 최종결론: 지금까지 진행했던 모든 탐색적연구의 결과를 반영하여 최종 결론을 내린다."
   ]
  },
  {
   "cell_type": "markdown",
   "id": "624a871d-49ea-4629-a260-dce13da1669e",
   "metadata": {},
   "source": [
    "---"
   ]
  },
  {
   "cell_type": "markdown",
   "id": "1ef49c0d-2e75-4bde-879a-4298d3d445bf",
   "metadata": {},
   "source": [
    "---"
   ]
  },
  {
   "cell_type": "markdown",
   "id": "d98ee251",
   "metadata": {},
   "source": [
    "# 데이터분석 적용 실습 템플릿"
   ]
  },
  {
   "cell_type": "markdown",
   "id": "f8da427d-85b4-44a9-8655-292cd4c31cb9",
   "metadata": {},
   "source": [
    "* 필요한 모듈 import"
   ]
  },
  {
   "cell_type": "code",
   "execution_count": 1,
   "id": "abb74b19-d95f-4150-b354-d62577ac727a",
   "metadata": {},
   "outputs": [],
   "source": [
    "import pandas as pd\n",
    "import numpy as np\n",
    "import matplotlib.pyplot as plt\n",
    "import seaborn as sns\n",
    "from matplotlib import font_manager,rc\n",
    "\n",
    "import random\n",
    "\n",
    "font_location = \"C:\\Windows\\Fonts\\malgun.ttf\"\n",
    "font_name = font_manager.FontProperties(fname=font_location).get_name()\n",
    "rc('font',family=font_name)\n",
    "plt.rcParams['axes.unicode_minus'] = False"
   ]
  },
  {
   "cell_type": "markdown",
   "id": "0521bf67",
   "metadata": {},
   "source": [
    "## 데이터 수집"
   ]
  },
  {
   "cell_type": "markdown",
   "id": "3bdd7450-2a70-4775-a399-07e94f8e48c7",
   "metadata": {},
   "source": [
    "* 데이터 소스"
   ]
  },
  {
   "cell_type": "raw",
   "id": "3d9332aa-100f-4e3e-8241-669ad21a68ce",
   "metadata": {},
   "source": [
    "https://www.koweps.re.kr:442/data/data/list.do"
   ]
  },
  {
   "cell_type": "code",
   "execution_count": 3,
   "id": "46c5eafe",
   "metadata": {},
   "outputs": [],
   "source": [
    "# 데이터 소스를 확보하세요\n",
    "raw_welfare = pd.read_spss('Koweps_hpwc14_2019_beta2.sav')\n",
    "# 복사본 만들기 \n",
    "welfare = raw_welfare.copy()"
   ]
  },
  {
   "cell_type": "markdown",
   "id": "c3b597f4",
   "metadata": {},
   "source": [
    "## 1. 초기데이터 확인"
   ]
  },
  {
   "cell_type": "markdown",
   "id": "0c3c91be",
   "metadata": {},
   "source": [
    "### 1-1. 데이터스키마 확인"
   ]
  },
  {
   "cell_type": "markdown",
   "id": "16b49047-50c3-4ff3-9417-edb92d59b2d4",
   "metadata": {},
   "source": [
    "#### 각 열의 의미, 데이터의 의미해석관련 스펙 또는 메뉴얼을 확인 가능시 진행 하세요\n",
    "* A열: A열의 의미를 기술\n",
    "* B열: B열의 의미를 기술  \n",
    "..."
   ]
  },
  {
   "cell_type": "markdown",
   "id": "9c5c552a-3e13-4fac-a39f-c20fcc98dd9d",
   "metadata": {},
   "source": [
    "[전체스키마_정의 엑셀파일](./14차_머지데이터_변수명.xlsx)\n"
   ]
  },
  {
   "cell_type": "markdown",
   "id": "b47cc673-4b4c-4ba1-9c28-fadd1cc5a2ce",
   "metadata": {},
   "source": [
    "[주요_정의 엑셀파일](./Koweps_Codebook_2019.xlsx)"
   ]
  },
  {
   "cell_type": "markdown",
   "id": "913979f3",
   "metadata": {},
   "source": [
    "### 1-2. 데이터 기초정보 확인"
   ]
  },
  {
   "cell_type": "markdown",
   "id": "1e03acff-a002-4e37-be88-5d36d4706630",
   "metadata": {},
   "source": [
    "* 사이즈, 데이터형, 기초통계항목등을 확인하세요  "
   ]
  },
  {
   "cell_type": "code",
   "execution_count": 4,
   "id": "4213881a-92fb-4064-af2a-25bc73e4299e",
   "metadata": {},
   "outputs": [
    {
     "data": {
      "text/plain": [
       "(14418, 830)"
      ]
     },
     "execution_count": 4,
     "metadata": {},
     "output_type": "execute_result"
    }
   ],
   "source": [
    "#df.shape\n",
    "#df.info()\n",
    "\n",
    "welfare.shape"
   ]
  },
  {
   "cell_type": "code",
   "execution_count": 5,
   "id": "50ba0ef0-6728-482d-8e06-8a1e6f39279a",
   "metadata": {},
   "outputs": [
    {
     "name": "stdout",
     "output_type": "stream",
     "text": [
      "<class 'pandas.core.frame.DataFrame'>\n",
      "RangeIndex: 14418 entries, 0 to 14417\n",
      "Columns: 830 entries, h14_id to h14_pers_income5\n",
      "dtypes: float64(826), object(4)\n",
      "memory usage: 91.3+ MB\n"
     ]
    }
   ],
   "source": [
    "welfare.info()"
   ]
  },
  {
   "cell_type": "markdown",
   "id": "8d2984b9-6715-49a2-8583-d9583b38b857",
   "metadata": {},
   "source": [
    "* 기초통계항목"
   ]
  },
  {
   "cell_type": "code",
   "execution_count": 6,
   "id": "0229cd7e-04ee-46e2-882b-c9b012a2a317",
   "metadata": {},
   "outputs": [
    {
     "data": {
      "text/html": [
       "<div>\n",
       "<style scoped>\n",
       "    .dataframe tbody tr th:only-of-type {\n",
       "        vertical-align: middle;\n",
       "    }\n",
       "\n",
       "    .dataframe tbody tr th {\n",
       "        vertical-align: top;\n",
       "    }\n",
       "\n",
       "    .dataframe thead th {\n",
       "        text-align: right;\n",
       "    }\n",
       "</style>\n",
       "<table border=\"1\" class=\"dataframe\">\n",
       "  <thead>\n",
       "    <tr style=\"text-align: right;\">\n",
       "      <th></th>\n",
       "      <th>h14_id</th>\n",
       "      <th>h14_ind</th>\n",
       "      <th>h14_sn</th>\n",
       "      <th>h14_merkey</th>\n",
       "      <th>h_new</th>\n",
       "      <th>h14_cobf</th>\n",
       "      <th>p14_wsc</th>\n",
       "      <th>p14_wsl</th>\n",
       "      <th>p14_wgc</th>\n",
       "      <th>p14_wgl</th>\n",
       "      <th>...</th>\n",
       "      <th>wc14_63</th>\n",
       "      <th>wc14_64</th>\n",
       "      <th>wc14_5aq4</th>\n",
       "      <th>wc14_5aq5</th>\n",
       "      <th>wc14_5aq6</th>\n",
       "      <th>h14_pers_income1</th>\n",
       "      <th>h14_pers_income2</th>\n",
       "      <th>h14_pers_income3</th>\n",
       "      <th>h14_pers_income4</th>\n",
       "      <th>h14_pers_income5</th>\n",
       "    </tr>\n",
       "  </thead>\n",
       "  <tbody>\n",
       "    <tr>\n",
       "      <th>count</th>\n",
       "      <td>14418.000000</td>\n",
       "      <td>14418.000000</td>\n",
       "      <td>14418.000000</td>\n",
       "      <td>1.441800e+04</td>\n",
       "      <td>14418.000000</td>\n",
       "      <td>121.000000</td>\n",
       "      <td>11513.000000</td>\n",
       "      <td>11513.000000</td>\n",
       "      <td>11513.000000</td>\n",
       "      <td>11513.000000</td>\n",
       "      <td>...</td>\n",
       "      <td>2027.000000</td>\n",
       "      <td>2027.000000</td>\n",
       "      <td>2027.000000</td>\n",
       "      <td>2027.000000</td>\n",
       "      <td>2027.000000</td>\n",
       "      <td>2659.000000</td>\n",
       "      <td>3331.000000</td>\n",
       "      <td>989.000000</td>\n",
       "      <td>14418.000000</td>\n",
       "      <td>715.000000</td>\n",
       "    </tr>\n",
       "    <tr>\n",
       "      <th>mean</th>\n",
       "      <td>4672.108406</td>\n",
       "      <td>3.121723</td>\n",
       "      <td>1.004855</td>\n",
       "      <td>4.672140e+07</td>\n",
       "      <td>0.201484</td>\n",
       "      <td>2.256198</td>\n",
       "      <td>1.000000</td>\n",
       "      <td>1.000000</td>\n",
       "      <td>4484.952219</td>\n",
       "      <td>4484.952541</td>\n",
       "      <td>...</td>\n",
       "      <td>3.211643</td>\n",
       "      <td>3.743957</td>\n",
       "      <td>3.513567</td>\n",
       "      <td>4.100641</td>\n",
       "      <td>3.233350</td>\n",
       "      <td>4141.380594</td>\n",
       "      <td>1389.440408</td>\n",
       "      <td>3457.835187</td>\n",
       "      <td>2.038702</td>\n",
       "      <td>1183.292308</td>\n",
       "    </tr>\n",
       "    <tr>\n",
       "      <th>std</th>\n",
       "      <td>2792.998128</td>\n",
       "      <td>3.297963</td>\n",
       "      <td>0.143205</td>\n",
       "      <td>2.793014e+07</td>\n",
       "      <td>0.401123</td>\n",
       "      <td>1.675952</td>\n",
       "      <td>0.906021</td>\n",
       "      <td>1.016782</td>\n",
       "      <td>4063.459773</td>\n",
       "      <td>4560.218659</td>\n",
       "      <td>...</td>\n",
       "      <td>2.174768</td>\n",
       "      <td>3.138629</td>\n",
       "      <td>1.045929</td>\n",
       "      <td>0.937712</td>\n",
       "      <td>1.289456</td>\n",
       "      <td>2583.755449</td>\n",
       "      <td>1211.910836</td>\n",
       "      <td>6619.516319</td>\n",
       "      <td>32.965477</td>\n",
       "      <td>2147.418274</td>\n",
       "    </tr>\n",
       "    <tr>\n",
       "      <th>min</th>\n",
       "      <td>2.000000</td>\n",
       "      <td>1.000000</td>\n",
       "      <td>1.000000</td>\n",
       "      <td>2.010100e+04</td>\n",
       "      <td>0.000000</td>\n",
       "      <td>1.000000</td>\n",
       "      <td>0.001998</td>\n",
       "      <td>0.000000</td>\n",
       "      <td>8.960093</td>\n",
       "      <td>0.000000</td>\n",
       "      <td>...</td>\n",
       "      <td>1.000000</td>\n",
       "      <td>1.000000</td>\n",
       "      <td>1.000000</td>\n",
       "      <td>1.000000</td>\n",
       "      <td>1.000000</td>\n",
       "      <td>0.000000</td>\n",
       "      <td>0.000000</td>\n",
       "      <td>-47000.000000</td>\n",
       "      <td>0.000000</td>\n",
       "      <td>-10600.000000</td>\n",
       "    </tr>\n",
       "    <tr>\n",
       "      <th>25%</th>\n",
       "      <td>2356.000000</td>\n",
       "      <td>1.000000</td>\n",
       "      <td>1.000000</td>\n",
       "      <td>2.356030e+07</td>\n",
       "      <td>0.000000</td>\n",
       "      <td>1.000000</td>\n",
       "      <td>0.341814</td>\n",
       "      <td>0.269286</td>\n",
       "      <td>1533.021553</td>\n",
       "      <td>1207.736094</td>\n",
       "      <td>...</td>\n",
       "      <td>1.000000</td>\n",
       "      <td>2.000000</td>\n",
       "      <td>3.000000</td>\n",
       "      <td>4.000000</td>\n",
       "      <td>2.000000</td>\n",
       "      <td>2448.000000</td>\n",
       "      <td>391.500000</td>\n",
       "      <td>1000.000000</td>\n",
       "      <td>0.000000</td>\n",
       "      <td>206.000000</td>\n",
       "    </tr>\n",
       "    <tr>\n",
       "      <th>50%</th>\n",
       "      <td>4535.000000</td>\n",
       "      <td>1.000000</td>\n",
       "      <td>1.000000</td>\n",
       "      <td>4.535010e+07</td>\n",
       "      <td>0.000000</td>\n",
       "      <td>2.000000</td>\n",
       "      <td>0.726304</td>\n",
       "      <td>0.704045</td>\n",
       "      <td>3257.436901</td>\n",
       "      <td>3157.609630</td>\n",
       "      <td>...</td>\n",
       "      <td>3.000000</td>\n",
       "      <td>3.000000</td>\n",
       "      <td>4.000000</td>\n",
       "      <td>4.000000</td>\n",
       "      <td>3.000000</td>\n",
       "      <td>3540.000000</td>\n",
       "      <td>1116.000000</td>\n",
       "      <td>2498.000000</td>\n",
       "      <td>0.000000</td>\n",
       "      <td>530.000000</td>\n",
       "    </tr>\n",
       "    <tr>\n",
       "      <th>75%</th>\n",
       "      <td>6616.000000</td>\n",
       "      <td>7.000000</td>\n",
       "      <td>1.000000</td>\n",
       "      <td>6.616010e+07</td>\n",
       "      <td>0.000000</td>\n",
       "      <td>2.000000</td>\n",
       "      <td>1.366071</td>\n",
       "      <td>1.390045</td>\n",
       "      <td>6126.762919</td>\n",
       "      <td>6234.287538</td>\n",
       "      <td>...</td>\n",
       "      <td>5.000000</td>\n",
       "      <td>5.000000</td>\n",
       "      <td>4.000000</td>\n",
       "      <td>5.000000</td>\n",
       "      <td>4.000000</td>\n",
       "      <td>5378.500000</td>\n",
       "      <td>2040.000000</td>\n",
       "      <td>4687.000000</td>\n",
       "      <td>0.000000</td>\n",
       "      <td>1295.000000</td>\n",
       "    </tr>\n",
       "    <tr>\n",
       "      <th>max</th>\n",
       "      <td>9800.000000</td>\n",
       "      <td>14.000000</td>\n",
       "      <td>9.000000</td>\n",
       "      <td>9.800070e+07</td>\n",
       "      <td>1.000000</td>\n",
       "      <td>7.000000</td>\n",
       "      <td>4.727006</td>\n",
       "      <td>5.790039</td>\n",
       "      <td>21200.393903</td>\n",
       "      <td>25968.049029</td>\n",
       "      <td>...</td>\n",
       "      <td>9.000000</td>\n",
       "      <td>99.000000</td>\n",
       "      <td>9.000000</td>\n",
       "      <td>9.000000</td>\n",
       "      <td>9.000000</td>\n",
       "      <td>22700.000000</td>\n",
       "      <td>11500.000000</td>\n",
       "      <td>170000.000000</td>\n",
       "      <td>3000.000000</td>\n",
       "      <td>22644.000000</td>\n",
       "    </tr>\n",
       "  </tbody>\n",
       "</table>\n",
       "<p>8 rows × 826 columns</p>\n",
       "</div>"
      ],
      "text/plain": [
       "             h14_id       h14_ind        h14_sn    h14_merkey         h_new  \\\n",
       "count  14418.000000  14418.000000  14418.000000  1.441800e+04  14418.000000   \n",
       "mean    4672.108406      3.121723      1.004855  4.672140e+07      0.201484   \n",
       "std     2792.998128      3.297963      0.143205  2.793014e+07      0.401123   \n",
       "min        2.000000      1.000000      1.000000  2.010100e+04      0.000000   \n",
       "25%     2356.000000      1.000000      1.000000  2.356030e+07      0.000000   \n",
       "50%     4535.000000      1.000000      1.000000  4.535010e+07      0.000000   \n",
       "75%     6616.000000      7.000000      1.000000  6.616010e+07      0.000000   \n",
       "max     9800.000000     14.000000      9.000000  9.800070e+07      1.000000   \n",
       "\n",
       "         h14_cobf       p14_wsc       p14_wsl       p14_wgc       p14_wgl  \\\n",
       "count  121.000000  11513.000000  11513.000000  11513.000000  11513.000000   \n",
       "mean     2.256198      1.000000      1.000000   4484.952219   4484.952541   \n",
       "std      1.675952      0.906021      1.016782   4063.459773   4560.218659   \n",
       "min      1.000000      0.001998      0.000000      8.960093      0.000000   \n",
       "25%      1.000000      0.341814      0.269286   1533.021553   1207.736094   \n",
       "50%      2.000000      0.726304      0.704045   3257.436901   3157.609630   \n",
       "75%      2.000000      1.366071      1.390045   6126.762919   6234.287538   \n",
       "max      7.000000      4.727006      5.790039  21200.393903  25968.049029   \n",
       "\n",
       "       ...      wc14_63      wc14_64    wc14_5aq4    wc14_5aq5    wc14_5aq6  \\\n",
       "count  ...  2027.000000  2027.000000  2027.000000  2027.000000  2027.000000   \n",
       "mean   ...     3.211643     3.743957     3.513567     4.100641     3.233350   \n",
       "std    ...     2.174768     3.138629     1.045929     0.937712     1.289456   \n",
       "min    ...     1.000000     1.000000     1.000000     1.000000     1.000000   \n",
       "25%    ...     1.000000     2.000000     3.000000     4.000000     2.000000   \n",
       "50%    ...     3.000000     3.000000     4.000000     4.000000     3.000000   \n",
       "75%    ...     5.000000     5.000000     4.000000     5.000000     4.000000   \n",
       "max    ...     9.000000    99.000000     9.000000     9.000000     9.000000   \n",
       "\n",
       "       h14_pers_income1  h14_pers_income2  h14_pers_income3  h14_pers_income4  \\\n",
       "count       2659.000000       3331.000000        989.000000      14418.000000   \n",
       "mean        4141.380594       1389.440408       3457.835187          2.038702   \n",
       "std         2583.755449       1211.910836       6619.516319         32.965477   \n",
       "min            0.000000          0.000000     -47000.000000          0.000000   \n",
       "25%         2448.000000        391.500000       1000.000000          0.000000   \n",
       "50%         3540.000000       1116.000000       2498.000000          0.000000   \n",
       "75%         5378.500000       2040.000000       4687.000000          0.000000   \n",
       "max        22700.000000      11500.000000     170000.000000       3000.000000   \n",
       "\n",
       "       h14_pers_income5  \n",
       "count        715.000000  \n",
       "mean        1183.292308  \n",
       "std         2147.418274  \n",
       "min       -10600.000000  \n",
       "25%          206.000000  \n",
       "50%          530.000000  \n",
       "75%         1295.000000  \n",
       "max        22644.000000  \n",
       "\n",
       "[8 rows x 826 columns]"
      ]
     },
     "execution_count": 6,
     "metadata": {},
     "output_type": "execute_result"
    }
   ],
   "source": [
    "# df.desribe()\n",
    "welfare.describe()"
   ]
  },
  {
   "cell_type": "markdown",
   "id": "c2e13829",
   "metadata": {},
   "source": [
    "## 2. 데이터 정제"
   ]
  },
  {
   "cell_type": "markdown",
   "id": "7eedb11e",
   "metadata": {},
   "source": [
    "### 2-1. 간단한 데이터 전처리"
   ]
  },
  {
   "cell_type": "code",
   "execution_count": 7,
   "id": "5fd51a76",
   "metadata": {},
   "outputs": [],
   "source": [
    "# 원본데이터로에서 읽기 가능한 형태로 데이터처리를 하세요. (열이름 변경, 형변환 등)\n",
    "welfare = welfare[['h14_g3','h14_g4','h14_g10','h14_g11','p1402_8aq1','h14_eco9','h14_reg7']]"
   ]
  },
  {
   "cell_type": "code",
   "execution_count": 11,
   "id": "1c9709d9-ae26-49d4-bbce-61b4bfa7d6a3",
   "metadata": {},
   "outputs": [],
   "source": [
    "# 열 이름 변경하여 가독성 높이기\n",
    "welfare = welfare.rename(columns = {'h14_g3'     : 'sex',            #  성별\n",
    "                                    'h14_g4'     : 'birth',          #  태어난 연도\n",
    "                                    'h14_g10'    : 'marriage_type',  #  혼인 상태\n",
    "                                    'h14_g11'    : 'religion',       #  종교 유무 \n",
    "                                    'p1402_8aq1' : 'income',         #  월급 \n",
    "                                    'h14_eco9'   : 'code_job',       #  직업 코드\n",
    "                                    'h14_reg7'   : 'code_region'})   #  지역 코드"
   ]
  },
  {
   "cell_type": "code",
   "execution_count": 14,
   "id": "9b4edcb8-f07b-4b1c-8ab4-397c1fca2fa0",
   "metadata": {},
   "outputs": [
    {
     "data": {
      "text/html": [
       "<div>\n",
       "<style scoped>\n",
       "    .dataframe tbody tr th:only-of-type {\n",
       "        vertical-align: middle;\n",
       "    }\n",
       "\n",
       "    .dataframe tbody tr th {\n",
       "        vertical-align: top;\n",
       "    }\n",
       "\n",
       "    .dataframe thead th {\n",
       "        text-align: right;\n",
       "    }\n",
       "</style>\n",
       "<table border=\"1\" class=\"dataframe\">\n",
       "  <thead>\n",
       "    <tr style=\"text-align: right;\">\n",
       "      <th></th>\n",
       "      <th>sex</th>\n",
       "      <th>birth</th>\n",
       "      <th>marriage_type</th>\n",
       "      <th>religion</th>\n",
       "      <th>income</th>\n",
       "      <th>code_job</th>\n",
       "      <th>code_region</th>\n",
       "    </tr>\n",
       "  </thead>\n",
       "  <tbody>\n",
       "    <tr>\n",
       "      <th>0</th>\n",
       "      <td>2.0</td>\n",
       "      <td>1945.0</td>\n",
       "      <td>2.0</td>\n",
       "      <td>1.0</td>\n",
       "      <td>NaN</td>\n",
       "      <td>NaN</td>\n",
       "      <td>1.0</td>\n",
       "    </tr>\n",
       "    <tr>\n",
       "      <th>1</th>\n",
       "      <td>1.0</td>\n",
       "      <td>1948.0</td>\n",
       "      <td>2.0</td>\n",
       "      <td>2.0</td>\n",
       "      <td>NaN</td>\n",
       "      <td>NaN</td>\n",
       "      <td>1.0</td>\n",
       "    </tr>\n",
       "    <tr>\n",
       "      <th>2</th>\n",
       "      <td>1.0</td>\n",
       "      <td>1942.0</td>\n",
       "      <td>3.0</td>\n",
       "      <td>1.0</td>\n",
       "      <td>107.0</td>\n",
       "      <td>762.0</td>\n",
       "      <td>1.0</td>\n",
       "    </tr>\n",
       "    <tr>\n",
       "      <th>3</th>\n",
       "      <td>1.0</td>\n",
       "      <td>1962.0</td>\n",
       "      <td>1.0</td>\n",
       "      <td>1.0</td>\n",
       "      <td>192.0</td>\n",
       "      <td>855.0</td>\n",
       "      <td>1.0</td>\n",
       "    </tr>\n",
       "    <tr>\n",
       "      <th>4</th>\n",
       "      <td>2.0</td>\n",
       "      <td>1963.0</td>\n",
       "      <td>1.0</td>\n",
       "      <td>1.0</td>\n",
       "      <td>NaN</td>\n",
       "      <td>NaN</td>\n",
       "      <td>1.0</td>\n",
       "    </tr>\n",
       "    <tr>\n",
       "      <th>...</th>\n",
       "      <td>...</td>\n",
       "      <td>...</td>\n",
       "      <td>...</td>\n",
       "      <td>...</td>\n",
       "      <td>...</td>\n",
       "      <td>...</td>\n",
       "      <td>...</td>\n",
       "    </tr>\n",
       "    <tr>\n",
       "      <th>14413</th>\n",
       "      <td>2.0</td>\n",
       "      <td>1967.0</td>\n",
       "      <td>1.0</td>\n",
       "      <td>1.0</td>\n",
       "      <td>NaN</td>\n",
       "      <td>NaN</td>\n",
       "      <td>5.0</td>\n",
       "    </tr>\n",
       "    <tr>\n",
       "      <th>14414</th>\n",
       "      <td>2.0</td>\n",
       "      <td>1992.0</td>\n",
       "      <td>5.0</td>\n",
       "      <td>1.0</td>\n",
       "      <td>NaN</td>\n",
       "      <td>NaN</td>\n",
       "      <td>5.0</td>\n",
       "    </tr>\n",
       "    <tr>\n",
       "      <th>14415</th>\n",
       "      <td>1.0</td>\n",
       "      <td>1995.0</td>\n",
       "      <td>5.0</td>\n",
       "      <td>1.0</td>\n",
       "      <td>NaN</td>\n",
       "      <td>910.0</td>\n",
       "      <td>5.0</td>\n",
       "    </tr>\n",
       "    <tr>\n",
       "      <th>14416</th>\n",
       "      <td>2.0</td>\n",
       "      <td>1998.0</td>\n",
       "      <td>5.0</td>\n",
       "      <td>1.0</td>\n",
       "      <td>200.0</td>\n",
       "      <td>246.0</td>\n",
       "      <td>5.0</td>\n",
       "    </tr>\n",
       "    <tr>\n",
       "      <th>14417</th>\n",
       "      <td>1.0</td>\n",
       "      <td>2001.0</td>\n",
       "      <td>0.0</td>\n",
       "      <td>1.0</td>\n",
       "      <td>NaN</td>\n",
       "      <td>NaN</td>\n",
       "      <td>5.0</td>\n",
       "    </tr>\n",
       "  </tbody>\n",
       "</table>\n",
       "<p>14418 rows × 7 columns</p>\n",
       "</div>"
      ],
      "text/plain": [
       "       sex   birth  marriage_type  religion  income  code_job  code_region\n",
       "0      2.0  1945.0            2.0       1.0     NaN       NaN          1.0\n",
       "1      1.0  1948.0            2.0       2.0     NaN       NaN          1.0\n",
       "2      1.0  1942.0            3.0       1.0   107.0     762.0          1.0\n",
       "3      1.0  1962.0            1.0       1.0   192.0     855.0          1.0\n",
       "4      2.0  1963.0            1.0       1.0     NaN       NaN          1.0\n",
       "...    ...     ...            ...       ...     ...       ...          ...\n",
       "14413  2.0  1967.0            1.0       1.0     NaN       NaN          5.0\n",
       "14414  2.0  1992.0            5.0       1.0     NaN       NaN          5.0\n",
       "14415  1.0  1995.0            5.0       1.0     NaN     910.0          5.0\n",
       "14416  2.0  1998.0            5.0       1.0   200.0     246.0          5.0\n",
       "14417  1.0  2001.0            0.0       1.0     NaN       NaN          5.0\n",
       "\n",
       "[14418 rows x 7 columns]"
      ]
     },
     "execution_count": 14,
     "metadata": {},
     "output_type": "execute_result"
    }
   ],
   "source": [
    "# head와 tail 동시에 보기\n",
    "welfare"
   ]
  },
  {
   "cell_type": "code",
   "execution_count": 12,
   "id": "2fd6ed27-bd22-47da-9200-cded10c130ea",
   "metadata": {},
   "outputs": [
    {
     "data": {
      "text/plain": [
       "(14418, 7)"
      ]
     },
     "execution_count": 12,
     "metadata": {},
     "output_type": "execute_result"
    }
   ],
   "source": [
    "welfare.shape"
   ]
  },
  {
   "cell_type": "code",
   "execution_count": 13,
   "id": "ef15e977-1120-4d94-96a2-822b6124c384",
   "metadata": {},
   "outputs": [
    {
     "name": "stdout",
     "output_type": "stream",
     "text": [
      "<class 'pandas.core.frame.DataFrame'>\n",
      "RangeIndex: 14418 entries, 0 to 14417\n",
      "Data columns (total 7 columns):\n",
      " #   Column         Non-Null Count  Dtype  \n",
      "---  ------         --------------  -----  \n",
      " 0   sex            14418 non-null  float64\n",
      " 1   birth          14418 non-null  float64\n",
      " 2   marriage_type  14418 non-null  float64\n",
      " 3   religion       14418 non-null  float64\n",
      " 4   income         4534 non-null   float64\n",
      " 5   code_job       6878 non-null   float64\n",
      " 6   code_region    14418 non-null  float64\n",
      "dtypes: float64(7)\n",
      "memory usage: 788.6 KB\n"
     ]
    }
   ],
   "source": [
    "welfare.info()"
   ]
  },
  {
   "cell_type": "markdown",
   "id": "cfa0f4f4",
   "metadata": {},
   "source": [
    "### 2-2. 데이터 클리닝"
   ]
  },
  {
   "cell_type": "code",
   "execution_count": 6,
   "id": "81050694",
   "metadata": {},
   "outputs": [],
   "source": [
    "# 결측치, 중복값, 이상치 처리등의 작업을 진행하세요"
   ]
  },
  {
   "cell_type": "code",
   "execution_count": 22,
   "id": "9b7c8077-3325-4770-9cb4-58cdb76e78ee",
   "metadata": {},
   "outputs": [
    {
     "data": {
      "text/html": [
       "<div>\n",
       "<style scoped>\n",
       "    .dataframe tbody tr th:only-of-type {\n",
       "        vertical-align: middle;\n",
       "    }\n",
       "\n",
       "    .dataframe tbody tr th {\n",
       "        vertical-align: top;\n",
       "    }\n",
       "\n",
       "    .dataframe thead th {\n",
       "        text-align: right;\n",
       "    }\n",
       "</style>\n",
       "<table border=\"1\" class=\"dataframe\">\n",
       "  <thead>\n",
       "    <tr style=\"text-align: right;\">\n",
       "      <th></th>\n",
       "      <th>sex</th>\n",
       "      <th>birth</th>\n",
       "      <th>marriage_type</th>\n",
       "      <th>religion</th>\n",
       "      <th>income</th>\n",
       "      <th>code_job</th>\n",
       "      <th>code_region</th>\n",
       "    </tr>\n",
       "  </thead>\n",
       "  <tbody>\n",
       "    <tr>\n",
       "      <th>count</th>\n",
       "      <td>14418.000000</td>\n",
       "      <td>14418.000000</td>\n",
       "      <td>14418.000000</td>\n",
       "      <td>14418.000000</td>\n",
       "      <td>4534.000000</td>\n",
       "      <td>6878.00000</td>\n",
       "      <td>14418.000000</td>\n",
       "    </tr>\n",
       "    <tr>\n",
       "      <th>mean</th>\n",
       "      <td>1.548828</td>\n",
       "      <td>1969.280205</td>\n",
       "      <td>1.764184</td>\n",
       "      <td>1.542031</td>\n",
       "      <td>268.455007</td>\n",
       "      <td>587.54827</td>\n",
       "      <td>3.730684</td>\n",
       "    </tr>\n",
       "    <tr>\n",
       "      <th>std</th>\n",
       "      <td>0.497627</td>\n",
       "      <td>24.402250</td>\n",
       "      <td>1.613871</td>\n",
       "      <td>0.498248</td>\n",
       "      <td>198.021206</td>\n",
       "      <td>264.23507</td>\n",
       "      <td>2.049151</td>\n",
       "    </tr>\n",
       "    <tr>\n",
       "      <th>min</th>\n",
       "      <td>1.000000</td>\n",
       "      <td>1907.000000</td>\n",
       "      <td>0.000000</td>\n",
       "      <td>1.000000</td>\n",
       "      <td>0.000000</td>\n",
       "      <td>111.00000</td>\n",
       "      <td>1.000000</td>\n",
       "    </tr>\n",
       "    <tr>\n",
       "      <th>25%</th>\n",
       "      <td>1.000000</td>\n",
       "      <td>1948.000000</td>\n",
       "      <td>1.000000</td>\n",
       "      <td>1.000000</td>\n",
       "      <td>150.000000</td>\n",
       "      <td>313.00000</td>\n",
       "      <td>2.000000</td>\n",
       "    </tr>\n",
       "    <tr>\n",
       "      <th>50%</th>\n",
       "      <td>2.000000</td>\n",
       "      <td>1968.000000</td>\n",
       "      <td>1.000000</td>\n",
       "      <td>2.000000</td>\n",
       "      <td>220.000000</td>\n",
       "      <td>611.00000</td>\n",
       "      <td>3.000000</td>\n",
       "    </tr>\n",
       "    <tr>\n",
       "      <th>75%</th>\n",
       "      <td>2.000000</td>\n",
       "      <td>1990.000000</td>\n",
       "      <td>2.000000</td>\n",
       "      <td>2.000000</td>\n",
       "      <td>345.750000</td>\n",
       "      <td>873.00000</td>\n",
       "      <td>5.000000</td>\n",
       "    </tr>\n",
       "    <tr>\n",
       "      <th>max</th>\n",
       "      <td>2.000000</td>\n",
       "      <td>2018.000000</td>\n",
       "      <td>6.000000</td>\n",
       "      <td>2.000000</td>\n",
       "      <td>1892.000000</td>\n",
       "      <td>1009.00000</td>\n",
       "      <td>7.000000</td>\n",
       "    </tr>\n",
       "  </tbody>\n",
       "</table>\n",
       "</div>"
      ],
      "text/plain": [
       "                sex         birth  marriage_type      religion       income  \\\n",
       "count  14418.000000  14418.000000   14418.000000  14418.000000  4534.000000   \n",
       "mean       1.548828   1969.280205       1.764184      1.542031   268.455007   \n",
       "std        0.497627     24.402250       1.613871      0.498248   198.021206   \n",
       "min        1.000000   1907.000000       0.000000      1.000000     0.000000   \n",
       "25%        1.000000   1948.000000       1.000000      1.000000   150.000000   \n",
       "50%        2.000000   1968.000000       1.000000      2.000000   220.000000   \n",
       "75%        2.000000   1990.000000       2.000000      2.000000   345.750000   \n",
       "max        2.000000   2018.000000       6.000000      2.000000  1892.000000   \n",
       "\n",
       "         code_job   code_region  \n",
       "count  6878.00000  14418.000000  \n",
       "mean    587.54827      3.730684  \n",
       "std     264.23507      2.049151  \n",
       "min     111.00000      1.000000  \n",
       "25%     313.00000      2.000000  \n",
       "50%     611.00000      3.000000  \n",
       "75%     873.00000      5.000000  \n",
       "max    1009.00000      7.000000  "
      ]
     },
     "execution_count": 22,
     "metadata": {},
     "output_type": "execute_result"
    }
   ],
   "source": [
    "welfare.describe()"
   ]
  },
  {
   "cell_type": "markdown",
   "id": "9c059863-27fb-4b0a-8a04-95f3734e5799",
   "metadata": {},
   "source": [
    "* 결측치\n",
    "    * 소득(income), 직업코드(code_job)에 결측치가 확인 되며 특정한 값으로 보정하기 보다 수집된 데이터 위주로 분석하기로 결정"
   ]
  },
  {
   "cell_type": "code",
   "execution_count": null,
   "id": "7e252253-a76e-43c9-864b-57e9aa1d9d75",
   "metadata": {},
   "outputs": [],
   "source": []
  },
  {
   "cell_type": "code",
   "execution_count": 15,
   "id": "f32ad98d-bfb2-45e7-af06-ec4b7b9642e7",
   "metadata": {},
   "outputs": [
    {
     "data": {
      "text/plain": [
       "sex\n",
       "2.0    7913\n",
       "1.0    6505\n",
       "Name: count, dtype: int64"
      ]
     },
     "execution_count": 15,
     "metadata": {},
     "output_type": "execute_result"
    }
   ],
   "source": [
    "welfare['sex'].value_counts()"
   ]
  },
  {
   "cell_type": "code",
   "execution_count": 16,
   "id": "99314524-1147-49f8-95e1-96c2ca6f104b",
   "metadata": {
    "scrolled": true
   },
   "outputs": [
    {
     "data": {
      "text/plain": [
       "birth\n",
       "1942.0    317\n",
       "1939.0    258\n",
       "1940.0    255\n",
       "1947.0    246\n",
       "1943.0    233\n",
       "         ... \n",
       "1924.0      4\n",
       "1919.0      2\n",
       "1920.0      2\n",
       "1917.0      1\n",
       "1907.0      1\n",
       "Name: count, Length: 102, dtype: int64"
      ]
     },
     "execution_count": 16,
     "metadata": {},
     "output_type": "execute_result"
    }
   ],
   "source": [
    "welfare['birth'].value_counts()"
   ]
  },
  {
   "cell_type": "code",
   "execution_count": 17,
   "id": "a617a180-447a-4512-9bf4-8a44e14afaa5",
   "metadata": {},
   "outputs": [
    {
     "data": {
      "text/plain": [
       "marriage_type\n",
       "1.0    7190\n",
       "5.0    2357\n",
       "0.0    2121\n",
       "2.0    1954\n",
       "3.0     689\n",
       "4.0      78\n",
       "6.0      29\n",
       "Name: count, dtype: int64"
      ]
     },
     "execution_count": 17,
     "metadata": {},
     "output_type": "execute_result"
    }
   ],
   "source": [
    "welfare['marriage_type'].value_counts()"
   ]
  },
  {
   "cell_type": "code",
   "execution_count": 18,
   "id": "f255aa76-0893-46ca-9ec5-15bbc14bb326",
   "metadata": {},
   "outputs": [
    {
     "data": {
      "text/plain": [
       "religion\n",
       "2.0    7815\n",
       "1.0    6603\n",
       "Name: count, dtype: int64"
      ]
     },
     "execution_count": 18,
     "metadata": {},
     "output_type": "execute_result"
    }
   ],
   "source": [
    "welfare['religion'].value_counts()"
   ]
  },
  {
   "cell_type": "code",
   "execution_count": 19,
   "id": "80b96d75-5283-4111-b8c7-e0754f59522a",
   "metadata": {},
   "outputs": [
    {
     "data": {
      "text/plain": [
       "income\n",
       "27.0      281\n",
       "200.0     145\n",
       "150.0      86\n",
       "250.0      84\n",
       "180.0      73\n",
       "         ... \n",
       "521.0       1\n",
       "718.0       1\n",
       "1892.0      1\n",
       "755.0       1\n",
       "719.0       1\n",
       "Name: count, Length: 709, dtype: int64"
      ]
     },
     "execution_count": 19,
     "metadata": {},
     "output_type": "execute_result"
    }
   ],
   "source": [
    "welfare['income'].value_counts()"
   ]
  },
  {
   "cell_type": "code",
   "execution_count": 20,
   "id": "58a6304a-e213-4b79-816a-b67871029da8",
   "metadata": {},
   "outputs": [
    {
     "data": {
      "text/plain": [
       "code_job\n",
       "611.0    962\n",
       "941.0    391\n",
       "521.0    354\n",
       "312.0    275\n",
       "873.0    236\n",
       "        ... \n",
       "112.0      2\n",
       "784.0      2\n",
       "423.0      1\n",
       "861.0      1\n",
       "872.0      1\n",
       "Name: count, Length: 150, dtype: int64"
      ]
     },
     "execution_count": 20,
     "metadata": {},
     "output_type": "execute_result"
    }
   ],
   "source": [
    "welfare['code_job'].value_counts()"
   ]
  },
  {
   "cell_type": "code",
   "execution_count": 21,
   "id": "505226b0-22f6-4c15-8a13-b5e65c97b705",
   "metadata": {},
   "outputs": [
    {
     "data": {
      "text/plain": [
       "code_region\n",
       "2.0    3246\n",
       "7.0    2466\n",
       "3.0    2448\n",
       "1.0    2002\n",
       "4.0    1728\n",
       "5.0    1391\n",
       "6.0    1137\n",
       "Name: count, dtype: int64"
      ]
     },
     "execution_count": 21,
     "metadata": {},
     "output_type": "execute_result"
    }
   ],
   "source": [
    "welfare['code_region'].value_counts()"
   ]
  },
  {
   "cell_type": "markdown",
   "id": "6cb87513-ac6b-49cd-98bd-6ff427c5d759",
   "metadata": {},
   "source": [
    "* 중복값 삭제 (필요시)"
   ]
  },
  {
   "cell_type": "raw",
   "id": "4e12f2c7-add7-47b8-a986-376fc1f2634e",
   "metadata": {},
   "source": [
    "  - 모든 중복 행데이터 확인"
   ]
  },
  {
   "cell_type": "code",
   "execution_count": 23,
   "id": "eb5f565f-8fc8-434f-bb66-a9d1c75a7605",
   "metadata": {},
   "outputs": [
    {
     "data": {
      "text/html": [
       "<div>\n",
       "<style scoped>\n",
       "    .dataframe tbody tr th:only-of-type {\n",
       "        vertical-align: middle;\n",
       "    }\n",
       "\n",
       "    .dataframe tbody tr th {\n",
       "        vertical-align: top;\n",
       "    }\n",
       "\n",
       "    .dataframe thead th {\n",
       "        text-align: right;\n",
       "    }\n",
       "</style>\n",
       "<table border=\"1\" class=\"dataframe\">\n",
       "  <thead>\n",
       "    <tr style=\"text-align: right;\">\n",
       "      <th></th>\n",
       "      <th>sex</th>\n",
       "      <th>birth</th>\n",
       "      <th>marriage_type</th>\n",
       "      <th>religion</th>\n",
       "      <th>income</th>\n",
       "      <th>code_job</th>\n",
       "      <th>code_region</th>\n",
       "    </tr>\n",
       "  </thead>\n",
       "  <tbody>\n",
       "    <tr>\n",
       "      <th>0</th>\n",
       "      <td>2.0</td>\n",
       "      <td>1945.0</td>\n",
       "      <td>2.0</td>\n",
       "      <td>1.0</td>\n",
       "      <td>NaN</td>\n",
       "      <td>NaN</td>\n",
       "      <td>1.0</td>\n",
       "    </tr>\n",
       "    <tr>\n",
       "      <th>4</th>\n",
       "      <td>2.0</td>\n",
       "      <td>1963.0</td>\n",
       "      <td>1.0</td>\n",
       "      <td>1.0</td>\n",
       "      <td>NaN</td>\n",
       "      <td>NaN</td>\n",
       "      <td>1.0</td>\n",
       "    </tr>\n",
       "    <tr>\n",
       "      <th>5</th>\n",
       "      <td>2.0</td>\n",
       "      <td>2003.0</td>\n",
       "      <td>0.0</td>\n",
       "      <td>1.0</td>\n",
       "      <td>NaN</td>\n",
       "      <td>NaN</td>\n",
       "      <td>1.0</td>\n",
       "    </tr>\n",
       "    <tr>\n",
       "      <th>10</th>\n",
       "      <td>2.0</td>\n",
       "      <td>1992.0</td>\n",
       "      <td>5.0</td>\n",
       "      <td>1.0</td>\n",
       "      <td>NaN</td>\n",
       "      <td>NaN</td>\n",
       "      <td>1.0</td>\n",
       "    </tr>\n",
       "    <tr>\n",
       "      <th>11</th>\n",
       "      <td>1.0</td>\n",
       "      <td>1940.0</td>\n",
       "      <td>1.0</td>\n",
       "      <td>2.0</td>\n",
       "      <td>NaN</td>\n",
       "      <td>NaN</td>\n",
       "      <td>1.0</td>\n",
       "    </tr>\n",
       "    <tr>\n",
       "      <th>...</th>\n",
       "      <td>...</td>\n",
       "      <td>...</td>\n",
       "      <td>...</td>\n",
       "      <td>...</td>\n",
       "      <td>...</td>\n",
       "      <td>...</td>\n",
       "      <td>...</td>\n",
       "    </tr>\n",
       "    <tr>\n",
       "      <th>14406</th>\n",
       "      <td>2.0</td>\n",
       "      <td>1947.0</td>\n",
       "      <td>2.0</td>\n",
       "      <td>2.0</td>\n",
       "      <td>NaN</td>\n",
       "      <td>NaN</td>\n",
       "      <td>6.0</td>\n",
       "    </tr>\n",
       "    <tr>\n",
       "      <th>14409</th>\n",
       "      <td>2.0</td>\n",
       "      <td>1934.0</td>\n",
       "      <td>2.0</td>\n",
       "      <td>1.0</td>\n",
       "      <td>NaN</td>\n",
       "      <td>NaN</td>\n",
       "      <td>6.0</td>\n",
       "    </tr>\n",
       "    <tr>\n",
       "      <th>14411</th>\n",
       "      <td>2.0</td>\n",
       "      <td>1958.0</td>\n",
       "      <td>1.0</td>\n",
       "      <td>1.0</td>\n",
       "      <td>NaN</td>\n",
       "      <td>611.0</td>\n",
       "      <td>6.0</td>\n",
       "    </tr>\n",
       "    <tr>\n",
       "      <th>14413</th>\n",
       "      <td>2.0</td>\n",
       "      <td>1967.0</td>\n",
       "      <td>1.0</td>\n",
       "      <td>1.0</td>\n",
       "      <td>NaN</td>\n",
       "      <td>NaN</td>\n",
       "      <td>5.0</td>\n",
       "    </tr>\n",
       "    <tr>\n",
       "      <th>14417</th>\n",
       "      <td>1.0</td>\n",
       "      <td>2001.0</td>\n",
       "      <td>0.0</td>\n",
       "      <td>1.0</td>\n",
       "      <td>NaN</td>\n",
       "      <td>NaN</td>\n",
       "      <td>5.0</td>\n",
       "    </tr>\n",
       "  </tbody>\n",
       "</table>\n",
       "<p>6914 rows × 7 columns</p>\n",
       "</div>"
      ],
      "text/plain": [
       "       sex   birth  marriage_type  religion  income  code_job  code_region\n",
       "0      2.0  1945.0            2.0       1.0     NaN       NaN          1.0\n",
       "4      2.0  1963.0            1.0       1.0     NaN       NaN          1.0\n",
       "5      2.0  2003.0            0.0       1.0     NaN       NaN          1.0\n",
       "10     2.0  1992.0            5.0       1.0     NaN       NaN          1.0\n",
       "11     1.0  1940.0            1.0       2.0     NaN       NaN          1.0\n",
       "...    ...     ...            ...       ...     ...       ...          ...\n",
       "14406  2.0  1947.0            2.0       2.0     NaN       NaN          6.0\n",
       "14409  2.0  1934.0            2.0       1.0     NaN       NaN          6.0\n",
       "14411  2.0  1958.0            1.0       1.0     NaN     611.0          6.0\n",
       "14413  2.0  1967.0            1.0       1.0     NaN       NaN          5.0\n",
       "14417  1.0  2001.0            0.0       1.0     NaN       NaN          5.0\n",
       "\n",
       "[6914 rows x 7 columns]"
      ]
     },
     "execution_count": 23,
     "metadata": {},
     "output_type": "execute_result"
    }
   ],
   "source": [
    "welfare[welfare.duplicated(keep=False)]"
   ]
  },
  {
   "cell_type": "raw",
   "id": "e847b33e-f13a-47bd-af55-111bf56442b2",
   "metadata": {},
   "source": [
    "중복데이터가 확인이 되나 특정인에 대한 primary key가 없고 중복이 될 수 있는 사람의 정보로 판단하여 특별히 삭제 하지 않음"
   ]
  },
  {
   "cell_type": "markdown",
   "id": "9dac0879",
   "metadata": {},
   "source": [
    "## 3. 초기데이터 분석"
   ]
  },
  {
   "cell_type": "markdown",
   "id": "253f0cc0",
   "metadata": {},
   "source": [
    "### 3.1. 데이터 정제후 데이터스키마 재확인"
   ]
  },
  {
   "cell_type": "markdown",
   "id": "1812339b-9396-4195-833b-4be5a041d05d",
   "metadata": {},
   "source": [
    "* 1-2 작업을 다시 해보세요."
   ]
  },
  {
   "cell_type": "code",
   "execution_count": 24,
   "id": "39c1bf79-a40e-4af4-bc3d-073aa5708415",
   "metadata": {},
   "outputs": [
    {
     "data": {
      "text/plain": [
       "(14418, 7)"
      ]
     },
     "execution_count": 24,
     "metadata": {},
     "output_type": "execute_result"
    }
   ],
   "source": [
    "welfare.shape"
   ]
  },
  {
   "cell_type": "code",
   "execution_count": 25,
   "id": "acfedf15-f231-4d96-a4b8-2af93bcdf110",
   "metadata": {},
   "outputs": [
    {
     "name": "stdout",
     "output_type": "stream",
     "text": [
      "<class 'pandas.core.frame.DataFrame'>\n",
      "RangeIndex: 14418 entries, 0 to 14417\n",
      "Data columns (total 7 columns):\n",
      " #   Column         Non-Null Count  Dtype  \n",
      "---  ------         --------------  -----  \n",
      " 0   sex            14418 non-null  float64\n",
      " 1   birth          14418 non-null  float64\n",
      " 2   marriage_type  14418 non-null  float64\n",
      " 3   religion       14418 non-null  float64\n",
      " 4   income         4534 non-null   float64\n",
      " 5   code_job       6878 non-null   float64\n",
      " 6   code_region    14418 non-null  float64\n",
      "dtypes: float64(7)\n",
      "memory usage: 788.6 KB\n"
     ]
    }
   ],
   "source": [
    "welfare.info()"
   ]
  },
  {
   "cell_type": "markdown",
   "id": "8a244e0a",
   "metadata": {},
   "source": [
    "### 3.2 데이터 기초정보 정보 확인"
   ]
  },
  {
   "cell_type": "markdown",
   "id": "3361d7b0-6b2c-493e-a6f8-20bcb153b912",
   "metadata": {},
   "source": [
    "* 최대값, 최소값, 평균값, 표준편차, 최빈값, 유일값, 결측치, 이상치 등의 정보를 재확인해 보세요"
   ]
  },
  {
   "cell_type": "code",
   "execution_count": 26,
   "id": "09f3f345-96b1-40f3-9da2-802efb9704e8",
   "metadata": {},
   "outputs": [
    {
     "data": {
      "text/html": [
       "<div>\n",
       "<style scoped>\n",
       "    .dataframe tbody tr th:only-of-type {\n",
       "        vertical-align: middle;\n",
       "    }\n",
       "\n",
       "    .dataframe tbody tr th {\n",
       "        vertical-align: top;\n",
       "    }\n",
       "\n",
       "    .dataframe thead th {\n",
       "        text-align: right;\n",
       "    }\n",
       "</style>\n",
       "<table border=\"1\" class=\"dataframe\">\n",
       "  <thead>\n",
       "    <tr style=\"text-align: right;\">\n",
       "      <th></th>\n",
       "      <th>sex</th>\n",
       "      <th>birth</th>\n",
       "      <th>marriage_type</th>\n",
       "      <th>religion</th>\n",
       "      <th>income</th>\n",
       "      <th>code_job</th>\n",
       "      <th>code_region</th>\n",
       "    </tr>\n",
       "  </thead>\n",
       "  <tbody>\n",
       "    <tr>\n",
       "      <th>count</th>\n",
       "      <td>14418.000000</td>\n",
       "      <td>14418.000000</td>\n",
       "      <td>14418.000000</td>\n",
       "      <td>14418.000000</td>\n",
       "      <td>4534.000000</td>\n",
       "      <td>6878.00000</td>\n",
       "      <td>14418.000000</td>\n",
       "    </tr>\n",
       "    <tr>\n",
       "      <th>mean</th>\n",
       "      <td>1.548828</td>\n",
       "      <td>1969.280205</td>\n",
       "      <td>1.764184</td>\n",
       "      <td>1.542031</td>\n",
       "      <td>268.455007</td>\n",
       "      <td>587.54827</td>\n",
       "      <td>3.730684</td>\n",
       "    </tr>\n",
       "    <tr>\n",
       "      <th>std</th>\n",
       "      <td>0.497627</td>\n",
       "      <td>24.402250</td>\n",
       "      <td>1.613871</td>\n",
       "      <td>0.498248</td>\n",
       "      <td>198.021206</td>\n",
       "      <td>264.23507</td>\n",
       "      <td>2.049151</td>\n",
       "    </tr>\n",
       "    <tr>\n",
       "      <th>min</th>\n",
       "      <td>1.000000</td>\n",
       "      <td>1907.000000</td>\n",
       "      <td>0.000000</td>\n",
       "      <td>1.000000</td>\n",
       "      <td>0.000000</td>\n",
       "      <td>111.00000</td>\n",
       "      <td>1.000000</td>\n",
       "    </tr>\n",
       "    <tr>\n",
       "      <th>25%</th>\n",
       "      <td>1.000000</td>\n",
       "      <td>1948.000000</td>\n",
       "      <td>1.000000</td>\n",
       "      <td>1.000000</td>\n",
       "      <td>150.000000</td>\n",
       "      <td>313.00000</td>\n",
       "      <td>2.000000</td>\n",
       "    </tr>\n",
       "    <tr>\n",
       "      <th>50%</th>\n",
       "      <td>2.000000</td>\n",
       "      <td>1968.000000</td>\n",
       "      <td>1.000000</td>\n",
       "      <td>2.000000</td>\n",
       "      <td>220.000000</td>\n",
       "      <td>611.00000</td>\n",
       "      <td>3.000000</td>\n",
       "    </tr>\n",
       "    <tr>\n",
       "      <th>75%</th>\n",
       "      <td>2.000000</td>\n",
       "      <td>1990.000000</td>\n",
       "      <td>2.000000</td>\n",
       "      <td>2.000000</td>\n",
       "      <td>345.750000</td>\n",
       "      <td>873.00000</td>\n",
       "      <td>5.000000</td>\n",
       "    </tr>\n",
       "    <tr>\n",
       "      <th>max</th>\n",
       "      <td>2.000000</td>\n",
       "      <td>2018.000000</td>\n",
       "      <td>6.000000</td>\n",
       "      <td>2.000000</td>\n",
       "      <td>1892.000000</td>\n",
       "      <td>1009.00000</td>\n",
       "      <td>7.000000</td>\n",
       "    </tr>\n",
       "  </tbody>\n",
       "</table>\n",
       "</div>"
      ],
      "text/plain": [
       "                sex         birth  marriage_type      religion       income  \\\n",
       "count  14418.000000  14418.000000   14418.000000  14418.000000  4534.000000   \n",
       "mean       1.548828   1969.280205       1.764184      1.542031   268.455007   \n",
       "std        0.497627     24.402250       1.613871      0.498248   198.021206   \n",
       "min        1.000000   1907.000000       0.000000      1.000000     0.000000   \n",
       "25%        1.000000   1948.000000       1.000000      1.000000   150.000000   \n",
       "50%        2.000000   1968.000000       1.000000      2.000000   220.000000   \n",
       "75%        2.000000   1990.000000       2.000000      2.000000   345.750000   \n",
       "max        2.000000   2018.000000       6.000000      2.000000  1892.000000   \n",
       "\n",
       "         code_job   code_region  \n",
       "count  6878.00000  14418.000000  \n",
       "mean    587.54827      3.730684  \n",
       "std     264.23507      2.049151  \n",
       "min     111.00000      1.000000  \n",
       "25%     313.00000      2.000000  \n",
       "50%     611.00000      3.000000  \n",
       "75%     873.00000      5.000000  \n",
       "max    1009.00000      7.000000  "
      ]
     },
     "execution_count": 26,
     "metadata": {},
     "output_type": "execute_result"
    }
   ],
   "source": [
    "welfare.describe()"
   ]
  },
  {
   "cell_type": "markdown",
   "id": "e73d61a5",
   "metadata": {},
   "source": [
    "### 3.3 시각화를 통한 데이터이해 심화"
   ]
  },
  {
   "cell_type": "markdown",
   "id": "5de7dac1-31b5-4138-a9a6-33fbbde9caac",
   "metadata": {},
   "source": [
    "* 데이터의 성격에 따라 이해도를 올리기 위해 시각화가 필요한 데이터차트를 만들어 보세요.  \n",
    "  (Seaborn 추천: 페어플롯, 막대차트, 파이차트, 라인차트, 히스토그램등..)\n",
    "* 시각화한 차트에 대한 분석"
   ]
  },
  {
   "cell_type": "markdown",
   "id": "a3235557-d2a2-4d63-8932-c9e0c556dcb5",
   "metadata": {},
   "source": [
    "# 4. 탐색적연구"
   ]
  },
  {
   "cell_type": "markdown",
   "id": "8ff4c291-01f7-4056-812e-e0a23f00b8f0",
   "metadata": {},
   "source": [
    "#### Step1] 가설: 데이터 분석을 위한 목적, 대상 또는 가설을 세워본다.\n",
    "* 예) 나이와 월급간에 상관관계가 있을 것이다. (40~60대 사이에서 급여가 가장 높을 것이다)"
   ]
  },
  {
   "cell_type": "markdown",
   "id": "92480987-f863-4f32-a729-bc3be72bf6bd",
   "metadata": {},
   "source": [
    "#### Step2] 가설증명: 데이터 재 구조화, 시각화를 통해 새로운 insight 및 정보를 습득 및 가설을 검증한다. \n",
    "* 예) 나이별 월급에 대한 평균값을 구하고 line차트로 시각화하여 추세를 파악하여 가설을 검증한다."
   ]
  },
  {
   "cell_type": "markdown",
   "id": "b75903af-4eb4-4405-8865-15e6536b9def",
   "metadata": {},
   "source": [
    "#### Step3] 가설결론: 해당 가설에 대한 결론을 내린다."
   ]
  },
  {
   "cell_type": "markdown",
   "id": "de836e82-6986-4187-9303-33800fd71151",
   "metadata": {},
   "source": [
    "#### Step4] 탐색적연구 반복: 시간 일정이 허락하는 범위내에서 Step1~Step3를 반복한다."
   ]
  },
  {
   "cell_type": "markdown",
   "id": "f890f5ea-dc44-4ed7-a1ca-adce71183346",
   "metadata": {},
   "source": [
    "#### Step5] 최종결론: 지금까지 진행했던 모든 탐색적연구의 결과를 반영하여 최종 결론을 내린다."
   ]
  },
  {
   "cell_type": "code",
   "execution_count": null,
   "id": "2f6efa55-e0fe-403d-b199-a4e0590e52bb",
   "metadata": {},
   "outputs": [],
   "source": []
  },
  {
   "cell_type": "code",
   "execution_count": null,
   "id": "1f22e439-ace4-492d-99ee-b951f5347c2f",
   "metadata": {},
   "outputs": [],
   "source": []
  }
 ],
 "metadata": {
  "kernelspec": {
   "display_name": "Python 3 (ipykernel)",
   "language": "python",
   "name": "python3"
  },
  "language_info": {
   "codemirror_mode": {
    "name": "ipython",
    "version": 3
   },
   "file_extension": ".py",
   "mimetype": "text/x-python",
   "name": "python",
   "nbconvert_exporter": "python",
   "pygments_lexer": "ipython3",
   "version": "3.11.7"
  }
 },
 "nbformat": 4,
 "nbformat_minor": 5
}
