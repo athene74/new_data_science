{
 "cells": [
  {
   "cell_type": "markdown",
   "id": "d319a334",
   "metadata": {},
   "source": [
    "## 정규식을 컴파일 할 때 다음 옵션을 사용할 수 있다.\n",
    "* DOTALL(S) - . 이 줄바꿈 문자를 포함하여 모든 문자와 매치할 수 있도록 한다.\n",
    "* IGNORECASE(I) - 대소문자에 관계없이 매치할 수 있도록 한다.\n",
    "* MULTILINE(M) - 여러줄과 매치할 수 있도록 한다. (^, $ 메타문자의 사용과 관계가 있는 옵션이다)\n",
    "* VERBOSE(X) - verbose 모드를 사용할 수 있도록 한다. (정규식을 보기 편하게 만들수 있고 주석등을 사용할 수 있게된다.)"
   ]
  },
  {
   "cell_type": "markdown",
   "id": "62b84470",
   "metadata": {},
   "source": [
    "### DOTALL, S"
   ]
  },
  {
   "cell_type": "code",
   "execution_count": null,
   "id": "c93bbc26",
   "metadata": {},
   "outputs": [],
   "source": [
    "import re"
   ]
  },
  {
   "cell_type": "code",
   "execution_count": null,
   "id": "472d7433",
   "metadata": {},
   "outputs": [],
   "source": [
    "original_text=\"\"\"a\n",
    "b\"\"\"\n",
    "# original_text=\"a\\nb\"\n",
    "p=re.compile(\"a.b\") # 정규식 '.'는 원문에 \\n에 대해서 기본 옵션으로 사용하면 패턴 매칭이\n",
    "                     # 일어나지 않는다.\n",
    "m = p.match(original_text)\n",
    "print(m)"
   ]
  },
  {
   "cell_type": "code",
   "execution_count": null,
   "id": "cdbb6858",
   "metadata": {},
   "outputs": [],
   "source": [
    "p=re.compile(\"a\\nb\")# 참고) 정규식에 '\\n'을 사용한 경우는 기본 옵션을 사용해도 패턴 매칭\n",
    "                     # 을 할 수 있다.\n",
    "m = p.match(original_text)\n",
    "print(m)"
   ]
  },
  {
   "cell_type": "code",
   "execution_count": null,
   "id": "f2b08d21",
   "metadata": {},
   "outputs": [],
   "source": [
    "# p=re.compile(\"a.b\", re.DOTALL)\n",
    "p=re.compile(\"a.b\", re.S)\n",
    "# 원문의 줄바꿈 '\\n'을 매칭 시킬 '.' 이 re.DOTALL 옵션사용시 필요하다.\n",
    "m = p.match(original_text)\n",
    "print(m)"
   ]
  },
  {
   "cell_type": "markdown",
   "id": "b16c56f1",
   "metadata": {},
   "source": [
    "### IGNORECASE, I\n",
    "* re.IGNORECASE 또는 re.I 옵션은 대소문자 구별 없이 매치를 수행할 때 사용하는 옵션"
   ]
  },
  {
   "cell_type": "code",
   "execution_count": null,
   "id": "4401e2a9-1d62-4875-8717-9309b852fde4",
   "metadata": {},
   "outputs": [],
   "source": [
    "p = re.compile('[a-z]+')\n",
    "print(p.match('python'))\n",
    "print(p.match('Python'))\n",
    "print(p.match('PYTHON'))"
   ]
  },
  {
   "cell_type": "code",
   "execution_count": null,
   "id": "3ad4b5fc",
   "metadata": {},
   "outputs": [],
   "source": [
    "p = re.compile('[a-z]+', re.I)\n",
    "print(p.match('python'))\n",
    "print(p.match('Python'))\n",
    "print(p.match('PYTHON'))"
   ]
  },
  {
   "cell_type": "markdown",
   "id": "9aa07df1",
   "metadata": {},
   "source": [
    "### MULTILINE, M"
   ]
  },
  {
   "cell_type": "raw",
   "id": "415d33a8",
   "metadata": {},
   "source": [
    "후에 설명할 메타 문자인 ^, $와 연관된 옵션이다.   \n",
    "^는 문자열의 처음을 의미하고, $는 문자열의 마지막을 의미한다.   \n",
    "예를 들어 정규식이 ^python인 경우 문자열의 처음은 항상 python으로 시작해야 매치되고,\n",
    "만약 정규식이 python$이라면 문자열의 마지막은 항상 python으로 끝나야 매치된다는 의미이다."
   ]
  },
  {
   "cell_type": "code",
   "execution_count": null,
   "id": "afb3bbb0-fdc7-4009-a7c7-a18d917b5fab",
   "metadata": {},
   "outputs": [],
   "source": [
    "p = re.compile('^impossible', re.I)\n",
    "print(p.match('Impossible is nothing!'))"
   ]
  },
  {
   "cell_type": "code",
   "execution_count": null,
   "id": "d0193f92-dcc6-48fc-aa48-0235dde52b4c",
   "metadata": {},
   "outputs": [],
   "source": [
    "p = re.compile('impossible', re.I)\n",
    "print(p.match('Nothing is impossible')) "
   ]
  },
  {
   "cell_type": "code",
   "execution_count": null,
   "id": "5095a7f9-6344-464a-8906-75bd0553b24c",
   "metadata": {},
   "outputs": [],
   "source": [
    "p = re.compile('impossible', re.I)\n",
    "print(p.search('Impossible is impossible')) # 첫번째 impossible을 매치"
   ]
  },
  {
   "cell_type": "code",
   "execution_count": null,
   "id": "5fea5703-6e90-4a3c-bf18-e732005a746e",
   "metadata": {},
   "outputs": [],
   "source": [
    "p = re.compile('impossible$', re.I)\n",
    "print(p.search('Impossible is impossible')) # 마지막이 impossible로 끝나는 문자 매치"
   ]
  },
  {
   "cell_type": "code",
   "execution_count": 22,
   "id": "9b639f53",
   "metadata": {},
   "outputs": [],
   "source": [
    "data = \"\"\"python one\n",
    "life is too short\n",
    "python two\n",
    "you need python\n",
    "python three\"\"\""
   ]
  },
  {
   "cell_type": "code",
   "execution_count": 23,
   "id": "35ca5177",
   "metadata": {},
   "outputs": [
    {
     "name": "stdout",
     "output_type": "stream",
     "text": [
      "['python one']\n"
     ]
    }
   ],
   "source": [
    "p = re.compile(\"^python\\s\\w+\")\n",
    "print(p.findall(data))   # 첫 번째 라인 매치 결과만 반환"
   ]
  },
  {
   "cell_type": "code",
   "execution_count": 24,
   "id": "782af195",
   "metadata": {},
   "outputs": [
    {
     "name": "stdout",
     "output_type": "stream",
     "text": [
      "['python one', 'python two', 'python three']\n"
     ]
    }
   ],
   "source": [
    "p = re.compile(\"^python\\s\\w+\", re.MULTILINE)\n",
    "print(p.findall(data))   # 모든 라인의 매치 결과만 반환"
   ]
  },
  {
   "cell_type": "markdown",
   "id": "3f9e67e6",
   "metadata": {},
   "source": [
    "## VERBOSE, X\n",
    "* 한 줄로 표현하는 정규식을 여러줄로 표현 할 수 있다."
   ]
  },
  {
   "cell_type": "code",
   "execution_count": 25,
   "id": "385fa97b",
   "metadata": {},
   "outputs": [],
   "source": [
    "charref = re.compile(r'&[#](0[0-7]+|[0-9]+|x[0-9a-fA-F]+);')"
   ]
  },
  {
   "cell_type": "markdown",
   "id": "75f8dfb6-afbe-4023-9935-9d8934700e0c",
   "metadata": {},
   "source": [
    "* 아래에서 컴파일 옵션을 지정하지 않으면 여러줄의 정규식을 쓰면 에러발생"
   ]
  },
  {
   "cell_type": "code",
   "execution_count": 26,
   "id": "c1433f37-4e9a-4bf4-ad8e-3cc910c297e6",
   "metadata": {},
   "outputs": [
    {
     "ename": "SyntaxError",
     "evalue": "unterminated string literal (detected at line 1) (3720079345.py, line 1)",
     "output_type": "error",
     "traceback": [
      "\u001b[1;36m  Cell \u001b[1;32mIn[26], line 1\u001b[1;36m\u001b[0m\n\u001b[1;33m    charref = re.compile(r'&[#](0[0-7]+\u001b[0m\n\u001b[1;37m                         ^\u001b[0m\n\u001b[1;31mSyntaxError\u001b[0m\u001b[1;31m:\u001b[0m unterminated string literal (detected at line 1)\n"
     ]
    }
   ],
   "source": [
    "charref = re.compile(r'&[#](0[0-7]+\n",
    "|[0-9]+|x[0-9a-fA-F]+);') "
   ]
  },
  {
   "cell_type": "code",
   "execution_count": null,
   "id": "f8beefe6",
   "metadata": {},
   "outputs": [],
   "source": [
    "charref = re.compile(r\"\"\"\n",
    " &[#]                # Start of a numeric entity reference\n",
    " (\n",
    "     0[0-7]+         # Octal form\n",
    "   | [0-9]+          # Decimal form\n",
    "   | x[0-9a-fA-F]+   # Hexadecimal form\n",
    " )\n",
    " ;                   # Trailing semicolon\n",
    "\"\"\", re.VERBOSE) # 줄바꿈 이후의 공백문자는 컴파일시 제거된다."
   ]
  }
 ],
 "metadata": {
  "kernelspec": {
   "display_name": "Python 3 (ipykernel)",
   "language": "python",
   "name": "python3"
  },
  "language_info": {
   "codemirror_mode": {
    "name": "ipython",
    "version": 3
   },
   "file_extension": ".py",
   "mimetype": "text/x-python",
   "name": "python",
   "nbconvert_exporter": "python",
   "pygments_lexer": "ipython3",
   "version": "3.11.7"
  }
 },
 "nbformat": 4,
 "nbformat_minor": 5
}
