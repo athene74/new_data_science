{
 "cells": [
  {
   "cell_type": "markdown",
   "id": "d2af0c51-c863-4def-bdad-a608fb97b4b7",
   "metadata": {},
   "source": [
    "### 파이썬 코드 연습"
   ]
  },
  {
   "cell_type": "markdown",
   "id": "698b14c1-ba82-4c8b-a968-93704bec1eb5",
   "metadata": {},
   "source": [
    "### 입력 모드"
   ]
  },
  {
   "cell_type": "code",
   "execution_count": 8,
   "id": "0c2a9892-8f83-4e1c-b6dc-de61e4754fd4",
   "metadata": {},
   "outputs": [],
   "source": [
    "num1 = 100  \n",
    "num2 = 200  \n",
    "# 셀에서 Esc를 입력하기 전까지는 계속 하나의 셀에 입력(편집) 모드로 진행"
   ]
  },
  {
   "cell_type": "markdown",
   "id": "b6e83300-764c-4e8b-9ea4-6f1af9e14371",
   "metadata": {},
   "source": [
    "+ 주피터에서는 point  함수를 사용하지 않아도 변수 또는 표현식의 값을 바로 확인 가능하다"
   ]
  },
  {
   "cell_type": "code",
   "execution_count": 9,
   "id": "e629fb4f-870d-432b-a8a6-aa707fcbc2a1",
   "metadata": {},
   "outputs": [
    {
     "data": {
      "text/plain": [
       "100"
      ]
     },
     "execution_count": 9,
     "metadata": {},
     "output_type": "execute_result"
    }
   ],
   "source": [
    "num1"
   ]
  },
  {
   "cell_type": "code",
   "execution_count": 10,
   "id": "caaef4be-b16c-42ce-808b-9699115568a6",
   "metadata": {},
   "outputs": [
    {
     "data": {
      "text/plain": [
       "200"
      ]
     },
     "execution_count": 10,
     "metadata": {},
     "output_type": "execute_result"
    }
   ],
   "source": [
    "num2"
   ]
  },
  {
   "cell_type": "code",
   "execution_count": 41,
   "id": "a58230dd-3d6c-4c2f-8c89-cbd3cfdc9905",
   "metadata": {},
   "outputs": [
    {
     "data": {
      "text/plain": [
       "3"
      ]
     },
     "execution_count": 41,
     "metadata": {},
     "output_type": "execute_result"
    }
   ],
   "source": [
    "num1+num2"
   ]
  },
  {
   "cell_type": "markdown",
   "id": "49dc95e6-ece5-4863-b67d-64d0040c65ff",
   "metadata": {},
   "source": [
    "# 자동완성"
   ]
  },
  {
   "cell_type": "code",
   "execution_count": 12,
   "id": "3731c111-21e6-4818-a16a-1d51d775aac5",
   "metadata": {},
   "outputs": [],
   "source": [
    "my_loooooooooooooooooooooooooooooooooooooooooong_variable = 100"
   ]
  },
  {
   "cell_type": "code",
   "execution_count": 13,
   "id": "f3d3ac4e-64c6-4da6-a677-e8f9a60e2d95",
   "metadata": {},
   "outputs": [
    {
     "data": {
      "text/plain": [
       "100"
      ]
     },
     "execution_count": 13,
     "metadata": {},
     "output_type": "execute_result"
    }
   ],
   "source": [
    "# 자동완성을 하려면 Tab 키 입력\n",
    "my_loooooooooooooooooooooooooooooooooooooooooong_variable"
   ]
  },
  {
   "cell_type": "code",
   "execution_count": 14,
   "id": "26b2168b-cf9a-4b08-9881-4a15102d2f10",
   "metadata": {},
   "outputs": [
    {
     "data": {
      "text/plain": [
       "200"
      ]
     },
     "execution_count": 14,
     "metadata": {},
     "output_type": "execute_result"
    }
   ],
   "source": [
    "# 최신버전에서는 단일 셀에도 적용 가능\n",
    "your_loooooooooooooooooooooooooooooooooooooooooong_variable = 200\n",
    "your_loooooooooooooooooooooooooooooooooooooooooong_variable"
   ]
  },
  {
   "cell_type": "markdown",
   "id": "db41c2ef-d4da-42f5-b3ad-a0464e0f2978",
   "metadata": {},
   "source": [
    "# 명령모드"
   ]
  },
  {
   "cell_type": "raw",
   "id": "550cc389-e32e-4bca-a060-fc517d5bdd6e",
   "metadata": {},
   "source": [
    "입력(편집)모드에서 ESC를 선택하게 되면 명령 모드로 전환이 된다.\n",
    "* 화상표 위,아래 방향키: 위,아래로 이동\n",
    "* k,j:위,아래로 이동\n",
    "* a: 현재 셀에서 윗 라인에 셀 추가\n",
    "* b: 현재 셀에서 다음 라인에 셀 추가\n",
    "* dd: 현재 셀을 삭제하고 다음 라인으로 이동"
   ]
  },
  {
   "cell_type": "raw",
   "id": "f4cba008-237c-4454-889f-177ea633a3f1",
   "metadata": {},
   "source": [
    "입력(편집)모드에서 ESC를 선택하게 되면 명령 모드로 전환이 된다.\n",
    "* 화상표 위,아래 방향키: 위,아래로 이동\n",
    "* k,j:위,아래로 이동\n",
    "* a: 현재 셀에서 윗 라인에 셀 추가\n",
    "* b: 현재 셀에서 다음 라인에 셀 추가\n",
    "* dd: 현재 셀을 삭제하고 다음 라인으로 이동"
   ]
  },
  {
   "cell_type": "raw",
   "id": "32ca9088-45a7-4a0c-bf71-c546c1ec6010",
   "metadata": {},
   "source": [
    "# 명령모드, 입력(편집)모드에서 모두 사용할 수 있는 단축키\n",
    "* Ctrl + Enter: 셀 실행\n",
    "* Shift + Enter: 실행 후 다음행으로 이동\n",
    "* Alt + Enter: 셀 실행하고 아래에 새 셀 추가\n",
    "* Ctrl + S: 저장"
   ]
  },
  {
   "cell_type": "code",
   "execution_count": 18,
   "id": "17693662-625a-4500-8e91-c235ddff7e37",
   "metadata": {},
   "outputs": [],
   "source": [
    "num1 = 1"
   ]
  },
  {
   "cell_type": "code",
   "execution_count": 22,
   "id": "6992a05b-bd1d-42cb-bde7-9e1e8e9bead2",
   "metadata": {},
   "outputs": [],
   "source": [
    "num2 = 3"
   ]
  },
  {
   "cell_type": "code",
   "execution_count": 23,
   "id": "aa20ba74-8e0d-4fcd-a632-c26b0cea7ef9",
   "metadata": {},
   "outputs": [
    {
     "data": {
      "text/plain": [
       "4"
      ]
     },
     "execution_count": 23,
     "metadata": {},
     "output_type": "execute_result"
    }
   ],
   "source": [
    "num1+num2"
   ]
  },
  {
   "cell_type": "markdown",
   "id": "e767fcd4-0fb5-4fa5-a165-e91ee1a3f1e4",
   "metadata": {},
   "source": [
    "# 편집(입력) 모드에서만 사용할 수 있는 키보드 단축키\n",
    "* Esc: 명령 모드로 전환\n",
    "* Ctrl + Shift + - : 셀 분할 (커서 위치를 기준으로 분할 )\n",
    "* 병합할 셀을 멀티 셀렉트(Shift+방향키) - Shift+m => 셀 병합\n",
    "* Ctrl + z : Undo\n",
    "* Ctrl + / : Comment"
   ]
  },
  {
   "cell_type": "code",
   "execution_count": 27,
   "id": "a5681c7d-5f64-4492-ac0c-fe819a376b4e",
   "metadata": {},
   "outputs": [],
   "source": [
    "# 입력값\n",
    "num1 = 100\n",
    "num2 = 200\n",
    "num3 = 300\n",
    "\n",
    "# 연산\n",
    "result = num1 + num2 + num3"
   ]
  },
  {
   "cell_type": "code",
   "execution_count": 28,
   "id": "8c4a14cf-e555-461a-ad70-dc55766dcae0",
   "metadata": {},
   "outputs": [
    {
     "data": {
      "text/plain": [
       "100"
      ]
     },
     "execution_count": 28,
     "metadata": {},
     "output_type": "execute_result"
    }
   ],
   "source": [
    "num1"
   ]
  },
  {
   "cell_type": "code",
   "execution_count": 29,
   "id": "650ea409-60d5-4afe-84a7-796fdeaae3ac",
   "metadata": {},
   "outputs": [
    {
     "data": {
      "text/plain": [
       "200"
      ]
     },
     "execution_count": 29,
     "metadata": {},
     "output_type": "execute_result"
    }
   ],
   "source": [
    "num2"
   ]
  },
  {
   "cell_type": "code",
   "execution_count": 30,
   "id": "a62069b1-f5f1-419b-99f6-8be441a9686f",
   "metadata": {},
   "outputs": [
    {
     "data": {
      "text/plain": [
       "300"
      ]
     },
     "execution_count": 30,
     "metadata": {},
     "output_type": "execute_result"
    }
   ],
   "source": [
    "num3"
   ]
  },
  {
   "cell_type": "markdown",
   "id": "103de8c4-8ca3-4389-9fcb-b7f7959d2a2c",
   "metadata": {},
   "source": [
    "# 명령 모드에서만 사용할 수 있는 키보드 단축키\n",
    "* Enter: 편집 모드로 전환  \n",
    "* k: 이전 셀 선택  \n",
    "* j: 다음 셀 선택  \n",
    "* y/m/r:  코드 셀/ 마크다운 셀/ Raw 셀로 타입 전환  \n",
    "* a/b:  현재 셀의 위/아래에 새 셀 추가  \n",
    "* x/c/v: 현재 셀에 대한 cut/copy/paste  \n",
    "* dd: 현재 셀 삭제  \n",
    "* Shift + m = 아래셀과 병합  \n",
    "* z: 삭제한 셀 복원  \n",
    "* Ctrl + f: find  \n",
    "* Space: 화면 단위 스크롤 다운  \n",
    "* Shift + Space: 화면 단위 스크롤 업  \n",
    "* Ctrl + Shift + h: 키보드 단축키 전체 목록"
   ]
  },
  {
   "cell_type": "code",
   "execution_count": 33,
   "id": "58992b5e-b9c4-479c-93dd-255d6c8d7f9d",
   "metadata": {},
   "outputs": [],
   "source": [
    "num1=1  \n",
    "num2=2"
   ]
  },
  {
   "cell_type": "markdown",
   "id": "8231a4b9-44ae-42f9-8b0a-db87b8f1906a",
   "metadata": {},
   "source": [
    "# 기타"
   ]
  },
  {
   "cell_type": "raw",
   "id": "9e7c4106-5f81-48d6-8d19-8cd16f177bb6",
   "metadata": {},
   "source": [
    "![커맨드라인 명령어]"
   ]
  },
  {
   "cell_type": "code",
   "execution_count": 37,
   "id": "b7536267-c53c-4575-81d9-bae563491999",
   "metadata": {},
   "outputs": [
    {
     "name": "stdout",
     "output_type": "stream",
     "text": [
      " D 드라이브의 볼륨에는 이름이 없습니다.\n",
      " 볼륨 일련 번호: 64E7-45B0\n",
      "\n",
      " D:\\hjnam\\project\\DataScience\\02_pandas 디렉터리\n",
      "\n",
      "2024-07-08  오후 04:25    <DIR>          .\n",
      "2024-07-08  오후 04:25    <DIR>          ..\n",
      "2024-07-08  오후 03:42    <DIR>          .ipynb_checkpoints\n",
      "2024-07-08  오후 02:23    <DIR>          .virtual_documents\n",
      "2024-07-08  오후 03:41            11,164 01_마크다운_연습.ipynb\n",
      "2024-07-08  오후 04:25             9,562 02_에디터연습.ipynb\n",
      "2024-07-08  오후 02:22               924 hello_world.ipynb\n",
      "               3개 파일              21,650 바이트\n",
      "               4개 디렉터리  1,999,324,790,784 바이트 남음\n"
     ]
    }
   ],
   "source": [
    "!dir"
   ]
  },
  {
   "cell_type": "code",
   "execution_count": 39,
   "id": "7e5f31c4-d54d-431b-9887-8786b04aa040",
   "metadata": {},
   "outputs": [
    {
     "name": "stdout",
     "output_type": "stream",
     "text": [
      "Requirement already satisfied: faker in c:\\users\\user\\anaconda3\\lib\\site-packages (26.0.0)\n",
      "Requirement already satisfied: python-dateutil>=2.4 in c:\\users\\user\\anaconda3\\lib\\site-packages (from faker) (2.8.2)\n",
      "Requirement already satisfied: six>=1.5 in c:\\users\\user\\anaconda3\\lib\\site-packages (from python-dateutil>=2.4->faker) (1.16.0)\n"
     ]
    }
   ],
   "source": [
    "!pip install faker"
   ]
  },
  {
   "cell_type": "code",
   "execution_count": null,
   "id": "dd656693-15ba-4176-a7fd-be4dcca067ee",
   "metadata": {},
   "outputs": [],
   "source": []
  }
 ],
 "metadata": {
  "kernelspec": {
   "display_name": "Python 3 (ipykernel)",
   "language": "python",
   "name": "python3"
  },
  "language_info": {
   "codemirror_mode": {
    "name": "ipython",
    "version": 3
   },
   "file_extension": ".py",
   "mimetype": "text/x-python",
   "name": "python",
   "nbconvert_exporter": "python",
   "pygments_lexer": "ipython3",
   "version": "3.11.7"
  }
 },
 "nbformat": 4,
 "nbformat_minor": 5
}
