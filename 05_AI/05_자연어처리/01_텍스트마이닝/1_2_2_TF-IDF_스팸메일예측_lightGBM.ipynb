{
 "cells": [
  {
   "cell_type": "code",
   "execution_count": 3,
   "id": "848d731f-d67e-4bb4-ad79-1f7d58f61d18",
   "metadata": {},
   "outputs": [],
   "source": [
    "import pickle\n",
    "import lightgbm as lgb\n",
    "import numpy as np\n",
    "from sklearn.metrics import accuracy_score\n",
    "\n",
    "# 바이너리 데이터를 읽어들이는 옵션\n",
    "with open('processed.pickle', 'rb') as file_handle:\n",
    "    vocabulary, features, labels = pickle.load(file_handle)\n",
    "\n",
    "# 학습-테스트 데이터 나누기\n",
    "total_number = len(labels)\n",
    "middle_index = total_number // 2\n",
    "train_features = features[:middle_index, :]\n",
    "train_labels = labels[:middle_index]\n",
    "test_features = features[middle_index:, :]\n",
    "test_labels = labels[middle_index:]\n",
    "\n",
    "# LightGBM 모델 학습\n",
    "d_train = lgb.Dataset(train_features, label=train_labels)\n",
    "params = {\n",
    "    'objective': 'binary',\n",
    "    'metric': 'binary_logloss',\n",
    "    'boosting_type': 'gbdt',\n",
    "    'learning_rate': 0.1,\n",
    "    'num_leaves': 31,\n",
    "    'max_depth': -1,\n",
    "    'verbose': -1\n",
    "}\n",
    "\n",
    "# 모델 학습\n",
    "model = lgb.train(params, d_train, 100)  # 100 반복 학습"
   ]
  },
  {
   "cell_type": "code",
   "execution_count": 4,
   "id": "73b776cd-7eb0-4af0-9286-18dc5a3fec67",
   "metadata": {},
   "outputs": [
    {
     "name": "stdout",
     "output_type": "stream",
     "text": [
      "train accuracy: 1.0000\n"
     ]
    }
   ],
   "source": [
    "# 학습 정확도\n",
    "train_pred = model.predict(train_features)\n",
    "train_pred_int = (train_pred >= 0.5).astype(int)\n",
    "train_accuracy = accuracy_score(train_pred_int, train_labels)\n",
    "print('train accuracy: %4.4f' % train_accuracy)\n",
    "\n",
    "# 테스트 정확도\n",
    "test_pred = model.predict(test_features)"
   ]
  },
  {
   "cell_type": "code",
   "execution_count": 5,
   "id": "08a32cf7-0222-432a-8e1e-4fb74d88f0f7",
   "metadata": {},
   "outputs": [
    {
     "data": {
      "text/plain": [
       "[0, 0, 0, 0, 1]"
      ]
     },
     "execution_count": 5,
     "metadata": {},
     "output_type": "execute_result"
    }
   ],
   "source": [
    "test_labels[:5]"
   ]
  },
  {
   "cell_type": "code",
   "execution_count": 6,
   "id": "baff6e6b-96c9-410c-90c1-1d6e3582ea0b",
   "metadata": {},
   "outputs": [
    {
     "data": {
      "text/plain": [
       "array([3.14753013e-05, 6.11391423e-05, 3.33930763e-05, ...,\n",
       "       2.31273016e-05, 9.45571436e-02, 7.95253768e-05])"
      ]
     },
     "execution_count": 6,
     "metadata": {},
     "output_type": "execute_result"
    }
   ],
   "source": [
    "test_pred"
   ]
  },
  {
   "cell_type": "code",
   "execution_count": 7,
   "id": "67cdc54b-935d-4f0c-942e-a00e32ebc640",
   "metadata": {},
   "outputs": [
    {
     "data": {
      "text/plain": [
       "array([0, 0, 0, 0, 1, 0, 0, 0, 0, 0])"
      ]
     },
     "execution_count": 7,
     "metadata": {},
     "output_type": "execute_result"
    }
   ],
   "source": [
    "(test_pred >= 0.5).astype(int)[:10]"
   ]
  },
  {
   "cell_type": "code",
   "execution_count": 8,
   "id": "44ed0e61-8a02-4412-a137-c1e4e43f8ce3",
   "metadata": {},
   "outputs": [
    {
     "name": "stdout",
     "output_type": "stream",
     "text": [
      "test accuracy: 0.9717\n",
      "score 158 word: call\n",
      "score 117 word: for\n",
      "score 99 word: your\n",
      "score 95 word: now\n",
      "score 88 word: to\n",
      "score 80 word: txt\n",
      "score 67 word: you\n",
      "score 61 word: cost\n",
      "score 54 word: me\n",
      "score 53 word: chat\n",
      "score 53 word: claim\n",
      "score 52 word: free\n",
      "score 52 word: help\n",
      "score 52 word: service\n",
      "score 52 word: with\n",
      "score 51 word: reply\n",
      "score 49 word: sms\n",
      "score 49 word: text\n",
      "score 46 word: or\n",
      "score 46 word: uk\n"
     ]
    }
   ],
   "source": [
    "test_pred_int = (test_pred >= 0.5).astype(int)\n",
    "test_accuracy = accuracy_score(test_pred_int, test_labels)\n",
    "print('test accuracy: %4.4f' % test_accuracy)\n",
    "\n",
    "# 학습에 중요한 특성 찾기\n",
    "importance = model.feature_importance(importance_type='split')\n",
    "feature_importance = [(importance[i], vocabulary[i]) for i in range(len(vocabulary))]\n",
    "feature_importance.sort(key=lambda x: x[0], reverse=True)\n",
    "\n",
    "# 가장 중요한 특성 20개 출력\n",
    "for score, word in feature_importance[:20]:\n",
    "    print('score %d word: %s' % (score, word))"
   ]
  },
  {
   "cell_type": "code",
   "execution_count": null,
   "id": "e0236003-47db-441a-b896-71585217a37a",
   "metadata": {},
   "outputs": [],
   "source": []
  }
 ],
 "metadata": {
  "kernelspec": {
   "display_name": "Python 3 (ipykernel)",
   "language": "python",
   "name": "python3"
  },
  "language_info": {
   "codemirror_mode": {
    "name": "ipython",
    "version": 3
   },
   "file_extension": ".py",
   "mimetype": "text/x-python",
   "name": "python",
   "nbconvert_exporter": "python",
   "pygments_lexer": "ipython3",
   "version": "3.11.7"
  }
 },
 "nbformat": 4,
 "nbformat_minor": 5
}
