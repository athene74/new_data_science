{
 "cells": [
  {
   "cell_type": "code",
   "execution_count": 57,
   "id": "d0e93e9e",
   "metadata": {},
   "outputs": [],
   "source": [
    "import pandas as pd\n",
    "import seaborn as sns\n",
    "import matplotlib.pyplot as plt\n",
    "import statsmodels.api as sm"
   ]
  },
  {
   "cell_type": "code",
   "execution_count": 58,
   "id": "743c4301",
   "metadata": {},
   "outputs": [],
   "source": [
    "wine = pd.read_csv('winequality-both.csv', sep=',', header=0)"
   ]
  },
  {
   "cell_type": "code",
   "execution_count": 59,
   "id": "b5e3ab3c",
   "metadata": {
    "scrolled": true
   },
   "outputs": [
    {
     "data": {
      "text/html": [
       "<div>\n",
       "<style scoped>\n",
       "    .dataframe tbody tr th:only-of-type {\n",
       "        vertical-align: middle;\n",
       "    }\n",
       "\n",
       "    .dataframe tbody tr th {\n",
       "        vertical-align: top;\n",
       "    }\n",
       "\n",
       "    .dataframe thead th {\n",
       "        text-align: right;\n",
       "    }\n",
       "</style>\n",
       "<table border=\"1\" class=\"dataframe\">\n",
       "  <thead>\n",
       "    <tr style=\"text-align: right;\">\n",
       "      <th></th>\n",
       "      <th>type</th>\n",
       "      <th>fixed acidity</th>\n",
       "      <th>volatile acidity</th>\n",
       "      <th>citric acid</th>\n",
       "      <th>residual sugar</th>\n",
       "      <th>chlorides</th>\n",
       "      <th>free sulfur dioxide</th>\n",
       "      <th>total sulfur dioxide</th>\n",
       "      <th>density</th>\n",
       "      <th>pH</th>\n",
       "      <th>sulphates</th>\n",
       "      <th>alcohol</th>\n",
       "      <th>quality</th>\n",
       "    </tr>\n",
       "  </thead>\n",
       "  <tbody>\n",
       "    <tr>\n",
       "      <th>0</th>\n",
       "      <td>red</td>\n",
       "      <td>7.4</td>\n",
       "      <td>0.70</td>\n",
       "      <td>0.00</td>\n",
       "      <td>1.9</td>\n",
       "      <td>0.076</td>\n",
       "      <td>11.0</td>\n",
       "      <td>34.0</td>\n",
       "      <td>0.9978</td>\n",
       "      <td>3.51</td>\n",
       "      <td>0.56</td>\n",
       "      <td>9.4</td>\n",
       "      <td>5</td>\n",
       "    </tr>\n",
       "    <tr>\n",
       "      <th>1</th>\n",
       "      <td>red</td>\n",
       "      <td>7.8</td>\n",
       "      <td>0.88</td>\n",
       "      <td>0.00</td>\n",
       "      <td>2.6</td>\n",
       "      <td>0.098</td>\n",
       "      <td>25.0</td>\n",
       "      <td>67.0</td>\n",
       "      <td>0.9968</td>\n",
       "      <td>3.20</td>\n",
       "      <td>0.68</td>\n",
       "      <td>9.8</td>\n",
       "      <td>5</td>\n",
       "    </tr>\n",
       "    <tr>\n",
       "      <th>2</th>\n",
       "      <td>red</td>\n",
       "      <td>7.8</td>\n",
       "      <td>0.76</td>\n",
       "      <td>0.04</td>\n",
       "      <td>2.3</td>\n",
       "      <td>0.092</td>\n",
       "      <td>15.0</td>\n",
       "      <td>54.0</td>\n",
       "      <td>0.9970</td>\n",
       "      <td>3.26</td>\n",
       "      <td>0.65</td>\n",
       "      <td>9.8</td>\n",
       "      <td>5</td>\n",
       "    </tr>\n",
       "    <tr>\n",
       "      <th>3</th>\n",
       "      <td>red</td>\n",
       "      <td>11.2</td>\n",
       "      <td>0.28</td>\n",
       "      <td>0.56</td>\n",
       "      <td>1.9</td>\n",
       "      <td>0.075</td>\n",
       "      <td>17.0</td>\n",
       "      <td>60.0</td>\n",
       "      <td>0.9980</td>\n",
       "      <td>3.16</td>\n",
       "      <td>0.58</td>\n",
       "      <td>9.8</td>\n",
       "      <td>6</td>\n",
       "    </tr>\n",
       "    <tr>\n",
       "      <th>4</th>\n",
       "      <td>red</td>\n",
       "      <td>7.4</td>\n",
       "      <td>0.70</td>\n",
       "      <td>0.00</td>\n",
       "      <td>1.9</td>\n",
       "      <td>0.076</td>\n",
       "      <td>11.0</td>\n",
       "      <td>34.0</td>\n",
       "      <td>0.9978</td>\n",
       "      <td>3.51</td>\n",
       "      <td>0.56</td>\n",
       "      <td>9.4</td>\n",
       "      <td>5</td>\n",
       "    </tr>\n",
       "  </tbody>\n",
       "</table>\n",
       "</div>"
      ],
      "text/plain": [
       "  type  fixed acidity  volatile acidity  citric acid  residual sugar  \\\n",
       "0  red            7.4              0.70         0.00             1.9   \n",
       "1  red            7.8              0.88         0.00             2.6   \n",
       "2  red            7.8              0.76         0.04             2.3   \n",
       "3  red           11.2              0.28         0.56             1.9   \n",
       "4  red            7.4              0.70         0.00             1.9   \n",
       "\n",
       "   chlorides  free sulfur dioxide  total sulfur dioxide  density    pH  \\\n",
       "0      0.076                 11.0                  34.0   0.9978  3.51   \n",
       "1      0.098                 25.0                  67.0   0.9968  3.20   \n",
       "2      0.092                 15.0                  54.0   0.9970  3.26   \n",
       "3      0.075                 17.0                  60.0   0.9980  3.16   \n",
       "4      0.076                 11.0                  34.0   0.9978  3.51   \n",
       "\n",
       "   sulphates  alcohol  quality  \n",
       "0       0.56      9.4        5  \n",
       "1       0.68      9.8        5  \n",
       "2       0.65      9.8        5  \n",
       "3       0.58      9.8        6  \n",
       "4       0.56      9.4        5  "
      ]
     },
     "execution_count": 59,
     "metadata": {},
     "output_type": "execute_result"
    }
   ],
   "source": [
    "wine.head()"
   ]
  },
  {
   "cell_type": "markdown",
   "id": "af16b786-6ba1-4cf6-9b0c-90b30f01819c",
   "metadata": {},
   "source": [
    "* 알아야 할 열 정보  \n",
    "    * type: 와인품종  \n",
    "    * fixed acidity ~ alcohol: 와인의 특성  \n",
    "    * quality: 와인품질"
   ]
  },
  {
   "cell_type": "markdown",
   "id": "2f899281",
   "metadata": {},
   "source": [
    "### 열이름 전처리"
   ]
  },
  {
   "cell_type": "code",
   "execution_count": 60,
   "id": "c3a9f537",
   "metadata": {},
   "outputs": [],
   "source": [
    "wine.columns = wine.columns.str.replace(' ', '_')"
   ]
  },
  {
   "cell_type": "code",
   "execution_count": 61,
   "id": "b473bcaa",
   "metadata": {},
   "outputs": [
    {
     "data": {
      "text/plain": [
       "(6497, 13)"
      ]
     },
     "execution_count": 61,
     "metadata": {},
     "output_type": "execute_result"
    }
   ],
   "source": [
    "wine.shape"
   ]
  },
  {
   "cell_type": "code",
   "execution_count": 62,
   "id": "3d32c6d5",
   "metadata": {},
   "outputs": [
    {
     "data": {
      "text/html": [
       "<div>\n",
       "<style scoped>\n",
       "    .dataframe tbody tr th:only-of-type {\n",
       "        vertical-align: middle;\n",
       "    }\n",
       "\n",
       "    .dataframe tbody tr th {\n",
       "        vertical-align: top;\n",
       "    }\n",
       "\n",
       "    .dataframe thead th {\n",
       "        text-align: right;\n",
       "    }\n",
       "</style>\n",
       "<table border=\"1\" class=\"dataframe\">\n",
       "  <thead>\n",
       "    <tr style=\"text-align: right;\">\n",
       "      <th></th>\n",
       "      <th>fixed_acidity</th>\n",
       "      <th>volatile_acidity</th>\n",
       "      <th>citric_acid</th>\n",
       "      <th>residual_sugar</th>\n",
       "      <th>chlorides</th>\n",
       "      <th>free_sulfur_dioxide</th>\n",
       "      <th>total_sulfur_dioxide</th>\n",
       "      <th>density</th>\n",
       "      <th>pH</th>\n",
       "      <th>sulphates</th>\n",
       "      <th>alcohol</th>\n",
       "      <th>quality</th>\n",
       "    </tr>\n",
       "  </thead>\n",
       "  <tbody>\n",
       "    <tr>\n",
       "      <th>count</th>\n",
       "      <td>6497.000000</td>\n",
       "      <td>6497.000000</td>\n",
       "      <td>6497.000000</td>\n",
       "      <td>6497.000000</td>\n",
       "      <td>6497.000000</td>\n",
       "      <td>6497.000000</td>\n",
       "      <td>6497.000000</td>\n",
       "      <td>6497.000000</td>\n",
       "      <td>6497.000000</td>\n",
       "      <td>6497.000000</td>\n",
       "      <td>6497.000000</td>\n",
       "      <td>6497.000000</td>\n",
       "    </tr>\n",
       "    <tr>\n",
       "      <th>mean</th>\n",
       "      <td>7.215307</td>\n",
       "      <td>0.339666</td>\n",
       "      <td>0.318633</td>\n",
       "      <td>5.443235</td>\n",
       "      <td>0.056034</td>\n",
       "      <td>30.525319</td>\n",
       "      <td>115.744574</td>\n",
       "      <td>0.994697</td>\n",
       "      <td>3.218501</td>\n",
       "      <td>0.531268</td>\n",
       "      <td>10.491801</td>\n",
       "      <td>5.818378</td>\n",
       "    </tr>\n",
       "    <tr>\n",
       "      <th>std</th>\n",
       "      <td>1.296434</td>\n",
       "      <td>0.164636</td>\n",
       "      <td>0.145318</td>\n",
       "      <td>4.757804</td>\n",
       "      <td>0.035034</td>\n",
       "      <td>17.749400</td>\n",
       "      <td>56.521855</td>\n",
       "      <td>0.002999</td>\n",
       "      <td>0.160787</td>\n",
       "      <td>0.148806</td>\n",
       "      <td>1.192712</td>\n",
       "      <td>0.873255</td>\n",
       "    </tr>\n",
       "    <tr>\n",
       "      <th>min</th>\n",
       "      <td>3.800000</td>\n",
       "      <td>0.080000</td>\n",
       "      <td>0.000000</td>\n",
       "      <td>0.600000</td>\n",
       "      <td>0.009000</td>\n",
       "      <td>1.000000</td>\n",
       "      <td>6.000000</td>\n",
       "      <td>0.987110</td>\n",
       "      <td>2.720000</td>\n",
       "      <td>0.220000</td>\n",
       "      <td>8.000000</td>\n",
       "      <td>3.000000</td>\n",
       "    </tr>\n",
       "    <tr>\n",
       "      <th>25%</th>\n",
       "      <td>6.400000</td>\n",
       "      <td>0.230000</td>\n",
       "      <td>0.250000</td>\n",
       "      <td>1.800000</td>\n",
       "      <td>0.038000</td>\n",
       "      <td>17.000000</td>\n",
       "      <td>77.000000</td>\n",
       "      <td>0.992340</td>\n",
       "      <td>3.110000</td>\n",
       "      <td>0.430000</td>\n",
       "      <td>9.500000</td>\n",
       "      <td>5.000000</td>\n",
       "    </tr>\n",
       "    <tr>\n",
       "      <th>50%</th>\n",
       "      <td>7.000000</td>\n",
       "      <td>0.290000</td>\n",
       "      <td>0.310000</td>\n",
       "      <td>3.000000</td>\n",
       "      <td>0.047000</td>\n",
       "      <td>29.000000</td>\n",
       "      <td>118.000000</td>\n",
       "      <td>0.994890</td>\n",
       "      <td>3.210000</td>\n",
       "      <td>0.510000</td>\n",
       "      <td>10.300000</td>\n",
       "      <td>6.000000</td>\n",
       "    </tr>\n",
       "    <tr>\n",
       "      <th>75%</th>\n",
       "      <td>7.700000</td>\n",
       "      <td>0.400000</td>\n",
       "      <td>0.390000</td>\n",
       "      <td>8.100000</td>\n",
       "      <td>0.065000</td>\n",
       "      <td>41.000000</td>\n",
       "      <td>156.000000</td>\n",
       "      <td>0.996990</td>\n",
       "      <td>3.320000</td>\n",
       "      <td>0.600000</td>\n",
       "      <td>11.300000</td>\n",
       "      <td>6.000000</td>\n",
       "    </tr>\n",
       "    <tr>\n",
       "      <th>max</th>\n",
       "      <td>15.900000</td>\n",
       "      <td>1.580000</td>\n",
       "      <td>1.660000</td>\n",
       "      <td>65.800000</td>\n",
       "      <td>0.611000</td>\n",
       "      <td>289.000000</td>\n",
       "      <td>440.000000</td>\n",
       "      <td>1.038980</td>\n",
       "      <td>4.010000</td>\n",
       "      <td>2.000000</td>\n",
       "      <td>14.900000</td>\n",
       "      <td>9.000000</td>\n",
       "    </tr>\n",
       "  </tbody>\n",
       "</table>\n",
       "</div>"
      ],
      "text/plain": [
       "       fixed_acidity  volatile_acidity  citric_acid  residual_sugar  \\\n",
       "count    6497.000000       6497.000000  6497.000000     6497.000000   \n",
       "mean        7.215307          0.339666     0.318633        5.443235   \n",
       "std         1.296434          0.164636     0.145318        4.757804   \n",
       "min         3.800000          0.080000     0.000000        0.600000   \n",
       "25%         6.400000          0.230000     0.250000        1.800000   \n",
       "50%         7.000000          0.290000     0.310000        3.000000   \n",
       "75%         7.700000          0.400000     0.390000        8.100000   \n",
       "max        15.900000          1.580000     1.660000       65.800000   \n",
       "\n",
       "         chlorides  free_sulfur_dioxide  total_sulfur_dioxide      density  \\\n",
       "count  6497.000000          6497.000000           6497.000000  6497.000000   \n",
       "mean      0.056034            30.525319            115.744574     0.994697   \n",
       "std       0.035034            17.749400             56.521855     0.002999   \n",
       "min       0.009000             1.000000              6.000000     0.987110   \n",
       "25%       0.038000            17.000000             77.000000     0.992340   \n",
       "50%       0.047000            29.000000            118.000000     0.994890   \n",
       "75%       0.065000            41.000000            156.000000     0.996990   \n",
       "max       0.611000           289.000000            440.000000     1.038980   \n",
       "\n",
       "                pH    sulphates      alcohol      quality  \n",
       "count  6497.000000  6497.000000  6497.000000  6497.000000  \n",
       "mean      3.218501     0.531268    10.491801     5.818378  \n",
       "std       0.160787     0.148806     1.192712     0.873255  \n",
       "min       2.720000     0.220000     8.000000     3.000000  \n",
       "25%       3.110000     0.430000     9.500000     5.000000  \n",
       "50%       3.210000     0.510000    10.300000     6.000000  \n",
       "75%       3.320000     0.600000    11.300000     6.000000  \n",
       "max       4.010000     2.000000    14.900000     9.000000  "
      ]
     },
     "execution_count": 62,
     "metadata": {},
     "output_type": "execute_result"
    }
   ],
   "source": [
    "wine.describe()"
   ]
  },
  {
   "cell_type": "markdown",
   "id": "16a3d08f",
   "metadata": {},
   "source": [
    "### 특정 열의 유일값 찾기"
   ]
  },
  {
   "cell_type": "markdown",
   "id": "31ea1f6a",
   "metadata": {},
   "source": [
    "### quality: 선형 통계 모델에서 예측 하고자 하는 선형값"
   ]
  },
  {
   "cell_type": "code",
   "execution_count": 63,
   "id": "38918e75",
   "metadata": {},
   "outputs": [
    {
     "data": {
      "text/plain": [
       "array([5, 6, 7, 4, 8, 3, 9], dtype=int64)"
      ]
     },
     "execution_count": 63,
     "metadata": {},
     "output_type": "execute_result"
    }
   ],
   "source": [
    "wine.quality.unique()"
   ]
  },
  {
   "cell_type": "code",
   "execution_count": 64,
   "id": "e7db9f0c",
   "metadata": {},
   "outputs": [
    {
     "data": {
      "text/plain": [
       "[3, 4, 5, 6, 7, 8, 9]"
      ]
     },
     "execution_count": 64,
     "metadata": {},
     "output_type": "execute_result"
    }
   ],
   "source": [
    "sorted(wine.quality.unique())"
   ]
  },
  {
   "cell_type": "code",
   "execution_count": 65,
   "id": "668a4943",
   "metadata": {},
   "outputs": [
    {
     "data": {
      "text/plain": [
       "['red', 'white']"
      ]
     },
     "execution_count": 65,
     "metadata": {},
     "output_type": "execute_result"
    }
   ],
   "source": [
    "sorted(wine.type.unique())"
   ]
  },
  {
   "cell_type": "markdown",
   "id": "d2417ee1",
   "metadata": {},
   "source": [
    "### 빈도찾기"
   ]
  },
  {
   "cell_type": "code",
   "execution_count": 66,
   "id": "d3a5eb1e",
   "metadata": {},
   "outputs": [
    {
     "data": {
      "text/plain": [
       "quality\n",
       "6    2836\n",
       "5    2138\n",
       "7    1079\n",
       "4     216\n",
       "8     193\n",
       "3      30\n",
       "9       5\n",
       "Name: count, dtype: int64"
      ]
     },
     "execution_count": 66,
     "metadata": {},
     "output_type": "execute_result"
    }
   ],
   "source": [
    "wine.quality.value_counts()"
   ]
  },
  {
   "cell_type": "markdown",
   "id": "473f252d",
   "metadata": {},
   "source": [
    "---"
   ]
  },
  {
   "cell_type": "markdown",
   "id": "5bf04646",
   "metadata": {},
   "source": [
    "### 와인 종류에 따른 기술통계를 출력하기 "
   ]
  },
  {
   "cell_type": "code",
   "execution_count": 67,
   "id": "dae60a4b",
   "metadata": {},
   "outputs": [
    {
     "data": {
      "text/plain": [
       "0        9.4\n",
       "1        9.8\n",
       "2        9.8\n",
       "3        9.8\n",
       "4        9.4\n",
       "        ... \n",
       "6492    11.2\n",
       "6493     9.6\n",
       "6494     9.4\n",
       "6495    12.8\n",
       "6496    11.8\n",
       "Name: alcohol, Length: 6497, dtype: float64"
      ]
     },
     "execution_count": 67,
     "metadata": {},
     "output_type": "execute_result"
    }
   ],
   "source": [
    "wine['alcohol']"
   ]
  },
  {
   "cell_type": "code",
   "execution_count": 68,
   "id": "99b384ff",
   "metadata": {},
   "outputs": [
    {
     "data": {
      "text/html": [
       "<div>\n",
       "<style scoped>\n",
       "    .dataframe tbody tr th:only-of-type {\n",
       "        vertical-align: middle;\n",
       "    }\n",
       "\n",
       "    .dataframe tbody tr th {\n",
       "        vertical-align: top;\n",
       "    }\n",
       "\n",
       "    .dataframe thead th {\n",
       "        text-align: right;\n",
       "    }\n",
       "</style>\n",
       "<table border=\"1\" class=\"dataframe\">\n",
       "  <thead>\n",
       "    <tr style=\"text-align: right;\">\n",
       "      <th></th>\n",
       "      <th>type</th>\n",
       "      <th>fixed_acidity</th>\n",
       "      <th>volatile_acidity</th>\n",
       "      <th>citric_acid</th>\n",
       "      <th>residual_sugar</th>\n",
       "      <th>chlorides</th>\n",
       "      <th>free_sulfur_dioxide</th>\n",
       "      <th>total_sulfur_dioxide</th>\n",
       "      <th>density</th>\n",
       "      <th>pH</th>\n",
       "      <th>sulphates</th>\n",
       "      <th>alcohol</th>\n",
       "      <th>quality</th>\n",
       "    </tr>\n",
       "  </thead>\n",
       "  <tbody>\n",
       "    <tr>\n",
       "      <th>0</th>\n",
       "      <td>red</td>\n",
       "      <td>7.4</td>\n",
       "      <td>0.7</td>\n",
       "      <td>0.0</td>\n",
       "      <td>1.9</td>\n",
       "      <td>0.076</td>\n",
       "      <td>11.0</td>\n",
       "      <td>34.0</td>\n",
       "      <td>0.9978</td>\n",
       "      <td>3.51</td>\n",
       "      <td>0.56</td>\n",
       "      <td>9.4</td>\n",
       "      <td>5</td>\n",
       "    </tr>\n",
       "  </tbody>\n",
       "</table>\n",
       "</div>"
      ],
      "text/plain": [
       "  type  fixed_acidity  volatile_acidity  citric_acid  residual_sugar  \\\n",
       "0  red            7.4               0.7          0.0             1.9   \n",
       "\n",
       "   chlorides  free_sulfur_dioxide  total_sulfur_dioxide  density    pH  \\\n",
       "0      0.076                 11.0                  34.0   0.9978  3.51   \n",
       "\n",
       "   sulphates  alcohol  quality  \n",
       "0       0.56      9.4        5  "
      ]
     },
     "execution_count": 68,
     "metadata": {},
     "output_type": "execute_result"
    }
   ],
   "source": [
    "wine.head(1)"
   ]
  },
  {
   "cell_type": "code",
   "execution_count": 69,
   "id": "21eb1fa8",
   "metadata": {},
   "outputs": [
    {
     "data": {
      "text/html": [
       "<div>\n",
       "<style scoped>\n",
       "    .dataframe tbody tr th:only-of-type {\n",
       "        vertical-align: middle;\n",
       "    }\n",
       "\n",
       "    .dataframe tbody tr th {\n",
       "        vertical-align: top;\n",
       "    }\n",
       "\n",
       "    .dataframe thead tr th {\n",
       "        text-align: left;\n",
       "    }\n",
       "\n",
       "    .dataframe thead tr:last-of-type th {\n",
       "        text-align: right;\n",
       "    }\n",
       "</style>\n",
       "<table border=\"1\" class=\"dataframe\">\n",
       "  <thead>\n",
       "    <tr>\n",
       "      <th></th>\n",
       "      <th colspan=\"8\" halign=\"left\">alcohol</th>\n",
       "    </tr>\n",
       "    <tr>\n",
       "      <th></th>\n",
       "      <th>count</th>\n",
       "      <th>mean</th>\n",
       "      <th>std</th>\n",
       "      <th>min</th>\n",
       "      <th>25%</th>\n",
       "      <th>50%</th>\n",
       "      <th>75%</th>\n",
       "      <th>max</th>\n",
       "    </tr>\n",
       "    <tr>\n",
       "      <th>type</th>\n",
       "      <th></th>\n",
       "      <th></th>\n",
       "      <th></th>\n",
       "      <th></th>\n",
       "      <th></th>\n",
       "      <th></th>\n",
       "      <th></th>\n",
       "      <th></th>\n",
       "    </tr>\n",
       "  </thead>\n",
       "  <tbody>\n",
       "    <tr>\n",
       "      <th>red</th>\n",
       "      <td>1599.0</td>\n",
       "      <td>10.422983</td>\n",
       "      <td>1.065668</td>\n",
       "      <td>8.4</td>\n",
       "      <td>9.5</td>\n",
       "      <td>10.2</td>\n",
       "      <td>11.1</td>\n",
       "      <td>14.9</td>\n",
       "    </tr>\n",
       "    <tr>\n",
       "      <th>white</th>\n",
       "      <td>4898.0</td>\n",
       "      <td>10.514267</td>\n",
       "      <td>1.230621</td>\n",
       "      <td>8.0</td>\n",
       "      <td>9.5</td>\n",
       "      <td>10.4</td>\n",
       "      <td>11.4</td>\n",
       "      <td>14.2</td>\n",
       "    </tr>\n",
       "  </tbody>\n",
       "</table>\n",
       "</div>"
      ],
      "text/plain": [
       "      alcohol                                                 \n",
       "        count       mean       std  min  25%   50%   75%   max\n",
       "type                                                          \n",
       "red    1599.0  10.422983  1.065668  8.4  9.5  10.2  11.1  14.9\n",
       "white  4898.0  10.514267  1.230621  8.0  9.5  10.4  11.4  14.2"
      ]
     },
     "execution_count": 69,
     "metadata": {},
     "output_type": "execute_result"
    }
   ],
   "source": [
    "wine.groupby('type')[['alcohol']].describe()"
   ]
  },
  {
   "cell_type": "markdown",
   "id": "04c6d0a3",
   "metadata": {},
   "source": [
    "### 특정 사분위수 값 확인"
   ]
  },
  {
   "cell_type": "code",
   "execution_count": 70,
   "id": "aebeeaf1",
   "metadata": {},
   "outputs": [
    {
     "data": {
      "text/html": [
       "<div>\n",
       "<style scoped>\n",
       "    .dataframe tbody tr th:only-of-type {\n",
       "        vertical-align: middle;\n",
       "    }\n",
       "\n",
       "    .dataframe tbody tr th {\n",
       "        vertical-align: top;\n",
       "    }\n",
       "\n",
       "    .dataframe thead th {\n",
       "        text-align: right;\n",
       "    }\n",
       "</style>\n",
       "<table border=\"1\" class=\"dataframe\">\n",
       "  <thead>\n",
       "    <tr style=\"text-align: right;\">\n",
       "      <th></th>\n",
       "      <th></th>\n",
       "      <th>quality</th>\n",
       "    </tr>\n",
       "    <tr>\n",
       "      <th>type</th>\n",
       "      <th></th>\n",
       "      <th></th>\n",
       "    </tr>\n",
       "  </thead>\n",
       "  <tbody>\n",
       "    <tr>\n",
       "      <th rowspan=\"2\" valign=\"top\">red</th>\n",
       "      <th>0.2</th>\n",
       "      <td>5.0</td>\n",
       "    </tr>\n",
       "    <tr>\n",
       "      <th>0.8</th>\n",
       "      <td>6.0</td>\n",
       "    </tr>\n",
       "    <tr>\n",
       "      <th rowspan=\"2\" valign=\"top\">white</th>\n",
       "      <th>0.2</th>\n",
       "      <td>5.0</td>\n",
       "    </tr>\n",
       "    <tr>\n",
       "      <th>0.8</th>\n",
       "      <td>7.0</td>\n",
       "    </tr>\n",
       "  </tbody>\n",
       "</table>\n",
       "</div>"
      ],
      "text/plain": [
       "           quality\n",
       "type              \n",
       "red   0.2      5.0\n",
       "      0.8      6.0\n",
       "white 0.2      5.0\n",
       "      0.8      7.0"
      ]
     },
     "execution_count": 70,
     "metadata": {},
     "output_type": "execute_result"
    }
   ],
   "source": [
    "wine.groupby('type')[['quality']].quantile([0.2, 0.8])"
   ]
  },
  {
   "cell_type": "code",
   "execution_count": 71,
   "id": "632f1727",
   "metadata": {},
   "outputs": [
    {
     "data": {
      "text/plain": [
       "0    5\n",
       "1    5\n",
       "2    5\n",
       "3    6\n",
       "4    5\n",
       "5    5\n",
       "6    5\n",
       "7    7\n",
       "8    7\n",
       "9    5\n",
       "Name: quality, dtype: int64"
      ]
     },
     "execution_count": 71,
     "metadata": {},
     "output_type": "execute_result"
    }
   ],
   "source": [
    "red_wine = wine.loc[wine['type']=='red', 'quality']\n",
    "red_wine.head(10)"
   ]
  },
  {
   "cell_type": "code",
   "execution_count": 72,
   "id": "1733360b",
   "metadata": {},
   "outputs": [],
   "source": [
    "white_wine = wine.loc[wine['type']=='white', 'quality']"
   ]
  },
  {
   "cell_type": "code",
   "execution_count": 73,
   "id": "042fc7dc",
   "metadata": {},
   "outputs": [
    {
     "name": "stderr",
     "output_type": "stream",
     "text": [
      "C:\\Users\\user\\AppData\\Local\\Temp\\ipykernel_3396\\1973645628.py:2: UserWarning: \n",
      "\n",
      "`distplot` is a deprecated function and will be removed in seaborn v0.14.0.\n",
      "\n",
      "Please adapt your code to use either `displot` (a figure-level function with\n",
      "similar flexibility) or `histplot` (an axes-level function for histograms).\n",
      "\n",
      "For a guide to updating your code to use the new functions, please see\n",
      "https://gist.github.com/mwaskom/de44147ed2974457ad6372750bbe5751\n",
      "\n",
      "  sns.distplot(red_wine, norm_hist=True, kde=False, color=\"red\", label=\"Red wine\")\n",
      "C:\\Users\\user\\AppData\\Local\\Temp\\ipykernel_3396\\1973645628.py:3: UserWarning: \n",
      "\n",
      "`distplot` is a deprecated function and will be removed in seaborn v0.14.0.\n",
      "\n",
      "Please adapt your code to use either `displot` (a figure-level function with\n",
      "similar flexibility) or `histplot` (an axes-level function for histograms).\n",
      "\n",
      "For a guide to updating your code to use the new functions, please see\n",
      "https://gist.github.com/mwaskom/de44147ed2974457ad6372750bbe5751\n",
      "\n",
      "  sns.distplot(white_wine, norm_hist=True, kde=False, color=\"white\", label=\"White wine\")\n"
     ]
    },
    {
     "data": {
      "image/png": "[encoded data removed]",
      "text/plain": [
       "<Figure size 640x480 with 1 Axes>"
      ]
     },
     "metadata": {},
     "output_type": "display_data"
    }
   ],
   "source": [
    "sns.set_style(\"dark\")\n",
    "sns.distplot(red_wine, norm_hist=True, kde=False, color=\"red\", label=\"Red wine\")\n",
    "sns.distplot(white_wine, norm_hist=True, kde=False, color=\"white\", label=\"White wine\")\n",
    "plt.xlabel(\"Quality Score\")\n",
    "plt.ylabel(\"Density\")\n",
    "plt.title(\"Distribution of Quality by Wine Type\")\n",
    "plt.legend()\n",
    "plt.show()"
   ]
  },
  {
   "cell_type": "markdown",
   "id": "13b4c066",
   "metadata": {},
   "source": [
    "### 와인 종류에 따른 품질의 차이 검정"
   ]
  },
  {
   "cell_type": "code",
   "execution_count": 74,
   "id": "1887ff79",
   "metadata": {},
   "outputs": [
    {
     "data": {
      "text/html": [
       "<div>\n",
       "<style scoped>\n",
       "    .dataframe tbody tr th:only-of-type {\n",
       "        vertical-align: middle;\n",
       "    }\n",
       "\n",
       "    .dataframe tbody tr th {\n",
       "        vertical-align: top;\n",
       "    }\n",
       "\n",
       "    .dataframe thead tr th {\n",
       "        text-align: left;\n",
       "    }\n",
       "\n",
       "    .dataframe thead tr:last-of-type th {\n",
       "        text-align: right;\n",
       "    }\n",
       "</style>\n",
       "<table border=\"1\" class=\"dataframe\">\n",
       "  <thead>\n",
       "    <tr>\n",
       "      <th></th>\n",
       "      <th colspan=\"2\" halign=\"left\">quality</th>\n",
       "    </tr>\n",
       "    <tr>\n",
       "      <th></th>\n",
       "      <th>std</th>\n",
       "      <th>mean</th>\n",
       "    </tr>\n",
       "    <tr>\n",
       "      <th>type</th>\n",
       "      <th></th>\n",
       "      <th></th>\n",
       "    </tr>\n",
       "  </thead>\n",
       "  <tbody>\n",
       "    <tr>\n",
       "      <th>red</th>\n",
       "      <td>0.807569</td>\n",
       "      <td>5.636023</td>\n",
       "    </tr>\n",
       "    <tr>\n",
       "      <th>white</th>\n",
       "      <td>0.885639</td>\n",
       "      <td>5.877909</td>\n",
       "    </tr>\n",
       "  </tbody>\n",
       "</table>\n",
       "</div>"
      ],
      "text/plain": [
       "        quality          \n",
       "            std      mean\n",
       "type                     \n",
       "red    0.807569  5.636023\n",
       "white  0.885639  5.877909"
      ]
     },
     "execution_count": 74,
     "metadata": {},
     "output_type": "execute_result"
    }
   ],
   "source": [
    "wine.groupby(['type'])[['quality']].agg(['std', 'mean'])"
   ]
  },
  {
   "cell_type": "markdown",
   "id": "49e9b07b",
   "metadata": {},
   "source": [
    "### 레드와인과 화이트와인은 같은 종류의 데이터셋으로 볼 수 있는가?"
   ]
  },
  {
   "cell_type": "markdown",
   "id": "830da717",
   "metadata": {},
   "source": [
    "### t-test (T 검정)"
   ]
  },
  {
   "cell_type": "markdown",
   "id": "bb103c12",
   "metadata": {},
   "source": [
    "* ttest_ind의 반환값:t-statistic, p-value, df\n",
    "    * 이 중 t-statistic은 0에 가까울 수록, df는 큰 값일 수록 신뢰도가 올라가나 절대적인 기준이 없다.\n",
    "    * p-value는 0.05값을 기준으로 가설을 검증하는 용도로 활용된다."
   ]
  },
  {
   "cell_type": "code",
   "execution_count": 75,
   "id": "e153bc6d",
   "metadata": {},
   "outputs": [],
   "source": [
    "tstat, pvalue, df = sm.stats.ttest_ind(red_wine, white_wine)"
   ]
  },
  {
   "cell_type": "code",
   "execution_count": 76,
   "id": "34c4f608-4c41-4155-bd29-51a0649c6231",
   "metadata": {},
   "outputs": [
    {
     "data": {
      "text/plain": [
       "(-9.685649554187696, 6495.0)"
      ]
     },
     "execution_count": 76,
     "metadata": {},
     "output_type": "execute_result"
    }
   ],
   "source": [
    "tstat,df"
   ]
  },
  {
   "cell_type": "raw",
   "id": "34071caf-709a-4be3-bd49-083e63bae6b5",
   "metadata": {},
   "source": [
    "tstat, df 값을 보조지표로서 절대적인 기준이 없지만 기존 데이터셋에 대해서 초기 측정을 하고\n",
    "전처리, 추가데이터 수집 이후에 데이터의 신뢰도가 올라갔는지 여부를 판단할 수 있다."
   ]
  },
  {
   "cell_type": "code",
   "execution_count": 77,
   "id": "dab336f6",
   "metadata": {},
   "outputs": [
    {
     "data": {
      "text/plain": [
       "4.888069044201508e-22"
      ]
     },
     "execution_count": 77,
     "metadata": {},
     "output_type": "execute_result"
    }
   ],
   "source": [
    "pvalue"
   ]
  },
  {
   "cell_type": "code",
   "execution_count": 78,
   "id": "9e2a6c18",
   "metadata": {},
   "outputs": [
    {
     "name": "stdout",
     "output_type": "stream",
     "text": [
      "p-value: 0.0000\n"
     ]
    }
   ],
   "source": [
    "print('p-value: %.4f' %  pvalue)"
   ]
  },
  {
   "cell_type": "markdown",
   "id": "875c3cdf",
   "metadata": {
    "heading_collapsed": true
   },
   "source": [
    "### pvalue: 유의확률 (통계값을 얼마나 신뢰할 수 있는가를 나타내는 지표)"
   ]
  },
  {
   "cell_type": "markdown",
   "id": "e5c9e793",
   "metadata": {
    "heading_collapsed": true
   },
   "source": [
    "### pvalue 해석\n",
    "* 통계학에서 0.05를 기준으로 해석\n",
    "* 샘플 크기에 따라 통계값을 신뢰할 수 있는지에 대한 유용한 지표로 활용\n",
    "* 0.05보다 작은 경우\n",
    "    * 귀무가설(H0, Null Hypothesis / 두 표본과의 차이가 없다)를 기각할 수 있다.\n",
    "    * 대립가설(H1 또는 Ha, Alternative Hypothesis /두 표본과의 차이가 있다)를 받아들인다.\n",
    " \n",
    "* 단순히 정리\n",
    "  * p-value < 0.05 : 두 표본 차이가 있다. (귀무가설 기각, 대립가설 채택)\n",
    "  * p-value > 0.05 : 두 표본 차이가 없다. (귀무가설 채택, 대립가설 기각)"
   ]
  },
  {
   "cell_type": "markdown",
   "id": "be9d3574",
   "metadata": {},
   "source": [
    "### T-test 실습"
   ]
  },
  {
   "cell_type": "markdown",
   "id": "5909dfaf",
   "metadata": {},
   "source": [
    "* 아래 예제에서 loc, 샘플수(size)를 변경하면서 가설 검정의 결과가 어떻게 바뀌는지 확인해 보세요.\n",
    "    * t-test1 => G1(loc: 50, size: 10000),  G2(loc: 55, size: 10000)\n",
    "    * t-test2 => G1(loc: 54, size: 10000),  G2(loc: 55, size: 10000)\n",
    "    * t-test3 => G1(loc: 54.9, size: 10000),  G2(loc: 55, size: 10000)\n",
    "    * t-test4 => G1(loc: 54.8, size: 10000),  G2(loc: 55, size: 10000)\n",
    "    * t-test5 => G1(loc: 54.9, size: 10000),  G2(loc: 55, size: 1)"
   ]
  },
  {
   "cell_type": "code",
   "execution_count": 92,
   "id": "e065cae7",
   "metadata": {},
   "outputs": [
    {
     "name": "stderr",
     "output_type": "stream",
     "text": [
      "C:\\Users\\user\\anaconda3\\Lib\\site-packages\\seaborn\\_oldcore.py:1119: FutureWarning: use_inf_as_na option is deprecated and will be removed in a future version. Convert inf values to NaN before operating instead.\n",
      "  with pd.option_context('mode.use_inf_as_na', True):\n",
      "C:\\Users\\user\\anaconda3\\Lib\\site-packages\\seaborn\\_oldcore.py:1119: FutureWarning: use_inf_as_na option is deprecated and will be removed in a future version. Convert inf values to NaN before operating instead.\n",
      "  with pd.option_context('mode.use_inf_as_na', True):\n",
      "C:\\Users\\user\\anaconda3\\Lib\\site-packages\\IPython\\core\\pylabtools.py:152: UserWarning: Glyph 8722 (\\N{MINUS SIGN}) missing from current font.\n",
      "  fig.canvas.print_figure(bytes_io, **kw)\n"
     ]
    },
    {
     "data": {
      "image/png": "[encoded data removed]",
      "text/plain": [
       "<Figure size 640x480 with 1 Axes>"
      ]
     },
     "metadata": {},
     "output_type": "display_data"
    }
   ],
   "source": [
    "import numpy as np\n",
    "from scipy.stats import ttest_ind\n",
    "import matplotlib.pyplot as plt\n",
    "import seaborn as sns\n",
    "\n",
    "# 가상의 데이터셋 생성\n",
    "np.random.seed(42)\n",
    "\n",
    "# 두 개의 그룹을 위한 데이터 생성\n",
    "# t-test는 평균을 중심으로 유의미한 차이를 검증하는데 포커스되어 있다.\n",
    "# t-test1\n",
    "# group1 = np.random.normal(loc=50, scale=10, size=10000)  # 평균: 50, 표준편차: 10, 샘플 크기: 10000\n",
    "# group2 = np.random.normal(loc=55, scale=10, size=10000)  # 평균: 55, 표준편차: 10, 샘플 크기: 10000\n",
    "\n",
    "# t-test2\n",
    "# group1 = np.random.normal(loc=54, scale=10, size=10000)  # 평균: 54, 표준편차: 10, 샘플 크기: 10000\n",
    "# group2 = np.random.normal(loc=55, scale=10, size=10000)  # 평균: 55, 표준편차: 10, 샘플 크기: 10000\n",
    "\n",
    "# t-test3\n",
    "# group1 = np.random.normal(loc=54.9, scale=10, size=10000)  # 평균: 54.9, 표준편차: 10, 샘플 크기: 10000\n",
    "# group2 = np.random.normal(loc=55, scale=10, size=10000)  # 평균: 55, 표준편차: 10, 샘플 크기: 10000\n",
    "\n",
    "\n",
    "# t-test4\n",
    "# t-test는 평균값을 기준으로 검증하기 때문에 아래와 같이 분산값을 크게하여 데이터 분포가 다르게 보이는 데이터도\n",
    "# 유사하다고 판단할 수 있다. 아래와 같은 데이터 셋은 히스토그램 분석후 회의를 거쳐 추가 논의할 수 있다.\n",
    "group1 = np.random.normal(loc=54.9, scale=10, size=10000)  # 평균: 54.9, 표준편차: 10, 샘플 크기: 10000\n",
    "group2 = np.random.normal(loc=55, scale=100, size=10000)  # 평균: 55, 표준편차: 100, 샘플 크기: 10000\n",
    "\n",
    "# 한글 폰트 설정\n",
    "plt.rcParams['font.family'] = 'Malgun Gothic'\n",
    "# 히스토그램 그리기\n",
    "sns.histplot(group1, bins=100, color='blue', label='Group 1', kde=True)\n",
    "sns.histplot(group2, bins=100, color='red', label='Group 2', kde=True)\n",
    "\n",
    "# 결과 출력\n",
    "plt.xlabel('Value')\n",
    "plt.ylabel('Frequency')\n",
    "plt.legend()\n",
    "plt.title('Group 1, Group 2의 히스토그램 비교')\n",
    "plt.show()"
   ]
  },
  {
   "cell_type": "code",
   "execution_count": 93,
   "id": "12757b11",
   "metadata": {},
   "outputs": [
    {
     "name": "stdout",
     "output_type": "stream",
     "text": [
      "Group 1 평균: 54.87864016631574\n",
      "Group 2 평균: 56.35340530648873\n",
      "t-statistic: -1.4659295699226034\n",
      "p-value: 0.1427\n",
      "귀무 가설을 받아들입니다. 두 그룹 간에는 통계적으로 유의미한 차이가 없습니다.\n"
     ]
    }
   ],
   "source": [
    "# t-test 수행\n",
    "t_statistic, p_value = ttest_ind(group1, group2)\n",
    "\n",
    "# 결과 출력\n",
    "print(\"Group 1 평균:\", np.mean(group1))\n",
    "print(\"Group 2 평균:\", np.mean(group2))\n",
    "print(\"t-statistic:\", t_statistic)\n",
    "print('p-value: %.4f' %  p_value)\n",
    "# print(\"p-value:\", p_value)\n",
    "\n",
    "# 유의 수준 0.05로 가정하고 귀무 가설 기각 여부 판단\n",
    "alpha = 0.05\n",
    "if p_value < alpha:\n",
    "    print(\"귀무 가설을 기각합니다. 두 그룹 간에는 통계적으로 유의미한 차이가 있습니다.\")\n",
    "#     print(\"대립 가설을 받아들입니다. 두 그룹 간에는 통계적으로 유의미한 차이가 있습니다.\")\n",
    "else:\n",
    "    print(\"귀무 가설을 받아들입니다. 두 그룹 간에는 통계적으로 유의미한 차이가 없습니다.\")\n",
    "#     print(\"대립 가설을 기각합니다. 두 그룹 간에는 통계적으로 유의미한 차이가 있습니다.\")"
   ]
  },
  {
   "cell_type": "markdown",
   "id": "8b3caa24",
   "metadata": {},
   "source": [
    "### 실데이터로 t-test"
   ]
  },
  {
   "cell_type": "code",
   "execution_count": 94,
   "id": "4d8a6541",
   "metadata": {},
   "outputs": [],
   "source": [
    "import numpy as np\n",
    "import seaborn as sns\n",
    "import statsmodels.api as sm\n",
    "\n",
    "# iris 데이터셋 로드 (Seaborn 라이브러리에 기본으로 포함된 데이터셋)\n",
    "iris = sns.load_dataset('iris')"
   ]
  },
  {
   "cell_type": "code",
   "execution_count": 95,
   "id": "731d5536",
   "metadata": {
    "scrolled": true
   },
   "outputs": [
    {
     "data": {
      "text/html": [
       "<div>\n",
       "<style scoped>\n",
       "    .dataframe tbody tr th:only-of-type {\n",
       "        vertical-align: middle;\n",
       "    }\n",
       "\n",
       "    .dataframe tbody tr th {\n",
       "        vertical-align: top;\n",
       "    }\n",
       "\n",
       "    .dataframe thead th {\n",
       "        text-align: right;\n",
       "    }\n",
       "</style>\n",
       "<table border=\"1\" class=\"dataframe\">\n",
       "  <thead>\n",
       "    <tr style=\"text-align: right;\">\n",
       "      <th></th>\n",
       "      <th>sepal_length</th>\n",
       "      <th>sepal_width</th>\n",
       "      <th>petal_length</th>\n",
       "      <th>petal_width</th>\n",
       "      <th>species</th>\n",
       "    </tr>\n",
       "  </thead>\n",
       "  <tbody>\n",
       "    <tr>\n",
       "      <th>0</th>\n",
       "      <td>5.1</td>\n",
       "      <td>3.5</td>\n",
       "      <td>1.4</td>\n",
       "      <td>0.2</td>\n",
       "      <td>setosa</td>\n",
       "    </tr>\n",
       "    <tr>\n",
       "      <th>1</th>\n",
       "      <td>4.9</td>\n",
       "      <td>3.0</td>\n",
       "      <td>1.4</td>\n",
       "      <td>0.2</td>\n",
       "      <td>setosa</td>\n",
       "    </tr>\n",
       "    <tr>\n",
       "      <th>2</th>\n",
       "      <td>4.7</td>\n",
       "      <td>3.2</td>\n",
       "      <td>1.3</td>\n",
       "      <td>0.2</td>\n",
       "      <td>setosa</td>\n",
       "    </tr>\n",
       "    <tr>\n",
       "      <th>3</th>\n",
       "      <td>4.6</td>\n",
       "      <td>3.1</td>\n",
       "      <td>1.5</td>\n",
       "      <td>0.2</td>\n",
       "      <td>setosa</td>\n",
       "    </tr>\n",
       "    <tr>\n",
       "      <th>4</th>\n",
       "      <td>5.0</td>\n",
       "      <td>3.6</td>\n",
       "      <td>1.4</td>\n",
       "      <td>0.2</td>\n",
       "      <td>setosa</td>\n",
       "    </tr>\n",
       "    <tr>\n",
       "      <th>...</th>\n",
       "      <td>...</td>\n",
       "      <td>...</td>\n",
       "      <td>...</td>\n",
       "      <td>...</td>\n",
       "      <td>...</td>\n",
       "    </tr>\n",
       "    <tr>\n",
       "      <th>145</th>\n",
       "      <td>6.7</td>\n",
       "      <td>3.0</td>\n",
       "      <td>5.2</td>\n",
       "      <td>2.3</td>\n",
       "      <td>virginica</td>\n",
       "    </tr>\n",
       "    <tr>\n",
       "      <th>146</th>\n",
       "      <td>6.3</td>\n",
       "      <td>2.5</td>\n",
       "      <td>5.0</td>\n",
       "      <td>1.9</td>\n",
       "      <td>virginica</td>\n",
       "    </tr>\n",
       "    <tr>\n",
       "      <th>147</th>\n",
       "      <td>6.5</td>\n",
       "      <td>3.0</td>\n",
       "      <td>5.2</td>\n",
       "      <td>2.0</td>\n",
       "      <td>virginica</td>\n",
       "    </tr>\n",
       "    <tr>\n",
       "      <th>148</th>\n",
       "      <td>6.2</td>\n",
       "      <td>3.4</td>\n",
       "      <td>5.4</td>\n",
       "      <td>2.3</td>\n",
       "      <td>virginica</td>\n",
       "    </tr>\n",
       "    <tr>\n",
       "      <th>149</th>\n",
       "      <td>5.9</td>\n",
       "      <td>3.0</td>\n",
       "      <td>5.1</td>\n",
       "      <td>1.8</td>\n",
       "      <td>virginica</td>\n",
       "    </tr>\n",
       "  </tbody>\n",
       "</table>\n",
       "<p>150 rows × 5 columns</p>\n",
       "</div>"
      ],
      "text/plain": [
       "     sepal_length  sepal_width  petal_length  petal_width    species\n",
       "0             5.1          3.5           1.4          0.2     setosa\n",
       "1             4.9          3.0           1.4          0.2     setosa\n",
       "2             4.7          3.2           1.3          0.2     setosa\n",
       "3             4.6          3.1           1.5          0.2     setosa\n",
       "4             5.0          3.6           1.4          0.2     setosa\n",
       "..            ...          ...           ...          ...        ...\n",
       "145           6.7          3.0           5.2          2.3  virginica\n",
       "146           6.3          2.5           5.0          1.9  virginica\n",
       "147           6.5          3.0           5.2          2.0  virginica\n",
       "148           6.2          3.4           5.4          2.3  virginica\n",
       "149           5.9          3.0           5.1          1.8  virginica\n",
       "\n",
       "[150 rows x 5 columns]"
      ]
     },
     "execution_count": 95,
     "metadata": {},
     "output_type": "execute_result"
    }
   ],
   "source": [
    "iris"
   ]
  },
  {
   "cell_type": "markdown",
   "id": "1e0d3958",
   "metadata": {},
   "source": [
    "#### 문제]\n",
    "* sepal_length 열의 값중 품종이 setosa와 versicolor인 것을 2개의 그룹으로 나누어서 데이터가 차이가 있는지 검증해 보세요\n",
    "* sepal_width, petal_length, petal_width 값도 같은 방식으로 검증해 보세요"
   ]
  },
  {
   "cell_type": "code",
   "execution_count": 98,
   "id": "4f38f690-c3a6-44d2-a6ae-6817ba25dc81",
   "metadata": {},
   "outputs": [
    {
     "data": {
      "text/plain": [
       "array(['setosa', 'versicolor', 'virginica'], dtype=object)"
      ]
     },
     "execution_count": 98,
     "metadata": {},
     "output_type": "execute_result"
    }
   ],
   "source": [
    "iris.species.unique()"
   ]
  },
  {
   "cell_type": "code",
   "execution_count": 99,
   "id": "4ea31d4d",
   "metadata": {},
   "outputs": [
    {
     "name": "stdout",
     "output_type": "stream",
     "text": [
      "독립표본 t-test 결과:\n",
      "p-value: 0.0000\n",
      "귀무 가설을 기각합니다. 두 그룹 간에는 평균이 다른 유의미한 차이가 있습니다.\n"
     ]
    }
   ],
   "source": [
    "sepal_length = iris['sepal_length']\n",
    "# sepal_length = iris['petal_width']\n",
    "\n",
    "# 두 개의 그룹으로 나누기 (species: setosa, versicolor)\n",
    "group1 = sepal_length[iris['species'] == 'setosa']\n",
    "group2 = sepal_length[iris['species'] == 'versicolor']\n",
    "\n",
    "# 두 집단 간의 평균 차이 검정 (독립표본 t-test)\n",
    "_, p_value, _ = sm.stats.ttest_ind(group1, group2) # _ dummy(활용하지 않는) 변수 \n",
    "\n",
    "# 결과 출력\n",
    "print(\"독립표본 t-test 결과:\")\n",
    "# print(\"p-value:\", p_value)\n",
    "print('p-value: %.4f' %  p_value)\n",
    "\n",
    "# 유의 수준 0.05로 가정하고 귀무 가설 기각 여부 판단\n",
    "alpha = 0.05\n",
    "if p_value < alpha:\n",
    "    print(\"귀무 가설을 기각합니다. 두 그룹 간에는 평균이 다른 유의미한 차이가 있습니다.\")\n",
    "else:\n",
    "    print(\"귀무 가설을 기각하지 않습니다. 두 그룹 간에는 평균이 같은 유의미한 차이가 없습니다.\")"
   ]
  },
  {
   "cell_type": "markdown",
   "id": "ff63f199-8801-47c0-bc8e-c5a5c1d70768",
   "metadata": {},
   "source": [
    "* 연습\n",
    "    * setosa, virginica 의 sepal_length 데이터가 유사한지 검증하세요.\n",
    "    * versicolor, virginica 의 sepal_length 데이터가 유사한지 검증하세요.\n",
    "    * sepal_width, petal_length, petal_width 열도 setosa, virginica, versicolor 품종 2개를 조합하여 t-test 검증\n",
    "    * 검증후 히스토그램으로 이상유무 확인"
   ]
  },
  {
   "cell_type": "markdown",
   "id": "5aae9434-59da-4367-aa77-31dae38837bb",
   "metadata": {},
   "source": [
    "* 연습\n",
    "    * setosa, virginica 의 sepal_length 데이터가 유사한지 검증하세요."
   ]
  },
  {
   "cell_type": "code",
   "execution_count": 103,
   "id": "89990bf6-a969-4572-90f4-189a1b827831",
   "metadata": {},
   "outputs": [
    {
     "name": "stdout",
     "output_type": "stream",
     "text": [
      "독립표본 t-test 결과:\n",
      "p-value: 0.0000\n",
      "귀무 가설을 기각합니다. 두 그룹 간에는 평균이 다른 유의미한 차이가 있습니다.\n"
     ]
    }
   ],
   "source": [
    "sepal_length = iris['sepal_length']\n",
    "# sepal_length = iris['petal_width']\n",
    "\n",
    "# 두 개의 그룹으로 나누기 (species: setosa, versicolor)\n",
    "group1 = sepal_length[iris['species'] == 'setosa']\n",
    "group2 = sepal_length[iris['species'] == 'virginica']\n",
    "\n",
    "# 두 집단 간의 평균 차이 검정 (독립표본 t-test)\n",
    "_, p_value, _ = sm.stats.ttest_ind(group1, group2) # _ dummy(활용하지 않는) 변수 \n",
    "\n",
    "# 결과 출력\n",
    "print(\"독립표본 t-test 결과:\")\n",
    "# print(\"p-value:\", p_value)\n",
    "print('p-value: %.4f' %  p_value)\n",
    "\n",
    "# 유의 수준 0.05로 가정하고 귀무 가설 기각 여부 판단\n",
    "alpha = 0.05\n",
    "if p_value < alpha:\n",
    "    print(\"귀무 가설을 기각합니다. 두 그룹 간에는 평균이 다른 유의미한 차이가 있습니다.\")\n",
    "else:\n",
    "    print(\"귀무 가설을 기각하지 않습니다. 두 그룹 간에는 평균이 같은 유의미한 차이가 없습니다.\")"
   ]
  },
  {
   "cell_type": "code",
   "execution_count": 110,
   "id": "f6bffd3f-18b4-4232-a193-400f8bb26377",
   "metadata": {},
   "outputs": [
    {
     "name": "stderr",
     "output_type": "stream",
     "text": [
      "C:\\Users\\user\\anaconda3\\Lib\\site-packages\\seaborn\\_oldcore.py:1119: FutureWarning: use_inf_as_na option is deprecated and will be removed in a future version. Convert inf values to NaN before operating instead.\n",
      "  with pd.option_context('mode.use_inf_as_na', True):\n",
      "C:\\Users\\user\\anaconda3\\Lib\\site-packages\\seaborn\\_oldcore.py:1119: FutureWarning: use_inf_as_na option is deprecated and will be removed in a future version. Convert inf values to NaN before operating instead.\n",
      "  with pd.option_context('mode.use_inf_as_na', True):\n"
     ]
    },
    {
     "data": {
      "image/png": "[encoded data removed]",
      "text/plain": [
       "<Figure size 640x480 with 1 Axes>"
      ]
     },
     "metadata": {},
     "output_type": "display_data"
    }
   ],
   "source": [
    "# 한글 폰트 설정\n",
    "plt.rcParams['font.family'] = 'Malgun Gothic'\n",
    "# 히스토그램 그리기\n",
    "sns.histplot(group1, color='blue', label='setosa', kde=True)\n",
    "sns.histplot(group2, color='red', label='virginica', kde=True)\n",
    "\n",
    "# 결과 출력\n",
    "plt.xlabel('sepal_length')\n",
    "plt.ylabel('Frequency')\n",
    "plt.legend()\n",
    "plt.title('setosa, virginica의 히스토그램 비교')\n",
    "plt.show()"
   ]
  },
  {
   "cell_type": "markdown",
   "id": "330031f3-135c-4bb2-b5b0-32f748f2c909",
   "metadata": {},
   "source": [
    "* 연습\n",
    "    * setosa, virginica 의 sepal_length 데이터가 유사한지 검증하세요."
   ]
  },
  {
   "cell_type": "code",
   "execution_count": 105,
   "id": "a901464a-03c9-4b60-b220-91285681395e",
   "metadata": {},
   "outputs": [
    {
     "name": "stdout",
     "output_type": "stream",
     "text": [
      "독립표본 t-test 결과:\n",
      "p-value: 0.0000\n",
      "귀무 가설을 기각합니다. 두 그룹 간에는 평균이 다른 유의미한 차이가 있습니다.\n"
     ]
    }
   ],
   "source": [
    "sepal_length = iris['sepal_length']\n",
    "# sepal_length = iris['petal_width']\n",
    "\n",
    "# 두 개의 그룹으로 나누기 (species: setosa, versicolor)\n",
    "group1 = sepal_length[iris['species'] == 'versicolor']\n",
    "group2 = sepal_length[iris['species'] == 'virginica']\n",
    "\n",
    "# 두 집단 간의 평균 차이 검정 (독립표본 t-test)\n",
    "_, p_value, _ = sm.stats.ttest_ind(group1, group2) # _ dummy(활용하지 않는) 변수 \n",
    "\n",
    "# 결과 출력\n",
    "print(\"독립표본 t-test 결과:\")\n",
    "# print(\"p-value:\", p_value)\n",
    "print('p-value: %.4f' %  p_value)\n",
    "\n",
    "# 유의 수준 0.05로 가정하고 귀무 가설 기각 여부 판단\n",
    "alpha = 0.05\n",
    "if p_value < alpha:\n",
    "    print(\"귀무 가설을 기각합니다. 두 그룹 간에는 평균이 다른 유의미한 차이가 있습니다.\")\n",
    "else:\n",
    "    print(\"귀무 가설을 기각하지 않습니다. 두 그룹 간에는 평균이 같은 유의미한 차이가 없습니다.\")"
   ]
  },
  {
   "cell_type": "code",
   "execution_count": 106,
   "id": "aa055ce2-4ab9-4ad0-9d65-46a8c8a56e3a",
   "metadata": {},
   "outputs": [
    {
     "name": "stderr",
     "output_type": "stream",
     "text": [
      "C:\\Users\\user\\anaconda3\\Lib\\site-packages\\seaborn\\_oldcore.py:1119: FutureWarning: use_inf_as_na option is deprecated and will be removed in a future version. Convert inf values to NaN before operating instead.\n",
      "  with pd.option_context('mode.use_inf_as_na', True):\n",
      "C:\\Users\\user\\anaconda3\\Lib\\site-packages\\seaborn\\_oldcore.py:1119: FutureWarning: use_inf_as_na option is deprecated and will be removed in a future version. Convert inf values to NaN before operating instead.\n",
      "  with pd.option_context('mode.use_inf_as_na', True):\n"
     ]
    },
    {
     "data": {
      "image/png": "[encoded data removed]",
      "text/plain": [
       "<Figure size 640x480 with 1 Axes>"
      ]
     },
     "metadata": {},
     "output_type": "display_data"
    }
   ],
   "source": [
    "# 한글 폰트 설정\n",
    "plt.rcParams['font.family'] = 'Malgun Gothic'\n",
    "# 히스토그램 그리기\n",
    "sns.histplot(group1, bins=100, color='blue', label='Group 1', kde=True)\n",
    "sns.histplot(group2, bins=100, color='red', label='Group 2', kde=True)\n",
    "\n",
    "# 결과 출력\n",
    "plt.xlabel('Value')\n",
    "plt.ylabel('Frequency')\n",
    "plt.legend()\n",
    "plt.title('Group 1, Group 2의 히스토그램 비교')\n",
    "plt.show()"
   ]
  },
  {
   "cell_type": "code",
   "execution_count": null,
   "id": "1b525808-a217-45f6-8248-3300f7baa78b",
   "metadata": {},
   "outputs": [],
   "source": []
  },
  {
   "cell_type": "code",
   "execution_count": null,
   "id": "0b9eef1e-16bd-488e-9260-16cb1b98b344",
   "metadata": {},
   "outputs": [],
   "source": []
  },
  {
   "cell_type": "code",
   "execution_count": null,
   "id": "645e99e8-27cc-4a8e-9294-e06c626cbf43",
   "metadata": {},
   "outputs": [],
   "source": []
  },
  {
   "cell_type": "code",
   "execution_count": null,
   "id": "f00b1f1d-396d-4b90-a5e2-363089b7a37b",
   "metadata": {},
   "outputs": [],
   "source": []
  },
  {
   "cell_type": "code",
   "execution_count": null,
   "id": "6bfd2767-fb66-42c9-a4f6-34a6e0147276",
   "metadata": {},
   "outputs": [],
   "source": []
  },
  {
   "cell_type": "markdown",
   "id": "74cd6b6c-9cb4-4b3b-a71b-1e45249fe3d7",
   "metadata": {
    "jp-MarkdownHeadingCollapsed": true
   },
   "source": [
    "# 결과 활용방안"
   ]
  },
  {
   "cell_type": "markdown",
   "id": "a52c56a2-5456-48e4-82ac-01a49bf6a832",
   "metadata": {},
   "source": [
    "* 의사결정  \n",
    "    * 두 데이터 셋에 대하여 분리하여 분석 (선형외귀 예측, 성능, 차이점등)  \n",
    "* 추가 연구 방향 설정  \n",
    "    * 예측 결과와 틀릴 경우 데이터 셋 검증\n",
    "    * 원인 분석  "
   ]
  }
 ],
 "metadata": {
  "kernelspec": {
   "display_name": "Python 3 (ipykernel)",
   "language": "python",
   "name": "python3"
  },
  "language_info": {
   "codemirror_mode": {
    "name": "ipython",
    "version": 3
   },
   "file_extension": ".py",
   "mimetype": "text/x-python",
   "name": "python",
   "nbconvert_exporter": "python",
   "pygments_lexer": "ipython3",
   "version": "3.11.7"
  }
 },
 "nbformat": 4,
 "nbformat_minor": 5
}
