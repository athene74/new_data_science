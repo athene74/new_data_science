{
 "cells": [
  {
   "cell_type": "markdown",
   "id": "f7b34514-d75c-4ad6-8f0e-d272a6167d63",
   "metadata": {},
   "source": [
    "# 시리즈"
   ]
  },
  {
   "cell_type": "markdown",
   "id": "b3c982b2-f48b-4c4f-9ad7-7565acc62309",
   "metadata": {},
   "source": [
    "## 리스트로 시리즈 생성"
   ]
  },
  {
   "cell_type": "code",
   "execution_count": 1,
   "id": "5e2157fb-09c6-4833-8aae-42449ed8d659",
   "metadata": {},
   "outputs": [],
   "source": [
    "import pandas as pd"
   ]
  },
  {
   "cell_type": "code",
   "execution_count": 3,
   "id": "e92a1594-e686-4d6e-a417-70a5f5e6602c",
   "metadata": {},
   "outputs": [
    {
     "data": {
      "text/plain": [
       "0    1\n",
       "1    2\n",
       "2    3\n",
       "3    4\n",
       "dtype: int64"
      ]
     },
     "execution_count": 3,
     "metadata": {},
     "output_type": "execute_result"
    }
   ],
   "source": [
    "obj = pd.Series([1,2,3,4])\n",
    "obj"
   ]
  },
  {
   "cell_type": "markdown",
   "id": "a4dca875-30e8-4664-9c6c-94568b9038c8",
   "metadata": {},
   "source": [
    "## Dict(딕셔너리)로 시리즈 생성"
   ]
  },
  {
   "cell_type": "markdown",
   "id": "562c2ad4-76bf-4095-a444-dff8d73e05f9",
   "metadata": {},
   "source": [
    "* 키가 시리즈의 인덱스로 활용이 된다."
   ]
  },
  {
   "cell_type": "code",
   "execution_count": 5,
   "id": "ff100bd4-147b-4d52-b124-c74ed32b8c57",
   "metadata": {},
   "outputs": [
    {
     "data": {
      "text/plain": [
       "1차성적    86\n",
       "2차성적    85\n",
       "3차성적    89\n",
       "4차성적    95\n",
       "dtype: int64"
      ]
     },
     "execution_count": 5,
     "metadata": {},
     "output_type": "execute_result"
    }
   ],
   "source": [
    "d = {\n",
    "    '1차성적': 86,\n",
    "    '2차성적': 85,\n",
    "    '3차성적': 89,\n",
    "    '4차성적': 95,\n",
    "}\n",
    "\n",
    "ser1 = pd.Series(d)\n",
    "ser1"
   ]
  },
  {
   "cell_type": "code",
   "execution_count": 7,
   "id": "cd475b8d-db0e-4b26-bb3c-c6f691cc40ca",
   "metadata": {},
   "outputs": [
    {
     "data": {
      "text/plain": [
       "id0001    홍길동\n",
       "id0002    이순신\n",
       "id0003    강감찬\n",
       "id0004    임꺽정\n",
       "dtype: object"
      ]
     },
     "execution_count": 7,
     "metadata": {},
     "output_type": "execute_result"
    }
   ],
   "source": [
    "d2={\n",
    "    'id0001':'홍길동',\n",
    "    'id0002':'이순신',\n",
    "    'id0003':'강감찬',\n",
    "    'id0004':'임꺽정',\n",
    "}\n",
    "ser2 = pd.Series(d2)\n",
    "ser2"
   ]
  },
  {
   "cell_type": "markdown",
   "id": "3b3b60b4-46a1-4cdb-a3f8-507f26ac54c2",
   "metadata": {},
   "source": [
    "# 데이터 프레임"
   ]
  },
  {
   "cell_type": "markdown",
   "id": "d48dc51a-7d94-4881-8f42-c4f92107fbef",
   "metadata": {},
   "source": [
    "## 시리즈로 데이터 프레임 생성 1 - Dict의 키가 index로 활용"
   ]
  },
  {
   "cell_type": "code",
   "execution_count": 9,
   "id": "8671c48a-5d0d-4a9d-b639-4f2a37458b8f",
   "metadata": {},
   "outputs": [
    {
     "data": {
      "text/html": [
       "<div>\n",
       "<style scoped>\n",
       "    .dataframe tbody tr th:only-of-type {\n",
       "        vertical-align: middle;\n",
       "    }\n",
       "\n",
       "    .dataframe tbody tr th {\n",
       "        vertical-align: top;\n",
       "    }\n",
       "\n",
       "    .dataframe thead th {\n",
       "        text-align: right;\n",
       "    }\n",
       "</style>\n",
       "<table border=\"1\" class=\"dataframe\">\n",
       "  <thead>\n",
       "    <tr style=\"text-align: right;\">\n",
       "      <th></th>\n",
       "      <th>이름</th>\n",
       "    </tr>\n",
       "  </thead>\n",
       "  <tbody>\n",
       "    <tr>\n",
       "      <th>id0001</th>\n",
       "      <td>홍길동</td>\n",
       "    </tr>\n",
       "    <tr>\n",
       "      <th>id0002</th>\n",
       "      <td>이순신</td>\n",
       "    </tr>\n",
       "    <tr>\n",
       "      <th>id0003</th>\n",
       "      <td>강감찬</td>\n",
       "    </tr>\n",
       "    <tr>\n",
       "      <th>id0004</th>\n",
       "      <td>임꺽정</td>\n",
       "    </tr>\n",
       "  </tbody>\n",
       "</table>\n",
       "</div>"
      ],
      "text/plain": [
       "         이름\n",
       "id0001  홍길동\n",
       "id0002  이순신\n",
       "id0003  강감찬\n",
       "id0004  임꺽정"
      ]
     },
     "execution_count": 9,
     "metadata": {},
     "output_type": "execute_result"
    }
   ],
   "source": [
    "# 시리즈로 데이터 프레임 생성 가능\n",
    "# Dict 타입으로 데이터 프레임을 생성하게 되면 인덱스가 dict타입의 키로 자동으로 생성된다.\n",
    "d2={\n",
    "    'id0001':'홍길동',\n",
    "    'id0002':'이순신',\n",
    "    'id0003':'강감찬',\n",
    "    'id0004':'임꺽정',\n",
    "}\n",
    "ser2 = pd.Series(d2)\n",
    "df = pd.DataFrame(ser2, columns=['이름']) \n",
    "df"
   ]
  },
  {
   "cell_type": "code",
   "execution_count": 10,
   "id": "d5b2cbc5-6e8d-4e27-bcb8-bd7122241f28",
   "metadata": {},
   "outputs": [],
   "source": [
    "s1 = pd.Series([91,92,93,94], name='s1')\n",
    "s2 = pd.Series([81,82,83,84], name='s2')"
   ]
  },
  {
   "cell_type": "code",
   "execution_count": 11,
   "id": "fc2037fb-2139-44b5-958c-f53c1acfd57e",
   "metadata": {},
   "outputs": [
    {
     "data": {
      "text/html": [
       "<div>\n",
       "<style scoped>\n",
       "    .dataframe tbody tr th:only-of-type {\n",
       "        vertical-align: middle;\n",
       "    }\n",
       "\n",
       "    .dataframe tbody tr th {\n",
       "        vertical-align: top;\n",
       "    }\n",
       "\n",
       "    .dataframe thead th {\n",
       "        text-align: right;\n",
       "    }\n",
       "</style>\n",
       "<table border=\"1\" class=\"dataframe\">\n",
       "  <thead>\n",
       "    <tr style=\"text-align: right;\">\n",
       "      <th></th>\n",
       "      <th>국어점수</th>\n",
       "      <th>수학점수</th>\n",
       "    </tr>\n",
       "  </thead>\n",
       "  <tbody>\n",
       "    <tr>\n",
       "      <th>0</th>\n",
       "      <td>91</td>\n",
       "      <td>81</td>\n",
       "    </tr>\n",
       "    <tr>\n",
       "      <th>1</th>\n",
       "      <td>92</td>\n",
       "      <td>82</td>\n",
       "    </tr>\n",
       "    <tr>\n",
       "      <th>2</th>\n",
       "      <td>93</td>\n",
       "      <td>83</td>\n",
       "    </tr>\n",
       "    <tr>\n",
       "      <th>3</th>\n",
       "      <td>94</td>\n",
       "      <td>84</td>\n",
       "    </tr>\n",
       "  </tbody>\n",
       "</table>\n",
       "</div>"
      ],
      "text/plain": [
       "   국어점수  수학점수\n",
       "0    91    81\n",
       "1    92    82\n",
       "2    93    83\n",
       "3    94    84"
      ]
     },
     "execution_count": 11,
     "metadata": {},
     "output_type": "execute_result"
    }
   ],
   "source": [
    "df = pd.DataFrame(\n",
    "    {'국어점수':s1, # 딕셔너리의 키가 데이터 프레임의 열 이름으로 활용\n",
    "    '수학점수':s2}\n",
    ") # dict 타입에서 value를 시리즈에서 가져올수 있다.\n",
    "df"
   ]
  },
  {
   "cell_type": "code",
   "execution_count": 13,
   "id": "d468e2fa-3cba-41b8-adac-025fbfc44112",
   "metadata": {},
   "outputs": [
    {
     "data": {
      "text/html": [
       "<div>\n",
       "<style scoped>\n",
       "    .dataframe tbody tr th:only-of-type {\n",
       "        vertical-align: middle;\n",
       "    }\n",
       "\n",
       "    .dataframe tbody tr th {\n",
       "        vertical-align: top;\n",
       "    }\n",
       "\n",
       "    .dataframe thead th {\n",
       "        text-align: right;\n",
       "    }\n",
       "</style>\n",
       "<table border=\"1\" class=\"dataframe\">\n",
       "  <thead>\n",
       "    <tr style=\"text-align: right;\">\n",
       "      <th></th>\n",
       "      <th>국어점수</th>\n",
       "      <th>수학점수</th>\n",
       "    </tr>\n",
       "  </thead>\n",
       "  <tbody>\n",
       "    <tr>\n",
       "      <th>0</th>\n",
       "      <td>91</td>\n",
       "      <td>81</td>\n",
       "    </tr>\n",
       "    <tr>\n",
       "      <th>1</th>\n",
       "      <td>92</td>\n",
       "      <td>82</td>\n",
       "    </tr>\n",
       "    <tr>\n",
       "      <th>2</th>\n",
       "      <td>93</td>\n",
       "      <td>83</td>\n",
       "    </tr>\n",
       "    <tr>\n",
       "      <th>3</th>\n",
       "      <td>94</td>\n",
       "      <td>84</td>\n",
       "    </tr>\n",
       "  </tbody>\n",
       "</table>\n",
       "</div>"
      ],
      "text/plain": [
       "   국어점수  수학점수\n",
       "0    91    81\n",
       "1    92    82\n",
       "2    93    83\n",
       "3    94    84"
      ]
     },
     "execution_count": 13,
     "metadata": {},
     "output_type": "execute_result"
    }
   ],
   "source": [
    "df = pd.DataFrame(\n",
    "    {'국어점수': [91,92,93,94], # 딕셔너리의 키가 데이터 프레임의 열 이름으로 활용\n",
    "    '수학점수': [81,82,83,84]}\n",
    ") # dict 타입에서 value를 시리즈에서 가져올수 있다.\n",
    "df"
   ]
  },
  {
   "cell_type": "code",
   "execution_count": null,
   "id": "03276633-fec2-463c-a784-05923ddb7d49",
   "metadata": {},
   "outputs": [],
   "source": []
  }
 ],
 "metadata": {
  "kernelspec": {
   "display_name": "Python 3 (ipykernel)",
   "language": "python",
   "name": "python3"
  },
  "language_info": {
   "codemirror_mode": {
    "name": "ipython",
    "version": 3
   },
   "file_extension": ".py",
   "mimetype": "text/x-python",
   "name": "python",
   "nbconvert_exporter": "python",
   "pygments_lexer": "ipython3",
   "version": "3.11.7"
  }
 },
 "nbformat": 4,
 "nbformat_minor": 5
}
