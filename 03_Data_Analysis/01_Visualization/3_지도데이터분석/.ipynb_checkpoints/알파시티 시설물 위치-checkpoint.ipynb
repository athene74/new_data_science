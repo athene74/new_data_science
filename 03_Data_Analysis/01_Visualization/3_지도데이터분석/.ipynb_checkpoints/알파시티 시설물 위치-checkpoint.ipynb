{
 "cells": [
  {
   "cell_type": "markdown",
   "id": "9a361676",
   "metadata": {
    "hidden": true
   },
   "source": [
    "## 주요절차"
   ]
  },
  {
   "cell_type": "markdown",
   "id": "27585602",
   "metadata": {
    "hidden": true
   },
   "source": [
    "### 1. 초기데이터 분석"
   ]
  },
  {
   "cell_type": "markdown",
   "id": "f952717d-1c7e-4ec5-a2bf-85ec04cad815",
   "metadata": {
    "hidden": true
   },
   "source": [
    "#### 1-1. 데이터딕셔너리(각 열의 의미, 데이터의 의미해석관련 스펙 또는 메뉴얼) 확인\n",
    "#### 1-2 데이터 기초정보 확인 (사이즈, 열이름, 데이터형)\n",
    "\n",
    "유무 확인)차트 재확인 (이"
   ]
  },
  {
   "cell_type": "markdown",
   "id": "fc3d0eb7-3b2e-4204-944a-9287732085c9",
   "metadata": {},
   "source": [
    "* 기초통계정보 확인"
   ]
  },
  {
   "cell_type": "raw",
   "id": "66a43f0e-61a2-491f-96c6-5a54f3e52b50",
   "metadata": {
    "hidden": true
   },
   "source": [
    "기초 통계값 확인 ( df.describe() )\n",
    "[수치형 데이터]\r",
    " \n",
    "=> 수치데이터로서 의미가 는지 판단? \r\n",
    "=> 의미가 있는(예: 키, 몸무게, 가격등) 열에 대해 아래 작업 진행  분석\r\n",
    " - 확인해야 할 사항    수치상\r\n",
    "mean, min, 1q, 2q(중위값), 3q,게, 가격\r\n",
    " - 시각화\r\n",
    "  히스토그램, 박스플롯 (바이올린플롯)\r\n",
    " - 이상치 유무 확인\r\n",
    " - 이상치가 있다면 보정방식을 선택\r\n",
    "  (예: 삭제, 포함)\r\n",
    "- 기초통계값과, 차트 재확인 (이상\n",
    "[보정  데이터]유무 확인)\r\n",
    "- 문자열\r\n",
    " => unique의 결과값에서 파이차트나 막대차트로 그릴수  - 있는 열이 있는지 확인\r\n",
    " 10개미만은 파이차트,  - 도우넛차트 그리기에 용이\r\n",
    " 10개상위 은 파이차트, 막대차트(Top3,5,10 등을 도출.. 그리고 형 데이터나하위 데이터3,5,10)\r\n",
    "\r\n",
    "* 수치 문자 중에 범위화 할 \n",
    " 예)수 있는 열이 있는지 확인해 보자\r\n",
    " 가격=> 초고가, 고가,위 작업은  일반, 저가\r\n",
    " 주소 추후 진행할 수 있다.pply 함수를 통해\r",
    "ly 함수를 통해"
   ]
  },
  {
   "cell_type": "markdown",
   "id": "2ebab032",
   "metadata": {
    "hidden": true
   },
   "source": [
    "### 2. 데이터 정제"
   ]
  },
  {
   "cell_type": "markdown",
   "id": "39e200d0",
   "metadata": {
    "hidden": true
   },
   "source": [
    "#### 2.1. 원본데이터에서 분석가능한 형태로 데이터 전처리 (형변환, 열이름 변경등)\n",
    "#### 2.2. 데이터 클리닝: 이상치, 결측치처리"
   ]
  },
  {
   "cell_type": "markdown",
   "id": "4e60e3f3",
   "metadata": {
    "hidden": true
   },
   "source": [
    "### 3. 추가데이터 분석"
   ]
  },
  {
   "cell_type": "markdown",
   "id": "82e0a525",
   "metadata": {
    "hidden": true
   },
   "source": [
    "#### 3.1 데이터 정제후 데이터딕셔너리 재확인\n",
    "#### 3.2 기초통계 정보 확인 (최대값, 최소값, 평균값, 표준편차, 최빈값, 유일값 등)\n",
    "#### 3.3 시각화를 통한 데이터이해 심화 "
   ]
  },
  {
   "cell_type": "markdown",
   "id": "87e87a59",
   "metadata": {
    "hidden": true
   },
   "source": [
    "* 3.3.1 단일 열: 데이터의 성격에 따른 다양한 차트 적용  \n",
    "* 3.3.2 복수 열: 두개의 열간 연관관계 분석(Pair Plot 또는 Seaborn의 관련 지원 차트등)"
   ]
  },
  {
   "cell_type": "markdown",
   "id": "1016da18-a38d-4677-942d-ff8e13f2dfad",
   "metadata": {},
   "source": [
    "#### 3.4 데이터 분석 결과도출"
   ]
  },
  {
   "cell_type": "markdown",
   "id": "d98ee251",
   "metadata": {},
   "source": [
    "# 데이터분석 적용 실습 템플릿"
   ]
  },
  {
   "cell_type": "code",
   "execution_count": 1,
   "id": "6a453719-b45b-4097-b658-9646b71a79a9",
   "metadata": {},
   "outputs": [],
   "source": [
    "import pandas as pd\n",
    "import numpy as np\n",
    "import matplotlib.pyplot as plt\n",
    "%matplotlib inline\n",
    "from matplotlib import font_manager,rc\n",
    "# 한글 폰트\n",
    "font_location = \"C:\\Windows\\Fonts\\malgun.ttf\"\n",
    "font_name = font_manager.FontProperties(fname=font_location).get_name()\n",
    "rc('font',family=font_name)\n",
    "plt.rcParams['axes.unicode_minus'] = False  # 유니코드 마이너스 기호 사용\n",
    "\n",
    "import seaborn as sns\n",
    "import pandas as pd\n",
    "\n",
    "import folium\n",
    "from folium.plugins import MarkerCluster"
   ]
  },
  {
   "cell_type": "markdown",
   "id": "0521bf67",
   "metadata": {},
   "source": [
    "## 데이터 수집"
   ]
  },
  {
   "cell_type": "code",
   "execution_count": 2,
   "id": "46c5eafe",
   "metadata": {},
   "outputs": [],
   "source": [
    "# 데이터 소스를 확보하세요\n",
    "df = pd.read_csv('대구도시개발공사_수성알파시티 시설물위치 정보_20230727.csv',encoding='cp949')"
   ]
  },
  {
   "cell_type": "markdown",
   "id": "c3b597f4",
   "metadata": {},
   "source": [
    "## 1. 초기데이터 분석"
   ]
  },
  {
   "cell_type": "markdown",
   "id": "0c3c91be",
   "metadata": {},
   "source": [
    "### 1-1. 데이터스키마 확인"
   ]
  },
  {
   "cell_type": "code",
   "execution_count": 3,
   "id": "7af5a308-d7d3-43d3-8549-692dc3043f6a",
   "metadata": {},
   "outputs": [
    {
     "data": {
      "text/plain": [
       "Index(['순번', '코드', '시설물명', '위치명', '주소', '등록일', '시설물구분', '운영상태', '위도', '경도'], dtype='object')"
      ]
     },
     "execution_count": 3,
     "metadata": {},
     "output_type": "execute_result"
    }
   ],
   "source": [
    "df.columns"
   ]
  },
  {
   "cell_type": "markdown",
   "id": "16b49047-50c3-4ff3-9417-edb92d59b2d4",
   "metadata": {},
   "source": [
    "#### 각 열의 의미, 데이터의 의미해석관련 스펙 또는 메뉴얼을 확인 가능시 진행 하세요\n",
    "* A열: A열의 의미를 기술\n",
    "* B열: B열의 의미를 기술  \n",
    "..."
   ]
  },
  {
   "cell_type": "markdown",
   "id": "a95ce700-63f0-47e4-b724-8ee7c28c629c",
   "metadata": {},
   "source": [
    "코드, 시설물명은 시설물구분으로 통일되어 있음."
   ]
  },
  {
   "cell_type": "markdown",
   "id": "87dc7871-e5f1-4ee1-b4b6-b8d3afc00f51",
   "metadata": {},
   "source": [
    "- 지능형도보안전시스템: 학교주변 횡단보도 등에 바닥신호등 및 과속경보시스템을 구축하여 어린이를 위한 안전하고 편안한 보행환경 제공  \n",
    "               => (바닥신호등 3개소, 차량과속정보 10개소)  \n",
    "- 디지털사이니지: 날씨, 시정소식, 행사·관광정보 등 다양한 정보 표출  \n",
    "               => 55인치 고해상도 스마트 스크린  \n",
    "- 도로위험 정보제공: 도로 위의 사고, 적치물 낙하 등 돌발상황 정보를 교통정보제공시스템을 통해 제공  \n",
    "- 불법주정차: 주차, 정차로 인한 교통사고 및 교통체증을 예방하기 위한 CCTV 기반 불법 주정차 단속  \n",
    "- 스마트 워킹: 수성의료지구 내에 걷기 코스가 조성된 주요지점에 비콘을 부착해  \n",
    "                 시민들의 이용에 따른 자동 거리 계산, 스마트폰을 활용한 운동량체크,  \n",
    "                 개인 칼로리 등 계산과 실적누적 포인트 제공으로  \n",
    "                 간편하고 효과적인 시민 건강을 증진 시스템 입니다.  "
   ]
  },
  {
   "cell_type": "markdown",
   "id": "913979f3",
   "metadata": {},
   "source": [
    "### 1-2. 데이터 기초정보 확인"
   ]
  },
  {
   "cell_type": "markdown",
   "id": "1e03acff-a002-4e37-be88-5d36d4706630",
   "metadata": {},
   "source": [
    "* 사이즈, 데이터형, 기초통계항목등을 확인하세요  "
   ]
  },
  {
   "cell_type": "code",
   "execution_count": 4,
   "id": "0e710fe1-b44f-498b-8166-16934b6b0a51",
   "metadata": {},
   "outputs": [
    {
     "data": {
      "text/plain": [
       "(132, 10)"
      ]
     },
     "execution_count": 4,
     "metadata": {},
     "output_type": "execute_result"
    }
   ],
   "source": [
    "df.shape"
   ]
  },
  {
   "cell_type": "code",
   "execution_count": 5,
   "id": "326e141f-db3d-4f64-9028-69558634f9af",
   "metadata": {},
   "outputs": [
    {
     "name": "stdout",
     "output_type": "stream",
     "text": [
      "<class 'pandas.core.frame.DataFrame'>\n",
      "RangeIndex: 132 entries, 0 to 131\n",
      "Data columns (total 10 columns):\n",
      " #   Column  Non-Null Count  Dtype  \n",
      "---  ------  --------------  -----  \n",
      " 0   순번      132 non-null    int64  \n",
      " 1   코드      132 non-null    object \n",
      " 2   시설물명    132 non-null    object \n",
      " 3   위치명     132 non-null    object \n",
      " 4   주소      132 non-null    object \n",
      " 5   등록일     132 non-null    object \n",
      " 6   시설물구분   132 non-null    object \n",
      " 7   운영상태    132 non-null    object \n",
      " 8   위도      132 non-null    float64\n",
      " 9   경도      132 non-null    float64\n",
      "dtypes: float64(2), int64(1), object(7)\n",
      "memory usage: 10.4+ KB\n"
     ]
    }
   ],
   "source": [
    "df.info()"
   ]
  },
  {
   "cell_type": "code",
   "execution_count": 6,
   "id": "6ac49bf9-87ae-4acb-8190-82cdd3ab677f",
   "metadata": {},
   "outputs": [
    {
     "data": {
      "text/plain": [
       "array(['스마트가로등', '생활안전CCTV', '차량번호인식', '지능형도보안전', '주정차무인관제', '도로위험정보',\n",
       "       '불법주정차', '디지털사이니지', '미디어월', '전기차충전기', '스마트워킹'], dtype=object)"
      ]
     },
     "execution_count": 6,
     "metadata": {},
     "output_type": "execute_result"
    }
   ],
   "source": [
    "df.시설물구분.unique()"
   ]
  },
  {
   "cell_type": "markdown",
   "id": "8d2984b9-6715-49a2-8583-d9583b38b857",
   "metadata": {},
   "source": [
    "* 기초통계항목"
   ]
  },
  {
   "cell_type": "code",
   "execution_count": 7,
   "id": "7f497c28-3191-4262-aae0-41402e8eaeef",
   "metadata": {},
   "outputs": [
    {
     "data": {
      "text/html": [
       "<div>\n",
       "<style scoped>\n",
       "    .dataframe tbody tr th:only-of-type {\n",
       "        vertical-align: middle;\n",
       "    }\n",
       "\n",
       "    .dataframe tbody tr th {\n",
       "        vertical-align: top;\n",
       "    }\n",
       "\n",
       "    .dataframe thead th {\n",
       "        text-align: right;\n",
       "    }\n",
       "</style>\n",
       "<table border=\"1\" class=\"dataframe\">\n",
       "  <thead>\n",
       "    <tr style=\"text-align: right;\">\n",
       "      <th></th>\n",
       "      <th>순번</th>\n",
       "      <th>위도</th>\n",
       "      <th>경도</th>\n",
       "    </tr>\n",
       "  </thead>\n",
       "  <tbody>\n",
       "    <tr>\n",
       "      <th>count</th>\n",
       "      <td>132.000000</td>\n",
       "      <td>132.000000</td>\n",
       "      <td>132.000000</td>\n",
       "    </tr>\n",
       "    <tr>\n",
       "      <th>mean</th>\n",
       "      <td>66.500000</td>\n",
       "      <td>35.836941</td>\n",
       "      <td>128.690199</td>\n",
       "    </tr>\n",
       "    <tr>\n",
       "      <th>std</th>\n",
       "      <td>38.249183</td>\n",
       "      <td>0.002219</td>\n",
       "      <td>0.005199</td>\n",
       "    </tr>\n",
       "    <tr>\n",
       "      <th>min</th>\n",
       "      <td>1.000000</td>\n",
       "      <td>35.832300</td>\n",
       "      <td>128.679600</td>\n",
       "    </tr>\n",
       "    <tr>\n",
       "      <th>25%</th>\n",
       "      <td>33.750000</td>\n",
       "      <td>35.835141</td>\n",
       "      <td>128.687212</td>\n",
       "    </tr>\n",
       "    <tr>\n",
       "      <th>50%</th>\n",
       "      <td>66.500000</td>\n",
       "      <td>35.836807</td>\n",
       "      <td>128.690845</td>\n",
       "    </tr>\n",
       "    <tr>\n",
       "      <th>75%</th>\n",
       "      <td>99.250000</td>\n",
       "      <td>35.838900</td>\n",
       "      <td>128.694035</td>\n",
       "    </tr>\n",
       "    <tr>\n",
       "      <th>max</th>\n",
       "      <td>132.000000</td>\n",
       "      <td>35.841760</td>\n",
       "      <td>128.698056</td>\n",
       "    </tr>\n",
       "  </tbody>\n",
       "</table>\n",
       "</div>"
      ],
      "text/plain": [
       "               순번          위도          경도\n",
       "count  132.000000  132.000000  132.000000\n",
       "mean    66.500000   35.836941  128.690199\n",
       "std     38.249183    0.002219    0.005199\n",
       "min      1.000000   35.832300  128.679600\n",
       "25%     33.750000   35.835141  128.687212\n",
       "50%     66.500000   35.836807  128.690845\n",
       "75%     99.250000   35.838900  128.694035\n",
       "max    132.000000   35.841760  128.698056"
      ]
     },
     "execution_count": 7,
     "metadata": {},
     "output_type": "execute_result"
    }
   ],
   "source": [
    "df.describe()"
   ]
  },
  {
   "cell_type": "code",
   "execution_count": 8,
   "id": "b4a30170-f1d0-4d27-bc00-57103b25791d",
   "metadata": {},
   "outputs": [
    {
     "data": {
      "text/html": [
       "<div>\n",
       "<style scoped>\n",
       "    .dataframe tbody tr th:only-of-type {\n",
       "        vertical-align: middle;\n",
       "    }\n",
       "\n",
       "    .dataframe tbody tr th {\n",
       "        vertical-align: top;\n",
       "    }\n",
       "\n",
       "    .dataframe thead th {\n",
       "        text-align: right;\n",
       "    }\n",
       "</style>\n",
       "<table border=\"1\" class=\"dataframe\">\n",
       "  <thead>\n",
       "    <tr style=\"text-align: right;\">\n",
       "      <th></th>\n",
       "      <th>코드</th>\n",
       "      <th>시설물명</th>\n",
       "      <th>위치명</th>\n",
       "      <th>주소</th>\n",
       "      <th>등록일</th>\n",
       "      <th>시설물구분</th>\n",
       "      <th>운영상태</th>\n",
       "    </tr>\n",
       "  </thead>\n",
       "  <tbody>\n",
       "    <tr>\n",
       "      <th>count</th>\n",
       "      <td>132</td>\n",
       "      <td>132</td>\n",
       "      <td>132</td>\n",
       "      <td>132</td>\n",
       "      <td>132</td>\n",
       "      <td>132</td>\n",
       "      <td>132</td>\n",
       "    </tr>\n",
       "    <tr>\n",
       "      <th>unique</th>\n",
       "      <td>11</td>\n",
       "      <td>131</td>\n",
       "      <td>131</td>\n",
       "      <td>90</td>\n",
       "      <td>2</td>\n",
       "      <td>11</td>\n",
       "      <td>2</td>\n",
       "    </tr>\n",
       "    <tr>\n",
       "      <th>top</th>\n",
       "      <td>SW</td>\n",
       "      <td>스마트워킹-022</td>\n",
       "      <td>ER-001</td>\n",
       "      <td>운동시설</td>\n",
       "      <td>2018-10-21</td>\n",
       "      <td>스마트워킹</td>\n",
       "      <td>정상</td>\n",
       "    </tr>\n",
       "    <tr>\n",
       "      <th>freq</th>\n",
       "      <td>41</td>\n",
       "      <td>2</td>\n",
       "      <td>2</td>\n",
       "      <td>18</td>\n",
       "      <td>131</td>\n",
       "      <td>41</td>\n",
       "      <td>125</td>\n",
       "    </tr>\n",
       "  </tbody>\n",
       "</table>\n",
       "</div>"
      ],
      "text/plain": [
       "         코드       시설물명     위치명    주소         등록일  시설물구분 운영상태\n",
       "count   132        132     132   132         132    132  132\n",
       "unique   11        131     131    90           2     11    2\n",
       "top      SW  스마트워킹-022  ER-001  운동시설  2018-10-21  스마트워킹   정상\n",
       "freq     41          2       2    18         131     41  125"
      ]
     },
     "execution_count": 8,
     "metadata": {},
     "output_type": "execute_result"
    }
   ],
   "source": [
    "df.describe(include = object)"
   ]
  },
  {
   "cell_type": "code",
   "execution_count": 9,
   "id": "f02f7f01-742f-4629-a483-b84d4adfada9",
   "metadata": {},
   "outputs": [
    {
     "data": {
      "text/html": [
       "<div>\n",
       "<style scoped>\n",
       "    .dataframe tbody tr th:only-of-type {\n",
       "        vertical-align: middle;\n",
       "    }\n",
       "\n",
       "    .dataframe tbody tr th {\n",
       "        vertical-align: top;\n",
       "    }\n",
       "\n",
       "    .dataframe thead th {\n",
       "        text-align: right;\n",
       "    }\n",
       "</style>\n",
       "<table border=\"1\" class=\"dataframe\">\n",
       "  <thead>\n",
       "    <tr style=\"text-align: right;\">\n",
       "      <th></th>\n",
       "      <th>순번</th>\n",
       "      <th>코드</th>\n",
       "      <th>시설물명</th>\n",
       "      <th>위치명</th>\n",
       "      <th>주소</th>\n",
       "      <th>등록일</th>\n",
       "      <th>시설물구분</th>\n",
       "      <th>운영상태</th>\n",
       "      <th>위도</th>\n",
       "      <th>경도</th>\n",
       "    </tr>\n",
       "  </thead>\n",
       "  <tbody>\n",
       "    <tr>\n",
       "      <th>0</th>\n",
       "      <td>1</td>\n",
       "      <td>SL</td>\n",
       "      <td>스마트가로등-001</td>\n",
       "      <td>SL-001</td>\n",
       "      <td>대구광역시 수성구 시지동 430-1</td>\n",
       "      <td>2018-10-21</td>\n",
       "      <td>스마트가로등</td>\n",
       "      <td>정상</td>\n",
       "      <td>35.84074</td>\n",
       "      <td>128.6921</td>\n",
       "    </tr>\n",
       "    <tr>\n",
       "      <th>1</th>\n",
       "      <td>2</td>\n",
       "      <td>SL</td>\n",
       "      <td>스마트가로등-002</td>\n",
       "      <td>SL-002</td>\n",
       "      <td>대구광역시 수성구 시지동 396</td>\n",
       "      <td>2018-10-21</td>\n",
       "      <td>스마트가로등</td>\n",
       "      <td>비정상</td>\n",
       "      <td>35.83937</td>\n",
       "      <td>128.6932</td>\n",
       "    </tr>\n",
       "    <tr>\n",
       "      <th>2</th>\n",
       "      <td>3</td>\n",
       "      <td>SL</td>\n",
       "      <td>스마트가로등-003</td>\n",
       "      <td>SL-003</td>\n",
       "      <td>대구광역시 수성구 시지동 450-3</td>\n",
       "      <td>2018-10-21</td>\n",
       "      <td>스마트가로등</td>\n",
       "      <td>정상</td>\n",
       "      <td>35.83935</td>\n",
       "      <td>128.6906</td>\n",
       "    </tr>\n",
       "    <tr>\n",
       "      <th>3</th>\n",
       "      <td>4</td>\n",
       "      <td>SL</td>\n",
       "      <td>스마트가로등-004</td>\n",
       "      <td>SL-004</td>\n",
       "      <td>대구광역시 수성구 대흥동 198-1</td>\n",
       "      <td>2018-10-21</td>\n",
       "      <td>스마트가로등</td>\n",
       "      <td>정상</td>\n",
       "      <td>35.83895</td>\n",
       "      <td>128.6892</td>\n",
       "    </tr>\n",
       "    <tr>\n",
       "      <th>4</th>\n",
       "      <td>5</td>\n",
       "      <td>SL</td>\n",
       "      <td>스마트가로등-005</td>\n",
       "      <td>SL-005</td>\n",
       "      <td>대구광역시 수성구 노변동 567</td>\n",
       "      <td>2018-10-21</td>\n",
       "      <td>스마트가로등</td>\n",
       "      <td>비정상</td>\n",
       "      <td>35.83705</td>\n",
       "      <td>128.6943</td>\n",
       "    </tr>\n",
       "  </tbody>\n",
       "</table>\n",
       "</div>"
      ],
      "text/plain": [
       "   순번  코드        시설물명     위치명                   주소         등록일   시설물구분 운영상태  \\\n",
       "0   1  SL  스마트가로등-001  SL-001  대구광역시 수성구 시지동 430-1  2018-10-21  스마트가로등   정상   \n",
       "1   2  SL  스마트가로등-002  SL-002    대구광역시 수성구 시지동 396  2018-10-21  스마트가로등  비정상   \n",
       "2   3  SL  스마트가로등-003  SL-003  대구광역시 수성구 시지동 450-3  2018-10-21  스마트가로등   정상   \n",
       "3   4  SL  스마트가로등-004  SL-004  대구광역시 수성구 대흥동 198-1  2018-10-21  스마트가로등   정상   \n",
       "4   5  SL  스마트가로등-005  SL-005    대구광역시 수성구 노변동 567  2018-10-21  스마트가로등  비정상   \n",
       "\n",
       "         위도        경도  \n",
       "0  35.84074  128.6921  \n",
       "1  35.83937  128.6932  \n",
       "2  35.83935  128.6906  \n",
       "3  35.83895  128.6892  \n",
       "4  35.83705  128.6943  "
      ]
     },
     "execution_count": 9,
     "metadata": {},
     "output_type": "execute_result"
    }
   ],
   "source": [
    "df.head()"
   ]
  },
  {
   "cell_type": "markdown",
   "id": "c2e13829",
   "metadata": {},
   "source": [
    "## 2. 데이터 정제"
   ]
  },
  {
   "cell_type": "markdown",
   "id": "7eedb11e",
   "metadata": {},
   "source": [
    "### 2-1. 간단한 데이터 전처리"
   ]
  },
  {
   "cell_type": "code",
   "execution_count": 10,
   "id": "6b5e9647-1759-4815-b25f-25f0d8df6d61",
   "metadata": {},
   "outputs": [
    {
     "data": {
      "text/html": [
       "<div>\n",
       "<style scoped>\n",
       "    .dataframe tbody tr th:only-of-type {\n",
       "        vertical-align: middle;\n",
       "    }\n",
       "\n",
       "    .dataframe tbody tr th {\n",
       "        vertical-align: top;\n",
       "    }\n",
       "\n",
       "    .dataframe thead th {\n",
       "        text-align: right;\n",
       "    }\n",
       "</style>\n",
       "<table border=\"1\" class=\"dataframe\">\n",
       "  <thead>\n",
       "    <tr style=\"text-align: right;\">\n",
       "      <th></th>\n",
       "      <th>주소</th>\n",
       "      <th>등록일</th>\n",
       "      <th>시설물구분</th>\n",
       "      <th>운영상태</th>\n",
       "      <th>위도</th>\n",
       "      <th>경도</th>\n",
       "    </tr>\n",
       "  </thead>\n",
       "  <tbody>\n",
       "    <tr>\n",
       "      <th>0</th>\n",
       "      <td>대구광역시 수성구 시지동 430-1</td>\n",
       "      <td>2018-10-21</td>\n",
       "      <td>스마트가로등</td>\n",
       "      <td>정상</td>\n",
       "      <td>35.84074</td>\n",
       "      <td>128.6921</td>\n",
       "    </tr>\n",
       "    <tr>\n",
       "      <th>1</th>\n",
       "      <td>대구광역시 수성구 시지동 396</td>\n",
       "      <td>2018-10-21</td>\n",
       "      <td>스마트가로등</td>\n",
       "      <td>비정상</td>\n",
       "      <td>35.83937</td>\n",
       "      <td>128.6932</td>\n",
       "    </tr>\n",
       "    <tr>\n",
       "      <th>2</th>\n",
       "      <td>대구광역시 수성구 시지동 450-3</td>\n",
       "      <td>2018-10-21</td>\n",
       "      <td>스마트가로등</td>\n",
       "      <td>정상</td>\n",
       "      <td>35.83935</td>\n",
       "      <td>128.6906</td>\n",
       "    </tr>\n",
       "    <tr>\n",
       "      <th>3</th>\n",
       "      <td>대구광역시 수성구 대흥동 198-1</td>\n",
       "      <td>2018-10-21</td>\n",
       "      <td>스마트가로등</td>\n",
       "      <td>정상</td>\n",
       "      <td>35.83895</td>\n",
       "      <td>128.6892</td>\n",
       "    </tr>\n",
       "    <tr>\n",
       "      <th>4</th>\n",
       "      <td>대구광역시 수성구 노변동 567</td>\n",
       "      <td>2018-10-21</td>\n",
       "      <td>스마트가로등</td>\n",
       "      <td>비정상</td>\n",
       "      <td>35.83705</td>\n",
       "      <td>128.6943</td>\n",
       "    </tr>\n",
       "  </tbody>\n",
       "</table>\n",
       "</div>"
      ],
      "text/plain": [
       "                    주소         등록일   시설물구분 운영상태        위도        경도\n",
       "0  대구광역시 수성구 시지동 430-1  2018-10-21  스마트가로등   정상  35.84074  128.6921\n",
       "1    대구광역시 수성구 시지동 396  2018-10-21  스마트가로등  비정상  35.83937  128.6932\n",
       "2  대구광역시 수성구 시지동 450-3  2018-10-21  스마트가로등   정상  35.83935  128.6906\n",
       "3  대구광역시 수성구 대흥동 198-1  2018-10-21  스마트가로등   정상  35.83895  128.6892\n",
       "4    대구광역시 수성구 노변동 567  2018-10-21  스마트가로등  비정상  35.83705  128.6943"
      ]
     },
     "execution_count": 10,
     "metadata": {},
     "output_type": "execute_result"
    }
   ],
   "source": [
    "df_1 = df.drop( columns = ['순번','코드','시설물명','위치명'])\n",
    "df_1.head()\n",
    "\n",
    "# 시설물 별 운영상태에 따라 위도 경도 맵에 표시"
   ]
  },
  {
   "cell_type": "code",
   "execution_count": 11,
   "id": "5fd51a76",
   "metadata": {},
   "outputs": [],
   "source": [
    "# 원본데이터로에서 읽기 가능한 형태로 데이터처리를 하세요. (열이름 변경, 형변환 등)"
   ]
  },
  {
   "cell_type": "code",
   "execution_count": 12,
   "id": "604165a3-c00b-4d5d-b8c1-54634ea0e141",
   "metadata": {},
   "outputs": [
    {
     "data": {
      "text/html": [
       "<div>\n",
       "<style scoped>\n",
       "    .dataframe tbody tr th:only-of-type {\n",
       "        vertical-align: middle;\n",
       "    }\n",
       "\n",
       "    .dataframe tbody tr th {\n",
       "        vertical-align: top;\n",
       "    }\n",
       "\n",
       "    .dataframe thead th {\n",
       "        text-align: right;\n",
       "    }\n",
       "</style>\n",
       "<table border=\"1\" class=\"dataframe\">\n",
       "  <thead>\n",
       "    <tr style=\"text-align: right;\">\n",
       "      <th></th>\n",
       "      <th>주소</th>\n",
       "      <th>등록일</th>\n",
       "      <th>시설물구분</th>\n",
       "      <th>운영상태</th>\n",
       "      <th>위도</th>\n",
       "      <th>경도</th>\n",
       "      <th>동</th>\n",
       "    </tr>\n",
       "  </thead>\n",
       "  <tbody>\n",
       "    <tr>\n",
       "      <th>0</th>\n",
       "      <td>대구광역시 수성구 시지동 430-1</td>\n",
       "      <td>2018-10-21</td>\n",
       "      <td>스마트가로등</td>\n",
       "      <td>정상</td>\n",
       "      <td>35.840740</td>\n",
       "      <td>128.692100</td>\n",
       "      <td>시지동</td>\n",
       "    </tr>\n",
       "    <tr>\n",
       "      <th>1</th>\n",
       "      <td>대구광역시 수성구 시지동 396</td>\n",
       "      <td>2018-10-21</td>\n",
       "      <td>스마트가로등</td>\n",
       "      <td>비정상</td>\n",
       "      <td>35.839370</td>\n",
       "      <td>128.693200</td>\n",
       "      <td>시지동</td>\n",
       "    </tr>\n",
       "    <tr>\n",
       "      <th>2</th>\n",
       "      <td>대구광역시 수성구 시지동 450-3</td>\n",
       "      <td>2018-10-21</td>\n",
       "      <td>스마트가로등</td>\n",
       "      <td>정상</td>\n",
       "      <td>35.839350</td>\n",
       "      <td>128.690600</td>\n",
       "      <td>시지동</td>\n",
       "    </tr>\n",
       "    <tr>\n",
       "      <th>3</th>\n",
       "      <td>대구광역시 수성구 대흥동 198-1</td>\n",
       "      <td>2018-10-21</td>\n",
       "      <td>스마트가로등</td>\n",
       "      <td>정상</td>\n",
       "      <td>35.838950</td>\n",
       "      <td>128.689200</td>\n",
       "      <td>대흥동</td>\n",
       "    </tr>\n",
       "    <tr>\n",
       "      <th>4</th>\n",
       "      <td>대구광역시 수성구 노변동 567</td>\n",
       "      <td>2018-10-21</td>\n",
       "      <td>스마트가로등</td>\n",
       "      <td>비정상</td>\n",
       "      <td>35.837050</td>\n",
       "      <td>128.694300</td>\n",
       "      <td>노변동</td>\n",
       "    </tr>\n",
       "    <tr>\n",
       "      <th>...</th>\n",
       "      <td>...</td>\n",
       "      <td>...</td>\n",
       "      <td>...</td>\n",
       "      <td>...</td>\n",
       "      <td>...</td>\n",
       "      <td>...</td>\n",
       "      <td>...</td>\n",
       "    </tr>\n",
       "    <tr>\n",
       "      <th>127</th>\n",
       "      <td>운동시설</td>\n",
       "      <td>2018-10-21</td>\n",
       "      <td>스마트워킹</td>\n",
       "      <td>정상</td>\n",
       "      <td>35.833676</td>\n",
       "      <td>128.690031</td>\n",
       "      <td>NaN</td>\n",
       "    </tr>\n",
       "    <tr>\n",
       "      <th>128</th>\n",
       "      <td>사이니지</td>\n",
       "      <td>2018-10-21</td>\n",
       "      <td>스마트워킹</td>\n",
       "      <td>정상</td>\n",
       "      <td>35.834599</td>\n",
       "      <td>128.686274</td>\n",
       "      <td>NaN</td>\n",
       "    </tr>\n",
       "    <tr>\n",
       "      <th>129</th>\n",
       "      <td>플랫폼센터</td>\n",
       "      <td>2018-10-21</td>\n",
       "      <td>스마트워킹</td>\n",
       "      <td>정상</td>\n",
       "      <td>35.835525</td>\n",
       "      <td>128.681771</td>\n",
       "      <td>NaN</td>\n",
       "    </tr>\n",
       "    <tr>\n",
       "      <th>130</th>\n",
       "      <td>카페도담도담</td>\n",
       "      <td>2018-10-21</td>\n",
       "      <td>스마트워킹</td>\n",
       "      <td>정상</td>\n",
       "      <td>35.835492</td>\n",
       "      <td>128.681356</td>\n",
       "      <td>NaN</td>\n",
       "    </tr>\n",
       "    <tr>\n",
       "      <th>131</th>\n",
       "      <td>대구 수성구 알파시티3로</td>\n",
       "      <td>2018-11-07</td>\n",
       "      <td>전기차충전기</td>\n",
       "      <td>정상</td>\n",
       "      <td>35.834329</td>\n",
       "      <td>128.693359</td>\n",
       "      <td>수성구</td>\n",
       "    </tr>\n",
       "  </tbody>\n",
       "</table>\n",
       "<p>132 rows × 7 columns</p>\n",
       "</div>"
      ],
      "text/plain": [
       "                      주소         등록일   시설물구분 운영상태         위도          경도    동\n",
       "0    대구광역시 수성구 시지동 430-1  2018-10-21  스마트가로등   정상  35.840740  128.692100  시지동\n",
       "1      대구광역시 수성구 시지동 396  2018-10-21  스마트가로등  비정상  35.839370  128.693200  시지동\n",
       "2    대구광역시 수성구 시지동 450-3  2018-10-21  스마트가로등   정상  35.839350  128.690600  시지동\n",
       "3    대구광역시 수성구 대흥동 198-1  2018-10-21  스마트가로등   정상  35.838950  128.689200  대흥동\n",
       "4      대구광역시 수성구 노변동 567  2018-10-21  스마트가로등  비정상  35.837050  128.694300  노변동\n",
       "..                   ...         ...     ...  ...        ...         ...  ...\n",
       "127                 운동시설  2018-10-21   스마트워킹   정상  35.833676  128.690031  NaN\n",
       "128                 사이니지  2018-10-21   스마트워킹   정상  35.834599  128.686274  NaN\n",
       "129                플랫폼센터  2018-10-21   스마트워킹   정상  35.835525  128.681771  NaN\n",
       "130               카페도담도담  2018-10-21   스마트워킹   정상  35.835492  128.681356  NaN\n",
       "131        대구 수성구 알파시티3로  2018-11-07  전기차충전기   정상  35.834329  128.693359  수성구\n",
       "\n",
       "[132 rows x 7 columns]"
      ]
     },
     "execution_count": 12,
     "metadata": {},
     "output_type": "execute_result"
    }
   ],
   "source": [
    "df_1['동'] = df_1.주소.str.split().str[-2]\n",
    "df_1"
   ]
  },
  {
   "cell_type": "markdown",
   "id": "cfa0f4f4",
   "metadata": {},
   "source": [
    "### 2-2. 데이터 클리닝"
   ]
  },
  {
   "cell_type": "code",
   "execution_count": 13,
   "id": "81050694",
   "metadata": {},
   "outputs": [],
   "source": [
    "# 결측치, 중복값, 이상치 처리등의 작업을 진행하세요"
   ]
  },
  {
   "cell_type": "markdown",
   "id": "94b01c03-879b-4b93-a375-5a88a7f3672a",
   "metadata": {},
   "source": [
    "* 결측치"
   ]
  },
  {
   "cell_type": "markdown",
   "id": "497a7431-81b3-42d2-84b5-0afde8e6c9c4",
   "metadata": {},
   "source": [
    "    - 결측치 열 확인"
   ]
  },
  {
   "cell_type": "code",
   "execution_count": 14,
   "id": "b0a70dec-f81b-46d8-b58c-73f81ce17493",
   "metadata": {},
   "outputs": [
    {
     "data": {
      "text/plain": [
       "동    True\n",
       "dtype: bool"
      ]
     },
     "execution_count": 14,
     "metadata": {},
     "output_type": "execute_result"
    }
   ],
   "source": [
    "missing_values = df_1.isnull().any()\n",
    "column_missing_values = missing_values[ missing_values == True ]\n",
    "column_missing_values"
   ]
  },
  {
   "cell_type": "raw",
   "id": "ab96e2e8-2ecc-462b-8055-915bff513d34",
   "metadata": {},
   "source": [
    "   - 결측값이 있는 모든 행 확인"
   ]
  },
  {
   "cell_type": "code",
   "execution_count": 15,
   "id": "53aa6924-3c4f-4aad-91cf-2d09b459d59b",
   "metadata": {},
   "outputs": [
    {
     "data": {
      "text/html": [
       "<div>\n",
       "<style scoped>\n",
       "    .dataframe tbody tr th:only-of-type {\n",
       "        vertical-align: middle;\n",
       "    }\n",
       "\n",
       "    .dataframe tbody tr th {\n",
       "        vertical-align: top;\n",
       "    }\n",
       "\n",
       "    .dataframe thead th {\n",
       "        text-align: right;\n",
       "    }\n",
       "</style>\n",
       "<table border=\"1\" class=\"dataframe\">\n",
       "  <thead>\n",
       "    <tr style=\"text-align: right;\">\n",
       "      <th></th>\n",
       "      <th>순번</th>\n",
       "      <th>코드</th>\n",
       "      <th>시설물명</th>\n",
       "      <th>위치명</th>\n",
       "      <th>주소</th>\n",
       "      <th>등록일</th>\n",
       "      <th>시설물구분</th>\n",
       "      <th>운영상태</th>\n",
       "      <th>위도</th>\n",
       "      <th>경도</th>\n",
       "    </tr>\n",
       "  </thead>\n",
       "  <tbody>\n",
       "  </tbody>\n",
       "</table>\n",
       "</div>"
      ],
      "text/plain": [
       "Empty DataFrame\n",
       "Columns: [순번, 코드, 시설물명, 위치명, 주소, 등록일, 시설물구분, 운영상태, 위도, 경도]\n",
       "Index: []"
      ]
     },
     "execution_count": 15,
     "metadata": {},
     "output_type": "execute_result"
    }
   ],
   "source": [
    "df[df.isnull().any(axis=1)]"
   ]
  },
  {
   "cell_type": "markdown",
   "id": "b9cbf7a2-7aa7-4d87-86d8-b31476a77a01",
   "metadata": {},
   "source": [
    "* 결측치 보정"
   ]
  },
  {
   "cell_type": "raw",
   "id": "adbf1968-8d29-4baa-949e-d6394e19b81b",
   "metadata": {},
   "source": [
    "   - 열에 대하여 단일 값 보정     "
   ]
  },
  {
   "cell_type": "code",
   "execution_count": 16,
   "id": "0e6c6935-a8a6-4df0-bed5-8da8fd160ec2",
   "metadata": {},
   "outputs": [],
   "source": [
    "# df['나이'] = df['나이'].fillna(0)"
   ]
  },
  {
   "cell_type": "raw",
   "id": "367abb36-a09d-4f12-be6d-cd0bc685f452",
   "metadata": {},
   "source": [
    "   - 데이터 프레임 전체에 단일 값 보정  "
   ]
  },
  {
   "cell_type": "code",
   "execution_count": 17,
   "id": "437088df-6ab9-474d-9b3f-503b9f8e2476",
   "metadata": {},
   "outputs": [],
   "source": [
    "# df = df.fillna(0)"
   ]
  },
  {
   "cell_type": "code",
   "execution_count": 18,
   "id": "88761cc1-5d3f-4a2d-a7d3-9b1bd200bb50",
   "metadata": {},
   "outputs": [
    {
     "name": "stderr",
     "output_type": "stream",
     "text": [
      "C:\\Users\\user\\AppData\\Local\\Temp\\ipykernel_2344\\3826404655.py:2: SettingWithCopyWarning: \n",
      "A value is trying to be set on a copy of a slice from a DataFrame\n",
      "\n",
      "See the caveats in the documentation: https://pandas.pydata.org/pandas-docs/stable/user_guide/indexing.html#returning-a-view-versus-a-copy\n",
      "  df_1.동[(df_1['시설물구분'] == '전기차충전기')] = '대흥동' #위치 상 대흥동에 존재\n"
     ]
    }
   ],
   "source": [
    "df_1[df_1.동.isnull()] #결측치 존재 - 기타로 변경\n",
    "df_1.동[(df_1['시설물구분'] == '전기차충전기')] = '대흥동' #위치 상 대흥동에 존재"
   ]
  },
  {
   "cell_type": "code",
   "execution_count": 19,
   "id": "cc23a5cb-ab3a-46d8-b96c-58a730af844b",
   "metadata": {},
   "outputs": [
    {
     "ename": "KeyError",
     "evalue": "None",
     "output_type": "error",
     "traceback": [
      "\u001b[1;31m---------------------------------------------------------------------------\u001b[0m",
      "\u001b[1;31mKeyError\u001b[0m                                  Traceback (most recent call last)",
      "File \u001b[1;32m~\\anaconda3\\Lib\\site-packages\\pandas\\core\\indexes\\base.py:3791\u001b[0m, in \u001b[0;36mIndex.get_loc\u001b[1;34m(self, key)\u001b[0m\n\u001b[0;32m   3790\u001b[0m \u001b[38;5;28;01mtry\u001b[39;00m:\n\u001b[1;32m-> 3791\u001b[0m     \u001b[38;5;28;01mreturn\u001b[39;00m \u001b[38;5;28mself\u001b[39m\u001b[38;5;241m.\u001b[39m_engine\u001b[38;5;241m.\u001b[39mget_loc(casted_key)\n\u001b[0;32m   3792\u001b[0m \u001b[38;5;28;01mexcept\u001b[39;00m \u001b[38;5;167;01mKeyError\u001b[39;00m \u001b[38;5;28;01mas\u001b[39;00m err:\n",
      "File \u001b[1;32mindex.pyx:152\u001b[0m, in \u001b[0;36mpandas._libs.index.IndexEngine.get_loc\u001b[1;34m()\u001b[0m\n",
      "File \u001b[1;32mindex.pyx:181\u001b[0m, in \u001b[0;36mpandas._libs.index.IndexEngine.get_loc\u001b[1;34m()\u001b[0m\n",
      "File \u001b[1;32mpandas\\_libs\\hashtable_class_helper.pxi:7080\u001b[0m, in \u001b[0;36mpandas._libs.hashtable.PyObjectHashTable.get_item\u001b[1;34m()\u001b[0m\n",
      "File \u001b[1;32mpandas\\_libs\\hashtable_class_helper.pxi:7088\u001b[0m, in \u001b[0;36mpandas._libs.hashtable.PyObjectHashTable.get_item\u001b[1;34m()\u001b[0m\n",
      "\u001b[1;31mKeyError\u001b[0m: None",
      "\nThe above exception was the direct cause of the following exception:\n",
      "\u001b[1;31mKeyError\u001b[0m                                  Traceback (most recent call last)",
      "Cell \u001b[1;32mIn[19], line 1\u001b[0m\n\u001b[1;32m----> 1\u001b[0m df[df_1\u001b[38;5;241m.\u001b[39m동\u001b[38;5;241m.\u001b[39mfillna(\u001b[38;5;124m'\u001b[39m\u001b[38;5;124m기타\u001b[39m\u001b[38;5;124m'\u001b[39m,inplace\u001b[38;5;241m=\u001b[39m\u001b[38;5;28;01mTrue\u001b[39;00m)]\n",
      "File \u001b[1;32m~\\anaconda3\\Lib\\site-packages\\pandas\\core\\frame.py:3893\u001b[0m, in \u001b[0;36mDataFrame.__getitem__\u001b[1;34m(self, key)\u001b[0m\n\u001b[0;32m   3891\u001b[0m \u001b[38;5;28;01mif\u001b[39;00m \u001b[38;5;28mself\u001b[39m\u001b[38;5;241m.\u001b[39mcolumns\u001b[38;5;241m.\u001b[39mnlevels \u001b[38;5;241m>\u001b[39m \u001b[38;5;241m1\u001b[39m:\n\u001b[0;32m   3892\u001b[0m     \u001b[38;5;28;01mreturn\u001b[39;00m \u001b[38;5;28mself\u001b[39m\u001b[38;5;241m.\u001b[39m_getitem_multilevel(key)\n\u001b[1;32m-> 3893\u001b[0m indexer \u001b[38;5;241m=\u001b[39m \u001b[38;5;28mself\u001b[39m\u001b[38;5;241m.\u001b[39mcolumns\u001b[38;5;241m.\u001b[39mget_loc(key)\n\u001b[0;32m   3894\u001b[0m \u001b[38;5;28;01mif\u001b[39;00m is_integer(indexer):\n\u001b[0;32m   3895\u001b[0m     indexer \u001b[38;5;241m=\u001b[39m [indexer]\n",
      "File \u001b[1;32m~\\anaconda3\\Lib\\site-packages\\pandas\\core\\indexes\\base.py:3798\u001b[0m, in \u001b[0;36mIndex.get_loc\u001b[1;34m(self, key)\u001b[0m\n\u001b[0;32m   3793\u001b[0m     \u001b[38;5;28;01mif\u001b[39;00m \u001b[38;5;28misinstance\u001b[39m(casted_key, \u001b[38;5;28mslice\u001b[39m) \u001b[38;5;129;01mor\u001b[39;00m (\n\u001b[0;32m   3794\u001b[0m         \u001b[38;5;28misinstance\u001b[39m(casted_key, abc\u001b[38;5;241m.\u001b[39mIterable)\n\u001b[0;32m   3795\u001b[0m         \u001b[38;5;129;01mand\u001b[39;00m \u001b[38;5;28many\u001b[39m(\u001b[38;5;28misinstance\u001b[39m(x, \u001b[38;5;28mslice\u001b[39m) \u001b[38;5;28;01mfor\u001b[39;00m x \u001b[38;5;129;01min\u001b[39;00m casted_key)\n\u001b[0;32m   3796\u001b[0m     ):\n\u001b[0;32m   3797\u001b[0m         \u001b[38;5;28;01mraise\u001b[39;00m InvalidIndexError(key)\n\u001b[1;32m-> 3798\u001b[0m     \u001b[38;5;28;01mraise\u001b[39;00m \u001b[38;5;167;01mKeyError\u001b[39;00m(key) \u001b[38;5;28;01mfrom\u001b[39;00m \u001b[38;5;21;01merr\u001b[39;00m\n\u001b[0;32m   3799\u001b[0m \u001b[38;5;28;01mexcept\u001b[39;00m \u001b[38;5;167;01mTypeError\u001b[39;00m:\n\u001b[0;32m   3800\u001b[0m     \u001b[38;5;66;03m# If we have a listlike key, _check_indexing_error will raise\u001b[39;00m\n\u001b[0;32m   3801\u001b[0m     \u001b[38;5;66;03m#  InvalidIndexError. Otherwise we fall through and re-raise\u001b[39;00m\n\u001b[0;32m   3802\u001b[0m     \u001b[38;5;66;03m#  the TypeError.\u001b[39;00m\n\u001b[0;32m   3803\u001b[0m     \u001b[38;5;28mself\u001b[39m\u001b[38;5;241m.\u001b[39m_check_indexing_error(key)\n",
      "\u001b[1;31mKeyError\u001b[0m: None"
     ]
    }
   ],
   "source": [
    "df[df_1.동.fillna('기타',inplace=True)] "
   ]
  },
  {
   "cell_type": "code",
   "execution_count": null,
   "id": "e1f88df1-fef8-4f17-ada3-c4e2ee5d16c4",
   "metadata": {},
   "outputs": [],
   "source": [
    "df_1.동.unique()"
   ]
  },
  {
   "cell_type": "markdown",
   "id": "6cb87513-ac6b-49cd-98bd-6ff427c5d759",
   "metadata": {},
   "source": [
    "* 중복값 삭제 (필요시)"
   ]
  },
  {
   "cell_type": "raw",
   "id": "4e12f2c7-add7-47b8-a986-376fc1f2634e",
   "metadata": {},
   "source": [
    "  - 모든 중복 행데이터 확인"
   ]
  },
  {
   "cell_type": "code",
   "execution_count": null,
   "id": "eb5f565f-8fc8-434f-bb66-a9d1c75a7605",
   "metadata": {},
   "outputs": [],
   "source": [
    "df[df.duplicated(keep=False)]"
   ]
  },
  {
   "cell_type": "raw",
   "id": "e847b33e-f13a-47bd-af55-111bf56442b2",
   "metadata": {},
   "source": [
    "  - 모든 중복 행데이터 삭제"
   ]
  },
  {
   "cell_type": "code",
   "execution_count": null,
   "id": "a352aa67-0634-483e-a41b-ba06c6cf51ab",
   "metadata": {},
   "outputs": [],
   "source": [
    "df.drop_duplicates(inplace=True)"
   ]
  },
  {
   "cell_type": "markdown",
   "id": "9dac0879",
   "metadata": {},
   "source": [
    "## 3. 추가데이터 분석"
   ]
  },
  {
   "cell_type": "markdown",
   "id": "253f0cc0",
   "metadata": {},
   "source": [
    "### 3.1. 데이터 정제후 데이터스키마 재확인"
   ]
  },
  {
   "cell_type": "markdown",
   "id": "1812339b-9396-4195-833b-4be5a041d05d",
   "metadata": {},
   "source": [
    "* 1-2 작업을 다시 해보세요."
   ]
  },
  {
   "cell_type": "markdown",
   "id": "8a244e0a",
   "metadata": {},
   "source": [
    "### 3.2 데이터 기초정보 정보 확인"
   ]
  },
  {
   "cell_type": "markdown",
   "id": "3361d7b0-6b2c-493e-a6f8-20bcb153b912",
   "metadata": {},
   "source": [
    "* 최대값, 최소값, 평균값, 표준편차, 최빈값, 유일값, 결측치, 이상치 등의 정보를 재확인해 보세요"
   ]
  },
  {
   "cell_type": "markdown",
   "id": "e73d61a5",
   "metadata": {},
   "source": [
    "### 3.3 시각화를 통한 데이터이해 심화"
   ]
  },
  {
   "cell_type": "markdown",
   "id": "5de7dac1-31b5-4138-a9a6-33fbbde9caac",
   "metadata": {},
   "source": [
    "* 데이터의 성격에 따라 이해도를 올리기 위해 시각화가 필요한 데이터차트를 만들어 보세요.  \n",
    "  (Seaborn 추천: 페어플롯, 막대차트, 파이차트, 라인차트, 히스토그램등..)\n",
    "* 시각화한 차트에 대한 분석"
   ]
  },
  {
   "cell_type": "code",
   "execution_count": null,
   "id": "d17517cc-e241-41f8-832d-01a8612a73e6",
   "metadata": {},
   "outputs": [],
   "source": [
    "df_1['시설물구분'].value_counts()\n",
    "\n",
    "value_counts = df_1['시설물구분'].value_counts().sort_index()\n",
    "value_counts\n",
    "\n",
    "# 막대 그래프 그리기\n",
    "facility_counts = value_counts.index.tolist()\n",
    "values = value_counts.values\n",
    "\n",
    "x = np.arange(len(facility_counts))\n",
    "\n",
    "bars = plt.bar(x, values, width=0.8, color = 'k',align = 'center',linewidth = 2)\n",
    "plt.bar_label(bars, fmt='%d', label_type='edge')\n",
    "plt.xticks(x, facility_counts)\n",
    "plt.xlabel('시설물 종류')\n",
    "plt.ylabel('갯수')\n",
    "plt.title('시설물 별 갯수', loc = 'center')\n",
    "plt.grid(True,axis = 'y')\n",
    "plt.xticks(rotation=80) \n",
    "\n",
    "plt.show()"
   ]
  },
  {
   "cell_type": "code",
   "execution_count": null,
   "id": "a2737f92-1e2e-4a0e-97c2-05eefc8674c2",
   "metadata": {},
   "outputs": [],
   "source": [
    "facility_counts = facility_counts\n",
    "# explode = [0.1, 0.1, 0.1,0.1,0.1,0.1]\n",
    "wedgeprops={'width': 0.8, 'edgecolor': 'w', 'linewidth': 2}\n",
    "plt.pie(values, labels=facility_counts,autopct=lambda pct: f\"{pct: .1f}%\\n\\n({int(pct/100.*np.sum(values))}개)\",wedgeprops=wedgeprops, shadow=True)\n",
    "\n",
    "# autopct: % 포맷 문자열의 시작을 명시, .1f: 소스점 첫째자리까지 표기, %%: %기호를 표기\n",
    "plt.show()"
   ]
  },
  {
   "cell_type": "code",
   "execution_count": null,
   "id": "ac3185fa-eb05-4ef2-9da3-b4e51c129f50",
   "metadata": {},
   "outputs": [],
   "source": [
    "# 대구 디지털혁신진흥원 위도, 경도\n",
    "# 위도(Latitude) : 35.835303 / 경도(Longitude) : 128.6815665\n",
    "\n",
    "map_dip = folium.Map(location=[35.835303, 128.6815665],\n",
    "               zoom_start=15, \n",
    "               width=800, \n",
    "               height=550\n",
    "              )\n",
    "\n",
    "coords = df_1[['위도','경도']]\n",
    "marker_cluster = MarkerCluster().add_to(map_dip)\n",
    "\n",
    "for name, lat, long, monitoring  in zip(df_1['시설물구분'],df_1['위도'],df_1['경도'],df_1['운영상태']):\n",
    "    folium.Marker([lat, long],\n",
    "                  popup=monitoring,\n",
    "                  tooltip=name,\n",
    "                  icon = folium.Icon(color=\"green\")).add_to(marker_cluster)\n",
    "map_dip"
   ]
  },
  {
   "cell_type": "markdown",
   "id": "40d4cdd0-d82c-40f9-a0f8-4a9688b97547",
   "metadata": {},
   "source": [
    "### 데이터 시각화"
   ]
  },
  {
   "cell_type": "code",
   "execution_count": null,
   "id": "34b8b9ba-f2e5-4413-a8e6-8890bdc4bfbc",
   "metadata": {},
   "outputs": [],
   "source": []
  },
  {
   "cell_type": "markdown",
   "id": "021ad024-918c-4ac4-98b8-dd41a843a515",
   "metadata": {},
   "source": [
    "### 각 동 별 시설물"
   ]
  },
  {
   "cell_type": "code",
   "execution_count": null,
   "id": "a30783ca-b068-403c-b45c-80d55e676ee6",
   "metadata": {
    "scrolled": true
   },
   "outputs": [],
   "source": [
    "df_filtered = df_1[df_1['동'] != '기타']\n",
    "\n",
    "sns.histplot(data = df_filtered, x = '동', hue = '시설물구분')\n",
    "\n",
    "plt.show()\n",
    "    "
   ]
  },
  {
   "cell_type": "markdown",
   "id": "328b91c0-5ff6-478e-a863-2d6acaf924c9",
   "metadata": {},
   "source": [
    "##### 각 동별 시설물 갯수를 보면, 대흥동에서 제일 많고 그다음 노변동, 시지동 순으로 많은 것을 볼 수 있다.\n",
    "\n",
    "##### 현재 알파시티의 중심지구는 대흥동이라고 생각된다. "
   ]
  },
  {
   "cell_type": "markdown",
   "id": "cd932c00-5c18-42dc-a605-94a733fd8d04",
   "metadata": {},
   "source": [
    "### 시설물 별 갯수"
   ]
  },
  {
   "cell_type": "code",
   "execution_count": null,
   "id": "a8e00680-8e5c-4f63-b942-74b2e7fffe15",
   "metadata": {
    "scrolled": true
   },
   "outputs": [],
   "source": [
    "df_1['시설물구분'].value_counts()\n",
    "\n",
    "value_counts = df_1['시설물구분'].value_counts().sort_index()\n",
    "value_counts\n",
    "\n",
    "# 막대 그래프 그리기\n",
    "facility_counts = value_counts.index.tolist()\n",
    "values = value_counts.values\n",
    "\n",
    "x = np.arange(len(facility_counts))\n",
    "\n",
    "bars = plt.bar(x, values, width=0.8, color = 'k',align = 'center',linewidth = 2)\n",
    "plt.bar_label(bars, fmt='%d', label_type='edge')\n",
    "plt.xticks(x, facility_counts)\n",
    "plt.xlabel('시설물 종류')\n",
    "plt.ylabel('갯수')\n",
    "plt.title('시설물 별 갯수', loc = 'center')\n",
    "plt.grid(True,axis = 'y')\n",
    "plt.xticks(rotation=80) \n",
    "\n",
    "plt.show()"
   ]
  },
  {
   "cell_type": "markdown",
   "id": "11369853-adc5-46df-97ea-7421b5b11c9b",
   "metadata": {},
   "source": [
    "### 시설물 별 비율"
   ]
  },
  {
   "cell_type": "code",
   "execution_count": null,
   "id": "d8b6031f-1469-4b85-9d9a-a55b58e38fd5",
   "metadata": {},
   "outputs": [],
   "source": [
    "facility_counts = facility_counts\n",
    "# explode = [0.1, 0.1, 0.1,0.1,0.1,0.1]\n",
    "wedgeprops={'width': 0.8, 'edgecolor': 'w', 'linewidth': 2}\n",
    "plt.pie(values, labels=facility_counts,autopct=lambda pct: f\"{pct: .1f}\",wedgeprops=wedgeprops, shadow=True)\n",
    "\n",
    "# autopct: % 포맷 문자열의 시작을 명시, .1f: 소스점 첫째자리까지 표기, %%: %기호를 표기\n",
    "plt.show()"
   ]
  },
  {
   "cell_type": "markdown",
   "id": "dc7fa842-4500-4d24-a64f-5fa428c58511",
   "metadata": {},
   "source": [
    "### 각 시설물 별 위치  \n",
    "가로등 - 파란색  \n",
    "CCTV - 붉은색  \n",
    "스마트워킹 - 검은색  "
   ]
  },
  {
   "cell_type": "code",
   "execution_count": null,
   "id": "bbffe03a-4e4d-4a79-91f6-39a9ac97f8b2",
   "metadata": {},
   "outputs": [],
   "source": [
    "# 대구 디지털혁신진흥원 위도, 경도\n",
    "# 위도(Latitude) : 35.835303 / 경도(Longitude) : 128.6815665\n",
    "\n",
    "map_dip = folium.Map(location=[35.835303, 128.6815665],\n",
    "               zoom_start=15, \n",
    "               width=800, \n",
    "               height=550\n",
    "              )\n",
    "\n",
    "coords = df_1[['위도','경도']]\n",
    "marker_cluster = MarkerCluster().add_to(map_dip)\n",
    "\n",
    "for name, lat, long, monitoring  in zip(df_1['시설물구분'],df_1['위도'],df_1['경도'],df_1['운영상태']):\n",
    "    if name == '스마트가로등':\n",
    "        icon = folium.Icon(color=\"blue\")\n",
    "    elif name == '생활안전CCTV':\n",
    "        icon = folium.Icon(color=\"red\")\n",
    "    elif name == '스마트워킹':\n",
    "        icon = folium.Icon(color=\"black\")\n",
    "    else:\n",
    "        icon = folium.Icon(color=\"green\")\n",
    "    \n",
    "    folium.Marker([lat, long],\n",
    "                  popup=monitoring,\n",
    "                  tooltip=name,\n",
    "                  icon = icon\n",
    "                 ).add_to(marker_cluster)\n",
    "                  \n",
    "map_dip"
   ]
  },
  {
   "cell_type": "markdown",
   "id": "3a24b0f3-6141-4d69-a202-f215c430baba",
   "metadata": {},
   "source": [
    "### 비정상 상태의 시설물(빨간색)"
   ]
  },
  {
   "cell_type": "code",
   "execution_count": null,
   "id": "527a34e3-5615-42d0-bd84-087b5fd7ca50",
   "metadata": {},
   "outputs": [],
   "source": [
    "# 대구 디지털혁신진흥원 위도, 경도\n",
    "# 위도(Latitude) : 35.835303 / 경도(Longitude) : 128.6815665\n",
    "\n",
    "map_dip = folium.Map(location=[35.835303, 128.6815665],\n",
    "               zoom_start=15, \n",
    "               width=800, \n",
    "               height=550\n",
    "              )\n",
    "\n",
    "coords = df_1[['위도','경도']]\n",
    "\n",
    "for name, lat, long, monitoring  in zip(df_1['시설물구분'],df_1['위도'],df_1['경도'],df_1['운영상태']):\n",
    "    if monitoring == '비정상':\n",
    "        icon = folium.Icon(color=\"red\")\n",
    "    else:\n",
    "        icon = folium.Icon(color=\"green\")\n",
    "    \n",
    "    folium.Marker([lat, long],\n",
    "                  popup=monitoring,\n",
    "                  tooltip=name,\n",
    "                  icon = icon\n",
    "                 ).add_to(map_dip)\n",
    "                  \n",
    "map_dip"
   ]
  },
  {
   "cell_type": "markdown",
   "id": "ca5321f7-c762-4535-b994-5baa4658ae95",
   "metadata": {},
   "source": [
    "### 스마트워킹의 위치정보"
   ]
  },
  {
   "cell_type": "code",
   "execution_count": null,
   "id": "d9c038e6-5c36-4d8d-8965-7c2db334028c",
   "metadata": {},
   "outputs": [],
   "source": [
    "# 대구 디지털혁신진흥원 위도, 경도\n",
    "# 위도(Latitude) : 35.835303 / 경도(Longitude) : 128.6815665\n",
    "\n",
    "map_dip = folium.Map(location=[35.835303, 128.6815665],\n",
    "               zoom_start=15, \n",
    "               width=800, \n",
    "               height=550\n",
    "              )\n",
    "\n",
    "coords = df_1[['위도','경도']]\n",
    "\n",
    "for name, lat, long, monitoring  in zip(df_1['시설물구분'],df_1['위도'],df_1['경도'],df_1['운영상태']):\n",
    "    if name == '스마트워킹':\n",
    "        icon = folium.Icon(color=\"black\")\n",
    "  \n",
    "        folium.Marker([lat, long],\n",
    "                      popup=monitoring,\n",
    "                      tooltip=name,\n",
    "                      icon = icon\n",
    "                 ).add_to(map_dip)\n",
    "                  \n",
    "map_dip"
   ]
  },
  {
   "cell_type": "markdown",
   "id": "52c8b16f-2b96-4de9-a007-9630d4162c51",
   "metadata": {},
   "source": [
    "* 수성알파시티 스마트시티 조성사업은 1단계 기반구축(플랫폼 및 13개 서비스)과 2단계 대구스마트시티센터 건립으로 나뉩니다.\n",
    "* 1단계 기반구축으로  \n",
    "교통(5):    자율주행, 지능형도보안전시스템, 교통정보제공, 도로위험 정보제공, 불법주정차단속CCTV\n",
    "에너지(1):  전기차 충전기\n",
    "생활편익(3):    스마트미디어월, 디지털사이니지, 스마트워킹서비스\n",
    "안전(3):     스마트가로등, 생활안전CCTV, 차량번호인식CCTV\n",
    "기반시설관리(1): 지하매설물 관리시스템\n",
    "가 있습니다. \n",
    "* 1단계 사업의 결과로 세워진 시설물들을 분석해 보았습니다. 자율주행, 지하매설물 관리시스템은 빠진 11개 시설물에 대한 정보입니다.\n",
    "    - 지능형도보안전시스템: 학교주변 횡단보도 등에 바닥신호등 및 과속경보시스템을 구축하여 어린이를 위한 안전하고 편안한 보행환경 제공\n",
    "                   => (바닥신호등 3개소, 차량과속정보 10개소)\n",
    "    - 디지털사이니지: 날씨, 시정소식, 행사·관광정보 등 다양한 정보 표출\n",
    "               => 55인치 고해상도 스마트 스크린\n",
    "    - 도로위험 정보제공: 도로 위의 사고, 적치물 낙하 등 돌발상황 정보를 교통정보제공시스템을 통해 제공\n",
    "    - 불법주정차: 주차, 정차로 인한 교통사고 및 교통체증을 예방하기 위한 CCTV 기반 불법 주정차 단속\n",
    "    - 스마트 워킹: 수성의료지구 내에 걷기 코스가 조성된 주요지점에 비콘을 부착해\n",
    "                 시민들의 이용에 따른 자동 거리 계산, 스마트폰을 활용한 운동량체크,\n",
    "                 개인 칼로리 등 계산과 실적누적 포인트 제공으로\n",
    "                 간편하고 효과적인 시민 건강을 증진 시스템 입니다.\n",
    "[출처] 대구 수성알파시티 스마트서비스 - Smart Living (스마트워킹)|작성자 대구 스마트도시"
   ]
  },
  {
   "cell_type": "markdown",
   "id": "f4fa4f46-073f-4c62-b4ae-54ade39c5251",
   "metadata": {},
   "source": [
    "### 3.4 최종 데이터 분석 결과도출"
   ]
  },
  {
   "cell_type": "markdown",
   "id": "477f095f-e884-4326-af1f-ebea049c3546",
   "metadata": {},
   "source": [
    "* 데이터 분석을 통해 얻은 새로운 지식, 인사이트를 정리하세요.\n",
    "* 새로운 지식 및 인사이트 별 비즈니스 전략을 도출할 수 있으면 정리해 보세요"
   ]
  },
  {
   "cell_type": "markdown",
   "id": "7fa7a939-b758-4711-81c7-f8950732e9b0",
   "metadata": {},
   "source": [
    "먼저 각 동별 시설물 갯수를 보면, 대흥동에서 제일 많고 그다음 노변동, 시지동 순으로 많은 것을 볼 수 있는데, 이를 보아 현재 알파시티의 중심지구는 대흥동이라고 생각된다.\n",
    "\n",
    "비정상 상태가 가장 많은 시설물은 스마트 가로등이며, 그다음은 스마트워킹이다. 가로등은 전체 18개 중 3개가 비정상 상태이고, 스마트워킹은 41개 중 2개가 비정상 상태이다.\n",
    "\n",
    "비정상율은 스마트 가로등이 높다.\n",
    "=> 스마트 가로등의 유지보수 비용이 높을 것.\n",
    "\n",
    "가장 많은 시설물은 스마트워킹이다.\n",
    "=> 스마트워킹은 시민 건강을 증진하기 위한 시스템이기 때문에, 알파시티의 첫 취지(의료지구)에 따른 것인 듯 하다.\n",
    "\n",
    "비즈니스 전략\n",
    "\n",
    "스마트 워킹의 비콘은 공원주변, 아파트 근처 등에서 사람들이 이용할 수 있고, 그에 따라 실적누적 포인트를 제공하는데, 이 포인트로 주변 카페를 이용할 수 있게 하면, 시민 건강증진 등에 도움이 될 수 있다."
   ]
  },
  {
   "cell_type": "code",
   "execution_count": null,
   "id": "fadd93b9-a362-4161-af0a-886c0096245a",
   "metadata": {},
   "outputs": [],
   "source": []
  }
 ],
 "metadata": {
  "kernelspec": {
   "display_name": "Python 3 (ipykernel)",
   "language": "python",
   "name": "python3"
  },
  "language_info": {
   "codemirror_mode": {
    "name": "ipython",
    "version": 3
   },
   "file_extension": ".py",
   "mimetype": "text/x-python",
   "name": "python",
   "nbconvert_exporter": "python",
   "pygments_lexer": "ipython3",
   "version": "3.11.7"
  }
 },
 "nbformat": 4,
 "nbformat_minor": 5
}
