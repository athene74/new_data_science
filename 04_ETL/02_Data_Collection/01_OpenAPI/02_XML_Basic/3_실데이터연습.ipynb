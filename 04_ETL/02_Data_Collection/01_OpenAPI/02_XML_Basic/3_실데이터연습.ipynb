{
 "cells": [
  {
   "cell_type": "code",
   "execution_count": 12,
   "id": "b9657990-674f-49c3-843b-43ceb9e616d9",
   "metadata": {},
   "outputs": [],
   "source": [
    "from xml.etree.ElementTree import parse,dump,fromstring"
   ]
  },
  {
   "cell_type": "code",
   "execution_count": 2,
   "id": "761b2719-a4d9-4041-8e20-14ab3000a5e3",
   "metadata": {},
   "outputs": [
    {
     "name": "stdout",
     "output_type": "stream",
     "text": [
      " D 드라이브의 볼륨에는 이름이 없습니다.\n",
      " 볼륨 일련 번호: 64E7-45B0\n",
      "\n",
      " D:\\hjnam\\project\\DataScience\\04_ETL\\02_Data_Collection\\01_OpenAPI\\02_XML_Basic 디렉터리\n",
      "\n",
      "2024-07-31  오전 10:41    <DIR>          .\n",
      "2024-07-31  오전 10:41    <DIR>          ..\n",
      "2024-07-31  오전 10:39    <DIR>          .ipynb_checkpoints\n",
      "2024-07-31  오전 10:39            12,541 1_basic.ipynb\n",
      "2024-07-31  오전 10:39            12,684 1_basic_수업.ipynb\n",
      "2024-07-31  오전 10:39             8,425 2_XML_파싱.ipynb\n",
      "2024-07-31  오전 10:41               843 3_실데이터연습.ipynb\n",
      "2024-07-31  오전 10:22               334 message_작성실습.xml\n",
      "2024-07-31  오전 10:40               380 출입국관광_실데이터_샘플.xml\n",
      "               6개 파일              35,207 바이트\n",
      "               3개 디렉터리  1,995,383,918,592 바이트 남음\n"
     ]
    }
   ],
   "source": [
    "!dir"
   ]
  },
  {
   "cell_type": "code",
   "execution_count": 3,
   "id": "19103f17-006d-4c1a-b6da-232dc9d70f75",
   "metadata": {},
   "outputs": [
    {
     "name": "stdout",
     "output_type": "stream",
     "text": [
      "<response>\n",
      "<header>\n",
      "<resultCode>0000</resultCode>\n",
      "<resultMsg>OK</resultMsg>\n",
      "</header>\n",
      "<body>\n",
      "<items>\n",
      "<item>\n",
      "<ed>방한외래관광객</ed>\n",
      "<edCd>E</edCd>\n",
      "<natCd>112</natCd>\n",
      "<natKorNm>중 국</natKorNm>\n",
      "<num>280035</num>\n",
      "<rnum>1</rnum>\n",
      "<ym>202401</ym>\n",
      "</item>\n",
      "</items>\n",
      "<numOfRows>10</numOfRows>\n",
      "<pageNo>1</pageNo>\n",
      "<totalCount>1</totalCount>\n",
      "</body>\n",
      "</response>\n"
     ]
    }
   ],
   "source": [
    "tree = parse('출입국관광_실데이터_샘플.xml')\n",
    "xml_root=tree.getroot();\n",
    "dump(xml_root)"
   ]
  },
  {
   "cell_type": "code",
   "execution_count": 4,
   "id": "44cb1f54-ad64-41fe-bac1-85775f3e6004",
   "metadata": {},
   "outputs": [
    {
     "ename": "AttributeError",
     "evalue": "'NoneType' object has no attribute 'iter'",
     "output_type": "error",
     "traceback": [
      "\u001b[1;31m---------------------------------------------------------------------------\u001b[0m",
      "\u001b[1;31mAttributeError\u001b[0m                            Traceback (most recent call last)",
      "Cell \u001b[1;32mIn[4], line 1\u001b[0m\n\u001b[1;32m----> 1\u001b[0m dump(xml_root\u001b[38;5;241m.\u001b[39mfind(\u001b[38;5;124m'\u001b[39m\u001b[38;5;124mitems\u001b[39m\u001b[38;5;124m'\u001b[39m))\n",
      "File \u001b[1;32m~\\anaconda3\\Lib\\xml\\etree\\ElementTree.py:1148\u001b[0m, in \u001b[0;36mdump\u001b[1;34m(elem)\u001b[0m\n\u001b[0;32m   1146\u001b[0m \u001b[38;5;28;01mif\u001b[39;00m \u001b[38;5;129;01mnot\u001b[39;00m \u001b[38;5;28misinstance\u001b[39m(elem, ElementTree):\n\u001b[0;32m   1147\u001b[0m     elem \u001b[38;5;241m=\u001b[39m ElementTree(elem)\n\u001b[1;32m-> 1148\u001b[0m elem\u001b[38;5;241m.\u001b[39mwrite(sys\u001b[38;5;241m.\u001b[39mstdout, encoding\u001b[38;5;241m=\u001b[39m\u001b[38;5;124m\"\u001b[39m\u001b[38;5;124municode\u001b[39m\u001b[38;5;124m\"\u001b[39m)\n\u001b[0;32m   1149\u001b[0m tail \u001b[38;5;241m=\u001b[39m elem\u001b[38;5;241m.\u001b[39mgetroot()\u001b[38;5;241m.\u001b[39mtail\n\u001b[0;32m   1150\u001b[0m \u001b[38;5;28;01mif\u001b[39;00m \u001b[38;5;129;01mnot\u001b[39;00m tail \u001b[38;5;129;01mor\u001b[39;00m tail[\u001b[38;5;241m-\u001b[39m\u001b[38;5;241m1\u001b[39m] \u001b[38;5;241m!=\u001b[39m \u001b[38;5;124m\"\u001b[39m\u001b[38;5;130;01m\\n\u001b[39;00m\u001b[38;5;124m\"\u001b[39m:\n",
      "File \u001b[1;32m~\\anaconda3\\Lib\\xml\\etree\\ElementTree.py:741\u001b[0m, in \u001b[0;36mElementTree.write\u001b[1;34m(self, file_or_filename, encoding, xml_declaration, default_namespace, method, short_empty_elements)\u001b[0m\n\u001b[0;32m    739\u001b[0m     _serialize_text(write, \u001b[38;5;28mself\u001b[39m\u001b[38;5;241m.\u001b[39m_root)\n\u001b[0;32m    740\u001b[0m \u001b[38;5;28;01melse\u001b[39;00m:\n\u001b[1;32m--> 741\u001b[0m     qnames, namespaces \u001b[38;5;241m=\u001b[39m _namespaces(\u001b[38;5;28mself\u001b[39m\u001b[38;5;241m.\u001b[39m_root, default_namespace)\n\u001b[0;32m    742\u001b[0m     serialize \u001b[38;5;241m=\u001b[39m _serialize[method]\n\u001b[0;32m    743\u001b[0m     serialize(write, \u001b[38;5;28mself\u001b[39m\u001b[38;5;241m.\u001b[39m_root, qnames, namespaces,\n\u001b[0;32m    744\u001b[0m               short_empty_elements\u001b[38;5;241m=\u001b[39mshort_empty_elements)\n",
      "File \u001b[1;32m~\\anaconda3\\Lib\\xml\\etree\\ElementTree.py:842\u001b[0m, in \u001b[0;36m_namespaces\u001b[1;34m(elem, default_namespace)\u001b[0m\n\u001b[0;32m    839\u001b[0m         _raise_serialization_error(qname)\n\u001b[0;32m    841\u001b[0m \u001b[38;5;66;03m# populate qname and namespaces table\u001b[39;00m\n\u001b[1;32m--> 842\u001b[0m \u001b[38;5;28;01mfor\u001b[39;00m elem \u001b[38;5;129;01min\u001b[39;00m elem\u001b[38;5;241m.\u001b[39miter():\n\u001b[0;32m    843\u001b[0m     tag \u001b[38;5;241m=\u001b[39m elem\u001b[38;5;241m.\u001b[39mtag\n\u001b[0;32m    844\u001b[0m     \u001b[38;5;28;01mif\u001b[39;00m \u001b[38;5;28misinstance\u001b[39m(tag, QName):\n",
      "\u001b[1;31mAttributeError\u001b[0m: 'NoneType' object has no attribute 'iter'"
     ]
    }
   ],
   "source": [
    "dump(xml_root.find('items')) # find 함수는 자식 노드에만 적용"
   ]
  },
  {
   "cell_type": "code",
   "execution_count": 5,
   "id": "30e7b497-b907-4828-9b90-cc34ea78ce90",
   "metadata": {},
   "outputs": [
    {
     "name": "stdout",
     "output_type": "stream",
     "text": [
      "<body>\n",
      "<items>\n",
      "<item>\n",
      "<ed>방한외래관광객</ed>\n",
      "<edCd>E</edCd>\n",
      "<natCd>112</natCd>\n",
      "<natKorNm>중 국</natKorNm>\n",
      "<num>280035</num>\n",
      "<rnum>1</rnum>\n",
      "<ym>202401</ym>\n",
      "</item>\n",
      "</items>\n",
      "<numOfRows>10</numOfRows>\n",
      "<pageNo>1</pageNo>\n",
      "<totalCount>1</totalCount>\n",
      "</body>\n"
     ]
    }
   ],
   "source": [
    "dump(xml_root.find('body'))"
   ]
  },
  {
   "cell_type": "code",
   "execution_count": 9,
   "id": "6a13b51a-75fe-41f4-85d8-3b3ffb394d36",
   "metadata": {},
   "outputs": [
    {
     "name": "stdout",
     "output_type": "stream",
     "text": [
      "<items>\n",
      "<item>\n",
      "<ed>방한외래관광객</ed>\n",
      "<edCd>E</edCd>\n",
      "<natCd>112</natCd>\n",
      "<natKorNm>중 국</natKorNm>\n",
      "<num>280035</num>\n",
      "<rnum>1</rnum>\n",
      "<ym>202401</ym>\n",
      "</item>\n",
      "</items>\n"
     ]
    }
   ],
   "source": [
    "body_node = xml_root.find('body')\n",
    "dump(body_node.find('items'))"
   ]
  },
  {
   "cell_type": "code",
   "execution_count": 11,
   "id": "ea942a52-110c-457b-93a1-6e183d65125d",
   "metadata": {},
   "outputs": [
    {
     "name": "stdout",
     "output_type": "stream",
     "text": [
      "<items>\n",
      "<item>\n",
      "<ed>방한외래관광객</ed>\n",
      "<edCd>E</edCd>\n",
      "<natCd>112</natCd>\n",
      "<natKorNm>중 국</natKorNm>\n",
      "<num>280035</num>\n",
      "<rnum>1</rnum>\n",
      "<ym>202401</ym>\n",
      "</item>\n",
      "</items>\n"
     ]
    }
   ],
   "source": [
    "dump(xml_root.find('body').find('items'))"
   ]
  },
  {
   "cell_type": "code",
   "execution_count": 8,
   "id": "7794c942-b077-487d-9375-d8964839c764",
   "metadata": {},
   "outputs": [
    {
     "name": "stdout",
     "output_type": "stream",
     "text": [
      "<item>\n",
      "<ed>방한외래관광객</ed>\n",
      "<edCd>E</edCd>\n",
      "<natCd>112</natCd>\n",
      "<natKorNm>중 국</natKorNm>\n",
      "<num>280035</num>\n",
      "<rnum>1</rnum>\n",
      "<ym>202401</ym>\n",
      "</item>\n"
     ]
    }
   ],
   "source": [
    "dump(xml_root.find('body').find('items').find('item'))"
   ]
  },
  {
   "cell_type": "markdown",
   "id": "62b909de-6149-480b-b176-93ac78491d33",
   "metadata": {},
   "source": [
    "* 국가명 값을 출력해 보세요"
   ]
  },
  {
   "cell_type": "code",
   "execution_count": 14,
   "id": "c5f7d0af-7c6c-4fcc-adbf-630dc4a2aa93",
   "metadata": {},
   "outputs": [
    {
     "data": {
      "text/plain": [
       "'중 국'"
      ]
     },
     "execution_count": 14,
     "metadata": {},
     "output_type": "execute_result"
    }
   ],
   "source": [
    "xml_root.find('body').find('items').find('item').find('natKorNm').text"
   ]
  },
  {
   "cell_type": "code",
   "execution_count": null,
   "id": "7613eca0-368e-4723-8435-f2848eb91f03",
   "metadata": {},
   "outputs": [],
   "source": [
    "* 방문자수 출력해 보세요"
   ]
  },
  {
   "cell_type": "code",
   "execution_count": 15,
   "id": "fbc0b27d-752b-4643-a400-053625028129",
   "metadata": {},
   "outputs": [
    {
     "data": {
      "text/plain": [
       "'280035'"
      ]
     },
     "execution_count": 15,
     "metadata": {},
     "output_type": "execute_result"
    }
   ],
   "source": [
    "xml_root.find('body').find('items').find('item').find('num').text"
   ]
  },
  {
   "cell_type": "markdown",
   "id": "c9cc664f-8caf-4ca8-a9ea-a0d25509ee83",
   "metadata": {},
   "source": [
    "## XML 문자열에서 XML 노드로 변환"
   ]
  },
  {
   "cell_type": "code",
   "execution_count": 24,
   "id": "c2f86960-9800-496c-bd3a-0c892f66ee89",
   "metadata": {},
   "outputs": [],
   "source": [
    "raw_str_xml='''\n",
    "<response>\n",
    "<header>\n",
    "<resultCode>0000</resultCode>\n",
    "<resultMsg>OK</resultMsg>\n",
    "</header>\n",
    "<body>\n",
    "<items>\n",
    "<item>\n",
    "<ed>방한외래관광객</ed>\n",
    "<edCd>E</edCd>\n",
    "<natCd>112</natCd>\n",
    "<natKorNm>중 국</natKorNm>\n",
    "<num>280035</num>\n",
    "<rnum>1</rnum>\n",
    "<ym>202401</ym>\n",
    "</item>\n",
    "</items>\n",
    "<numOfRows>10</numOfRows>\n",
    "<pageNo>1</pageNo>\n",
    "<totalCount>1</totalCount>\n",
    "</body>\n",
    "</response>\n",
    " '''"
   ]
  },
  {
   "cell_type": "code",
   "execution_count": 25,
   "id": "a42a510e-8270-4568-8685-af001ea5bec8",
   "metadata": {},
   "outputs": [
    {
     "data": {
      "text/plain": [
       "'\\n<response>\\n<header>\\n<resultCode>0000</resultCode>\\n<resultMsg>OK</resultMsg>\\n</header>\\n<body>\\n<items>\\n<item>\\n<ed>방한외래관광객</ed>\\n<edCd>E</edCd>\\n<natCd>112</natCd>\\n<natKorNm>중 국</natKorNm>\\n<num>280035</num>\\n<rnum>1</rnum>\\n<ym>202401</ym>\\n</item>\\n</items>\\n<numOfRows>10</numOfRows>\\n<pageNo>1</pageNo>\\n<totalCount>1</totalCount>\\n</body>\\n</response>\\n '"
      ]
     },
     "execution_count": 25,
     "metadata": {},
     "output_type": "execute_result"
    }
   ],
   "source": [
    "raw_str_xml"
   ]
  },
  {
   "cell_type": "code",
   "execution_count": 26,
   "id": "020a6f8a-5c67-406d-b1dc-0ee884d669a9",
   "metadata": {},
   "outputs": [
    {
     "data": {
      "text/plain": [
       "str"
      ]
     },
     "execution_count": 26,
     "metadata": {},
     "output_type": "execute_result"
    }
   ],
   "source": [
    "type(raw_str_xml)"
   ]
  },
  {
   "cell_type": "code",
   "execution_count": 28,
   "id": "9e5fbe20-dbdb-4f80-8f7c-aadce11be9c8",
   "metadata": {},
   "outputs": [
    {
     "data": {
      "text/plain": [
       "xml.etree.ElementTree.Element"
      ]
     },
     "execution_count": 28,
     "metadata": {},
     "output_type": "execute_result"
    }
   ],
   "source": [
    "xml_converted = fromstring(raw_str_xml)\n",
    "type(xml_converted)"
   ]
  },
  {
   "cell_type": "code",
   "execution_count": 29,
   "id": "06b00e54-5fed-4799-977e-9b1e4fb8dc76",
   "metadata": {},
   "outputs": [
    {
     "name": "stdout",
     "output_type": "stream",
     "text": [
      "<response>\n",
      "<header>\n",
      "<resultCode>0000</resultCode>\n",
      "<resultMsg>OK</resultMsg>\n",
      "</header>\n",
      "<body>\n",
      "<items>\n",
      "<item>\n",
      "<ed>방한외래관광객</ed>\n",
      "<edCd>E</edCd>\n",
      "<natCd>112</natCd>\n",
      "<natKorNm>중 국</natKorNm>\n",
      "<num>280035</num>\n",
      "<rnum>1</rnum>\n",
      "<ym>202401</ym>\n",
      "</item>\n",
      "</items>\n",
      "<numOfRows>10</numOfRows>\n",
      "<pageNo>1</pageNo>\n",
      "<totalCount>1</totalCount>\n",
      "</body>\n",
      "</response>\n"
     ]
    }
   ],
   "source": [
    "dump(xml_converted)"
   ]
  },
  {
   "cell_type": "markdown",
   "id": "52c887b8-21ef-4dce-a0fe-e704de56818f",
   "metadata": {},
   "source": [
    "* '방한외래관광객' 값을 접근해 보세요"
   ]
  },
  {
   "cell_type": "code",
   "execution_count": 30,
   "id": "56230b7c-0eab-4fe9-8372-dfeabc17309e",
   "metadata": {},
   "outputs": [
    {
     "data": {
      "text/plain": [
       "'280035'"
      ]
     },
     "execution_count": 30,
     "metadata": {},
     "output_type": "execute_result"
    }
   ],
   "source": [
    "xml_converted.find('body').find('items').find('item').find('num').text"
   ]
  },
  {
   "cell_type": "code",
   "execution_count": null,
   "id": "4a09662a-f835-4304-8c8d-d0d9c3c7390c",
   "metadata": {},
   "outputs": [],
   "source": []
  }
 ],
 "metadata": {
  "kernelspec": {
   "display_name": "Python 3 (ipykernel)",
   "language": "python",
   "name": "python3"
  },
  "language_info": {
   "codemirror_mode": {
    "name": "ipython",
    "version": 3
   },
   "file_extension": ".py",
   "mimetype": "text/x-python",
   "name": "python",
   "nbconvert_exporter": "python",
   "pygments_lexer": "ipython3",
   "version": "3.11.7"
  }
 },
 "nbformat": 4,
 "nbformat_minor": 5
}
