{
 "cells": [
  {
   "cell_type": "markdown",
   "id": "e4ec1e3e",
   "metadata": {},
   "source": [
    "# 시계열 분석의 기본 개념"
   ]
  },
  {
   "cell_type": "markdown",
   "id": "1a3adcf0",
   "metadata": {},
   "source": [
    "* 시계열 분석은 단일 또는 다변 수치 값으로 자기회귀하여 데이터의 트랜드와 반복패턴을 찾아 예측하는 분석 기법\n",
    "* 자기회귀(Autoregression)는 이전 시간 단계의 관측값을 입력으로 사용하여 회귀 방정식을 구성하여 다음 시간 단계의 값을 예측하는   \n",
    "  시계열 모델입니다."
   ]
  },
  {
   "cell_type": "markdown",
   "id": "c9ca6a29",
   "metadata": {},
   "source": [
    "# 데이터 로드"
   ]
  },
  {
   "cell_type": "markdown",
   "id": "f4bf676e",
   "metadata": {},
   "source": [
    "* 4년간 스페인 에너지 일일 전력 소비량(Energy Consumption)"
   ]
  },
  {
   "cell_type": "code",
   "execution_count": 1,
   "id": "940a84e2",
   "metadata": {},
   "outputs": [],
   "source": [
    "import pandas as pd\n",
    "\n",
    "# Load the dataset from the CSV file using pandas\n",
    "# df = pd.read_csv(\"https://github.com/ourownstory/neuralprophet-data/raw/main/kaggle-energy/datasets/tutorial01.csv\")\n",
    "df = pd.read_csv(\"tutorial01.csv\")"
   ]
  },
  {
   "cell_type": "code",
   "execution_count": 2,
   "id": "f86957c8",
   "metadata": {},
   "outputs": [
    {
     "data": {
      "text/html": [
       "<div>\n",
       "<style scoped>\n",
       "    .dataframe tbody tr th:only-of-type {\n",
       "        vertical-align: middle;\n",
       "    }\n",
       "\n",
       "    .dataframe tbody tr th {\n",
       "        vertical-align: top;\n",
       "    }\n",
       "\n",
       "    .dataframe thead th {\n",
       "        text-align: right;\n",
       "    }\n",
       "</style>\n",
       "<table border=\"1\" class=\"dataframe\">\n",
       "  <thead>\n",
       "    <tr style=\"text-align: right;\">\n",
       "      <th></th>\n",
       "      <th>ds</th>\n",
       "      <th>y</th>\n",
       "    </tr>\n",
       "  </thead>\n",
       "  <tbody>\n",
       "    <tr>\n",
       "      <th>0</th>\n",
       "      <td>2014-12-31</td>\n",
       "      <td>65.41</td>\n",
       "    </tr>\n",
       "    <tr>\n",
       "      <th>1</th>\n",
       "      <td>2015-01-01</td>\n",
       "      <td>62.09</td>\n",
       "    </tr>\n",
       "    <tr>\n",
       "      <th>2</th>\n",
       "      <td>2015-01-02</td>\n",
       "      <td>69.44</td>\n",
       "    </tr>\n",
       "    <tr>\n",
       "      <th>3</th>\n",
       "      <td>2015-01-03</td>\n",
       "      <td>65.22</td>\n",
       "    </tr>\n",
       "    <tr>\n",
       "      <th>4</th>\n",
       "      <td>2015-01-04</td>\n",
       "      <td>58.91</td>\n",
       "    </tr>\n",
       "  </tbody>\n",
       "</table>\n",
       "</div>"
      ],
      "text/plain": [
       "           ds      y\n",
       "0  2014-12-31  65.41\n",
       "1  2015-01-01  62.09\n",
       "2  2015-01-02  69.44\n",
       "3  2015-01-03  65.22\n",
       "4  2015-01-04  58.91"
      ]
     },
     "execution_count": 2,
     "metadata": {},
     "output_type": "execute_result"
    }
   ],
   "source": [
    "df.head()"
   ]
  },
  {
   "cell_type": "markdown",
   "id": "00c25ba9",
   "metadata": {},
   "source": [
    "# 모델 생성"
   ]
  },
  {
   "cell_type": "markdown",
   "id": "63874347",
   "metadata": {},
   "source": [
    "* 최적화를 위한 학습과 조기 종료는 모델 내부에서 자동으로 결정한다."
   ]
  },
  {
   "cell_type": "code",
   "execution_count": 3,
   "id": "d43fb0ad",
   "metadata": {},
   "outputs": [
    {
     "data": {
      "application/vnd.jupyter.widget-view+json": {
       "model_id": "d298f7ed227447d3a1ab4fd03ef9e7be",
       "version_major": 2,
       "version_minor": 0
      },
      "text/plain": [
       "Training: |                                                                                      | 0/? [00:00<…"
      ]
     },
     "metadata": {},
     "output_type": "display_data"
    },
    {
     "data": {
      "application/vnd.jupyter.widget-view+json": {
       "model_id": "56a563257c3641d994dc9919eaa501cf",
       "version_major": 2,
       "version_minor": 0
      },
      "text/plain": [
       "Finding best initial lr:   0%|          | 0/229 [00:00<?, ?it/s]"
      ]
     },
     "metadata": {},
     "output_type": "display_data"
    },
    {
     "name": "stderr",
     "output_type": "stream",
     "text": [
      "WARNING - (py.warnings._showwarnmsg) - C:\\Users\\user\\anaconda3\\Lib\\site-packages\\pytorch_lightning\\utilities\\data.py:78: Trying to infer the `batch_size` from an ambiguous collection. The batch size we found is 32. To avoid any miscalculations, use `self.log(..., batch_size=batch_size)`.\n",
      "\n",
      "WARNING - (py.warnings._showwarnmsg) - C:\\Users\\user\\anaconda3\\Lib\\site-packages\\pytorch_lightning\\utilities\\data.py:78: Trying to infer the `batch_size` from an ambiguous collection. The batch size we found is 22. To avoid any miscalculations, use `self.log(..., batch_size=batch_size)`.\n",
      "\n"
     ]
    },
    {
     "data": {
      "application/vnd.jupyter.widget-view+json": {
       "model_id": "f7c170fde62e4357a962a8daa4af70b0",
       "version_major": 2,
       "version_minor": 0
      },
      "text/plain": [
       "Training: |                                                                                      | 0/? [00:00<…"
      ]
     },
     "metadata": {},
     "output_type": "display_data"
    }
   ],
   "source": [
    "# NeuralProphet 클래스 불러오기\n",
    "from neuralprophet import NeuralProphet, set_log_level\n",
    "\n",
    "# 오류가 아닌 경우 로깅 메시지 비활성화\n",
    "set_log_level(\"ERROR\")\n",
    "\n",
    "# 기본 매개변수로 NeuralProphet 모델 생성\n",
    "m = NeuralProphet()\n",
    "\n",
    "# 데이터셋에 모델 피팅하기 (이 과정은 시간이 걸릴 수 있습니다)\n",
    "metrics = m.fit(df)"
   ]
  },
  {
   "cell_type": "markdown",
   "id": "93c15354",
   "metadata": {},
   "source": [
    "# 시계열 예측"
   ]
  },
  {
   "cell_type": "code",
   "execution_count": 4,
   "id": "d1a7ee08-8ab1-4816-9b28-a2b92450eb93",
   "metadata": {},
   "outputs": [
    {
     "name": "stderr",
     "output_type": "stream",
     "text": [
      "WARNING - (py.warnings._showwarnmsg) - C:\\Users\\user\\anaconda3\\Lib\\site-packages\\neuralprophet\\data\\split.py:273: FutureWarning: The behavior of DataFrame concatenation with empty or all-NA entries is deprecated. In a future version, this will no longer exclude empty or all-NA columns when determining the result dtypes. To retain the old behavior, exclude the relevant entries before the concat operation.\n",
      "  df = pd.concat([df, future_df])\n",
      "\n"
     ]
    },
    {
     "data": {
      "application/vnd.jupyter.widget-view+json": {
       "model_id": "848e66d2da9246fa8be2703a783252b1",
       "version_major": 2,
       "version_minor": 0
      },
      "text/plain": [
       "Predicting: |                                                                                    | 0/? [00:00<…"
      ]
     },
     "metadata": {},
     "output_type": "display_data"
    }
   ],
   "source": [
    "# 예측용으로 미래로부터 365일까지의 새로운 데이터프레임 생성, \n",
    "# n_historic_predictions는 과거 데이터도 포함됨\n",
    "df_future = m.make_future_dataframe(df, n_historic_predictions=True, periods=365)\n",
    "\n",
    "# 미래 예측\n",
    "forecast = m.predict(df_future)"
   ]
  },
  {
   "cell_type": "code",
   "execution_count": 5,
   "id": "2cbd734d-617e-461e-9d25-876422982ae5",
   "metadata": {},
   "outputs": [
    {
     "name": "stderr",
     "output_type": "stream",
     "text": [
      "WARNING - (py.warnings._showwarnmsg) - C:\\Users\\user\\anaconda3\\Lib\\site-packages\\neuralprophet\\plot_forecast_plotly.py:100: FutureWarning: The behavior of DatetimeProperties.to_pydatetime is deprecated, in a future version this will return a Series containing python datetime objects instead of an ndarray. To retain the old behavior, call `np.array` on the result\n",
      "  ds = fcst[\"ds\"].dt.to_pydatetime()\n",
      "\n"
     ]
    },
    {
     "data": {
      "application/vnd.jupyter.widget-view+json": {
       "model_id": "f2f704a4bba8417eaad603810612b6d3",
       "version_major": 2,
       "version_minor": 0
      },
      "text/plain": [
       "FigureWidgetResampler({\n",
       "    'data': [{'fill': 'none',\n",
       "              'line': {'color': 'rgba(45, 146, 255, 1.0)', 'width': 2},\n",
       "              'mode': 'lines',\n",
       "              'name': '<b style=\"color:sandybrown\">[R]</b> yhat1 <i style=\"color:#fc9944\">~2D</i>',\n",
       "              'type': 'scatter',\n",
       "              'uid': '45a5f0fe-fb5a-4ebc-9c91-a2a98ef3a016',\n",
       "              'x': array([datetime.datetime(2014, 12, 31, 0, 0),\n",
       "                          datetime.datetime(2015, 1, 1, 0, 0),\n",
       "                          datetime.datetime(2015, 1, 3, 0, 0), ...,\n",
       "                          datetime.datetime(2019, 12, 28, 0, 0),\n",
       "                          datetime.datetime(2019, 12, 29, 0, 0),\n",
       "                          datetime.datetime(2019, 12, 31, 0, 0)], dtype=object),\n",
       "              'y': array([66.2331 , 66.15289, 61.02323, ..., 69.16813, 66.08047, 73.90775],\n",
       "                         dtype=float32)},\n",
       "             {'marker': {'color': 'black', 'size': 4},\n",
       "              'mode': 'markers',\n",
       "              'name': '<b style=\"color:sandybrown\">[R]</b> Actual <i style=\"color:#fc9944\">~2D</i>',\n",
       "              'type': 'scatter',\n",
       "              'uid': '9f8b0cf5-d003-4aac-b368-f467f4bc81e2',\n",
       "              'x': array([datetime.datetime(2014, 12, 31, 0, 0),\n",
       "                          datetime.datetime(2015, 1, 1, 0, 0),\n",
       "                          datetime.datetime(2015, 1, 2, 0, 0), ...,\n",
       "                          datetime.datetime(2019, 12, 27, 0, 0),\n",
       "                          datetime.datetime(2019, 12, 29, 0, 0),\n",
       "                          datetime.datetime(2019, 12, 31, 0, 0)], dtype=object),\n",
       "              'y': array([65.41, 62.09, 69.44, ...,   nan,   nan,   nan])}],\n",
       "    'layout': {'autosize': True,\n",
       "               'font': {'size': 10},\n",
       "               'height': 420,\n",
       "               'hovermode': 'x unified',\n",
       "               'margin': {'b': 0, 'l': 0, 'pad': 0, 'r': 10, 't': 10},\n",
       "               'showlegend': True,\n",
       "               'template': '...',\n",
       "               'title': {'font': {'size': 12}},\n",
       "               'width': 700,\n",
       "               'xaxis': {'linewidth': 1.5,\n",
       "                         'mirror': True,\n",
       "                         'rangeselector': {'buttons': [{'count': 7, 'label': '1w', 'step': 'day', 'stepmode': 'backward'},\n",
       "                                                       {'count': 1,\n",
       "                                                        'label': '1m',\n",
       "                                                        'step': 'month',\n",
       "                                                        'stepmode': 'backward'},\n",
       "                                                       {'count': 6,\n",
       "                                                        'label': '6m',\n",
       "                                                        'step': 'month',\n",
       "                                                        'stepmode': 'backward'},\n",
       "                                                       {'count': 1, 'label': '1y', 'step': 'year', 'stepmode': 'backward'},\n",
       "                                                       {'step': 'all'}]},\n",
       "                         'rangeslider': {'visible': True},\n",
       "                         'showline': True,\n",
       "                         'title': {'text': 'ds'},\n",
       "                         'type': 'date'},\n",
       "               'yaxis': {'linewidth': 1.5, 'mirror': True, 'showline': True, 'title': {'text': 'y'}}}\n",
       "})"
      ]
     },
     "execution_count": 5,
     "metadata": {},
     "output_type": "execute_result"
    }
   ],
   "source": [
    "# 예측 시각화\n",
    "m.plot(forecast)"
   ]
  },
  {
   "cell_type": "markdown",
   "id": "d2cd4cd1",
   "metadata": {},
   "source": [
    "* 예측의 구성 요소로 이루어져 있습니다: \n",
    "    * 추세, 연간 및 주간 계절성. => 이들은 합쳐져 예측을 생"
   ]
  },
  {
   "cell_type": "code",
   "execution_count": 6,
   "id": "8829a99c",
   "metadata": {},
   "outputs": [
    {
     "name": "stderr",
     "output_type": "stream",
     "text": [
      "WARNING - (py.warnings._showwarnmsg) - C:\\Users\\user\\anaconda3\\Lib\\site-packages\\neuralprophet\\plot_model_parameters_plotly.py:237: FutureWarning:\n",
      "\n",
      "The behavior of DatetimeProperties.to_pydatetime is deprecated, in a future version this will return a Series containing python datetime objects instead of an ndarray. To retain the old behavior, call `np.array` on the result\n",
      "\n",
      "\n",
      "WARNING - (py.warnings._showwarnmsg) - C:\\Users\\user\\anaconda3\\Lib\\site-packages\\neuralprophet\\plot_model_parameters_plotly.py:271: FutureWarning:\n",
      "\n",
      "The behavior of DatetimeProperties.to_pydatetime is deprecated, in a future version this will return a Series containing python datetime objects instead of an ndarray. To retain the old behavior, call `np.array` on the result\n",
      "\n",
      "\n",
      "WARNING - (py.warnings._showwarnmsg) - C:\\Users\\user\\anaconda3\\Lib\\site-packages\\neuralprophet\\plot_model_parameters_plotly.py:475: FutureWarning:\n",
      "\n",
      "The behavior of DatetimeProperties.to_pydatetime is deprecated, in a future version this will return a Series containing python datetime objects instead of an ndarray. To retain the old behavior, call `np.array` on the result\n",
      "\n",
      "\n",
      "WARNING - (py.warnings._showwarnmsg) - C:\\Users\\user\\anaconda3\\Lib\\site-packages\\neuralprophet\\plot_model_parameters_plotly.py:508: FutureWarning:\n",
      "\n",
      "The behavior of DatetimeProperties.to_pydatetime is deprecated, in a future version this will return a Series containing python datetime objects instead of an ndarray. To retain the old behavior, call `np.array` on the result\n",
      "\n",
      "\n"
     ]
    },
    {
     "data": {
      "application/vnd.jupyter.widget-view+json": {
       "model_id": "11c8efb9d3174922b642b19930b02945",
       "version_major": 2,
       "version_minor": 0
      },
      "text/plain": [
       "FigureWidgetResampler({\n",
       "    'data': [{'fill': 'none',\n",
       "              'line': {'color': '#2d92ff', 'width': 2},\n",
       "              'mode': 'lines',\n",
       "              'name': '<b style=\"color:sandybrown\">[R]</b> Trend <i style=\"color:#fc9944\">~1D</i>',\n",
       "              'type': 'scatter',\n",
       "              'uid': '2e565662-d87f-4928-9af7-e6596a8770fe',\n",
       "              'x': array([datetime.datetime(2014, 12, 31, 0, 0),\n",
       "                          datetime.datetime(2015, 1, 1, 0, 0),\n",
       "                          datetime.datetime(2015, 1, 2, 0, 0), ...,\n",
       "                          datetime.datetime(2018, 12, 28, 0, 0),\n",
       "                          datetime.datetime(2018, 12, 29, 0, 0),\n",
       "                          datetime.datetime(2018, 12, 31, 0, 0)], dtype=object),\n",
       "              'xaxis': 'x',\n",
       "              'y': array([63.59950647, 63.62010346, 63.64070045, ..., 66.17281243, 66.18609099,\n",
       "                          66.21264812]),\n",
       "              'yaxis': 'y'},\n",
       "             {'fill': 'none',\n",
       "              'line': {'color': '#2d92ff', 'width': 2},\n",
       "              'mode': 'lines',\n",
       "              'name': 'yearly',\n",
       "              'type': 'scatter',\n",
       "              'uid': '531d0160-1c92-49fc-8c7e-68d350164957',\n",
       "              'x': array([datetime.datetime(2017, 1, 1, 0, 0),\n",
       "                          datetime.datetime(2017, 1, 2, 0, 0),\n",
       "                          datetime.datetime(2017, 1, 3, 0, 0), ...,\n",
       "                          datetime.datetime(2017, 12, 29, 0, 0),\n",
       "                          datetime.datetime(2017, 12, 30, 0, 0),\n",
       "                          datetime.datetime(2017, 12, 31, 0, 0)], dtype=object),\n",
       "              'xaxis': 'x2',\n",
       "              'y': array([0.563322  , 0.4674423 , 0.38541564, ..., 0.9722406 , 0.83092177,\n",
       "                          0.7034234 ], dtype=float32),\n",
       "              'yaxis': 'y2'},\n",
       "             {'fill': 'none',\n",
       "              'line': {'color': '#2d92ff', 'width': 2},\n",
       "              'mode': 'lines',\n",
       "              'name': 'weekly',\n",
       "              'type': 'scatter',\n",
       "              'uid': '679195d3-1c10-4595-9c0b-26d1bb294949',\n",
       "              'x': array([  0,   1,   2,   3,   4,   5,   6,   7,   8,   9,  10,  11,  12,  13,\n",
       "                           14,  15,  16,  17,  18,  19,  20,  21,  22,  23,  24,  25,  26,  27,\n",
       "                           28,  29,  30,  31,  32,  33,  34,  35,  36,  37,  38,  39,  40,  41,\n",
       "                           42,  43,  44,  45,  46,  47,  48,  49,  50,  51,  52,  53,  54,  55,\n",
       "                           56,  57,  58,  59,  60,  61,  62,  63,  64,  65,  66,  67,  68,  69,\n",
       "                           70,  71,  72,  73,  74,  75,  76,  77,  78,  79,  80,  81,  82,  83,\n",
       "                           84,  85,  86,  87,  88,  89,  90,  91,  92,  93,  94,  95,  96,  97,\n",
       "                           98,  99, 100, 101, 102, 103, 104, 105, 106, 107, 108, 109, 110, 111,\n",
       "                          112, 113, 114, 115, 116, 117, 118, 119, 120, 121, 122, 123, 124, 125,\n",
       "                          126, 127, 128, 129, 130, 131, 132, 133, 134, 135, 136, 137, 138, 139,\n",
       "                          140, 141, 142, 143, 144, 145, 146, 147, 148, 149, 150, 151, 152, 153,\n",
       "                          154, 155, 156, 157, 158, 159, 160, 161, 162, 163, 164, 165, 166, 167]),\n",
       "              'xaxis': 'x3',\n",
       "              'y': array([-5.9995484 , -5.801075  , -5.5802903 , -5.3218765 , -5.049784  ,\n",
       "                          -4.7643166 , -4.4616203 , -4.1437197 , -3.792981  , -3.456848  ,\n",
       "                          -3.1061704 , -2.7492976 , -2.3742623 , -1.9911389 , -1.6369528 ,\n",
       "                          -1.2790953 , -0.9265933 , -0.5692249 , -0.23893735,  0.08435375,\n",
       "                           0.41130614,  0.70470834,  0.99153763,  1.2458662 ,  1.4876652 ,\n",
       "                           1.7102053 ,  1.9070164 ,  2.0977676 ,  2.256461  ,  2.398701  ,\n",
       "                           2.5169115 ,  2.6104116 ,  2.6907692 ,  2.7455227 ,  2.7851481 ,\n",
       "                           2.807424  ,  2.8095772 ,  2.7974596 ,  2.7698689 ,  2.7338502 ,\n",
       "                           2.6869204 ,  2.6269045 ,  2.559274  ,  2.488863  ,  2.4105718 ,\n",
       "                           2.329112  ,  2.245166  ,  2.1631079 ,  2.0831943 ,  2.0040724 ,\n",
       "                           1.9316555 ,  1.8572209 ,  1.7887753 ,  1.7298183 ,  1.6783156 ,\n",
       "                           1.6338664 ,  1.5971279 ,  1.5694416 ,  1.547584  ,  1.5386465 ,\n",
       "                           1.527551  ,  1.5329441 ,  1.5449544 ,  1.5600567 ,  1.5871637 ,\n",
       "                           1.6093874 ,  1.6446186 ,  1.6837921 ,  1.7243063 ,  1.77044   ,\n",
       "                           1.816733  ,  1.8564876 ,  1.9026725 ,  1.9449375 ,  1.9887701 ,\n",
       "                           2.0265725 ,  2.0639336 ,  2.0983427 ,  2.1264856 ,  2.150489  ,\n",
       "                           2.1701722 ,  2.1843512 ,  2.1940253 ,  2.1964612 ,  2.195118  ,\n",
       "                           2.1891856 ,  2.1795719 ,  2.1659942 ,  2.1438432 ,  2.1201468 ,\n",
       "                           2.100046  ,  2.0706077 ,  2.0410094 ,  2.0066686 ,  1.9738252 ,\n",
       "                           1.9485033 ,  1.916071  ,  1.8866038 ,  1.8572669 ,  1.8306569 ,\n",
       "                           1.8082043 ,  1.7897983 ,  1.7728573 ,  1.758378  ,  1.7479262 ,\n",
       "                           1.7430246 ,  1.7385103 ,  1.7372769 ,  1.7387637 ,  1.7426046 ,\n",
       "                           1.7460457 ,  1.7517457 ,  1.7571056 ,  1.7629898 ,  1.7641037 ,\n",
       "                           1.7619269 ,  1.7566417 ,  1.7475585 ,  1.7334338 ,  1.7078366 ,\n",
       "                           1.6736255 ,  1.633936  ,  1.5836885 ,  1.5162035 ,  1.4373336 ,\n",
       "                           1.3435516 ,  1.2426113 ,  1.1250967 ,  0.9831335 ,  0.8309625 ,\n",
       "                           0.66966605,  0.48676595,  0.28512186,  0.0599956 , -0.16948856,\n",
       "                          -0.4059713 , -0.66216296, -0.93828374, -1.2190889 , -1.5020634 ,\n",
       "                          -1.799807  , -2.1191013 , -2.439469  , -2.7545848 , -3.062022  ,\n",
       "                          -3.3744369 , -3.6836655 , -4.005406  , -4.318978  , -4.605059  ,\n",
       "                          -4.8751616 , -5.135966  , -5.3919516 , -5.6186223 , -5.826515  ,\n",
       "                          -6.0093274 , -6.1823015 , -6.32676   , -6.438018  , -6.5241923 ,\n",
       "                          -6.5799675 , -6.6109943 , -6.611135  , -6.582766  , -6.5226107 ,\n",
       "                          -6.435362  , -6.312484  , -6.1664915 ], dtype=float32),\n",
       "              'yaxis': 'y3'}],\n",
       "    'layout': {'autosize': True,\n",
       "               'font': {'size': 10},\n",
       "               'height': 630,\n",
       "               'hovermode': 'x unified',\n",
       "               'margin': {'b': 0, 'l': 0, 'pad': 0, 'r': 10, 't': 10},\n",
       "               'showlegend': False,\n",
       "               'template': '...',\n",
       "               'title': {'font': {'size': 12}},\n",
       "               'width': 700,\n",
       "               'xaxis': {'anchor': 'y',\n",
       "                         'domain': [0.0, 1.0],\n",
       "                         'linewidth': 1.5,\n",
       "                         'mirror': True,\n",
       "                         'range': [2014-10-19 00:00:00, 2019-03-14 00:00:00],\n",
       "                         'showline': True,\n",
       "                         'title': {'text': 'ds'},\n",
       "                         'type': 'date'},\n",
       "               'xaxis2': {'anchor': 'y2',\n",
       "                          'domain': [0.0, 1.0],\n",
       "                          'linewidth': 1.5,\n",
       "                          'mirror': True,\n",
       "                          'range': [2016-12-14 00:00:00, 2018-01-18 00:00:00],\n",
       "                          'showline': True,\n",
       "                          'tickformat': '%B %e',\n",
       "                          'title': {'text': 'Day of year'}},\n",
       "               'xaxis3': {'anchor': 'y3',\n",
       "                          'domain': [0.0, 1.0],\n",
       "                          'linewidth': 1.5,\n",
       "                          'mirror': True,\n",
       "                          'range': [-8, 175],\n",
       "                          'showline': True,\n",
       "                          'tickmode': 'array',\n",
       "                          'ticktext': [Sunday, Monday, Tuesday, Wednesday,\n",
       "                                       Thursday, Friday, Saturday, Sunday, Sunday],\n",
       "                          'tickvals': [0, 24, 48, 72, 96, 120, 144, 168, 192],\n",
       "                          'title': {'text': 'Day of week'}},\n",
       "               'yaxis': {'anchor': 'x',\n",
       "                         'domain': [0.7333333333333333, 1.0],\n",
       "                         'linewidth': 1.5,\n",
       "                         'mirror': True,\n",
       "                         'rangemode': 'normal',\n",
       "                         'showline': True,\n",
       "                         'title': {'text': 'Trend'}},\n",
       "               'yaxis2': {'anchor': 'x2',\n",
       "                          'domain': [0.36666666666666664, 0.6333333333333333],\n",
       "                          'linewidth': 1.5,\n",
       "                          'mirror': True,\n",
       "                          'rangemode': 'normal',\n",
       "                          'showline': True,\n",
       "                          'title': {'text': 'Seasonality: yearly'}},\n",
       "               'yaxis3': {'anchor': 'x3',\n",
       "                          'domain': [0.0, 0.26666666666666666],\n",
       "                          'linewidth': 1.5,\n",
       "                          'mirror': True,\n",
       "                          'rangemode': 'normal',\n",
       "                          'showline': True,\n",
       "                          'title': {'text': 'Seasonality: weekly'}}}\n",
       "})"
      ]
     },
     "execution_count": 6,
     "metadata": {},
     "output_type": "execute_result"
    }
   ],
   "source": [
    "m.plot_parameters(components=[\"trend\", \"seasonality\"])"
   ]
  }
 ],
 "metadata": {
  "kernelspec": {
   "display_name": "Python 3 (ipykernel)",
   "language": "python",
   "name": "python3"
  },
  "language_info": {
   "codemirror_mode": {
    "name": "ipython",
    "version": 3
   },
   "file_extension": ".py",
   "mimetype": "text/x-python",
   "name": "python",
   "nbconvert_exporter": "python",
   "pygments_lexer": "ipython3",
   "version": "3.11.7"
  }
 },
 "nbformat": 4,
 "nbformat_minor": 5
}
