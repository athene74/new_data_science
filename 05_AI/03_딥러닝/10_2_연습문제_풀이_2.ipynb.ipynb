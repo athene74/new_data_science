{
 "cells": [
  {
   "cell_type": "code",
   "execution_count": 2,
   "id": "bb68051c-9f16-4a45-b37d-f2560efa6366",
   "metadata": {},
   "outputs": [
    {
     "name": "stderr",
     "output_type": "stream",
     "text": [
      "C:\\Users\\CDL\\anaconda3\\Lib\\site-packages\\keras\\src\\layers\\convolutional\\base_conv.py:107: UserWarning: Do not pass an `input_shape`/`input_dim` argument to a layer. When using Sequential models, prefer using an `Input(shape)` object as the first layer in the model instead.\n",
      "  super().__init__(activity_regularizer=activity_regularizer, **kwargs)\n"
     ]
    }
   ],
   "source": [
    "import tensorflow as tf\n",
    "from tensorflow.keras.datasets import cifar10\n",
    "from tensorflow.keras.preprocessing.image import ImageDataGenerator\n",
    "from tensorflow.keras.callbacks import EarlyStopping, LearningRateScheduler\n",
    "from tensorflow.keras.layers import Conv2D, MaxPooling2D, Flatten, Dense, Dropout, BatchNormalization\n",
    "\n",
    "# 데이터 불러오기\n",
    "(x_train, y_train), (x_test, y_test) = cifar10.load_data()\n",
    "\n",
    "# 데이터 전처리\n",
    "x_train = x_train.astype('float32') / 255.0\n",
    "x_test = x_test.astype('float32') / 255.0\n",
    "y_train = tf.keras.utils.to_categorical(y_train, num_classes=10)\n",
    "y_test = tf.keras.utils.to_categorical(y_test, num_classes=10)\n",
    "\n",
    "# 데이터 증강 설정\n",
    "data_augmentation = ImageDataGenerator(\n",
    "    rotation_range=20,\n",
    "    width_shift_range=0.1,\n",
    "    height_shift_range=0.1,\n",
    "    horizontal_flip=True,\n",
    "    fill_mode='nearest'\n",
    ")\n",
    "\n",
    "# CNN 모델 생성\n",
    "model = tf.keras.Sequential([\n",
    "    Conv2D(32, (3, 3), activation='relu', input_shape=(32, 32, 3)),\n",
    "    BatchNormalization(),\n",
    "    MaxPooling2D((2, 2)),\n",
    "    Conv2D(64, (3, 3), activation='relu'),\n",
    "    BatchNormalization(),\n",
    "    MaxPooling2D((2, 2)),\n",
    "    Conv2D(128, (3, 3), activation='relu'),\n",
    "    BatchNormalization(),\n",
    "    MaxPooling2D((2, 2)),\n",
    "    Flatten(),\n",
    "    Dense(128, activation='relu'),\n",
    "    Dropout(0.5),\n",
    "    Dense(10, activation='softmax')\n",
    "])\n",
    "\n",
    "# 모델 컴파일\n",
    "model.compile(optimizer='adam', loss='categorical_crossentropy', metrics=['accuracy'])"
   ]
  },
  {
   "cell_type": "markdown",
   "id": "73d5ca00-6964-4e7f-9d16-b9769fbf4064",
   "metadata": {},
   "source": [
    "* 동적 학습률 적용 \n",
    "    * 초기에는 학습률을 0.001로 설정\n",
    "    * 에폭이 10을 초과하면 학습률을 0.0005로 감소\n",
    "    * 에폭이 20을 초과하면 학습률을 더욱 감소시켜 0.0001로 설정  \n",
    "\n",
    "이러한 점진적인 학습률 감소는 초기에는 빠른 학습을 가능하게 하고,   \n",
    "학습이 진행됨에 따라 세밀한 최적화를 돕기 위해 학습률을 점점 낮추는 전략"
   ]
  },
  {
   "cell_type": "code",
   "execution_count": 3,
   "id": "29506761-bd5b-4423-8018-d67fbf92f3f6",
   "metadata": {},
   "outputs": [],
   "source": [
    "# 학습률 스케줄러 설정\n",
    "def lr_schedule(epoch):\n",
    "    lrate = 0.001\n",
    "    if epoch > 10:\n",
    "        lrate = 0.0005\n",
    "    if epoch > 20:\n",
    "        lrate = 0.0001\n",
    "    return lrate"
   ]
  },
  {
   "cell_type": "code",
   "execution_count": 4,
   "id": "5eac8e5e-25f3-451e-b9c4-2d8ff164aa74",
   "metadata": {},
   "outputs": [
    {
     "name": "stdout",
     "output_type": "stream",
     "text": [
      "Epoch 1/30\n",
      "\u001b[1m782/782\u001b[0m \u001b[32m━━━━━━━━━━━━━━━━━━━━\u001b[0m\u001b[37m\u001b[0m \u001b[1m67s\u001b[0m 78ms/step - accuracy: 0.3154 - loss: 1.9782 - val_accuracy: 0.5232 - val_loss: 1.3324 - learning_rate: 0.0010\n",
      "Epoch 2/30\n",
      "\u001b[1m782/782\u001b[0m \u001b[32m━━━━━━━━━━━━━━━━━━━━\u001b[0m\u001b[37m\u001b[0m \u001b[1m65s\u001b[0m 83ms/step - accuracy: 0.4854 - loss: 1.4387 - val_accuracy: 0.4920 - val_loss: 1.4875 - learning_rate: 0.0010\n",
      "Epoch 3/30\n",
      "\u001b[1m782/782\u001b[0m \u001b[32m━━━━━━━━━━━━━━━━━━━━\u001b[0m\u001b[37m\u001b[0m \u001b[1m71s\u001b[0m 90ms/step - accuracy: 0.5430 - loss: 1.2878 - val_accuracy: 0.5968 - val_loss: 1.1271 - learning_rate: 0.0010\n",
      "Epoch 4/30\n",
      "\u001b[1m782/782\u001b[0m \u001b[32m━━━━━━━━━━━━━━━━━━━━\u001b[0m\u001b[37m\u001b[0m \u001b[1m65s\u001b[0m 82ms/step - accuracy: 0.5833 - loss: 1.1878 - val_accuracy: 0.6275 - val_loss: 1.0629 - learning_rate: 0.0010\n",
      "Epoch 5/30\n",
      "\u001b[1m782/782\u001b[0m \u001b[32m━━━━━━━━━━━━━━━━━━━━\u001b[0m\u001b[37m\u001b[0m \u001b[1m74s\u001b[0m 94ms/step - accuracy: 0.6041 - loss: 1.1261 - val_accuracy: 0.5891 - val_loss: 1.1936 - learning_rate: 0.0010\n",
      "Epoch 6/30\n",
      "\u001b[1m782/782\u001b[0m \u001b[32m━━━━━━━━━━━━━━━━━━━━\u001b[0m\u001b[37m\u001b[0m \u001b[1m78s\u001b[0m 99ms/step - accuracy: 0.6328 - loss: 1.0624 - val_accuracy: 0.6492 - val_loss: 1.0183 - learning_rate: 0.0010\n",
      "Epoch 7/30\n",
      "\u001b[1m782/782\u001b[0m \u001b[32m━━━━━━━━━━━━━━━━━━━━\u001b[0m\u001b[37m\u001b[0m \u001b[1m84s\u001b[0m 106ms/step - accuracy: 0.6455 - loss: 1.0291 - val_accuracy: 0.6891 - val_loss: 0.8885 - learning_rate: 0.0010\n",
      "Epoch 8/30\n",
      "\u001b[1m782/782\u001b[0m \u001b[32m━━━━━━━━━━━━━━━━━━━━\u001b[0m\u001b[37m\u001b[0m \u001b[1m69s\u001b[0m 88ms/step - accuracy: 0.6537 - loss: 0.9922 - val_accuracy: 0.6906 - val_loss: 0.8819 - learning_rate: 0.0010\n",
      "Epoch 9/30\n",
      "\u001b[1m782/782\u001b[0m \u001b[32m━━━━━━━━━━━━━━━━━━━━\u001b[0m\u001b[37m\u001b[0m \u001b[1m71s\u001b[0m 91ms/step - accuracy: 0.6666 - loss: 0.9630 - val_accuracy: 0.6232 - val_loss: 1.1936 - learning_rate: 0.0010\n",
      "Epoch 10/30\n",
      "\u001b[1m782/782\u001b[0m \u001b[32m━━━━━━━━━━━━━━━━━━━━\u001b[0m\u001b[37m\u001b[0m \u001b[1m86s\u001b[0m 109ms/step - accuracy: 0.6769 - loss: 0.9383 - val_accuracy: 0.7030 - val_loss: 0.8411 - learning_rate: 0.0010\n",
      "Epoch 11/30\n",
      "\u001b[1m782/782\u001b[0m \u001b[32m━━━━━━━━━━━━━━━━━━━━\u001b[0m\u001b[37m\u001b[0m \u001b[1m78s\u001b[0m 99ms/step - accuracy: 0.6878 - loss: 0.9181 - val_accuracy: 0.6822 - val_loss: 0.9571 - learning_rate: 0.0010\n",
      "Epoch 12/30\n",
      "\u001b[1m782/782\u001b[0m \u001b[32m━━━━━━━━━━━━━━━━━━━━\u001b[0m\u001b[37m\u001b[0m \u001b[1m76s\u001b[0m 96ms/step - accuracy: 0.7040 - loss: 0.8603 - val_accuracy: 0.7602 - val_loss: 0.7012 - learning_rate: 5.0000e-04\n",
      "Epoch 13/30\n",
      "\u001b[1m782/782\u001b[0m \u001b[32m━━━━━━━━━━━━━━━━━━━━\u001b[0m\u001b[37m\u001b[0m \u001b[1m73s\u001b[0m 93ms/step - accuracy: 0.7138 - loss: 0.8281 - val_accuracy: 0.7620 - val_loss: 0.6868 - learning_rate: 5.0000e-04\n",
      "Epoch 14/30\n",
      "\u001b[1m782/782\u001b[0m \u001b[32m━━━━━━━━━━━━━━━━━━━━\u001b[0m\u001b[37m\u001b[0m \u001b[1m74s\u001b[0m 94ms/step - accuracy: 0.7295 - loss: 0.7932 - val_accuracy: 0.7503 - val_loss: 0.7226 - learning_rate: 5.0000e-04\n",
      "Epoch 15/30\n",
      "\u001b[1m782/782\u001b[0m \u001b[32m━━━━━━━━━━━━━━━━━━━━\u001b[0m\u001b[37m\u001b[0m \u001b[1m73s\u001b[0m 93ms/step - accuracy: 0.7266 - loss: 0.8015 - val_accuracy: 0.7413 - val_loss: 0.7568 - learning_rate: 5.0000e-04\n",
      "Epoch 16/30\n",
      "\u001b[1m782/782\u001b[0m \u001b[32m━━━━━━━━━━━━━━━━━━━━\u001b[0m\u001b[37m\u001b[0m \u001b[1m73s\u001b[0m 93ms/step - accuracy: 0.7289 - loss: 0.7874 - val_accuracy: 0.7307 - val_loss: 0.8006 - learning_rate: 5.0000e-04\n",
      "\u001b[1m313/313\u001b[0m \u001b[32m━━━━━━━━━━━━━━━━━━━━\u001b[0m\u001b[37m\u001b[0m \u001b[1m4s\u001b[0m 11ms/step - accuracy: 0.7647 - loss: 0.6817\n",
      "Test Loss: 0.6868, Test Accuracy: 0.7620\n"
     ]
    }
   ],
   "source": [
    "# 콜백 설정\n",
    "callbacks_list = [\n",
    "    EarlyStopping(monitor='val_loss', patience=3, restore_best_weights=True),\n",
    "    LearningRateScheduler(lr_schedule)\n",
    "]\n",
    "\n",
    "# 모델 훈련\n",
    "history = model.fit(data_augmentation.flow(x_train, y_train, batch_size=64),\n",
    "                    epochs=30,\n",
    "                    validation_data=(x_test, y_test),\n",
    "                    callbacks=callbacks_list)\n",
    "\n",
    "# 최적의 모델 성능 평가\n",
    "test_loss, test_accuracy = model.evaluate(x_test, y_test)\n",
    "print(f\"Test Loss: {test_loss:.4f}, Test Accuracy: {test_accuracy:.4f}\")"
   ]
  }
 ],
 "metadata": {
  "kernelspec": {
   "display_name": "Python 3 (ipykernel)",
   "language": "python",
   "name": "python3"
  },
  "language_info": {
   "codemirror_mode": {
    "name": "ipython",
    "version": 3
   },
   "file_extension": ".py",
   "mimetype": "text/x-python",
   "name": "python",
   "nbconvert_exporter": "python",
   "pygments_lexer": "ipython3",
   "version": "3.11.7"
  }
 },
 "nbformat": 4,
 "nbformat_minor": 5
}
