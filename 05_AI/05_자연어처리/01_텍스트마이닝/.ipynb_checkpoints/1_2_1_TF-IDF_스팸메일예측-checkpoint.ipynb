{
 "cells": [
  {
   "cell_type": "code",
   "execution_count": 13,
   "id": "99b658a7",
   "metadata": {},
   "outputs": [],
   "source": [
    "import pickle\n",
    "from sklearn.linear_model import LogisticRegression\n",
    "\n",
    "# rb: 바이러리 데이터를 읽어들이는 옵션\n",
    "with open('processed.pickle', 'rb') as file_handle:    \n",
    "    vocabulary, features, labels = pickle.load(file_handle)"
   ]
  },
  {
   "cell_type": "code",
   "execution_count": 14,
   "id": "c37052e9",
   "metadata": {},
   "outputs": [],
   "source": [
    "# 학습-테스트 데이터 나누기\n",
    "# 처음 50%를 학습으로 사용하고 나머지를 평가로 사용합니다.\n",
    "total_number = len(labels)\n",
    "middle_index = total_number//2\n",
    "train_features = features[:middle_index,:]\n",
    "train_labels = labels[:middle_index]\n",
    "test_features = features[middle_index:,:]\n",
    "test_labels = labels[middle_index:]"
   ]
  },
  {
   "cell_type": "code",
   "execution_count": 15,
   "id": "849b7da3",
   "metadata": {},
   "outputs": [
    {
     "data": {
      "text/plain": [
       "<5x8713 sparse matrix of type '<class 'numpy.float64'>'\n",
       "\twith 64 stored elements in Compressed Sparse Row format>"
      ]
     },
     "execution_count": 15,
     "metadata": {},
     "output_type": "execute_result"
    }
   ],
   "source": [
    "# TF-IDF 정보가 희소행렬(sparse matrix)로 압축되어 저장\n",
    "train_features[:5]"
   ]
  },
  {
   "cell_type": "markdown",
   "id": "71c876ca-e2ed-49b1-b7f3-c2abe26fac2c",
   "metadata": {},
   "source": [
    "* 내부적으로 저장되는 형태이며"
   ]
  },
  {
   "cell_type": "code",
   "execution_count": 16,
   "id": "d5074b5b",
   "metadata": {},
   "outputs": [
    {
     "name": "stdout",
     "output_type": "stream",
     "text": [
      "train accuracy: 0.9724\n",
      "test accuracy: 0.9605\n",
      "score 4.3905 word: txt\n",
      "score 4.1570 word: call\n",
      "score 3.3960 word: free\n",
      "score 2.6671 word: to\n",
      "score 2.6412 word: text\n",
      "score 2.4989 word: uk\n",
      "score 2.4924 word: www\n",
      "score 2.4437 word: stop\n",
      "score 2.4089 word: claim\n",
      "score 2.1820 word: or\n",
      "score 2.1680 word: 150p\n",
      "score 2.1672 word: from\n",
      "score 2.1375 word: service\n",
      "score 2.1002 word: mobile\n",
      "score 2.0814 word: my\n",
      "score 2.0678 word: now\n",
      "score 2.0086 word: me\n",
      "score 1.9982 word: reply\n",
      "score 1.9318 word: ur\n",
      "score 1.8458 word: prize\n"
     ]
    }
   ],
   "source": [
    "classifier = LogisticRegression() # 성능 향상을 위해 새로운 모델을 사용할 수 있다.\n",
    "classifier.fit(train_features, train_labels)\n",
    "print('train accuracy: %4.4f' % classifier.score(train_features, train_labels))\n",
    "print('test accuracy: %4.4f' % classifier.score(test_features, test_labels))\n",
    "\n",
    "# 어떤 항목이 판별에 영향을 많이 줬는지 찾아보기\n",
    "weights = classifier.coef_[0, :]\n",
    "pairs = []\n",
    "for index, value in enumerate(weights):\n",
    "    pairs.append( (abs(value), vocabulary[index]) )\n",
    "pairs.sort(key=lambda x: x[0], reverse=True)\n",
    "for pair in pairs[:20]:\n",
    "    print('score %4.4f word: %s' % pair)"
   ]
  },
  {
   "cell_type": "markdown",
   "id": "6ea33a3e",
   "metadata": {
    "jp-MarkdownHeadingCollapsed": true
   },
   "source": [
    "## 성능 향상을 위해 선택적으로 적용할 수 있는 실험\n",
    "* idf 점수를 빼고 모델 학습\n",
    "* 성능이 향상이 되었다면 어떤 이유로 향상이 되었을지 생각해 보자"
   ]
  },
  {
   "cell_type": "markdown",
   "id": "ff5a40d6-424f-43c6-97fc-85743cd36d8b",
   "metadata": {},
   "source": [
    "## 생각해 봤나요?"
   ]
  },
  {
   "cell_type": "markdown",
   "id": "653b91b1-8fec-479f-81a0-dd2df7975206",
   "metadata": {},
   "source": [
    "* 아래와 같은 메일제목은?"
   ]
  },
  {
   "cell_type": "raw",
   "id": "d697bc63-20c0-46c2-bf32-8ae8cef046d9",
   "metadata": {},
   "source": [
    "Free pizza offer. free free free!\n",
    "Meeting meeting meeting schedule update\n",
    "Special free offer for new members only. It's free free"
   ]
  },
  {
   "cell_type": "markdown",
   "id": "aaf3aa69-e115-45ae-92e1-13ea5a2750b9",
   "metadata": {},
   "source": [
    "스펨 분류에 영향을 미치는 키워드가 너무 반복적으로 사용되었을 경우 IDF가 반영하면 가중치가 떨어져서 순수 빈도로 측정했을 때보다  \n",
    "성능이 떨어질 수도 있다."
   ]
  },
  {
   "cell_type": "markdown",
   "id": "631fa367-1d9a-4f43-969c-553d463a0e4a",
   "metadata": {},
   "source": [
    "# 과제\n",
    "* 위 모델을 lightGBM을 적용하여 정답률을 향상시키세요"
   ]
  },
  {
   "cell_type": "code",
   "execution_count": null,
   "id": "f192c4e7",
   "metadata": {},
   "outputs": [],
   "source": []
  },
  {
   "cell_type": "code",
   "execution_count": null,
   "id": "d4f27565",
   "metadata": {},
   "outputs": [],
   "source": []
  }
 ],
 "metadata": {
  "kernelspec": {
   "display_name": "Python 3 (ipykernel)",
   "language": "python",
   "name": "python3"
  },
  "language_info": {
   "codemirror_mode": {
    "name": "ipython",
    "version": 3
   },
   "file_extension": ".py",
   "mimetype": "text/x-python",
   "name": "python",
   "nbconvert_exporter": "python",
   "pygments_lexer": "ipython3",
   "version": "3.11.7"
  }
 },
 "nbformat": 4,
 "nbformat_minor": 5
}
