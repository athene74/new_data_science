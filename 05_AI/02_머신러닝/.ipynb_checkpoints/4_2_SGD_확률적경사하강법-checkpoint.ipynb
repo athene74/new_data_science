{
 "cells": [
  {
   "cell_type": "markdown",
   "metadata": {},
   "source": [
    "# 확률적 경사하강법 (SGD: Stochastic Gradient Descent)"
   ]
  },
  {
   "cell_type": "markdown",
   "metadata": {
    "heading_collapsed": true
   },
   "source": [
    "## 정의"
   ]
  },
  {
   "cell_type": "markdown",
   "metadata": {
    "hidden": true
   },
   "source": [
    "* 머신러닝, 딥러닝의 예측 모델에서 사용하는 가중치, 절편의 값을 최적의 성능을 내기위해 검색하는 방법\n",
    "* Stochastic => 확률 (랜덤하게), Gradient => 기울기 (가중치의 최적화를 경사의 기울기로), Descent => 하강 (내려오면서 최적의 값는 전략)"
   ]
  },
  {
   "cell_type": "markdown",
   "metadata": {
    "heading_collapsed": true
   },
   "source": [
    "## 절차"
   ]
  },
  {
   "cell_type": "markdown",
   "metadata": {
    "hidden": true
   },
   "source": [
    "* 가중치 초기화:  \n",
    " 모델의 가중치를 작은 랜덤한 값으로 초기화  \n",
    " 이 가중치는 모델 내부에서 사용하는 선형 방정식의 계수  \n",
    "예) y= b + c1x1 + c2x2 + ... cnxn => 여기서 b(절편), c1 .. cn (개별 피처의 가중치 * 개별 피쳐)\n",
    "\n",
    "* 데이터 샘플 선택:  \n",
    " 각 학습 단계에서는 데이터셋에서 무작위로 한 개의 데이터 샘플을 선택     \n",
    " 이 선택된 데이터 샘플은 손실 함수의 기울기를 계산하는데 사용  \n",
    " (손실 함수: 아래 참고)  \n",
    "\n",
    "* 가중치 업데이트:  \n",
    " 선택된 데이터 샘플에 대한 손실 함수의 기울기를 계산.     \n",
    " 기울기는 현재 가중치에서 손실 함수 값이 가장 크게 증가하는 방향을 나타냄.    \n",
    " 따라서 기울기의 반대 방향으로 일정 크기의 스텝(step)을 이동하여 가중치를 업데이트합니다.  \n",
    "\n",
    "* 손실 함수 적용:  \n",
    " 가중치가 업데이트된 후, 해당 가중치에 대해 전체 데이터셋에 대한 손실 함수를 계산.  \n",
    " 이 손실 함수 값은 모델의 성능을 평가하는 지표로 사용  \n",
    " \n",
    "* 반복:  \n",
    " 위 과정을 지정한 에포크 수나 수렴 조건이 만족할 때까지 반복하여 모델을 학습"
   ]
  },
  {
   "cell_type": "markdown",
   "metadata": {},
   "source": [
    "## 참고"
   ]
  },
  {
   "cell_type": "markdown",
   "metadata": {
    "hidden": true
   },
   "source": [
    "* 에포크(epoch): 모델이 학습하는 데이터 셋  \n",
    "(1 epoch: => 1개의 데이터셋이 모델에 학습되었다는 것을 의미) "
   ]
  },
  {
   "cell_type": "markdown",
   "metadata": {},
   "source": [
    "* 손실함수\n",
    "    * 주로 모델의 예측값과 실제값 사이의 오차를 측정하는 함수입니다. \n",
    "    * 회귀 문제에는 평균 제곱 오차 (Mean Squared Error, MSE), 분류 문제에서는 교차 엔트로피 손실(Cross-Entropy Loss)를 주로 사용"
   ]
  },
  {
   "cell_type": "markdown",
   "metadata": {},
   "source": [
    "## 기울기를 통한 최소값 찾기"
   ]
  },
  {
   "cell_type": "markdown",
   "metadata": {},
   "source": [
    "* 평균제곱 오차 그래프 예"
   ]
  },
  {
   "attachments": {
    "image.png": {
     "image/png": "[encoded data removed]"
    }
   },
   "cell_type": "markdown",
   "metadata": {},
   "source": [
    "![image.png](attachment:image.png)"
   ]
  },
  {
   "cell_type": "raw",
   "metadata": {},
   "source": [
    "예]\n",
    "* 특정 지점의 기울기가 양수라면 이 값은 지금 이 지점에서 그래프가 오르고 있다는 것을 의미  \n",
    "* 따라서 기울기의 반대 방향으로 설정\n",
    "* 이런 식으로 완만한 경사로 이동하여 가장 손실값이 작은 방향을 찾는다."
   ]
  },
  {
   "cell_type": "markdown",
   "metadata": {},
   "source": [
    "# SGD(확률적 경사하강법)이 같는 의미"
   ]
  },
  {
   "cell_type": "markdown",
   "metadata": {},
   "source": [
    "* 초창기 머신러닝, 딥러닝 모델에서 수학적인 모델의 가중치, 절편을 최적화하는데 주로 사용되었던 방식"
   ]
  },
  {
   "cell_type": "markdown",
   "metadata": {
    "id": "3x4OwaSIR50l"
   },
   "source": [
    "## SGDClassifier"
   ]
  },
  {
   "cell_type": "code",
   "execution_count": 1,
   "metadata": {
    "id": "j3z-zKXoRmWB"
   },
   "outputs": [],
   "source": [
    "import pandas as pd\n",
    "\n",
    "fish = pd.read_csv('fishes.csv')"
   ]
  },
  {
   "cell_type": "code",
   "execution_count": 2,
   "metadata": {
    "id": "WAiJVY9nR1fF"
   },
   "outputs": [],
   "source": [
    "fish_input = fish[['Weight','Length','Diagonal','Height','Width']].to_numpy()\n",
    "fish_target = fish['Species'].to_numpy()"
   ]
  },
  {
   "cell_type": "code",
   "execution_count": 3,
   "metadata": {
    "id": "AW6LMW_URpto"
   },
   "outputs": [],
   "source": [
    "from sklearn.model_selection import train_test_split\n",
    "\n",
    "train_input, test_input, train_target, test_target = train_test_split(\n",
    "    fish_input, fish_target, random_state=42)"
   ]
  },
  {
   "cell_type": "code",
   "execution_count": 4,
   "metadata": {
    "id": "1RTAwK_DRutj"
   },
   "outputs": [],
   "source": [
    "from sklearn.preprocessing import StandardScaler\n",
    "\n",
    "ss = StandardScaler()\n",
    "ss.fit(train_input)\n",
    "train_scaled = ss.transform(train_input)\n",
    "test_scaled = ss.transform(test_input)"
   ]
  },
  {
   "cell_type": "code",
   "execution_count": 5,
   "metadata": {
    "id": "FSyujXY7sli6"
   },
   "outputs": [],
   "source": [
    "from sklearn.linear_model import SGDClassifier"
   ]
  },
  {
   "cell_type": "code",
   "execution_count": 6,
   "metadata": {
    "colab": {
     "base_uri": "https://localhost:8080/"
    },
    "id": "KofoXhbwR9yu",
    "outputId": "1d6a0eac-9a2d-4008-a7fa-044c2e39907d"
   },
   "outputs": [
    {
     "name": "stdout",
     "output_type": "stream",
     "text": [
      "0.773109243697479\n",
      "0.775\n"
     ]
    },
    {
     "name": "stderr",
     "output_type": "stream",
     "text": [
      "C:\\Users\\dd\\anaconda3\\Lib\\site-packages\\sklearn\\linear_model\\_stochastic_gradient.py:163: FutureWarning: The loss 'log' was deprecated in v1.1 and will be removed in version 1.3. Use `loss='log_loss'` which is equivalent.\n",
      "  warnings.warn(\n",
      "C:\\Users\\dd\\anaconda3\\Lib\\site-packages\\sklearn\\linear_model\\_stochastic_gradient.py:702: ConvergenceWarning: Maximum number of iteration reached before convergence. Consider increasing max_iter to improve the fit.\n",
      "  warnings.warn(\n"
     ]
    }
   ],
   "source": [
    "# 사이킷런 1.1.0 버전 이하일 경우 'log_loss'를 'log'로 바꾸어 주세요.\n",
    "# sc = SGDClassifier(loss='log_loss', max_iter=10, random_state=42)\n",
    "sc = SGDClassifier(loss='log', max_iter=10, random_state=42)\n",
    "sc.fit(train_scaled, train_target)\n",
    "\n",
    "print(sc.score(train_scaled, train_target))\n",
    "print(sc.score(test_scaled, test_target))"
   ]
  },
  {
   "cell_type": "markdown",
   "metadata": {},
   "source": [
    "#### 과소 적합된 결과를 향상시키기 위해 기존의 가중치, 편향을 유지하고 새로운 데이터를 학습시켜 가중치, 편향을 업데이트"
   ]
  },
  {
   "cell_type": "code",
   "execution_count": 7,
   "metadata": {
    "colab": {
     "base_uri": "https://localhost:8080/"
    },
    "id": "duwA4N3eSUk5",
    "outputId": "f26d3a96-dca9-46b0-8201-4e12b15d57aa"
   },
   "outputs": [
    {
     "name": "stdout",
     "output_type": "stream",
     "text": [
      "0.8151260504201681\n",
      "0.85\n"
     ]
    }
   ],
   "source": [
    "# 아래 예제는 max_iter의 수가 작아서 전체 데이터가 선택이 되지 않을 확률이 높다. \n",
    "# 따라서 동일 데이터라 하더라도 추가 학습의 효과가 나게 된다.\n",
    "sc.partial_fit(train_scaled, train_target)\n",
    "\n",
    "print(sc.score(train_scaled, train_target))\n",
    "print(sc.score(test_scaled, test_target))"
   ]
  },
  {
   "cell_type": "markdown",
   "metadata": {
    "id": "TEtfnUQhzKO2"
   },
   "source": [
    "## 에포크와 과대/과소적합"
   ]
  },
  {
   "cell_type": "code",
   "execution_count": 8,
   "metadata": {
    "id": "pt7BHZVZ-dWT"
   },
   "outputs": [],
   "source": [
    "import numpy as np\n",
    "\n",
    "# 사이킷런 1.1 버전에서는 SGDClassifier의 loss 매개변수 중 \n",
    "# 로지스틱 손실을 의미하는 'log'가 'log_loss'로 바뀐다는 경고가 발생합니다.\n",
    "# 사이킷런 1.1 이상을 사용하는 경우 loss='log'를 loss='log_loss'로 변경하세요.\n",
    "sc = SGDClassifier(loss='log', random_state=42)\n",
    "\n",
    "train_score = []\n",
    "test_score = []\n",
    "\n",
    "classes = np.unique(train_target)"
   ]
  },
  {
   "cell_type": "code",
   "execution_count": 9,
   "metadata": {
    "ExecuteTime": {
     "end_time": "2023-01-19T21:04:06.707035Z",
     "start_time": "2023-01-19T21:04:06.327307Z"
    },
    "id": "-65Gz13tVOP7",
    "scrolled": true
   },
   "outputs": [
    {
     "name": "stderr",
     "output_type": "stream",
     "text": [
      "C:\\Users\\dd\\anaconda3\\Lib\\site-packages\\sklearn\\linear_model\\_stochastic_gradient.py:163: FutureWarning: The loss 'log' was deprecated in v1.1 and will be removed in version 1.3. Use `loss='log_loss'` which is equivalent.\n",
      "  warnings.warn(\n"
     ]
    }
   ],
   "source": [
    "for _ in range(0, 300):\n",
    "    sc.partial_fit(train_scaled, train_target, classes=classes)\n",
    "    \n",
    "    train_score.append(sc.score(train_scaled, train_target))\n",
    "    test_score.append(sc.score(test_scaled, test_target))"
   ]
  },
  {
   "cell_type": "code",
   "execution_count": 10,
   "metadata": {
    "colab": {
     "base_uri": "https://localhost:8080/",
     "height": 279
    },
    "id": "V19SzZJ5ZjSI",
    "outputId": "de31130f-e860-4143-99ec-014654191160"
   },
   "outputs": [
    {
     "data": {
      "image/png": "[encoded data removed]",
      "text/plain": [
       "<Figure size 640x480 with 1 Axes>"
      ]
     },
     "metadata": {},
     "output_type": "display_data"
    }
   ],
   "source": [
    "import matplotlib.pyplot as plt\n",
    "\n",
    "plt.plot(train_score)\n",
    "plt.plot(test_score)\n",
    "plt.xlabel('epoch')\n",
    "plt.ylabel('accuracy')\n",
    "plt.show()"
   ]
  },
  {
   "cell_type": "markdown",
   "metadata": {},
   "source": [
    "## 분석"
   ]
  },
  {
   "cell_type": "markdown",
   "metadata": {},
   "source": [
    "* 과대 적합이 나오는 구간은?"
   ]
  },
  {
   "cell_type": "markdown",
   "metadata": {},
   "source": [
    "* 적절한 에포크는?  \n",
    " 1. 시험데이터의 성능이 최대로 나오는 에포크\n",
    " 2. 시험데이터와 훈련 데이터가 일치하게 나오는 에포크\n",
    " 3. 시험데이터와 훈련 데이터의 차이가 가장 적은 것 중에서 시험데이터가 가장 높게 나오는 에포크\n",
    " 4. 훈련데이터의 성능이 시험 데이터보다 높게 나오는 것중 가장 시험데이터 성능이 높게 나오는 에포크"
   ]
  },
  {
   "cell_type": "markdown",
   "metadata": {},
   "source": [
    "### 운영환경을 위해 고려해 볼 수 있는 선택"
   ]
  },
  {
   "cell_type": "markdown",
   "metadata": {},
   "source": [
    "4 > 3 > 1 > 2"
   ]
  },
  {
   "cell_type": "markdown",
   "metadata": {},
   "source": [
    "* 그 밖에 교차 검증을 통한 최적의 에포크를 선택"
   ]
  },
  {
   "cell_type": "markdown",
   "metadata": {},
   "source": [
    "* max_iter 수를 늘리게 되면 기존의 데이터를 N번만큼 더 최적화 해준다."
   ]
  },
  {
   "cell_type": "code",
   "execution_count": 16,
   "metadata": {
    "colab": {
     "base_uri": "https://localhost:8080/"
    },
    "id": "pdp2Ykst1K_I",
    "outputId": "6214bd83-00c8-4a16-9931-ad7746ddff9f"
   },
   "outputs": [
    {
     "name": "stdout",
     "output_type": "stream",
     "text": [
      "0.6554621848739496\n",
      "0.65\n"
     ]
    }
   ],
   "source": [
    "# 사이킷런 1.1 버전에서는 SGDClassifier의 loss 매개변수 중 \n",
    "# 로지스틱 손실을 의미하는 'log'가 'log_loss'로 바뀐다는 경고가 발생합니다.\n",
    "# 사이킷런 1.1 이상을 사용하는 경우 loss='log'를 loss='log_loss'로 변경하세요.\n",
    "sc = SGDClassifier(loss='log_loss', max_iter=20, tol=None, random_state=42)\n",
    "sc.fit(train_scaled, train_target)\n",
    "\n",
    "print(sc.score(train_scaled, train_target))\n",
    "print(sc.score(test_scaled, test_target))"
   ]
  },
  {
   "cell_type": "code",
   "execution_count": 17,
   "metadata": {
    "colab": {
     "base_uri": "https://localhost:8080/"
    },
    "id": "OL7-y1kgIP4S",
    "outputId": "554597de-bec8-45d1-92e6-a0f5a7ebe519",
    "scrolled": true
   },
   "outputs": [
    {
     "name": "stdout",
     "output_type": "stream",
     "text": [
      "0.9159663865546218\n",
      "0.925\n"
     ]
    }
   ],
   "source": [
    "sc = SGDClassifier(loss='log_loss', max_iter=30, tol=None, random_state=42)\n",
    "sc.fit(train_scaled, train_target)\n",
    "\n",
    "print(sc.score(train_scaled, train_target))\n",
    "print(sc.score(test_scaled, test_target))"
   ]
  },
  {
   "cell_type": "code",
   "execution_count": 18,
   "metadata": {
    "colab": {
     "base_uri": "https://localhost:8080/"
    },
    "id": "OL7-y1kgIP4S",
    "outputId": "554597de-bec8-45d1-92e6-a0f5a7ebe519",
    "scrolled": true
   },
   "outputs": [
    {
     "name": "stdout",
     "output_type": "stream",
     "text": [
      "0.9243697478991597\n",
      "0.925\n"
     ]
    }
   ],
   "source": [
    "sc = SGDClassifier(loss='log_loss', max_iter=50, tol=None, random_state=42)\n",
    "sc.fit(train_scaled, train_target)\n",
    "\n",
    "print(sc.score(train_scaled, train_target))\n",
    "print(sc.score(test_scaled, test_target))"
   ]
  },
  {
   "cell_type": "code",
   "execution_count": 19,
   "metadata": {
    "colab": {
     "base_uri": "https://localhost:8080/"
    },
    "id": "OL7-y1kgIP4S",
    "outputId": "554597de-bec8-45d1-92e6-a0f5a7ebe519",
    "scrolled": true
   },
   "outputs": [
    {
     "name": "stdout",
     "output_type": "stream",
     "text": [
      "0.957983193277311\n",
      "0.925\n"
     ]
    }
   ],
   "source": [
    "sc = SGDClassifier(loss='log_loss', max_iter=100, tol=None, random_state=42)\n",
    "sc.fit(train_scaled, train_target)\n",
    "\n",
    "print(sc.score(train_scaled, train_target))\n",
    "print(sc.score(test_scaled, test_target))"
   ]
  }
 ],
 "metadata": {
  "colab": {
   "collapsed_sections": [],
   "name": "4-2 확률적 경사 하강법.ipynb",
   "provenance": []
  },
  "kernelspec": {
   "display_name": "Python 3 (ipykernel)",
   "language": "python",
   "name": "python3"
  },
  "language_info": {
   "codemirror_mode": {
    "name": "ipython",
    "version": 3
   },
   "file_extension": ".py",
   "mimetype": "text/x-python",
   "name": "python",
   "nbconvert_exporter": "python",
   "pygments_lexer": "ipython3",
   "version": "3.11.7"
  }
 },
 "nbformat": 4,
 "nbformat_minor": 4
}
