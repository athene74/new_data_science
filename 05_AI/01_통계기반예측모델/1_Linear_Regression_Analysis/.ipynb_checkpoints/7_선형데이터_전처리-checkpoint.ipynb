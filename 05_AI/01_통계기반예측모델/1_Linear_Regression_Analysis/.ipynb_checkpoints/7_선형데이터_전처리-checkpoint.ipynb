{
 "cells": [
  {
   "cell_type": "markdown",
   "id": "2c4026f8",
   "metadata": {},
   "source": [
    "# 데이터의 유형"
   ]
  },
  {
   "cell_type": "markdown",
   "id": "f96670b7",
   "metadata": {},
   "source": [
    "## 순서가 있는 데이터 (Ordinal Data):"
   ]
  },
  {
   "cell_type": "markdown",
   "id": "eb636319",
   "metadata": {},
   "source": [
    "* 순서나 등급을 나타내는 데이터로, 상대적인 순서 관계가 존재합니다.  \n",
    "예시: 학생들의 학점(A, B, C, D, F), 제품 등급(우수, 보통, 불량), 만족도(매우만족, 만족, 불만족)"
   ]
  },
  {
   "cell_type": "markdown",
   "id": "dfcdd46e",
   "metadata": {},
   "source": [
    "## 순서가 없는 데이터 (Nominal Data):"
   ]
  },
  {
   "cell_type": "markdown",
   "id": "e113090a",
   "metadata": {},
   "source": [
    "* 범주 간에 순서가 없이 서로 독립적인 데이터로, 레이블링에 사용됩니다.  \n",
    "예시: 성별(남성, 여성), 동물 종류(고양이, 개, 새), 혈액형(A형, B형, O형, AB형)"
   ]
  },
  {
   "cell_type": "markdown",
   "id": "43d87720",
   "metadata": {},
   "source": [
    "## 연속형 데이터 (Continuous Data):"
   ]
  },
  {
   "cell_type": "markdown",
   "id": "1c42552f",
   "metadata": {},
   "source": [
    "* 연속적인 값을 가지며, 측정된 결과의 범위에서 무한한 값을 가질 수 있습니다.  \n",
    "예시: 키, 몸무게, 온도, 시간"
   ]
  },
  {
   "cell_type": "markdown",
   "id": "dc5d9ee3",
   "metadata": {},
   "source": [
    "## 이산형 데이터 (Discrete Data):"
   ]
  },
  {
   "cell_type": "markdown",
   "id": "de482f64",
   "metadata": {},
   "source": [
    "* 정수와 같이 연속적이지 않은 값을 가지며, 한정된 개수의 값을 가집니다.  \n",
    "예시: 가족 구성원 수, 학생 수"
   ]
  },
  {
   "cell_type": "markdown",
   "id": "ab508094",
   "metadata": {},
   "source": [
    "# 데이터 유형 별 통계예측 모델에서 활용전략"
   ]
  },
  {
   "cell_type": "markdown",
   "id": "b7f03de4",
   "metadata": {},
   "source": [
    "* 전통적인 통계예측 모델은 수치를 기반으로 한 통계모델이다.  \n",
    "  따라서 모델에 입력하는 독립변수의 타입은 수치형이어야 한다.\n",
    "* 연속형 데이터, 이산형 데이터는 기본적으로 수치형 데이터이기 때문에 전처리없이 활용 가능하다.\n",
    "* Ordinal Data(순서가 있는 데이터)는 수치형 데이터로 변환이 가능하고 데이터의 크기를 내포하기 때문에 전처리 후 활용가능하다.\n",
    "* Nominal Data(순서가 없는 데이터)는 수치형 데이터로 변환이 가능하나 데이터의 크기를 내포하고 있지 않기 때문에 적용을 할 필요가 없다.  \n",
    " (적용시 모델의 예측력에 악영향을 끼칠 수도 있다.)"
   ]
  },
  {
   "cell_type": "markdown",
   "id": "6ada04ab",
   "metadata": {},
   "source": [
    "# 예시"
   ]
  },
  {
   "cell_type": "markdown",
   "id": "1c1fc1cb",
   "metadata": {},
   "source": [
    "## 학점 데이터"
   ]
  },
  {
   "cell_type": "code",
   "execution_count": 4,
   "id": "840ff0e8",
   "metadata": {},
   "outputs": [
    {
     "name": "stdout",
     "output_type": "stream",
     "text": [
      "  category  encoded_category\n",
      "0        A                 3\n",
      "1        B                 2\n",
      "2        C                 1\n",
      "3        A                 3\n",
      "4        C                 1\n",
      "5        B                 2\n"
     ]
    }
   ],
   "source": [
    "import pandas as pd\n",
    "\n",
    "# 데이터 프레임 생성 예시\n",
    "data = {\n",
    "    'category': ['A', 'B', 'C', 'A', 'C', 'B']\n",
    "}\n",
    "df = pd.DataFrame(data)\n",
    "\n",
    "# 사용자가 원하는 레이블 매핑을 딕셔너리로 정의합니다.\n",
    "# 각 유형 별 레이블을 해석하여 정의하는 것을 추천\n",
    "label_mapping = {\n",
    "    'A': 3,\n",
    "    'B': 2,\n",
    "    'C': 1\n",
    "}\n",
    "\n",
    "# 데이터 프레임의 범주형 데이터를 사용자가 지정한 레이블로 매핑합니다.\n",
    "df['encoded_category'] = df['category'].map(label_mapping)\n",
    "\n",
    "print(df)"
   ]
  },
  {
   "cell_type": "markdown",
   "id": "5ded5040",
   "metadata": {},
   "source": [
    "## 흡연 데이터"
   ]
  },
  {
   "cell_type": "code",
   "execution_count": 5,
   "id": "a22ccd86",
   "metadata": {},
   "outputs": [],
   "source": [
    "data = {\n",
    "    '금연이력': ['현재흡연중', '금연시도 1년 이상', '금연시도 6개월 미만', '현재 금연', '현재흡연중', '현재 금연', '금연이력 없음', '현재 금연', '금연시도 6개월 미만', '현재흡연중']\n",
    "}"
   ]
  },
  {
   "cell_type": "code",
   "execution_count": 6,
   "id": "eb8de048",
   "metadata": {},
   "outputs": [
    {
     "data": {
      "text/html": [
       "<div>\n",
       "<style scoped>\n",
       "    .dataframe tbody tr th:only-of-type {\n",
       "        vertical-align: middle;\n",
       "    }\n",
       "\n",
       "    .dataframe tbody tr th {\n",
       "        vertical-align: top;\n",
       "    }\n",
       "\n",
       "    .dataframe thead th {\n",
       "        text-align: right;\n",
       "    }\n",
       "</style>\n",
       "<table border=\"1\" class=\"dataframe\">\n",
       "  <thead>\n",
       "    <tr style=\"text-align: right;\">\n",
       "      <th></th>\n",
       "      <th>금연이력</th>\n",
       "    </tr>\n",
       "  </thead>\n",
       "  <tbody>\n",
       "    <tr>\n",
       "      <th>0</th>\n",
       "      <td>현재흡연중</td>\n",
       "    </tr>\n",
       "    <tr>\n",
       "      <th>1</th>\n",
       "      <td>금연시도 1년 이상</td>\n",
       "    </tr>\n",
       "    <tr>\n",
       "      <th>2</th>\n",
       "      <td>금연시도 6개월 미만</td>\n",
       "    </tr>\n",
       "    <tr>\n",
       "      <th>3</th>\n",
       "      <td>현재 금연</td>\n",
       "    </tr>\n",
       "    <tr>\n",
       "      <th>4</th>\n",
       "      <td>현재흡연중</td>\n",
       "    </tr>\n",
       "    <tr>\n",
       "      <th>5</th>\n",
       "      <td>현재 금연</td>\n",
       "    </tr>\n",
       "    <tr>\n",
       "      <th>6</th>\n",
       "      <td>금연이력 없음</td>\n",
       "    </tr>\n",
       "    <tr>\n",
       "      <th>7</th>\n",
       "      <td>현재 금연</td>\n",
       "    </tr>\n",
       "    <tr>\n",
       "      <th>8</th>\n",
       "      <td>금연시도 6개월 미만</td>\n",
       "    </tr>\n",
       "    <tr>\n",
       "      <th>9</th>\n",
       "      <td>현재흡연중</td>\n",
       "    </tr>\n",
       "  </tbody>\n",
       "</table>\n",
       "</div>"
      ],
      "text/plain": [
       "          금연이력\n",
       "0        현재흡연중\n",
       "1   금연시도 1년 이상\n",
       "2  금연시도 6개월 미만\n",
       "3        현재 금연\n",
       "4        현재흡연중\n",
       "5        현재 금연\n",
       "6      금연이력 없음\n",
       "7        현재 금연\n",
       "8  금연시도 6개월 미만\n",
       "9        현재흡연중"
      ]
     },
     "execution_count": 6,
     "metadata": {},
     "output_type": "execute_result"
    }
   ],
   "source": [
    "df = pd.DataFrame(data)\n",
    "df"
   ]
  },
  {
   "cell_type": "code",
   "execution_count": 8,
   "id": "64f3bcda",
   "metadata": {},
   "outputs": [
    {
     "data": {
      "text/plain": [
       "array(['현재흡연중', '금연시도 1년 이상', '금연시도 6개월 미만', '현재 금연', '금연이력 없음'],\n",
       "      dtype=object)"
      ]
     },
     "execution_count": 8,
     "metadata": {},
     "output_type": "execute_result"
    }
   ],
   "source": [
    "df.금연이력.unique()"
   ]
  },
  {
   "cell_type": "code",
   "execution_count": 9,
   "id": "7fe1e76e",
   "metadata": {},
   "outputs": [
    {
     "data": {
      "text/html": [
       "<div>\n",
       "<style scoped>\n",
       "    .dataframe tbody tr th:only-of-type {\n",
       "        vertical-align: middle;\n",
       "    }\n",
       "\n",
       "    .dataframe tbody tr th {\n",
       "        vertical-align: top;\n",
       "    }\n",
       "\n",
       "    .dataframe thead th {\n",
       "        text-align: right;\n",
       "    }\n",
       "</style>\n",
       "<table border=\"1\" class=\"dataframe\">\n",
       "  <thead>\n",
       "    <tr style=\"text-align: right;\">\n",
       "      <th></th>\n",
       "      <th>금연이력</th>\n",
       "      <th>금연이력_level</th>\n",
       "    </tr>\n",
       "  </thead>\n",
       "  <tbody>\n",
       "    <tr>\n",
       "      <th>0</th>\n",
       "      <td>현재흡연중</td>\n",
       "      <td>4</td>\n",
       "    </tr>\n",
       "    <tr>\n",
       "      <th>1</th>\n",
       "      <td>금연시도 1년 이상</td>\n",
       "      <td>2</td>\n",
       "    </tr>\n",
       "    <tr>\n",
       "      <th>2</th>\n",
       "      <td>금연시도 6개월 미만</td>\n",
       "      <td>3</td>\n",
       "    </tr>\n",
       "    <tr>\n",
       "      <th>3</th>\n",
       "      <td>현재 금연</td>\n",
       "      <td>1</td>\n",
       "    </tr>\n",
       "    <tr>\n",
       "      <th>4</th>\n",
       "      <td>현재흡연중</td>\n",
       "      <td>4</td>\n",
       "    </tr>\n",
       "    <tr>\n",
       "      <th>5</th>\n",
       "      <td>현재 금연</td>\n",
       "      <td>1</td>\n",
       "    </tr>\n",
       "    <tr>\n",
       "      <th>6</th>\n",
       "      <td>금연이력 없음</td>\n",
       "      <td>0</td>\n",
       "    </tr>\n",
       "    <tr>\n",
       "      <th>7</th>\n",
       "      <td>현재 금연</td>\n",
       "      <td>1</td>\n",
       "    </tr>\n",
       "    <tr>\n",
       "      <th>8</th>\n",
       "      <td>금연시도 6개월 미만</td>\n",
       "      <td>3</td>\n",
       "    </tr>\n",
       "    <tr>\n",
       "      <th>9</th>\n",
       "      <td>현재흡연중</td>\n",
       "      <td>4</td>\n",
       "    </tr>\n",
       "  </tbody>\n",
       "</table>\n",
       "</div>"
      ],
      "text/plain": [
       "          금연이력  금연이력_level\n",
       "0        현재흡연중           4\n",
       "1   금연시도 1년 이상           2\n",
       "2  금연시도 6개월 미만           3\n",
       "3        현재 금연           1\n",
       "4        현재흡연중           4\n",
       "5        현재 금연           1\n",
       "6      금연이력 없음           0\n",
       "7        현재 금연           1\n",
       "8  금연시도 6개월 미만           3\n",
       "9        현재흡연중           4"
      ]
     },
     "execution_count": 9,
     "metadata": {},
     "output_type": "execute_result"
    }
   ],
   "source": [
    "label_mapping={\n",
    "    '금연이력 없음':0,\n",
    "    '현재 금연':1,\n",
    "    '금연시도 1년 이상':2,\n",
    "    '금연시도 6개월 미만':3,\n",
    "    '현재흡연중':4\n",
    "}\n",
    "df['금연이력_level']=df['금연이력'].map(label_mapping)\n",
    "\n",
    "df"
   ]
  },
  {
   "cell_type": "code",
   "execution_count": null,
   "id": "de1793a9",
   "metadata": {},
   "outputs": [],
   "source": []
  }
 ],
 "metadata": {
  "kernelspec": {
   "display_name": "Python 3 (ipykernel)",
   "language": "python",
   "name": "python3"
  },
  "language_info": {
   "codemirror_mode": {
    "name": "ipython",
    "version": 3
   },
   "file_extension": ".py",
   "mimetype": "text/x-python",
   "name": "python",
   "nbconvert_exporter": "python",
   "pygments_lexer": "ipython3",
   "version": "3.11.7"
  }
 },
 "nbformat": 4,
 "nbformat_minor": 5
}
