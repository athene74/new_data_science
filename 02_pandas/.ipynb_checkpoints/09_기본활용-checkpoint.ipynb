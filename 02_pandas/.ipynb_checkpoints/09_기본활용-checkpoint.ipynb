{
 "cells": [
  {
   "cell_type": "code",
   "execution_count": 1,
   "id": "46c0bf75-c004-4381-8f18-50ef32025d41",
   "metadata": {},
   "outputs": [],
   "source": [
    "import pandas as pd"
   ]
  },
  {
   "cell_type": "markdown",
   "id": "7bf4867c-1d12-4a1b-8d34-2e8678b7d843",
   "metadata": {},
   "source": [
    "* 파일 열기"
   ]
  },
  {
   "cell_type": "code",
   "execution_count": 2,
   "id": "8eabb9f4-f4d6-410c-824e-28627f69a064",
   "metadata": {},
   "outputs": [],
   "source": [
    "ct = pd.read_csv('data/2017_college_tuition.csv ', encoding='cp949')"
   ]
  },
  {
   "cell_type": "markdown",
   "id": "ca0f05b5-476a-43b3-bf0b-e9cee389881c",
   "metadata": {},
   "source": [
    "* 실데이터 원본을 볼 수 있으면 본다."
   ]
  },
  {
   "cell_type": "markdown",
   "id": "ed2a10e8-f15a-446b-a9e7-f71359e248be",
   "metadata": {},
   "source": [
    "* 데이터 샘플 조회"
   ]
  },
  {
   "cell_type": "code",
   "execution_count": 4,
   "id": "15b89d9c-3041-486c-883a-96bb0f79daff",
   "metadata": {},
   "outputs": [
    {
     "data": {
      "text/html": [
       "<div>\n",
       "<style scoped>\n",
       "    .dataframe tbody tr th:only-of-type {\n",
       "        vertical-align: middle;\n",
       "    }\n",
       "\n",
       "    .dataframe tbody tr th {\n",
       "        vertical-align: top;\n",
       "    }\n",
       "\n",
       "    .dataframe thead th {\n",
       "        text-align: right;\n",
       "    }\n",
       "</style>\n",
       "<table border=\"1\" class=\"dataframe\">\n",
       "  <thead>\n",
       "    <tr style=\"text-align: right;\">\n",
       "      <th></th>\n",
       "      <th>학교명</th>\n",
       "      <th>설립구분</th>\n",
       "      <th>평균등록금</th>\n",
       "    </tr>\n",
       "  </thead>\n",
       "  <tbody>\n",
       "    <tr>\n",
       "      <th>0</th>\n",
       "      <td>강릉원주대학교</td>\n",
       "      <td>국공립</td>\n",
       "      <td>4262</td>\n",
       "    </tr>\n",
       "    <tr>\n",
       "      <th>1</th>\n",
       "      <td>강원대학교</td>\n",
       "      <td>국공립</td>\n",
       "      <td>4116</td>\n",
       "    </tr>\n",
       "    <tr>\n",
       "      <th>2</th>\n",
       "      <td>경남과학기술대학교</td>\n",
       "      <td>국공립</td>\n",
       "      <td>3771</td>\n",
       "    </tr>\n",
       "    <tr>\n",
       "      <th>3</th>\n",
       "      <td>경북대학교</td>\n",
       "      <td>국공립</td>\n",
       "      <td>4351</td>\n",
       "    </tr>\n",
       "    <tr>\n",
       "      <th>4</th>\n",
       "      <td>경상대학교</td>\n",
       "      <td>국공립</td>\n",
       "      <td>3967</td>\n",
       "    </tr>\n",
       "  </tbody>\n",
       "</table>\n",
       "</div>"
      ],
      "text/plain": [
       "         학교명 설립구분  평균등록금\n",
       "0    강릉원주대학교  국공립   4262\n",
       "1      강원대학교  국공립   4116\n",
       "2  경남과학기술대학교  국공립   3771\n",
       "3      경북대학교  국공립   4351\n",
       "4      경상대학교  국공립   3967"
      ]
     },
     "execution_count": 4,
     "metadata": {},
     "output_type": "execute_result"
    }
   ],
   "source": [
    "ct.head()"
   ]
  },
  {
   "cell_type": "code",
   "execution_count": 5,
   "id": "6442dec8-560d-4ff7-af24-70e378b559bb",
   "metadata": {},
   "outputs": [
    {
     "data": {
      "text/html": [
       "<div>\n",
       "<style scoped>\n",
       "    .dataframe tbody tr th:only-of-type {\n",
       "        vertical-align: middle;\n",
       "    }\n",
       "\n",
       "    .dataframe tbody tr th {\n",
       "        vertical-align: top;\n",
       "    }\n",
       "\n",
       "    .dataframe thead th {\n",
       "        text-align: right;\n",
       "    }\n",
       "</style>\n",
       "<table border=\"1\" class=\"dataframe\">\n",
       "  <thead>\n",
       "    <tr style=\"text-align: right;\">\n",
       "      <th></th>\n",
       "      <th>학교명</th>\n",
       "      <th>설립구분</th>\n",
       "      <th>평균등록금</th>\n",
       "    </tr>\n",
       "  </thead>\n",
       "  <tbody>\n",
       "    <tr>\n",
       "      <th>191</th>\n",
       "      <td>호남대학교</td>\n",
       "      <td>사립</td>\n",
       "      <td>6482</td>\n",
       "    </tr>\n",
       "    <tr>\n",
       "      <th>192</th>\n",
       "      <td>호남신학대학교</td>\n",
       "      <td>사립</td>\n",
       "      <td>6438</td>\n",
       "    </tr>\n",
       "    <tr>\n",
       "      <th>193</th>\n",
       "      <td>호서대학교</td>\n",
       "      <td>사립</td>\n",
       "      <td>7695</td>\n",
       "    </tr>\n",
       "    <tr>\n",
       "      <th>194</th>\n",
       "      <td>호원대학교</td>\n",
       "      <td>사립</td>\n",
       "      <td>6929</td>\n",
       "    </tr>\n",
       "    <tr>\n",
       "      <th>195</th>\n",
       "      <td>홍익대학교</td>\n",
       "      <td>사립</td>\n",
       "      <td>8297</td>\n",
       "    </tr>\n",
       "  </tbody>\n",
       "</table>\n",
       "</div>"
      ],
      "text/plain": [
       "         학교명 설립구분  평균등록금\n",
       "191    호남대학교   사립   6482\n",
       "192  호남신학대학교   사립   6438\n",
       "193    호서대학교   사립   7695\n",
       "194    호원대학교   사립   6929\n",
       "195    홍익대학교   사립   8297"
      ]
     },
     "execution_count": 5,
     "metadata": {},
     "output_type": "execute_result"
    }
   ],
   "source": [
    "ct.tail()"
   ]
  },
  {
   "cell_type": "markdown",
   "id": "a202754e-4d5b-4711-8f5d-0b80c47a6eab",
   "metadata": {},
   "source": [
    "* 데이터 사이즈 윤곽을 간단하게 파악"
   ]
  },
  {
   "cell_type": "code",
   "execution_count": 6,
   "id": "e5a0fa44-044b-412f-a715-afd82d6a3987",
   "metadata": {},
   "outputs": [
    {
     "data": {
      "text/plain": [
       "(196, 3)"
      ]
     },
     "execution_count": 6,
     "metadata": {},
     "output_type": "execute_result"
    }
   ],
   "source": [
    "ct.shape"
   ]
  },
  {
   "cell_type": "markdown",
   "id": "2accff0b-4ad8-44b3-8067-bfa411262d82",
   "metadata": {},
   "source": [
    "* 데이터 요약정보 참조"
   ]
  },
  {
   "cell_type": "code",
   "execution_count": 8,
   "id": "fd2915ed-611d-41fe-a74d-4269d3124ba1",
   "metadata": {},
   "outputs": [
    {
     "name": "stdout",
     "output_type": "stream",
     "text": [
      "<class 'pandas.core.frame.DataFrame'>\n",
      "RangeIndex: 196 entries, 0 to 195\n",
      "Data columns (total 3 columns):\n",
      " #   Column  Non-Null Count  Dtype \n",
      "---  ------  --------------  ----- \n",
      " 0   학교명     196 non-null    object\n",
      " 1   설립구분    196 non-null    object\n",
      " 2   평균등록금   196 non-null    int64 \n",
      "dtypes: int64(1), object(2)\n",
      "memory usage: 4.7+ KB\n"
     ]
    }
   ],
   "source": [
    "ct.info()"
   ]
  },
  {
   "cell_type": "markdown",
   "id": "3826aa31-7b3d-4def-b165-00be2dc3fcaf",
   "metadata": {},
   "source": [
    "* 주피터에서 확인 가능한 최대사이즈의 샘플 확인"
   ]
  },
  {
   "cell_type": "code",
   "execution_count": 9,
   "id": "848af7f8-a00e-4d5e-b927-aff5da5cec46",
   "metadata": {
    "scrolled": true
   },
   "outputs": [
    {
     "data": {
      "text/html": [
       "<div>\n",
       "<style scoped>\n",
       "    .dataframe tbody tr th:only-of-type {\n",
       "        vertical-align: middle;\n",
       "    }\n",
       "\n",
       "    .dataframe tbody tr th {\n",
       "        vertical-align: top;\n",
       "    }\n",
       "\n",
       "    .dataframe thead th {\n",
       "        text-align: right;\n",
       "    }\n",
       "</style>\n",
       "<table border=\"1\" class=\"dataframe\">\n",
       "  <thead>\n",
       "    <tr style=\"text-align: right;\">\n",
       "      <th></th>\n",
       "      <th>학교명</th>\n",
       "      <th>설립구분</th>\n",
       "      <th>평균등록금</th>\n",
       "    </tr>\n",
       "  </thead>\n",
       "  <tbody>\n",
       "    <tr>\n",
       "      <th>0</th>\n",
       "      <td>강릉원주대학교</td>\n",
       "      <td>국공립</td>\n",
       "      <td>4262</td>\n",
       "    </tr>\n",
       "    <tr>\n",
       "      <th>1</th>\n",
       "      <td>강원대학교</td>\n",
       "      <td>국공립</td>\n",
       "      <td>4116</td>\n",
       "    </tr>\n",
       "    <tr>\n",
       "      <th>2</th>\n",
       "      <td>경남과학기술대학교</td>\n",
       "      <td>국공립</td>\n",
       "      <td>3771</td>\n",
       "    </tr>\n",
       "    <tr>\n",
       "      <th>3</th>\n",
       "      <td>경북대학교</td>\n",
       "      <td>국공립</td>\n",
       "      <td>4351</td>\n",
       "    </tr>\n",
       "    <tr>\n",
       "      <th>4</th>\n",
       "      <td>경상대학교</td>\n",
       "      <td>국공립</td>\n",
       "      <td>3967</td>\n",
       "    </tr>\n",
       "    <tr>\n",
       "      <th>5</th>\n",
       "      <td>경인교육대학교</td>\n",
       "      <td>국공립</td>\n",
       "      <td>3189</td>\n",
       "    </tr>\n",
       "    <tr>\n",
       "      <th>6</th>\n",
       "      <td>공주교육대학교</td>\n",
       "      <td>국공립</td>\n",
       "      <td>3424</td>\n",
       "    </tr>\n",
       "    <tr>\n",
       "      <th>7</th>\n",
       "      <td>공주대학교</td>\n",
       "      <td>국공립</td>\n",
       "      <td>3824</td>\n",
       "    </tr>\n",
       "    <tr>\n",
       "      <th>8</th>\n",
       "      <td>광주교육대학교</td>\n",
       "      <td>국공립</td>\n",
       "      <td>3477</td>\n",
       "    </tr>\n",
       "    <tr>\n",
       "      <th>9</th>\n",
       "      <td>군산대학교</td>\n",
       "      <td>국공립</td>\n",
       "      <td>3914</td>\n",
       "    </tr>\n",
       "    <tr>\n",
       "      <th>10</th>\n",
       "      <td>금오공과대학교</td>\n",
       "      <td>국공립</td>\n",
       "      <td>3769</td>\n",
       "    </tr>\n",
       "    <tr>\n",
       "      <th>11</th>\n",
       "      <td>대구교육대학교</td>\n",
       "      <td>국공립</td>\n",
       "      <td>3604</td>\n",
       "    </tr>\n",
       "    <tr>\n",
       "      <th>12</th>\n",
       "      <td>목포대학교</td>\n",
       "      <td>국공립</td>\n",
       "      <td>3895</td>\n",
       "    </tr>\n",
       "    <tr>\n",
       "      <th>13</th>\n",
       "      <td>목포해양대학교</td>\n",
       "      <td>국공립</td>\n",
       "      <td>3424</td>\n",
       "    </tr>\n",
       "    <tr>\n",
       "      <th>14</th>\n",
       "      <td>부경대학교</td>\n",
       "      <td>국공립</td>\n",
       "      <td>4042</td>\n",
       "    </tr>\n",
       "    <tr>\n",
       "      <th>15</th>\n",
       "      <td>부산교육대학교</td>\n",
       "      <td>국공립</td>\n",
       "      <td>3024</td>\n",
       "    </tr>\n",
       "    <tr>\n",
       "      <th>16</th>\n",
       "      <td>부산대학교</td>\n",
       "      <td>국공립</td>\n",
       "      <td>4325</td>\n",
       "    </tr>\n",
       "    <tr>\n",
       "      <th>17</th>\n",
       "      <td>서울과학기술대학교</td>\n",
       "      <td>국공립</td>\n",
       "      <td>5405</td>\n",
       "    </tr>\n",
       "    <tr>\n",
       "      <th>18</th>\n",
       "      <td>서울교육대학교</td>\n",
       "      <td>국공립</td>\n",
       "      <td>3088</td>\n",
       "    </tr>\n",
       "    <tr>\n",
       "      <th>19</th>\n",
       "      <td>서울대학교</td>\n",
       "      <td>국공립</td>\n",
       "      <td>5962</td>\n",
       "    </tr>\n",
       "    <tr>\n",
       "      <th>20</th>\n",
       "      <td>서울시립대학교</td>\n",
       "      <td>국공립</td>\n",
       "      <td>2390</td>\n",
       "    </tr>\n",
       "    <tr>\n",
       "      <th>21</th>\n",
       "      <td>순천대학교</td>\n",
       "      <td>국공립</td>\n",
       "      <td>3946</td>\n",
       "    </tr>\n",
       "    <tr>\n",
       "      <th>22</th>\n",
       "      <td>안동대학교</td>\n",
       "      <td>국공립</td>\n",
       "      <td>3745</td>\n",
       "    </tr>\n",
       "    <tr>\n",
       "      <th>23</th>\n",
       "      <td>인천대학교</td>\n",
       "      <td>국공립</td>\n",
       "      <td>4681</td>\n",
       "    </tr>\n",
       "    <tr>\n",
       "      <th>24</th>\n",
       "      <td>전남대학교</td>\n",
       "      <td>국공립</td>\n",
       "      <td>4129</td>\n",
       "    </tr>\n",
       "    <tr>\n",
       "      <th>25</th>\n",
       "      <td>전북대학교</td>\n",
       "      <td>국공립</td>\n",
       "      <td>4181</td>\n",
       "    </tr>\n",
       "    <tr>\n",
       "      <th>26</th>\n",
       "      <td>전주교육대학교</td>\n",
       "      <td>국공립</td>\n",
       "      <td>3272</td>\n",
       "    </tr>\n",
       "    <tr>\n",
       "      <th>27</th>\n",
       "      <td>제주대학교</td>\n",
       "      <td>국공립</td>\n",
       "      <td>3783</td>\n",
       "    </tr>\n",
       "    <tr>\n",
       "      <th>28</th>\n",
       "      <td>진주교육대학교</td>\n",
       "      <td>국공립</td>\n",
       "      <td>3445</td>\n",
       "    </tr>\n",
       "    <tr>\n",
       "      <th>29</th>\n",
       "      <td>창원대학교</td>\n",
       "      <td>국공립</td>\n",
       "      <td>3898</td>\n",
       "    </tr>\n",
       "    <tr>\n",
       "      <th>30</th>\n",
       "      <td>청주교육대학교</td>\n",
       "      <td>국공립</td>\n",
       "      <td>3230</td>\n",
       "    </tr>\n",
       "    <tr>\n",
       "      <th>31</th>\n",
       "      <td>춘천교육대학교</td>\n",
       "      <td>국공립</td>\n",
       "      <td>3185</td>\n",
       "    </tr>\n",
       "    <tr>\n",
       "      <th>32</th>\n",
       "      <td>충남대학교</td>\n",
       "      <td>국공립</td>\n",
       "      <td>4216</td>\n",
       "    </tr>\n",
       "    <tr>\n",
       "      <th>33</th>\n",
       "      <td>충북대학교</td>\n",
       "      <td>국공립</td>\n",
       "      <td>4253</td>\n",
       "    </tr>\n",
       "    <tr>\n",
       "      <th>34</th>\n",
       "      <td>한경대학교</td>\n",
       "      <td>국공립</td>\n",
       "      <td>4062</td>\n",
       "    </tr>\n",
       "    <tr>\n",
       "      <th>35</th>\n",
       "      <td>한국교원대학교</td>\n",
       "      <td>국공립</td>\n",
       "      <td>3184</td>\n",
       "    </tr>\n",
       "    <tr>\n",
       "      <th>36</th>\n",
       "      <td>한국교통대학교</td>\n",
       "      <td>국공립</td>\n",
       "      <td>4107</td>\n",
       "    </tr>\n",
       "    <tr>\n",
       "      <th>37</th>\n",
       "      <td>한국체육대학교</td>\n",
       "      <td>국공립</td>\n",
       "      <td>3884</td>\n",
       "    </tr>\n",
       "    <tr>\n",
       "      <th>38</th>\n",
       "      <td>한국해양대학교</td>\n",
       "      <td>국공립</td>\n",
       "      <td>3743</td>\n",
       "    </tr>\n",
       "    <tr>\n",
       "      <th>39</th>\n",
       "      <td>한밭대학교</td>\n",
       "      <td>국공립</td>\n",
       "      <td>4451</td>\n",
       "    </tr>\n",
       "    <tr>\n",
       "      <th>40</th>\n",
       "      <td>가야대학교</td>\n",
       "      <td>사립</td>\n",
       "      <td>6656</td>\n",
       "    </tr>\n",
       "    <tr>\n",
       "      <th>41</th>\n",
       "      <td>가천대학교</td>\n",
       "      <td>사립</td>\n",
       "      <td>8206</td>\n",
       "    </tr>\n",
       "    <tr>\n",
       "      <th>42</th>\n",
       "      <td>가톨릭관동대학교</td>\n",
       "      <td>사립</td>\n",
       "      <td>7088</td>\n",
       "    </tr>\n",
       "    <tr>\n",
       "      <th>43</th>\n",
       "      <td>가톨릭대학교</td>\n",
       "      <td>사립</td>\n",
       "      <td>7016</td>\n",
       "    </tr>\n",
       "    <tr>\n",
       "      <th>44</th>\n",
       "      <td>감리교신학대학교</td>\n",
       "      <td>사립</td>\n",
       "      <td>5994</td>\n",
       "    </tr>\n",
       "    <tr>\n",
       "      <th>45</th>\n",
       "      <td>강남대학교</td>\n",
       "      <td>사립</td>\n",
       "      <td>7358</td>\n",
       "    </tr>\n",
       "    <tr>\n",
       "      <th>46</th>\n",
       "      <td>건국대학교</td>\n",
       "      <td>사립</td>\n",
       "      <td>8042</td>\n",
       "    </tr>\n",
       "    <tr>\n",
       "      <th>47</th>\n",
       "      <td>건양대학교</td>\n",
       "      <td>사립</td>\n",
       "      <td>6700</td>\n",
       "    </tr>\n",
       "    <tr>\n",
       "      <th>48</th>\n",
       "      <td>경기대학교</td>\n",
       "      <td>사립</td>\n",
       "      <td>7226</td>\n",
       "    </tr>\n",
       "    <tr>\n",
       "      <th>49</th>\n",
       "      <td>경남대학교</td>\n",
       "      <td>사립</td>\n",
       "      <td>6426</td>\n",
       "    </tr>\n",
       "    <tr>\n",
       "      <th>50</th>\n",
       "      <td>경동대학교</td>\n",
       "      <td>사립</td>\n",
       "      <td>7272</td>\n",
       "    </tr>\n",
       "    <tr>\n",
       "      <th>51</th>\n",
       "      <td>경성대학교</td>\n",
       "      <td>사립</td>\n",
       "      <td>6486</td>\n",
       "    </tr>\n",
       "    <tr>\n",
       "      <th>52</th>\n",
       "      <td>경운대학교</td>\n",
       "      <td>사립</td>\n",
       "      <td>7534</td>\n",
       "    </tr>\n",
       "    <tr>\n",
       "      <th>53</th>\n",
       "      <td>경일대학교</td>\n",
       "      <td>사립</td>\n",
       "      <td>7183</td>\n",
       "    </tr>\n",
       "    <tr>\n",
       "      <th>54</th>\n",
       "      <td>경주대학교</td>\n",
       "      <td>사립</td>\n",
       "      <td>6722</td>\n",
       "    </tr>\n",
       "    <tr>\n",
       "      <th>55</th>\n",
       "      <td>경희대학교</td>\n",
       "      <td>사립</td>\n",
       "      <td>7752</td>\n",
       "    </tr>\n",
       "    <tr>\n",
       "      <th>56</th>\n",
       "      <td>계명대학교</td>\n",
       "      <td>사립</td>\n",
       "      <td>7151</td>\n",
       "    </tr>\n",
       "    <tr>\n",
       "      <th>57</th>\n",
       "      <td>고려대학교</td>\n",
       "      <td>사립</td>\n",
       "      <td>8215</td>\n",
       "    </tr>\n",
       "    <tr>\n",
       "      <th>58</th>\n",
       "      <td>고신대학교</td>\n",
       "      <td>사립</td>\n",
       "      <td>6594</td>\n",
       "    </tr>\n",
       "    <tr>\n",
       "      <th>59</th>\n",
       "      <td>광신대학교</td>\n",
       "      <td>사립</td>\n",
       "      <td>5986</td>\n",
       "    </tr>\n",
       "  </tbody>\n",
       "</table>\n",
       "</div>"
      ],
      "text/plain": [
       "          학교명 설립구분  평균등록금\n",
       "0     강릉원주대학교  국공립   4262\n",
       "1       강원대학교  국공립   4116\n",
       "2   경남과학기술대학교  국공립   3771\n",
       "3       경북대학교  국공립   4351\n",
       "4       경상대학교  국공립   3967\n",
       "5     경인교육대학교  국공립   3189\n",
       "6     공주교육대학교  국공립   3424\n",
       "7       공주대학교  국공립   3824\n",
       "8     광주교육대학교  국공립   3477\n",
       "9       군산대학교  국공립   3914\n",
       "10    금오공과대학교  국공립   3769\n",
       "11    대구교육대학교  국공립   3604\n",
       "12      목포대학교  국공립   3895\n",
       "13    목포해양대학교  국공립   3424\n",
       "14      부경대학교  국공립   4042\n",
       "15    부산교육대학교  국공립   3024\n",
       "16      부산대학교  국공립   4325\n",
       "17  서울과학기술대학교  국공립   5405\n",
       "18    서울교육대학교  국공립   3088\n",
       "19      서울대학교  국공립   5962\n",
       "20    서울시립대학교  국공립   2390\n",
       "21      순천대학교  국공립   3946\n",
       "22      안동대학교  국공립   3745\n",
       "23      인천대학교  국공립   4681\n",
       "24      전남대학교  국공립   4129\n",
       "25      전북대학교  국공립   4181\n",
       "26    전주교육대학교  국공립   3272\n",
       "27      제주대학교  국공립   3783\n",
       "28    진주교육대학교  국공립   3445\n",
       "29      창원대학교  국공립   3898\n",
       "30    청주교육대학교  국공립   3230\n",
       "31    춘천교육대학교  국공립   3185\n",
       "32      충남대학교  국공립   4216\n",
       "33      충북대학교  국공립   4253\n",
       "34      한경대학교  국공립   4062\n",
       "35    한국교원대학교  국공립   3184\n",
       "36    한국교통대학교  국공립   4107\n",
       "37    한국체육대학교  국공립   3884\n",
       "38    한국해양대학교  국공립   3743\n",
       "39      한밭대학교  국공립   4451\n",
       "40      가야대학교   사립   6656\n",
       "41      가천대학교   사립   8206\n",
       "42   가톨릭관동대학교   사립   7088\n",
       "43     가톨릭대학교   사립   7016\n",
       "44   감리교신학대학교   사립   5994\n",
       "45      강남대학교   사립   7358\n",
       "46      건국대학교   사립   8042\n",
       "47      건양대학교   사립   6700\n",
       "48      경기대학교   사립   7226\n",
       "49      경남대학교   사립   6426\n",
       "50      경동대학교   사립   7272\n",
       "51      경성대학교   사립   6486\n",
       "52      경운대학교   사립   7534\n",
       "53      경일대학교   사립   7183\n",
       "54      경주대학교   사립   6722\n",
       "55      경희대학교   사립   7752\n",
       "56      계명대학교   사립   7151\n",
       "57      고려대학교   사립   8215\n",
       "58      고신대학교   사립   6594\n",
       "59      광신대학교   사립   5986"
      ]
     },
     "execution_count": 9,
     "metadata": {},
     "output_type": "execute_result"
    }
   ],
   "source": [
    "ct.head(60)"
   ]
  },
  {
   "cell_type": "markdown",
   "id": "ccd5e201-f7a4-44fe-be86-d6f2e549034b",
   "metadata": {},
   "source": [
    "# 특정열 조회"
   ]
  },
  {
   "cell_type": "markdown",
   "id": "9d1ef508-3876-45eb-8284-7374b0c689bc",
   "metadata": {},
   "source": [
    "* 시리즈 형태로"
   ]
  },
  {
   "cell_type": "code",
   "execution_count": 12,
   "id": "4ee1edb5-11ed-446d-9ba7-925c3c4e2505",
   "metadata": {},
   "outputs": [
    {
     "data": {
      "text/plain": [
       "0      강릉원주대학교\n",
       "1        강원대학교\n",
       "2    경남과학기술대학교\n",
       "3        경북대학교\n",
       "4        경상대학교\n",
       "Name: 학교명, dtype: object"
      ]
     },
     "execution_count": 12,
     "metadata": {},
     "output_type": "execute_result"
    }
   ],
   "source": [
    "ct['학교명'].head()"
   ]
  },
  {
   "cell_type": "markdown",
   "id": "eaf458fd-7853-418c-b25d-ec33bfae9fb8",
   "metadata": {},
   "source": [
    "* 데이터 프레임 형태로"
   ]
  },
  {
   "cell_type": "code",
   "execution_count": 14,
   "id": "f9203aba-be91-450b-bda7-889305b1253e",
   "metadata": {
    "scrolled": true
   },
   "outputs": [
    {
     "data": {
      "text/html": [
       "<div>\n",
       "<style scoped>\n",
       "    .dataframe tbody tr th:only-of-type {\n",
       "        vertical-align: middle;\n",
       "    }\n",
       "\n",
       "    .dataframe tbody tr th {\n",
       "        vertical-align: top;\n",
       "    }\n",
       "\n",
       "    .dataframe thead th {\n",
       "        text-align: right;\n",
       "    }\n",
       "</style>\n",
       "<table border=\"1\" class=\"dataframe\">\n",
       "  <thead>\n",
       "    <tr style=\"text-align: right;\">\n",
       "      <th></th>\n",
       "      <th>학교명</th>\n",
       "    </tr>\n",
       "  </thead>\n",
       "  <tbody>\n",
       "    <tr>\n",
       "      <th>0</th>\n",
       "      <td>강릉원주대학교</td>\n",
       "    </tr>\n",
       "    <tr>\n",
       "      <th>1</th>\n",
       "      <td>강원대학교</td>\n",
       "    </tr>\n",
       "    <tr>\n",
       "      <th>2</th>\n",
       "      <td>경남과학기술대학교</td>\n",
       "    </tr>\n",
       "    <tr>\n",
       "      <th>3</th>\n",
       "      <td>경북대학교</td>\n",
       "    </tr>\n",
       "    <tr>\n",
       "      <th>4</th>\n",
       "      <td>경상대학교</td>\n",
       "    </tr>\n",
       "  </tbody>\n",
       "</table>\n",
       "</div>"
      ],
      "text/plain": [
       "         학교명\n",
       "0    강릉원주대학교\n",
       "1      강원대학교\n",
       "2  경남과학기술대학교\n",
       "3      경북대학교\n",
       "4      경상대학교"
      ]
     },
     "execution_count": 14,
     "metadata": {},
     "output_type": "execute_result"
    }
   ],
   "source": [
    "school = pd.DataFrame(ct['학교명'])\n",
    "school.head()"
   ]
  },
  {
   "cell_type": "code",
   "execution_count": 15,
   "id": "9b8f6a7b-6bed-4376-9bf6-67df1f495714",
   "metadata": {},
   "outputs": [
    {
     "data": {
      "text/plain": [
       "Index(['학교명', '설립구분', '평균등록금'], dtype='object')"
      ]
     },
     "execution_count": 15,
     "metadata": {},
     "output_type": "execute_result"
    }
   ],
   "source": [
    "ct.columns"
   ]
  },
  {
   "cell_type": "code",
   "execution_count": 16,
   "id": "6f0e0a5b-b28f-40c3-a6b3-3e9481faca16",
   "metadata": {},
   "outputs": [
    {
     "data": {
      "text/plain": [
       "0    국공립\n",
       "1    국공립\n",
       "2    국공립\n",
       "3    국공립\n",
       "4    국공립\n",
       "Name: 설립구분, dtype: object"
      ]
     },
     "execution_count": 16,
     "metadata": {},
     "output_type": "execute_result"
    }
   ],
   "source": [
    "ct['설립구분'].head()"
   ]
  },
  {
   "cell_type": "code",
   "execution_count": 17,
   "id": "902b8d5b-fe37-407b-9b88-d5cddc83053c",
   "metadata": {},
   "outputs": [
    {
     "data": {
      "text/plain": [
       "0    4262\n",
       "1    4116\n",
       "2    3771\n",
       "3    4351\n",
       "4    3967\n",
       "Name: 평균등록금, dtype: int64"
      ]
     },
     "execution_count": 17,
     "metadata": {},
     "output_type": "execute_result"
    }
   ],
   "source": [
    "ct['평균등록금'].head()"
   ]
  },
  {
   "cell_type": "markdown",
   "id": "98b6b1a8-4b2d-42ba-b831-5c96583e78fd",
   "metadata": {},
   "source": [
    "# 기본검색"
   ]
  },
  {
   "cell_type": "markdown",
   "id": "58561857-a7d9-4b11-bec9-fdbc02916b0e",
   "metadata": {},
   "source": [
    "## 시리즈에서 개별 인덱스 검색"
   ]
  },
  {
   "cell_type": "code",
   "execution_count": 18,
   "id": "bc0f2918-977e-4e8c-92e3-aaea4649fa68",
   "metadata": {},
   "outputs": [
    {
     "data": {
      "text/plain": [
       "0        강릉원주대학교\n",
       "1          강원대학교\n",
       "2      경남과학기술대학교\n",
       "3          경북대학교\n",
       "4          경상대학교\n",
       "         ...    \n",
       "191        호남대학교\n",
       "192      호남신학대학교\n",
       "193        호서대학교\n",
       "194        호원대학교\n",
       "195        홍익대학교\n",
       "Name: 학교명, Length: 196, dtype: object"
      ]
     },
     "execution_count": 18,
     "metadata": {},
     "output_type": "execute_result"
    }
   ],
   "source": [
    "ct['학교명']"
   ]
  },
  {
   "cell_type": "code",
   "execution_count": 19,
   "id": "8a103a3c-2dd1-4c14-be43-fc4c82a567c1",
   "metadata": {},
   "outputs": [
    {
     "data": {
      "text/plain": [
       "'강원대학교'"
      ]
     },
     "execution_count": 19,
     "metadata": {},
     "output_type": "execute_result"
    }
   ],
   "source": [
    "ct['학교명'][1]"
   ]
  },
  {
   "cell_type": "code",
   "execution_count": 20,
   "id": "52a4723f-866d-4442-8d08-1d6a1761a55d",
   "metadata": {},
   "outputs": [
    {
     "data": {
      "text/plain": [
       "'호남신학대학교'"
      ]
     },
     "execution_count": 20,
     "metadata": {},
     "output_type": "execute_result"
    }
   ],
   "source": [
    "ct['학교명'][192]"
   ]
  },
  {
   "cell_type": "markdown",
   "id": "3d93a8d8-db07-4939-9de4-b35949d98e52",
   "metadata": {},
   "source": [
    "## 시리즈에서 슬라이스 검색"
   ]
  },
  {
   "cell_type": "code",
   "execution_count": 21,
   "id": "6442263b-ac70-46e8-99be-8759fdd29b0f",
   "metadata": {},
   "outputs": [
    {
     "data": {
      "text/plain": [
       "0       강릉원주대학교\n",
       "1         강원대학교\n",
       "2     경남과학기술대학교\n",
       "3         경북대학교\n",
       "4         경상대학교\n",
       "5       경인교육대학교\n",
       "6       공주교육대학교\n",
       "7         공주대학교\n",
       "8       광주교육대학교\n",
       "9         군산대학교\n",
       "10      금오공과대학교\n",
       "11      대구교육대학교\n",
       "12        목포대학교\n",
       "13      목포해양대학교\n",
       "14        부경대학교\n",
       "15      부산교육대학교\n",
       "16        부산대학교\n",
       "17    서울과학기술대학교\n",
       "18      서울교육대학교\n",
       "19        서울대학교\n",
       "20      서울시립대학교\n",
       "21        순천대학교\n",
       "22        안동대학교\n",
       "23        인천대학교\n",
       "24        전남대학교\n",
       "25        전북대학교\n",
       "26      전주교육대학교\n",
       "27        제주대학교\n",
       "28      진주교육대학교\n",
       "29        창원대학교\n",
       "30      청주교육대학교\n",
       "31      춘천교육대학교\n",
       "32        충남대학교\n",
       "33        충북대학교\n",
       "34        한경대학교\n",
       "35      한국교원대학교\n",
       "36      한국교통대학교\n",
       "37      한국체육대학교\n",
       "38      한국해양대학교\n",
       "39        한밭대학교\n",
       "40        가야대학교\n",
       "41        가천대학교\n",
       "42     가톨릭관동대학교\n",
       "43       가톨릭대학교\n",
       "44     감리교신학대학교\n",
       "45        강남대학교\n",
       "46        건국대학교\n",
       "47        건양대학교\n",
       "48        경기대학교\n",
       "49        경남대학교\n",
       "50        경동대학교\n",
       "51        경성대학교\n",
       "52        경운대학교\n",
       "53        경일대학교\n",
       "54        경주대학교\n",
       "55        경희대학교\n",
       "56        계명대학교\n",
       "57        고려대학교\n",
       "58        고신대학교\n",
       "59        광신대학교\n",
       "Name: 학교명, dtype: object"
      ]
     },
     "execution_count": 21,
     "metadata": {},
     "output_type": "execute_result"
    }
   ],
   "source": [
    "ct['학교명'].head(60)"
   ]
  },
  {
   "cell_type": "code",
   "execution_count": 22,
   "id": "cc4139f6-ee94-49f6-bec1-3dd6d3d42b6a",
   "metadata": {},
   "outputs": [
    {
     "data": {
      "text/plain": [
       "60       광운대학교\n",
       "61    광주가톨릭대학교\n",
       "62       광주대학교\n",
       "63     광주여자대학교\n",
       "64       국민대학교\n",
       "65       극동대학교\n",
       "66       금강대학교\n",
       "67       김천대학교\n",
       "68      꽃동네대학교\n",
       "69      나사렛대학교\n",
       "Name: 학교명, dtype: object"
      ]
     },
     "execution_count": 22,
     "metadata": {},
     "output_type": "execute_result"
    }
   ],
   "source": [
    "ct['학교명'][60:70]"
   ]
  },
  {
   "cell_type": "markdown",
   "id": "1e3b628f-7b58-4b98-bbcb-7ca1899caf30",
   "metadata": {},
   "source": [
    "## 데이터 프레임"
   ]
  },
  {
   "cell_type": "code",
   "execution_count": 23,
   "id": "cd8d0c61-c079-447d-b8d5-ad93032b3ea2",
   "metadata": {},
   "outputs": [
    {
     "data": {
      "text/html": [
       "<div>\n",
       "<style scoped>\n",
       "    .dataframe tbody tr th:only-of-type {\n",
       "        vertical-align: middle;\n",
       "    }\n",
       "\n",
       "    .dataframe tbody tr th {\n",
       "        vertical-align: top;\n",
       "    }\n",
       "\n",
       "    .dataframe thead th {\n",
       "        text-align: right;\n",
       "    }\n",
       "</style>\n",
       "<table border=\"1\" class=\"dataframe\">\n",
       "  <thead>\n",
       "    <tr style=\"text-align: right;\">\n",
       "      <th></th>\n",
       "      <th>학교명</th>\n",
       "      <th>설립구분</th>\n",
       "      <th>평균등록금</th>\n",
       "    </tr>\n",
       "  </thead>\n",
       "  <tbody>\n",
       "    <tr>\n",
       "      <th>60</th>\n",
       "      <td>광운대학교</td>\n",
       "      <td>사립</td>\n",
       "      <td>7800</td>\n",
       "    </tr>\n",
       "    <tr>\n",
       "      <th>61</th>\n",
       "      <td>광주가톨릭대학교</td>\n",
       "      <td>사립</td>\n",
       "      <td>0</td>\n",
       "    </tr>\n",
       "    <tr>\n",
       "      <th>62</th>\n",
       "      <td>광주대학교</td>\n",
       "      <td>사립</td>\n",
       "      <td>6497</td>\n",
       "    </tr>\n",
       "    <tr>\n",
       "      <th>63</th>\n",
       "      <td>광주여자대학교</td>\n",
       "      <td>사립</td>\n",
       "      <td>6269</td>\n",
       "    </tr>\n",
       "    <tr>\n",
       "      <th>64</th>\n",
       "      <td>국민대학교</td>\n",
       "      <td>사립</td>\n",
       "      <td>7853</td>\n",
       "    </tr>\n",
       "    <tr>\n",
       "      <th>65</th>\n",
       "      <td>극동대학교</td>\n",
       "      <td>사립</td>\n",
       "      <td>7336</td>\n",
       "    </tr>\n",
       "    <tr>\n",
       "      <th>66</th>\n",
       "      <td>금강대학교</td>\n",
       "      <td>사립</td>\n",
       "      <td>6564</td>\n",
       "    </tr>\n",
       "    <tr>\n",
       "      <th>67</th>\n",
       "      <td>김천대학교</td>\n",
       "      <td>사립</td>\n",
       "      <td>6980</td>\n",
       "    </tr>\n",
       "    <tr>\n",
       "      <th>68</th>\n",
       "      <td>꽃동네대학교</td>\n",
       "      <td>사립</td>\n",
       "      <td>7031</td>\n",
       "    </tr>\n",
       "    <tr>\n",
       "      <th>69</th>\n",
       "      <td>나사렛대학교</td>\n",
       "      <td>사립</td>\n",
       "      <td>7115</td>\n",
       "    </tr>\n",
       "  </tbody>\n",
       "</table>\n",
       "</div>"
      ],
      "text/plain": [
       "         학교명 설립구분  평균등록금\n",
       "60     광운대학교   사립   7800\n",
       "61  광주가톨릭대학교   사립      0\n",
       "62     광주대학교   사립   6497\n",
       "63   광주여자대학교   사립   6269\n",
       "64     국민대학교   사립   7853\n",
       "65     극동대학교   사립   7336\n",
       "66     금강대학교   사립   6564\n",
       "67     김천대학교   사립   6980\n",
       "68    꽃동네대학교   사립   7031\n",
       "69    나사렛대학교   사립   7115"
      ]
     },
     "execution_count": 23,
     "metadata": {},
     "output_type": "execute_result"
    }
   ],
   "source": [
    "ct[60:70]"
   ]
  },
  {
   "cell_type": "code",
   "execution_count": null,
   "id": "f315dbff-77bd-4023-a030-e7ef5bdd7fe0",
   "metadata": {},
   "outputs": [],
   "source": []
  }
 ],
 "metadata": {
  "kernelspec": {
   "display_name": "Python 3 (ipykernel)",
   "language": "python",
   "name": "python3"
  },
  "language_info": {
   "codemirror_mode": {
    "name": "ipython",
    "version": 3
   },
   "file_extension": ".py",
   "mimetype": "text/x-python",
   "name": "python",
   "nbconvert_exporter": "python",
   "pygments_lexer": "ipython3",
   "version": "3.11.7"
  }
 },
 "nbformat": 4,
 "nbformat_minor": 5
}
