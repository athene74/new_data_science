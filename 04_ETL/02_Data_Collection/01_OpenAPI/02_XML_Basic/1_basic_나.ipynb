{
 "cells": [
  {
   "cell_type": "markdown",
   "id": "43b37321-96ce-46d4-aeb7-e07d999833d5",
   "metadata": {},
   "source": [
    "# XML: 태그로 사용자 정의 타입을 지원하는 데이터포멧"
   ]
  },
  {
   "cell_type": "code",
   "execution_count": 3,
   "id": "6011ee49-75f0-420b-a48b-969f3af03a6b",
   "metadata": {},
   "outputs": [],
   "source": [
    "from xml.etree.ElementTree import Element,dump, SubElement,ElementTree"
   ]
  },
  {
   "cell_type": "markdown",
   "id": "e57ee6ba-127a-4489-8874-3dcbbe1b76fc",
   "metadata": {},
   "source": [
    "# 사용자 정의 타입 생성"
   ]
  },
  {
   "cell_type": "markdown",
   "id": "69521895-2df3-41f0-bd34-e56c2d2dfdbf",
   "metadata": {},
   "source": [
    "## Element: 노드(태그) 생성"
   ]
  },
  {
   "cell_type": "code",
   "execution_count": 5,
   "id": "09ae65bb-d7c2-4305-868c-22d958c765c8",
   "metadata": {},
   "outputs": [
    {
     "data": {
      "text/plain": [
       "<Element 'message' at 0x000002ADA10D4810>"
      ]
     },
     "execution_count": 5,
     "metadata": {},
     "output_type": "execute_result"
    }
   ],
   "source": [
    "message = Element('message')\n",
    "message"
   ]
  },
  {
   "cell_type": "markdown",
   "id": "00938922-36ab-4232-8895-8d6e553921cf",
   "metadata": {},
   "source": [
    "## dump: 노드를 확인하는 함수"
   ]
  },
  {
   "cell_type": "code",
   "execution_count": 6,
   "id": "42b7aff0-3614-4d55-b1d3-b527e0ccd774",
   "metadata": {},
   "outputs": [
    {
     "name": "stdout",
     "output_type": "stream",
     "text": [
      "<message />\n"
     ]
    }
   ],
   "source": [
    "dump(message)"
   ]
  },
  {
   "cell_type": "code",
   "execution_count": 8,
   "id": "90f5b671-4e42-4690-8b06-f593cd0508e5",
   "metadata": {},
   "outputs": [],
   "source": [
    "to = Element('to')"
   ]
  },
  {
   "cell_type": "code",
   "execution_count": 9,
   "id": "95856196-9f47-4cc3-a1c9-46b11903744d",
   "metadata": {},
   "outputs": [
    {
     "data": {
      "text/plain": [
       "<Element 'to' at 0x000002ADA1199440>"
      ]
     },
     "execution_count": 9,
     "metadata": {},
     "output_type": "execute_result"
    }
   ],
   "source": [
    "to"
   ]
  },
  {
   "cell_type": "markdown",
   "id": "fab9aa94-5b52-459d-aae8-7e33433f0547",
   "metadata": {},
   "source": [
    "## 노드.text: 노드의 값을 지정"
   ]
  },
  {
   "cell_type": "code",
   "execution_count": 10,
   "id": "51506a49-1ab7-4fda-8cf8-5bd525cd1740",
   "metadata": {},
   "outputs": [],
   "source": [
    "to.text = '김해민'"
   ]
  },
  {
   "cell_type": "code",
   "execution_count": 11,
   "id": "3ec12423-4fce-42da-8a31-38bfcea1241f",
   "metadata": {},
   "outputs": [
    {
     "name": "stdout",
     "output_type": "stream",
     "text": [
      "<to>김해민</to>\n"
     ]
    }
   ],
   "source": [
    "dump(to)"
   ]
  },
  {
   "cell_type": "markdown",
   "id": "23df334a-e638-4c0d-b808-86746acb26c8",
   "metadata": {},
   "source": [
    "* 노드 구조  \n",
    "<노드명>값</노드명>  \n",
    "* JSON과 비교  \n",
    "키:값"
   ]
  },
  {
   "cell_type": "markdown",
   "id": "dbbd6860-baac-493e-b89e-305ce04a51ad",
   "metadata": {},
   "source": [
    "## append 함수로 자식 노드 추가"
   ]
  },
  {
   "cell_type": "markdown",
   "id": "f0b6c51e-d45e-4089-b9ec-bff87ddf6cc4",
   "metadata": {},
   "source": [
    "* 부모노드.append(자식노드): 부모 노드에 자식 노드 추가"
   ]
  },
  {
   "cell_type": "code",
   "execution_count": 15,
   "id": "696a842d-d923-4a80-8c84-469bffd9cd29",
   "metadata": {},
   "outputs": [
    {
     "name": "stdout",
     "output_type": "stream",
     "text": [
      "<message><to>김해민</to><to>김해민</to></message>\n"
     ]
    }
   ],
   "source": [
    "message.append(to)\n",
    "dump(message)"
   ]
  },
  {
   "cell_type": "raw",
   "id": "41944695-f6e6-401d-ae1e-e38677e3bf0a",
   "metadata": {},
   "source": [
    "<message>              # 부모노드\n",
    "    <to>김혜민</to>    # 자식노드\n",
    "</message>"
   ]
  },
  {
   "cell_type": "markdown",
   "id": "0ef9dfd1-dc5e-4cc0-bb28-3963dd991446",
   "metadata": {},
   "source": [
    "* JSON 타입과 비교"
   ]
  },
  {
   "cell_type": "raw",
   "id": "576bbf10-5700-4cb5-8b7e-5e67a9cd209f",
   "metadata": {},
   "source": [
    "{\n",
    "    'message':{        # 상위딕셔너리\n",
    "        'to':'김혜민'    # 하위딕셔너리\n",
    "    }\n",
    "}"
   ]
  },
  {
   "cell_type": "markdown",
   "id": "35e0d75e-d74f-4c8c-adcb-1a4e68f543fb",
   "metadata": {},
   "source": [
    "## 중간 정리"
   ]
  },
  {
   "cell_type": "raw",
   "id": "50cb6a5f-63aa-4c71-ae84-c11bc684464f",
   "metadata": {},
   "source": [
    "XML로 사용자 정의 데이터를 정의하는 구조\n",
    "<부모노드>\n",
    "    <자식노드1> 값 </자식노드1>\n",
    "    <자식노드2> 값 </자식노드2>\n",
    "        ...\n",
    "    <자식노드N> 값 </자식노드N>\n",
    "</부모노드>"
   ]
  },
  {
   "cell_type": "markdown",
   "id": "27de4bb9-13b1-4c2e-bd7e-5566d7917e81",
   "metadata": {},
   "source": [
    "## SubElement 함수로 자식노드 추가"
   ]
  },
  {
   "cell_type": "markdown",
   "id": "6cd0f572-59b0-4ce5-9ef3-96f5662d5a96",
   "metadata": {},
   "source": [
    "* SubElement(부모노드,'자식노드명').text = 자식노드 값"
   ]
  },
  {
   "cell_type": "code",
   "execution_count": 17,
   "id": "fefc325b-0c05-43d8-ad6c-8cbf4d2619fe",
   "metadata": {},
   "outputs": [
    {
     "name": "stdout",
     "output_type": "stream",
     "text": [
      "<message><to>김해민</to><to>김해민</to><from>남효정</from></message>\n"
     ]
    }
   ],
   "source": [
    "SubElement(message, 'from').text = '남효정'\n",
    "dump(message)"
   ]
  },
  {
   "cell_type": "raw",
   "id": "a690267f-41c8-40ca-8360-5f381f34f5c1",
   "metadata": {},
   "source": [
    "<message>\n",
    "\t<to>김해민</to>\n",
    "\t<from>남효정</from>\n",
    "</message>"
   ]
  },
  {
   "cell_type": "markdown",
   "id": "ae79ebce-571a-4f1d-bb14-398bc246fda3",
   "metadata": {},
   "source": [
    "## 노드 삽입/삭제"
   ]
  },
  {
   "cell_type": "markdown",
   "id": "a406b3a0-3078-454e-84db-3a2cca0d0952",
   "metadata": {},
   "source": [
    "### 삽입(insert)"
   ]
  },
  {
   "cell_type": "markdown",
   "id": "7cf36934-10d0-455e-8960-b5d60d786e48",
   "metadata": {},
   "source": [
    "* 부모노드.insert(인덱스, 자식노드)"
   ]
  },
  {
   "cell_type": "code",
   "execution_count": 18,
   "id": "25ee7466-09d0-4b82-ab77-5e3771fcb29b",
   "metadata": {},
   "outputs": [
    {
     "name": "stdout",
     "output_type": "stream",
     "text": [
      "<message><to>김해민</to><dummy /><to>김해민</to><from>남효정</from></message>\n"
     ]
    }
   ],
   "source": [
    "dummy = Element('dummy')\n",
    "message.insert(1, dummy)\n",
    "dump(message)"
   ]
  },
  {
   "cell_type": "markdown",
   "id": "4ca11a62-7238-4b5b-ab7f-ab5bcc3f3bcd",
   "metadata": {},
   "source": [
    "* 값이 정의되지 않는 노드 표기 방식"
   ]
  },
  {
   "cell_type": "raw",
   "id": "a53e0b91-4173-4f11-9cef-6d47c6ce4849",
   "metadata": {},
   "source": [
    "- 노드에 값이 없는 경우\n",
    "<노드명 />\n",
    "\n",
    "- 값이 있는 노드와 비교\n",
    "<노드명>\n",
    "    값\n",
    "</노드명>"
   ]
  },
  {
   "cell_type": "markdown",
   "id": "399aa9b1-1108-4081-b685-81cb0042a10b",
   "metadata": {},
   "source": [
    "## 속성으로 데이터 추가"
   ]
  },
  {
   "cell_type": "markdown",
   "id": "9bcdf431-d00a-4e2a-8917-53fa05e9942b",
   "metadata": {},
   "source": [
    "* 날짜 속성 추가"
   ]
  },
  {
   "cell_type": "code",
   "execution_count": 19,
   "id": "3a815d55-55ef-4bad-b95f-c3f8bf88ba2c",
   "metadata": {},
   "outputs": [
    {
     "name": "stdout",
     "output_type": "stream",
     "text": [
      "<message date=\"20240731\"><to>김해민</to><dummy /><to>김해민</to><from>남효정</from></message>\n"
     ]
    }
   ],
   "source": [
    "message.attrib['date'] = '20240731'\n",
    "dump(message)"
   ]
  },
  {
   "cell_type": "raw",
   "id": "cd1ca1f9-a58a-4e09-97fd-ab0132ab03f1",
   "metadata": {},
   "source": [
    "<message date=\"20240731\">\n",
    "\t<to>김해민</to>\n",
    "\t<dummy />\n",
    "\t<from>남효정</from>\n",
    "</message>"
   ]
  },
  {
   "cell_type": "markdown",
   "id": "d6d0462d-0f8d-4e8a-b7b7-c994a32e0771",
   "metadata": {},
   "source": [
    "* 기타 하위 노드 정의"
   ]
  },
  {
   "cell_type": "code",
   "execution_count": 20,
   "id": "830081b8-bacc-4c59-9943-5ffc36402f44",
   "metadata": {},
   "outputs": [
    {
     "name": "stdout",
     "output_type": "stream",
     "text": [
      "<message date=\"20240731\"><to>김해민</to><dummy /><to>김해민</to><from>남효정</from><method>gmail</method><heading>주말에 뭐해요?</heading><body>주말에 영화한편?</body></message>\n"
     ]
    }
   ],
   "source": [
    "SubElement(message,'method').text='gmail'\n",
    "SubElement(message,'heading').text='주말에 뭐해요?'\n",
    "SubElement(message,'body').text='주말에 영화한편?'\n",
    "dump(message)"
   ]
  },
  {
   "cell_type": "code",
   "execution_count": 21,
   "id": "ef613f21-3b52-4363-ac4e-9a93906f90a4",
   "metadata": {},
   "outputs": [],
   "source": [
    "def indent(elem, level=0):\n",
    "    i = \"\\n\"+level*\" \"\n",
    "    if len(elem):\n",
    "        if not elem.text or not elem.text.strip():\n",
    "            elem.text = i+\" \"\n",
    "        if not elem.tail or not elem.tail.strip():\n",
    "            elem.tail = i\n",
    "        for elem in elem:\n",
    "            indent(elem, level+1)\n",
    "        if not elem.tail or not elem.tail.strip():\n",
    "            elem.tail = i\n",
    "    else:\n",
    "        if level and (not elem.tail or not elem.tail.strip()):\n",
    "            elem.tail = i"
   ]
  },
  {
   "cell_type": "code",
   "execution_count": 26,
   "id": "4789a224-e742-4956-a557-ced7bc127b9c",
   "metadata": {},
   "outputs": [],
   "source": [
    "# indent(message) # 주피터 또는 파이참 환경에서 인덴테이션을 직용해 보고 싶을 때만 실행"
   ]
  },
  {
   "cell_type": "code",
   "execution_count": 1,
   "id": "cf2d40d2-61f1-45cf-94cc-6e3484cf94d7",
   "metadata": {},
   "outputs": [
    {
     "ename": "NameError",
     "evalue": "name 'dump' is not defined",
     "output_type": "error",
     "traceback": [
      "\u001b[1;31m---------------------------------------------------------------------------\u001b[0m",
      "\u001b[1;31mNameError\u001b[0m                                 Traceback (most recent call last)",
      "Cell \u001b[1;32mIn[1], line 1\u001b[0m\n\u001b[1;32m----> 1\u001b[0m dump(message)\n",
      "\u001b[1;31mNameError\u001b[0m: name 'dump' is not defined"
     ]
    }
   ],
   "source": [
    "dump(message)"
   ]
  },
  {
   "cell_type": "code",
   "execution_count": null,
   "id": "3762f61b-6f2d-456d-be8c-c2a71624fbc9",
   "metadata": {},
   "outputs": [],
   "source": [
    "XML"
   ]
  },
  {
   "cell_type": "code",
   "execution_count": 27,
   "id": "fd2abe6a-c4dd-4009-9785-57ba68c2de9a",
   "metadata": {},
   "outputs": [
    {
     "name": "stdout",
     "output_type": "stream",
     "text": [
      " D 드라이브의 볼륨에는 이름이 없습니다.\n",
      " 볼륨 일련 번호: 64E7-45B0\n",
      "\n",
      " D:\\hjnam\\project\\DataScience\\04_ETL\\02_Data_Collection\\01_OpenAPI\\02_XML_Basic 디렉터리\n",
      "\n",
      "2024-07-31  오전 10:22               334 message_작성실습.xml\n",
      "               1개 파일                 334 바이트\n",
      "               0개 디렉터리  1,995,383,975,936 바이트 남음\n"
     ]
    }
   ],
   "source": [
    "ElementTree(message).write('message_작성실습.xml')\n",
    "!dir *.xml"
   ]
  },
  {
   "cell_type": "code",
   "execution_count": null,
   "id": "c03506ee-f930-4fee-b8fd-8ea781502f23",
   "metadata": {},
   "outputs": [],
   "source": []
  }
 ],
 "metadata": {
  "kernelspec": {
   "display_name": "Python 3 (ipykernel)",
   "language": "python",
   "name": "python3"
  },
  "language_info": {
   "codemirror_mode": {
    "name": "ipython",
    "version": 3
   },
   "file_extension": ".py",
   "mimetype": "text/x-python",
   "name": "python",
   "nbconvert_exporter": "python",
   "pygments_lexer": "ipython3",
   "version": "3.11.7"
  }
 },
 "nbformat": 4,
 "nbformat_minor": 5
}
