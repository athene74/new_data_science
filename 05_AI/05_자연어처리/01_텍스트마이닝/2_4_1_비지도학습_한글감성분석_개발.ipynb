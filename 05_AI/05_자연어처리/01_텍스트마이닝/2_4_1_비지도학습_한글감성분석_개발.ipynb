{
 "cells": [
  {
   "cell_type": "markdown",
   "id": "b9ad9197",
   "metadata": {},
   "source": [
    "# 한글 감성분석 사전 현황"
   ]
  },
  {
   "cell_type": "markdown",
   "id": "ec281f70",
   "metadata": {},
   "source": [
    "### 감성분석 사전은 한글 형태소 분석기에서는 현재 제공되지 않는다."
   ]
  },
  {
   "cell_type": "markdown",
   "id": "da6f8a66",
   "metadata": {},
   "source": [
    "### 아래와 같이 수동으로 구축을 해야한다."
   ]
  },
  {
   "cell_type": "code",
   "execution_count": 1,
   "id": "a06b8b47",
   "metadata": {},
   "outputs": [],
   "source": [
    "from konlpy.tag import Okt\n",
    "\n",
    "# 단어별 감성 가중치 사전 (단어: 가중치)\n",
    "word_sentiment_weights = {\n",
    "    '좋아요': 1.0,\n",
    "    '재미있어요': 1.0,\n",
    "    '추천': 1.0,\n",
    "    '별로에요': -1.0,\n",
    "    '지루해요': -1.0,\n",
    "    '실망': -1.0,\n",
    "    '정말': 0.5,\n",
    "    '매우': 0.5,\n",
    "    '아주': 0.5,\n",
    "    '조금': -0.5,\n",
    "    '별로': -0.5\n",
    "}"
   ]
  },
  {
   "cell_type": "code",
   "execution_count": 7,
   "id": "ee2732c5",
   "metadata": {},
   "outputs": [
    {
     "name": "stdout",
     "output_type": "stream",
     "text": [
      "텍스트: 이 영화 조금 별로예요. 하지만 마지막 반전이 있었어요. 아주 재미있어요! 매우 좋았습니다. 아주 추천합니다.\n",
      "감성점수:1.5\n",
      "최종 감성분석: 긍정적\n"
     ]
    }
   ],
   "source": [
    "# 감성 분석 함수\n",
    "def analyze_sentiment(text):\n",
    "    okt = Okt()\n",
    "    tokens = okt.pos(text, stem=True)\n",
    "    \n",
    "    sentiment_score = 0\n",
    "    for token, pos in tokens:\n",
    "        if pos in ['Noun', 'Adjective', 'Adverb'] and token in word_sentiment_weights:\n",
    "            sentiment_score += word_sentiment_weights[token]\n",
    "    \n",
    "    # 0> 긍정적, 0<: 부정적, 0: 중립적\n",
    "    return (\"긍정적\" if sentiment_score > 0 else \"부정적\" if sentiment_score < 0 else \"중립적\", sentiment_score)\n",
    "\n",
    "# 감성 분석 수행\n",
    "# text = \"이 영화 정말 재미있어요! 아주 추천합니다.\"\n",
    "# text = \"이 영화 정말 정말 아주 재미있어요! 매우 좋았습니다. 아주 추천합니다.\"\n",
    "# text = \"이 영화 별로예요\"\n",
    "# text = \"이 영화 조금 별로예요. 지루합니다. 실망했어요.\"\n",
    "text = \"이 영화 조금 별로예요. 하지만 마지막 반전이 있었어요. 아주 재미있어요! 매우 좋았습니다. 아주 추천합니다.\"\n",
    "sentiment, sentiment_score = analyze_sentiment(text)\n",
    "print(f\"텍스트: {text}\")\n",
    "print(f\"감성점수:{sentiment_score}\")\n",
    "print(f\"최종 감성분석: {sentiment}\")"
   ]
  },
  {
   "cell_type": "markdown",
   "id": "b63fe736",
   "metadata": {},
   "source": [
    "http://dilab.kunsan.ac.kr/knusl.html"
   ]
  },
  {
   "cell_type": "code",
   "execution_count": null,
   "id": "b6006de8",
   "metadata": {},
   "outputs": [],
   "source": []
  }
 ],
 "metadata": {
  "kernelspec": {
   "display_name": "Python 3 (ipykernel)",
   "language": "python",
   "name": "python3"
  },
  "language_info": {
   "codemirror_mode": {
    "name": "ipython",
    "version": 3
   },
   "file_extension": ".py",
   "mimetype": "text/x-python",
   "name": "python",
   "nbconvert_exporter": "python",
   "pygments_lexer": "ipython3",
   "version": "3.11.7"
  }
 },
 "nbformat": 4,
 "nbformat_minor": 5
}
