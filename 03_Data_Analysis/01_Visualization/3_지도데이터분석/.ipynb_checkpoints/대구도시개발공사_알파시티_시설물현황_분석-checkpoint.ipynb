{
 "cells": [
  {
   "cell_type": "markdown",
   "id": "9a361676",
   "metadata": {
    "hidden": true
   },
   "source": [
    "## 주요절차"
   ]
  },
  {
   "cell_type": "markdown",
   "id": "27585602",
   "metadata": {
    "hidden": true
   },
   "source": [
    "### 1. 초기데이터 분석"
   ]
  },
  {
   "cell_type": "markdown",
   "id": "8aee3de8",
   "metadata": {
    "hidden": true
   },
   "source": [
    "#### 1-1. 데이터딕셔너리(각 열의 의미, 데이터의 의미해석관련 스펙 또는 메뉴얼) 확인\n",
    "#### 1-2 데이터 기초정보 확인 (사이즈, 열이름, 데이터형, 결측치, 이상치확인)"
   ]
  },
  {
   "cell_type": "markdown",
   "id": "6076e96e-cee7-4a93-8f65-3b1463b3cd6a",
   "metadata": {},
   "source": [
    "기초통계정보 확인 # df.describe()  \n",
    "- 수치  \n",
    "=> 수치데이터로서 의미가 있는가?  \n",
    "=> 의미가 있는 열에 대해서는  \n",
    "기초통계값을 분석  \n",
    " - 수치상\n",
    "mean, min, 1q, 2q(중위값), 3q, max  \n",
    "예) 키, 몸무게, 가격  \n",
    " - 시각화\n",
    "  히스토그램, 박스플롯 (바이올린플롯)\n",
    "     - 이상치 유무 확인\n",
    "     - 이상치가 있다면 보정방식을 선택  \n",
    "  (예: 삭제, 포함)\n",
    "- 기초통계값과, 차트 재확인 (이상치 보정 유무 확인)\n",
    "- 문자열\n",
    " => unique의 결과값에서 파이차트나 막대차트로 그릴수 있는 열이 있는지 확인  \n",
    " 10개미만은 파이차트, 도우넛차트 그리기에 용이  \n",
    " 10개 이상은 파이차트, 막대차트(Top3,5,10 .. 그리고 하위 3,5,10)  \n",
    "\n",
    "* 수치 문자 중에 범위화 할 수 있는 열이 있는지 확인해 보자  \n",
    " 가격=> 초고가, 고가, 일반, 저가  \n",
    " 주소 => 시도  \n",
    " 위 작업은 apply 함수를 통해"
   ]
  },
  {
   "cell_type": "markdown",
   "id": "2ebab032",
   "metadata": {
    "hidden": true
   },
   "source": [
    "### 2. 데이터 정제"
   ]
  },
  {
   "cell_type": "markdown",
   "id": "39e200d0",
   "metadata": {
    "hidden": true
   },
   "source": [
    "#### 2.1. 원본데이터로에서 분석가능한 형태의 데이터 전처리 (형변환, 열이름 변경등)\n",
    "#### 2.2. 데이터 클리닝: 이상치, 결측치처리"
   ]
  },
  {
   "cell_type": "markdown",
   "id": "4e60e3f3",
   "metadata": {
    "hidden": true
   },
   "source": [
    "### 3. 추가데이터 분석"
   ]
  },
  {
   "cell_type": "markdown",
   "id": "82e0a525",
   "metadata": {
    "hidden": true
   },
   "source": [
    "#### 3.1 데이터 정제후 데이터딕셔너리 재확인\n",
    "#### 3.2 기초통계 정보 확인 (최대값, 최소값, 평균값, 표준편차, 최빈값, 유일값 등)\n",
    "#### 3.3 시각화를 통한 데이터이해 심화 "
   ]
  },
  {
   "cell_type": "markdown",
   "id": "87e87a59",
   "metadata": {
    "hidden": true
   },
   "source": [
    "* 3.3.1 단일 열: 데이터의 성격에 따른 다양한 차트 적용  \n",
    "* 3.3.2 복수 열: 두개의 열간 연관관계 분석(Pair Plot 또는 Seaborn의 관련 지원 차트등)"
   ]
  },
  {
   "cell_type": "markdown",
   "id": "d98ee251",
   "metadata": {},
   "source": [
    "# 탐색적분석 적용 실습 템플릿"
   ]
  },
  {
   "cell_type": "markdown",
   "id": "0521bf67",
   "metadata": {},
   "source": [
    "## 데이터 수집"
   ]
  },
  {
   "cell_type": "code",
   "execution_count": 97,
   "id": "46c5eafe",
   "metadata": {},
   "outputs": [],
   "source": [
    "# 데이터 소스를 확보하세요"
   ]
  },
  {
   "cell_type": "code",
   "execution_count": 98,
   "id": "eb9b901c-162a-4525-b231-9fe7071692b3",
   "metadata": {},
   "outputs": [],
   "source": [
    "import pandas as pd\n",
    "import numpy as np\n",
    "import matplotlib.pyplot as plt\n",
    "%matplotlib inline\n",
    "from matplotlib import font_manager, rc\n",
    "# 한글 폰트\n",
    "font_location = \"C:\\Windows\\Fonts\\malgun.ttf\"\n",
    "font_name = font_manager.FontProperties(fname = font_location).get_name()\n",
    "rc('font', family=font_name)"
   ]
  },
  {
   "cell_type": "code",
   "execution_count": 99,
   "id": "87c290e5-30b0-45bb-8772-817217ce35b9",
   "metadata": {},
   "outputs": [
    {
     "data": {
      "text/html": [
       "<div>\n",
       "<style scoped>\n",
       "    .dataframe tbody tr th:only-of-type {\n",
       "        vertical-align: middle;\n",
       "    }\n",
       "\n",
       "    .dataframe tbody tr th {\n",
       "        vertical-align: top;\n",
       "    }\n",
       "\n",
       "    .dataframe thead th {\n",
       "        text-align: right;\n",
       "    }\n",
       "</style>\n",
       "<table border=\"1\" class=\"dataframe\">\n",
       "  <thead>\n",
       "    <tr style=\"text-align: right;\">\n",
       "      <th></th>\n",
       "      <th>순번</th>\n",
       "      <th>코드</th>\n",
       "      <th>시설물명</th>\n",
       "      <th>위치명</th>\n",
       "      <th>주소</th>\n",
       "      <th>등록일</th>\n",
       "      <th>시설물구분</th>\n",
       "      <th>운영상태</th>\n",
       "      <th>위도</th>\n",
       "      <th>경도</th>\n",
       "    </tr>\n",
       "  </thead>\n",
       "  <tbody>\n",
       "    <tr>\n",
       "      <th>0</th>\n",
       "      <td>1</td>\n",
       "      <td>SL</td>\n",
       "      <td>스마트가로등-001</td>\n",
       "      <td>SL-001</td>\n",
       "      <td>대구광역시 수성구 시지동 430-1</td>\n",
       "      <td>2018-10-21</td>\n",
       "      <td>스마트가로등</td>\n",
       "      <td>정상</td>\n",
       "      <td>35.84074</td>\n",
       "      <td>128.6921</td>\n",
       "    </tr>\n",
       "    <tr>\n",
       "      <th>1</th>\n",
       "      <td>2</td>\n",
       "      <td>SL</td>\n",
       "      <td>스마트가로등-002</td>\n",
       "      <td>SL-002</td>\n",
       "      <td>대구광역시 수성구 시지동 396</td>\n",
       "      <td>2018-10-21</td>\n",
       "      <td>스마트가로등</td>\n",
       "      <td>비정상</td>\n",
       "      <td>35.83937</td>\n",
       "      <td>128.6932</td>\n",
       "    </tr>\n",
       "    <tr>\n",
       "      <th>2</th>\n",
       "      <td>3</td>\n",
       "      <td>SL</td>\n",
       "      <td>스마트가로등-003</td>\n",
       "      <td>SL-003</td>\n",
       "      <td>대구광역시 수성구 시지동 450-3</td>\n",
       "      <td>2018-10-21</td>\n",
       "      <td>스마트가로등</td>\n",
       "      <td>정상</td>\n",
       "      <td>35.83935</td>\n",
       "      <td>128.6906</td>\n",
       "    </tr>\n",
       "    <tr>\n",
       "      <th>3</th>\n",
       "      <td>4</td>\n",
       "      <td>SL</td>\n",
       "      <td>스마트가로등-004</td>\n",
       "      <td>SL-004</td>\n",
       "      <td>대구광역시 수성구 대흥동 198-1</td>\n",
       "      <td>2018-10-21</td>\n",
       "      <td>스마트가로등</td>\n",
       "      <td>정상</td>\n",
       "      <td>35.83895</td>\n",
       "      <td>128.6892</td>\n",
       "    </tr>\n",
       "    <tr>\n",
       "      <th>4</th>\n",
       "      <td>5</td>\n",
       "      <td>SL</td>\n",
       "      <td>스마트가로등-005</td>\n",
       "      <td>SL-005</td>\n",
       "      <td>대구광역시 수성구 노변동 567</td>\n",
       "      <td>2018-10-21</td>\n",
       "      <td>스마트가로등</td>\n",
       "      <td>비정상</td>\n",
       "      <td>35.83705</td>\n",
       "      <td>128.6943</td>\n",
       "    </tr>\n",
       "  </tbody>\n",
       "</table>\n",
       "</div>"
      ],
      "text/plain": [
       "   순번  코드        시설물명     위치명                   주소         등록일   시설물구분 운영상태  \\\n",
       "0   1  SL  스마트가로등-001  SL-001  대구광역시 수성구 시지동 430-1  2018-10-21  스마트가로등   정상   \n",
       "1   2  SL  스마트가로등-002  SL-002    대구광역시 수성구 시지동 396  2018-10-21  스마트가로등  비정상   \n",
       "2   3  SL  스마트가로등-003  SL-003  대구광역시 수성구 시지동 450-3  2018-10-21  스마트가로등   정상   \n",
       "3   4  SL  스마트가로등-004  SL-004  대구광역시 수성구 대흥동 198-1  2018-10-21  스마트가로등   정상   \n",
       "4   5  SL  스마트가로등-005  SL-005    대구광역시 수성구 노변동 567  2018-10-21  스마트가로등  비정상   \n",
       "\n",
       "         위도        경도  \n",
       "0  35.84074  128.6921  \n",
       "1  35.83937  128.6932  \n",
       "2  35.83935  128.6906  \n",
       "3  35.83895  128.6892  \n",
       "4  35.83705  128.6943  "
      ]
     },
     "execution_count": 99,
     "metadata": {},
     "output_type": "execute_result"
    }
   ],
   "source": [
    "df = pd.read_csv(\"대구도시개발공사_수성알파시티 시설물위치 정보_20230727.csv\", encoding='cp949')\n",
    "df.head()"
   ]
  },
  {
   "cell_type": "markdown",
   "id": "c3b597f4",
   "metadata": {},
   "source": [
    "## 1. 초기데이터 분석"
   ]
  },
  {
   "cell_type": "markdown",
   "id": "0c3c91be",
   "metadata": {},
   "source": [
    "### 1-1. 데이터스키마 확인"
   ]
  },
  {
   "cell_type": "markdown",
   "id": "531b65a6-0159-43a2-bb51-7090d7a390f6",
   "metadata": {},
   "source": [
    "# 각 열의 의미, 데이터의 의미해석관련 스펙 또는 메뉴얼을 확인 가능시 진행 하세요\n",
    "* A열: A열의 의미를 기술\n",
    "* B열: B열의 의미를 기술  \n",
    "..."
   ]
  },
  {
   "cell_type": "markdown",
   "id": "913979f3",
   "metadata": {},
   "source": [
    "### 1-2. 데이터 기초정보 확인"
   ]
  },
  {
   "cell_type": "markdown",
   "id": "1e03acff-a002-4e37-be88-5d36d4706630",
   "metadata": {},
   "source": [
    "* 사이즈, 데이터형, 기초통계항목등을 확인하세요  "
   ]
  },
  {
   "cell_type": "code",
   "execution_count": 100,
   "id": "4213881a-92fb-4064-af2a-25bc73e4299e",
   "metadata": {},
   "outputs": [],
   "source": [
    "#df.shape\n",
    "#df.info()"
   ]
  },
  {
   "cell_type": "code",
   "execution_count": 101,
   "id": "4f08ff0e-2c40-4e62-8e8a-ff70672372a2",
   "metadata": {},
   "outputs": [
    {
     "data": {
      "text/plain": [
       "(132, 10)"
      ]
     },
     "execution_count": 101,
     "metadata": {},
     "output_type": "execute_result"
    }
   ],
   "source": [
    "df.shape"
   ]
  },
  {
   "cell_type": "code",
   "execution_count": 102,
   "id": "3326bcd6-7837-45b8-8451-cbfac90fb1f0",
   "metadata": {},
   "outputs": [
    {
     "name": "stdout",
     "output_type": "stream",
     "text": [
      "<class 'pandas.core.frame.DataFrame'>\n",
      "RangeIndex: 132 entries, 0 to 131\n",
      "Data columns (total 10 columns):\n",
      " #   Column  Non-Null Count  Dtype  \n",
      "---  ------  --------------  -----  \n",
      " 0   순번      132 non-null    int64  \n",
      " 1   코드      132 non-null    object \n",
      " 2   시설물명    132 non-null    object \n",
      " 3   위치명     132 non-null    object \n",
      " 4   주소      132 non-null    object \n",
      " 5   등록일     132 non-null    object \n",
      " 6   시설물구분   132 non-null    object \n",
      " 7   운영상태    132 non-null    object \n",
      " 8   위도      132 non-null    float64\n",
      " 9   경도      132 non-null    float64\n",
      "dtypes: float64(2), int64(1), object(7)\n",
      "memory usage: 10.4+ KB\n"
     ]
    }
   ],
   "source": [
    "df.info()"
   ]
  },
  {
   "cell_type": "markdown",
   "id": "8d2984b9-6715-49a2-8583-d9583b38b857",
   "metadata": {},
   "source": [
    "* 기초통계항목"
   ]
  },
  {
   "cell_type": "code",
   "execution_count": 103,
   "id": "7f497c28-3191-4262-aae0-41402e8eaeef",
   "metadata": {},
   "outputs": [],
   "source": [
    "# df.describe()"
   ]
  },
  {
   "cell_type": "code",
   "execution_count": 104,
   "id": "4ef4e36c-aa2a-476e-a8a8-53d1ca31ee16",
   "metadata": {},
   "outputs": [
    {
     "data": {
      "text/html": [
       "<div>\n",
       "<style scoped>\n",
       "    .dataframe tbody tr th:only-of-type {\n",
       "        vertical-align: middle;\n",
       "    }\n",
       "\n",
       "    .dataframe tbody tr th {\n",
       "        vertical-align: top;\n",
       "    }\n",
       "\n",
       "    .dataframe thead th {\n",
       "        text-align: right;\n",
       "    }\n",
       "</style>\n",
       "<table border=\"1\" class=\"dataframe\">\n",
       "  <thead>\n",
       "    <tr style=\"text-align: right;\">\n",
       "      <th></th>\n",
       "      <th>순번</th>\n",
       "      <th>위도</th>\n",
       "      <th>경도</th>\n",
       "    </tr>\n",
       "  </thead>\n",
       "  <tbody>\n",
       "    <tr>\n",
       "      <th>count</th>\n",
       "      <td>132.000000</td>\n",
       "      <td>132.000000</td>\n",
       "      <td>132.000000</td>\n",
       "    </tr>\n",
       "    <tr>\n",
       "      <th>mean</th>\n",
       "      <td>66.500000</td>\n",
       "      <td>35.836941</td>\n",
       "      <td>128.690199</td>\n",
       "    </tr>\n",
       "    <tr>\n",
       "      <th>std</th>\n",
       "      <td>38.249183</td>\n",
       "      <td>0.002219</td>\n",
       "      <td>0.005199</td>\n",
       "    </tr>\n",
       "    <tr>\n",
       "      <th>min</th>\n",
       "      <td>1.000000</td>\n",
       "      <td>35.832300</td>\n",
       "      <td>128.679600</td>\n",
       "    </tr>\n",
       "    <tr>\n",
       "      <th>25%</th>\n",
       "      <td>33.750000</td>\n",
       "      <td>35.835141</td>\n",
       "      <td>128.687212</td>\n",
       "    </tr>\n",
       "    <tr>\n",
       "      <th>50%</th>\n",
       "      <td>66.500000</td>\n",
       "      <td>35.836807</td>\n",
       "      <td>128.690845</td>\n",
       "    </tr>\n",
       "    <tr>\n",
       "      <th>75%</th>\n",
       "      <td>99.250000</td>\n",
       "      <td>35.838900</td>\n",
       "      <td>128.694035</td>\n",
       "    </tr>\n",
       "    <tr>\n",
       "      <th>max</th>\n",
       "      <td>132.000000</td>\n",
       "      <td>35.841760</td>\n",
       "      <td>128.698056</td>\n",
       "    </tr>\n",
       "  </tbody>\n",
       "</table>\n",
       "</div>"
      ],
      "text/plain": [
       "               순번          위도          경도\n",
       "count  132.000000  132.000000  132.000000\n",
       "mean    66.500000   35.836941  128.690199\n",
       "std     38.249183    0.002219    0.005199\n",
       "min      1.000000   35.832300  128.679600\n",
       "25%     33.750000   35.835141  128.687212\n",
       "50%     66.500000   35.836807  128.690845\n",
       "75%     99.250000   35.838900  128.694035\n",
       "max    132.000000   35.841760  128.698056"
      ]
     },
     "execution_count": 104,
     "metadata": {},
     "output_type": "execute_result"
    }
   ],
   "source": [
    "df.describe()"
   ]
  },
  {
   "cell_type": "code",
   "execution_count": 105,
   "id": "3454f134-9381-4e5d-bd70-41ff6973c8f1",
   "metadata": {},
   "outputs": [
    {
     "data": {
      "text/html": [
       "<div>\n",
       "<style scoped>\n",
       "    .dataframe tbody tr th:only-of-type {\n",
       "        vertical-align: middle;\n",
       "    }\n",
       "\n",
       "    .dataframe tbody tr th {\n",
       "        vertical-align: top;\n",
       "    }\n",
       "\n",
       "    .dataframe thead th {\n",
       "        text-align: right;\n",
       "    }\n",
       "</style>\n",
       "<table border=\"1\" class=\"dataframe\">\n",
       "  <thead>\n",
       "    <tr style=\"text-align: right;\">\n",
       "      <th></th>\n",
       "      <th>코드</th>\n",
       "      <th>시설물명</th>\n",
       "      <th>위치명</th>\n",
       "      <th>주소</th>\n",
       "      <th>등록일</th>\n",
       "      <th>시설물구분</th>\n",
       "      <th>운영상태</th>\n",
       "    </tr>\n",
       "  </thead>\n",
       "  <tbody>\n",
       "    <tr>\n",
       "      <th>count</th>\n",
       "      <td>132</td>\n",
       "      <td>132</td>\n",
       "      <td>132</td>\n",
       "      <td>132</td>\n",
       "      <td>132</td>\n",
       "      <td>132</td>\n",
       "      <td>132</td>\n",
       "    </tr>\n",
       "    <tr>\n",
       "      <th>unique</th>\n",
       "      <td>11</td>\n",
       "      <td>131</td>\n",
       "      <td>131</td>\n",
       "      <td>90</td>\n",
       "      <td>2</td>\n",
       "      <td>11</td>\n",
       "      <td>2</td>\n",
       "    </tr>\n",
       "    <tr>\n",
       "      <th>top</th>\n",
       "      <td>SW</td>\n",
       "      <td>스마트워킹-022</td>\n",
       "      <td>ER-001</td>\n",
       "      <td>운동시설</td>\n",
       "      <td>2018-10-21</td>\n",
       "      <td>스마트워킹</td>\n",
       "      <td>정상</td>\n",
       "    </tr>\n",
       "    <tr>\n",
       "      <th>freq</th>\n",
       "      <td>41</td>\n",
       "      <td>2</td>\n",
       "      <td>2</td>\n",
       "      <td>18</td>\n",
       "      <td>131</td>\n",
       "      <td>41</td>\n",
       "      <td>125</td>\n",
       "    </tr>\n",
       "  </tbody>\n",
       "</table>\n",
       "</div>"
      ],
      "text/plain": [
       "         코드       시설물명     위치명    주소         등록일  시설물구분 운영상태\n",
       "count   132        132     132   132         132    132  132\n",
       "unique   11        131     131    90           2     11    2\n",
       "top      SW  스마트워킹-022  ER-001  운동시설  2018-10-21  스마트워킹   정상\n",
       "freq     41          2       2    18         131     41  125"
      ]
     },
     "execution_count": 105,
     "metadata": {},
     "output_type": "execute_result"
    }
   ],
   "source": [
    "df.describe(include='object')"
   ]
  },
  {
   "cell_type": "markdown",
   "id": "c2e13829",
   "metadata": {},
   "source": [
    "## 2. 데이터 정제"
   ]
  },
  {
   "cell_type": "markdown",
   "id": "7eedb11e",
   "metadata": {},
   "source": [
    "### 2-1. 간단한 데이터 전처리"
   ]
  },
  {
   "cell_type": "code",
   "execution_count": 106,
   "id": "5fd51a76",
   "metadata": {},
   "outputs": [],
   "source": [
    "# 원본데이터로에서 읽기 가능한 형태로 데이터처리를 하세요. (열이름 변경, 형변환, 피봇, 분석용 데이터 셋 생성 등)"
   ]
  },
  {
   "cell_type": "code",
   "execution_count": 107,
   "id": "f1e1c667-df5b-4179-810c-0b4625bcafd3",
   "metadata": {},
   "outputs": [
    {
     "data": {
      "text/html": [
       "<div>\n",
       "<style scoped>\n",
       "    .dataframe tbody tr th:only-of-type {\n",
       "        vertical-align: middle;\n",
       "    }\n",
       "\n",
       "    .dataframe tbody tr th {\n",
       "        vertical-align: top;\n",
       "    }\n",
       "\n",
       "    .dataframe thead th {\n",
       "        text-align: right;\n",
       "    }\n",
       "</style>\n",
       "<table border=\"1\" class=\"dataframe\">\n",
       "  <thead>\n",
       "    <tr style=\"text-align: right;\">\n",
       "      <th></th>\n",
       "      <th>위치명</th>\n",
       "      <th>주소</th>\n",
       "      <th>등록일</th>\n",
       "      <th>시설물구분</th>\n",
       "      <th>운영상태</th>\n",
       "      <th>위도</th>\n",
       "      <th>경도</th>\n",
       "    </tr>\n",
       "  </thead>\n",
       "  <tbody>\n",
       "    <tr>\n",
       "      <th>0</th>\n",
       "      <td>SL-001</td>\n",
       "      <td>대구광역시 수성구 시지동 430-1</td>\n",
       "      <td>2018-10-21</td>\n",
       "      <td>스마트가로등</td>\n",
       "      <td>정상</td>\n",
       "      <td>35.840740</td>\n",
       "      <td>128.692100</td>\n",
       "    </tr>\n",
       "    <tr>\n",
       "      <th>1</th>\n",
       "      <td>SL-002</td>\n",
       "      <td>대구광역시 수성구 시지동 396</td>\n",
       "      <td>2018-10-21</td>\n",
       "      <td>스마트가로등</td>\n",
       "      <td>비정상</td>\n",
       "      <td>35.839370</td>\n",
       "      <td>128.693200</td>\n",
       "    </tr>\n",
       "    <tr>\n",
       "      <th>2</th>\n",
       "      <td>SL-003</td>\n",
       "      <td>대구광역시 수성구 시지동 450-3</td>\n",
       "      <td>2018-10-21</td>\n",
       "      <td>스마트가로등</td>\n",
       "      <td>정상</td>\n",
       "      <td>35.839350</td>\n",
       "      <td>128.690600</td>\n",
       "    </tr>\n",
       "    <tr>\n",
       "      <th>3</th>\n",
       "      <td>SL-004</td>\n",
       "      <td>대구광역시 수성구 대흥동 198-1</td>\n",
       "      <td>2018-10-21</td>\n",
       "      <td>스마트가로등</td>\n",
       "      <td>정상</td>\n",
       "      <td>35.838950</td>\n",
       "      <td>128.689200</td>\n",
       "    </tr>\n",
       "    <tr>\n",
       "      <th>4</th>\n",
       "      <td>SL-005</td>\n",
       "      <td>대구광역시 수성구 노변동 567</td>\n",
       "      <td>2018-10-21</td>\n",
       "      <td>스마트가로등</td>\n",
       "      <td>비정상</td>\n",
       "      <td>35.837050</td>\n",
       "      <td>128.694300</td>\n",
       "    </tr>\n",
       "    <tr>\n",
       "      <th>...</th>\n",
       "      <td>...</td>\n",
       "      <td>...</td>\n",
       "      <td>...</td>\n",
       "      <td>...</td>\n",
       "      <td>...</td>\n",
       "      <td>...</td>\n",
       "      <td>...</td>\n",
       "    </tr>\n",
       "    <tr>\n",
       "      <th>127</th>\n",
       "      <td>SW-038</td>\n",
       "      <td>운동시설</td>\n",
       "      <td>2018-10-21</td>\n",
       "      <td>스마트워킹</td>\n",
       "      <td>정상</td>\n",
       "      <td>35.833676</td>\n",
       "      <td>128.690031</td>\n",
       "    </tr>\n",
       "    <tr>\n",
       "      <th>128</th>\n",
       "      <td>SW-039</td>\n",
       "      <td>사이니지</td>\n",
       "      <td>2018-10-21</td>\n",
       "      <td>스마트워킹</td>\n",
       "      <td>정상</td>\n",
       "      <td>35.834599</td>\n",
       "      <td>128.686274</td>\n",
       "    </tr>\n",
       "    <tr>\n",
       "      <th>129</th>\n",
       "      <td>SW-040</td>\n",
       "      <td>플랫폼센터</td>\n",
       "      <td>2018-10-21</td>\n",
       "      <td>스마트워킹</td>\n",
       "      <td>정상</td>\n",
       "      <td>35.835525</td>\n",
       "      <td>128.681771</td>\n",
       "    </tr>\n",
       "    <tr>\n",
       "      <th>130</th>\n",
       "      <td>SW-041</td>\n",
       "      <td>카페도담도담</td>\n",
       "      <td>2018-10-21</td>\n",
       "      <td>스마트워킹</td>\n",
       "      <td>정상</td>\n",
       "      <td>35.835492</td>\n",
       "      <td>128.681356</td>\n",
       "    </tr>\n",
       "    <tr>\n",
       "      <th>131</th>\n",
       "      <td>ER-001</td>\n",
       "      <td>대구 수성구 알파시티3로</td>\n",
       "      <td>2018-11-07</td>\n",
       "      <td>전기차충전기</td>\n",
       "      <td>정상</td>\n",
       "      <td>35.834329</td>\n",
       "      <td>128.693359</td>\n",
       "    </tr>\n",
       "  </tbody>\n",
       "</table>\n",
       "<p>132 rows × 7 columns</p>\n",
       "</div>"
      ],
      "text/plain": [
       "        위치명                   주소         등록일   시설물구분 운영상태         위도  \\\n",
       "0    SL-001  대구광역시 수성구 시지동 430-1  2018-10-21  스마트가로등   정상  35.840740   \n",
       "1    SL-002    대구광역시 수성구 시지동 396  2018-10-21  스마트가로등  비정상  35.839370   \n",
       "2    SL-003  대구광역시 수성구 시지동 450-3  2018-10-21  스마트가로등   정상  35.839350   \n",
       "3    SL-004  대구광역시 수성구 대흥동 198-1  2018-10-21  스마트가로등   정상  35.838950   \n",
       "4    SL-005    대구광역시 수성구 노변동 567  2018-10-21  스마트가로등  비정상  35.837050   \n",
       "..      ...                  ...         ...     ...  ...        ...   \n",
       "127  SW-038                 운동시설  2018-10-21   스마트워킹   정상  35.833676   \n",
       "128  SW-039                 사이니지  2018-10-21   스마트워킹   정상  35.834599   \n",
       "129  SW-040                플랫폼센터  2018-10-21   스마트워킹   정상  35.835525   \n",
       "130  SW-041               카페도담도담  2018-10-21   스마트워킹   정상  35.835492   \n",
       "131  ER-001        대구 수성구 알파시티3로  2018-11-07  전기차충전기   정상  35.834329   \n",
       "\n",
       "             경도  \n",
       "0    128.692100  \n",
       "1    128.693200  \n",
       "2    128.690600  \n",
       "3    128.689200  \n",
       "4    128.694300  \n",
       "..          ...  \n",
       "127  128.690031  \n",
       "128  128.686274  \n",
       "129  128.681771  \n",
       "130  128.681356  \n",
       "131  128.693359  \n",
       "\n",
       "[132 rows x 7 columns]"
      ]
     },
     "execution_count": 107,
     "metadata": {},
     "output_type": "execute_result"
    }
   ],
   "source": [
    "df=df[['위치명', '주소',  '등록일', '시설물구분', '운영상태', '위도', '경도']]\n",
    "df"
   ]
  },
  {
   "cell_type": "markdown",
   "id": "cfa0f4f4",
   "metadata": {},
   "source": [
    "### 2-2. 데이터 클리닝"
   ]
  },
  {
   "cell_type": "code",
   "execution_count": 108,
   "id": "81050694",
   "metadata": {},
   "outputs": [],
   "source": [
    "# 결측치, 중복값, 이상치 처리등의 작업을 진행하세요"
   ]
  },
  {
   "cell_type": "markdown",
   "id": "94b01c03-879b-4b93-a375-5a88a7f3672a",
   "metadata": {},
   "source": [
    "* 결측치"
   ]
  },
  {
   "cell_type": "markdown",
   "id": "497a7431-81b3-42d2-84b5-0afde8e6c9c4",
   "metadata": {},
   "source": [
    "    - 결측치 열 확인"
   ]
  },
  {
   "cell_type": "code",
   "execution_count": 109,
   "id": "b0a70dec-f81b-46d8-b58c-73f81ce17493",
   "metadata": {},
   "outputs": [
    {
     "data": {
      "text/plain": [
       "Series([], dtype: bool)"
      ]
     },
     "execution_count": 109,
     "metadata": {},
     "output_type": "execute_result"
    }
   ],
   "source": [
    "missing_values = df.isnull().any()  \n",
    "column_missing_values = missing_values[ missing_values == True ]\n",
    "column_missing_values"
   ]
  },
  {
   "cell_type": "raw",
   "id": "ab96e2e8-2ecc-462b-8055-915bff513d34",
   "metadata": {},
   "source": [
    "   - 결측값이 있는 모든 행 확인"
   ]
  },
  {
   "cell_type": "code",
   "execution_count": 110,
   "id": "53aa6924-3c4f-4aad-91cf-2d09b459d59b",
   "metadata": {},
   "outputs": [],
   "source": [
    "# df.isnull().any(axis=1)"
   ]
  },
  {
   "cell_type": "markdown",
   "id": "b9cbf7a2-7aa7-4d87-86d8-b31476a77a01",
   "metadata": {},
   "source": [
    "* 결측치 보정"
   ]
  },
  {
   "cell_type": "raw",
   "id": "adbf1968-8d29-4baa-949e-d6394e19b81b",
   "metadata": {},
   "source": [
    "   - 열에 대하여 단일 값 보정     "
   ]
  },
  {
   "cell_type": "code",
   "execution_count": 111,
   "id": "0e6c6935-a8a6-4df0-bed5-8da8fd160ec2",
   "metadata": {},
   "outputs": [],
   "source": [
    "# df['나이'] = df['나이'].fillna(0)"
   ]
  },
  {
   "cell_type": "raw",
   "id": "367abb36-a09d-4f12-be6d-cd0bc685f452",
   "metadata": {},
   "source": [
    "   - 데이터 프레임 전체에 단일 값 보정  "
   ]
  },
  {
   "cell_type": "code",
   "execution_count": 112,
   "id": "437088df-6ab9-474d-9b3f-503b9f8e2476",
   "metadata": {},
   "outputs": [],
   "source": [
    "# df = df.fillna(0)"
   ]
  },
  {
   "cell_type": "markdown",
   "id": "6cb87513-ac6b-49cd-98bd-6ff427c5d759",
   "metadata": {},
   "source": [
    "* 중복값 삭제 (필요시)"
   ]
  },
  {
   "cell_type": "raw",
   "id": "4e12f2c7-add7-47b8-a986-376fc1f2634e",
   "metadata": {},
   "source": [
    "  - 모든 중복 행데이터 확인"
   ]
  },
  {
   "cell_type": "code",
   "execution_count": 113,
   "id": "ac25d769-3b20-49c2-9922-d939072d5dcb",
   "metadata": {},
   "outputs": [],
   "source": [
    "# df[df.duplicated(keep=False)]"
   ]
  },
  {
   "cell_type": "raw",
   "id": "e847b33e-f13a-47bd-af55-111bf56442b2",
   "metadata": {},
   "source": [
    "  - 모든 중복 행데이터 삭제"
   ]
  },
  {
   "cell_type": "code",
   "execution_count": 114,
   "id": "a352aa67-0634-483e-a41b-ba06c6cf51ab",
   "metadata": {},
   "outputs": [],
   "source": [
    "# df.drop_duplicates(inplace=True)"
   ]
  },
  {
   "cell_type": "markdown",
   "id": "9dac0879",
   "metadata": {},
   "source": [
    "## 3. 추가데이터 분석"
   ]
  },
  {
   "cell_type": "markdown",
   "id": "253f0cc0",
   "metadata": {},
   "source": [
    "### 3.1. 데이터 정제후 데이터스키마 재확인"
   ]
  },
  {
   "cell_type": "markdown",
   "id": "1812339b-9396-4195-833b-4be5a041d05d",
   "metadata": {},
   "source": [
    "* 1-2 작업을 다시 해보세요."
   ]
  },
  {
   "cell_type": "code",
   "execution_count": 115,
   "id": "13c5e423-89ae-4391-bac5-116daccb0147",
   "metadata": {},
   "outputs": [
    {
     "data": {
      "text/plain": [
       "(132, 7)"
      ]
     },
     "execution_count": 115,
     "metadata": {},
     "output_type": "execute_result"
    }
   ],
   "source": [
    "df.shape"
   ]
  },
  {
   "cell_type": "code",
   "execution_count": 116,
   "id": "eff2f0bc-20ff-4ab8-939d-0948467e6b84",
   "metadata": {},
   "outputs": [
    {
     "name": "stdout",
     "output_type": "stream",
     "text": [
      "<class 'pandas.core.frame.DataFrame'>\n",
      "RangeIndex: 132 entries, 0 to 131\n",
      "Data columns (total 7 columns):\n",
      " #   Column  Non-Null Count  Dtype  \n",
      "---  ------  --------------  -----  \n",
      " 0   위치명     132 non-null    object \n",
      " 1   주소      132 non-null    object \n",
      " 2   등록일     132 non-null    object \n",
      " 3   시설물구분   132 non-null    object \n",
      " 4   운영상태    132 non-null    object \n",
      " 5   위도      132 non-null    float64\n",
      " 6   경도      132 non-null    float64\n",
      "dtypes: float64(2), object(5)\n",
      "memory usage: 7.3+ KB\n"
     ]
    }
   ],
   "source": [
    "df.info()"
   ]
  },
  {
   "cell_type": "code",
   "execution_count": 117,
   "id": "28052bcd-daab-4edc-90c3-16f268ebd2f4",
   "metadata": {},
   "outputs": [
    {
     "data": {
      "text/html": [
       "<div>\n",
       "<style scoped>\n",
       "    .dataframe tbody tr th:only-of-type {\n",
       "        vertical-align: middle;\n",
       "    }\n",
       "\n",
       "    .dataframe tbody tr th {\n",
       "        vertical-align: top;\n",
       "    }\n",
       "\n",
       "    .dataframe thead th {\n",
       "        text-align: right;\n",
       "    }\n",
       "</style>\n",
       "<table border=\"1\" class=\"dataframe\">\n",
       "  <thead>\n",
       "    <tr style=\"text-align: right;\">\n",
       "      <th></th>\n",
       "      <th>위치명</th>\n",
       "      <th>주소</th>\n",
       "      <th>등록일</th>\n",
       "      <th>시설물구분</th>\n",
       "      <th>운영상태</th>\n",
       "      <th>위도</th>\n",
       "      <th>경도</th>\n",
       "    </tr>\n",
       "  </thead>\n",
       "  <tbody>\n",
       "    <tr>\n",
       "      <th>0</th>\n",
       "      <td>SL-001</td>\n",
       "      <td>대구광역시 수성구 시지동 430-1</td>\n",
       "      <td>2018-10-21</td>\n",
       "      <td>스마트가로등</td>\n",
       "      <td>정상</td>\n",
       "      <td>35.84074</td>\n",
       "      <td>128.6921</td>\n",
       "    </tr>\n",
       "    <tr>\n",
       "      <th>1</th>\n",
       "      <td>SL-002</td>\n",
       "      <td>대구광역시 수성구 시지동 396</td>\n",
       "      <td>2018-10-21</td>\n",
       "      <td>스마트가로등</td>\n",
       "      <td>비정상</td>\n",
       "      <td>35.83937</td>\n",
       "      <td>128.6932</td>\n",
       "    </tr>\n",
       "    <tr>\n",
       "      <th>2</th>\n",
       "      <td>SL-003</td>\n",
       "      <td>대구광역시 수성구 시지동 450-3</td>\n",
       "      <td>2018-10-21</td>\n",
       "      <td>스마트가로등</td>\n",
       "      <td>정상</td>\n",
       "      <td>35.83935</td>\n",
       "      <td>128.6906</td>\n",
       "    </tr>\n",
       "    <tr>\n",
       "      <th>3</th>\n",
       "      <td>SL-004</td>\n",
       "      <td>대구광역시 수성구 대흥동 198-1</td>\n",
       "      <td>2018-10-21</td>\n",
       "      <td>스마트가로등</td>\n",
       "      <td>정상</td>\n",
       "      <td>35.83895</td>\n",
       "      <td>128.6892</td>\n",
       "    </tr>\n",
       "    <tr>\n",
       "      <th>4</th>\n",
       "      <td>SL-005</td>\n",
       "      <td>대구광역시 수성구 노변동 567</td>\n",
       "      <td>2018-10-21</td>\n",
       "      <td>스마트가로등</td>\n",
       "      <td>비정상</td>\n",
       "      <td>35.83705</td>\n",
       "      <td>128.6943</td>\n",
       "    </tr>\n",
       "  </tbody>\n",
       "</table>\n",
       "</div>"
      ],
      "text/plain": [
       "      위치명                   주소         등록일   시설물구분 운영상태        위도        경도\n",
       "0  SL-001  대구광역시 수성구 시지동 430-1  2018-10-21  스마트가로등   정상  35.84074  128.6921\n",
       "1  SL-002    대구광역시 수성구 시지동 396  2018-10-21  스마트가로등  비정상  35.83937  128.6932\n",
       "2  SL-003  대구광역시 수성구 시지동 450-3  2018-10-21  스마트가로등   정상  35.83935  128.6906\n",
       "3  SL-004  대구광역시 수성구 대흥동 198-1  2018-10-21  스마트가로등   정상  35.83895  128.6892\n",
       "4  SL-005    대구광역시 수성구 노변동 567  2018-10-21  스마트가로등  비정상  35.83705  128.6943"
      ]
     },
     "execution_count": 117,
     "metadata": {},
     "output_type": "execute_result"
    }
   ],
   "source": [
    "df.head()"
   ]
  },
  {
   "cell_type": "code",
   "execution_count": 159,
   "id": "f8fce618-eec3-4690-86e9-cdaf2a8695ee",
   "metadata": {},
   "outputs": [
    {
     "data": {
      "text/html": [
       "<div>\n",
       "<style scoped>\n",
       "    .dataframe tbody tr th:only-of-type {\n",
       "        vertical-align: middle;\n",
       "    }\n",
       "\n",
       "    .dataframe tbody tr th {\n",
       "        vertical-align: top;\n",
       "    }\n",
       "\n",
       "    .dataframe thead th {\n",
       "        text-align: right;\n",
       "    }\n",
       "</style>\n",
       "<table border=\"1\" class=\"dataframe\">\n",
       "  <thead>\n",
       "    <tr style=\"text-align: right;\">\n",
       "      <th></th>\n",
       "      <th>시설물구분</th>\n",
       "      <th>위도</th>\n",
       "      <th>경도</th>\n",
       "      <th>운영상태</th>\n",
       "    </tr>\n",
       "  </thead>\n",
       "  <tbody>\n",
       "    <tr>\n",
       "      <th>0</th>\n",
       "      <td>스마트가로등</td>\n",
       "      <td>35.84074</td>\n",
       "      <td>128.6921</td>\n",
       "      <td>정상</td>\n",
       "    </tr>\n",
       "    <tr>\n",
       "      <th>1</th>\n",
       "      <td>스마트가로등</td>\n",
       "      <td>35.83937</td>\n",
       "      <td>128.6932</td>\n",
       "      <td>비정상</td>\n",
       "    </tr>\n",
       "    <tr>\n",
       "      <th>2</th>\n",
       "      <td>스마트가로등</td>\n",
       "      <td>35.83935</td>\n",
       "      <td>128.6906</td>\n",
       "      <td>정상</td>\n",
       "    </tr>\n",
       "    <tr>\n",
       "      <th>3</th>\n",
       "      <td>스마트가로등</td>\n",
       "      <td>35.83895</td>\n",
       "      <td>128.6892</td>\n",
       "      <td>정상</td>\n",
       "    </tr>\n",
       "    <tr>\n",
       "      <th>4</th>\n",
       "      <td>스마트가로등</td>\n",
       "      <td>35.83705</td>\n",
       "      <td>128.6943</td>\n",
       "      <td>비정상</td>\n",
       "    </tr>\n",
       "  </tbody>\n",
       "</table>\n",
       "</div>"
      ],
      "text/plain": [
       "    시설물구분        위도        경도 운영상태\n",
       "0  스마트가로등  35.84074  128.6921   정상\n",
       "1  스마트가로등  35.83937  128.6932  비정상\n",
       "2  스마트가로등  35.83935  128.6906   정상\n",
       "3  스마트가로등  35.83895  128.6892   정상\n",
       "4  스마트가로등  35.83705  128.6943  비정상"
      ]
     },
     "execution_count": 159,
     "metadata": {},
     "output_type": "execute_result"
    }
   ],
   "source": [
    "df_2 = df[['시설물구분', '위도', '경도', '운영상태']]\n",
    "df_2.head()"
   ]
  },
  {
   "cell_type": "markdown",
   "id": "8a244e0a",
   "metadata": {},
   "source": [
    "### 3.2 데이터 기초정보 정보 확인"
   ]
  },
  {
   "cell_type": "markdown",
   "id": "3361d7b0-6b2c-493e-a6f8-20bcb153b912",
   "metadata": {},
   "source": [
    "* 최대값, 최소값, 평균값, 표준편차, 최빈값, 유일값, 결측치, 이상치 등의 정보를 재확인해 보세요"
   ]
  },
  {
   "cell_type": "markdown",
   "id": "e73d61a5",
   "metadata": {},
   "source": [
    "### 3.3 시각화를 통한 데이터이해 심화"
   ]
  },
  {
   "cell_type": "code",
   "execution_count": 160,
   "id": "71b93a56-fc8f-497b-a19d-fcb14e6304dc",
   "metadata": {},
   "outputs": [],
   "source": [
    "import seaborn as sns"
   ]
  },
  {
   "cell_type": "code",
   "execution_count": 161,
   "id": "e1ebf16a-7839-4666-864d-0a7c30debae3",
   "metadata": {},
   "outputs": [
    {
     "data": {
      "text/plain": [
       "시설물구분\n",
       "스마트워킹       41\n",
       "지능형도보안전     28\n",
       "스마트가로등      18\n",
       "주정차무인관제     12\n",
       "생활안전CCTV    11\n",
       "디지털사이니지     10\n",
       "불법주정차        5\n",
       "차량번호인식       2\n",
       "도로위험정보       2\n",
       "전기차충전기       2\n",
       "미디어월         1\n",
       "Name: count, dtype: int64"
      ]
     },
     "execution_count": 161,
     "metadata": {},
     "output_type": "execute_result"
    }
   ],
   "source": [
    "df_2['시설물구분'].value_counts()"
   ]
  },
  {
   "cell_type": "code",
   "execution_count": 162,
   "id": "a05590ca-d214-4ac5-ac58-628775c1fd82",
   "metadata": {},
   "outputs": [
    {
     "data": {
      "text/plain": [
       "운영상태\n",
       "정상     125\n",
       "비정상      7\n",
       "Name: count, dtype: int64"
      ]
     },
     "execution_count": 162,
     "metadata": {},
     "output_type": "execute_result"
    }
   ],
   "source": [
    "df_2['운영상태'].value_counts()"
   ]
  },
  {
   "cell_type": "code",
   "execution_count": 158,
   "id": "acd76ae5-e3c2-4136-88f4-6b74a85b64eb",
   "metadata": {},
   "outputs": [
    {
     "name": "stderr",
     "output_type": "stream",
     "text": [
      "C:\\Users\\user\\anaconda3\\Lib\\site-packages\\seaborn\\_oldcore.py:1119: FutureWarning: use_inf_as_na option is deprecated and will be removed in a future version. Convert inf values to NaN before operating instead.\n",
      "  with pd.option_context('mode.use_inf_as_na', True):\n"
     ]
    },
    {
     "data": {
      "image/png": "[encoded data removed]",
      "text/plain": [
       "<Figure size 640x480 with 1 Axes>"
      ]
     },
     "metadata": {},
     "output_type": "display_data"
    }
   ],
   "source": [
    "sns.histplot(data=df_2,x='시설물구분', hue='운영상태')\n",
    "plt.xticks(rotation=80)\n",
    "plt.show()"
   ]
  },
  {
   "cell_type": "markdown",
   "id": "5de7dac1-31b5-4138-a9a6-33fbbde9caac",
   "metadata": {},
   "source": [
    "* 데이터의 성격에 따라 이해도를 올리기 위해 시각화가 필요한 데이터차트를 만들어 보세요.  \n",
    "\n",
    "* 시각화한 차트에 대한 분석"
   ]
  },
  {
   "cell_type": "code",
   "execution_count": null,
   "id": "de047219-2a3f-4678-a497-c092c7e72020",
   "metadata": {},
   "outputs": [],
   "source": [
    "import folium\n",
    "from folium.plugins import MarkerCluster # 클러스터를 표현하기 위한 모듈"
   ]
  },
  {
   "cell_type": "code",
   "execution_count": null,
   "id": "adab4d15-e579-4d69-9af2-9fad8548a825",
   "metadata": {},
   "outputs": [],
   "source": [
    "# 대구디지털혁신진흥원\n",
    "# 위도\n",
    "latitude = 35.835303\n",
    "# 경도\n",
    "longitude = 128.6815665\n",
    "\n",
    "m = folium.Map(location=[latitude, longitude],\n",
    "               zoom_start=14, \n",
    "               width=750, \n",
    "               height=650,\n",
    "              )\n",
    "folium.Marker([latitude, longitude],\n",
    "              tooltip=\"대구디지털혁신진흥원\",\n",
    "              icon=folium.Icon('red', icon='star'),\n",
    "              ).add_to(m)\n",
    "m"
   ]
  },
  {
   "cell_type": "code",
   "execution_count": null,
   "id": "4114fa8a-8394-41cc-8399-ce40f873fc0d",
   "metadata": {},
   "outputs": [],
   "source": [
    "from folium import Marker"
   ]
  },
  {
   "cell_type": "code",
   "execution_count": null,
   "id": "9233b7c9-b9bc-412b-bc2f-628bddd0742f",
   "metadata": {},
   "outputs": [],
   "source": [
    "for facility, lat, lng, o_state in zip(df['시설물구분'],df2['위도'],df2['경도'],df2['운영상태']):\n",
    "    Marker(location =[lat,lng],\n",
    "           popup=o_state,\n",
    "           tooltip=facility,\n",
    "           icon=folium.Icon(color='blue',icon='bookmark')\n",
    "           ).add_to(m)\n",
    "m"
   ]
  },
  {
   "cell_type": "markdown",
   "id": "f4fa4f46-073f-4c62-b4ae-54ade39c5251",
   "metadata": {},
   "source": [
    "### 3.4 최종 데이터 분석 결과도출"
   ]
  },
  {
   "cell_type": "markdown",
   "id": "477f095f-e884-4326-af1f-ebea049c3546",
   "metadata": {},
   "source": [
    "* 데이터 분석을 통해 얻은 새로운 지식, 인사이트를 정리하세요.\n",
    "* 새로운 지식 및 인사이트 별 비지니스 전략을 도출할 수 있으면 정리해 보세요"
   ]
  },
  {
   "cell_type": "raw",
   "id": "942d11f0-068e-46b3-a188-28c30e4c1f3d",
   "metadata": {},
   "source": [
    "* 수성알파시티 스마트시티 조성사업은 1단계 기반구축(플랫폼 및 13개 서비스)과 2단계 대구스마트시티센터 건립으로 나뉩니다.\n",
    "1단계 기반구축으로 \n",
    "교통(5):\t자율주행, 지능형도보안전시스템, 교통정보제공, 도로위험 정보제공, 불법주정차단속CCTV\n",
    "에너지(1):  전기차 충전기\n",
    "생활편익(3):\t스마트미디어월, 디지털사이니지, 스마트워킹서비스\n",
    "안전(3): \t스마트가로등, 생활안전CCTV, 차량번호인식CCTV\n",
    "기반시설관리(1): 지하매설물 관리시스템\n",
    "가 있습니다. \n",
    "1단계 사업의 결과로 세워진 시설물들을 분석해 보았습니다. 자율주행, 지하매설물 관리시스템은 빠진 11개 시설물에 대한 정보입니다.\n",
    "    - 지능형도보안전시스템: 학교주변 횡단보도 등에 바닥신호등 및 과속경보시스템을 구축하여 어린이를 위한 안전하고 편안한 보행환경 제공\n",
    "                   => (바닥신호등 3개소, 차량과속정보 10개소)\n",
    "    - 디지털사이니지: 날씨, 시정소식, 행사·관광정보 등 다양한 정보 표출\n",
    "               => 55인치 고해상도 스마트 스크린\n",
    "    - 도로위험 정보제공: 도로 위의 사고, 적치물 낙하 등 돌발상황 정보를 교통정보제공시스템을 통해 제공\n",
    "    - 불법주정차: 주차, 정차로 인한 교통사고 및 교통체증을 예방하기 위한 CCTV 기반 불법 주정차 단속\n",
    "    - 스마트 워킹: 수성의료지구 내에 걷기 코스가 조성된 주요지점에 비콘을 부착해\n",
    "                 시민들의 이용에 따른 자동 거리 계산, 스마트폰을 활용한 운동량체크,\n",
    "                 개인 칼로리 등 계산과 실적누적 포인트 제공으로\n",
    "                 간편하고 효과적인 시민 건강을 증진 시스템 입니다.\n",
    "[출처] 대구 수성알파시티 스마트서비스 - Smart Living (스마트워킹)|작성자 대구 스마트도시\n",
    "스마트워킹, 지능형도보안전, 스마트가로등 순으로 \n",
    "스마트 워킹 이용으로 쌓은 포\n"
   ]
  }
 ],
 "metadata": {
  "kernelspec": {
   "display_name": "Python 3 (ipykernel)",
   "language": "python",
   "name": "python3"
  },
  "language_info": {
   "codemirror_mode": {
    "name": "ipython",
    "version": 3
   },
   "file_extension": ".py",
   "mimetype": "text/x-python",
   "name": "python",
   "nbconvert_exporter": "python",
   "pygments_lexer": "ipython3",
   "version": "3.11.7"
  }
 },
 "nbformat": 4,
 "nbformat_minor": 5
}
