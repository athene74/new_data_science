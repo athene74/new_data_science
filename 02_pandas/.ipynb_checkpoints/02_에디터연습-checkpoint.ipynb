{
 "cells": [
  {
   "cell_type": "markdown",
   "id": "d2af0c51-c863-4def-bdad-a608fb97b4b7",
   "metadata": {},
   "source": [
    "### 파이썬 코드 연습"
   ]
  },
  {
   "cell_type": "markdown",
   "id": "698b14c1-ba82-4c8b-a968-93704bec1eb5",
   "metadata": {},
   "source": [
    "### 입력 모드"
   ]
  },
  {
   "cell_type": "code",
   "execution_count": 8,
   "id": "0c2a9892-8f83-4e1c-b6dc-de61e4754fd4",
   "metadata": {},
   "outputs": [],
   "source": [
    "num1 = 100  \n",
    "num2 = 200  \n",
    "# 셀에서 Esc를 입력하기 전까지는 계속 하나의 셀에 입력(편집) 모드로 진행"
   ]
  },
  {
   "cell_type": "markdown",
   "id": "b6e83300-764c-4e8b-9ea4-6f1af9e14371",
   "metadata": {},
   "source": [
    "+ 주피터에서는 point  함수를 사용하지 않아도 변수 또는 표현식의 값을 바로 확인 가능하다"
   ]
  },
  {
   "cell_type": "code",
   "execution_count": 9,
   "id": "e629fb4f-870d-432b-a8a6-aa707fcbc2a1",
   "metadata": {},
   "outputs": [
    {
     "data": {
      "text/plain": [
       "100"
      ]
     },
     "execution_count": 9,
     "metadata": {},
     "output_type": "execute_result"
    }
   ],
   "source": [
    "num1"
   ]
  },
  {
   "cell_type": "code",
   "execution_count": 10,
   "id": "caaef4be-b16c-42ce-808b-9699115568a6",
   "metadata": {},
   "outputs": [
    {
     "data": {
      "text/plain": [
       "200"
      ]
     },
     "execution_count": 10,
     "metadata": {},
     "output_type": "execute_result"
    }
   ],
   "source": [
    "num2"
   ]
  },
  {
   "cell_type": "code",
   "execution_count": 11,
   "id": "a58230dd-3d6c-4c2f-8c89-cbd3cfdc9905",
   "metadata": {},
   "outputs": [
    {
     "data": {
      "text/plain": [
       "300"
      ]
     },
     "execution_count": 11,
     "metadata": {},
     "output_type": "execute_result"
    }
   ],
   "source": [
    "num1+num2"
   ]
  },
  {
   "cell_type": "markdown",
   "id": "49dc95e6-ece5-4863-b67d-64d0040c65ff",
   "metadata": {},
   "source": [
    "# 자동완성"
   ]
  },
  {
   "cell_type": "code",
   "execution_count": 12,
   "id": "3731c111-21e6-4818-a16a-1d51d775aac5",
   "metadata": {},
   "outputs": [],
   "source": [
    "my_loooooooooooooooooooooooooooooooooooooooooong_variable = 100"
   ]
  },
  {
   "cell_type": "code",
   "execution_count": 13,
   "id": "f3d3ac4e-64c6-4da6-a677-e8f9a60e2d95",
   "metadata": {},
   "outputs": [
    {
     "data": {
      "text/plain": [
       "100"
      ]
     },
     "execution_count": 13,
     "metadata": {},
     "output_type": "execute_result"
    }
   ],
   "source": [
    "# 자동완성을 하려면 Tab 키 입력\n",
    "my_loooooooooooooooooooooooooooooooooooooooooong_variable"
   ]
  },
  {
   "cell_type": "code",
   "execution_count": 14,
   "id": "26b2168b-cf9a-4b08-9881-4a15102d2f10",
   "metadata": {},
   "outputs": [
    {
     "data": {
      "text/plain": [
       "200"
      ]
     },
     "execution_count": 14,
     "metadata": {},
     "output_type": "execute_result"
    }
   ],
   "source": [
    "# 최신버전에서는 단일 셀에도 적용 가능\n",
    "your_loooooooooooooooooooooooooooooooooooooooooong_variable = 200\n",
    "your_loooooooooooooooooooooooooooooooooooooooooong_variable"
   ]
  },
  {
   "cell_type": "markdown",
   "id": "db41c2ef-d4da-42f5-b3ad-a0464e0f2978",
   "metadata": {},
   "source": [
    "# 명령모드"
   ]
  },
  {
   "cell_type": "raw",
   "id": "550cc389-e32e-4bca-a060-fc517d5bdd6e",
   "metadata": {},
   "source": [
    "입력(편집)모드에서 ESC를 선택하게 되면 명령 모드로 전환이 된다.\n",
    "* 화상표 위,아래 방향키: 위,아래로 이동\n",
    "* k,j:위,아래로 이동\n",
    "* a: 현재 셀에서 윗 라인에 셀 추가\n",
    "* b: 현재 셀에서 다음 라인에 셀 추가\n",
    "* dd: 현재 셀을 삭제하고 다음 라인으로 이동"
   ]
  },
  {
   "cell_type": "raw",
   "id": "f4cba008-237c-4454-889f-177ea633a3f1",
   "metadata": {},
   "source": [
    "입력(편집)모드에서 ESC를 선택하게 되면 명령 모드로 전환이 된다.\n",
    "* 화상표 위,아래 방향키: 위,아래로 이동\n",
    "* k,j:위,아래로 이동\n",
    "* a: 현재 셀에서 윗 라인에 셀 추가\n",
    "* b: 현재 셀에서 다음 라인에 셀 추가\n",
    "* dd: 현재 셀을 삭제하고 다음 라인으로 이동"
   ]
  },
  {
   "cell_type": "raw",
   "id": "32ca9088-45a7-4a0c-bf71-c546c1ec6010",
   "metadata": {},
   "source": [
    "# 명령모드, 입력(편집)모드에서 모두 사용할 수 있는 단축키\n",
    "* Ctrl + Enter: 셀 실행\n",
    "* Shift + Enter: 실행 후 다음행으로 이동\n",
    "* Alt + Enter: 셀 실행하고 아래에 새 셀 추가\n",
    "* Ctrl + S: 저장"
   ]
  },
  {
   "cell_type": "code",
   "execution_count": 18,
   "id": "17693662-625a-4500-8e91-c235ddff7e37",
   "metadata": {},
   "outputs": [],
   "source": [
    "num1 = 1"
   ]
  },
  {
   "cell_type": "code",
   "execution_count": 19,
   "id": "6992a05b-bd1d-42cb-bde7-9e1e8e9bead2",
   "metadata": {},
   "outputs": [],
   "source": [
    "num2 = 2"
   ]
  },
  {
   "cell_type": "code",
   "execution_count": 20,
   "id": "aa20ba74-8e0d-4fcd-a632-c26b0cea7ef9",
   "metadata": {},
   "outputs": [
    {
     "data": {
      "text/plain": [
       "3"
      ]
     },
     "execution_count": 20,
     "metadata": {},
     "output_type": "execute_result"
    }
   ],
   "source": [
    "num1+num2"
   ]
  }
 ],
 "metadata": {
  "kernelspec": {
   "display_name": "Python 3 (ipykernel)",
   "language": "python",
   "name": "python3"
  },
  "language_info": {
   "codemirror_mode": {
    "name": "ipython",
    "version": 3
   },
   "file_extension": ".py",
   "mimetype": "text/x-python",
   "name": "python",
   "nbconvert_exporter": "python",
   "pygments_lexer": "ipython3",
   "version": "3.11.7"
  }
 },
 "nbformat": 4,
 "nbformat_minor": 5
}
