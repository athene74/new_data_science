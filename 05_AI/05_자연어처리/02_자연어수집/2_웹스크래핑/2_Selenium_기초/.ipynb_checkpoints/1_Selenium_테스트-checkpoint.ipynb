{
 "cells": [
  {
   "cell_type": "markdown",
   "id": "4cff157e",
   "metadata": {},
   "source": [
    "# Selenium 활용 목적"
   ]
  },
  {
   "cell_type": "markdown",
   "id": "9b7b419c",
   "metadata": {},
   "source": [
    "* BeautifulSoup등을 활용한 전통적인 웹스크래핑 기술로 접근 불가능한 아래 데이터에 대한 접근 가능\n",
    "    * JavaScript로 동적으로 생성되는 HTML 코드\n",
    "    * HTML의 요소간 여러번의 클릭을 해야 조회되는 HTML 요소"
   ]
  },
  {
   "cell_type": "markdown",
   "id": "8718cf3a-0d45-46ee-a500-35e0284bef4f",
   "metadata": {},
   "source": [
    "# request객체로만 접근하여 수집데이터가 누락 되는 경우"
   ]
  },
  {
   "cell_type": "code",
   "execution_count": 1,
   "id": "a9e26fe9-ad96-4f0b-93c2-67596a479611",
   "metadata": {},
   "outputs": [
    {
     "data": {
      "text/plain": [
       "\n",
       "<!DOCTYPE html>\n",
       "\n",
       "<html class=\"os_mac\" lang=\"ko\"><head>\n",
       "<meta content=\"text/html; charset=utf-8\" http-equiv=\"Content-Type\"/>\n",
       "<meta content=\"IE=edge\" http-equiv=\"X-UA-Compatible\"/>\n",
       "<meta content=\"다음금융\" property=\"og:site_name\"/>\n",
       "<meta content=\"https://t1.daumcdn.net/media/finance_og.png\" property=\"og:image\"/>\n",
       "<link href=\"https://t1.daumcdn.net/top/favicon.ico\" rel=\"shortcut icon\"/>\n",
       "<title>국내증시 | 다음 금융</title>\n",
       "<link href=\"https://t1.daumcdn.net/media/kraken/finance/resources/dist/240814195527/commonCSSBundle.merged.css\" rel=\"stylesheet\" type=\"text/css\">\n",
       "<script src=\"https://t1.daumcdn.net/media/kraken/finance/resources/dist/240814195527/pcFramework.merged.js\"></script>\n",
       "<script>\n",
       "\twindow.REQUEST_URI = '/domestic';\n",
       "\twindow.CURRENT_URL = encodeURIComponent(\n",
       "\t\t\"\".concat(\n",
       "\t\t\twindow.location.protocol,\n",
       "\t\t\t\"//\",\n",
       "\t\t\twindow.location.host,\n",
       "\t\t\twindow.location.pathname,\n",
       "\t\t\twindow.location.search\n",
       "\t\t)\n",
       "\t);\n",
       "\n",
       "\twindow.FINANCE = {};\n",
       "\twindow.FINANCE.API_URL = '';\n",
       "\twindow.FINANCE._PERIOD = '';\n",
       "\twindow.FINANCE.DAUM_NEWS_HOST = 'https://v.daum.net/v';\n",
       "\twindow.FINANCE.BOARD_HOST = 'https://board2.finance.daum.net';\n",
       "\twindow.FINANCE.WISE_FN_HOST = 'https://wisefn.finance.daum.net/v1';\n",
       "</script>\n",
       "<script src=\"https://t1.daumcdn.net/tiara/js/v1/tiara.min.js\" type=\"text/javascript\"></script>\n",
       "</link></head>\n",
       "<body class=\"finance\">\n",
       "<div id=\"wrap\">\n",
       "<div id=\"kakaoWrap\">\n",
       "<div id=\"wrapMinidaum\"></div>\n",
       "</div>\n",
       "<script src=\"https://t1.daumcdn.net/media/kraken/finance/resources/dist/240814195527/miniDaum.merged.js\"></script>\n",
       "<div class=\"header\">\n",
       "<div class=\"head_media f_clear\">\n",
       "<h1><a class=\"#gnb #default #service_finance\" href=\"/\" id=\"kakaoServiceLogo\"><span class=\"ir_wa\">금융</span></a></h1>\n",
       "<strong class=\"screen_out\">관련서비스</strong>\n",
       "<ul class=\"kakaoRelServices\">\n",
       "<li><a href=\"http://realestate.daum.net\"><span class=\"ir_wa\">부동산</span></a></li>\n",
       "</ul>\n",
       "<h2 class=\"screen_out\">검색</h2>\n",
       "<div class=\"search_news\" id=\"boxSearch\"></div>\n",
       "<script src=\"https://t1.daumcdn.net/media/kraken/finance/resources/dist/240814195527/searchBundle.merged.js\"></script>\n",
       "</div>\n",
       "<div id=\"kakaoGnb\" role=\"navigation\">\n",
       "<div class=\"inner_gnb\">\n",
       "<h2 class=\"screen_out\">금융 메인메뉴</h2>\n",
       "<ul class=\"gnb_comm\">\n",
       "<li class=\"\">\n",
       "<a class=\"link_gnb link_gnb1\" href=\"/\">\n",
       "<span class=\"screen_out\">선택됨</span>\n",
       "<span class=\"ir_wa\">홈</span>\n",
       "<span class=\"bar_gnb\"><span class=\"inner_bar\"></span></span>\n",
       "</a>\n",
       "</li>\n",
       "<li class=\"on\">\n",
       "<a class=\"link_gnb link_gnb2\" href=\"/domestic\">\n",
       "<span class=\"ir_wa\">국내</span>\n",
       "<span class=\"bar_gnb\"><span class=\"inner_bar\"></span></span>\n",
       "</a>\n",
       "</li>\n",
       "<li class=\"\">\n",
       "<a class=\"link_gnb link_gnb3\" href=\"/global\">\n",
       "<span class=\"ir_wa\">해외</span>\n",
       "<span class=\"bar_gnb\"><span class=\"inner_bar\"></span></span>\n",
       "</a>\n",
       "</li>\n",
       "<li class=\"\">\n",
       "<a class=\"link_gnb link_gnb4\" href=\"/news\">\n",
       "<span class=\"ir_wa\">뉴스</span>\n",
       "<span class=\"bar_gnb\"><span class=\"inner_bar\"></span></span>\n",
       "</a>\n",
       "</li>\n",
       "<li class=\"\">\n",
       "<a class=\"link_gnb link_gnb5\" href=\"/investment\">\n",
       "<span class=\"ir_wa\">투자정보</span>\n",
       "<span class=\"bar_gnb\"><span class=\"inner_bar\"></span></span>\n",
       "</a>\n",
       "</li>\n",
       "<li class=\"\">\n",
       "<a class=\"link_gnb link_gnb6\" href=\"/talks\">\n",
       "<span class=\"ir_wa\">종목토론</span>\n",
       "<span class=\"bar_gnb\"><span class=\"inner_bar\"></span></span>\n",
       "</a>\n",
       "</li>\n",
       "<li class=\"\">\n",
       "<a class=\"link_gnb link_gnb8\" href=\"/my\">\n",
       "<span class=\"ir_wa\">MY</span>\n",
       "<span class=\"bar_gnb\"><span class=\"inner_bar\"></span></span>\n",
       "</a>\n",
       "</li>\n",
       "</ul>\n",
       "<div class=\"gnb_etc\">\n",
       "<ul class=\"gnb_with\">\n",
       "<li class=\"\">\n",
       "<a class=\"link_gnb link_gnb1\" href=\"/exchanges\">\n",
       "<span class=\"ir_wa\">환율</span>\n",
       "<span class=\"bar_gnb\"><span class=\"inner_bar\"></span></span>\n",
       "</a>\n",
       "</li>\n",
       "</ul>\n",
       "</div>\n",
       "</div>\n",
       "</div>\n",
       "</div>\n",
       "<div id=\"notice\"></div>\n",
       "<div class=\"contents\">\n",
       "<div class=\"SNB\" id=\"boxSidebar\"> </div>\n",
       "<div class=\"inner\" id=\"boxApp\">\n",
       "<div class=\"topBox\" id=\"boxDashboard\"></div>\n",
       "<div class=\"leftW\">\n",
       "<div class=\"tableB half mr\" id=\"boxSectorsPriceChange\"></div>\n",
       "<div class=\"tableB half\" id=\"boxUpDownItems\"></div>\n",
       "<div class=\"tableB half mr mb\" id=\"boxForeignNetFlow\"></div>\n",
       "<div class=\"tableB half mb\" id=\"boxInstitutionNetFlow\"></div>\n",
       "<div class=\"AdvertB borderB mb40\" id=\"boxSponsor\"></div>\n",
       "<div class=\"tableB\" id=\"boxMarketTrend\"></div>\n",
       "</div>\n",
       "<div class=\"rightW\" id=\"boxRightSidebar\"></div>\n",
       "</div>\n",
       "</div>\n",
       "<script src=\"https://t1.daumcdn.net/media/kraken/finance/resources/dist/240814195527/domesticIndexBundle.merged.js\"></script>\n",
       "<div class=\"footer\">\n",
       "<span>\n",
       "<div class=\"fl\">\n",
       "<ul>\n",
       "<li><a href=\"http://policy.daum.net/info/info\" target=\"_blank\" title=\"서비스 약관/정책\">서비스 약관/정책</a></li>\n",
       "<li><a href=\"http://cs.daum.net/faq/19.html\" target=\"_blank\" title=\"금융 고객센터\">금융 고객센터</a></li>\n",
       "<li><a href=\"https://cs.daum.net/question/19.html\" target=\"_blank\" title=\"금융 문의하기\">금융 문의하기</a></li>\n",
       "</ul>\n",
       "<p>카카오가 제공하는 증권정보는 단순히 정보의 제공을 목적으로 하고 있으며, 사이트에서 제공되는 정보는 오류 및 지연이<br/>발생될 수 있습니다. 제공된 정보이용에 따르는 책임은 이용자 본인에게 있으며, 카카오는 이용자의 투자결과에 따른<br/>법적 책임을 지지 않습니다.</p>\n",
       "</div>\n",
       "<div class=\"fr\">\n",
       "<p>위 내용에 대한 저작권 및 법적 책임은 자료제공사 또는<br/>글쓴이에 있으며 카카오의 입장과 다를 수 있습니다.</p>\n",
       "<p>Copyright (C) Kakao Corp. All rights reserved.</p>\n",
       "</div>\n",
       "</span>\n",
       "</div>\n",
       "<script>\n",
       "\t\t\twindow._IS_LOGGED = false;\n",
       "\t\t</script>\n",
       "<script>\n",
       "\twindow._TIARA_OPTIONS = {\n",
       "\t\tsection: '국내',\n",
       "\t\tpage: '국내'\n",
       "\t}\n",
       "</script>\n",
       "<script src=\"https://t1.daumcdn.net/media/kraken/finance/resources/dist/240814195527/tiara.merged.js\"></script>\n",
       "</div>\n",
       "</body>\n",
       "</html>"
      ]
     },
     "execution_count": 1,
     "metadata": {},
     "output_type": "execute_result"
    }
   ],
   "source": [
    "from bs4 import BeautifulSoup\n",
    "import urllib.request\n",
    "url = 'https://finance.daum.net/domestic'\n",
    "html = urllib.request.urlopen(url)\n",
    "soup_old = BeautifulSoup(html, 'html.parser')\n",
    "soup_old"
   ]
  },
  {
   "cell_type": "markdown",
   "id": "05225bc2-b731-43d3-a90f-9f175c9d0b7a",
   "metadata": {},
   "source": [
    "* 중간 결론  \n",
    " 실제 데이터를 포함하고 있지 않다."
   ]
  },
  {
   "cell_type": "markdown",
   "id": "cd607caa-5be7-45b3-9c32-5418af5fd3a8",
   "metadata": {},
   "source": [
    "# 셀레니엄 활용시 결과 비교"
   ]
  },
  {
   "cell_type": "code",
   "execution_count": 2,
   "id": "956c8e16",
   "metadata": {},
   "outputs": [
    {
     "ename": "ModuleNotFoundError",
     "evalue": "No module named 'webdriver_manager'",
     "output_type": "error",
     "traceback": [
      "\u001b[1;31m---------------------------------------------------------------------------\u001b[0m",
      "\u001b[1;31mModuleNotFoundError\u001b[0m                       Traceback (most recent call last)",
      "Cell \u001b[1;32mIn[2], line 1\u001b[0m\n\u001b[1;32m----> 1\u001b[0m \u001b[38;5;28;01mfrom\u001b[39;00m \u001b[38;5;21;01mwebdriver_manager\u001b[39;00m\u001b[38;5;21;01m.\u001b[39;00m\u001b[38;5;21;01mchrome\u001b[39;00m \u001b[38;5;28;01mimport\u001b[39;00m ChromeDriverManager\n\u001b[0;32m      2\u001b[0m \u001b[38;5;28;01mfrom\u001b[39;00m \u001b[38;5;21;01mselenium\u001b[39;00m\u001b[38;5;21;01m.\u001b[39;00m\u001b[38;5;21;01mwebdriver\u001b[39;00m\u001b[38;5;21;01m.\u001b[39;00m\u001b[38;5;21;01mchrome\u001b[39;00m\u001b[38;5;21;01m.\u001b[39;00m\u001b[38;5;21;01mservice\u001b[39;00m \u001b[38;5;28;01mimport\u001b[39;00m Service\n\u001b[0;32m      3\u001b[0m \u001b[38;5;28;01mfrom\u001b[39;00m \u001b[38;5;21;01mselenium\u001b[39;00m \u001b[38;5;28;01mimport\u001b[39;00m webdriver\n",
      "\u001b[1;31mModuleNotFoundError\u001b[0m: No module named 'webdriver_manager'"
     ]
    }
   ],
   "source": [
    "from webdriver_manager.chrome import ChromeDriverManager\n",
    "from selenium.webdriver.chrome.service import Service\n",
    "from selenium import webdriver\n",
    "from bs4 import BeautifulSoup\n",
    "import os"
   ]
  },
  {
   "cell_type": "code",
   "execution_count": null,
   "id": "b8e31563",
   "metadata": {},
   "outputs": [],
   "source": [
    "# pip install selenium\n",
    "# pip install webdriver_manager"
   ]
  },
  {
   "cell_type": "code",
   "execution_count": null,
   "id": "bb77ee4e",
   "metadata": {},
   "outputs": [],
   "source": [
    "# BeautifulSoup에서 보이지 않는 동적인 html 요소를 포함한 페이지\n",
    "url = 'https://finance.daum.net/domestic'\n",
    "driver = webdriver.Chrome(service=Service(ChromeDriverManager().install()))\n",
    "driver.maximize_window()\n",
    "driver.implicitly_wait(3) "
   ]
  },
  {
   "cell_type": "code",
   "execution_count": null,
   "id": "df17992f",
   "metadata": {},
   "outputs": [],
   "source": [
    "driver.get(url)\n",
    "driver.implicitly_wait(3) \n",
    "html = driver.page_source\n",
    "\n",
    "print(html)\n",
    "driver.close()"
   ]
  },
  {
   "cell_type": "code",
   "execution_count": null,
   "id": "e24236af",
   "metadata": {},
   "outputs": [],
   "source": [
    "soup=BeautifulSoup(html,'html.parser')\n",
    "print(soup)"
   ]
  },
  {
   "cell_type": "code",
   "execution_count": null,
   "id": "1b8c278f",
   "metadata": {},
   "outputs": [],
   "source": [
    "from datetime import datetime\n",
    "current_date = datetime.now().strftime('%y-%m-%d')\n",
    "current_date\n",
    "file_path = f'다음국내증시_{current_date}.html'\n",
    "if not os.path.exists(file_path):\n",
    "    with open(file_path, 'w', encoding='utf-8') as file:\n",
    "        file.write(str(soup))\n",
    "        print(\"HTML 파일이 저장되었습니다.\")"
   ]
  },
  {
   "cell_type": "markdown",
   "id": "779103c8-5a5c-4542-962d-635f0b6addf7",
   "metadata": {},
   "source": []
  },
  {
   "cell_type": "code",
   "execution_count": null,
   "id": "b51e9409-f118-40b7-a91c-ad2ce4e4c8f7",
   "metadata": {},
   "outputs": [],
   "source": []
  },
  {
   "cell_type": "code",
   "execution_count": null,
   "id": "99aa6191-7582-4ef4-b40a-c12421a8a272",
   "metadata": {},
   "outputs": [],
   "source": []
  }
 ],
 "metadata": {
  "kernelspec": {
   "display_name": "Python 3 (ipykernel)",
   "language": "python",
   "name": "python3"
  },
  "language_info": {
   "codemirror_mode": {
    "name": "ipython",
    "version": 3
   },
   "file_extension": ".py",
   "mimetype": "text/x-python",
   "name": "python",
   "nbconvert_exporter": "python",
   "pygments_lexer": "ipython3",
   "version": "3.11.7"
  }
 },
 "nbformat": 4,
 "nbformat_minor": 5
}
