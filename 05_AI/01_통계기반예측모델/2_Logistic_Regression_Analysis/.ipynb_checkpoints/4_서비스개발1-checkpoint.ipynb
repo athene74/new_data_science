{
 "cells": [
  {
   "cell_type": "markdown",
   "id": "619c6779",
   "metadata": {},
   "source": [
    "# 모델 작성"
   ]
  },
  {
   "cell_type": "code",
   "execution_count": 1,
   "id": "336f9815",
   "metadata": {},
   "outputs": [
    {
     "name": "stdout",
     "output_type": "stream",
     "text": [
      "Optimization terminated successfully.\n",
      "         Current function value: 0.324276\n",
      "         Iterations 7\n"
     ]
    }
   ],
   "source": [
    "# 목적: 로지스틱 모델을 통해 이탈 고객 예측하기\n",
    "import numpy as np\n",
    "import pandas as pd\n",
    "import statsmodels.api as sm\n",
    "\n",
    "# Read the data set into a pandas DataFrame\n",
    "churn = pd.read_csv('churn.csv', sep=',', header=0)\n",
    "\n",
    "churn.columns = [heading.lower() for heading in \\\n",
    "churn.columns.str.replace(' ', '_').str.replace(\"\\'\", \"\").str.strip('?')]\n",
    "churn['churn'] = np.where(churn['churn'] == 'True.', 1, 0)\n",
    "churn['total_charges'] = churn['day_charge'] + churn['eve_charge'] + \\\n",
    "\t\t\t\t\t\t churn['night_charge'] + churn['intl_charge']\n",
    "churn['intl_plan'] = np.where(churn['intl_plan'] == 'yes', 1, 0)\n",
    "churn['vmail_plan'] = np.where(churn['vmail_plan'] == 'yes', 1, 0)\n",
    "\n",
    "# Fit a logistic regression model\n",
    "dependent_variable = churn['churn']\n",
    "\n",
    "# R추천\n",
    "independent_variables = churn[['intl_plan', 'vmail_plan', 'vmail_message', 'day_charge', 'eve_mins', 'night_charge', 'intl_calls', 'intl_charge', 'custserv_calls']]\n",
    "# independent_variables = churn[['intl_plan', 'vmail_plan', 'vmail_message', 'day', 'eve', 'night','intl','custserv_calls','churn']]\n",
    "independent_variables_with_constant = sm.add_constant(independent_variables, prepend=True)\n",
    "logit_model = sm.Logit(dependent_variable, independent_variables_with_constant).fit()\n"
   ]
  },
  {
   "cell_type": "markdown",
   "id": "8bfe079b",
   "metadata": {},
   "source": [
    "## 모델 저장"
   ]
  },
  {
   "cell_type": "code",
   "execution_count": 2,
   "id": "8e2d9dd5",
   "metadata": {},
   "outputs": [],
   "source": [
    "import pickle\n",
    "\n",
    "with open('churn_model.pickle', 'wb') as file:\n",
    "    pickle.dump(logit_model, file)"
   ]
  },
  {
   "cell_type": "code",
   "execution_count": 3,
   "id": "797e93d7",
   "metadata": {},
   "outputs": [
    {
     "name": "stdout",
     "output_type": "stream",
     "text": [
      " D 드라이브의 볼륨에는 이름이 없습니다.\n",
      " 볼륨 일련 번호: 98F7-8A3A\n",
      "\n",
      " D:\\HKLee\\Project\\3_DataScience\\06_AI\\01_통계기반예측모델\\2_Logistic_Regression_Analysis 디렉터리\n",
      "\n",
      "2024-05-10  오후 03:56           524,947 churn_model.pickle\n",
      "               1개 파일             524,947 바이트\n",
      "               0개 디렉터리  198,515,671,040 바이트 남음\n"
     ]
    }
   ],
   "source": [
    "!dir c*.p*"
   ]
  },
  {
   "cell_type": "code",
   "execution_count": null,
   "id": "8bf98588",
   "metadata": {},
   "outputs": [],
   "source": []
  }
 ],
 "metadata": {
  "kernelspec": {
   "display_name": "Python 3 (ipykernel)",
   "language": "python",
   "name": "python3"
  },
  "language_info": {
   "codemirror_mode": {
    "name": "ipython",
    "version": 3
   },
   "file_extension": ".py",
   "mimetype": "text/x-python",
   "name": "python",
   "nbconvert_exporter": "python",
   "pygments_lexer": "ipython3",
   "version": "3.11.7"
  }
 },
 "nbformat": 4,
 "nbformat_minor": 5
}
