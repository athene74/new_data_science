{
 "cells": [
  {
   "cell_type": "markdown",
   "id": "beda8d29",
   "metadata": {},
   "source": [
    "# 날짜 인덱스를 활용하여 시계열(Time Series) 데이터 만들기"
   ]
  },
  {
   "cell_type": "code",
   "execution_count": 51,
   "id": "f0402545",
   "metadata": {},
   "outputs": [],
   "source": [
    "import pandas as pd"
   ]
  },
  {
   "cell_type": "markdown",
   "id": "5e8ed429",
   "metadata": {},
   "source": [
    "## 파일에서 읽어 올때 열을 선택하여 인덱스 지정하기"
   ]
  },
  {
   "cell_type": "markdown",
   "id": "a05a3862-db6a-4314-802e-d717d96e4551",
   "metadata": {},
   "source": [
    "* 기본설정으로 읽을 경우"
   ]
  },
  {
   "cell_type": "code",
   "execution_count": 52,
   "id": "eb7be54d-f673-4ffc-8d19-659b995ae638",
   "metadata": {},
   "outputs": [
    {
     "data": {
      "text/html": [
       "<div>\n",
       "<style scoped>\n",
       "    .dataframe tbody tr th:only-of-type {\n",
       "        vertical-align: middle;\n",
       "    }\n",
       "\n",
       "    .dataframe tbody tr th {\n",
       "        vertical-align: top;\n",
       "    }\n",
       "\n",
       "    .dataframe thead th {\n",
       "        text-align: right;\n",
       "    }\n",
       "</style>\n",
       "<table border=\"1\" class=\"dataframe\">\n",
       "  <thead>\n",
       "    <tr style=\"text-align: right;\">\n",
       "      <th></th>\n",
       "      <th>Date</th>\n",
       "      <th>한강 좌측 인도</th>\n",
       "      <th>한강 우측 인도</th>\n",
       "    </tr>\n",
       "  </thead>\n",
       "  <tbody>\n",
       "    <tr>\n",
       "      <th>0</th>\n",
       "      <td>10/03/2012 12:00:00 AM</td>\n",
       "      <td>4.0</td>\n",
       "      <td>9.0</td>\n",
       "    </tr>\n",
       "    <tr>\n",
       "      <th>1</th>\n",
       "      <td>10/03/2012 01:00:00 AM</td>\n",
       "      <td>4.0</td>\n",
       "      <td>6.0</td>\n",
       "    </tr>\n",
       "    <tr>\n",
       "      <th>2</th>\n",
       "      <td>10/03/2012 02:00:00 AM</td>\n",
       "      <td>1.0</td>\n",
       "      <td>1.0</td>\n",
       "    </tr>\n",
       "    <tr>\n",
       "      <th>3</th>\n",
       "      <td>10/03/2012 03:00:00 AM</td>\n",
       "      <td>2.0</td>\n",
       "      <td>3.0</td>\n",
       "    </tr>\n",
       "    <tr>\n",
       "      <th>4</th>\n",
       "      <td>10/03/2012 04:00:00 AM</td>\n",
       "      <td>6.0</td>\n",
       "      <td>1.0</td>\n",
       "    </tr>\n",
       "  </tbody>\n",
       "</table>\n",
       "</div>"
      ],
      "text/plain": [
       "                     Date  한강 좌측 인도  한강 우측 인도\n",
       "0  10/03/2012 12:00:00 AM       4.0       9.0\n",
       "1  10/03/2012 01:00:00 AM       4.0       6.0\n",
       "2  10/03/2012 02:00:00 AM       1.0       1.0\n",
       "3  10/03/2012 03:00:00 AM       2.0       3.0\n",
       "4  10/03/2012 04:00:00 AM       6.0       1.0"
      ]
     },
     "execution_count": 52,
     "metadata": {},
     "output_type": "execute_result"
    }
   ],
   "source": [
    "data = pd.read_csv('data/hanriver_bridge.csv', encoding='cp949')\n",
    "data.head()                        "
   ]
  },
  {
   "cell_type": "code",
   "execution_count": 73,
   "id": "f73cfa54-fa95-467c-9a1d-d530b15df373",
   "metadata": {},
   "outputs": [
    {
     "name": "stderr",
     "output_type": "stream",
     "text": [
      "C:\\Users\\user\\AppData\\Local\\Temp\\ipykernel_9416\\329595341.py:3: UserWarning: Could not infer format, so each element will be parsed individually, falling back to `dateutil`. To ensure parsing is consistent and as-expected, please specify a format.\n",
      "  data = pd.read_csv('data/hanriver_bridge.csv', index_col = 'Date', parse_dates = True, encoding='cp949')\n"
     ]
    },
    {
     "data": {
      "text/html": [
       "<div>\n",
       "<style scoped>\n",
       "    .dataframe tbody tr th:only-of-type {\n",
       "        vertical-align: middle;\n",
       "    }\n",
       "\n",
       "    .dataframe tbody tr th {\n",
       "        vertical-align: top;\n",
       "    }\n",
       "\n",
       "    .dataframe thead th {\n",
       "        text-align: right;\n",
       "    }\n",
       "</style>\n",
       "<table border=\"1\" class=\"dataframe\">\n",
       "  <thead>\n",
       "    <tr style=\"text-align: right;\">\n",
       "      <th></th>\n",
       "      <th>한강 좌측 인도</th>\n",
       "      <th>한강 우측 인도</th>\n",
       "    </tr>\n",
       "    <tr>\n",
       "      <th>Date</th>\n",
       "      <th></th>\n",
       "      <th></th>\n",
       "    </tr>\n",
       "  </thead>\n",
       "  <tbody>\n",
       "    <tr>\n",
       "      <th>2012-10-03 00:00:00</th>\n",
       "      <td>4.0</td>\n",
       "      <td>9.0</td>\n",
       "    </tr>\n",
       "    <tr>\n",
       "      <th>2012-10-03 01:00:00</th>\n",
       "      <td>4.0</td>\n",
       "      <td>6.0</td>\n",
       "    </tr>\n",
       "    <tr>\n",
       "      <th>2012-10-03 02:00:00</th>\n",
       "      <td>1.0</td>\n",
       "      <td>1.0</td>\n",
       "    </tr>\n",
       "    <tr>\n",
       "      <th>2012-10-03 03:00:00</th>\n",
       "      <td>2.0</td>\n",
       "      <td>3.0</td>\n",
       "    </tr>\n",
       "    <tr>\n",
       "      <th>2012-10-03 04:00:00</th>\n",
       "      <td>6.0</td>\n",
       "      <td>1.0</td>\n",
       "    </tr>\n",
       "  </tbody>\n",
       "</table>\n",
       "</div>"
      ],
      "text/plain": [
       "                     한강 좌측 인도  한강 우측 인도\n",
       "Date                                   \n",
       "2012-10-03 00:00:00       4.0       9.0\n",
       "2012-10-03 01:00:00       4.0       6.0\n",
       "2012-10-03 02:00:00       1.0       1.0\n",
       "2012-10-03 03:00:00       2.0       3.0\n",
       "2012-10-03 04:00:00       6.0       1.0"
      ]
     },
     "execution_count": 73,
     "metadata": {},
     "output_type": "execute_result"
    }
   ],
   "source": [
    "# index_col=[원본의 열이름] => 원본의 열을 데이터프레임에서 인덱스로 활용\n",
    "# 시계열 정보인 경우 문자열을 날짜로 변환해야 하기 때문에 parse_dates=True 옵션을 반드시 설정해야 한다.\n",
    "data = pd.read_csv('data/hanriver_bridge.csv', index_col = 'Date', parse_dates = True, encoding='cp949')\n",
    "data.head()   "
   ]
  },
  {
   "cell_type": "code",
   "execution_count": 74,
   "id": "a011f30c-43d2-4934-b5cf-8b745cf51958",
   "metadata": {},
   "outputs": [
    {
     "data": {
      "text/plain": [
       "(49608, 2)"
      ]
     },
     "execution_count": 74,
     "metadata": {},
     "output_type": "execute_result"
    }
   ],
   "source": [
    "data.shape"
   ]
  },
  {
   "cell_type": "code",
   "execution_count": 75,
   "id": "49e0bfb2-9f28-4c8f-9d54-3661f14def71",
   "metadata": {},
   "outputs": [
    {
     "name": "stdout",
     "output_type": "stream",
     "text": [
      "<class 'pandas.core.frame.DataFrame'>\n",
      "DatetimeIndex: 49608 entries, 2012-10-03 00:00:00 to 2018-05-31 23:00:00\n",
      "Data columns (total 2 columns):\n",
      " #   Column    Non-Null Count  Dtype  \n",
      "---  ------    --------------  -----  \n",
      " 0   한강 좌측 인도  49600 non-null  float64\n",
      " 1   한강 우측 인도  49600 non-null  float64\n",
      "dtypes: float64(2)\n",
      "memory usage: 1.1 MB\n"
     ]
    }
   ],
   "source": [
    "data.info()"
   ]
  },
  {
   "cell_type": "markdown",
   "id": "a27d71bd",
   "metadata": {},
   "source": [
    "## 열이름 변경하기\n",
    "* 데이터프레임으로 작업시 열이름을 통해 속성이나 메소드 호출 할수 있는 작업이 있기 때문에 공백문자는 가급적 제거한다.\n",
    "* 데이터프레임.columns = [새로운 열이름 리스트]"
   ]
  },
  {
   "cell_type": "code",
   "execution_count": 98,
   "id": "b47e280d-7109-430b-aacf-ac3305d3cc13",
   "metadata": {},
   "outputs": [
    {
     "data": {
      "text/html": [
       "<div>\n",
       "<style scoped>\n",
       "    .dataframe tbody tr th:only-of-type {\n",
       "        vertical-align: middle;\n",
       "    }\n",
       "\n",
       "    .dataframe tbody tr th {\n",
       "        vertical-align: top;\n",
       "    }\n",
       "\n",
       "    .dataframe thead th {\n",
       "        text-align: right;\n",
       "    }\n",
       "</style>\n",
       "<table border=\"1\" class=\"dataframe\">\n",
       "  <thead>\n",
       "    <tr style=\"text-align: right;\">\n",
       "      <th></th>\n",
       "      <th>좌측인도_통행자수</th>\n",
       "      <th>우측인도_통행자수</th>\n",
       "    </tr>\n",
       "    <tr>\n",
       "      <th>Date</th>\n",
       "      <th></th>\n",
       "      <th></th>\n",
       "    </tr>\n",
       "  </thead>\n",
       "  <tbody>\n",
       "    <tr>\n",
       "      <th>2012-10-03 00:00:00</th>\n",
       "      <td>4.0</td>\n",
       "      <td>9.0</td>\n",
       "    </tr>\n",
       "    <tr>\n",
       "      <th>2012-10-03 01:00:00</th>\n",
       "      <td>4.0</td>\n",
       "      <td>6.0</td>\n",
       "    </tr>\n",
       "    <tr>\n",
       "      <th>2012-10-03 02:00:00</th>\n",
       "      <td>1.0</td>\n",
       "      <td>1.0</td>\n",
       "    </tr>\n",
       "    <tr>\n",
       "      <th>2012-10-03 03:00:00</th>\n",
       "      <td>2.0</td>\n",
       "      <td>3.0</td>\n",
       "    </tr>\n",
       "    <tr>\n",
       "      <th>2012-10-03 04:00:00</th>\n",
       "      <td>6.0</td>\n",
       "      <td>1.0</td>\n",
       "    </tr>\n",
       "  </tbody>\n",
       "</table>\n",
       "</div>"
      ],
      "text/plain": [
       "                     좌측인도_통행자수  우측인도_통행자수\n",
       "Date                                     \n",
       "2012-10-03 00:00:00        4.0        9.0\n",
       "2012-10-03 01:00:00        4.0        6.0\n",
       "2012-10-03 02:00:00        1.0        1.0\n",
       "2012-10-03 03:00:00        2.0        3.0\n",
       "2012-10-03 04:00:00        6.0        1.0"
      ]
     },
     "execution_count": 98,
     "metadata": {},
     "output_type": "execute_result"
    }
   ],
   "source": [
    "data.columns = ['좌측인도_통행자수','우측인도_통행자수']\n",
    "data.head()"
   ]
  },
  {
   "cell_type": "markdown",
   "id": "65aee27d-247d-4460-abd7-10a50e3b5c50",
   "metadata": {},
   "source": [
    "* 총통행자수 열 추가하기"
   ]
  },
  {
   "cell_type": "code",
   "execution_count": 100,
   "id": "5733b246-bc94-4f37-bbfb-e2b3aeec7327",
   "metadata": {},
   "outputs": [
    {
     "data": {
      "text/html": [
       "<div>\n",
       "<style scoped>\n",
       "    .dataframe tbody tr th:only-of-type {\n",
       "        vertical-align: middle;\n",
       "    }\n",
       "\n",
       "    .dataframe tbody tr th {\n",
       "        vertical-align: top;\n",
       "    }\n",
       "\n",
       "    .dataframe thead th {\n",
       "        text-align: right;\n",
       "    }\n",
       "</style>\n",
       "<table border=\"1\" class=\"dataframe\">\n",
       "  <thead>\n",
       "    <tr style=\"text-align: right;\">\n",
       "      <th></th>\n",
       "      <th>좌측인도_통행자수</th>\n",
       "      <th>우측인도_통행자수</th>\n",
       "      <th>총통행자수</th>\n",
       "    </tr>\n",
       "    <tr>\n",
       "      <th>Date</th>\n",
       "      <th></th>\n",
       "      <th></th>\n",
       "      <th></th>\n",
       "    </tr>\n",
       "  </thead>\n",
       "  <tbody>\n",
       "    <tr>\n",
       "      <th>2012-10-03 00:00:00</th>\n",
       "      <td>4.0</td>\n",
       "      <td>9.0</td>\n",
       "      <td>13.0</td>\n",
       "    </tr>\n",
       "    <tr>\n",
       "      <th>2012-10-03 01:00:00</th>\n",
       "      <td>4.0</td>\n",
       "      <td>6.0</td>\n",
       "      <td>10.0</td>\n",
       "    </tr>\n",
       "    <tr>\n",
       "      <th>2012-10-03 02:00:00</th>\n",
       "      <td>1.0</td>\n",
       "      <td>1.0</td>\n",
       "      <td>2.0</td>\n",
       "    </tr>\n",
       "    <tr>\n",
       "      <th>2012-10-03 03:00:00</th>\n",
       "      <td>2.0</td>\n",
       "      <td>3.0</td>\n",
       "      <td>5.0</td>\n",
       "    </tr>\n",
       "    <tr>\n",
       "      <th>2012-10-03 04:00:00</th>\n",
       "      <td>6.0</td>\n",
       "      <td>1.0</td>\n",
       "      <td>7.0</td>\n",
       "    </tr>\n",
       "  </tbody>\n",
       "</table>\n",
       "</div>"
      ],
      "text/plain": [
       "                     좌측인도_통행자수  우측인도_통행자수  총통행자수\n",
       "Date                                            \n",
       "2012-10-03 00:00:00        4.0        9.0   13.0\n",
       "2012-10-03 01:00:00        4.0        6.0   10.0\n",
       "2012-10-03 02:00:00        1.0        1.0    2.0\n",
       "2012-10-03 03:00:00        2.0        3.0    5.0\n",
       "2012-10-03 04:00:00        6.0        1.0    7.0"
      ]
     },
     "execution_count": 100,
     "metadata": {},
     "output_type": "execute_result"
    }
   ],
   "source": [
    "data['총통행자수'] = data['좌측인도_통행자수'] + data['우측인도_통행자수']\n",
    "data.head()"
   ]
  },
  {
   "cell_type": "code",
   "execution_count": 102,
   "id": "c7d0509e-c465-4674-8016-cdec4e571007",
   "metadata": {},
   "outputs": [],
   "source": [
    "# data.drop(columns='총통행자수', inplace=True)\n",
    "# data"
   ]
  },
  {
   "cell_type": "markdown",
   "id": "233fcb34",
   "metadata": {},
   "source": [
    "## 결측치 확인"
   ]
  },
  {
   "cell_type": "code",
   "execution_count": 66,
   "id": "99804566-9e7d-43a7-a62c-27eb5d005cd8",
   "metadata": {},
   "outputs": [
    {
     "data": {
      "text/plain": [
       "date         0\n",
       "좌측인도_통행자수    8\n",
       "우측인도_통행자수    8\n",
       "총통행자수        8\n",
       "dtype: int64"
      ]
     },
     "execution_count": 66,
     "metadata": {},
     "output_type": "execute_result"
    }
   ],
   "source": [
    "data.isnull().sum()"
   ]
  },
  {
   "cell_type": "markdown",
   "id": "faae937c-10c9-4817-ab74-2d4e5d289fd8",
   "metadata": {},
   "source": [
    "## 결측치 처리"
   ]
  },
  {
   "cell_type": "markdown",
   "id": "2b89c834-3af0-499c-b5be-f28e0178ae04",
   "metadata": {},
   "source": [
    "* 회의 결과 결측치를 단순 삭제하기로 결정"
   ]
  },
  {
   "cell_type": "code",
   "execution_count": 67,
   "id": "c0db76f4-c74d-4cbd-ac42-6772d8608934",
   "metadata": {},
   "outputs": [
    {
     "data": {
      "text/plain": [
       "((49608, 4), (49600, 4))"
      ]
     },
     "execution_count": 67,
     "metadata": {},
     "output_type": "execute_result"
    }
   ],
   "source": [
    "data_dp = data.dropna()\n",
    "data.shape, data_dp.shape"
   ]
  },
  {
   "cell_type": "code",
   "execution_count": 69,
   "id": "b8df2d26-7e4a-4c5a-96c3-b8ac1edf0258",
   "metadata": {},
   "outputs": [
    {
     "data": {
      "text/plain": [
       "date         0\n",
       "좌측인도_통행자수    8\n",
       "우측인도_통행자수    8\n",
       "총통행자수        8\n",
       "dtype: int64"
      ]
     },
     "execution_count": 69,
     "metadata": {},
     "output_type": "execute_result"
    }
   ],
   "source": [
    "data.isnull().sum()"
   ]
  },
  {
   "cell_type": "markdown",
   "id": "cf718178",
   "metadata": {},
   "source": [
    "# 시계열 데이터 재구성"
   ]
  },
  {
   "cell_type": "markdown",
   "id": "c98fe23b",
   "metadata": {},
   "source": [
    "## 날짜 기준"
   ]
  },
  {
   "cell_type": "code",
   "execution_count": 82,
   "id": "6658cf63-c51a-4b07-84e1-772819483446",
   "metadata": {},
   "outputs": [
    {
     "data": {
      "text/html": [
       "<div>\n",
       "<style scoped>\n",
       "    .dataframe tbody tr th:only-of-type {\n",
       "        vertical-align: middle;\n",
       "    }\n",
       "\n",
       "    .dataframe tbody tr th {\n",
       "        vertical-align: top;\n",
       "    }\n",
       "\n",
       "    .dataframe thead th {\n",
       "        text-align: right;\n",
       "    }\n",
       "</style>\n",
       "<table border=\"1\" class=\"dataframe\">\n",
       "  <thead>\n",
       "    <tr style=\"text-align: right;\">\n",
       "      <th></th>\n",
       "      <th>좌측인도_통행자수</th>\n",
       "      <th>우측인도_통행자수</th>\n",
       "      <th>총통행자수</th>\n",
       "    </tr>\n",
       "    <tr>\n",
       "      <th>Date</th>\n",
       "      <th></th>\n",
       "      <th></th>\n",
       "      <th></th>\n",
       "    </tr>\n",
       "  </thead>\n",
       "  <tbody>\n",
       "    <tr>\n",
       "      <th>2012-10-03 00:00:00</th>\n",
       "      <td>4.0</td>\n",
       "      <td>9.0</td>\n",
       "      <td>13.0</td>\n",
       "    </tr>\n",
       "    <tr>\n",
       "      <th>2012-10-03 01:00:00</th>\n",
       "      <td>4.0</td>\n",
       "      <td>6.0</td>\n",
       "      <td>10.0</td>\n",
       "    </tr>\n",
       "    <tr>\n",
       "      <th>2012-10-03 02:00:00</th>\n",
       "      <td>1.0</td>\n",
       "      <td>1.0</td>\n",
       "      <td>2.0</td>\n",
       "    </tr>\n",
       "    <tr>\n",
       "      <th>2012-10-03 03:00:00</th>\n",
       "      <td>2.0</td>\n",
       "      <td>3.0</td>\n",
       "      <td>5.0</td>\n",
       "    </tr>\n",
       "    <tr>\n",
       "      <th>2012-10-03 04:00:00</th>\n",
       "      <td>6.0</td>\n",
       "      <td>1.0</td>\n",
       "      <td>7.0</td>\n",
       "    </tr>\n",
       "    <tr>\n",
       "      <th>...</th>\n",
       "      <td>...</td>\n",
       "      <td>...</td>\n",
       "      <td>...</td>\n",
       "    </tr>\n",
       "    <tr>\n",
       "      <th>2018-05-31 19:00:00</th>\n",
       "      <td>84.0</td>\n",
       "      <td>164.0</td>\n",
       "      <td>248.0</td>\n",
       "    </tr>\n",
       "    <tr>\n",
       "      <th>2018-05-31 20:00:00</th>\n",
       "      <td>27.0</td>\n",
       "      <td>93.0</td>\n",
       "      <td>120.0</td>\n",
       "    </tr>\n",
       "    <tr>\n",
       "      <th>2018-05-31 21:00:00</th>\n",
       "      <td>36.0</td>\n",
       "      <td>63.0</td>\n",
       "      <td>99.0</td>\n",
       "    </tr>\n",
       "    <tr>\n",
       "      <th>2018-05-31 22:00:00</th>\n",
       "      <td>21.0</td>\n",
       "      <td>30.0</td>\n",
       "      <td>51.0</td>\n",
       "    </tr>\n",
       "    <tr>\n",
       "      <th>2018-05-31 23:00:00</th>\n",
       "      <td>14.0</td>\n",
       "      <td>16.0</td>\n",
       "      <td>30.0</td>\n",
       "    </tr>\n",
       "  </tbody>\n",
       "</table>\n",
       "<p>49608 rows × 3 columns</p>\n",
       "</div>"
      ],
      "text/plain": [
       "                     좌측인도_통행자수  우측인도_통행자수  총통행자수\n",
       "Date                                            \n",
       "2012-10-03 00:00:00        4.0        9.0   13.0\n",
       "2012-10-03 01:00:00        4.0        6.0   10.0\n",
       "2012-10-03 02:00:00        1.0        1.0    2.0\n",
       "2012-10-03 03:00:00        2.0        3.0    5.0\n",
       "2012-10-03 04:00:00        6.0        1.0    7.0\n",
       "...                        ...        ...    ...\n",
       "2018-05-31 19:00:00       84.0      164.0  248.0\n",
       "2018-05-31 20:00:00       27.0       93.0  120.0\n",
       "2018-05-31 21:00:00       36.0       63.0   99.0\n",
       "2018-05-31 22:00:00       21.0       30.0   51.0\n",
       "2018-05-31 23:00:00       14.0       16.0   30.0\n",
       "\n",
       "[49608 rows x 3 columns]"
      ]
     },
     "execution_count": 82,
     "metadata": {},
     "output_type": "execute_result"
    }
   ],
   "source": [
    "data"
   ]
  },
  {
   "cell_type": "code",
   "execution_count": 83,
   "id": "0e04503e-4eba-4c42-afc6-418dc73dc6ea",
   "metadata": {},
   "outputs": [
    {
     "data": {
      "text/html": [
       "<div>\n",
       "<style scoped>\n",
       "    .dataframe tbody tr th:only-of-type {\n",
       "        vertical-align: middle;\n",
       "    }\n",
       "\n",
       "    .dataframe tbody tr th {\n",
       "        vertical-align: top;\n",
       "    }\n",
       "\n",
       "    .dataframe thead th {\n",
       "        text-align: right;\n",
       "    }\n",
       "</style>\n",
       "<table border=\"1\" class=\"dataframe\">\n",
       "  <thead>\n",
       "    <tr style=\"text-align: right;\">\n",
       "      <th></th>\n",
       "      <th>좌측인도_통행자수</th>\n",
       "      <th>우측인도_통행자수</th>\n",
       "      <th>총통행자수</th>\n",
       "    </tr>\n",
       "    <tr>\n",
       "      <th>Date</th>\n",
       "      <th></th>\n",
       "      <th></th>\n",
       "      <th></th>\n",
       "    </tr>\n",
       "  </thead>\n",
       "  <tbody>\n",
       "    <tr>\n",
       "      <th>2012-10-03</th>\n",
       "      <td>1760.0</td>\n",
       "      <td>1761.0</td>\n",
       "      <td>3521.0</td>\n",
       "    </tr>\n",
       "    <tr>\n",
       "      <th>2012-10-04</th>\n",
       "      <td>1708.0</td>\n",
       "      <td>1767.0</td>\n",
       "      <td>3475.0</td>\n",
       "    </tr>\n",
       "    <tr>\n",
       "      <th>2012-10-05</th>\n",
       "      <td>1558.0</td>\n",
       "      <td>1590.0</td>\n",
       "      <td>3148.0</td>\n",
       "    </tr>\n",
       "    <tr>\n",
       "      <th>2012-10-06</th>\n",
       "      <td>1080.0</td>\n",
       "      <td>926.0</td>\n",
       "      <td>2006.0</td>\n",
       "    </tr>\n",
       "    <tr>\n",
       "      <th>2012-10-07</th>\n",
       "      <td>1191.0</td>\n",
       "      <td>951.0</td>\n",
       "      <td>2142.0</td>\n",
       "    </tr>\n",
       "    <tr>\n",
       "      <th>...</th>\n",
       "      <td>...</td>\n",
       "      <td>...</td>\n",
       "      <td>...</td>\n",
       "    </tr>\n",
       "    <tr>\n",
       "      <th>2018-05-27</th>\n",
       "      <td>1240.0</td>\n",
       "      <td>1386.0</td>\n",
       "      <td>2626.0</td>\n",
       "    </tr>\n",
       "    <tr>\n",
       "      <th>2018-05-28</th>\n",
       "      <td>1121.0</td>\n",
       "      <td>1303.0</td>\n",
       "      <td>2424.0</td>\n",
       "    </tr>\n",
       "    <tr>\n",
       "      <th>2018-05-29</th>\n",
       "      <td>1731.0</td>\n",
       "      <td>2717.0</td>\n",
       "      <td>4448.0</td>\n",
       "    </tr>\n",
       "    <tr>\n",
       "      <th>2018-05-30</th>\n",
       "      <td>2024.0</td>\n",
       "      <td>3053.0</td>\n",
       "      <td>5077.0</td>\n",
       "    </tr>\n",
       "    <tr>\n",
       "      <th>2018-05-31</th>\n",
       "      <td>1842.0</td>\n",
       "      <td>2738.0</td>\n",
       "      <td>4580.0</td>\n",
       "    </tr>\n",
       "  </tbody>\n",
       "</table>\n",
       "<p>2067 rows × 3 columns</p>\n",
       "</div>"
      ],
      "text/plain": [
       "            좌측인도_통행자수  우측인도_통행자수   총통행자수\n",
       "Date                                    \n",
       "2012-10-03     1760.0     1761.0  3521.0\n",
       "2012-10-04     1708.0     1767.0  3475.0\n",
       "2012-10-05     1558.0     1590.0  3148.0\n",
       "2012-10-06     1080.0      926.0  2006.0\n",
       "2012-10-07     1191.0      951.0  2142.0\n",
       "...               ...        ...     ...\n",
       "2018-05-27     1240.0     1386.0  2626.0\n",
       "2018-05-28     1121.0     1303.0  2424.0\n",
       "2018-05-29     1731.0     2717.0  4448.0\n",
       "2018-05-30     2024.0     3053.0  5077.0\n",
       "2018-05-31     1842.0     2738.0  4580.0\n",
       "\n",
       "[2067 rows x 3 columns]"
      ]
     },
     "execution_count": 83,
     "metadata": {},
     "output_type": "execute_result"
    }
   ],
   "source": [
    "daily = data.resample('D').sum()\n",
    "daily"
   ]
  },
  {
   "cell_type": "markdown",
   "id": "fb986ea6",
   "metadata": {},
   "source": [
    "## 주 단위 "
   ]
  },
  {
   "cell_type": "code",
   "execution_count": 86,
   "id": "8c1e052a-9866-4011-aa63-061a0a6bce42",
   "metadata": {},
   "outputs": [
    {
     "data": {
      "text/html": [
       "<div>\n",
       "<style scoped>\n",
       "    .dataframe tbody tr th:only-of-type {\n",
       "        vertical-align: middle;\n",
       "    }\n",
       "\n",
       "    .dataframe tbody tr th {\n",
       "        vertical-align: top;\n",
       "    }\n",
       "\n",
       "    .dataframe thead th {\n",
       "        text-align: right;\n",
       "    }\n",
       "</style>\n",
       "<table border=\"1\" class=\"dataframe\">\n",
       "  <thead>\n",
       "    <tr style=\"text-align: right;\">\n",
       "      <th></th>\n",
       "      <th>좌측인도_통행자수</th>\n",
       "      <th>우측인도_통행자수</th>\n",
       "      <th>총통행자수</th>\n",
       "    </tr>\n",
       "    <tr>\n",
       "      <th>Date</th>\n",
       "      <th></th>\n",
       "      <th></th>\n",
       "      <th></th>\n",
       "    </tr>\n",
       "  </thead>\n",
       "  <tbody>\n",
       "    <tr>\n",
       "      <th>2012-10-07</th>\n",
       "      <td>7297.0</td>\n",
       "      <td>6995.0</td>\n",
       "      <td>14292.0</td>\n",
       "    </tr>\n",
       "    <tr>\n",
       "      <th>2012-10-14</th>\n",
       "      <td>8679.0</td>\n",
       "      <td>8116.0</td>\n",
       "      <td>16795.0</td>\n",
       "    </tr>\n",
       "    <tr>\n",
       "      <th>2012-10-21</th>\n",
       "      <td>7946.0</td>\n",
       "      <td>7563.0</td>\n",
       "      <td>15509.0</td>\n",
       "    </tr>\n",
       "    <tr>\n",
       "      <th>2012-10-28</th>\n",
       "      <td>6901.0</td>\n",
       "      <td>6536.0</td>\n",
       "      <td>13437.0</td>\n",
       "    </tr>\n",
       "    <tr>\n",
       "      <th>2012-11-04</th>\n",
       "      <td>6408.0</td>\n",
       "      <td>5786.0</td>\n",
       "      <td>12194.0</td>\n",
       "    </tr>\n",
       "    <tr>\n",
       "      <th>...</th>\n",
       "      <td>...</td>\n",
       "      <td>...</td>\n",
       "      <td>...</td>\n",
       "    </tr>\n",
       "    <tr>\n",
       "      <th>2018-05-06</th>\n",
       "      <td>11517.0</td>\n",
       "      <td>16081.0</td>\n",
       "      <td>27598.0</td>\n",
       "    </tr>\n",
       "    <tr>\n",
       "      <th>2018-05-13</th>\n",
       "      <td>11936.0</td>\n",
       "      <td>16557.0</td>\n",
       "      <td>28493.0</td>\n",
       "    </tr>\n",
       "    <tr>\n",
       "      <th>2018-05-20</th>\n",
       "      <td>12960.0</td>\n",
       "      <td>17564.0</td>\n",
       "      <td>30524.0</td>\n",
       "    </tr>\n",
       "    <tr>\n",
       "      <th>2018-05-27</th>\n",
       "      <td>12418.0</td>\n",
       "      <td>17800.0</td>\n",
       "      <td>30218.0</td>\n",
       "    </tr>\n",
       "    <tr>\n",
       "      <th>2018-06-03</th>\n",
       "      <td>6718.0</td>\n",
       "      <td>9811.0</td>\n",
       "      <td>16529.0</td>\n",
       "    </tr>\n",
       "  </tbody>\n",
       "</table>\n",
       "<p>296 rows × 3 columns</p>\n",
       "</div>"
      ],
      "text/plain": [
       "            좌측인도_통행자수  우측인도_통행자수    총통행자수\n",
       "Date                                     \n",
       "2012-10-07     7297.0     6995.0  14292.0\n",
       "2012-10-14     8679.0     8116.0  16795.0\n",
       "2012-10-21     7946.0     7563.0  15509.0\n",
       "2012-10-28     6901.0     6536.0  13437.0\n",
       "2012-11-04     6408.0     5786.0  12194.0\n",
       "...               ...        ...      ...\n",
       "2018-05-06    11517.0    16081.0  27598.0\n",
       "2018-05-13    11936.0    16557.0  28493.0\n",
       "2018-05-20    12960.0    17564.0  30524.0\n",
       "2018-05-27    12418.0    17800.0  30218.0\n",
       "2018-06-03     6718.0     9811.0  16529.0\n",
       "\n",
       "[296 rows x 3 columns]"
      ]
     },
     "execution_count": 86,
     "metadata": {},
     "output_type": "execute_result"
    }
   ],
   "source": [
    "weekly = data.resample('W').sum()\n",
    "weekly"
   ]
  },
  {
   "cell_type": "markdown",
   "id": "65538d59",
   "metadata": {},
   "source": [
    "## 월단위 "
   ]
  },
  {
   "cell_type": "code",
   "execution_count": 85,
   "id": "a203b92c-59c3-4245-b45b-28ab7ab6d79c",
   "metadata": {},
   "outputs": [
    {
     "data": {
      "text/html": [
       "<div>\n",
       "<style scoped>\n",
       "    .dataframe tbody tr th:only-of-type {\n",
       "        vertical-align: middle;\n",
       "    }\n",
       "\n",
       "    .dataframe tbody tr th {\n",
       "        vertical-align: top;\n",
       "    }\n",
       "\n",
       "    .dataframe thead th {\n",
       "        text-align: right;\n",
       "    }\n",
       "</style>\n",
       "<table border=\"1\" class=\"dataframe\">\n",
       "  <thead>\n",
       "    <tr style=\"text-align: right;\">\n",
       "      <th></th>\n",
       "      <th>좌측인도_통행자수</th>\n",
       "      <th>우측인도_통행자수</th>\n",
       "      <th>총통행자수</th>\n",
       "    </tr>\n",
       "    <tr>\n",
       "      <th>Date</th>\n",
       "      <th></th>\n",
       "      <th></th>\n",
       "      <th></th>\n",
       "    </tr>\n",
       "  </thead>\n",
       "  <tbody>\n",
       "    <tr>\n",
       "      <th>2012-10-31</th>\n",
       "      <td>33764.0</td>\n",
       "      <td>31931.0</td>\n",
       "      <td>65695.0</td>\n",
       "    </tr>\n",
       "    <tr>\n",
       "      <th>2012-11-30</th>\n",
       "      <td>26062.0</td>\n",
       "      <td>24585.0</td>\n",
       "      <td>50647.0</td>\n",
       "    </tr>\n",
       "    <tr>\n",
       "      <th>2012-12-31</th>\n",
       "      <td>18608.0</td>\n",
       "      <td>17761.0</td>\n",
       "      <td>36369.0</td>\n",
       "    </tr>\n",
       "    <tr>\n",
       "      <th>2013-01-31</th>\n",
       "      <td>22910.0</td>\n",
       "      <td>21974.0</td>\n",
       "      <td>44884.0</td>\n",
       "    </tr>\n",
       "    <tr>\n",
       "      <th>2013-02-28</th>\n",
       "      <td>25898.0</td>\n",
       "      <td>24129.0</td>\n",
       "      <td>50027.0</td>\n",
       "    </tr>\n",
       "    <tr>\n",
       "      <th>...</th>\n",
       "      <td>...</td>\n",
       "      <td>...</td>\n",
       "      <td>...</td>\n",
       "    </tr>\n",
       "    <tr>\n",
       "      <th>2018-01-31</th>\n",
       "      <td>58591.0</td>\n",
       "      <td>23879.0</td>\n",
       "      <td>82470.0</td>\n",
       "    </tr>\n",
       "    <tr>\n",
       "      <th>2018-02-28</th>\n",
       "      <td>20703.0</td>\n",
       "      <td>29974.0</td>\n",
       "      <td>50677.0</td>\n",
       "    </tr>\n",
       "    <tr>\n",
       "      <th>2018-03-31</th>\n",
       "      <td>31995.0</td>\n",
       "      <td>45289.0</td>\n",
       "      <td>77284.0</td>\n",
       "    </tr>\n",
       "    <tr>\n",
       "      <th>2018-04-30</th>\n",
       "      <td>32993.0</td>\n",
       "      <td>46954.0</td>\n",
       "      <td>79947.0</td>\n",
       "    </tr>\n",
       "    <tr>\n",
       "      <th>2018-05-31</th>\n",
       "      <td>54190.0</td>\n",
       "      <td>75623.0</td>\n",
       "      <td>129813.0</td>\n",
       "    </tr>\n",
       "  </tbody>\n",
       "</table>\n",
       "<p>68 rows × 3 columns</p>\n",
       "</div>"
      ],
      "text/plain": [
       "            좌측인도_통행자수  우측인도_통행자수     총통행자수\n",
       "Date                                      \n",
       "2012-10-31    33764.0    31931.0   65695.0\n",
       "2012-11-30    26062.0    24585.0   50647.0\n",
       "2012-12-31    18608.0    17761.0   36369.0\n",
       "2013-01-31    22910.0    21974.0   44884.0\n",
       "2013-02-28    25898.0    24129.0   50027.0\n",
       "...               ...        ...       ...\n",
       "2018-01-31    58591.0    23879.0   82470.0\n",
       "2018-02-28    20703.0    29974.0   50677.0\n",
       "2018-03-31    31995.0    45289.0   77284.0\n",
       "2018-04-30    32993.0    46954.0   79947.0\n",
       "2018-05-31    54190.0    75623.0  129813.0\n",
       "\n",
       "[68 rows x 3 columns]"
      ]
     },
     "execution_count": 85,
     "metadata": {},
     "output_type": "execute_result"
    }
   ],
   "source": [
    "monthly = data.resample('M').sum()\n",
    "monthly"
   ]
  },
  {
   "cell_type": "markdown",
   "id": "43c3e7b7",
   "metadata": {},
   "source": [
    "# 시계열 데이터 셈플링\n",
    "* 셈플링:전체 데이터 중에 구룹별 대표 데이터를 선정\n",
    "## 일단위"
   ]
  },
  {
   "cell_type": "code",
   "execution_count": 87,
   "id": "b53e922b",
   "metadata": {},
   "outputs": [
    {
     "data": {
      "text/html": [
       "<div>\n",
       "<style scoped>\n",
       "    .dataframe tbody tr th:only-of-type {\n",
       "        vertical-align: middle;\n",
       "    }\n",
       "\n",
       "    .dataframe tbody tr th {\n",
       "        vertical-align: top;\n",
       "    }\n",
       "\n",
       "    .dataframe thead th {\n",
       "        text-align: right;\n",
       "    }\n",
       "</style>\n",
       "<table border=\"1\" class=\"dataframe\">\n",
       "  <thead>\n",
       "    <tr style=\"text-align: right;\">\n",
       "      <th></th>\n",
       "      <th>좌측인도_통행자수</th>\n",
       "      <th>우측인도_통행자수</th>\n",
       "      <th>총통행자수</th>\n",
       "    </tr>\n",
       "    <tr>\n",
       "      <th>Date</th>\n",
       "      <th></th>\n",
       "      <th></th>\n",
       "      <th></th>\n",
       "    </tr>\n",
       "  </thead>\n",
       "  <tbody>\n",
       "    <tr>\n",
       "      <th>2012-10-03</th>\n",
       "      <td>4.0</td>\n",
       "      <td>9.0</td>\n",
       "      <td>13.0</td>\n",
       "    </tr>\n",
       "    <tr>\n",
       "      <th>2012-10-04</th>\n",
       "      <td>7.0</td>\n",
       "      <td>11.0</td>\n",
       "      <td>18.0</td>\n",
       "    </tr>\n",
       "    <tr>\n",
       "      <th>2012-10-05</th>\n",
       "      <td>4.0</td>\n",
       "      <td>7.0</td>\n",
       "      <td>11.0</td>\n",
       "    </tr>\n",
       "    <tr>\n",
       "      <th>2012-10-06</th>\n",
       "      <td>8.0</td>\n",
       "      <td>7.0</td>\n",
       "      <td>15.0</td>\n",
       "    </tr>\n",
       "    <tr>\n",
       "      <th>2012-10-07</th>\n",
       "      <td>6.0</td>\n",
       "      <td>5.0</td>\n",
       "      <td>11.0</td>\n",
       "    </tr>\n",
       "  </tbody>\n",
       "</table>\n",
       "</div>"
      ],
      "text/plain": [
       "            좌측인도_통행자수  우측인도_통행자수  총통행자수\n",
       "Date                                   \n",
       "2012-10-03        4.0        9.0   13.0\n",
       "2012-10-04        7.0       11.0   18.0\n",
       "2012-10-05        4.0        7.0   11.0\n",
       "2012-10-06        8.0        7.0   15.0\n",
       "2012-10-07        6.0        5.0   11.0"
      ]
     },
     "execution_count": 87,
     "metadata": {},
     "output_type": "execute_result"
    }
   ],
   "source": [
    "daily_s = data.asfreq('D')\n",
    "daily_s.head()"
   ]
  },
  {
   "cell_type": "markdown",
   "id": "d1609cba-d446-45ef-bee8-87ed2959a891",
   "metadata": {},
   "source": [
    "## 주단위"
   ]
  },
  {
   "cell_type": "code",
   "execution_count": 88,
   "id": "5a4a2126-2695-495b-bc9e-75af7ce80a6d",
   "metadata": {},
   "outputs": [
    {
     "data": {
      "text/html": [
       "<div>\n",
       "<style scoped>\n",
       "    .dataframe tbody tr th:only-of-type {\n",
       "        vertical-align: middle;\n",
       "    }\n",
       "\n",
       "    .dataframe tbody tr th {\n",
       "        vertical-align: top;\n",
       "    }\n",
       "\n",
       "    .dataframe thead th {\n",
       "        text-align: right;\n",
       "    }\n",
       "</style>\n",
       "<table border=\"1\" class=\"dataframe\">\n",
       "  <thead>\n",
       "    <tr style=\"text-align: right;\">\n",
       "      <th></th>\n",
       "      <th>좌측인도_통행자수</th>\n",
       "      <th>우측인도_통행자수</th>\n",
       "      <th>총통행자수</th>\n",
       "    </tr>\n",
       "    <tr>\n",
       "      <th>Date</th>\n",
       "      <th></th>\n",
       "      <th></th>\n",
       "      <th></th>\n",
       "    </tr>\n",
       "  </thead>\n",
       "  <tbody>\n",
       "    <tr>\n",
       "      <th>2012-10-07</th>\n",
       "      <td>6.0</td>\n",
       "      <td>5.0</td>\n",
       "      <td>11.0</td>\n",
       "    </tr>\n",
       "    <tr>\n",
       "      <th>2012-10-14</th>\n",
       "      <td>3.0</td>\n",
       "      <td>3.0</td>\n",
       "      <td>6.0</td>\n",
       "    </tr>\n",
       "    <tr>\n",
       "      <th>2012-10-21</th>\n",
       "      <td>5.0</td>\n",
       "      <td>12.0</td>\n",
       "      <td>17.0</td>\n",
       "    </tr>\n",
       "    <tr>\n",
       "      <th>2012-10-28</th>\n",
       "      <td>5.0</td>\n",
       "      <td>5.0</td>\n",
       "      <td>10.0</td>\n",
       "    </tr>\n",
       "    <tr>\n",
       "      <th>2012-11-04</th>\n",
       "      <td>7.0</td>\n",
       "      <td>11.0</td>\n",
       "      <td>18.0</td>\n",
       "    </tr>\n",
       "  </tbody>\n",
       "</table>\n",
       "</div>"
      ],
      "text/plain": [
       "            좌측인도_통행자수  우측인도_통행자수  총통행자수\n",
       "Date                                   \n",
       "2012-10-07        6.0        5.0   11.0\n",
       "2012-10-14        3.0        3.0    6.0\n",
       "2012-10-21        5.0       12.0   17.0\n",
       "2012-10-28        5.0        5.0   10.0\n",
       "2012-11-04        7.0       11.0   18.0"
      ]
     },
     "execution_count": 88,
     "metadata": {},
     "output_type": "execute_result"
    }
   ],
   "source": [
    "weekly_s = data.asfreq('W')\n",
    "weekly_s.head()"
   ]
  },
  {
   "cell_type": "markdown",
   "id": "06e4b068-77f0-4910-974d-188ac5fb3e5c",
   "metadata": {},
   "source": [
    "## 월단위"
   ]
  },
  {
   "cell_type": "code",
   "execution_count": 89,
   "id": "000c9766-cdc7-474b-b418-b67e6620b4b8",
   "metadata": {},
   "outputs": [
    {
     "data": {
      "text/html": [
       "<div>\n",
       "<style scoped>\n",
       "    .dataframe tbody tr th:only-of-type {\n",
       "        vertical-align: middle;\n",
       "    }\n",
       "\n",
       "    .dataframe tbody tr th {\n",
       "        vertical-align: top;\n",
       "    }\n",
       "\n",
       "    .dataframe thead th {\n",
       "        text-align: right;\n",
       "    }\n",
       "</style>\n",
       "<table border=\"1\" class=\"dataframe\">\n",
       "  <thead>\n",
       "    <tr style=\"text-align: right;\">\n",
       "      <th></th>\n",
       "      <th>좌측인도_통행자수</th>\n",
       "      <th>우측인도_통행자수</th>\n",
       "      <th>총통행자수</th>\n",
       "    </tr>\n",
       "    <tr>\n",
       "      <th>Date</th>\n",
       "      <th></th>\n",
       "      <th></th>\n",
       "      <th></th>\n",
       "    </tr>\n",
       "  </thead>\n",
       "  <tbody>\n",
       "    <tr>\n",
       "      <th>2012-10-31</th>\n",
       "      <td>2.0</td>\n",
       "      <td>2.0</td>\n",
       "      <td>4.0</td>\n",
       "    </tr>\n",
       "    <tr>\n",
       "      <th>2012-11-30</th>\n",
       "      <td>5.0</td>\n",
       "      <td>2.0</td>\n",
       "      <td>7.0</td>\n",
       "    </tr>\n",
       "    <tr>\n",
       "      <th>2012-12-31</th>\n",
       "      <td>1.0</td>\n",
       "      <td>0.0</td>\n",
       "      <td>1.0</td>\n",
       "    </tr>\n",
       "    <tr>\n",
       "      <th>2013-01-31</th>\n",
       "      <td>4.0</td>\n",
       "      <td>1.0</td>\n",
       "      <td>5.0</td>\n",
       "    </tr>\n",
       "    <tr>\n",
       "      <th>2013-02-28</th>\n",
       "      <td>3.0</td>\n",
       "      <td>4.0</td>\n",
       "      <td>7.0</td>\n",
       "    </tr>\n",
       "  </tbody>\n",
       "</table>\n",
       "</div>"
      ],
      "text/plain": [
       "            좌측인도_통행자수  우측인도_통행자수  총통행자수\n",
       "Date                                   \n",
       "2012-10-31        2.0        2.0    4.0\n",
       "2012-11-30        5.0        2.0    7.0\n",
       "2012-12-31        1.0        0.0    1.0\n",
       "2013-01-31        4.0        1.0    5.0\n",
       "2013-02-28        3.0        4.0    7.0"
      ]
     },
     "execution_count": 89,
     "metadata": {},
     "output_type": "execute_result"
    }
   ],
   "source": [
    "monthly_s = data.asfreq('M')\n",
    "monthly_s.head()"
   ]
  },
  {
   "cell_type": "code",
   "execution_count": null,
   "id": "80560e0b-cca1-4830-aab6-c61f524b3dbe",
   "metadata": {},
   "outputs": [],
   "source": []
  }
 ],
 "metadata": {
  "kernelspec": {
   "display_name": "Python 3 (ipykernel)",
   "language": "python",
   "name": "python3"
  },
  "language_info": {
   "codemirror_mode": {
    "name": "ipython",
    "version": 3
   },
   "file_extension": ".py",
   "mimetype": "text/x-python",
   "name": "python",
   "nbconvert_exporter": "python",
   "pygments_lexer": "ipython3",
   "version": "3.11.7"
  }
 },
 "nbformat": 4,
 "nbformat_minor": 5
}
